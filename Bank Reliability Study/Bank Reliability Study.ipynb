{
 "cells": [
  {
   "cell_type": "markdown",
   "metadata": {},
   "source": [
    "# Исследование надёжности заёмщиков\n",
    "\n",
    "На основании статистики о платежеспособности клиентов,полученной от кредитного отдела банка, требуется определить влияние семейного положения, количесва детей, уровня дохода и цели получения кредита на факт погашения кредита в срок для построения модели **кредитного скоринга**.\n",
    "\n",
    "**Цель исследования** — проверить четыре гипотезы:\n",
    "\n",
    "- Влияет ли количество детей на возврат кредита в срок;\n",
    "- Влияет ли семейное положение на возврат кредита в срок;\n",
    "- Влияет ли размер дохода на возврат кредита в срок;\n",
    "- Влияет ли цель получения кредита на возврат кредита в срок.\n",
    "    \n",
    "**Ход исследования** -\n",
    "\n",
    "Информация о заемщиках получена из файла заказчика `/datasets/data.csv`. О качестве данных ничего не известно, поэтому перед началом проверки гипотез следует провести обзор данных на предмет ошибок и их влияния на результат исследования.\n",
    "Затем, на этапе предобработки данных необходимо скорректировать ошибки, которые являются критическими, выполнить категоризацию данных и ответить на поставленные вопросы.\n",
    "\n",
    "**Описание данных:**\n",
    "\n",
    "* `children` — количество детей в семье\n",
    "* `days_employed` — общий трудовой стаж в днях\n",
    "* `dob_years` — возраст клиента в годах\n",
    "* `education` — уровень образования клиента\n",
    "* `education_id` — идентификатор уровня образования\n",
    "* `family_status` — семейное положение\n",
    "* `family_status_id` — идентификатор семейного положения\n",
    "* `gender` — пол клиента\n",
    "* `income_type` — тип занятости\n",
    "* `debt` — имел ли задолженность по возврату кредитов\n",
    "* `total_income` — ежемесячный доход\n",
    "* `purpose` — цель получения кредита\n",
    "\n",
    "    \n",
    "Этапы исследования:\n",
    "1. [Изучение общей инфорации](#general_id)\n",
    "2. [Предобработка данных](#preprocessing_id)\n",
    "- 2.1.[Обработка пропусков](#preprocessing_one_id)\n",
    "- 2.2.[Замена типа данных](#preprocessing_two_id)\n",
    "- 2.3.[Удаление дубликатов](#preprocessing_three_id)\n",
    "- 2.4.[Лемматизация](#preprocessing_four_id)\n",
    "- 2.5.[Категоризация данных](#preprocessing_five_id)\n",
    "3. [Ответы на вопросы](#answers_id)\n",
    "4. [Общий вывод](#conclusion_id)\n",
    "5. [Чек-лист готовности проекта](#list_id)"
   ]
  },
  {
   "cell_type": "markdown",
   "metadata": {},
   "source": [
    "## Изучение общей инфорации\n",
    "<a id=\"general_id\"></a>"
   ]
  },
  {
   "cell_type": "code",
   "execution_count": 1,
   "metadata": {},
   "outputs": [],
   "source": [
    "#импорт библиотеки pandas\n",
    "import pandas as pd\n",
    "# импортируем pymystem3:\n",
    "from pymystem3 import Mystem\n",
    "\n",
    "\n",
    "\n"
   ]
  },
  {
   "cell_type": "code",
   "execution_count": 2,
   "metadata": {},
   "outputs": [],
   "source": [
    "#чтение файла с данными\n",
    "data = pd.read_csv('/datasets/data.csv')"
   ]
  },
  {
   "cell_type": "code",
   "execution_count": 3,
   "metadata": {},
   "outputs": [
    {
     "data": {
      "text/html": [
       "<div>\n",
       "<style scoped>\n",
       "    .dataframe tbody tr th:only-of-type {\n",
       "        vertical-align: middle;\n",
       "    }\n",
       "\n",
       "    .dataframe tbody tr th {\n",
       "        vertical-align: top;\n",
       "    }\n",
       "\n",
       "    .dataframe thead th {\n",
       "        text-align: right;\n",
       "    }\n",
       "</style>\n",
       "<table border=\"1\" class=\"dataframe\">\n",
       "  <thead>\n",
       "    <tr style=\"text-align: right;\">\n",
       "      <th></th>\n",
       "      <th>count</th>\n",
       "      <th>mean</th>\n",
       "      <th>std</th>\n",
       "      <th>min</th>\n",
       "      <th>25%</th>\n",
       "      <th>50%</th>\n",
       "      <th>75%</th>\n",
       "      <th>max</th>\n",
       "    </tr>\n",
       "  </thead>\n",
       "  <tbody>\n",
       "    <tr>\n",
       "      <th>children</th>\n",
       "      <td>21525.0</td>\n",
       "      <td>0.538908</td>\n",
       "      <td>1.381587</td>\n",
       "      <td>-1.000000</td>\n",
       "      <td>0.000000</td>\n",
       "      <td>0.000000</td>\n",
       "      <td>1.000000</td>\n",
       "      <td>2.000000e+01</td>\n",
       "    </tr>\n",
       "    <tr>\n",
       "      <th>days_employed</th>\n",
       "      <td>19351.0</td>\n",
       "      <td>63046.497661</td>\n",
       "      <td>140827.311974</td>\n",
       "      <td>-18388.949901</td>\n",
       "      <td>-2747.423625</td>\n",
       "      <td>-1203.369529</td>\n",
       "      <td>-291.095954</td>\n",
       "      <td>4.017554e+05</td>\n",
       "    </tr>\n",
       "    <tr>\n",
       "      <th>dob_years</th>\n",
       "      <td>21525.0</td>\n",
       "      <td>43.293380</td>\n",
       "      <td>12.574584</td>\n",
       "      <td>0.000000</td>\n",
       "      <td>33.000000</td>\n",
       "      <td>42.000000</td>\n",
       "      <td>53.000000</td>\n",
       "      <td>7.500000e+01</td>\n",
       "    </tr>\n",
       "    <tr>\n",
       "      <th>education_id</th>\n",
       "      <td>21525.0</td>\n",
       "      <td>0.817236</td>\n",
       "      <td>0.548138</td>\n",
       "      <td>0.000000</td>\n",
       "      <td>1.000000</td>\n",
       "      <td>1.000000</td>\n",
       "      <td>1.000000</td>\n",
       "      <td>4.000000e+00</td>\n",
       "    </tr>\n",
       "    <tr>\n",
       "      <th>family_status_id</th>\n",
       "      <td>21525.0</td>\n",
       "      <td>0.972544</td>\n",
       "      <td>1.420324</td>\n",
       "      <td>0.000000</td>\n",
       "      <td>0.000000</td>\n",
       "      <td>0.000000</td>\n",
       "      <td>1.000000</td>\n",
       "      <td>4.000000e+00</td>\n",
       "    </tr>\n",
       "    <tr>\n",
       "      <th>debt</th>\n",
       "      <td>21525.0</td>\n",
       "      <td>0.080883</td>\n",
       "      <td>0.272661</td>\n",
       "      <td>0.000000</td>\n",
       "      <td>0.000000</td>\n",
       "      <td>0.000000</td>\n",
       "      <td>0.000000</td>\n",
       "      <td>1.000000e+00</td>\n",
       "    </tr>\n",
       "    <tr>\n",
       "      <th>total_income</th>\n",
       "      <td>19351.0</td>\n",
       "      <td>167422.302208</td>\n",
       "      <td>102971.566448</td>\n",
       "      <td>20667.263793</td>\n",
       "      <td>103053.152913</td>\n",
       "      <td>145017.937533</td>\n",
       "      <td>203435.067663</td>\n",
       "      <td>2.265604e+06</td>\n",
       "    </tr>\n",
       "  </tbody>\n",
       "</table>\n",
       "</div>"
      ],
      "text/plain": [
       "                    count           mean            std           min  \\\n",
       "children          21525.0       0.538908       1.381587     -1.000000   \n",
       "days_employed     19351.0   63046.497661  140827.311974 -18388.949901   \n",
       "dob_years         21525.0      43.293380      12.574584      0.000000   \n",
       "education_id      21525.0       0.817236       0.548138      0.000000   \n",
       "family_status_id  21525.0       0.972544       1.420324      0.000000   \n",
       "debt              21525.0       0.080883       0.272661      0.000000   \n",
       "total_income      19351.0  167422.302208  102971.566448  20667.263793   \n",
       "\n",
       "                            25%            50%            75%           max  \n",
       "children               0.000000       0.000000       1.000000  2.000000e+01  \n",
       "days_employed      -2747.423625   -1203.369529    -291.095954  4.017554e+05  \n",
       "dob_years             33.000000      42.000000      53.000000  7.500000e+01  \n",
       "education_id           1.000000       1.000000       1.000000  4.000000e+00  \n",
       "family_status_id       0.000000       0.000000       1.000000  4.000000e+00  \n",
       "debt                   0.000000       0.000000       0.000000  1.000000e+00  \n",
       "total_income      103053.152913  145017.937533  203435.067663  2.265604e+06  "
      ]
     },
     "execution_count": 3,
     "metadata": {},
     "output_type": "execute_result"
    }
   ],
   "source": [
    "data.describe().T"
   ]
  },
  {
   "cell_type": "markdown",
   "metadata": {},
   "source": [
    "В названиях колонок нарушений не выявлено.\n",
    "\n",
    "Есть следущие замечания к данным из исходной таблицы:\n",
    "* `days_employed` - наличие отрицательного трудового стажа;\n",
    "* `education` - строчные буквы сочетаются с прописными;\n",
    "* `purpose` - цели не приведены к единообразию\n"
   ]
  },
  {
   "cell_type": "markdown",
   "metadata": {},
   "source": [
    "Получаем информацию о таблице data:\n"
   ]
  },
  {
   "cell_type": "code",
   "execution_count": 4,
   "metadata": {},
   "outputs": [
    {
     "name": "stdout",
     "output_type": "stream",
     "text": [
      "<class 'pandas.core.frame.DataFrame'>\n",
      "RangeIndex: 21525 entries, 0 to 21524\n",
      "Data columns (total 12 columns):\n",
      " #   Column            Non-Null Count  Dtype  \n",
      "---  ------            --------------  -----  \n",
      " 0   children          21525 non-null  int64  \n",
      " 1   days_employed     19351 non-null  float64\n",
      " 2   dob_years         21525 non-null  int64  \n",
      " 3   education         21525 non-null  object \n",
      " 4   education_id      21525 non-null  int64  \n",
      " 5   family_status     21525 non-null  object \n",
      " 6   family_status_id  21525 non-null  int64  \n",
      " 7   gender            21525 non-null  object \n",
      " 8   income_type       21525 non-null  object \n",
      " 9   debt              21525 non-null  int64  \n",
      " 10  total_income      19351 non-null  float64\n",
      " 11  purpose           21525 non-null  object \n",
      "dtypes: float64(2), int64(5), object(5)\n",
      "memory usage: 2.0+ MB\n"
     ]
    }
   ],
   "source": [
    "data.info()"
   ]
  },
  {
   "cell_type": "markdown",
   "metadata": {},
   "source": [
    "Итак,таблица с входными данными от банка содержит 12 столбцов и 3 типа данных.\n",
    "\n",
    "Количество значений в столбцах общий трудовой стаж в днях и ежемесячный доход отличаются по сравнению с другими столбцами.\n",
    "Значит,в данных есть пропущенные значения."
   ]
  },
  {
   "cell_type": "markdown",
   "metadata": {},
   "source": [
    "\n",
    "**Вывод**"
   ]
  },
  {
   "cell_type": "markdown",
   "metadata": {},
   "source": [
    "В строках таблицы представлены входные данные о Клиентах банка. Часть колонок описывает личную информацию о Клиенте банка, такую как: \n",
    "пол,возраст,образование,количество детей,семейное положение,данные о трудовом стаже. А часть колонок содержит информацию о платежеспособности Клиента и цель получения кредита.\n",
    "\n",
    "Предварительно можно утверждать,что, данных для проверки гипотез достаточно.\n",
    "Но есть пропуски в сведениях о трудовом стаже и ежемесячном доходе,которые требуют внимания.\n",
    "\n",
    "Также,важно выявить природу появления отрицательных значений в информации об общем трудовом стаже,привести к единообразцию колонку с целью получения кредита и информации об образовании. \n"
   ]
  },
  {
   "cell_type": "markdown",
   "metadata": {},
   "source": [
    "## Предобработка данных\n",
    "<a id=\"preprocessing_id\"></a>"
   ]
  },
  {
   "cell_type": "markdown",
   "metadata": {},
   "source": [
    "### Обработка пропусков\n",
    "<a id=\"preprocessing_one_id\"></a>\n"
   ]
  },
  {
   "cell_type": "code",
   "execution_count": 5,
   "metadata": {},
   "outputs": [
    {
     "data": {
      "text/plain": [
       "children               0\n",
       "days_employed       2174\n",
       "dob_years              0\n",
       "education              0\n",
       "education_id           0\n",
       "family_status          0\n",
       "family_status_id       0\n",
       "gender                 0\n",
       "income_type            0\n",
       "debt                   0\n",
       "total_income        2174\n",
       "purpose                0\n",
       "dtype: int64"
      ]
     },
     "execution_count": 5,
     "metadata": {},
     "output_type": "execute_result"
    }
   ],
   "source": [
    "#выполним подсчет пропусков в таблице data\n",
    "data.isna().sum()\n"
   ]
  },
  {
   "cell_type": "markdown",
   "metadata": {},
   "source": [
    "Как и предполагалось ранее, пропуски обнаружены в колонках с данными о трудовом стаже и доходе сотрудников.\n",
    "Пропущено 2174 значения, что представляет собой около 10% от всей таблицы.\n",
    "\n",
    "Предположим, что для определенных типов занятости возможно не заполнять информацию о трудовом стаже и доходе."
   ]
  },
  {
   "cell_type": "code",
   "execution_count": 6,
   "metadata": {},
   "outputs": [
    {
     "name": "stdout",
     "output_type": "stream",
     "text": [
      "                 days_employed  income_type  total_income\n",
      "income_type                                              \n",
      "госслужащий                  0          147             0\n",
      "компаньон                    0          508             0\n",
      "пенсионер                    0          413             0\n",
      "предприниматель              0            1             0\n",
      "сотрудник                    0         1105             0\n"
     ]
    },
    {
     "name": "stderr",
     "output_type": "stream",
     "text": [
      "/tmp/ipykernel_123/1584623610.py:3: FutureWarning: Indexing with multiple keys (implicitly converted to a tuple of keys) will be deprecated, use a list instead.\n",
      "  link_isna_income_type = data[data['days_employed'].isna()].groupby('income_type')['days_employed','income_type','total_income'].count()\n"
     ]
    }
   ],
   "source": [
    "# проверим взаимосвязь типа занятости и пропусках в информации о трудовом стаже и доходе\n",
    "# путем группировки данных по столбцу \"тип занятости\" и выбрав нулевые значения\n",
    "link_isna_income_type = data[data['days_employed'].isna()].groupby('income_type')['days_employed','income_type','total_income'].count()\n",
    "print(link_isna_income_type.head(10))"
   ]
  },
  {
   "cell_type": "markdown",
   "metadata": {},
   "source": [
    "Возможно и не требуется заполнять трудовой стаж для наших сотрудников и пенсионеров?\n",
    "Сотрудников смогут согласовать их руководители,а пенсионеры уже заработали свой стаж.\n",
    "Сразу встает вопрос,а сколько всего типов занятости у нас есть?\n"
   ]
  },
  {
   "cell_type": "code",
   "execution_count": 7,
   "metadata": {},
   "outputs": [
    {
     "data": {
      "text/plain": [
       "сотрудник          11119\n",
       "компаньон           5085\n",
       "пенсионер           3856\n",
       "госслужащий         1459\n",
       "предприниматель        2\n",
       "безработный            2\n",
       "в декрете              1\n",
       "студент                1\n",
       "Name: income_type, dtype: int64"
      ]
     },
     "execution_count": 7,
     "metadata": {},
     "output_type": "execute_result"
    }
   ],
   "source": [
    "#выведем количество заявок на согласование кредита по типу занятости\n",
    "data['income_type'].value_counts()"
   ]
  },
  {
   "cell_type": "code",
   "execution_count": 8,
   "metadata": {},
   "outputs": [
    {
     "name": "stdout",
     "output_type": "stream",
     "text": [
      "Значение медианы по колонке стаж: -1574.2028211070854\n",
      "Значение медианы по колонке доход: 142594.39684740017\n",
      "Значение медианы по колонке стаж: 360505.66854353686\n",
      "Значение медианы по колонке доход: 128747.67556966442\n",
      "Значение медианы по колонке стаж: -1574.2028211070854\n",
      "Значение медианы по колонке доход: 162401.35155456822\n",
      "Значение медианы по колонке стаж: -2385.358043088401\n",
      "Значение медианы по колонке доход: 142594.39684740017\n",
      "Значение медианы по колонке стаж: 366413.65274420456\n",
      "Значение медианы по колонке доход: 131339.7516762103\n",
      "Значение медианы по колонке стаж: -1047.5254523012309\n",
      "Значение медианы по колонке доход: 320878.77089724294\n",
      "Значение медианы по колонке стаж: -578.7515535382181\n",
      "Значение медианы по колонке доход: 98201.62531401133\n",
      "Значение медианы по колонке стаж: -3296.7599620220594\n",
      "Значение медианы по колонке доход: 53829.13072905995\n",
      "children            0\n",
      "days_employed       0\n",
      "dob_years           0\n",
      "education           0\n",
      "education_id        0\n",
      "family_status       0\n",
      "family_status_id    0\n",
      "gender              0\n",
      "income_type         0\n",
      "debt                0\n",
      "total_income        0\n",
      "purpose             0\n",
      "dtype: int64\n"
     ]
    }
   ],
   "source": [
    "# напишем цикл, который найдет медиану по столбцу общий трудовой стаж в днях и общий доход\n",
    "# по каждому типу занятости и заполнит пропущенные значения\n",
    "\n",
    "#создадим таблицу с перечнем типов занятости \n",
    "income_type_unique = data['income_type'].unique()\n",
    "\n",
    "# зададим цикл for для элементов таблицы с типами занятости\n",
    "for i in income_type_unique:\n",
    "        #отфильтруем таблицу data по типу заянтости и выведем столбец с трудовым стажем\n",
    "        days_employed_type = data.loc[data['income_type'] == i,'days_employed']\n",
    "        # найдем медиану по столбцу трудовой стаж\n",
    "        m = days_employed_type.median()\n",
    "        # заменим все нулевые значения по столбцу трудовой стаж на значение медианы\n",
    "        data['days_employed'] = data['days_employed'].fillna(m)\n",
    "        # отфильтруем таблицу data по типу заянтости и выведем столбец с общим доходом\n",
    "        total_income_type = data.loc[data['income_type'] == i,'total_income']\n",
    "        # найдем медиану по столбцу общий доход\n",
    "        n = total_income_type.median()\n",
    "        # заменим все нулевые значения по столбцу общий доход на значение медианы\n",
    "        data['total_income'] = data['total_income'].fillna(n)\n",
    "\n",
    "#выведем результаты медиан на печать\n",
    "        print(\"Значение медианы по колонке стаж:\",m)\n",
    "        print(\"Значение медианы по колонке доход:\",n)\n",
    "#выведем результаты работы цикла на печать\n",
    "print(data.isna().sum())\n",
    "\n",
    "\n",
    "  "
   ]
  },
  {
   "cell_type": "code",
   "execution_count": 9,
   "metadata": {},
   "outputs": [
    {
     "data": {
      "text/html": [
       "<div>\n",
       "<style scoped>\n",
       "    .dataframe tbody tr th:only-of-type {\n",
       "        vertical-align: middle;\n",
       "    }\n",
       "\n",
       "    .dataframe tbody tr th {\n",
       "        vertical-align: top;\n",
       "    }\n",
       "\n",
       "    .dataframe thead th {\n",
       "        text-align: right;\n",
       "    }\n",
       "</style>\n",
       "<table border=\"1\" class=\"dataframe\">\n",
       "  <thead>\n",
       "    <tr style=\"text-align: right;\">\n",
       "      <th></th>\n",
       "      <th>children</th>\n",
       "      <th>days_employed</th>\n",
       "      <th>dob_years</th>\n",
       "      <th>education</th>\n",
       "      <th>education_id</th>\n",
       "      <th>family_status</th>\n",
       "      <th>family_status_id</th>\n",
       "      <th>gender</th>\n",
       "      <th>income_type</th>\n",
       "      <th>debt</th>\n",
       "      <th>total_income</th>\n",
       "      <th>purpose</th>\n",
       "    </tr>\n",
       "  </thead>\n",
       "  <tbody>\n",
       "    <tr>\n",
       "      <th>0</th>\n",
       "      <td>1</td>\n",
       "      <td>0.000000</td>\n",
       "      <td>42</td>\n",
       "      <td>высшее</td>\n",
       "      <td>0</td>\n",
       "      <td>женат / замужем</td>\n",
       "      <td>0</td>\n",
       "      <td>F</td>\n",
       "      <td>сотрудник</td>\n",
       "      <td>0</td>\n",
       "      <td>253875.639453</td>\n",
       "      <td>покупка жилья</td>\n",
       "    </tr>\n",
       "    <tr>\n",
       "      <th>1</th>\n",
       "      <td>1</td>\n",
       "      <td>0.000000</td>\n",
       "      <td>36</td>\n",
       "      <td>среднее</td>\n",
       "      <td>1</td>\n",
       "      <td>женат / замужем</td>\n",
       "      <td>0</td>\n",
       "      <td>F</td>\n",
       "      <td>сотрудник</td>\n",
       "      <td>0</td>\n",
       "      <td>112080.014102</td>\n",
       "      <td>приобретение автомобиля</td>\n",
       "    </tr>\n",
       "    <tr>\n",
       "      <th>2</th>\n",
       "      <td>0</td>\n",
       "      <td>0.000000</td>\n",
       "      <td>33</td>\n",
       "      <td>Среднее</td>\n",
       "      <td>1</td>\n",
       "      <td>женат / замужем</td>\n",
       "      <td>0</td>\n",
       "      <td>M</td>\n",
       "      <td>сотрудник</td>\n",
       "      <td>0</td>\n",
       "      <td>145885.952297</td>\n",
       "      <td>покупка жилья</td>\n",
       "    </tr>\n",
       "    <tr>\n",
       "      <th>3</th>\n",
       "      <td>3</td>\n",
       "      <td>0.000000</td>\n",
       "      <td>32</td>\n",
       "      <td>среднее</td>\n",
       "      <td>1</td>\n",
       "      <td>женат / замужем</td>\n",
       "      <td>0</td>\n",
       "      <td>M</td>\n",
       "      <td>сотрудник</td>\n",
       "      <td>0</td>\n",
       "      <td>267628.550329</td>\n",
       "      <td>дополнительное образование</td>\n",
       "    </tr>\n",
       "    <tr>\n",
       "      <th>4</th>\n",
       "      <td>0</td>\n",
       "      <td>340266.072047</td>\n",
       "      <td>53</td>\n",
       "      <td>среднее</td>\n",
       "      <td>1</td>\n",
       "      <td>гражданский брак</td>\n",
       "      <td>1</td>\n",
       "      <td>F</td>\n",
       "      <td>пенсионер</td>\n",
       "      <td>0</td>\n",
       "      <td>158616.077870</td>\n",
       "      <td>сыграть свадьбу</td>\n",
       "    </tr>\n",
       "    <tr>\n",
       "      <th>5</th>\n",
       "      <td>0</td>\n",
       "      <td>0.000000</td>\n",
       "      <td>27</td>\n",
       "      <td>высшее</td>\n",
       "      <td>0</td>\n",
       "      <td>гражданский брак</td>\n",
       "      <td>1</td>\n",
       "      <td>M</td>\n",
       "      <td>компаньон</td>\n",
       "      <td>0</td>\n",
       "      <td>255763.565419</td>\n",
       "      <td>покупка жилья</td>\n",
       "    </tr>\n",
       "    <tr>\n",
       "      <th>6</th>\n",
       "      <td>0</td>\n",
       "      <td>0.000000</td>\n",
       "      <td>43</td>\n",
       "      <td>высшее</td>\n",
       "      <td>0</td>\n",
       "      <td>женат / замужем</td>\n",
       "      <td>0</td>\n",
       "      <td>F</td>\n",
       "      <td>компаньон</td>\n",
       "      <td>0</td>\n",
       "      <td>240525.971920</td>\n",
       "      <td>операции с жильем</td>\n",
       "    </tr>\n",
       "    <tr>\n",
       "      <th>7</th>\n",
       "      <td>0</td>\n",
       "      <td>0.000000</td>\n",
       "      <td>50</td>\n",
       "      <td>СРЕДНЕЕ</td>\n",
       "      <td>1</td>\n",
       "      <td>женат / замужем</td>\n",
       "      <td>0</td>\n",
       "      <td>M</td>\n",
       "      <td>сотрудник</td>\n",
       "      <td>0</td>\n",
       "      <td>135823.934197</td>\n",
       "      <td>образование</td>\n",
       "    </tr>\n",
       "    <tr>\n",
       "      <th>8</th>\n",
       "      <td>2</td>\n",
       "      <td>0.000000</td>\n",
       "      <td>35</td>\n",
       "      <td>ВЫСШЕЕ</td>\n",
       "      <td>0</td>\n",
       "      <td>гражданский брак</td>\n",
       "      <td>1</td>\n",
       "      <td>F</td>\n",
       "      <td>сотрудник</td>\n",
       "      <td>0</td>\n",
       "      <td>95856.832424</td>\n",
       "      <td>на проведение свадьбы</td>\n",
       "    </tr>\n",
       "    <tr>\n",
       "      <th>9</th>\n",
       "      <td>0</td>\n",
       "      <td>0.000000</td>\n",
       "      <td>41</td>\n",
       "      <td>среднее</td>\n",
       "      <td>1</td>\n",
       "      <td>женат / замужем</td>\n",
       "      <td>0</td>\n",
       "      <td>M</td>\n",
       "      <td>сотрудник</td>\n",
       "      <td>0</td>\n",
       "      <td>144425.938277</td>\n",
       "      <td>покупка жилья для семьи</td>\n",
       "    </tr>\n",
       "  </tbody>\n",
       "</table>\n",
       "</div>"
      ],
      "text/plain": [
       "   children  days_employed  dob_years education  education_id  \\\n",
       "0         1       0.000000         42    высшее             0   \n",
       "1         1       0.000000         36   среднее             1   \n",
       "2         0       0.000000         33   Среднее             1   \n",
       "3         3       0.000000         32   среднее             1   \n",
       "4         0  340266.072047         53   среднее             1   \n",
       "5         0       0.000000         27    высшее             0   \n",
       "6         0       0.000000         43    высшее             0   \n",
       "7         0       0.000000         50   СРЕДНЕЕ             1   \n",
       "8         2       0.000000         35    ВЫСШЕЕ             0   \n",
       "9         0       0.000000         41   среднее             1   \n",
       "\n",
       "      family_status  family_status_id gender income_type  debt   total_income  \\\n",
       "0   женат / замужем                 0      F   сотрудник     0  253875.639453   \n",
       "1   женат / замужем                 0      F   сотрудник     0  112080.014102   \n",
       "2   женат / замужем                 0      M   сотрудник     0  145885.952297   \n",
       "3   женат / замужем                 0      M   сотрудник     0  267628.550329   \n",
       "4  гражданский брак                 1      F   пенсионер     0  158616.077870   \n",
       "5  гражданский брак                 1      M   компаньон     0  255763.565419   \n",
       "6   женат / замужем                 0      F   компаньон     0  240525.971920   \n",
       "7   женат / замужем                 0      M   сотрудник     0  135823.934197   \n",
       "8  гражданский брак                 1      F   сотрудник     0   95856.832424   \n",
       "9   женат / замужем                 0      M   сотрудник     0  144425.938277   \n",
       "\n",
       "                      purpose  \n",
       "0               покупка жилья  \n",
       "1     приобретение автомобиля  \n",
       "2               покупка жилья  \n",
       "3  дополнительное образование  \n",
       "4             сыграть свадьбу  \n",
       "5               покупка жилья  \n",
       "6           операции с жильем  \n",
       "7                 образование  \n",
       "8       на проведение свадьбы  \n",
       "9     покупка жилья для семьи  "
      ]
     },
     "metadata": {},
     "output_type": "display_data"
    }
   ],
   "source": [
    "\n",
    "#так как по колонке стаж часть значениий медианы меньше 0,заменим их на 0\n",
    "\n",
    "for el in data['days_employed']:\n",
    "    if el < 0:\n",
    "        data['days_employed'] = data['days_employed'].replace(el,0)\n",
    "#выведем результаты работы цикла на печать   \n",
    " \n",
    "display(data.head(10))\n",
    "        \n",
    "\n",
    "        \n"
   ]
  },
  {
   "cell_type": "markdown",
   "metadata": {},
   "source": [
    "**Вывод**\n",
    "\n",
    "Исходя из общего количества заявок,видно,что данных о стаже и доходе не хватает примерно около 10% по каждому типу занятости. Предположим,что информацию о сотрудниках получают при связи с линейным руководителем сотрудника для согласования.\n",
    "Стаж по пенсионерам нам не важен,но неплохо было бы видеть доход.\n",
    "Таким образом, у нас не заполнено около 10% данных о стаже и доходе, несмотря на это,вернемся к цели нашего исследования.\n",
    "Цель - выявить зависимость между количеством детей,семейным положением и фактом погашения кредита в срок,\n",
    "поэтому если мы выполним замену пропущенных значений на значения медианы, наши данные не пострадают.\n",
    "Так как речь идет о таких показателях как сумма дохода и данные об общем трудовом стаже замена данных на 0 даст еще большую погрешность,если бы таких пропусков у нас было около 1%, отклонения были бы несущественны и можно смело менять их на 0.\n",
    "Но значение медианы по колонке общий трудовой стаж меньше 0, поэтому в этом случае мы вынуждены заменить их на 0.\n",
    "\n"
   ]
  },
  {
   "cell_type": "markdown",
   "metadata": {},
   "source": []
  },
  {
   "cell_type": "markdown",
   "metadata": {},
   "source": [
    "### Замена типа данных\n",
    "<a id=\"preprocessing_two_id\"></a>"
   ]
  },
  {
   "cell_type": "code",
   "execution_count": 10,
   "metadata": {},
   "outputs": [
    {
     "name": "stdout",
     "output_type": "stream",
     "text": [
      "<class 'pandas.core.frame.DataFrame'>\n",
      "RangeIndex: 21525 entries, 0 to 21524\n",
      "Data columns (total 12 columns):\n",
      " #   Column            Non-Null Count  Dtype \n",
      "---  ------            --------------  ----- \n",
      " 0   children          21525 non-null  int64 \n",
      " 1   days_employed     21525 non-null  int64 \n",
      " 2   dob_years         21525 non-null  int64 \n",
      " 3   education         21525 non-null  object\n",
      " 4   education_id      21525 non-null  int64 \n",
      " 5   family_status     21525 non-null  object\n",
      " 6   family_status_id  21525 non-null  int64 \n",
      " 7   gender            21525 non-null  object\n",
      " 8   income_type       21525 non-null  object\n",
      " 9   debt              21525 non-null  int64 \n",
      " 10  total_income      21525 non-null  int64 \n",
      " 11  purpose           21525 non-null  object\n",
      "dtypes: int64(7), object(5)\n",
      "memory usage: 11.7 MB\n",
      "Average memory usage for float columns: 0.00 MB\n",
      "Average memory usage for int columns: 0.14 MB\n",
      "Average memory usage for object columns: 1.76 MB\n"
     ]
    }
   ],
   "source": [
    "\n",
    "# заменим вещественный тип данных на числовой методом astype заменив исходный столбец\n",
    "data['days_employed'] = data['days_employed'].astype('int64')\n",
    "data['total_income'] = data['total_income'].astype('int64')\n",
    "\n",
    "# проверим,что получилось\n",
    "data.info(memory_usage='deep')\n",
    "\n",
    "#Так как данные разных типов хранятся раздельно, мы исследуем использование памяти разными типами данных.\n",
    "#Начнём со среднего показателя использования памяти по разным типам данных.\n",
    "for dtype in ['float','int','object']:\n",
    "    selected_dtype = data.select_dtypes(include=[dtype])\n",
    "    mean_usage_b = selected_dtype.memory_usage(deep=True).mean()\n",
    "    mean_usage_mb = mean_usage_b / 1024 ** 2\n",
    "    print(\"Average memory usage for {} columns: {:03.2f} MB\".format(dtype,mean_usage_mb))\n",
    "\n"
   ]
  },
  {
   "cell_type": "code",
   "execution_count": 11,
   "metadata": {},
   "outputs": [
    {
     "name": "stdout",
     "output_type": "stream",
     "text": [
      "<class 'pandas.core.frame.DataFrame'>\n",
      "RangeIndex: 21525 entries, 0 to 21524\n",
      "Data columns (total 12 columns):\n",
      " #   Column            Non-Null Count  Dtype   \n",
      "---  ------            --------------  -----   \n",
      " 0   children          21525 non-null  int32   \n",
      " 1   days_employed     21525 non-null  int32   \n",
      " 2   dob_years         21525 non-null  int32   \n",
      " 3   education         21525 non-null  category\n",
      " 4   education_id      21525 non-null  int32   \n",
      " 5   family_status     21525 non-null  category\n",
      " 6   family_status_id  21525 non-null  int32   \n",
      " 7   gender            21525 non-null  category\n",
      " 8   income_type       21525 non-null  category\n",
      " 9   debt              21525 non-null  int32   \n",
      " 10  total_income      21525 non-null  int32   \n",
      " 11  purpose           21525 non-null  category\n",
      "dtypes: category(5), int32(7)\n",
      "memory usage: 705.9 KB\n",
      "None\n"
     ]
    }
   ],
   "source": [
    "# заменим вещественный тип данных на числовой методом astype заменив исходный столбец\n",
    "for dtype in ['int']:\n",
    "    selected_dtype = data.select_dtypes(include=[dtype])\n",
    "    selected_dtype_column = selected_dtype.columns\n",
    "    for i in selected_dtype_column:\n",
    "        data[i] = data[i].astype('int32')\n",
    "\n",
    "\n",
    "#заменим object на category\n",
    "\n",
    "for dtype in ['object']:\n",
    "    selected_dtype = data.select_dtypes(include=[dtype])\n",
    "    selected_dtype_column = selected_dtype.columns\n",
    "    for i in selected_dtype_column:\n",
    "        data[i] = data[i].astype('category')\n",
    "print(data.info(memory_usage='deep'))\n"
   ]
  },
  {
   "cell_type": "markdown",
   "metadata": {},
   "source": [
    "**Вывод**\n",
    "Для того,чтобы сделать правильные выводы требуется увидеть закономерность.\n",
    "Заметить ее значительно легче при отсутствии лишних сведений.\n",
    "Стаж измеряется в днях,а сумму дохода можно округлить до целого числа.\n",
    "\n",
    "\n"
   ]
  },
  {
   "cell_type": "markdown",
   "metadata": {},
   "source": []
  },
  {
   "cell_type": "markdown",
   "metadata": {},
   "source": [
    "### Обработка дубликатов\n",
    "<a id=\"preprocessing_three_id\"></a>"
   ]
  },
  {
   "cell_type": "code",
   "execution_count": 12,
   "metadata": {},
   "outputs": [
    {
     "data": {
      "text/plain": [
       "0"
      ]
     },
     "execution_count": 12,
     "metadata": {},
     "output_type": "execute_result"
    }
   ],
   "source": [
    "#в столбце education приведем строки к нижнему регистру\n",
    "data['education'] = data['education'].str.lower()\n",
    "\n",
    "#проверим таблицу на наличие дубликатов\n",
    "data.duplicated().sum()\n",
    "\n",
    "# удалим дубликаты\n",
    "data = data.drop_duplicates().reset_index(drop = True)\n",
    "\n",
    "#проверим таблицу на наличие дубликатов\n",
    "data.duplicated().sum()\n",
    "                "
   ]
  },
  {
   "cell_type": "markdown",
   "metadata": {},
   "source": [
    "**Вывод**\n",
    "    Перед обаботкой дубликатов данные были приведены к единообразию путем приведения информации об образовании к нижнему регистру. Дубликаты удалены методом data.drop_duplicates() так как у нас нет уникальных занчений в столбцах и мы принимаем за уникальное значение всю строку. При проверке были обнаружены дублирующиеся строки в количестве 71 шт. Возможно при заполнении формы Клиенты отправили заявку дважды."
   ]
  },
  {
   "cell_type": "markdown",
   "metadata": {},
   "source": []
  },
  {
   "cell_type": "markdown",
   "metadata": {},
   "source": [
    "### Лемматизация\n",
    "<a id=\"preprocessing_four_id\"></a>"
   ]
  },
  {
   "cell_type": "code",
   "execution_count": 13,
   "metadata": {},
   "outputs": [
    {
     "name": "stdout",
     "output_type": "stream",
     "text": [
      "children [ 1  0  3  2 -1  4 20  5]\n",
      "days_employed [     0 340266 400281 ... 362161 373995 343937]\n",
      "dob_years [42 36 33 32 53 27 43 50 35 41 40 65 54 56 26 48 24 21 57 67 28 63 62 47\n",
      " 34 68 25 31 30 20 49 37 45 61 64 44 52 46 23 38 39 51  0 59 29 60 55 58\n",
      " 71 22 73 66 69 19 72 70 74 75]\n",
      "education ['высшее' 'среднее' 'неоконченное высшее' 'начальное' 'ученая степень']\n",
      "education_id [0 1 2 3 4]\n",
      "family_status ['женат / замужем', 'гражданский брак', 'вдовец / вдова', 'в разводе', 'Не женат / не замужем']\n",
      "Categories (5, object): ['женат / замужем', 'гражданский брак', 'вдовец / вдова', 'в разводе', 'Не женат / не замужем']\n",
      "family_status_id [0 1 2 3 4]\n",
      "gender ['F', 'M', 'XNA']\n",
      "Categories (3, object): ['F', 'M', 'XNA']\n",
      "income_type ['сотрудник', 'пенсионер', 'компаньон', 'госслужащий', 'безработный', 'предприниматель', 'студент', 'в декрете']\n",
      "Categories (8, object): ['сотрудник', 'пенсионер', 'компаньон', 'госслужащий', 'безработный', 'предприниматель', 'студент', 'в декрете']\n",
      "debt [0 1]\n",
      "total_income [253875 112080 145885 ...  89672 244093  82047]\n",
      "purpose ['покупка жилья', 'приобретение автомобиля', 'дополнительное образование', 'сыграть свадьбу', 'операции с жильем', ..., 'высшее образование', 'покупка жилья для сдачи', 'на покупку автомобиля', 'ремонт жилью', 'заняться высшим образованием']\n",
      "Length: 38\n",
      "Categories (38, object): ['покупка жилья', 'приобретение автомобиля', 'дополнительное образование', 'сыграть свадьбу', ..., 'покупка жилья для сдачи', 'на покупку автомобиля', 'ремонт жилью', 'заняться высшим образованием']\n"
     ]
    }
   ],
   "source": [
    "#выведем уникальные значения для столбцов\n",
    "for i in data.columns:\n",
    "    unique = data[i].unique()\n",
    "    print(i, unique)\n",
    "    \n",
    "\n"
   ]
  },
  {
   "cell_type": "code",
   "execution_count": 14,
   "metadata": {},
   "outputs": [],
   "source": [
    "purpose_unique = data['purpose'].unique()\n",
    "\n",
    "m = Mystem()\n",
    "\n",
    "# создадим функцию по созданию категории для цели\n",
    "def create_category_purpose(row):\n",
    "    lem_purpose = m.lemmatize(row['purpose'])\n",
    "    if 'автомобиль' in lem_purpose:\n",
    "        return 'автомобиль'\n",
    "    if ('жилье' in lem_purpose) or ('недвижимость' in lem_purpose):\n",
    "        return 'недвижимость'\n",
    "    if 'образование' in lem_purpose:\n",
    "        return 'образование'\n",
    "    if 'свадьба' in lem_purpose:\n",
    "        return'свадьба'\n",
    "\n",
    "\n",
    "       "
   ]
  },
  {
   "cell_type": "markdown",
   "metadata": {},
   "source": [
    "**Вывод**\n",
    "\n",
    "Применение лемматизации потребовалось только к столбцу цели.\n",
    "Все цели можно отнести к 4 категориям: недвижимость, приобретение автомобиля, оплата образования, организация свадебного мероприятия.\n",
    "Для определения категорий была создана функция create_category_purpose.\n",
    "Данная функция создана с использованием функции lemmatize, которая определеяет ячейку,где указана основа слова наименования категории.\n",
    "\n"
   ]
  },
  {
   "cell_type": "markdown",
   "metadata": {},
   "source": []
  },
  {
   "cell_type": "markdown",
   "metadata": {},
   "source": [
    "### Категоризация данных\n",
    "<a id=\"preprocessing_five_id\"></a>"
   ]
  },
  {
   "cell_type": "code",
   "execution_count": 15,
   "metadata": {},
   "outputs": [
    {
     "name": "stdout",
     "output_type": "stream",
     "text": [
      "недвижимость    10811\n",
      "автомобиль       4306\n",
      "образование      4013\n",
      "свадьба          2324\n",
      "Name: purpose_category, dtype: int64\n",
      "21454\n"
     ]
    }
   ],
   "source": [
    "#применим функцию и создадим столбец с категорией по цели\n",
    "data['purpose_category'] = data.apply(create_category_purpose,axis=1)\n",
    "\n",
    "#проверим все ли категории присвоены\n",
    "print(data['purpose_category'].value_counts())\n",
    "print(data['purpose_category'].count())"
   ]
  },
  {
   "cell_type": "code",
   "execution_count": 16,
   "metadata": {},
   "outputs": [
    {
     "name": "stdout",
     "output_type": "stream",
     "text": [
      "Число клиентов с 20 детьми: 76\n"
     ]
    }
   ],
   "source": [
    "# проверим количество клиентов с 20 детьми\n",
    "print(\"Число клиентов с 20 детьми:\",data[data['children'] == 20]['children'].count())\n",
    "\n",
    "# заменим отрицательное значение в столбце дети\n",
    "data['children'] = data['children'].replace(-1,1)\n"
   ]
  },
  {
   "cell_type": "code",
   "execution_count": 17,
   "metadata": {},
   "outputs": [
    {
     "name": "stdout",
     "output_type": "stream",
     "text": [
      "['пенсионер', 'безработный']\n",
      "Categories (2, object): ['пенсионер', 'безработный']\n",
      "   children  days_employed  dob_years education  education_id  \\\n",
      "0         1              0         42    высшее             0   \n",
      "1         1              0         36   среднее             1   \n",
      "2         0              0         33   среднее             1   \n",
      "3         3              0         32   среднее             1   \n",
      "4         0              0         53   среднее             1   \n",
      "5         0              0         27    высшее             0   \n",
      "6         0              0         43    высшее             0   \n",
      "7         0              0         50   среднее             1   \n",
      "8         2              0         35    высшее             0   \n",
      "9         0              0         41   среднее             1   \n",
      "\n",
      "      family_status  family_status_id gender income_type  debt  total_income  \\\n",
      "0   женат / замужем                 0      F   сотрудник     0        253875   \n",
      "1   женат / замужем                 0      F   сотрудник     0        112080   \n",
      "2   женат / замужем                 0      M   сотрудник     0        145885   \n",
      "3   женат / замужем                 0      M   сотрудник     0        267628   \n",
      "4  гражданский брак                 1      F   пенсионер     0        158616   \n",
      "5  гражданский брак                 1      M   компаньон     0        255763   \n",
      "6   женат / замужем                 0      F   компаньон     0        240525   \n",
      "7   женат / замужем                 0      M   сотрудник     0        135823   \n",
      "8  гражданский брак                 1      F   сотрудник     0         95856   \n",
      "9   женат / замужем                 0      M   сотрудник     0        144425   \n",
      "\n",
      "                      purpose purpose_category  \n",
      "0               покупка жилья     недвижимость  \n",
      "1     приобретение автомобиля       автомобиль  \n",
      "2               покупка жилья     недвижимость  \n",
      "3  дополнительное образование      образование  \n",
      "4             сыграть свадьбу          свадьба  \n",
      "5               покупка жилья     недвижимость  \n",
      "6           операции с жильем     недвижимость  \n",
      "7                 образование      образование  \n",
      "8       на проведение свадьбы          свадьба  \n",
      "9     покупка жилья для семьи     недвижимость  \n"
     ]
    },
    {
     "data": {
      "text/plain": [
       "array([ 0, 19, 20, 21, 22, 23, 24, 25, 26, 27, 28, 29, 30, 31, 32, 33, 34,\n",
       "       35, 36, 37, 38, 39, 40, 41, 42, 43, 44, 45, 46, 47, 48, 49, 50, 51,\n",
       "       52, 53, 54, 55, 56, 57, 58, 59, 60, 61, 62, 63, 64, 65, 66, 67, 68,\n",
       "       69, 70, 71, 72, 73, 74, 75], dtype=int32)"
      ]
     },
     "execution_count": 17,
     "metadata": {},
     "output_type": "execute_result"
    }
   ],
   "source": [
    "#уточним максимальный стаж для наших клиентов (по законодательству РФ минимальный возраст для начала трудовой деятельности 14 лет)\n",
    "max_days_employed = (data['dob_years'].max()-14)*365\n",
    "\n",
    "#отфильтруем таблицу по значению стажа, который превышает допустимо возможный стаж\n",
    "data_type = data[data['days_employed'] >= max_days_employed]\n",
    "\n",
    "#узнаем по каким типам заложен нереальный стаж\n",
    "print(data_type['income_type'].unique())\n",
    "\n",
    "#так как это та группа по которой скорее всего стаж не влияет на задолженность по кредиту,заменим их на 0\n",
    "\n",
    "for el in data['days_employed']:\n",
    "    if el >= max_days_employed:\n",
    "        data['days_employed'] = data['days_employed'].replace(el,0)\n",
    "#выведем результаты работы цикла на печать   \n",
    " \n",
    "print(data.head(10))\n",
    "\n",
    "#проверим уникальные значения по возрасту с применением сортировки\n",
    "data.sort_values(by = 'dob_years')['dob_years'].unique()\n",
    "\n"
   ]
  },
  {
   "cell_type": "code",
   "execution_count": 18,
   "metadata": {},
   "outputs": [
    {
     "name": "stdout",
     "output_type": "stream",
     "text": [
      "       children  days_employed  dob_years            education  education_id  \\\n",
      "10684         0              0         24  неоконченное высшее             2   \n",
      "\n",
      "          family_status  family_status_id gender income_type  debt  \\\n",
      "10684  гражданский брак                 1    XNA   компаньон     0   \n",
      "\n",
      "       total_income               purpose purpose_category  \n",
      "10684        203905  покупка недвижимости     недвижимость  \n"
     ]
    }
   ],
   "source": [
    "# проверим,что же случилось с полом и выведем строки со значением 'XNA' в столбце gender\n",
    "print(data[data['gender'] == 'XNA'])"
   ]
  },
  {
   "cell_type": "code",
   "execution_count": 19,
   "metadata": {},
   "outputs": [
    {
     "name": "stdout",
     "output_type": "stream",
     "text": [
      "2    7807\n",
      "4    5066\n",
      "3    4118\n",
      "1    4091\n",
      "0     372\n",
      "Name: total_income_category, dtype: int64\n"
     ]
    }
   ],
   "source": [
    "def category_total_income(row):\n",
    "    if row <= 50000:\n",
    "        return 0\n",
    "    if row <= 100000:\n",
    "        return 1\n",
    "    if row <= 150000:\n",
    "        return 2\n",
    "    if row <= 200000:\n",
    "        return 3\n",
    "    else:\n",
    "        return 4\n",
    "    \n",
    "data['total_income_category'] = data['total_income'].apply(category_total_income)\n",
    "\n",
    "print(data['total_income_category'].value_counts())\n",
    "\n",
    "    \n",
    "\n"
   ]
  },
  {
   "cell_type": "markdown",
   "metadata": {},
   "source": [
    "**Вывод**"
   ]
  },
  {
   "cell_type": "markdown",
   "metadata": {},
   "source": [
    "   Для проведения анализа требуется отнести анализируемые данные к категориям, для того, чтобы можно было определить зависимость изменения анализируемого элемента от категории.\n",
    "В данном исследовании необходимо определить зависимость между возвратом кредита в срок и:\n",
    "* `наличием детей`\n",
    "* `семейным пложением`\n",
    "* `уровнем дохода`\n",
    "* `целью получения кредита`\n",
    "\n",
    "  \n",
    "Наличие детей и семейное положение не требует доп. категорий, так как их довольно немного.\n",
    "Для уровня дохода было создано 5 категорий.\n",
    "* `0 - доход до 50 000 руб.`\n",
    "* `1 - доход от 50 001 - 100 000 руб.`\n",
    "* `2 - доход от 100 001 - 150 000 руб.`\n",
    "* `3 - доход от 150 001 - 200 000 руб. `\n",
    "* `4 - доход от 200 001 руб. и выше `\n",
    "\n",
    "На основании созданных категорий можно сделать вывод, что основная масса Клиентов получает кредит на приобретение или ремонт недвижимости, менее на приобретение авто, чуть реже на образование и очень редко на проведение свадьбы.\n",
    "\n",
    "По доходам большая часть наших Клиентов получает доход в размере от 100-150 тыс. руб., меньше Клиентов с доходом более 200 тыс. руб., и реже обращаются клиенты с доходом от 150 - 200 и 50 - 100 тыс. руб., Клиентов с доходом до 50 тыс. руб. совсем мало."
   ]
  },
  {
   "cell_type": "markdown",
   "metadata": {},
   "source": [
    "## Ответьте на вопросы\n",
    "<a id=\"answers_id\"></a>"
   ]
  },
  {
   "cell_type": "markdown",
   "metadata": {},
   "source": [
    "- Есть ли зависимость между наличием детей и возвратом кредита в срок?"
   ]
  },
  {
   "cell_type": "code",
   "execution_count": 20,
   "metadata": {},
   "outputs": [
    {
     "data": {
      "text/html": [
       "<div>\n",
       "<style scoped>\n",
       "    .dataframe tbody tr th:only-of-type {\n",
       "        vertical-align: middle;\n",
       "    }\n",
       "\n",
       "    .dataframe tbody tr th {\n",
       "        vertical-align: top;\n",
       "    }\n",
       "\n",
       "    .dataframe thead th {\n",
       "        text-align: right;\n",
       "    }\n",
       "</style>\n",
       "<table border=\"1\" class=\"dataframe\">\n",
       "  <thead>\n",
       "    <tr style=\"text-align: right;\">\n",
       "      <th></th>\n",
       "      <th>debt</th>\n",
       "      <th>children</th>\n",
       "      <th>debt_percent</th>\n",
       "      <th>bound</th>\n",
       "    </tr>\n",
       "    <tr>\n",
       "      <th>children</th>\n",
       "      <th></th>\n",
       "      <th></th>\n",
       "      <th></th>\n",
       "      <th></th>\n",
       "    </tr>\n",
       "  </thead>\n",
       "  <tbody>\n",
       "    <tr>\n",
       "      <th>5</th>\n",
       "      <td>0</td>\n",
       "      <td>0.041950</td>\n",
       "      <td>0.000000</td>\n",
       "      <td>inf</td>\n",
       "    </tr>\n",
       "    <tr>\n",
       "      <th>0</th>\n",
       "      <td>1063</td>\n",
       "      <td>65.680060</td>\n",
       "      <td>61.056864</td>\n",
       "      <td>1.075720</td>\n",
       "    </tr>\n",
       "    <tr>\n",
       "      <th>3</th>\n",
       "      <td>27</td>\n",
       "      <td>1.538175</td>\n",
       "      <td>1.550833</td>\n",
       "      <td>0.991838</td>\n",
       "    </tr>\n",
       "    <tr>\n",
       "      <th>1</th>\n",
       "      <td>445</td>\n",
       "      <td>22.629813</td>\n",
       "      <td>25.560023</td>\n",
       "      <td>0.885360</td>\n",
       "    </tr>\n",
       "    <tr>\n",
       "      <th>2</th>\n",
       "      <td>194</td>\n",
       "      <td>9.564650</td>\n",
       "      <td>11.143021</td>\n",
       "      <td>0.858353</td>\n",
       "    </tr>\n",
       "    <tr>\n",
       "      <th>4</th>\n",
       "      <td>4</td>\n",
       "      <td>0.191107</td>\n",
       "      <td>0.229753</td>\n",
       "      <td>0.831791</td>\n",
       "    </tr>\n",
       "    <tr>\n",
       "      <th>20</th>\n",
       "      <td>8</td>\n",
       "      <td>0.354246</td>\n",
       "      <td>0.459506</td>\n",
       "      <td>0.770928</td>\n",
       "    </tr>\n",
       "  </tbody>\n",
       "</table>\n",
       "</div>"
      ],
      "text/plain": [
       "          debt   children  debt_percent     bound\n",
       "children                                         \n",
       "5            0   0.041950      0.000000       inf\n",
       "0         1063  65.680060     61.056864  1.075720\n",
       "3           27   1.538175      1.550833  0.991838\n",
       "1          445  22.629813     25.560023  0.885360\n",
       "2          194   9.564650     11.143021  0.858353\n",
       "4            4   0.191107      0.229753  0.831791\n",
       "20           8   0.354246      0.459506  0.770928"
      ]
     },
     "metadata": {},
     "output_type": "display_data"
    }
   ],
   "source": [
    "#сгруппируем таблицу по количеству детей и выведем информацию по просроченной задолженности\n",
    "data_groupby_children = data.groupby('children').agg({'debt':'sum','children':'count'})\n",
    "#выведем информацию о доле задолженности по каждой категории\n",
    "data_groupby_children['debt_percent'] = data_groupby_children['debt']/data['debt'].sum()*100\n",
    "#узнаем долю каждой категории \n",
    "data_groupby_children['children'] = data_groupby_children['children']/data['children'].count()*100\n",
    "#определим зависимость количества детей и задолженности\n",
    "data_groupby_children['bound'] = data_groupby_children['children']/data_groupby_children['debt_percent'] \n",
    "\n",
    "#выведем таблицу на экран\n",
    "display(data_groupby_children.sort_values(by = 'bound',ascending = False))\n",
    "\n"
   ]
  },
  {
   "cell_type": "markdown",
   "metadata": {},
   "source": [
    "**Вывод**\n",
    "\n",
    "В результате исследования можно сделать вывод, что чем меньше детей, тем больше вероятность просрочки по кредиту, за исключением Клиентов с 3 детьми, они занимают 2 место по просрочкам платежей."
   ]
  },
  {
   "cell_type": "markdown",
   "metadata": {},
   "source": []
  },
  {
   "cell_type": "markdown",
   "metadata": {},
   "source": [
    "- Есть ли зависимость между семейным положением и возвратом кредита в срок?"
   ]
  },
  {
   "cell_type": "code",
   "execution_count": 21,
   "metadata": {},
   "outputs": [
    {
     "data": {
      "text/html": [
       "<div>\n",
       "<style scoped>\n",
       "    .dataframe tbody tr th:only-of-type {\n",
       "        vertical-align: middle;\n",
       "    }\n",
       "\n",
       "    .dataframe tbody tr th {\n",
       "        vertical-align: top;\n",
       "    }\n",
       "\n",
       "    .dataframe thead th {\n",
       "        text-align: right;\n",
       "    }\n",
       "</style>\n",
       "<table border=\"1\" class=\"dataframe\">\n",
       "  <thead>\n",
       "    <tr style=\"text-align: right;\">\n",
       "      <th></th>\n",
       "      <th>debt</th>\n",
       "      <th>family_status</th>\n",
       "      <th>debt_percent</th>\n",
       "      <th>bound</th>\n",
       "    </tr>\n",
       "    <tr>\n",
       "      <th>family_status</th>\n",
       "      <th></th>\n",
       "      <th></th>\n",
       "      <th></th>\n",
       "      <th></th>\n",
       "    </tr>\n",
       "  </thead>\n",
       "  <tbody>\n",
       "    <tr>\n",
       "      <th>Не женат / не замужем</th>\n",
       "      <td>274</td>\n",
       "      <td>13.097791</td>\n",
       "      <td>15.738082</td>\n",
       "      <td>1.0</td>\n",
       "    </tr>\n",
       "    <tr>\n",
       "      <th>в разводе</th>\n",
       "      <td>85</td>\n",
       "      <td>5.570057</td>\n",
       "      <td>4.882252</td>\n",
       "      <td>1.0</td>\n",
       "    </tr>\n",
       "    <tr>\n",
       "      <th>вдовец / вдова</th>\n",
       "      <td>63</td>\n",
       "      <td>4.470029</td>\n",
       "      <td>3.618610</td>\n",
       "      <td>1.0</td>\n",
       "    </tr>\n",
       "    <tr>\n",
       "      <th>гражданский брак</th>\n",
       "      <td>388</td>\n",
       "      <td>19.348373</td>\n",
       "      <td>22.286043</td>\n",
       "      <td>1.0</td>\n",
       "    </tr>\n",
       "    <tr>\n",
       "      <th>женат / замужем</th>\n",
       "      <td>931</td>\n",
       "      <td>57.513750</td>\n",
       "      <td>53.475014</td>\n",
       "      <td>1.0</td>\n",
       "    </tr>\n",
       "  </tbody>\n",
       "</table>\n",
       "</div>"
      ],
      "text/plain": [
       "                       debt  family_status  debt_percent  bound\n",
       "family_status                                                  \n",
       "Не женат / не замужем   274      13.097791     15.738082    1.0\n",
       "в разводе                85       5.570057      4.882252    1.0\n",
       "вдовец / вдова           63       4.470029      3.618610    1.0\n",
       "гражданский брак        388      19.348373     22.286043    1.0\n",
       "женат / замужем         931      57.513750     53.475014    1.0"
      ]
     },
     "metadata": {},
     "output_type": "display_data"
    }
   ],
   "source": [
    "#сгруппируем таблицу по семейному положению и выведем информацию по просроченной задолженности\n",
    "data_groupby_family_status = data.groupby('family_status').agg({'debt':'sum','family_status':'count'})\n",
    "#выведем информацию о доле задолженности по каждой категории\n",
    "data_groupby_family_status['debt_percent'] = data_groupby_family_status['debt']/data['debt'].sum()*100\n",
    "#узнаем долю каждой категории \n",
    "data_groupby_family_status['family_status'] = data_groupby_family_status['family_status']/data['family_status'].count()*100\n",
    "#определим зависимость количества детей и задолженности\n",
    "data_groupby_family_status['bound'] = data_groupby_family_status['family_status']/data_groupby_family_status['family_status'] \n",
    "\n",
    "#выведем таблицу на экран\n",
    "display(data_groupby_family_status.sort_values(by = 'bound',ascending = False))\n"
   ]
  },
  {
   "cell_type": "markdown",
   "metadata": {},
   "source": [
    "**Вывод**"
   ]
  },
  {
   "cell_type": "markdown",
   "metadata": {},
   "source": [
    "Семейное положение никак не влияет на возврат кредита в срок."
   ]
  },
  {
   "cell_type": "markdown",
   "metadata": {},
   "source": [
    "- Есть ли зависимость между уровнем дохода и возвратом кредита в срок?"
   ]
  },
  {
   "cell_type": "code",
   "execution_count": 22,
   "metadata": {},
   "outputs": [
    {
     "data": {
      "text/html": [
       "<div>\n",
       "<style scoped>\n",
       "    .dataframe tbody tr th:only-of-type {\n",
       "        vertical-align: middle;\n",
       "    }\n",
       "\n",
       "    .dataframe tbody tr th {\n",
       "        vertical-align: top;\n",
       "    }\n",
       "\n",
       "    .dataframe thead th {\n",
       "        text-align: right;\n",
       "    }\n",
       "</style>\n",
       "<table border=\"1\" class=\"dataframe\">\n",
       "  <thead>\n",
       "    <tr style=\"text-align: right;\">\n",
       "      <th></th>\n",
       "      <th>debt</th>\n",
       "      <th>total_income_category</th>\n",
       "      <th>debt_percent</th>\n",
       "      <th>bound</th>\n",
       "    </tr>\n",
       "    <tr>\n",
       "      <th>total_income_category</th>\n",
       "      <th></th>\n",
       "      <th></th>\n",
       "      <th></th>\n",
       "      <th></th>\n",
       "    </tr>\n",
       "  </thead>\n",
       "  <tbody>\n",
       "    <tr>\n",
       "      <th>0</th>\n",
       "      <td>23</td>\n",
       "      <td>1.733942</td>\n",
       "      <td>1.321080</td>\n",
       "      <td>1.0</td>\n",
       "    </tr>\n",
       "    <tr>\n",
       "      <th>1</th>\n",
       "      <td>331</td>\n",
       "      <td>19.068705</td>\n",
       "      <td>19.012062</td>\n",
       "      <td>1.0</td>\n",
       "    </tr>\n",
       "    <tr>\n",
       "      <th>2</th>\n",
       "      <td>661</td>\n",
       "      <td>36.389484</td>\n",
       "      <td>37.966686</td>\n",
       "      <td>1.0</td>\n",
       "    </tr>\n",
       "    <tr>\n",
       "      <th>3</th>\n",
       "      <td>368</td>\n",
       "      <td>19.194556</td>\n",
       "      <td>21.137277</td>\n",
       "      <td>1.0</td>\n",
       "    </tr>\n",
       "    <tr>\n",
       "      <th>4</th>\n",
       "      <td>358</td>\n",
       "      <td>23.613312</td>\n",
       "      <td>20.562895</td>\n",
       "      <td>1.0</td>\n",
       "    </tr>\n",
       "  </tbody>\n",
       "</table>\n",
       "</div>"
      ],
      "text/plain": [
       "                       debt  total_income_category  debt_percent  bound\n",
       "total_income_category                                                  \n",
       "0                        23               1.733942      1.321080    1.0\n",
       "1                       331              19.068705     19.012062    1.0\n",
       "2                       661              36.389484     37.966686    1.0\n",
       "3                       368              19.194556     21.137277    1.0\n",
       "4                       358              23.613312     20.562895    1.0"
      ]
     },
     "metadata": {},
     "output_type": "display_data"
    }
   ],
   "source": [
    "#сгруппируем таблицу по семейному положению и выведем информацию по просроченной задолженности\n",
    "data_groupby_total_income_category = data.groupby('total_income_category').agg({'debt':'sum','total_income_category':'count'})\n",
    "#выведем информацию о доле задолженности по каждой категории\n",
    "data_groupby_total_income_category['debt_percent'] = data_groupby_total_income_category['debt']/data['debt'].sum()*100\n",
    "#узнаем долю каждой категории \n",
    "data_groupby_total_income_category['total_income_category'] = data_groupby_total_income_category['total_income_category']/data['total_income_category'].count()*100\n",
    "#определим зависимость количества детей и задолженности\n",
    "data_groupby_total_income_category['bound'] = data_groupby_total_income_category['total_income_category']/data_groupby_total_income_category['total_income_category'] \n",
    "\n",
    "#выведем таблицу на экран\n",
    "display(data_groupby_total_income_category.sort_values(by = 'bound',ascending = False))"
   ]
  },
  {
   "cell_type": "markdown",
   "metadata": {},
   "source": [
    "**Вывод**\n",
    "\n",
    "Очень неожиданно, но уровень дохода не повлиял на возврат кредита в срок."
   ]
  },
  {
   "cell_type": "markdown",
   "metadata": {},
   "source": []
  },
  {
   "cell_type": "markdown",
   "metadata": {},
   "source": [
    "- Как разные цели кредита влияют на его возврат в срок?"
   ]
  },
  {
   "cell_type": "code",
   "execution_count": 23,
   "metadata": {},
   "outputs": [
    {
     "data": {
      "text/html": [
       "<div>\n",
       "<style scoped>\n",
       "    .dataframe tbody tr th:only-of-type {\n",
       "        vertical-align: middle;\n",
       "    }\n",
       "\n",
       "    .dataframe tbody tr th {\n",
       "        vertical-align: top;\n",
       "    }\n",
       "\n",
       "    .dataframe thead th {\n",
       "        text-align: right;\n",
       "    }\n",
       "</style>\n",
       "<table border=\"1\" class=\"dataframe\">\n",
       "  <thead>\n",
       "    <tr style=\"text-align: right;\">\n",
       "      <th></th>\n",
       "      <th>debt</th>\n",
       "      <th>purpose_category</th>\n",
       "      <th>debt_percent</th>\n",
       "      <th>bound</th>\n",
       "    </tr>\n",
       "    <tr>\n",
       "      <th>purpose_category</th>\n",
       "      <th></th>\n",
       "      <th></th>\n",
       "      <th></th>\n",
       "      <th></th>\n",
       "    </tr>\n",
       "  </thead>\n",
       "  <tbody>\n",
       "    <tr>\n",
       "      <th>автомобиль</th>\n",
       "      <td>403</td>\n",
       "      <td>20.070849</td>\n",
       "      <td>23.147616</td>\n",
       "      <td>1.0</td>\n",
       "    </tr>\n",
       "    <tr>\n",
       "      <th>недвижимость</th>\n",
       "      <td>782</td>\n",
       "      <td>50.391535</td>\n",
       "      <td>44.916715</td>\n",
       "      <td>1.0</td>\n",
       "    </tr>\n",
       "    <tr>\n",
       "      <th>образование</th>\n",
       "      <td>370</td>\n",
       "      <td>18.705137</td>\n",
       "      <td>21.252154</td>\n",
       "      <td>1.0</td>\n",
       "    </tr>\n",
       "    <tr>\n",
       "      <th>свадьба</th>\n",
       "      <td>186</td>\n",
       "      <td>10.832479</td>\n",
       "      <td>10.683515</td>\n",
       "      <td>1.0</td>\n",
       "    </tr>\n",
       "  </tbody>\n",
       "</table>\n",
       "</div>"
      ],
      "text/plain": [
       "                  debt  purpose_category  debt_percent  bound\n",
       "purpose_category                                             \n",
       "автомобиль         403         20.070849     23.147616    1.0\n",
       "недвижимость       782         50.391535     44.916715    1.0\n",
       "образование        370         18.705137     21.252154    1.0\n",
       "свадьба            186         10.832479     10.683515    1.0"
      ]
     },
     "metadata": {},
     "output_type": "display_data"
    }
   ],
   "source": [
    "#сгруппируем таблицу по семейному положению и выведем информацию по просроченной задолженности\n",
    "data_groupby_purpose_category = data.groupby('purpose_category').agg({'debt':'sum','purpose_category':'count'})\n",
    "#выведем информацию о доле задолженности по каждой категории\n",
    "data_groupby_purpose_category['debt_percent'] = data_groupby_purpose_category['debt']/data['debt'].sum()*100\n",
    "#узнаем долю каждой категории \n",
    "data_groupby_purpose_category['purpose_category'] = data_groupby_purpose_category['purpose_category']/data['purpose_category'].count()*100\n",
    "#определим зависимость количества детей и задолженности\n",
    "data_groupby_purpose_category['bound'] = data_groupby_purpose_category['purpose_category']/data_groupby_purpose_category['purpose_category'] \n",
    "\n",
    "#выведем таблицу на экран\n",
    "display(data_groupby_purpose_category.sort_values(by = 'bound',ascending = False))\n"
   ]
  },
  {
   "cell_type": "markdown",
   "metadata": {},
   "source": [
    "**Вывод**\n",
    "Как не странно, но цель получения кредита тоже не имеет большого влияния на возврат кредита в срок."
   ]
  },
  {
   "cell_type": "markdown",
   "metadata": {},
   "source": []
  },
  {
   "cell_type": "markdown",
   "metadata": {},
   "source": [
    "## Общий вывод\n",
    "<a id=\"conclusion_id\"></a>"
   ]
  },
  {
   "cell_type": "markdown",
   "metadata": {},
   "source": [
    "В результате исследования надежности заёмщиков было проверено влияние на возврат кредита в срок таких факторов как:\n",
    "- количество детей,\n",
    "- семейное положение,\n",
    "- цель получения кредита,\n",
    "- уровень дохода заёмщиков.\n",
    "Из 4 гипотез явно подтвердилась только 1.\n",
    "Чем больше у заёмщика детей, тем меньше просрочек по кредиту(см. ниже таблицу корреляции между количеством детей и возвратом кредита в срок).\n",
    "Влияние остальных изученных критериев если и есть, то незначительное.\n",
    "\n",
    "Таким образом можно предположить, что возврат кредита в срок в основном зависит от степени ответственности, которая увеличивается при появлении детей и не зависит от уровня дохода,семейного положения и цели получения кредита.\n",
    "\n"
   ]
  },
  {
   "cell_type": "code",
   "execution_count": 63,
   "metadata": {},
   "outputs": [
    {
     "data": {
      "text/html": [
       "<div>\n",
       "<style scoped>\n",
       "    .dataframe tbody tr th:only-of-type {\n",
       "        vertical-align: middle;\n",
       "    }\n",
       "\n",
       "    .dataframe tbody tr th {\n",
       "        vertical-align: top;\n",
       "    }\n",
       "\n",
       "    .dataframe thead th {\n",
       "        text-align: right;\n",
       "    }\n",
       "</style>\n",
       "<table border=\"1\" class=\"dataframe\">\n",
       "  <thead>\n",
       "    <tr style=\"text-align: right;\">\n",
       "      <th></th>\n",
       "      <th>children</th>\n",
       "      <th>bound</th>\n",
       "    </tr>\n",
       "  </thead>\n",
       "  <tbody>\n",
       "    <tr>\n",
       "      <th>0</th>\n",
       "      <td>65.680060</td>\n",
       "      <td>1.075720</td>\n",
       "    </tr>\n",
       "    <tr>\n",
       "      <th>1</th>\n",
       "      <td>22.629813</td>\n",
       "      <td>0.885360</td>\n",
       "    </tr>\n",
       "    <tr>\n",
       "      <th>2</th>\n",
       "      <td>9.564650</td>\n",
       "      <td>0.858353</td>\n",
       "    </tr>\n",
       "    <tr>\n",
       "      <th>3</th>\n",
       "      <td>1.538175</td>\n",
       "      <td>0.991838</td>\n",
       "    </tr>\n",
       "    <tr>\n",
       "      <th>6</th>\n",
       "      <td>0.354246</td>\n",
       "      <td>0.770928</td>\n",
       "    </tr>\n",
       "    <tr>\n",
       "      <th>4</th>\n",
       "      <td>0.191107</td>\n",
       "      <td>0.831791</td>\n",
       "    </tr>\n",
       "    <tr>\n",
       "      <th>5</th>\n",
       "      <td>0.041950</td>\n",
       "      <td>inf</td>\n",
       "    </tr>\n",
       "  </tbody>\n",
       "</table>\n",
       "</div>"
      ],
      "text/plain": [
       "    children     bound\n",
       "0  65.680060  1.075720\n",
       "1  22.629813  0.885360\n",
       "2   9.564650  0.858353\n",
       "3   1.538175  0.991838\n",
       "6   0.354246  0.770928\n",
       "4   0.191107  0.831791\n",
       "5   0.041950       inf"
      ]
     },
     "metadata": {},
     "output_type": "display_data"
    }
   ],
   "source": [
    "display(\n",
    "    data_groupby_children\n",
    "    .reset_index(drop=True)\n",
    "    .sort_values(by='children',ascending = False)\n",
    "    .loc[:,['children','bound']]\n",
    ")"
   ]
  },
  {
   "cell_type": "markdown",
   "metadata": {},
   "source": [
    "## Чек-лист готовности проекта\n",
    "<a id=\"list_id\"></a>\n",
    "\n",
    "Поставьте 'x' в выполненных пунктах. Далее нажмите Shift+Enter."
   ]
  },
  {
   "cell_type": "markdown",
   "metadata": {},
   "source": [
    "- [x]  открыт файл;\n",
    "- [x]  файл изучен;\n",
    "- [x]  определены пропущенные значения;\n",
    "- [x]  заполнены пропущенные значения;\n",
    "- [x]  есть пояснение, какие пропущенные значения обнаружены;\n",
    "- [x]  описаны возможные причины появления пропусков в данных;\n",
    "- [x]  объяснено, по какому принципу заполнены пропуски;\n",
    "- [x]  заменен вещественный тип данных на целочисленный;\n",
    "- [x]  есть пояснение, какой метод используется для изменения типа данных и почему;\n",
    "- [x]  удалены дубликаты;\n",
    "- [x]  есть пояснение, какой метод используется для поиска и удаления дубликатов;\n",
    "- [x]  описаны возможные причины появления дубликатов в данных;\n",
    "- [x]  выделены леммы в значениях столбца с целями получения кредита;\n",
    "- [x]  описан процесс лемматизации;\n",
    "- [x]  данные категоризированы;\n",
    "- [x]  есть объяснение принципа категоризации данных;\n",
    "- [x]  есть ответ на вопрос: \"Есть ли зависимость между наличием детей и возвратом кредита в срок?\";\n",
    "- [x]  есть ответ на вопрос: \"Есть ли зависимость между семейным положением и возвратом кредита в срок?\";\n",
    "- [x]  есть ответ на вопрос: \"Есть ли зависимость между уровнем дохода и возвратом кредита в срок?\";\n",
    "- [x]  есть ответ на вопрос: \"Как разные цели кредита влияют на его возврат в срок?\";\n",
    "- [x]  в каждом этапе есть выводы;\n",
    "- [x]  есть общий вывод."
   ]
  }
 ],
 "metadata": {
  "ExecuteTimeLog": [
   {
    "duration": 191,
    "start_time": "2021-12-06T15:21:21.614Z"
   },
   {
    "duration": 1076,
    "start_time": "2021-12-06T15:21:35.499Z"
   },
   {
    "duration": 85,
    "start_time": "2021-12-06T15:23:08.795Z"
   },
   {
    "duration": 15,
    "start_time": "2021-12-06T15:28:52.569Z"
   },
   {
    "duration": 111,
    "start_time": "2021-12-06T15:33:26.585Z"
   },
   {
    "duration": 22,
    "start_time": "2021-12-06T15:33:36.997Z"
   },
   {
    "duration": 132,
    "start_time": "2021-12-06T15:53:30.717Z"
   },
   {
    "duration": 473,
    "start_time": "2021-12-06T16:11:31.479Z"
   },
   {
    "duration": 19,
    "start_time": "2021-12-06T16:11:39.521Z"
   },
   {
    "duration": 99,
    "start_time": "2021-12-06T16:19:59.005Z"
   },
   {
    "duration": 39,
    "start_time": "2021-12-06T16:26:46.423Z"
   },
   {
    "duration": 1093,
    "start_time": "2021-12-06T16:28:32.563Z"
   },
   {
    "duration": 7,
    "start_time": "2021-12-06T16:38:33.374Z"
   },
   {
    "duration": 34,
    "start_time": "2021-12-06T16:38:56.563Z"
   },
   {
    "duration": 190,
    "start_time": "2021-12-06T16:40:36.896Z"
   },
   {
    "duration": 127,
    "start_time": "2021-12-06T16:40:46.914Z"
   },
   {
    "duration": 250,
    "start_time": "2021-12-06T16:41:51.597Z"
   },
   {
    "duration": 8,
    "start_time": "2021-12-06T16:42:04.763Z"
   },
   {
    "duration": 20,
    "start_time": "2021-12-06T16:42:13.971Z"
   },
   {
    "duration": 13,
    "start_time": "2021-12-06T16:42:30.663Z"
   },
   {
    "duration": 12,
    "start_time": "2021-12-06T16:43:16.320Z"
   },
   {
    "duration": 44,
    "start_time": "2021-12-06T16:43:27.261Z"
   },
   {
    "duration": 10,
    "start_time": "2021-12-06T16:50:12.511Z"
   },
   {
    "duration": 8,
    "start_time": "2021-12-06T16:51:20.347Z"
   },
   {
    "duration": 25,
    "start_time": "2021-12-06T16:51:35.617Z"
   },
   {
    "duration": 381,
    "start_time": "2021-12-06T16:58:20.709Z"
   },
   {
    "duration": 427,
    "start_time": "2021-12-06T16:58:26.732Z"
   },
   {
    "duration": 365,
    "start_time": "2021-12-06T16:58:43.252Z"
   },
   {
    "duration": 473,
    "start_time": "2021-12-06T16:58:57.125Z"
   },
   {
    "duration": 373,
    "start_time": "2021-12-06T16:59:04.037Z"
   },
   {
    "duration": 27,
    "start_time": "2021-12-06T16:59:21.633Z"
   },
   {
    "duration": 9,
    "start_time": "2021-12-06T16:59:34.594Z"
   },
   {
    "duration": 498,
    "start_time": "2021-12-06T17:00:07.002Z"
   },
   {
    "duration": 401,
    "start_time": "2021-12-06T17:00:14.668Z"
   },
   {
    "duration": 26,
    "start_time": "2021-12-06T17:00:51.485Z"
   },
   {
    "duration": 123,
    "start_time": "2021-12-06T17:01:33.374Z"
   },
   {
    "duration": -11,
    "start_time": "2021-12-06T17:01:50.731Z"
   },
   {
    "duration": 1171,
    "start_time": "2021-12-06T17:02:59.752Z"
   },
   {
    "duration": 15,
    "start_time": "2021-12-06T17:03:00.926Z"
   },
   {
    "duration": 27,
    "start_time": "2021-12-06T17:03:00.943Z"
   },
   {
    "duration": 38,
    "start_time": "2021-12-06T17:03:11.230Z"
   },
   {
    "duration": 18,
    "start_time": "2021-12-06T17:03:11.260Z"
   },
   {
    "duration": -84,
    "start_time": "2021-12-06T17:03:24.150Z"
   },
   {
    "duration": 6,
    "start_time": "2021-12-06T17:03:34.930Z"
   },
   {
    "duration": 8,
    "start_time": "2021-12-06T17:03:45.989Z"
   },
   {
    "duration": 386,
    "start_time": "2021-12-06T17:05:45.377Z"
   },
   {
    "duration": 378,
    "start_time": "2021-12-06T17:06:05.155Z"
   },
   {
    "duration": 24,
    "start_time": "2021-12-06T17:06:11.528Z"
   },
   {
    "duration": 29,
    "start_time": "2021-12-06T17:07:41.453Z"
   },
   {
    "duration": 46,
    "start_time": "2021-12-06T17:08:07.833Z"
   },
   {
    "duration": 32,
    "start_time": "2021-12-06T17:08:51.002Z"
   },
   {
    "duration": 22,
    "start_time": "2021-12-06T17:09:11.543Z"
   },
   {
    "duration": 27,
    "start_time": "2021-12-06T17:09:45.003Z"
   },
   {
    "duration": 33,
    "start_time": "2021-12-06T17:10:30.795Z"
   },
   {
    "duration": 34,
    "start_time": "2021-12-06T17:10:38.947Z"
   },
   {
    "duration": 384,
    "start_time": "2021-12-06T17:11:24.347Z"
   },
   {
    "duration": 121,
    "start_time": "2021-12-06T17:11:38.313Z"
   },
   {
    "duration": 22,
    "start_time": "2021-12-06T17:11:43.934Z"
   },
   {
    "duration": 208,
    "start_time": "2021-12-07T15:23:37.762Z"
   },
   {
    "duration": 171,
    "start_time": "2021-12-07T15:46:19.720Z"
   },
   {
    "duration": 173,
    "start_time": "2021-12-07T15:47:02.830Z"
   },
   {
    "duration": 1108,
    "start_time": "2021-12-07T15:47:57.150Z"
   },
   {
    "duration": 1654,
    "start_time": "2021-12-07T15:48:49.526Z"
   },
   {
    "duration": 174,
    "start_time": "2021-12-07T15:49:05.656Z"
   },
   {
    "duration": 751,
    "start_time": "2021-12-07T15:49:14.782Z"
   },
   {
    "duration": 11,
    "start_time": "2021-12-07T15:49:15.534Z"
   },
   {
    "duration": 12,
    "start_time": "2021-12-07T15:49:15.547Z"
   },
   {
    "duration": 11,
    "start_time": "2021-12-07T15:49:27.414Z"
   },
   {
    "duration": 9,
    "start_time": "2021-12-07T15:49:33.185Z"
   },
   {
    "duration": 10,
    "start_time": "2021-12-07T15:51:30.528Z"
   },
   {
    "duration": 240,
    "start_time": "2021-12-07T16:05:25.818Z"
   },
   {
    "duration": 173,
    "start_time": "2021-12-07T16:06:24.314Z"
   },
   {
    "duration": 3,
    "start_time": "2021-12-07T16:06:45.633Z"
   },
   {
    "duration": 178,
    "start_time": "2021-12-07T16:06:51.593Z"
   },
   {
    "duration": 12,
    "start_time": "2021-12-07T16:07:01.226Z"
   },
   {
    "duration": 10,
    "start_time": "2021-12-07T16:08:30.360Z"
   },
   {
    "duration": 10,
    "start_time": "2021-12-07T16:09:04.198Z"
   },
   {
    "duration": 187,
    "start_time": "2021-12-07T16:10:47.860Z"
   },
   {
    "duration": 11,
    "start_time": "2021-12-07T16:11:15.731Z"
   },
   {
    "duration": 9,
    "start_time": "2021-12-07T16:11:35.460Z"
   },
   {
    "duration": 1129,
    "start_time": "2021-12-07T16:11:52.262Z"
   },
   {
    "duration": 10,
    "start_time": "2021-12-07T16:11:58.415Z"
   },
   {
    "duration": 5529,
    "start_time": "2021-12-07T16:12:11.610Z"
   },
   {
    "duration": 10,
    "start_time": "2021-12-07T16:12:19.449Z"
   },
   {
    "duration": 163,
    "start_time": "2021-12-07T16:20:18.189Z"
   },
   {
    "duration": 179,
    "start_time": "2021-12-07T16:20:54.117Z"
   },
   {
    "duration": 7,
    "start_time": "2021-12-07T16:21:47.447Z"
   },
   {
    "duration": -62,
    "start_time": "2021-12-07T16:25:11.932Z"
   },
   {
    "duration": -4,
    "start_time": "2021-12-07T16:25:27.401Z"
   },
   {
    "duration": 9,
    "start_time": "2021-12-07T16:25:40.031Z"
   },
   {
    "duration": -76,
    "start_time": "2021-12-07T16:26:24.809Z"
   },
   {
    "duration": 589,
    "start_time": "2021-12-07T16:26:32.240Z"
   },
   {
    "duration": 10,
    "start_time": "2021-12-07T16:26:32.831Z"
   },
   {
    "duration": 11,
    "start_time": "2021-12-07T16:26:32.843Z"
   },
   {
    "duration": 4947,
    "start_time": "2021-12-07T16:26:32.856Z"
   },
   {
    "duration": -53,
    "start_time": "2021-12-07T16:26:37.858Z"
   },
   {
    "duration": -56,
    "start_time": "2021-12-07T16:26:37.862Z"
   },
   {
    "duration": 10,
    "start_time": "2021-12-07T16:27:04.377Z"
   },
   {
    "duration": 9,
    "start_time": "2021-12-07T16:27:33.958Z"
   },
   {
    "duration": 24,
    "start_time": "2021-12-07T16:27:45.173Z"
   },
   {
    "duration": 12,
    "start_time": "2021-12-07T16:27:55.978Z"
   },
   {
    "duration": 9,
    "start_time": "2021-12-07T16:29:15.688Z"
   },
   {
    "duration": 10,
    "start_time": "2021-12-07T16:29:53.947Z"
   },
   {
    "duration": 12,
    "start_time": "2021-12-07T16:31:27.033Z"
   },
   {
    "duration": 7,
    "start_time": "2021-12-07T16:31:31.056Z"
   },
   {
    "duration": 6,
    "start_time": "2021-12-07T17:00:42.205Z"
   },
   {
    "duration": 6,
    "start_time": "2021-12-07T17:00:54.003Z"
   },
   {
    "duration": 59,
    "start_time": "2021-12-07T17:01:06.365Z"
   },
   {
    "duration": 191,
    "start_time": "2021-12-07T17:01:21.247Z"
   },
   {
    "duration": 168,
    "start_time": "2021-12-07T17:01:27.449Z"
   },
   {
    "duration": 4,
    "start_time": "2021-12-07T17:03:01.552Z"
   },
   {
    "duration": 94,
    "start_time": "2021-12-07T17:10:18.785Z"
   },
   {
    "duration": 84,
    "start_time": "2021-12-07T17:10:38.091Z"
   },
   {
    "duration": 210,
    "start_time": "2021-12-07T17:11:36.633Z"
   },
   {
    "duration": 217,
    "start_time": "2021-12-07T17:12:55.112Z"
   },
   {
    "duration": 59,
    "start_time": "2021-12-07T17:13:21.207Z"
   },
   {
    "duration": 53,
    "start_time": "2021-12-07T17:13:49.269Z"
   },
   {
    "duration": 57,
    "start_time": "2021-12-07T17:13:53.953Z"
   },
   {
    "duration": 73,
    "start_time": "2021-12-07T17:14:03.092Z"
   },
   {
    "duration": 168,
    "start_time": "2021-12-07T17:14:13.569Z"
   },
   {
    "duration": 238,
    "start_time": "2021-12-07T17:14:36.454Z"
   },
   {
    "duration": 84,
    "start_time": "2021-12-07T17:14:53.974Z"
   },
   {
    "duration": 16,
    "start_time": "2021-12-07T17:15:55.572Z"
   },
   {
    "duration": 19,
    "start_time": "2021-12-07T17:16:01.841Z"
   },
   {
    "duration": 33,
    "start_time": "2021-12-07T17:16:25.881Z"
   },
   {
    "duration": 34,
    "start_time": "2021-12-07T17:17:55.012Z"
   },
   {
    "duration": 92,
    "start_time": "2021-12-07T17:18:16.611Z"
   },
   {
    "duration": 41,
    "start_time": "2021-12-07T17:18:44.649Z"
   },
   {
    "duration": 177,
    "start_time": "2021-12-07T17:19:02.970Z"
   },
   {
    "duration": 170,
    "start_time": "2021-12-07T17:19:25.829Z"
   },
   {
    "duration": 176,
    "start_time": "2021-12-07T17:19:52.850Z"
   },
   {
    "duration": 41,
    "start_time": "2021-12-07T17:20:08.334Z"
   },
   {
    "duration": 21,
    "start_time": "2021-12-07T17:21:43.667Z"
   },
   {
    "duration": 60,
    "start_time": "2021-12-07T17:28:49.392Z"
   },
   {
    "duration": 58,
    "start_time": "2021-12-07T17:29:05.915Z"
   },
   {
    "duration": 58,
    "start_time": "2021-12-07T17:29:17.167Z"
   },
   {
    "duration": 58,
    "start_time": "2021-12-07T17:30:06.370Z"
   },
   {
    "duration": 5,
    "start_time": "2021-12-07T17:30:15.430Z"
   },
   {
    "duration": 5,
    "start_time": "2021-12-07T17:30:18.804Z"
   },
   {
    "duration": 4,
    "start_time": "2021-12-07T17:30:31.908Z"
   },
   {
    "duration": 5,
    "start_time": "2021-12-07T17:30:36.481Z"
   },
   {
    "duration": 277,
    "start_time": "2021-12-07T17:30:40.286Z"
   },
   {
    "duration": 5,
    "start_time": "2021-12-07T17:30:45.794Z"
   },
   {
    "duration": 5,
    "start_time": "2021-12-07T17:31:31.538Z"
   },
   {
    "duration": 4,
    "start_time": "2021-12-07T17:31:35.207Z"
   },
   {
    "duration": 27,
    "start_time": "2021-12-07T17:33:03.896Z"
   },
   {
    "duration": 8,
    "start_time": "2021-12-07T17:34:39.481Z"
   },
   {
    "duration": 13,
    "start_time": "2021-12-07T17:35:10.810Z"
   },
   {
    "duration": 54,
    "start_time": "2021-12-07T17:37:34.641Z"
   },
   {
    "duration": 5985,
    "start_time": "2021-12-07T17:37:41.072Z"
   },
   {
    "duration": 4,
    "start_time": "2021-12-07T17:38:23.188Z"
   },
   {
    "duration": 4,
    "start_time": "2021-12-07T17:38:26.185Z"
   },
   {
    "duration": 4703,
    "start_time": "2021-12-07T17:38:31.282Z"
   },
   {
    "duration": 4264,
    "start_time": "2021-12-07T17:39:10.752Z"
   },
   {
    "duration": 521,
    "start_time": "2021-12-08T18:07:29.450Z"
   },
   {
    "duration": 869,
    "start_time": "2021-12-08T18:08:17.992Z"
   },
   {
    "duration": 14,
    "start_time": "2021-12-08T18:08:18.864Z"
   },
   {
    "duration": 16,
    "start_time": "2021-12-08T18:08:18.881Z"
   },
   {
    "duration": 28,
    "start_time": "2021-12-08T18:08:18.899Z"
   },
   {
    "duration": 11,
    "start_time": "2021-12-08T18:08:18.929Z"
   },
   {
    "duration": 7,
    "start_time": "2021-12-08T18:08:18.942Z"
   },
   {
    "duration": 793,
    "start_time": "2021-12-08T18:08:18.952Z"
   },
   {
    "duration": 5,
    "start_time": "2021-12-08T18:08:31.602Z"
   },
   {
    "duration": 6,
    "start_time": "2021-12-08T18:08:56.350Z"
   },
   {
    "duration": 47,
    "start_time": "2021-12-08T18:13:04.653Z"
   },
   {
    "duration": 61,
    "start_time": "2021-12-08T18:14:01.132Z"
   },
   {
    "duration": 60,
    "start_time": "2021-12-08T18:14:42.012Z"
   },
   {
    "duration": 108,
    "start_time": "2021-12-08T18:15:47.932Z"
   },
   {
    "duration": 74,
    "start_time": "2021-12-08T18:16:32.954Z"
   },
   {
    "duration": 860,
    "start_time": "2021-12-08T18:17:41.985Z"
   },
   {
    "duration": 15,
    "start_time": "2021-12-08T18:17:42.848Z"
   },
   {
    "duration": 13,
    "start_time": "2021-12-08T18:17:51.695Z"
   },
   {
    "duration": 10,
    "start_time": "2021-12-08T18:18:21.585Z"
   },
   {
    "duration": 6,
    "start_time": "2021-12-08T18:18:29.961Z"
   },
   {
    "duration": 2378,
    "start_time": "2021-12-08T18:20:05.824Z"
   },
   {
    "duration": 56,
    "start_time": "2021-12-08T18:20:34.316Z"
   },
   {
    "duration": 95,
    "start_time": "2021-12-08T18:21:26.351Z"
   },
   {
    "duration": 48,
    "start_time": "2021-12-08T18:21:58.715Z"
   },
   {
    "duration": 50,
    "start_time": "2021-12-08T18:22:02.096Z"
   },
   {
    "duration": 173,
    "start_time": "2021-12-08T18:22:40.059Z"
   },
   {
    "duration": 588,
    "start_time": "2021-12-08T18:22:57.538Z"
   },
   {
    "duration": 637,
    "start_time": "2021-12-08T18:23:09.644Z"
   },
   {
    "duration": 94,
    "start_time": "2021-12-08T18:23:20.749Z"
   },
   {
    "duration": 463,
    "start_time": "2021-12-08T18:23:34.422Z"
   },
   {
    "duration": 1232,
    "start_time": "2021-12-08T18:25:05.863Z"
   },
   {
    "duration": 46,
    "start_time": "2021-12-08T18:28:30.116Z"
   },
   {
    "duration": 100,
    "start_time": "2021-12-08T18:29:26.225Z"
   },
   {
    "duration": 114,
    "start_time": "2021-12-08T18:33:21.146Z"
   },
   {
    "duration": 51,
    "start_time": "2021-12-08T18:34:19.112Z"
   },
   {
    "duration": 927,
    "start_time": "2021-12-08T18:34:32.006Z"
   },
   {
    "duration": 15,
    "start_time": "2021-12-08T18:34:32.935Z"
   },
   {
    "duration": 12,
    "start_time": "2021-12-08T18:34:32.953Z"
   },
   {
    "duration": 50,
    "start_time": "2021-12-08T18:34:32.968Z"
   },
   {
    "duration": 11,
    "start_time": "2021-12-08T18:34:33.021Z"
   },
   {
    "duration": 8,
    "start_time": "2021-12-08T18:34:33.035Z"
   },
   {
    "duration": 93,
    "start_time": "2021-12-08T18:34:33.046Z"
   },
   {
    "duration": 53,
    "start_time": "2021-12-08T18:34:42.386Z"
   },
   {
    "duration": 108,
    "start_time": "2021-12-08T18:36:25.252Z"
   },
   {
    "duration": 108,
    "start_time": "2021-12-08T18:51:03.470Z"
   },
   {
    "duration": 5,
    "start_time": "2021-12-08T19:12:46.790Z"
   },
   {
    "duration": 12,
    "start_time": "2021-12-08T19:13:09.385Z"
   },
   {
    "duration": 6,
    "start_time": "2021-12-08T19:14:07.830Z"
   },
   {
    "duration": 18,
    "start_time": "2021-12-08T19:14:46.397Z"
   },
   {
    "duration": 339,
    "start_time": "2021-12-09T17:02:45.803Z"
   },
   {
    "duration": 277,
    "start_time": "2021-12-09T17:03:04.136Z"
   },
   {
    "duration": 870,
    "start_time": "2021-12-09T17:05:33.166Z"
   },
   {
    "duration": 14,
    "start_time": "2021-12-09T17:05:34.039Z"
   },
   {
    "duration": 14,
    "start_time": "2021-12-09T17:05:34.068Z"
   },
   {
    "duration": 14,
    "start_time": "2021-12-09T17:05:34.085Z"
   },
   {
    "duration": 9,
    "start_time": "2021-12-09T17:05:34.102Z"
   },
   {
    "duration": 144,
    "start_time": "2021-12-09T17:05:34.114Z"
   },
   {
    "duration": 22,
    "start_time": "2021-12-09T17:05:34.261Z"
   },
   {
    "duration": 29,
    "start_time": "2021-12-09T17:05:34.287Z"
   },
   {
    "duration": 113,
    "start_time": "2021-12-09T17:17:02.984Z"
   },
   {
    "duration": 7,
    "start_time": "2021-12-09T17:19:19.242Z"
   },
   {
    "duration": 397,
    "start_time": "2021-12-09T17:49:50.972Z"
   },
   {
    "duration": 14,
    "start_time": "2021-12-09T17:51:37.682Z"
   },
   {
    "duration": 107,
    "start_time": "2021-12-09T17:52:55.348Z"
   },
   {
    "duration": 113,
    "start_time": "2021-12-09T17:55:07.810Z"
   },
   {
    "duration": 112,
    "start_time": "2021-12-09T17:56:01.860Z"
   },
   {
    "duration": 17,
    "start_time": "2021-12-09T17:57:24.927Z"
   },
   {
    "duration": 24,
    "start_time": "2021-12-09T17:57:44.046Z"
   },
   {
    "duration": 92,
    "start_time": "2021-12-09T17:57:54.244Z"
   },
   {
    "duration": 26,
    "start_time": "2021-12-09T17:58:01.202Z"
   },
   {
    "duration": 23,
    "start_time": "2021-12-09T17:59:24.892Z"
   },
   {
    "duration": 37,
    "start_time": "2021-12-09T17:59:43.402Z"
   },
   {
    "duration": 50,
    "start_time": "2021-12-09T18:05:03.633Z"
   },
   {
    "duration": 84,
    "start_time": "2021-12-09T18:13:46.354Z"
   },
   {
    "duration": 53,
    "start_time": "2021-12-09T18:13:55.852Z"
   },
   {
    "duration": 302,
    "start_time": "2021-12-09T18:14:58.538Z"
   },
   {
    "duration": 1018,
    "start_time": "2021-12-09T18:15:03.577Z"
   },
   {
    "duration": 373,
    "start_time": "2021-12-09T18:15:56.287Z"
   },
   {
    "duration": 31,
    "start_time": "2021-12-09T18:16:03.571Z"
   },
   {
    "duration": 31,
    "start_time": "2021-12-09T18:16:14.877Z"
   },
   {
    "duration": 33,
    "start_time": "2021-12-09T18:16:20.909Z"
   },
   {
    "duration": 32,
    "start_time": "2021-12-09T18:16:37.904Z"
   },
   {
    "duration": 346,
    "start_time": "2021-12-09T18:19:34.752Z"
   },
   {
    "duration": 109,
    "start_time": "2021-12-09T18:51:43.997Z"
   },
   {
    "duration": 367,
    "start_time": "2021-12-09T18:51:53.024Z"
   },
   {
    "duration": 54,
    "start_time": "2021-12-09T18:52:48.830Z"
   },
   {
    "duration": 53,
    "start_time": "2021-12-09T18:53:47.632Z"
   },
   {
    "duration": 61,
    "start_time": "2021-12-09T18:55:20.264Z"
   },
   {
    "duration": 40,
    "start_time": "2021-12-09T18:55:55.175Z"
   },
   {
    "duration": 367,
    "start_time": "2021-12-09T18:57:14.663Z"
   },
   {
    "duration": 83,
    "start_time": "2021-12-09T18:57:30.059Z"
   },
   {
    "duration": 120,
    "start_time": "2021-12-09T18:58:40.491Z"
   },
   {
    "duration": 21,
    "start_time": "2021-12-09T18:58:49.851Z"
   },
   {
    "duration": 63,
    "start_time": "2021-12-09T18:58:56.573Z"
   },
   {
    "duration": 932,
    "start_time": "2021-12-09T18:59:09.479Z"
   },
   {
    "duration": 16,
    "start_time": "2021-12-09T18:59:10.413Z"
   },
   {
    "duration": 12,
    "start_time": "2021-12-09T18:59:10.432Z"
   },
   {
    "duration": 16,
    "start_time": "2021-12-09T18:59:10.467Z"
   },
   {
    "duration": 10,
    "start_time": "2021-12-09T18:59:10.486Z"
   },
   {
    "duration": 151,
    "start_time": "2021-12-09T18:59:10.499Z"
   },
   {
    "duration": 409,
    "start_time": "2021-12-09T18:59:10.653Z"
   },
   {
    "duration": -605,
    "start_time": "2021-12-09T18:59:11.669Z"
   },
   {
    "duration": 131,
    "start_time": "2021-12-09T18:59:22.679Z"
   },
   {
    "duration": 6,
    "start_time": "2021-12-09T18:59:39.312Z"
   },
   {
    "duration": 183,
    "start_time": "2021-12-09T18:59:47.137Z"
   },
   {
    "duration": 890,
    "start_time": "2021-12-09T19:04:09.041Z"
   },
   {
    "duration": 947,
    "start_time": "2021-12-09T19:04:24.956Z"
   },
   {
    "duration": 15,
    "start_time": "2021-12-09T19:04:25.906Z"
   },
   {
    "duration": 14,
    "start_time": "2021-12-09T19:04:25.924Z"
   },
   {
    "duration": 43,
    "start_time": "2021-12-09T19:04:25.942Z"
   },
   {
    "duration": 10,
    "start_time": "2021-12-09T19:04:25.989Z"
   },
   {
    "duration": 6,
    "start_time": "2021-12-09T19:04:26.002Z"
   },
   {
    "duration": -609,
    "start_time": "2021-12-09T19:04:26.620Z"
   },
   {
    "duration": -614,
    "start_time": "2021-12-09T19:04:26.627Z"
   },
   {
    "duration": 923,
    "start_time": "2021-12-09T19:04:39.940Z"
   },
   {
    "duration": 103,
    "start_time": "2021-12-09T19:11:24.333Z"
   },
   {
    "duration": 158,
    "start_time": "2021-12-09T19:11:36.144Z"
   },
   {
    "duration": 928,
    "start_time": "2021-12-09T19:12:13.461Z"
   },
   {
    "duration": 17,
    "start_time": "2021-12-09T19:12:14.392Z"
   },
   {
    "duration": 14,
    "start_time": "2021-12-09T19:12:14.411Z"
   },
   {
    "duration": 53,
    "start_time": "2021-12-09T19:12:14.429Z"
   },
   {
    "duration": 12,
    "start_time": "2021-12-09T19:12:14.485Z"
   },
   {
    "duration": 190,
    "start_time": "2021-12-09T19:12:14.500Z"
   },
   {
    "duration": 401,
    "start_time": "2021-12-09T19:12:14.693Z"
   },
   {
    "duration": -650,
    "start_time": "2021-12-09T19:12:15.747Z"
   },
   {
    "duration": 102,
    "start_time": "2021-12-09T19:12:36.942Z"
   },
   {
    "duration": 103,
    "start_time": "2021-12-09T19:14:08.703Z"
   },
   {
    "duration": 150,
    "start_time": "2021-12-09T19:14:15.988Z"
   },
   {
    "duration": 168,
    "start_time": "2021-12-09T19:14:25.669Z"
   },
   {
    "duration": 159,
    "start_time": "2021-12-09T19:14:28.491Z"
   },
   {
    "duration": 105,
    "start_time": "2021-12-09T19:14:38.138Z"
   },
   {
    "duration": 100,
    "start_time": "2021-12-09T19:14:50.994Z"
   },
   {
    "duration": 104,
    "start_time": "2021-12-09T19:14:59.932Z"
   },
   {
    "duration": 92,
    "start_time": "2021-12-09T19:15:22.139Z"
   },
   {
    "duration": 64,
    "start_time": "2021-12-09T19:16:02.082Z"
   },
   {
    "duration": 21,
    "start_time": "2021-12-09T19:16:11.085Z"
   },
   {
    "duration": 53,
    "start_time": "2021-12-09T19:16:19.980Z"
   },
   {
    "duration": 55,
    "start_time": "2021-12-09T19:19:25.782Z"
   },
   {
    "duration": 47,
    "start_time": "2021-12-09T19:19:44.176Z"
   },
   {
    "duration": 54,
    "start_time": "2021-12-09T19:20:44.394Z"
   },
   {
    "duration": 49,
    "start_time": "2021-12-09T19:21:05.357Z"
   },
   {
    "duration": 50,
    "start_time": "2021-12-09T19:21:35.269Z"
   },
   {
    "duration": 359,
    "start_time": "2021-12-09T19:22:19.107Z"
   },
   {
    "duration": 43,
    "start_time": "2021-12-09T19:22:36.119Z"
   },
   {
    "duration": 48,
    "start_time": "2021-12-09T19:24:08.068Z"
   },
   {
    "duration": 52,
    "start_time": "2021-12-09T19:26:09.034Z"
   },
   {
    "duration": 60,
    "start_time": "2021-12-09T19:26:54.680Z"
   },
   {
    "duration": 62,
    "start_time": "2021-12-09T19:27:14.107Z"
   },
   {
    "duration": 52,
    "start_time": "2021-12-09T19:27:53.852Z"
   },
   {
    "duration": 47,
    "start_time": "2021-12-09T19:36:53.278Z"
   },
   {
    "duration": 49,
    "start_time": "2021-12-09T19:37:30.265Z"
   },
   {
    "duration": 1067,
    "start_time": "2021-12-09T19:37:42.644Z"
   },
   {
    "duration": 21,
    "start_time": "2021-12-09T19:37:43.715Z"
   },
   {
    "duration": 38,
    "start_time": "2021-12-09T19:37:43.739Z"
   },
   {
    "duration": 17,
    "start_time": "2021-12-09T19:37:43.781Z"
   },
   {
    "duration": 13,
    "start_time": "2021-12-09T19:37:43.801Z"
   },
   {
    "duration": 139,
    "start_time": "2021-12-09T19:37:43.817Z"
   },
   {
    "duration": 27,
    "start_time": "2021-12-09T19:37:43.967Z"
   },
   {
    "duration": 71,
    "start_time": "2021-12-09T19:37:43.998Z"
   },
   {
    "duration": 9,
    "start_time": "2021-12-09T19:37:56.008Z"
   },
   {
    "duration": 869,
    "start_time": "2021-12-09T19:40:49.646Z"
   },
   {
    "duration": 295,
    "start_time": "2021-12-09T19:41:24.197Z"
   },
   {
    "duration": 114,
    "start_time": "2021-12-09T19:42:15.368Z"
   },
   {
    "duration": 441,
    "start_time": "2021-12-09T19:42:44.937Z"
   },
   {
    "duration": 393,
    "start_time": "2021-12-09T19:42:59.548Z"
   },
   {
    "duration": 39,
    "start_time": "2021-12-09T19:43:38.804Z"
   },
   {
    "duration": 46,
    "start_time": "2021-12-09T19:43:53.157Z"
   },
   {
    "duration": 105,
    "start_time": "2021-12-09T19:44:12.036Z"
   },
   {
    "duration": 32,
    "start_time": "2021-12-09T19:44:12.144Z"
   },
   {
    "duration": 15,
    "start_time": "2021-12-09T19:44:12.181Z"
   },
   {
    "duration": 26,
    "start_time": "2021-12-09T19:44:12.199Z"
   },
   {
    "duration": 14,
    "start_time": "2021-12-09T19:44:12.228Z"
   },
   {
    "duration": 93,
    "start_time": "2021-12-09T19:44:12.246Z"
   },
   {
    "duration": 45,
    "start_time": "2021-12-09T19:44:12.342Z"
   },
   {
    "duration": 39,
    "start_time": "2021-12-09T19:44:15.697Z"
   },
   {
    "duration": 10,
    "start_time": "2021-12-09T19:48:50.536Z"
   },
   {
    "duration": 17,
    "start_time": "2021-12-09T19:49:59.705Z"
   },
   {
    "duration": 10,
    "start_time": "2021-12-09T19:51:07.664Z"
   },
   {
    "duration": 105,
    "start_time": "2021-12-09T19:54:48.811Z"
   },
   {
    "duration": 189,
    "start_time": "2021-12-09T19:55:21.390Z"
   },
   {
    "duration": 95,
    "start_time": "2021-12-09T19:55:26.174Z"
   },
   {
    "duration": 113,
    "start_time": "2021-12-09T19:55:45.869Z"
   },
   {
    "duration": 292,
    "start_time": "2021-12-09T19:56:03.177Z"
   },
   {
    "duration": 376,
    "start_time": "2021-12-09T19:56:43.703Z"
   },
   {
    "duration": 3877,
    "start_time": "2021-12-09T19:56:57.349Z"
   },
   {
    "duration": 164,
    "start_time": "2021-12-09T19:59:50.748Z"
   },
   {
    "duration": 489,
    "start_time": "2021-12-09T20:00:00.882Z"
   },
   {
    "duration": 910,
    "start_time": "2021-12-09T20:00:51.605Z"
   },
   {
    "duration": 21,
    "start_time": "2021-12-09T20:00:52.518Z"
   },
   {
    "duration": 30,
    "start_time": "2021-12-09T20:00:52.542Z"
   },
   {
    "duration": 16,
    "start_time": "2021-12-09T20:00:52.584Z"
   },
   {
    "duration": 12,
    "start_time": "2021-12-09T20:00:52.604Z"
   },
   {
    "duration": 116,
    "start_time": "2021-12-09T20:00:52.619Z"
   },
   {
    "duration": 480,
    "start_time": "2021-12-09T20:01:10.819Z"
   },
   {
    "duration": 28,
    "start_time": "2021-12-09T20:01:35.315Z"
   },
   {
    "duration": 20,
    "start_time": "2021-12-09T20:03:18.392Z"
   },
   {
    "duration": 105,
    "start_time": "2021-12-09T20:04:31.112Z"
   },
   {
    "duration": 16,
    "start_time": "2021-12-09T20:04:31.220Z"
   },
   {
    "duration": 34,
    "start_time": "2021-12-09T20:04:31.239Z"
   },
   {
    "duration": 36,
    "start_time": "2021-12-09T20:04:31.277Z"
   },
   {
    "duration": 12,
    "start_time": "2021-12-09T20:04:31.315Z"
   },
   {
    "duration": 118,
    "start_time": "2021-12-09T20:04:31.329Z"
   },
   {
    "duration": 39,
    "start_time": "2021-12-09T20:04:31.453Z"
   },
   {
    "duration": 54,
    "start_time": "2021-12-09T20:04:35.035Z"
   },
   {
    "duration": 21,
    "start_time": "2021-12-09T20:04:43.303Z"
   },
   {
    "duration": 21,
    "start_time": "2021-12-09T20:04:57.456Z"
   },
   {
    "duration": 26,
    "start_time": "2021-12-09T20:06:00.211Z"
   },
   {
    "duration": 92,
    "start_time": "2021-12-09T20:11:15.696Z"
   },
   {
    "duration": 128,
    "start_time": "2021-12-09T20:11:58.759Z"
   },
   {
    "duration": 120,
    "start_time": "2021-12-09T20:13:28.980Z"
   },
   {
    "duration": 113,
    "start_time": "2021-12-09T20:13:51.714Z"
   },
   {
    "duration": 96,
    "start_time": "2021-12-09T20:13:58.300Z"
   },
   {
    "duration": 138,
    "start_time": "2021-12-09T20:14:05.689Z"
   },
   {
    "duration": 90,
    "start_time": "2021-12-09T20:14:10.835Z"
   },
   {
    "duration": 111,
    "start_time": "2021-12-09T20:15:37.726Z"
   },
   {
    "duration": 168,
    "start_time": "2021-12-09T20:15:47.848Z"
   },
   {
    "duration": 98,
    "start_time": "2021-12-09T20:16:25.414Z"
   },
   {
    "duration": 92,
    "start_time": "2021-12-09T20:18:01.893Z"
   },
   {
    "duration": 578,
    "start_time": "2021-12-10T15:10:52.439Z"
   },
   {
    "duration": 10,
    "start_time": "2021-12-10T15:10:53.019Z"
   },
   {
    "duration": 11,
    "start_time": "2021-12-10T15:10:53.031Z"
   },
   {
    "duration": 8,
    "start_time": "2021-12-10T15:10:53.043Z"
   },
   {
    "duration": 7,
    "start_time": "2021-12-10T15:10:53.053Z"
   },
   {
    "duration": 53,
    "start_time": "2021-12-10T15:10:53.061Z"
   },
   {
    "duration": 9,
    "start_time": "2021-12-10T15:10:53.116Z"
   },
   {
    "duration": 25,
    "start_time": "2021-12-10T15:10:53.127Z"
   },
   {
    "duration": 97,
    "start_time": "2021-12-10T15:10:53.154Z"
   },
   {
    "duration": 388,
    "start_time": "2021-12-10T15:20:27.133Z"
   },
   {
    "duration": 256,
    "start_time": "2021-12-10T15:21:39.982Z"
   },
   {
    "duration": 81,
    "start_time": "2021-12-10T15:22:49.299Z"
   },
   {
    "duration": 16,
    "start_time": "2021-12-10T15:23:43.352Z"
   },
   {
    "duration": 576,
    "start_time": "2021-12-10T15:24:42.929Z"
   },
   {
    "duration": 9,
    "start_time": "2021-12-10T15:24:43.507Z"
   },
   {
    "duration": 8,
    "start_time": "2021-12-10T15:24:43.518Z"
   },
   {
    "duration": 7,
    "start_time": "2021-12-10T15:24:43.528Z"
   },
   {
    "duration": 7,
    "start_time": "2021-12-10T15:24:47.661Z"
   },
   {
    "duration": 40,
    "start_time": "2021-12-10T15:24:51.226Z"
   },
   {
    "duration": 13,
    "start_time": "2021-12-10T15:24:55.363Z"
   },
   {
    "duration": 25,
    "start_time": "2021-12-10T15:24:58.626Z"
   },
   {
    "duration": 15,
    "start_time": "2021-12-10T15:25:12.760Z"
   },
   {
    "duration": 11,
    "start_time": "2021-12-10T15:25:21.065Z"
   },
   {
    "duration": 27,
    "start_time": "2021-12-10T15:25:24.571Z"
   },
   {
    "duration": 15,
    "start_time": "2021-12-10T15:25:27.688Z"
   },
   {
    "duration": 42,
    "start_time": "2021-12-10T15:37:07.391Z"
   },
   {
    "duration": 41,
    "start_time": "2021-12-10T15:39:06.124Z"
   },
   {
    "duration": 43,
    "start_time": "2021-12-10T15:39:41.841Z"
   },
   {
    "duration": 48,
    "start_time": "2021-12-10T15:41:11.346Z"
   },
   {
    "duration": 40,
    "start_time": "2021-12-10T15:41:26.055Z"
   },
   {
    "duration": 12,
    "start_time": "2021-12-10T15:42:18.655Z"
   },
   {
    "duration": 13,
    "start_time": "2021-12-10T15:44:18.419Z"
   },
   {
    "duration": 24,
    "start_time": "2021-12-10T15:44:21.157Z"
   },
   {
    "duration": 42,
    "start_time": "2021-12-10T15:44:34.140Z"
   },
   {
    "duration": 15,
    "start_time": "2021-12-10T15:44:51.263Z"
   },
   {
    "duration": 597,
    "start_time": "2021-12-10T15:45:02.432Z"
   },
   {
    "duration": 10,
    "start_time": "2021-12-10T15:45:03.032Z"
   },
   {
    "duration": 12,
    "start_time": "2021-12-10T15:45:03.044Z"
   },
   {
    "duration": 13,
    "start_time": "2021-12-10T15:45:03.057Z"
   },
   {
    "duration": 17,
    "start_time": "2021-12-10T15:45:03.072Z"
   },
   {
    "duration": 42,
    "start_time": "2021-12-10T15:45:03.091Z"
   },
   {
    "duration": 11,
    "start_time": "2021-12-10T15:45:03.134Z"
   },
   {
    "duration": 14,
    "start_time": "2021-12-10T15:45:03.147Z"
   },
   {
    "duration": 47,
    "start_time": "2021-12-10T15:45:03.162Z"
   },
   {
    "duration": 15,
    "start_time": "2021-12-10T15:45:03.211Z"
   },
   {
    "duration": 15,
    "start_time": "2021-12-10T15:45:15.443Z"
   },
   {
    "duration": 60,
    "start_time": "2021-12-10T15:45:22.240Z"
   },
   {
    "duration": 9,
    "start_time": "2021-12-10T15:45:22.302Z"
   },
   {
    "duration": 9,
    "start_time": "2021-12-10T15:45:22.313Z"
   },
   {
    "duration": 9,
    "start_time": "2021-12-10T15:45:22.324Z"
   },
   {
    "duration": 6,
    "start_time": "2021-12-10T15:45:22.334Z"
   },
   {
    "duration": 66,
    "start_time": "2021-12-10T15:45:22.342Z"
   },
   {
    "duration": 11,
    "start_time": "2021-12-10T15:45:22.410Z"
   },
   {
    "duration": 11,
    "start_time": "2021-12-10T15:45:22.423Z"
   },
   {
    "duration": 22,
    "start_time": "2021-12-10T15:45:22.436Z"
   },
   {
    "duration": 16,
    "start_time": "2021-12-10T15:45:22.488Z"
   },
   {
    "duration": 77,
    "start_time": "2021-12-10T15:46:27.966Z"
   },
   {
    "duration": 5,
    "start_time": "2021-12-10T15:46:32.082Z"
   },
   {
    "duration": 25,
    "start_time": "2021-12-10T15:47:23.042Z"
   },
   {
    "duration": 5,
    "start_time": "2021-12-10T15:47:39.669Z"
   },
   {
    "duration": 7,
    "start_time": "2021-12-10T15:53:45.031Z"
   },
   {
    "duration": 625,
    "start_time": "2021-12-10T15:53:55.449Z"
   },
   {
    "duration": 11,
    "start_time": "2021-12-10T15:53:56.075Z"
   },
   {
    "duration": 8,
    "start_time": "2021-12-10T15:53:56.088Z"
   },
   {
    "duration": 10,
    "start_time": "2021-12-10T15:53:56.098Z"
   },
   {
    "duration": 7,
    "start_time": "2021-12-10T15:53:56.109Z"
   },
   {
    "duration": 42,
    "start_time": "2021-12-10T15:53:56.117Z"
   },
   {
    "duration": 650,
    "start_time": "2021-12-10T15:55:36.060Z"
   },
   {
    "duration": 12,
    "start_time": "2021-12-10T15:55:36.712Z"
   },
   {
    "duration": 9,
    "start_time": "2021-12-10T15:55:36.729Z"
   },
   {
    "duration": 9,
    "start_time": "2021-12-10T15:55:36.739Z"
   },
   {
    "duration": 7,
    "start_time": "2021-12-10T15:55:36.749Z"
   },
   {
    "duration": 43,
    "start_time": "2021-12-10T15:55:36.788Z"
   },
   {
    "duration": 638,
    "start_time": "2021-12-10T15:57:01.153Z"
   },
   {
    "duration": 10,
    "start_time": "2021-12-10T15:57:01.793Z"
   },
   {
    "duration": 19,
    "start_time": "2021-12-10T15:57:01.807Z"
   },
   {
    "duration": 10,
    "start_time": "2021-12-10T15:57:01.827Z"
   },
   {
    "duration": 12,
    "start_time": "2021-12-10T15:57:01.839Z"
   },
   {
    "duration": 58,
    "start_time": "2021-12-10T15:57:01.853Z"
   },
   {
    "duration": 632,
    "start_time": "2021-12-10T15:57:59.291Z"
   },
   {
    "duration": 10,
    "start_time": "2021-12-10T15:57:59.925Z"
   },
   {
    "duration": 16,
    "start_time": "2021-12-10T15:57:59.936Z"
   },
   {
    "duration": 9,
    "start_time": "2021-12-10T15:57:59.954Z"
   },
   {
    "duration": 7,
    "start_time": "2021-12-10T15:57:59.965Z"
   },
   {
    "duration": 51,
    "start_time": "2021-12-10T15:57:59.973Z"
   },
   {
    "duration": 613,
    "start_time": "2021-12-10T16:01:47.785Z"
   },
   {
    "duration": 10,
    "start_time": "2021-12-10T16:01:48.400Z"
   },
   {
    "duration": 8,
    "start_time": "2021-12-10T16:01:48.414Z"
   },
   {
    "duration": 8,
    "start_time": "2021-12-10T16:01:48.424Z"
   },
   {
    "duration": 6,
    "start_time": "2021-12-10T16:01:48.433Z"
   },
   {
    "duration": 61,
    "start_time": "2021-12-10T16:01:48.440Z"
   },
   {
    "duration": 946,
    "start_time": "2021-12-11T13:56:10.035Z"
   },
   {
    "duration": 15,
    "start_time": "2021-12-11T13:56:10.984Z"
   },
   {
    "duration": 12,
    "start_time": "2021-12-11T13:56:11.003Z"
   },
   {
    "duration": 13,
    "start_time": "2021-12-11T13:56:11.018Z"
   },
   {
    "duration": 43,
    "start_time": "2021-12-11T13:56:11.033Z"
   },
   {
    "duration": 67,
    "start_time": "2021-12-11T13:56:11.078Z"
   },
   {
    "duration": 590,
    "start_time": "2021-12-11T13:56:11.168Z"
   },
   {
    "duration": -480,
    "start_time": "2021-12-11T13:56:12.240Z"
   },
   {
    "duration": -488,
    "start_time": "2021-12-11T13:56:12.250Z"
   },
   {
    "duration": -495,
    "start_time": "2021-12-11T13:56:12.259Z"
   },
   {
    "duration": 507,
    "start_time": "2021-12-11T13:56:58.530Z"
   },
   {
    "duration": -455,
    "start_time": "2021-12-11T14:14:44.701Z"
   },
   {
    "duration": 6,
    "start_time": "2021-12-11T14:26:41.956Z"
   },
   {
    "duration": 83,
    "start_time": "2021-12-11T14:26:50.814Z"
   },
   {
    "duration": 91,
    "start_time": "2021-12-11T14:27:09.463Z"
   },
   {
    "duration": 19,
    "start_time": "2021-12-11T14:27:09.557Z"
   },
   {
    "duration": 13,
    "start_time": "2021-12-11T14:27:09.579Z"
   },
   {
    "duration": 13,
    "start_time": "2021-12-11T14:27:09.594Z"
   },
   {
    "duration": 10,
    "start_time": "2021-12-11T14:27:09.609Z"
   },
   {
    "duration": 73,
    "start_time": "2021-12-11T14:27:14.348Z"
   },
   {
    "duration": 829,
    "start_time": "2021-12-11T14:30:17.323Z"
   },
   {
    "duration": 15,
    "start_time": "2021-12-11T14:30:18.155Z"
   },
   {
    "duration": 14,
    "start_time": "2021-12-11T14:30:18.173Z"
   },
   {
    "duration": 13,
    "start_time": "2021-12-11T14:30:18.190Z"
   },
   {
    "duration": 11,
    "start_time": "2021-12-11T14:30:18.207Z"
   },
   {
    "duration": 115,
    "start_time": "2021-12-11T14:30:18.221Z"
   },
   {
    "duration": 873,
    "start_time": "2021-12-11T14:31:15.819Z"
   },
   {
    "duration": 16,
    "start_time": "2021-12-11T14:31:16.695Z"
   },
   {
    "duration": 30,
    "start_time": "2021-12-11T14:31:16.714Z"
   },
   {
    "duration": 30,
    "start_time": "2021-12-11T14:31:16.747Z"
   },
   {
    "duration": 12,
    "start_time": "2021-12-11T14:31:16.779Z"
   },
   {
    "duration": 93,
    "start_time": "2021-12-11T14:31:16.794Z"
   },
   {
    "duration": 1102,
    "start_time": "2021-12-11T14:32:52.382Z"
   },
   {
    "duration": 17,
    "start_time": "2021-12-11T14:32:53.488Z"
   },
   {
    "duration": 13,
    "start_time": "2021-12-11T14:32:53.508Z"
   },
   {
    "duration": 49,
    "start_time": "2021-12-11T14:32:53.524Z"
   },
   {
    "duration": 9,
    "start_time": "2021-12-11T14:32:53.576Z"
   },
   {
    "duration": 98,
    "start_time": "2021-12-11T14:32:53.588Z"
   },
   {
    "duration": 906,
    "start_time": "2021-12-11T14:33:33.851Z"
   },
   {
    "duration": 20,
    "start_time": "2021-12-11T14:33:34.759Z"
   },
   {
    "duration": 12,
    "start_time": "2021-12-11T14:33:34.782Z"
   },
   {
    "duration": 16,
    "start_time": "2021-12-11T14:33:34.797Z"
   },
   {
    "duration": 9,
    "start_time": "2021-12-11T14:33:34.815Z"
   },
   {
    "duration": 74,
    "start_time": "2021-12-11T14:33:34.867Z"
   },
   {
    "duration": 94,
    "start_time": "2021-12-11T14:33:34.944Z"
   },
   {
    "duration": -417,
    "start_time": "2021-12-11T14:33:35.458Z"
   },
   {
    "duration": -447,
    "start_time": "2021-12-11T14:33:35.489Z"
   },
   {
    "duration": -456,
    "start_time": "2021-12-11T14:33:35.500Z"
   },
   {
    "duration": 11,
    "start_time": "2021-12-11T14:33:46.357Z"
   },
   {
    "duration": 28217,
    "start_time": "2021-12-11T14:42:22.914Z"
   },
   {
    "duration": 1552,
    "start_time": "2021-12-11T14:45:31.462Z"
   },
   {
    "duration": 16,
    "start_time": "2021-12-11T14:45:33.017Z"
   },
   {
    "duration": 34,
    "start_time": "2021-12-11T14:45:33.039Z"
   },
   {
    "duration": 15,
    "start_time": "2021-12-11T14:45:33.076Z"
   },
   {
    "duration": 10,
    "start_time": "2021-12-11T14:45:33.094Z"
   },
   {
    "duration": 108,
    "start_time": "2021-12-11T14:45:33.106Z"
   },
   {
    "duration": 943,
    "start_time": "2021-12-11T14:46:23.660Z"
   },
   {
    "duration": 20,
    "start_time": "2021-12-11T14:46:24.606Z"
   },
   {
    "duration": 23,
    "start_time": "2021-12-11T14:46:24.629Z"
   },
   {
    "duration": 25,
    "start_time": "2021-12-11T14:46:24.669Z"
   },
   {
    "duration": 10,
    "start_time": "2021-12-11T14:46:24.697Z"
   },
   {
    "duration": 104,
    "start_time": "2021-12-11T14:46:24.710Z"
   },
   {
    "duration": 931,
    "start_time": "2021-12-11T14:47:31.373Z"
   },
   {
    "duration": 15,
    "start_time": "2021-12-11T14:47:32.306Z"
   },
   {
    "duration": 13,
    "start_time": "2021-12-11T14:47:32.324Z"
   },
   {
    "duration": 38,
    "start_time": "2021-12-11T14:47:32.340Z"
   },
   {
    "duration": 9,
    "start_time": "2021-12-11T14:47:32.381Z"
   },
   {
    "duration": 110,
    "start_time": "2021-12-11T14:47:32.392Z"
   },
   {
    "duration": 822,
    "start_time": "2021-12-11T14:48:32.610Z"
   },
   {
    "duration": 16,
    "start_time": "2021-12-11T14:48:33.435Z"
   },
   {
    "duration": 27,
    "start_time": "2021-12-11T14:48:33.453Z"
   },
   {
    "duration": 27,
    "start_time": "2021-12-11T14:48:33.483Z"
   },
   {
    "duration": 29,
    "start_time": "2021-12-11T14:48:33.512Z"
   },
   {
    "duration": 89,
    "start_time": "2021-12-11T14:48:33.544Z"
   },
   {
    "duration": 840,
    "start_time": "2021-12-11T14:50:18.608Z"
   },
   {
    "duration": 25,
    "start_time": "2021-12-11T14:50:19.451Z"
   },
   {
    "duration": 15,
    "start_time": "2021-12-11T14:50:19.483Z"
   },
   {
    "duration": 15,
    "start_time": "2021-12-11T14:50:19.500Z"
   },
   {
    "duration": 52,
    "start_time": "2021-12-11T14:50:19.518Z"
   },
   {
    "duration": 104,
    "start_time": "2021-12-11T14:50:19.573Z"
   },
   {
    "duration": 845,
    "start_time": "2021-12-11T14:51:11.609Z"
   },
   {
    "duration": 23,
    "start_time": "2021-12-11T14:51:12.458Z"
   },
   {
    "duration": 14,
    "start_time": "2021-12-11T14:51:12.488Z"
   },
   {
    "duration": 14,
    "start_time": "2021-12-11T14:51:12.505Z"
   },
   {
    "duration": 10,
    "start_time": "2021-12-11T14:51:12.568Z"
   },
   {
    "duration": 104,
    "start_time": "2021-12-11T14:51:12.580Z"
   },
   {
    "duration": 912,
    "start_time": "2021-12-11T14:52:00.866Z"
   },
   {
    "duration": 15,
    "start_time": "2021-12-11T14:52:01.781Z"
   },
   {
    "duration": 15,
    "start_time": "2021-12-11T14:52:01.799Z"
   },
   {
    "duration": 14,
    "start_time": "2021-12-11T14:52:01.817Z"
   },
   {
    "duration": 17,
    "start_time": "2021-12-11T14:52:01.867Z"
   },
   {
    "duration": 91,
    "start_time": "2021-12-11T14:52:01.886Z"
   },
   {
    "duration": 367,
    "start_time": "2021-12-11T14:52:50.952Z"
   },
   {
    "duration": 868,
    "start_time": "2021-12-11T14:53:04.221Z"
   },
   {
    "duration": 15,
    "start_time": "2021-12-11T14:53:05.092Z"
   },
   {
    "duration": 12,
    "start_time": "2021-12-11T14:53:05.111Z"
   },
   {
    "duration": 41,
    "start_time": "2021-12-11T14:53:05.126Z"
   },
   {
    "duration": 10,
    "start_time": "2021-12-11T14:53:05.170Z"
   },
   {
    "duration": 101,
    "start_time": "2021-12-11T14:53:05.183Z"
   },
   {
    "duration": 861,
    "start_time": "2021-12-11T14:54:27.026Z"
   },
   {
    "duration": 15,
    "start_time": "2021-12-11T14:54:27.890Z"
   },
   {
    "duration": 13,
    "start_time": "2021-12-11T14:54:27.907Z"
   },
   {
    "duration": 45,
    "start_time": "2021-12-11T14:54:27.923Z"
   },
   {
    "duration": 10,
    "start_time": "2021-12-11T14:54:27.970Z"
   },
   {
    "duration": 94,
    "start_time": "2021-12-11T14:54:27.982Z"
   },
   {
    "duration": 86,
    "start_time": "2021-12-11T14:54:28.079Z"
   },
   {
    "duration": -436,
    "start_time": "2021-12-11T14:54:28.603Z"
   },
   {
    "duration": -444,
    "start_time": "2021-12-11T14:54:28.613Z"
   },
   {
    "duration": -451,
    "start_time": "2021-12-11T14:54:28.622Z"
   },
   {
    "duration": 172,
    "start_time": "2021-12-11T14:54:38.756Z"
   },
   {
    "duration": 25,
    "start_time": "2021-12-11T14:55:31.549Z"
   },
   {
    "duration": 1011,
    "start_time": "2021-12-11T14:55:35.163Z"
   },
   {
    "duration": 15,
    "start_time": "2021-12-11T14:55:36.177Z"
   },
   {
    "duration": 12,
    "start_time": "2021-12-11T14:55:36.195Z"
   },
   {
    "duration": 22,
    "start_time": "2021-12-11T14:55:36.210Z"
   },
   {
    "duration": 38,
    "start_time": "2021-12-11T14:55:36.235Z"
   },
   {
    "duration": 94,
    "start_time": "2021-12-11T14:55:36.276Z"
   },
   {
    "duration": 10166,
    "start_time": "2021-12-11T14:55:36.372Z"
   },
   {
    "duration": 31,
    "start_time": "2021-12-11T14:55:46.542Z"
   },
   {
    "duration": 38,
    "start_time": "2021-12-11T14:55:46.575Z"
   },
   {
    "duration": 13,
    "start_time": "2021-12-11T14:55:46.616Z"
   },
   {
    "duration": 28536,
    "start_time": "2021-12-11T14:55:56.040Z"
   },
   {
    "duration": 6,
    "start_time": "2021-12-11T14:56:29.107Z"
   },
   {
    "duration": 106,
    "start_time": "2021-12-11T15:00:39.962Z"
   },
   {
    "duration": 17,
    "start_time": "2021-12-11T15:00:40.072Z"
   },
   {
    "duration": 13,
    "start_time": "2021-12-11T15:00:40.092Z"
   },
   {
    "duration": 16,
    "start_time": "2021-12-11T15:00:40.108Z"
   },
   {
    "duration": 47,
    "start_time": "2021-12-11T15:00:40.126Z"
   },
   {
    "duration": 95,
    "start_time": "2021-12-11T15:00:40.175Z"
   },
   {
    "duration": 4,
    "start_time": "2021-12-11T15:00:40.274Z"
   },
   {
    "duration": -1977,
    "start_time": "2021-12-11T15:00:42.257Z"
   },
   {
    "duration": -2036,
    "start_time": "2021-12-11T15:00:42.318Z"
   },
   {
    "duration": -2043,
    "start_time": "2021-12-11T15:00:42.326Z"
   },
   {
    "duration": -2049,
    "start_time": "2021-12-11T15:00:42.334Z"
   },
   {
    "duration": 890,
    "start_time": "2021-12-11T15:04:27.053Z"
   },
   {
    "duration": 24,
    "start_time": "2021-12-11T15:04:27.946Z"
   },
   {
    "duration": 14,
    "start_time": "2021-12-11T15:04:27.974Z"
   },
   {
    "duration": 23,
    "start_time": "2021-12-11T15:04:27.991Z"
   },
   {
    "duration": 11,
    "start_time": "2021-12-11T15:04:28.017Z"
   },
   {
    "duration": 104,
    "start_time": "2021-12-11T15:04:28.031Z"
   },
   {
    "duration": 114,
    "start_time": "2021-12-11T15:04:38.431Z"
   },
   {
    "duration": 32,
    "start_time": "2021-12-11T15:04:38.547Z"
   },
   {
    "duration": 13,
    "start_time": "2021-12-11T15:04:38.581Z"
   },
   {
    "duration": 13,
    "start_time": "2021-12-11T15:04:38.596Z"
   },
   {
    "duration": 58,
    "start_time": "2021-12-11T15:04:38.611Z"
   },
   {
    "duration": 97,
    "start_time": "2021-12-11T15:04:38.671Z"
   },
   {
    "duration": 10055,
    "start_time": "2021-12-11T15:04:38.771Z"
   },
   {
    "duration": 6,
    "start_time": "2021-12-11T15:04:48.829Z"
   },
   {
    "duration": 45,
    "start_time": "2021-12-11T15:04:48.837Z"
   },
   {
    "duration": 39,
    "start_time": "2021-12-11T15:04:48.884Z"
   },
   {
    "duration": 46,
    "start_time": "2021-12-11T15:04:48.925Z"
   },
   {
    "duration": 14,
    "start_time": "2021-12-11T15:09:50.567Z"
   },
   {
    "duration": 13,
    "start_time": "2021-12-11T15:10:34.071Z"
   },
   {
    "duration": 18,
    "start_time": "2021-12-11T15:11:03.042Z"
   },
   {
    "duration": 18,
    "start_time": "2021-12-11T15:11:20.437Z"
   },
   {
    "duration": 404,
    "start_time": "2021-12-11T15:12:53.587Z"
   },
   {
    "duration": 324,
    "start_time": "2021-12-11T15:13:19.711Z"
   },
   {
    "duration": 805,
    "start_time": "2021-12-11T15:13:36.122Z"
   },
   {
    "duration": 302,
    "start_time": "2021-12-11T15:15:30.555Z"
   },
   {
    "duration": 364,
    "start_time": "2021-12-11T15:15:41.952Z"
   },
   {
    "duration": 297,
    "start_time": "2021-12-11T15:16:10.455Z"
   },
   {
    "duration": 350,
    "start_time": "2021-12-11T15:16:35.136Z"
   },
   {
    "duration": 298,
    "start_time": "2021-12-11T15:16:49.627Z"
   },
   {
    "duration": 340,
    "start_time": "2021-12-11T15:17:11.049Z"
   },
   {
    "duration": 12,
    "start_time": "2021-12-11T15:17:33.284Z"
   },
   {
    "duration": 25,
    "start_time": "2021-12-11T15:17:40.878Z"
   },
   {
    "duration": 16,
    "start_time": "2021-12-11T15:18:43.350Z"
   },
   {
    "duration": 11,
    "start_time": "2021-12-11T15:19:21.939Z"
   },
   {
    "duration": 16,
    "start_time": "2021-12-11T15:19:27.573Z"
   },
   {
    "duration": 352,
    "start_time": "2021-12-11T15:22:10.594Z"
   },
   {
    "duration": 19,
    "start_time": "2021-12-11T15:22:22.081Z"
   },
   {
    "duration": 21,
    "start_time": "2021-12-11T15:23:38.402Z"
   },
   {
    "duration": 326,
    "start_time": "2021-12-11T15:29:11.271Z"
   },
   {
    "duration": 14,
    "start_time": "2021-12-11T15:29:20.666Z"
   },
   {
    "duration": 2137,
    "start_time": "2021-12-11T15:33:21.724Z"
   },
   {
    "duration": 137,
    "start_time": "2021-12-11T15:38:26.540Z"
   },
   {
    "duration": 42,
    "start_time": "2021-12-11T15:38:31.185Z"
   },
   {
    "duration": 482,
    "start_time": "2021-12-11T15:41:54.564Z"
   },
   {
    "duration": 37,
    "start_time": "2021-12-11T15:42:14.542Z"
   },
   {
    "duration": 41,
    "start_time": "2021-12-11T15:42:30.832Z"
   },
   {
    "duration": 39,
    "start_time": "2021-12-11T15:42:56.790Z"
   },
   {
    "duration": 51,
    "start_time": "2021-12-11T15:43:11.572Z"
   },
   {
    "duration": 79,
    "start_time": "2021-12-11T15:49:30.603Z"
   },
   {
    "duration": 34,
    "start_time": "2021-12-11T15:51:39.637Z"
   },
   {
    "duration": 10,
    "start_time": "2021-12-11T16:01:01.351Z"
   },
   {
    "duration": 296,
    "start_time": "2021-12-11T16:02:24.068Z"
   },
   {
    "duration": 8,
    "start_time": "2021-12-11T16:05:50.111Z"
   },
   {
    "duration": 7226,
    "start_time": "2021-12-11T16:07:13.821Z"
   },
   {
    "duration": 8,
    "start_time": "2021-12-11T16:08:02.463Z"
   },
   {
    "duration": 931,
    "start_time": "2021-12-11T16:08:11.792Z"
   },
   {
    "duration": 1028,
    "start_time": "2021-12-11T16:08:26.049Z"
   },
   {
    "duration": 340,
    "start_time": "2021-12-11T16:09:21.516Z"
   },
   {
    "duration": 370,
    "start_time": "2021-12-11T16:09:35.249Z"
   },
   {
    "duration": 286,
    "start_time": "2021-12-11T16:09:55.430Z"
   },
   {
    "duration": 309,
    "start_time": "2021-12-11T16:10:05.151Z"
   },
   {
    "duration": 293,
    "start_time": "2021-12-11T16:10:16.883Z"
   },
   {
    "duration": 312,
    "start_time": "2021-12-11T16:10:47.031Z"
   },
   {
    "duration": 305,
    "start_time": "2021-12-11T16:11:05.404Z"
   },
   {
    "duration": 298,
    "start_time": "2021-12-11T16:14:02.714Z"
   },
   {
    "duration": 9,
    "start_time": "2021-12-11T16:35:34.689Z"
   },
   {
    "duration": 14067,
    "start_time": "2021-12-11T16:36:40.655Z"
   },
   {
    "duration": 8535,
    "start_time": "2021-12-11T16:38:02.699Z"
   },
   {
    "duration": 5975,
    "start_time": "2021-12-11T16:39:25.193Z"
   },
   {
    "duration": 5854,
    "start_time": "2021-12-11T16:39:46.715Z"
   },
   {
    "duration": 6632,
    "start_time": "2021-12-11T16:40:44.817Z"
   },
   {
    "duration": 5699,
    "start_time": "2021-12-11T16:41:19.028Z"
   },
   {
    "duration": 5755,
    "start_time": "2021-12-11T16:42:46.195Z"
   },
   {
    "duration": 5741,
    "start_time": "2021-12-11T16:43:03.060Z"
   },
   {
    "duration": 5672,
    "start_time": "2021-12-11T16:43:21.897Z"
   },
   {
    "duration": 5751,
    "start_time": "2021-12-11T16:45:35.147Z"
   },
   {
    "duration": 6454,
    "start_time": "2021-12-11T16:46:03.443Z"
   },
   {
    "duration": 6271,
    "start_time": "2021-12-11T16:46:17.705Z"
   },
   {
    "duration": 6092,
    "start_time": "2021-12-11T16:46:30.876Z"
   },
   {
    "duration": 6050,
    "start_time": "2021-12-11T16:46:53.643Z"
   },
   {
    "duration": 5795,
    "start_time": "2021-12-11T16:47:03.831Z"
   },
   {
    "duration": 330,
    "start_time": "2021-12-11T16:53:18.079Z"
   },
   {
    "duration": 342,
    "start_time": "2021-12-11T16:53:52.242Z"
   },
   {
    "duration": 323,
    "start_time": "2021-12-11T16:53:57.150Z"
   },
   {
    "duration": 44,
    "start_time": "2021-12-11T16:54:30.214Z"
   },
   {
    "duration": 49,
    "start_time": "2021-12-11T16:54:44.098Z"
   },
   {
    "duration": 10,
    "start_time": "2021-12-11T16:58:08.518Z"
   },
   {
    "duration": 39,
    "start_time": "2021-12-11T16:58:41.672Z"
   },
   {
    "duration": 14,
    "start_time": "2021-12-11T16:58:47.521Z"
   },
   {
    "duration": 5,
    "start_time": "2021-12-11T17:06:34.487Z"
   },
   {
    "duration": 611,
    "start_time": "2021-12-11T17:07:45.340Z"
   },
   {
    "duration": 602,
    "start_time": "2021-12-11T17:08:01.511Z"
   },
   {
    "duration": 668,
    "start_time": "2021-12-11T17:08:17.399Z"
   },
   {
    "duration": 608,
    "start_time": "2021-12-11T17:08:34.949Z"
   },
   {
    "duration": 577,
    "start_time": "2021-12-11T17:09:13.414Z"
   },
   {
    "duration": 589,
    "start_time": "2021-12-11T17:09:40.198Z"
   },
   {
    "duration": 621,
    "start_time": "2021-12-11T17:10:54.679Z"
   },
   {
    "duration": 578,
    "start_time": "2021-12-11T17:11:26.303Z"
   },
   {
    "duration": 583,
    "start_time": "2021-12-11T17:12:53.251Z"
   },
   {
    "duration": 871,
    "start_time": "2021-12-11T17:13:13.474Z"
   },
   {
    "duration": 21,
    "start_time": "2021-12-11T17:13:14.349Z"
   },
   {
    "duration": 15,
    "start_time": "2021-12-11T17:13:14.373Z"
   },
   {
    "duration": 15,
    "start_time": "2021-12-11T17:13:14.391Z"
   },
   {
    "duration": 11,
    "start_time": "2021-12-11T17:13:14.408Z"
   },
   {
    "duration": 115,
    "start_time": "2021-12-11T17:13:14.422Z"
   },
   {
    "duration": 10266,
    "start_time": "2021-12-11T17:13:14.540Z"
   },
   {
    "duration": 20,
    "start_time": "2021-12-11T17:13:24.811Z"
   },
   {
    "duration": 104,
    "start_time": "2021-12-11T17:13:24.834Z"
   },
   {
    "duration": 46,
    "start_time": "2021-12-11T17:13:24.941Z"
   },
   {
    "duration": 6362,
    "start_time": "2021-12-11T17:13:24.990Z"
   },
   {
    "duration": 26,
    "start_time": "2021-12-11T17:13:31.356Z"
   },
   {
    "duration": 3484,
    "start_time": "2021-12-11T17:13:31.385Z"
   },
   {
    "duration": 13,
    "start_time": "2021-12-11T17:13:34.871Z"
   },
   {
    "duration": 615,
    "start_time": "2021-12-11T17:13:34.887Z"
   },
   {
    "duration": 589,
    "start_time": "2021-12-11T17:14:50.698Z"
   },
   {
    "duration": 106,
    "start_time": "2021-12-11T17:16:41.421Z"
   },
   {
    "duration": 90,
    "start_time": "2021-12-11T17:18:20.681Z"
   },
   {
    "duration": 107,
    "start_time": "2021-12-11T17:19:10.062Z"
   },
   {
    "duration": 95,
    "start_time": "2021-12-11T17:19:27.808Z"
   },
   {
    "duration": 118,
    "start_time": "2021-12-11T17:19:56.757Z"
   },
   {
    "duration": 142,
    "start_time": "2021-12-11T17:21:33.290Z"
   },
   {
    "duration": 97,
    "start_time": "2021-12-11T17:21:40.868Z"
   },
   {
    "duration": 576,
    "start_time": "2021-12-11T17:21:46.161Z"
   },
   {
    "duration": 122,
    "start_time": "2021-12-11T17:24:17.282Z"
   },
   {
    "duration": 573,
    "start_time": "2021-12-11T17:24:58.607Z"
   },
   {
    "duration": 595,
    "start_time": "2021-12-11T17:25:32.916Z"
   },
   {
    "duration": 574,
    "start_time": "2021-12-11T17:26:02.641Z"
   },
   {
    "duration": 579,
    "start_time": "2021-12-11T17:30:42.310Z"
   },
   {
    "duration": 601,
    "start_time": "2021-12-11T17:30:59.820Z"
   },
   {
    "duration": 603,
    "start_time": "2021-12-11T17:32:00.533Z"
   },
   {
    "duration": 624,
    "start_time": "2021-12-11T17:34:14.221Z"
   },
   {
    "duration": 5,
    "start_time": "2021-12-11T17:37:09.383Z"
   },
   {
    "duration": 503,
    "start_time": "2021-12-11T17:37:23.927Z"
   },
   {
    "duration": 507,
    "start_time": "2021-12-11T17:38:17.453Z"
   },
   {
    "duration": 754,
    "start_time": "2021-12-11T17:40:28.054Z"
   },
   {
    "duration": 1444,
    "start_time": "2021-12-11T17:49:31.719Z"
   },
   {
    "duration": 26,
    "start_time": "2021-12-11T17:50:10.193Z"
   },
   {
    "duration": 28,
    "start_time": "2021-12-11T17:50:35.262Z"
   },
   {
    "duration": 4981,
    "start_time": "2021-12-11T17:53:33.186Z"
   },
   {
    "duration": 403,
    "start_time": "2021-12-11T17:54:55.761Z"
   },
   {
    "duration": 329,
    "start_time": "2021-12-11T17:55:01.428Z"
   },
   {
    "duration": 22,
    "start_time": "2021-12-11T17:55:08.419Z"
   },
   {
    "duration": 23,
    "start_time": "2021-12-11T18:03:47.276Z"
   },
   {
    "duration": 23,
    "start_time": "2021-12-11T18:03:57.636Z"
   },
   {
    "duration": 18,
    "start_time": "2021-12-11T19:08:17.616Z"
   },
   {
    "duration": 18,
    "start_time": "2021-12-11T19:10:58.039Z"
   },
   {
    "duration": 361,
    "start_time": "2021-12-11T19:11:03.741Z"
   },
   {
    "duration": 348,
    "start_time": "2021-12-11T19:12:10.661Z"
   },
   {
    "duration": 323,
    "start_time": "2021-12-11T19:14:07.289Z"
   },
   {
    "duration": 336,
    "start_time": "2021-12-11T19:14:35.662Z"
   },
   {
    "duration": 322,
    "start_time": "2021-12-11T19:17:22.057Z"
   },
   {
    "duration": 341,
    "start_time": "2021-12-11T19:21:28.916Z"
   },
   {
    "duration": 332,
    "start_time": "2021-12-11T19:21:48.512Z"
   },
   {
    "duration": 306,
    "start_time": "2021-12-11T19:22:16.204Z"
   },
   {
    "duration": 337,
    "start_time": "2021-12-11T19:27:02.623Z"
   },
   {
    "duration": 33,
    "start_time": "2021-12-11T19:28:07.277Z"
   },
   {
    "duration": 37,
    "start_time": "2021-12-11T19:28:33.625Z"
   },
   {
    "duration": 36,
    "start_time": "2021-12-11T19:29:04.465Z"
   },
   {
    "duration": 37,
    "start_time": "2021-12-11T19:33:05.418Z"
   },
   {
    "duration": 381,
    "start_time": "2021-12-11T19:33:34.528Z"
   },
   {
    "duration": 845,
    "start_time": "2021-12-11T19:33:51.732Z"
   },
   {
    "duration": 36,
    "start_time": "2021-12-11T19:34:06.310Z"
   },
   {
    "duration": 6,
    "start_time": "2021-12-11T19:37:06.950Z"
   },
   {
    "duration": 8,
    "start_time": "2021-12-11T19:37:39.007Z"
   },
   {
    "duration": 15,
    "start_time": "2021-12-11T19:38:37.853Z"
   },
   {
    "duration": 113,
    "start_time": "2021-12-11T19:41:02.964Z"
   },
   {
    "duration": 283,
    "start_time": "2021-12-11T19:41:39.255Z"
   },
   {
    "duration": 4465,
    "start_time": "2021-12-11T19:41:50.513Z"
   },
   {
    "duration": 105,
    "start_time": "2021-12-11T19:42:33.242Z"
   },
   {
    "duration": 4251,
    "start_time": "2021-12-11T19:42:36.536Z"
   },
   {
    "duration": 4237,
    "start_time": "2021-12-11T19:43:11.637Z"
   },
   {
    "duration": 23,
    "start_time": "2021-12-11T19:43:26.945Z"
   },
   {
    "duration": 23,
    "start_time": "2021-12-11T19:44:13.214Z"
   },
   {
    "duration": 24,
    "start_time": "2021-12-11T19:44:54.864Z"
   },
   {
    "duration": 10,
    "start_time": "2021-12-11T19:45:44.394Z"
   },
   {
    "duration": 305,
    "start_time": "2021-12-11T19:53:25.095Z"
   },
   {
    "duration": 91,
    "start_time": "2021-12-11T19:55:44.638Z"
   },
   {
    "duration": 15,
    "start_time": "2021-12-11T19:56:09.955Z"
   },
   {
    "duration": 14,
    "start_time": "2021-12-11T19:56:17.604Z"
   },
   {
    "duration": 12,
    "start_time": "2021-12-11T19:57:03.539Z"
   },
   {
    "duration": 14,
    "start_time": "2021-12-11T19:57:21.167Z"
   },
   {
    "duration": 12,
    "start_time": "2021-12-11T19:57:29.216Z"
   },
   {
    "duration": 12,
    "start_time": "2021-12-11T19:57:39.992Z"
   },
   {
    "duration": 12,
    "start_time": "2021-12-11T19:58:19.536Z"
   },
   {
    "duration": 14,
    "start_time": "2021-12-11T19:58:49.148Z"
   },
   {
    "duration": 13,
    "start_time": "2021-12-11T19:59:05.411Z"
   },
   {
    "duration": 14,
    "start_time": "2021-12-11T19:59:11.664Z"
   },
   {
    "duration": 16,
    "start_time": "2021-12-11T20:00:02.220Z"
   },
   {
    "duration": 27,
    "start_time": "2021-12-11T20:00:14.594Z"
   },
   {
    "duration": 27,
    "start_time": "2021-12-11T20:04:40.213Z"
   },
   {
    "duration": 28,
    "start_time": "2021-12-11T20:05:08.478Z"
   },
   {
    "duration": 32,
    "start_time": "2021-12-11T20:07:04.897Z"
   },
   {
    "duration": 32,
    "start_time": "2021-12-11T20:09:14.213Z"
   },
   {
    "duration": 396,
    "start_time": "2021-12-11T20:10:27.000Z"
   },
   {
    "duration": 19,
    "start_time": "2021-12-11T20:10:37.729Z"
   },
   {
    "duration": 21,
    "start_time": "2021-12-11T20:10:56.745Z"
   },
   {
    "duration": 21,
    "start_time": "2021-12-11T20:11:45.391Z"
   },
   {
    "duration": 19,
    "start_time": "2021-12-11T20:12:00.931Z"
   },
   {
    "duration": 22,
    "start_time": "2021-12-11T20:12:19.731Z"
   },
   {
    "duration": 8221,
    "start_time": "2021-12-11T20:18:17.649Z"
   },
   {
    "duration": 8626,
    "start_time": "2021-12-11T20:18:52.803Z"
   },
   {
    "duration": 26,
    "start_time": "2021-12-11T20:20:07.043Z"
   },
   {
    "duration": 22,
    "start_time": "2021-12-11T20:27:02.734Z"
   },
   {
    "duration": 27,
    "start_time": "2021-12-11T20:30:16.031Z"
   },
   {
    "duration": 95,
    "start_time": "2021-12-11T20:32:49.898Z"
   },
   {
    "duration": 14,
    "start_time": "2021-12-11T20:32:49.996Z"
   },
   {
    "duration": 14,
    "start_time": "2021-12-11T20:32:50.012Z"
   },
   {
    "duration": 44,
    "start_time": "2021-12-11T20:32:50.029Z"
   },
   {
    "duration": 9,
    "start_time": "2021-12-11T20:32:50.075Z"
   },
   {
    "duration": 121,
    "start_time": "2021-12-11T20:32:50.087Z"
   },
   {
    "duration": 10086,
    "start_time": "2021-12-11T20:32:50.211Z"
   },
   {
    "duration": 17,
    "start_time": "2021-12-11T20:33:00.302Z"
   },
   {
    "duration": 96,
    "start_time": "2021-12-11T20:33:00.322Z"
   },
   {
    "duration": 23,
    "start_time": "2021-12-11T20:33:00.420Z"
   },
   {
    "duration": 26,
    "start_time": "2021-12-11T20:33:00.445Z"
   },
   {
    "duration": 6078,
    "start_time": "2021-12-11T20:33:00.473Z"
   },
   {
    "duration": 23,
    "start_time": "2021-12-11T20:33:06.554Z"
   },
   {
    "duration": 2256,
    "start_time": "2021-12-11T20:33:06.580Z"
   },
   {
    "duration": 31,
    "start_time": "2021-12-11T20:33:08.839Z"
   },
   {
    "duration": 27,
    "start_time": "2021-12-11T20:33:08.873Z"
   },
   {
    "duration": 27,
    "start_time": "2021-12-11T20:33:08.903Z"
   },
   {
    "duration": 62,
    "start_time": "2021-12-11T20:33:08.933Z"
   },
   {
    "duration": 23,
    "start_time": "2021-12-11T20:33:08.998Z"
   },
   {
    "duration": 60,
    "start_time": "2021-12-11T20:33:09.024Z"
   },
   {
    "duration": 435,
    "start_time": "2021-12-12T19:30:53.633Z"
   },
   {
    "duration": 122,
    "start_time": "2021-12-12T19:31:53.724Z"
   },
   {
    "duration": 934,
    "start_time": "2021-12-12T19:32:30.912Z"
   },
   {
    "duration": 29,
    "start_time": "2021-12-12T19:32:31.848Z"
   },
   {
    "duration": 19,
    "start_time": "2021-12-12T19:32:31.881Z"
   },
   {
    "duration": 14,
    "start_time": "2021-12-12T19:32:31.904Z"
   },
   {
    "duration": 48,
    "start_time": "2021-12-12T19:32:31.920Z"
   },
   {
    "duration": 74,
    "start_time": "2021-12-12T19:32:31.970Z"
   },
   {
    "duration": 10100,
    "start_time": "2021-12-12T19:32:32.046Z"
   },
   {
    "duration": 32,
    "start_time": "2021-12-12T19:32:42.151Z"
   },
   {
    "duration": 100,
    "start_time": "2021-12-12T19:32:42.187Z"
   },
   {
    "duration": 23,
    "start_time": "2021-12-12T19:32:42.290Z"
   },
   {
    "duration": 14,
    "start_time": "2021-12-12T19:32:42.316Z"
   },
   {
    "duration": 6424,
    "start_time": "2021-12-12T19:32:42.333Z"
   },
   {
    "duration": 13,
    "start_time": "2021-12-12T19:32:48.769Z"
   },
   {
    "duration": 2194,
    "start_time": "2021-12-12T19:32:48.785Z"
   },
   {
    "duration": 13,
    "start_time": "2021-12-12T19:32:50.982Z"
   },
   {
    "duration": 46,
    "start_time": "2021-12-12T19:32:50.998Z"
   },
   {
    "duration": 43,
    "start_time": "2021-12-12T19:32:51.046Z"
   },
   {
    "duration": 26,
    "start_time": "2021-12-12T19:32:51.092Z"
   },
   {
    "duration": 23,
    "start_time": "2021-12-12T19:32:51.121Z"
   },
   {
    "duration": 27,
    "start_time": "2021-12-12T19:32:51.168Z"
   },
   {
    "duration": 4,
    "start_time": "2021-12-12T19:33:05.351Z"
   },
   {
    "duration": 33,
    "start_time": "2021-12-12T19:33:41.589Z"
   },
   {
    "duration": 95,
    "start_time": "2021-12-12T19:33:49.950Z"
   },
   {
    "duration": 358,
    "start_time": "2021-12-12T19:34:47.857Z"
   },
   {
    "duration": 18,
    "start_time": "2021-12-12T19:35:16.167Z"
   },
   {
    "duration": 51,
    "start_time": "2021-12-12T19:43:30.418Z"
   },
   {
    "duration": 262,
    "start_time": "2021-12-12T19:44:51.168Z"
   },
   {
    "duration": 15,
    "start_time": "2021-12-12T19:46:19.173Z"
   },
   {
    "duration": 185,
    "start_time": "2021-12-12T19:46:33.361Z"
   },
   {
    "duration": 20,
    "start_time": "2021-12-12T19:47:33.340Z"
   },
   {
    "duration": 265,
    "start_time": "2021-12-12T19:48:01.368Z"
   },
   {
    "duration": 316,
    "start_time": "2021-12-12T19:53:34.624Z"
   },
   {
    "duration": 8,
    "start_time": "2021-12-12T19:53:50.704Z"
   },
   {
    "duration": 14,
    "start_time": "2021-12-12T19:54:15.441Z"
   },
   {
    "duration": 29,
    "start_time": "2021-12-12T19:54:46.267Z"
   },
   {
    "duration": 768,
    "start_time": "2021-12-12T19:57:23.073Z"
   },
   {
    "duration": 63,
    "start_time": "2021-12-12T19:57:23.844Z"
   },
   {
    "duration": 68,
    "start_time": "2021-12-12T19:57:23.909Z"
   },
   {
    "duration": 16,
    "start_time": "2021-12-12T19:57:23.979Z"
   },
   {
    "duration": 13,
    "start_time": "2021-12-12T19:57:23.997Z"
   },
   {
    "duration": 14,
    "start_time": "2021-12-12T19:57:24.012Z"
   },
   {
    "duration": 47,
    "start_time": "2021-12-12T19:57:24.028Z"
   },
   {
    "duration": 95,
    "start_time": "2021-12-12T19:57:24.081Z"
   },
   {
    "duration": 10034,
    "start_time": "2021-12-12T19:57:24.179Z"
   },
   {
    "duration": 21,
    "start_time": "2021-12-12T19:57:34.215Z"
   },
   {
    "duration": 93,
    "start_time": "2021-12-12T19:57:34.239Z"
   },
   {
    "duration": 45,
    "start_time": "2021-12-12T19:57:34.335Z"
   },
   {
    "duration": 9,
    "start_time": "2021-12-12T19:57:34.383Z"
   },
   {
    "duration": 1318,
    "start_time": "2021-12-12T19:57:34.394Z"
   },
   {
    "duration": -17,
    "start_time": "2021-12-12T19:57:35.732Z"
   },
   {
    "duration": -23,
    "start_time": "2021-12-12T19:57:35.740Z"
   },
   {
    "duration": -31,
    "start_time": "2021-12-12T19:57:35.750Z"
   },
   {
    "duration": -39,
    "start_time": "2021-12-12T19:57:35.760Z"
   },
   {
    "duration": -46,
    "start_time": "2021-12-12T19:57:35.769Z"
   },
   {
    "duration": -53,
    "start_time": "2021-12-12T19:57:35.779Z"
   },
   {
    "duration": -60,
    "start_time": "2021-12-12T19:57:35.788Z"
   },
   {
    "duration": -68,
    "start_time": "2021-12-12T19:57:35.798Z"
   },
   {
    "duration": -75,
    "start_time": "2021-12-12T19:57:35.807Z"
   },
   {
    "duration": 263,
    "start_time": "2021-12-12T19:57:42.078Z"
   },
   {
    "duration": 2464,
    "start_time": "2021-12-12T19:57:54.675Z"
   },
   {
    "duration": 64,
    "start_time": "2021-12-12T19:57:57.142Z"
   },
   {
    "duration": 70,
    "start_time": "2021-12-12T19:57:57.210Z"
   },
   {
    "duration": 16,
    "start_time": "2021-12-12T19:57:57.283Z"
   },
   {
    "duration": 13,
    "start_time": "2021-12-12T19:57:57.302Z"
   },
   {
    "duration": 50,
    "start_time": "2021-12-12T19:57:57.317Z"
   },
   {
    "duration": 11,
    "start_time": "2021-12-12T19:57:57.370Z"
   },
   {
    "duration": 99,
    "start_time": "2021-12-12T19:57:57.385Z"
   },
   {
    "duration": 10266,
    "start_time": "2021-12-12T19:57:57.487Z"
   },
   {
    "duration": 27,
    "start_time": "2021-12-12T19:58:07.756Z"
   },
   {
    "duration": 98,
    "start_time": "2021-12-12T19:58:07.785Z"
   },
   {
    "duration": 23,
    "start_time": "2021-12-12T19:58:07.885Z"
   },
   {
    "duration": 7,
    "start_time": "2021-12-12T19:58:07.911Z"
   },
   {
    "duration": 689,
    "start_time": "2021-12-12T19:58:07.920Z"
   },
   {
    "duration": 3,
    "start_time": "2021-12-12T19:58:08.609Z"
   },
   {
    "duration": -6,
    "start_time": "2021-12-12T19:58:08.619Z"
   },
   {
    "duration": -12,
    "start_time": "2021-12-12T19:58:08.626Z"
   },
   {
    "duration": -19,
    "start_time": "2021-12-12T19:58:08.635Z"
   },
   {
    "duration": -25,
    "start_time": "2021-12-12T19:58:08.642Z"
   },
   {
    "duration": -31,
    "start_time": "2021-12-12T19:58:08.650Z"
   },
   {
    "duration": -39,
    "start_time": "2021-12-12T19:58:08.660Z"
   },
   {
    "duration": -46,
    "start_time": "2021-12-12T19:58:08.668Z"
   },
   {
    "duration": -52,
    "start_time": "2021-12-12T19:58:08.675Z"
   },
   {
    "duration": 748,
    "start_time": "2021-12-12T19:58:46.378Z"
   },
   {
    "duration": 67,
    "start_time": "2021-12-12T19:58:47.128Z"
   },
   {
    "duration": 95,
    "start_time": "2021-12-12T19:58:47.199Z"
   },
   {
    "duration": 18,
    "start_time": "2021-12-12T19:58:47.297Z"
   },
   {
    "duration": 15,
    "start_time": "2021-12-12T19:58:47.318Z"
   },
   {
    "duration": 41,
    "start_time": "2021-12-12T19:58:47.335Z"
   },
   {
    "duration": 14,
    "start_time": "2021-12-12T19:58:47.378Z"
   },
   {
    "duration": 102,
    "start_time": "2021-12-12T19:58:47.396Z"
   },
   {
    "duration": 10867,
    "start_time": "2021-12-12T19:58:47.502Z"
   },
   {
    "duration": 19,
    "start_time": "2021-12-12T19:58:58.371Z"
   },
   {
    "duration": 142,
    "start_time": "2021-12-12T19:58:58.393Z"
   },
   {
    "duration": 48,
    "start_time": "2021-12-12T19:58:58.538Z"
   },
   {
    "duration": 11,
    "start_time": "2021-12-12T19:58:58.589Z"
   },
   {
    "duration": 768,
    "start_time": "2021-12-12T19:58:58.603Z"
   },
   {
    "duration": -14,
    "start_time": "2021-12-12T19:58:59.388Z"
   },
   {
    "duration": -27,
    "start_time": "2021-12-12T19:58:59.402Z"
   },
   {
    "duration": -39,
    "start_time": "2021-12-12T19:58:59.415Z"
   },
   {
    "duration": -47,
    "start_time": "2021-12-12T19:58:59.425Z"
   },
   {
    "duration": -55,
    "start_time": "2021-12-12T19:58:59.434Z"
   },
   {
    "duration": -63,
    "start_time": "2021-12-12T19:58:59.444Z"
   },
   {
    "duration": -72,
    "start_time": "2021-12-12T19:58:59.454Z"
   },
   {
    "duration": -80,
    "start_time": "2021-12-12T19:58:59.463Z"
   },
   {
    "duration": -87,
    "start_time": "2021-12-12T19:58:59.471Z"
   },
   {
    "duration": 7,
    "start_time": "2021-12-12T19:59:52.927Z"
   },
   {
    "duration": 1318,
    "start_time": "2021-12-12T20:00:17.916Z"
   },
   {
    "duration": 9,
    "start_time": "2021-12-12T20:01:36.805Z"
   },
   {
    "duration": 6215,
    "start_time": "2021-12-12T20:01:43.788Z"
   },
   {
    "duration": 446,
    "start_time": "2021-12-13T15:35:39.825Z"
   },
   {
    "duration": 814,
    "start_time": "2021-12-13T15:35:52.330Z"
   },
   {
    "duration": 67,
    "start_time": "2021-12-13T15:35:53.146Z"
   },
   {
    "duration": 75,
    "start_time": "2021-12-13T15:35:53.217Z"
   },
   {
    "duration": 15,
    "start_time": "2021-12-13T15:35:53.295Z"
   },
   {
    "duration": 12,
    "start_time": "2021-12-13T15:35:53.313Z"
   },
   {
    "duration": 42,
    "start_time": "2021-12-13T15:35:53.327Z"
   },
   {
    "duration": 10,
    "start_time": "2021-12-13T15:35:53.371Z"
   },
   {
    "duration": 96,
    "start_time": "2021-12-13T15:35:53.384Z"
   },
   {
    "duration": 9879,
    "start_time": "2021-12-13T15:35:53.484Z"
   },
   {
    "duration": 503,
    "start_time": "2021-12-13T15:36:03.366Z"
   },
   {
    "duration": -73,
    "start_time": "2021-12-13T15:36:03.944Z"
   },
   {
    "duration": -79,
    "start_time": "2021-12-13T15:36:03.952Z"
   },
   {
    "duration": -84,
    "start_time": "2021-12-13T15:36:03.958Z"
   },
   {
    "duration": -87,
    "start_time": "2021-12-13T15:36:03.962Z"
   },
   {
    "duration": -89,
    "start_time": "2021-12-13T15:36:03.966Z"
   },
   {
    "duration": -92,
    "start_time": "2021-12-13T15:36:03.970Z"
   },
   {
    "duration": -94,
    "start_time": "2021-12-13T15:36:03.974Z"
   },
   {
    "duration": -96,
    "start_time": "2021-12-13T15:36:03.977Z"
   },
   {
    "duration": -98,
    "start_time": "2021-12-13T15:36:03.981Z"
   },
   {
    "duration": -100,
    "start_time": "2021-12-13T15:36:03.984Z"
   },
   {
    "duration": -102,
    "start_time": "2021-12-13T15:36:03.987Z"
   },
   {
    "duration": -102,
    "start_time": "2021-12-13T15:36:03.989Z"
   },
   {
    "duration": -105,
    "start_time": "2021-12-13T15:36:03.993Z"
   },
   {
    "duration": 131,
    "start_time": "2021-12-13T15:45:51.786Z"
   },
   {
    "duration": 141,
    "start_time": "2021-12-13T15:46:07.842Z"
   },
   {
    "duration": 482,
    "start_time": "2021-12-13T15:46:13.142Z"
   },
   {
    "duration": 379,
    "start_time": "2021-12-13T15:47:20.417Z"
   },
   {
    "duration": 153,
    "start_time": "2021-12-13T15:48:12.740Z"
   },
   {
    "duration": 381,
    "start_time": "2021-12-13T15:48:17.109Z"
   },
   {
    "duration": 93,
    "start_time": "2021-12-13T15:51:49.174Z"
   },
   {
    "duration": 295,
    "start_time": "2021-12-13T15:55:03.603Z"
   },
   {
    "duration": 190,
    "start_time": "2021-12-13T16:20:09.837Z"
   },
   {
    "duration": 189,
    "start_time": "2021-12-13T16:21:19.270Z"
   },
   {
    "duration": 511,
    "start_time": "2021-12-13T16:25:24.953Z"
   },
   {
    "duration": 776,
    "start_time": "2021-12-13T16:25:37.951Z"
   },
   {
    "duration": 64,
    "start_time": "2021-12-13T16:25:38.729Z"
   },
   {
    "duration": 65,
    "start_time": "2021-12-13T16:25:38.796Z"
   },
   {
    "duration": 14,
    "start_time": "2021-12-13T16:25:38.864Z"
   },
   {
    "duration": 12,
    "start_time": "2021-12-13T16:25:38.881Z"
   },
   {
    "duration": 13,
    "start_time": "2021-12-13T16:25:38.896Z"
   },
   {
    "duration": 10,
    "start_time": "2021-12-13T16:25:38.911Z"
   },
   {
    "duration": 104,
    "start_time": "2021-12-13T16:25:38.923Z"
   },
   {
    "duration": 9752,
    "start_time": "2021-12-13T16:25:39.031Z"
   },
   {
    "duration": 203,
    "start_time": "2021-12-13T16:25:48.786Z"
   },
   {
    "duration": 17,
    "start_time": "2021-12-13T16:25:48.992Z"
   },
   {
    "duration": 95,
    "start_time": "2021-12-13T16:25:49.011Z"
   },
   {
    "duration": 22,
    "start_time": "2021-12-13T16:25:49.108Z"
   },
   {
    "duration": 28,
    "start_time": "2021-12-13T16:25:49.132Z"
   },
   {
    "duration": 6411,
    "start_time": "2021-12-13T16:25:49.162Z"
   },
   {
    "duration": 12,
    "start_time": "2021-12-13T16:25:55.576Z"
   },
   {
    "duration": 2082,
    "start_time": "2021-12-13T16:25:55.591Z"
   },
   {
    "duration": 12,
    "start_time": "2021-12-13T16:25:57.676Z"
   },
   {
    "duration": 25,
    "start_time": "2021-12-13T16:25:57.691Z"
   },
   {
    "duration": 54,
    "start_time": "2021-12-13T16:25:57.718Z"
   },
   {
    "duration": 24,
    "start_time": "2021-12-13T16:25:57.775Z"
   },
   {
    "duration": 22,
    "start_time": "2021-12-13T16:25:57.801Z"
   },
   {
    "duration": 53,
    "start_time": "2021-12-13T16:25:57.826Z"
   },
   {
    "duration": 10864,
    "start_time": "2021-12-13T16:25:57.882Z"
   },
   {
    "duration": 478,
    "start_time": "2021-12-13T16:27:23.995Z"
   },
   {
    "duration": 376,
    "start_time": "2021-12-13T16:27:41.308Z"
   },
   {
    "duration": 12,
    "start_time": "2021-12-13T16:27:55.931Z"
   },
   {
    "duration": 171,
    "start_time": "2021-12-13T16:29:16.035Z"
   },
   {
    "duration": 110,
    "start_time": "2021-12-13T16:30:59.358Z"
   },
   {
    "duration": 826,
    "start_time": "2021-12-13T16:31:48.768Z"
   },
   {
    "duration": 129,
    "start_time": "2021-12-13T16:31:49.608Z"
   },
   {
    "duration": 118,
    "start_time": "2021-12-13T16:31:49.741Z"
   },
   {
    "duration": 37,
    "start_time": "2021-12-13T16:31:49.869Z"
   },
   {
    "duration": 17,
    "start_time": "2021-12-13T16:31:49.910Z"
   },
   {
    "duration": 18,
    "start_time": "2021-12-13T16:31:49.930Z"
   },
   {
    "duration": 10,
    "start_time": "2021-12-13T16:31:49.958Z"
   },
   {
    "duration": 138,
    "start_time": "2021-12-13T16:31:49.971Z"
   },
   {
    "duration": 9480,
    "start_time": "2021-12-13T16:31:50.114Z"
   },
   {
    "duration": 203,
    "start_time": "2021-12-13T16:31:59.597Z"
   },
   {
    "duration": 112,
    "start_time": "2021-12-13T16:32:09.115Z"
   },
   {
    "duration": 38,
    "start_time": "2021-12-13T16:33:32.133Z"
   },
   {
    "duration": 31,
    "start_time": "2021-12-13T16:34:26.197Z"
   },
   {
    "duration": 22,
    "start_time": "2021-12-13T16:34:54.639Z"
   },
   {
    "duration": 173,
    "start_time": "2021-12-13T16:35:26.347Z"
   },
   {
    "duration": 47,
    "start_time": "2021-12-13T16:35:48.832Z"
   },
   {
    "duration": 7,
    "start_time": "2021-12-13T16:36:02.812Z"
   },
   {
    "duration": 13,
    "start_time": "2021-12-13T16:36:39.449Z"
   },
   {
    "duration": 1967,
    "start_time": "2021-12-13T16:36:39.464Z"
   },
   {
    "duration": 13,
    "start_time": "2021-12-13T16:36:41.433Z"
   },
   {
    "duration": 22,
    "start_time": "2021-12-13T16:36:41.459Z"
   },
   {
    "duration": 28,
    "start_time": "2021-12-13T16:36:41.485Z"
   },
   {
    "duration": 52,
    "start_time": "2021-12-13T16:36:41.516Z"
   },
   {
    "duration": 20,
    "start_time": "2021-12-13T16:36:41.570Z"
   },
   {
    "duration": 24,
    "start_time": "2021-12-13T16:36:41.592Z"
   },
   {
    "duration": 395,
    "start_time": "2022-07-17T10:10:15.383Z"
   },
   {
    "duration": 597,
    "start_time": "2022-07-17T10:10:15.780Z"
   },
   {
    "duration": 43,
    "start_time": "2022-07-17T10:10:16.379Z"
   },
   {
    "duration": 17,
    "start_time": "2022-07-17T10:10:16.424Z"
   },
   {
    "duration": 11,
    "start_time": "2022-07-17T10:10:16.443Z"
   },
   {
    "duration": 13,
    "start_time": "2022-07-17T10:10:16.456Z"
   },
   {
    "duration": 8,
    "start_time": "2022-07-17T10:10:16.470Z"
   },
   {
    "duration": 95,
    "start_time": "2022-07-17T10:10:16.480Z"
   },
   {
    "duration": 5152,
    "start_time": "2022-07-17T10:10:16.576Z"
   },
   {
    "duration": 45,
    "start_time": "2022-07-17T10:10:21.731Z"
   },
   {
    "duration": 29,
    "start_time": "2022-07-17T10:10:21.777Z"
   },
   {
    "duration": 55,
    "start_time": "2022-07-17T10:10:21.807Z"
   },
   {
    "duration": 15,
    "start_time": "2022-07-17T10:10:21.864Z"
   },
   {
    "duration": 4,
    "start_time": "2022-07-17T10:10:21.881Z"
   },
   {
    "duration": 4378,
    "start_time": "2022-07-17T10:10:21.887Z"
   },
   {
    "duration": 10,
    "start_time": "2022-07-17T10:10:26.267Z"
   },
   {
    "duration": 892,
    "start_time": "2022-07-17T10:10:26.279Z"
   },
   {
    "duration": 9,
    "start_time": "2022-07-17T10:10:27.173Z"
   },
   {
    "duration": 19,
    "start_time": "2022-07-17T10:10:27.184Z"
   },
   {
    "duration": 43,
    "start_time": "2022-07-17T10:10:27.204Z"
   },
   {
    "duration": 24,
    "start_time": "2022-07-17T10:10:27.248Z"
   },
   {
    "duration": 19,
    "start_time": "2022-07-17T10:10:27.273Z"
   },
   {
    "duration": 24,
    "start_time": "2022-07-17T10:10:27.294Z"
   },
   {
    "duration": 840,
    "start_time": "2022-07-17T10:10:27.346Z"
   },
   {
    "duration": 798,
    "start_time": "2022-07-17T10:11:29.964Z"
   },
   {
    "duration": 10,
    "start_time": "2022-07-17T10:11:37.370Z"
   },
   {
    "duration": 876,
    "start_time": "2022-07-17T10:11:56.845Z"
   },
   {
    "duration": 759,
    "start_time": "2022-07-17T10:12:09.746Z"
   },
   {
    "duration": 880,
    "start_time": "2022-07-17T10:12:20.632Z"
   },
   {
    "duration": 9,
    "start_time": "2022-07-17T10:12:27.599Z"
   },
   {
    "duration": 13,
    "start_time": "2022-07-17T10:12:45.448Z"
   },
   {
    "duration": 50,
    "start_time": "2022-07-17T10:12:55.592Z"
   },
   {
    "duration": 8,
    "start_time": "2022-07-17T10:12:59.767Z"
   },
   {
    "duration": 12,
    "start_time": "2022-07-17T10:13:02.594Z"
   },
   {
    "duration": 9,
    "start_time": "2022-07-17T10:13:38.501Z"
   },
   {
    "duration": 932,
    "start_time": "2022-07-17T10:13:59.811Z"
   },
   {
    "duration": 819,
    "start_time": "2022-07-17T10:14:06.469Z"
   },
   {
    "duration": 9,
    "start_time": "2022-07-17T10:15:12.270Z"
   },
   {
    "duration": 6,
    "start_time": "2022-07-17T10:16:50.160Z"
   },
   {
    "duration": 1227,
    "start_time": "2022-07-17T10:17:03.059Z"
   },
   {
    "duration": 962,
    "start_time": "2022-07-17T10:17:15.602Z"
   },
   {
    "duration": 11,
    "start_time": "2022-07-17T10:17:39.593Z"
   },
   {
    "duration": 10,
    "start_time": "2022-07-17T10:17:42.859Z"
   },
   {
    "duration": 629,
    "start_time": "2022-07-17T10:18:05.804Z"
   },
   {
    "duration": 4,
    "start_time": "2022-07-17T10:18:51.240Z"
   },
   {
    "duration": 8,
    "start_time": "2022-07-17T10:18:57.770Z"
   },
   {
    "duration": 14,
    "start_time": "2022-07-17T10:19:08.459Z"
   },
   {
    "duration": 913,
    "start_time": "2022-07-17T10:19:12.947Z"
   },
   {
    "duration": 49,
    "start_time": "2022-07-17T10:19:33.670Z"
   },
   {
    "duration": 3,
    "start_time": "2022-07-17T10:19:37.078Z"
   },
   {
    "duration": 11,
    "start_time": "2022-07-17T10:19:44.760Z"
   },
   {
    "duration": 12,
    "start_time": "2022-07-17T10:19:54.320Z"
   },
   {
    "duration": 15,
    "start_time": "2022-07-17T10:20:16.389Z"
   },
   {
    "duration": 13,
    "start_time": "2022-07-17T10:20:30.517Z"
   },
   {
    "duration": 10,
    "start_time": "2022-07-17T10:21:23.160Z"
   },
   {
    "duration": 9,
    "start_time": "2022-07-17T10:21:27.989Z"
   },
   {
    "duration": 10,
    "start_time": "2022-07-17T10:22:14.557Z"
   },
   {
    "duration": 8,
    "start_time": "2022-07-17T10:22:34.298Z"
   },
   {
    "duration": 11,
    "start_time": "2022-07-17T10:22:43.316Z"
   },
   {
    "duration": 9,
    "start_time": "2022-07-17T10:22:52.096Z"
   },
   {
    "duration": 10,
    "start_time": "2022-07-17T10:22:54.788Z"
   },
   {
    "duration": 9,
    "start_time": "2022-07-17T10:23:03.193Z"
   },
   {
    "duration": 9,
    "start_time": "2022-07-17T10:23:20.577Z"
   }
  ],
  "kernelspec": {
   "display_name": "Python 3 (ipykernel)",
   "language": "python",
   "name": "python3"
  },
  "language_info": {
   "codemirror_mode": {
    "name": "ipython",
    "version": 3
   },
   "file_extension": ".py",
   "mimetype": "text/x-python",
   "name": "python",
   "nbconvert_exporter": "python",
   "pygments_lexer": "ipython3",
   "version": "3.9.5"
  },
  "toc": {
   "base_numbering": 1,
   "nav_menu": {},
   "number_sections": true,
   "sideBar": true,
   "skip_h1_title": true,
   "title_cell": "Table of Contents",
   "title_sidebar": "Contents",
   "toc_cell": false,
   "toc_position": {},
   "toc_section_display": true,
   "toc_window_display": false
  }
 },
 "nbformat": 4,
 "nbformat_minor": 2
}
