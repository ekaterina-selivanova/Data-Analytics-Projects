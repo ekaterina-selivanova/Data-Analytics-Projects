{
 "cells": [
  {
   "cell_type": "markdown",
   "metadata": {},
   "source": [
    "# Анализ гипотез по увеличению выручки в интернет-магазине.\n",
    "\n",
    "**Цель исследования** - проанализировать имеющиеся гипотезы по увеличению выручки в интернет-магазине, принять решение по результатам А/В тестирования. \n",
    "\n",
    "**Ход исследования** - перед нами 3 датасета от отдела маркетинга интернет-магазина с информацией о гипотезах, заказчиках и заказах. Требуется изучить полученные датасеты. Приотизировать сформулированные гипотезы и провести А/В тестирование.\n",
    "\n",
    "#### Описание данных\n",
    "\n",
    "- Данные для первой части\n",
    "\n",
    "Файл /datasets/hypothesis.csv.\n",
    "\n",
    "    Hypothesis — краткое описание гипотезы;\n",
    "    Reach — охват пользователей по 10-балльной шкале;\n",
    "    Impact — влияние на пользователей по 10-балльной шкале;\n",
    "    Confidence — уверенность в гипотезе по 10-балльной шкале;\n",
    "    Efforts — затраты ресурсов на проверку гипотезы по 10-балльной шкале. Чем больше значение Efforts, тем дороже проверка гипотезы.\n",
    "    \n",
    "- Данные для второй части\n",
    "\n",
    "Файл /datasets/orders.csv. \n",
    "\n",
    "    transactionId — идентификатор заказа;\n",
    "    visitorId — идентификатор пользователя, совершившего заказ;\n",
    "    date — дата, когда был совершён заказ;\n",
    "    revenue — выручка заказа;\n",
    "    group — группа A/B-теста, в которую попал заказ.\n",
    "\n",
    "Файл /datasets/visitors.csv. Скачать датасет\n",
    "\n",
    "    date — дата;\n",
    "    group — группа A/B-теста;\n",
    "    visitors — количество пользователей в указанную дату в указанной группе A/B-теста\n",
    "\n",
    "Этапы исследования:\n",
    "1. [Шаг 1. Загрузка данных и подготовка их к анализу](#general_id)\n",
    "2. [Шаг 2. Приоритизация гипотез с помощью применения метода ICE и RICE](#step_two)\n",
    "3. [Шаг 3. Анализ A/B-теста](#step_three)\n",
    "- 3.1 [Стабильность кумулятивных метрик](#step_three_one)\n",
    "- 3.2 [Анализ выбросов и всплесков: крайние значения данных](#step_three_two)\n",
    "- 3.3 [Анализ A/B-теста шаг за шагом](#step_three_three)\n",
    "- 3.3.1 [Определение статистически значимых различий между группами по «сырым» данным](#step_three_three_one)\n",
    "- 3.3.2 [Определение статистически значимых различий между группами по «очищенным» данным](#step_three_three_two)\n",
    "4. [Общий вывод](#conclusion_id)"
   ]
  },
  {
   "cell_type": "markdown",
   "metadata": {},
   "source": [
    "## Шаг. Загрузка данных и подготовка их к анализу.\n",
    "<a id=general_id></a>\n",
    "Загрузим данные о гипотезах, визитах и заказах. Оптимизируем данные для анализа и убедимся, что тип данных в каждой колонке — правильный. Путь к файлам:\n",
    "- /datasets/hypothesis.csv.\n",
    "- /datasets/orders.csv. \n",
    "- /datasets/visitors.csv."
   ]
  },
  {
   "cell_type": "code",
   "execution_count": 1,
   "metadata": {},
   "outputs": [],
   "source": [
    "import pandas as pd\n",
    "from datetime import datetime, timedelta\n",
    "import seaborn as sns\n",
    "from matplotlib import pyplot as plt\n",
    "%matplotlib inline\n",
    "import numpy as np\n",
    "import datetime as dt\n",
    "import scipy.stats as stats"
   ]
  },
  {
   "cell_type": "code",
   "execution_count": 2,
   "metadata": {},
   "outputs": [],
   "source": [
    "hypothesis=pd.read_csv('/datasets/hypothesis.csv')\n",
    "orders=pd.read_csv('/datasets/orders.csv')\n",
    "visitors=pd.read_csv('/datasets/visitors.csv')"
   ]
  },
  {
   "cell_type": "markdown",
   "metadata": {},
   "source": [
    "Создадим функцию research для изучения данных в таблице."
   ]
  },
  {
   "cell_type": "code",
   "execution_count": 3,
   "metadata": {},
   "outputs": [],
   "source": [
    "def research (data):\n",
    "    data.info(memory_usage='deep')\n",
    "    display(data.head(11))\n",
    "    display(data.describe())\n",
    "    print('Количество дубликатов',data.duplicated().sum())"
   ]
  },
  {
   "cell_type": "markdown",
   "metadata": {},
   "source": [
    "Изучим таблицу hypothesis"
   ]
  },
  {
   "cell_type": "code",
   "execution_count": 4,
   "metadata": {},
   "outputs": [
    {
     "name": "stdout",
     "output_type": "stream",
     "text": [
      "<class 'pandas.core.frame.DataFrame'>\n",
      "RangeIndex: 9 entries, 0 to 8\n",
      "Data columns (total 5 columns):\n",
      " #   Column      Non-Null Count  Dtype \n",
      "---  ------      --------------  ----- \n",
      " 0   Hypothesis  9 non-null      object\n",
      " 1   Reach       9 non-null      int64 \n",
      " 2   Impact      9 non-null      int64 \n",
      " 3   Confidence  9 non-null      int64 \n",
      " 4   Efforts     9 non-null      int64 \n",
      "dtypes: int64(4), object(1)\n",
      "memory usage: 2.7 KB\n"
     ]
    },
    {
     "data": {
      "text/html": [
       "<div>\n",
       "<style scoped>\n",
       "    .dataframe tbody tr th:only-of-type {\n",
       "        vertical-align: middle;\n",
       "    }\n",
       "\n",
       "    .dataframe tbody tr th {\n",
       "        vertical-align: top;\n",
       "    }\n",
       "\n",
       "    .dataframe thead th {\n",
       "        text-align: right;\n",
       "    }\n",
       "</style>\n",
       "<table border=\"1\" class=\"dataframe\">\n",
       "  <thead>\n",
       "    <tr style=\"text-align: right;\">\n",
       "      <th></th>\n",
       "      <th>Hypothesis</th>\n",
       "      <th>Reach</th>\n",
       "      <th>Impact</th>\n",
       "      <th>Confidence</th>\n",
       "      <th>Efforts</th>\n",
       "    </tr>\n",
       "  </thead>\n",
       "  <tbody>\n",
       "    <tr>\n",
       "      <th>0</th>\n",
       "      <td>Добавить два новых канала привлечения трафика,...</td>\n",
       "      <td>3</td>\n",
       "      <td>10</td>\n",
       "      <td>8</td>\n",
       "      <td>6</td>\n",
       "    </tr>\n",
       "    <tr>\n",
       "      <th>1</th>\n",
       "      <td>Запустить собственную службу доставки, что сок...</td>\n",
       "      <td>2</td>\n",
       "      <td>5</td>\n",
       "      <td>4</td>\n",
       "      <td>10</td>\n",
       "    </tr>\n",
       "    <tr>\n",
       "      <th>2</th>\n",
       "      <td>Добавить блоки рекомендаций товаров на сайт ин...</td>\n",
       "      <td>8</td>\n",
       "      <td>3</td>\n",
       "      <td>7</td>\n",
       "      <td>3</td>\n",
       "    </tr>\n",
       "    <tr>\n",
       "      <th>3</th>\n",
       "      <td>Изменить структура категорий, что увеличит кон...</td>\n",
       "      <td>8</td>\n",
       "      <td>3</td>\n",
       "      <td>3</td>\n",
       "      <td>8</td>\n",
       "    </tr>\n",
       "    <tr>\n",
       "      <th>4</th>\n",
       "      <td>Изменить цвет фона главной страницы, чтобы уве...</td>\n",
       "      <td>3</td>\n",
       "      <td>1</td>\n",
       "      <td>1</td>\n",
       "      <td>1</td>\n",
       "    </tr>\n",
       "    <tr>\n",
       "      <th>5</th>\n",
       "      <td>Добавить страницу отзывов клиентов о магазине,...</td>\n",
       "      <td>3</td>\n",
       "      <td>2</td>\n",
       "      <td>2</td>\n",
       "      <td>3</td>\n",
       "    </tr>\n",
       "    <tr>\n",
       "      <th>6</th>\n",
       "      <td>Показать на главной странице баннеры с актуаль...</td>\n",
       "      <td>5</td>\n",
       "      <td>3</td>\n",
       "      <td>8</td>\n",
       "      <td>3</td>\n",
       "    </tr>\n",
       "    <tr>\n",
       "      <th>7</th>\n",
       "      <td>Добавить форму подписки на все основные страни...</td>\n",
       "      <td>10</td>\n",
       "      <td>7</td>\n",
       "      <td>8</td>\n",
       "      <td>5</td>\n",
       "    </tr>\n",
       "    <tr>\n",
       "      <th>8</th>\n",
       "      <td>Запустить акцию, дающую скидку на товар в день...</td>\n",
       "      <td>1</td>\n",
       "      <td>9</td>\n",
       "      <td>9</td>\n",
       "      <td>5</td>\n",
       "    </tr>\n",
       "  </tbody>\n",
       "</table>\n",
       "</div>"
      ],
      "text/plain": [
       "                                          Hypothesis  Reach  Impact  \\\n",
       "0  Добавить два новых канала привлечения трафика,...      3      10   \n",
       "1  Запустить собственную службу доставки, что сок...      2       5   \n",
       "2  Добавить блоки рекомендаций товаров на сайт ин...      8       3   \n",
       "3  Изменить структура категорий, что увеличит кон...      8       3   \n",
       "4  Изменить цвет фона главной страницы, чтобы уве...      3       1   \n",
       "5  Добавить страницу отзывов клиентов о магазине,...      3       2   \n",
       "6  Показать на главной странице баннеры с актуаль...      5       3   \n",
       "7  Добавить форму подписки на все основные страни...     10       7   \n",
       "8  Запустить акцию, дающую скидку на товар в день...      1       9   \n",
       "\n",
       "   Confidence  Efforts  \n",
       "0           8        6  \n",
       "1           4       10  \n",
       "2           7        3  \n",
       "3           3        8  \n",
       "4           1        1  \n",
       "5           2        3  \n",
       "6           8        3  \n",
       "7           8        5  \n",
       "8           9        5  "
      ]
     },
     "metadata": {},
     "output_type": "display_data"
    },
    {
     "data": {
      "text/html": [
       "<div>\n",
       "<style scoped>\n",
       "    .dataframe tbody tr th:only-of-type {\n",
       "        vertical-align: middle;\n",
       "    }\n",
       "\n",
       "    .dataframe tbody tr th {\n",
       "        vertical-align: top;\n",
       "    }\n",
       "\n",
       "    .dataframe thead th {\n",
       "        text-align: right;\n",
       "    }\n",
       "</style>\n",
       "<table border=\"1\" class=\"dataframe\">\n",
       "  <thead>\n",
       "    <tr style=\"text-align: right;\">\n",
       "      <th></th>\n",
       "      <th>Reach</th>\n",
       "      <th>Impact</th>\n",
       "      <th>Confidence</th>\n",
       "      <th>Efforts</th>\n",
       "    </tr>\n",
       "  </thead>\n",
       "  <tbody>\n",
       "    <tr>\n",
       "      <th>count</th>\n",
       "      <td>9.000000</td>\n",
       "      <td>9.000000</td>\n",
       "      <td>9.000000</td>\n",
       "      <td>9.000000</td>\n",
       "    </tr>\n",
       "    <tr>\n",
       "      <th>mean</th>\n",
       "      <td>4.777778</td>\n",
       "      <td>4.777778</td>\n",
       "      <td>5.555556</td>\n",
       "      <td>4.888889</td>\n",
       "    </tr>\n",
       "    <tr>\n",
       "      <th>std</th>\n",
       "      <td>3.153481</td>\n",
       "      <td>3.192874</td>\n",
       "      <td>3.045944</td>\n",
       "      <td>2.803767</td>\n",
       "    </tr>\n",
       "    <tr>\n",
       "      <th>min</th>\n",
       "      <td>1.000000</td>\n",
       "      <td>1.000000</td>\n",
       "      <td>1.000000</td>\n",
       "      <td>1.000000</td>\n",
       "    </tr>\n",
       "    <tr>\n",
       "      <th>25%</th>\n",
       "      <td>3.000000</td>\n",
       "      <td>3.000000</td>\n",
       "      <td>3.000000</td>\n",
       "      <td>3.000000</td>\n",
       "    </tr>\n",
       "    <tr>\n",
       "      <th>50%</th>\n",
       "      <td>3.000000</td>\n",
       "      <td>3.000000</td>\n",
       "      <td>7.000000</td>\n",
       "      <td>5.000000</td>\n",
       "    </tr>\n",
       "    <tr>\n",
       "      <th>75%</th>\n",
       "      <td>8.000000</td>\n",
       "      <td>7.000000</td>\n",
       "      <td>8.000000</td>\n",
       "      <td>6.000000</td>\n",
       "    </tr>\n",
       "    <tr>\n",
       "      <th>max</th>\n",
       "      <td>10.000000</td>\n",
       "      <td>10.000000</td>\n",
       "      <td>9.000000</td>\n",
       "      <td>10.000000</td>\n",
       "    </tr>\n",
       "  </tbody>\n",
       "</table>\n",
       "</div>"
      ],
      "text/plain": [
       "           Reach     Impact  Confidence    Efforts\n",
       "count   9.000000   9.000000    9.000000   9.000000\n",
       "mean    4.777778   4.777778    5.555556   4.888889\n",
       "std     3.153481   3.192874    3.045944   2.803767\n",
       "min     1.000000   1.000000    1.000000   1.000000\n",
       "25%     3.000000   3.000000    3.000000   3.000000\n",
       "50%     3.000000   3.000000    7.000000   5.000000\n",
       "75%     8.000000   7.000000    8.000000   6.000000\n",
       "max    10.000000  10.000000    9.000000  10.000000"
      ]
     },
     "metadata": {},
     "output_type": "display_data"
    },
    {
     "name": "stdout",
     "output_type": "stream",
     "text": [
      "Количество дубликатов 0\n"
     ]
    }
   ],
   "source": [
    "research(hypothesis)"
   ]
  },
  {
   "cell_type": "markdown",
   "metadata": {},
   "source": [
    "Весь текст гипотез не помещается в ячейку. Определим заданное максимальное кол-во символов и увеличим это значение на 250. А также приведем наименование колонок к нижнему регистру."
   ]
  },
  {
   "cell_type": "code",
   "execution_count": 5,
   "metadata": {},
   "outputs": [
    {
     "data": {
      "text/plain": [
       "50"
      ]
     },
     "execution_count": 5,
     "metadata": {},
     "output_type": "execute_result"
    }
   ],
   "source": [
    "pd.options.display.max_colwidth"
   ]
  },
  {
   "cell_type": "code",
   "execution_count": 6,
   "metadata": {},
   "outputs": [],
   "source": [
    "pd.options.display.max_colwidth=125\n"
   ]
  },
  {
   "cell_type": "code",
   "execution_count": 7,
   "metadata": {},
   "outputs": [],
   "source": [
    "hypothesis.columns = hypothesis.columns.str.lower()"
   ]
  },
  {
   "cell_type": "code",
   "execution_count": 8,
   "metadata": {
    "scrolled": true
   },
   "outputs": [
    {
     "name": "stdout",
     "output_type": "stream",
     "text": [
      "<class 'pandas.core.frame.DataFrame'>\n",
      "RangeIndex: 9 entries, 0 to 8\n",
      "Data columns (total 5 columns):\n",
      " #   Column      Non-Null Count  Dtype \n",
      "---  ------      --------------  ----- \n",
      " 0   hypothesis  9 non-null      object\n",
      " 1   reach       9 non-null      int64 \n",
      " 2   impact      9 non-null      int64 \n",
      " 3   confidence  9 non-null      int64 \n",
      " 4   efforts     9 non-null      int64 \n",
      "dtypes: int64(4), object(1)\n",
      "memory usage: 4.1 KB\n"
     ]
    },
    {
     "data": {
      "text/html": [
       "<div>\n",
       "<style scoped>\n",
       "    .dataframe tbody tr th:only-of-type {\n",
       "        vertical-align: middle;\n",
       "    }\n",
       "\n",
       "    .dataframe tbody tr th {\n",
       "        vertical-align: top;\n",
       "    }\n",
       "\n",
       "    .dataframe thead th {\n",
       "        text-align: right;\n",
       "    }\n",
       "</style>\n",
       "<table border=\"1\" class=\"dataframe\">\n",
       "  <thead>\n",
       "    <tr style=\"text-align: right;\">\n",
       "      <th></th>\n",
       "      <th>hypothesis</th>\n",
       "      <th>reach</th>\n",
       "      <th>impact</th>\n",
       "      <th>confidence</th>\n",
       "      <th>efforts</th>\n",
       "    </tr>\n",
       "  </thead>\n",
       "  <tbody>\n",
       "    <tr>\n",
       "      <th>0</th>\n",
       "      <td>Добавить два новых канала привлечения трафика, что позволит привлекать на 30% больше пользователей</td>\n",
       "      <td>3</td>\n",
       "      <td>10</td>\n",
       "      <td>8</td>\n",
       "      <td>6</td>\n",
       "    </tr>\n",
       "    <tr>\n",
       "      <th>1</th>\n",
       "      <td>Запустить собственную службу доставки, что сократит срок доставки заказов</td>\n",
       "      <td>2</td>\n",
       "      <td>5</td>\n",
       "      <td>4</td>\n",
       "      <td>10</td>\n",
       "    </tr>\n",
       "    <tr>\n",
       "      <th>2</th>\n",
       "      <td>Добавить блоки рекомендаций товаров на сайт интернет магазина, чтобы повысить конверсию и средний чек заказа</td>\n",
       "      <td>8</td>\n",
       "      <td>3</td>\n",
       "      <td>7</td>\n",
       "      <td>3</td>\n",
       "    </tr>\n",
       "    <tr>\n",
       "      <th>3</th>\n",
       "      <td>Изменить структура категорий, что увеличит конверсию, т.к. пользователи быстрее найдут нужный товар</td>\n",
       "      <td>8</td>\n",
       "      <td>3</td>\n",
       "      <td>3</td>\n",
       "      <td>8</td>\n",
       "    </tr>\n",
       "    <tr>\n",
       "      <th>4</th>\n",
       "      <td>Изменить цвет фона главной страницы, чтобы увеличить вовлеченность пользователей</td>\n",
       "      <td>3</td>\n",
       "      <td>1</td>\n",
       "      <td>1</td>\n",
       "      <td>1</td>\n",
       "    </tr>\n",
       "    <tr>\n",
       "      <th>5</th>\n",
       "      <td>Добавить страницу отзывов клиентов о магазине, что позволит увеличить количество заказов</td>\n",
       "      <td>3</td>\n",
       "      <td>2</td>\n",
       "      <td>2</td>\n",
       "      <td>3</td>\n",
       "    </tr>\n",
       "    <tr>\n",
       "      <th>6</th>\n",
       "      <td>Показать на главной странице баннеры с актуальными акциями и распродажами, чтобы увеличить конверсию</td>\n",
       "      <td>5</td>\n",
       "      <td>3</td>\n",
       "      <td>8</td>\n",
       "      <td>3</td>\n",
       "    </tr>\n",
       "    <tr>\n",
       "      <th>7</th>\n",
       "      <td>Добавить форму подписки на все основные страницы, чтобы собрать базу клиентов для email-рассылок</td>\n",
       "      <td>10</td>\n",
       "      <td>7</td>\n",
       "      <td>8</td>\n",
       "      <td>5</td>\n",
       "    </tr>\n",
       "    <tr>\n",
       "      <th>8</th>\n",
       "      <td>Запустить акцию, дающую скидку на товар в день рождения</td>\n",
       "      <td>1</td>\n",
       "      <td>9</td>\n",
       "      <td>9</td>\n",
       "      <td>5</td>\n",
       "    </tr>\n",
       "  </tbody>\n",
       "</table>\n",
       "</div>"
      ],
      "text/plain": [
       "                                                                                                     hypothesis  \\\n",
       "0            Добавить два новых канала привлечения трафика, что позволит привлекать на 30% больше пользователей   \n",
       "1                                     Запустить собственную службу доставки, что сократит срок доставки заказов   \n",
       "2  Добавить блоки рекомендаций товаров на сайт интернет магазина, чтобы повысить конверсию и средний чек заказа   \n",
       "3           Изменить структура категорий, что увеличит конверсию, т.к. пользователи быстрее найдут нужный товар   \n",
       "4                              Изменить цвет фона главной страницы, чтобы увеличить вовлеченность пользователей   \n",
       "5                      Добавить страницу отзывов клиентов о магазине, что позволит увеличить количество заказов   \n",
       "6          Показать на главной странице баннеры с актуальными акциями и распродажами, чтобы увеличить конверсию   \n",
       "7              Добавить форму подписки на все основные страницы, чтобы собрать базу клиентов для email-рассылок   \n",
       "8                                                       Запустить акцию, дающую скидку на товар в день рождения   \n",
       "\n",
       "   reach  impact  confidence  efforts  \n",
       "0      3      10           8        6  \n",
       "1      2       5           4       10  \n",
       "2      8       3           7        3  \n",
       "3      8       3           3        8  \n",
       "4      3       1           1        1  \n",
       "5      3       2           2        3  \n",
       "6      5       3           8        3  \n",
       "7     10       7           8        5  \n",
       "8      1       9           9        5  "
      ]
     },
     "metadata": {},
     "output_type": "display_data"
    },
    {
     "data": {
      "text/html": [
       "<div>\n",
       "<style scoped>\n",
       "    .dataframe tbody tr th:only-of-type {\n",
       "        vertical-align: middle;\n",
       "    }\n",
       "\n",
       "    .dataframe tbody tr th {\n",
       "        vertical-align: top;\n",
       "    }\n",
       "\n",
       "    .dataframe thead th {\n",
       "        text-align: right;\n",
       "    }\n",
       "</style>\n",
       "<table border=\"1\" class=\"dataframe\">\n",
       "  <thead>\n",
       "    <tr style=\"text-align: right;\">\n",
       "      <th></th>\n",
       "      <th>reach</th>\n",
       "      <th>impact</th>\n",
       "      <th>confidence</th>\n",
       "      <th>efforts</th>\n",
       "    </tr>\n",
       "  </thead>\n",
       "  <tbody>\n",
       "    <tr>\n",
       "      <th>count</th>\n",
       "      <td>9.000000</td>\n",
       "      <td>9.000000</td>\n",
       "      <td>9.000000</td>\n",
       "      <td>9.000000</td>\n",
       "    </tr>\n",
       "    <tr>\n",
       "      <th>mean</th>\n",
       "      <td>4.777778</td>\n",
       "      <td>4.777778</td>\n",
       "      <td>5.555556</td>\n",
       "      <td>4.888889</td>\n",
       "    </tr>\n",
       "    <tr>\n",
       "      <th>std</th>\n",
       "      <td>3.153481</td>\n",
       "      <td>3.192874</td>\n",
       "      <td>3.045944</td>\n",
       "      <td>2.803767</td>\n",
       "    </tr>\n",
       "    <tr>\n",
       "      <th>min</th>\n",
       "      <td>1.000000</td>\n",
       "      <td>1.000000</td>\n",
       "      <td>1.000000</td>\n",
       "      <td>1.000000</td>\n",
       "    </tr>\n",
       "    <tr>\n",
       "      <th>25%</th>\n",
       "      <td>3.000000</td>\n",
       "      <td>3.000000</td>\n",
       "      <td>3.000000</td>\n",
       "      <td>3.000000</td>\n",
       "    </tr>\n",
       "    <tr>\n",
       "      <th>50%</th>\n",
       "      <td>3.000000</td>\n",
       "      <td>3.000000</td>\n",
       "      <td>7.000000</td>\n",
       "      <td>5.000000</td>\n",
       "    </tr>\n",
       "    <tr>\n",
       "      <th>75%</th>\n",
       "      <td>8.000000</td>\n",
       "      <td>7.000000</td>\n",
       "      <td>8.000000</td>\n",
       "      <td>6.000000</td>\n",
       "    </tr>\n",
       "    <tr>\n",
       "      <th>max</th>\n",
       "      <td>10.000000</td>\n",
       "      <td>10.000000</td>\n",
       "      <td>9.000000</td>\n",
       "      <td>10.000000</td>\n",
       "    </tr>\n",
       "  </tbody>\n",
       "</table>\n",
       "</div>"
      ],
      "text/plain": [
       "           reach     impact  confidence    efforts\n",
       "count   9.000000   9.000000    9.000000   9.000000\n",
       "mean    4.777778   4.777778    5.555556   4.888889\n",
       "std     3.153481   3.192874    3.045944   2.803767\n",
       "min     1.000000   1.000000    1.000000   1.000000\n",
       "25%     3.000000   3.000000    3.000000   3.000000\n",
       "50%     3.000000   3.000000    7.000000   5.000000\n",
       "75%     8.000000   7.000000    8.000000   6.000000\n",
       "max    10.000000  10.000000    9.000000  10.000000"
      ]
     },
     "metadata": {},
     "output_type": "display_data"
    },
    {
     "name": "stdout",
     "output_type": "stream",
     "text": [
      "Количество дубликатов 0\n"
     ]
    }
   ],
   "source": [
    "research(hypothesis)"
   ]
  },
  {
   "cell_type": "code",
   "execution_count": 9,
   "metadata": {},
   "outputs": [
    {
     "name": "stdout",
     "output_type": "stream",
     "text": [
      "<class 'pandas.core.frame.DataFrame'>\n",
      "RangeIndex: 1197 entries, 0 to 1196\n",
      "Data columns (total 5 columns):\n",
      " #   Column         Non-Null Count  Dtype \n",
      "---  ------         --------------  ----- \n",
      " 0   transactionId  1197 non-null   int64 \n",
      " 1   visitorId      1197 non-null   int64 \n",
      " 2   date           1197 non-null   object\n",
      " 3   revenue        1197 non-null   int64 \n",
      " 4   group          1197 non-null   object\n",
      "dtypes: int64(3), object(2)\n",
      "memory usage: 174.3 KB\n"
     ]
    },
    {
     "data": {
      "text/html": [
       "<div>\n",
       "<style scoped>\n",
       "    .dataframe tbody tr th:only-of-type {\n",
       "        vertical-align: middle;\n",
       "    }\n",
       "\n",
       "    .dataframe tbody tr th {\n",
       "        vertical-align: top;\n",
       "    }\n",
       "\n",
       "    .dataframe thead th {\n",
       "        text-align: right;\n",
       "    }\n",
       "</style>\n",
       "<table border=\"1\" class=\"dataframe\">\n",
       "  <thead>\n",
       "    <tr style=\"text-align: right;\">\n",
       "      <th></th>\n",
       "      <th>transactionId</th>\n",
       "      <th>visitorId</th>\n",
       "      <th>date</th>\n",
       "      <th>revenue</th>\n",
       "      <th>group</th>\n",
       "    </tr>\n",
       "  </thead>\n",
       "  <tbody>\n",
       "    <tr>\n",
       "      <th>0</th>\n",
       "      <td>3667963787</td>\n",
       "      <td>3312258926</td>\n",
       "      <td>2019-08-15</td>\n",
       "      <td>1650</td>\n",
       "      <td>B</td>\n",
       "    </tr>\n",
       "    <tr>\n",
       "      <th>1</th>\n",
       "      <td>2804400009</td>\n",
       "      <td>3642806036</td>\n",
       "      <td>2019-08-15</td>\n",
       "      <td>730</td>\n",
       "      <td>B</td>\n",
       "    </tr>\n",
       "    <tr>\n",
       "      <th>2</th>\n",
       "      <td>2961555356</td>\n",
       "      <td>4069496402</td>\n",
       "      <td>2019-08-15</td>\n",
       "      <td>400</td>\n",
       "      <td>A</td>\n",
       "    </tr>\n",
       "    <tr>\n",
       "      <th>3</th>\n",
       "      <td>3797467345</td>\n",
       "      <td>1196621759</td>\n",
       "      <td>2019-08-15</td>\n",
       "      <td>9759</td>\n",
       "      <td>B</td>\n",
       "    </tr>\n",
       "    <tr>\n",
       "      <th>4</th>\n",
       "      <td>2282983706</td>\n",
       "      <td>2322279887</td>\n",
       "      <td>2019-08-15</td>\n",
       "      <td>2308</td>\n",
       "      <td>B</td>\n",
       "    </tr>\n",
       "    <tr>\n",
       "      <th>5</th>\n",
       "      <td>182168103</td>\n",
       "      <td>935554773</td>\n",
       "      <td>2019-08-15</td>\n",
       "      <td>2210</td>\n",
       "      <td>B</td>\n",
       "    </tr>\n",
       "    <tr>\n",
       "      <th>6</th>\n",
       "      <td>398296753</td>\n",
       "      <td>2900797465</td>\n",
       "      <td>2019-08-15</td>\n",
       "      <td>1860</td>\n",
       "      <td>B</td>\n",
       "    </tr>\n",
       "    <tr>\n",
       "      <th>7</th>\n",
       "      <td>2626614568</td>\n",
       "      <td>78758296</td>\n",
       "      <td>2019-08-15</td>\n",
       "      <td>1044</td>\n",
       "      <td>A</td>\n",
       "    </tr>\n",
       "    <tr>\n",
       "      <th>8</th>\n",
       "      <td>1576988021</td>\n",
       "      <td>295230930</td>\n",
       "      <td>2019-08-15</td>\n",
       "      <td>13710</td>\n",
       "      <td>A</td>\n",
       "    </tr>\n",
       "    <tr>\n",
       "      <th>9</th>\n",
       "      <td>1506739906</td>\n",
       "      <td>1882260405</td>\n",
       "      <td>2019-08-15</td>\n",
       "      <td>1855</td>\n",
       "      <td>B</td>\n",
       "    </tr>\n",
       "    <tr>\n",
       "      <th>10</th>\n",
       "      <td>3649131742</td>\n",
       "      <td>879864040</td>\n",
       "      <td>2019-08-15</td>\n",
       "      <td>4008</td>\n",
       "      <td>A</td>\n",
       "    </tr>\n",
       "  </tbody>\n",
       "</table>\n",
       "</div>"
      ],
      "text/plain": [
       "    transactionId   visitorId        date  revenue group\n",
       "0      3667963787  3312258926  2019-08-15     1650     B\n",
       "1      2804400009  3642806036  2019-08-15      730     B\n",
       "2      2961555356  4069496402  2019-08-15      400     A\n",
       "3      3797467345  1196621759  2019-08-15     9759     B\n",
       "4      2282983706  2322279887  2019-08-15     2308     B\n",
       "5       182168103   935554773  2019-08-15     2210     B\n",
       "6       398296753  2900797465  2019-08-15     1860     B\n",
       "7      2626614568    78758296  2019-08-15     1044     A\n",
       "8      1576988021   295230930  2019-08-15    13710     A\n",
       "9      1506739906  1882260405  2019-08-15     1855     B\n",
       "10     3649131742   879864040  2019-08-15     4008     A"
      ]
     },
     "metadata": {},
     "output_type": "display_data"
    },
    {
     "data": {
      "text/html": [
       "<div>\n",
       "<style scoped>\n",
       "    .dataframe tbody tr th:only-of-type {\n",
       "        vertical-align: middle;\n",
       "    }\n",
       "\n",
       "    .dataframe tbody tr th {\n",
       "        vertical-align: top;\n",
       "    }\n",
       "\n",
       "    .dataframe thead th {\n",
       "        text-align: right;\n",
       "    }\n",
       "</style>\n",
       "<table border=\"1\" class=\"dataframe\">\n",
       "  <thead>\n",
       "    <tr style=\"text-align: right;\">\n",
       "      <th></th>\n",
       "      <th>transactionId</th>\n",
       "      <th>visitorId</th>\n",
       "      <th>revenue</th>\n",
       "    </tr>\n",
       "  </thead>\n",
       "  <tbody>\n",
       "    <tr>\n",
       "      <th>count</th>\n",
       "      <td>1.197000e+03</td>\n",
       "      <td>1.197000e+03</td>\n",
       "      <td>1.197000e+03</td>\n",
       "    </tr>\n",
       "    <tr>\n",
       "      <th>mean</th>\n",
       "      <td>2.155621e+09</td>\n",
       "      <td>2.165960e+09</td>\n",
       "      <td>8.348006e+03</td>\n",
       "    </tr>\n",
       "    <tr>\n",
       "      <th>std</th>\n",
       "      <td>1.229085e+09</td>\n",
       "      <td>1.236014e+09</td>\n",
       "      <td>3.919113e+04</td>\n",
       "    </tr>\n",
       "    <tr>\n",
       "      <th>min</th>\n",
       "      <td>1.062393e+06</td>\n",
       "      <td>5.114589e+06</td>\n",
       "      <td>5.000000e+01</td>\n",
       "    </tr>\n",
       "    <tr>\n",
       "      <th>25%</th>\n",
       "      <td>1.166776e+09</td>\n",
       "      <td>1.111826e+09</td>\n",
       "      <td>1.220000e+03</td>\n",
       "    </tr>\n",
       "    <tr>\n",
       "      <th>50%</th>\n",
       "      <td>2.145194e+09</td>\n",
       "      <td>2.217985e+09</td>\n",
       "      <td>2.978000e+03</td>\n",
       "    </tr>\n",
       "    <tr>\n",
       "      <th>75%</th>\n",
       "      <td>3.237740e+09</td>\n",
       "      <td>3.177606e+09</td>\n",
       "      <td>8.290000e+03</td>\n",
       "    </tr>\n",
       "    <tr>\n",
       "      <th>max</th>\n",
       "      <td>4.293856e+09</td>\n",
       "      <td>4.283872e+09</td>\n",
       "      <td>1.294500e+06</td>\n",
       "    </tr>\n",
       "  </tbody>\n",
       "</table>\n",
       "</div>"
      ],
      "text/plain": [
       "       transactionId     visitorId       revenue\n",
       "count   1.197000e+03  1.197000e+03  1.197000e+03\n",
       "mean    2.155621e+09  2.165960e+09  8.348006e+03\n",
       "std     1.229085e+09  1.236014e+09  3.919113e+04\n",
       "min     1.062393e+06  5.114589e+06  5.000000e+01\n",
       "25%     1.166776e+09  1.111826e+09  1.220000e+03\n",
       "50%     2.145194e+09  2.217985e+09  2.978000e+03\n",
       "75%     3.237740e+09  3.177606e+09  8.290000e+03\n",
       "max     4.293856e+09  4.283872e+09  1.294500e+06"
      ]
     },
     "metadata": {},
     "output_type": "display_data"
    },
    {
     "name": "stdout",
     "output_type": "stream",
     "text": [
      "Количество дубликатов 0\n"
     ]
    }
   ],
   "source": [
    "research(orders)"
   ]
  },
  {
   "cell_type": "markdown",
   "metadata": {},
   "source": [
    "Приведем наименование колонок к нижнему регистру и зададим формат даты для столбца date"
   ]
  },
  {
   "cell_type": "code",
   "execution_count": 10,
   "metadata": {},
   "outputs": [],
   "source": [
    "orders.columns = orders.columns.str.lower()"
   ]
  },
  {
   "cell_type": "code",
   "execution_count": 11,
   "metadata": {},
   "outputs": [],
   "source": [
    "orders['date'] = orders['date'].map(lambda x: dt.datetime.strptime(x, '%Y-%m-%d'))"
   ]
  },
  {
   "cell_type": "code",
   "execution_count": 12,
   "metadata": {},
   "outputs": [
    {
     "name": "stdout",
     "output_type": "stream",
     "text": [
      "<class 'pandas.core.frame.DataFrame'>\n",
      "RangeIndex: 1197 entries, 0 to 1196\n",
      "Data columns (total 5 columns):\n",
      " #   Column         Non-Null Count  Dtype         \n",
      "---  ------         --------------  -----         \n",
      " 0   transactionid  1197 non-null   int64         \n",
      " 1   visitorid      1197 non-null   int64         \n",
      " 2   date           1197 non-null   datetime64[ns]\n",
      " 3   revenue        1197 non-null   int64         \n",
      " 4   group          1197 non-null   object        \n",
      "dtypes: datetime64[ns](1), int64(3), object(1)\n",
      "memory usage: 105.3 KB\n"
     ]
    },
    {
     "data": {
      "text/html": [
       "<div>\n",
       "<style scoped>\n",
       "    .dataframe tbody tr th:only-of-type {\n",
       "        vertical-align: middle;\n",
       "    }\n",
       "\n",
       "    .dataframe tbody tr th {\n",
       "        vertical-align: top;\n",
       "    }\n",
       "\n",
       "    .dataframe thead th {\n",
       "        text-align: right;\n",
       "    }\n",
       "</style>\n",
       "<table border=\"1\" class=\"dataframe\">\n",
       "  <thead>\n",
       "    <tr style=\"text-align: right;\">\n",
       "      <th></th>\n",
       "      <th>transactionid</th>\n",
       "      <th>visitorid</th>\n",
       "      <th>date</th>\n",
       "      <th>revenue</th>\n",
       "      <th>group</th>\n",
       "    </tr>\n",
       "  </thead>\n",
       "  <tbody>\n",
       "    <tr>\n",
       "      <th>0</th>\n",
       "      <td>3667963787</td>\n",
       "      <td>3312258926</td>\n",
       "      <td>2019-08-15</td>\n",
       "      <td>1650</td>\n",
       "      <td>B</td>\n",
       "    </tr>\n",
       "    <tr>\n",
       "      <th>1</th>\n",
       "      <td>2804400009</td>\n",
       "      <td>3642806036</td>\n",
       "      <td>2019-08-15</td>\n",
       "      <td>730</td>\n",
       "      <td>B</td>\n",
       "    </tr>\n",
       "    <tr>\n",
       "      <th>2</th>\n",
       "      <td>2961555356</td>\n",
       "      <td>4069496402</td>\n",
       "      <td>2019-08-15</td>\n",
       "      <td>400</td>\n",
       "      <td>A</td>\n",
       "    </tr>\n",
       "    <tr>\n",
       "      <th>3</th>\n",
       "      <td>3797467345</td>\n",
       "      <td>1196621759</td>\n",
       "      <td>2019-08-15</td>\n",
       "      <td>9759</td>\n",
       "      <td>B</td>\n",
       "    </tr>\n",
       "    <tr>\n",
       "      <th>4</th>\n",
       "      <td>2282983706</td>\n",
       "      <td>2322279887</td>\n",
       "      <td>2019-08-15</td>\n",
       "      <td>2308</td>\n",
       "      <td>B</td>\n",
       "    </tr>\n",
       "    <tr>\n",
       "      <th>5</th>\n",
       "      <td>182168103</td>\n",
       "      <td>935554773</td>\n",
       "      <td>2019-08-15</td>\n",
       "      <td>2210</td>\n",
       "      <td>B</td>\n",
       "    </tr>\n",
       "    <tr>\n",
       "      <th>6</th>\n",
       "      <td>398296753</td>\n",
       "      <td>2900797465</td>\n",
       "      <td>2019-08-15</td>\n",
       "      <td>1860</td>\n",
       "      <td>B</td>\n",
       "    </tr>\n",
       "    <tr>\n",
       "      <th>7</th>\n",
       "      <td>2626614568</td>\n",
       "      <td>78758296</td>\n",
       "      <td>2019-08-15</td>\n",
       "      <td>1044</td>\n",
       "      <td>A</td>\n",
       "    </tr>\n",
       "    <tr>\n",
       "      <th>8</th>\n",
       "      <td>1576988021</td>\n",
       "      <td>295230930</td>\n",
       "      <td>2019-08-15</td>\n",
       "      <td>13710</td>\n",
       "      <td>A</td>\n",
       "    </tr>\n",
       "    <tr>\n",
       "      <th>9</th>\n",
       "      <td>1506739906</td>\n",
       "      <td>1882260405</td>\n",
       "      <td>2019-08-15</td>\n",
       "      <td>1855</td>\n",
       "      <td>B</td>\n",
       "    </tr>\n",
       "    <tr>\n",
       "      <th>10</th>\n",
       "      <td>3649131742</td>\n",
       "      <td>879864040</td>\n",
       "      <td>2019-08-15</td>\n",
       "      <td>4008</td>\n",
       "      <td>A</td>\n",
       "    </tr>\n",
       "  </tbody>\n",
       "</table>\n",
       "</div>"
      ],
      "text/plain": [
       "    transactionid   visitorid       date  revenue group\n",
       "0      3667963787  3312258926 2019-08-15     1650     B\n",
       "1      2804400009  3642806036 2019-08-15      730     B\n",
       "2      2961555356  4069496402 2019-08-15      400     A\n",
       "3      3797467345  1196621759 2019-08-15     9759     B\n",
       "4      2282983706  2322279887 2019-08-15     2308     B\n",
       "5       182168103   935554773 2019-08-15     2210     B\n",
       "6       398296753  2900797465 2019-08-15     1860     B\n",
       "7      2626614568    78758296 2019-08-15     1044     A\n",
       "8      1576988021   295230930 2019-08-15    13710     A\n",
       "9      1506739906  1882260405 2019-08-15     1855     B\n",
       "10     3649131742   879864040 2019-08-15     4008     A"
      ]
     },
     "metadata": {},
     "output_type": "display_data"
    },
    {
     "data": {
      "text/html": [
       "<div>\n",
       "<style scoped>\n",
       "    .dataframe tbody tr th:only-of-type {\n",
       "        vertical-align: middle;\n",
       "    }\n",
       "\n",
       "    .dataframe tbody tr th {\n",
       "        vertical-align: top;\n",
       "    }\n",
       "\n",
       "    .dataframe thead th {\n",
       "        text-align: right;\n",
       "    }\n",
       "</style>\n",
       "<table border=\"1\" class=\"dataframe\">\n",
       "  <thead>\n",
       "    <tr style=\"text-align: right;\">\n",
       "      <th></th>\n",
       "      <th>transactionid</th>\n",
       "      <th>visitorid</th>\n",
       "      <th>revenue</th>\n",
       "    </tr>\n",
       "  </thead>\n",
       "  <tbody>\n",
       "    <tr>\n",
       "      <th>count</th>\n",
       "      <td>1.197000e+03</td>\n",
       "      <td>1.197000e+03</td>\n",
       "      <td>1.197000e+03</td>\n",
       "    </tr>\n",
       "    <tr>\n",
       "      <th>mean</th>\n",
       "      <td>2.155621e+09</td>\n",
       "      <td>2.165960e+09</td>\n",
       "      <td>8.348006e+03</td>\n",
       "    </tr>\n",
       "    <tr>\n",
       "      <th>std</th>\n",
       "      <td>1.229085e+09</td>\n",
       "      <td>1.236014e+09</td>\n",
       "      <td>3.919113e+04</td>\n",
       "    </tr>\n",
       "    <tr>\n",
       "      <th>min</th>\n",
       "      <td>1.062393e+06</td>\n",
       "      <td>5.114589e+06</td>\n",
       "      <td>5.000000e+01</td>\n",
       "    </tr>\n",
       "    <tr>\n",
       "      <th>25%</th>\n",
       "      <td>1.166776e+09</td>\n",
       "      <td>1.111826e+09</td>\n",
       "      <td>1.220000e+03</td>\n",
       "    </tr>\n",
       "    <tr>\n",
       "      <th>50%</th>\n",
       "      <td>2.145194e+09</td>\n",
       "      <td>2.217985e+09</td>\n",
       "      <td>2.978000e+03</td>\n",
       "    </tr>\n",
       "    <tr>\n",
       "      <th>75%</th>\n",
       "      <td>3.237740e+09</td>\n",
       "      <td>3.177606e+09</td>\n",
       "      <td>8.290000e+03</td>\n",
       "    </tr>\n",
       "    <tr>\n",
       "      <th>max</th>\n",
       "      <td>4.293856e+09</td>\n",
       "      <td>4.283872e+09</td>\n",
       "      <td>1.294500e+06</td>\n",
       "    </tr>\n",
       "  </tbody>\n",
       "</table>\n",
       "</div>"
      ],
      "text/plain": [
       "       transactionid     visitorid       revenue\n",
       "count   1.197000e+03  1.197000e+03  1.197000e+03\n",
       "mean    2.155621e+09  2.165960e+09  8.348006e+03\n",
       "std     1.229085e+09  1.236014e+09  3.919113e+04\n",
       "min     1.062393e+06  5.114589e+06  5.000000e+01\n",
       "25%     1.166776e+09  1.111826e+09  1.220000e+03\n",
       "50%     2.145194e+09  2.217985e+09  2.978000e+03\n",
       "75%     3.237740e+09  3.177606e+09  8.290000e+03\n",
       "max     4.293856e+09  4.283872e+09  1.294500e+06"
      ]
     },
     "metadata": {},
     "output_type": "display_data"
    },
    {
     "name": "stdout",
     "output_type": "stream",
     "text": [
      "Количество дубликатов 0\n"
     ]
    }
   ],
   "source": [
    "research(orders)"
   ]
  },
  {
   "cell_type": "code",
   "execution_count": 13,
   "metadata": {},
   "outputs": [
    {
     "name": "stdout",
     "output_type": "stream",
     "text": [
      "<class 'pandas.core.frame.DataFrame'>\n",
      "RangeIndex: 62 entries, 0 to 61\n",
      "Data columns (total 3 columns):\n",
      " #   Column    Non-Null Count  Dtype \n",
      "---  ------    --------------  ----- \n",
      " 0   date      62 non-null     object\n",
      " 1   group     62 non-null     object\n",
      " 2   visitors  62 non-null     int64 \n",
      "dtypes: int64(1), object(2)\n",
      "memory usage: 8.2 KB\n"
     ]
    },
    {
     "data": {
      "text/html": [
       "<div>\n",
       "<style scoped>\n",
       "    .dataframe tbody tr th:only-of-type {\n",
       "        vertical-align: middle;\n",
       "    }\n",
       "\n",
       "    .dataframe tbody tr th {\n",
       "        vertical-align: top;\n",
       "    }\n",
       "\n",
       "    .dataframe thead th {\n",
       "        text-align: right;\n",
       "    }\n",
       "</style>\n",
       "<table border=\"1\" class=\"dataframe\">\n",
       "  <thead>\n",
       "    <tr style=\"text-align: right;\">\n",
       "      <th></th>\n",
       "      <th>date</th>\n",
       "      <th>group</th>\n",
       "      <th>visitors</th>\n",
       "    </tr>\n",
       "  </thead>\n",
       "  <tbody>\n",
       "    <tr>\n",
       "      <th>0</th>\n",
       "      <td>2019-08-01</td>\n",
       "      <td>A</td>\n",
       "      <td>719</td>\n",
       "    </tr>\n",
       "    <tr>\n",
       "      <th>1</th>\n",
       "      <td>2019-08-02</td>\n",
       "      <td>A</td>\n",
       "      <td>619</td>\n",
       "    </tr>\n",
       "    <tr>\n",
       "      <th>2</th>\n",
       "      <td>2019-08-03</td>\n",
       "      <td>A</td>\n",
       "      <td>507</td>\n",
       "    </tr>\n",
       "    <tr>\n",
       "      <th>3</th>\n",
       "      <td>2019-08-04</td>\n",
       "      <td>A</td>\n",
       "      <td>717</td>\n",
       "    </tr>\n",
       "    <tr>\n",
       "      <th>4</th>\n",
       "      <td>2019-08-05</td>\n",
       "      <td>A</td>\n",
       "      <td>756</td>\n",
       "    </tr>\n",
       "    <tr>\n",
       "      <th>5</th>\n",
       "      <td>2019-08-06</td>\n",
       "      <td>A</td>\n",
       "      <td>667</td>\n",
       "    </tr>\n",
       "    <tr>\n",
       "      <th>6</th>\n",
       "      <td>2019-08-07</td>\n",
       "      <td>A</td>\n",
       "      <td>644</td>\n",
       "    </tr>\n",
       "    <tr>\n",
       "      <th>7</th>\n",
       "      <td>2019-08-08</td>\n",
       "      <td>A</td>\n",
       "      <td>610</td>\n",
       "    </tr>\n",
       "    <tr>\n",
       "      <th>8</th>\n",
       "      <td>2019-08-09</td>\n",
       "      <td>A</td>\n",
       "      <td>617</td>\n",
       "    </tr>\n",
       "    <tr>\n",
       "      <th>9</th>\n",
       "      <td>2019-08-10</td>\n",
       "      <td>A</td>\n",
       "      <td>406</td>\n",
       "    </tr>\n",
       "    <tr>\n",
       "      <th>10</th>\n",
       "      <td>2019-08-11</td>\n",
       "      <td>A</td>\n",
       "      <td>718</td>\n",
       "    </tr>\n",
       "  </tbody>\n",
       "</table>\n",
       "</div>"
      ],
      "text/plain": [
       "          date group  visitors\n",
       "0   2019-08-01     A       719\n",
       "1   2019-08-02     A       619\n",
       "2   2019-08-03     A       507\n",
       "3   2019-08-04     A       717\n",
       "4   2019-08-05     A       756\n",
       "5   2019-08-06     A       667\n",
       "6   2019-08-07     A       644\n",
       "7   2019-08-08     A       610\n",
       "8   2019-08-09     A       617\n",
       "9   2019-08-10     A       406\n",
       "10  2019-08-11     A       718"
      ]
     },
     "metadata": {},
     "output_type": "display_data"
    },
    {
     "data": {
      "text/html": [
       "<div>\n",
       "<style scoped>\n",
       "    .dataframe tbody tr th:only-of-type {\n",
       "        vertical-align: middle;\n",
       "    }\n",
       "\n",
       "    .dataframe tbody tr th {\n",
       "        vertical-align: top;\n",
       "    }\n",
       "\n",
       "    .dataframe thead th {\n",
       "        text-align: right;\n",
       "    }\n",
       "</style>\n",
       "<table border=\"1\" class=\"dataframe\">\n",
       "  <thead>\n",
       "    <tr style=\"text-align: right;\">\n",
       "      <th></th>\n",
       "      <th>visitors</th>\n",
       "    </tr>\n",
       "  </thead>\n",
       "  <tbody>\n",
       "    <tr>\n",
       "      <th>count</th>\n",
       "      <td>62.000000</td>\n",
       "    </tr>\n",
       "    <tr>\n",
       "      <th>mean</th>\n",
       "      <td>607.290323</td>\n",
       "    </tr>\n",
       "    <tr>\n",
       "      <th>std</th>\n",
       "      <td>114.400560</td>\n",
       "    </tr>\n",
       "    <tr>\n",
       "      <th>min</th>\n",
       "      <td>361.000000</td>\n",
       "    </tr>\n",
       "    <tr>\n",
       "      <th>25%</th>\n",
       "      <td>534.000000</td>\n",
       "    </tr>\n",
       "    <tr>\n",
       "      <th>50%</th>\n",
       "      <td>624.500000</td>\n",
       "    </tr>\n",
       "    <tr>\n",
       "      <th>75%</th>\n",
       "      <td>710.500000</td>\n",
       "    </tr>\n",
       "    <tr>\n",
       "      <th>max</th>\n",
       "      <td>770.000000</td>\n",
       "    </tr>\n",
       "  </tbody>\n",
       "</table>\n",
       "</div>"
      ],
      "text/plain": [
       "         visitors\n",
       "count   62.000000\n",
       "mean   607.290323\n",
       "std    114.400560\n",
       "min    361.000000\n",
       "25%    534.000000\n",
       "50%    624.500000\n",
       "75%    710.500000\n",
       "max    770.000000"
      ]
     },
     "metadata": {},
     "output_type": "display_data"
    },
    {
     "name": "stdout",
     "output_type": "stream",
     "text": [
      "Количество дубликатов 0\n"
     ]
    }
   ],
   "source": [
    "research(visitors)"
   ]
  },
  {
   "cell_type": "markdown",
   "metadata": {},
   "source": [
    "Зададим формат даты для колонки date"
   ]
  },
  {
   "cell_type": "code",
   "execution_count": 14,
   "metadata": {},
   "outputs": [],
   "source": [
    "visitors['date'] = visitors['date'].map(lambda x: dt.datetime.strptime(x, '%Y-%m-%d'))"
   ]
  },
  {
   "cell_type": "markdown",
   "metadata": {},
   "source": [
    "8300375"
   ]
  },
  {
   "cell_type": "code",
   "execution_count": 15,
   "metadata": {},
   "outputs": [
    {
     "name": "stdout",
     "output_type": "stream",
     "text": [
      "group    58\n",
      "dtype: int64\n"
     ]
    }
   ],
   "source": [
    "print(orders.groupby('visitorid').agg({'group':pd.Series.nunique}).query('group>1').count())\n",
    "crossing = orders.groupby('visitorid',as_index=False).agg({'group':pd.Series.nunique}).query('group>1')\n",
    "crossing = crossing['visitorid'].tolist()\n",
    "orders=orders.query('visitorid !=@crossing')"
   ]
  },
  {
   "cell_type": "code",
   "execution_count": 16,
   "metadata": {},
   "outputs": [
    {
     "name": "stdout",
     "output_type": "stream",
     "text": [
      "group    0\n",
      "dtype: int64\n"
     ]
    }
   ],
   "source": [
    "print(orders.groupby('visitorid').agg({'group':pd.Series.nunique}).query('group>1').count())"
   ]
  },
  {
   "cell_type": "markdown",
   "metadata": {},
   "source": [
    "### Вывод"
   ]
  },
  {
   "cell_type": "markdown",
   "metadata": {},
   "source": [
    " Из лога сервера были получены и загружены 3 датасета:\n",
    "- hypothesis отражены 9 гипотез по увеличению выручки в интернет-магазине, а также показатели охвата, влияния, уверенность и затраты на реализацию по 10 бальной шкале;\n",
    "- orders отражена информация по приобретениям пользователей (уникальный номер пользователя и покупки, выручка,дата совершения покупки, группа);\n",
    "- visitors отражена информация по количеству пользователей в указанную дату и информацию по принадлежности к группе А/В тестирования.\n",
    "\n",
    "В таблицах отсутствуют пропуски, дубликаты, типы данные указаны верно во всех таблицах верно, кроме дат (по ним формат изменен на формат даты) и колонки с текстом гипотезы (количество отображаемых символов было расширено до 125).Наименование колонок было задано с ошибками, наименования были приведены к нижнему регистру."
   ]
  },
  {
   "cell_type": "markdown",
   "metadata": {},
   "source": [
    "## Шаг. Приоритизация гипотез с помощью применения метода ICE и RICE.\n",
    "<a id=step_two></a>"
   ]
  },
  {
   "cell_type": "markdown",
   "metadata": {},
   "source": [
    "Посчитаем ICE для гипотез."
   ]
  },
  {
   "cell_type": "code",
   "execution_count": 17,
   "metadata": {},
   "outputs": [
    {
     "name": "stdout",
     "output_type": "stream",
     "text": [
      "                                                                                                     hypothesis  \\\n",
      "8                                                       Запустить акцию, дающую скидку на товар в день рождения   \n",
      "0            Добавить два новых канала привлечения трафика, что позволит привлекать на 30% больше пользователей   \n",
      "7              Добавить форму подписки на все основные страницы, чтобы собрать базу клиентов для email-рассылок   \n",
      "6          Показать на главной странице баннеры с актуальными акциями и распродажами, чтобы увеличить конверсию   \n",
      "2  Добавить блоки рекомендаций товаров на сайт интернет магазина, чтобы повысить конверсию и средний чек заказа   \n",
      "1                                     Запустить собственную службу доставки, что сократит срок доставки заказов   \n",
      "5                      Добавить страницу отзывов клиентов о магазине, что позволит увеличить количество заказов   \n",
      "3           Изменить структура категорий, что увеличит конверсию, т.к. пользователи быстрее найдут нужный товар   \n",
      "4                              Изменить цвет фона главной страницы, чтобы увеличить вовлеченность пользователей   \n",
      "\n",
      "         ice  \n",
      "8  16.200000  \n",
      "0  13.333333  \n",
      "7  11.200000  \n",
      "6   8.000000  \n",
      "2   7.000000  \n",
      "1   2.000000  \n",
      "5   1.333333  \n",
      "3   1.125000  \n",
      "4   1.000000  \n"
     ]
    }
   ],
   "source": [
    "hypothesis['ice']=hypothesis['impact']*hypothesis['confidence']/hypothesis['efforts'] # напишите ваш код здесь \n",
    "print(hypothesis[['hypothesis','ice']].sort_values(by='ice',ascending=False))"
   ]
  },
  {
   "cell_type": "markdown",
   "metadata": {},
   "source": [
    "Посчитаем RICE для гипотез."
   ]
  },
  {
   "cell_type": "code",
   "execution_count": 18,
   "metadata": {},
   "outputs": [
    {
     "data": {
      "text/html": [
       "<style  type=\"text/css\" >\n",
       "#T_51388_row0_col1,#T_51388_row2_col2{\n",
       "            background-color:  #023858;\n",
       "            color:  #f1f1f1;\n",
       "        }#T_51388_row0_col2{\n",
       "            background-color:  #ede7f2;\n",
       "            color:  #000000;\n",
       "        }#T_51388_row1_col1{\n",
       "            background-color:  #05659f;\n",
       "            color:  #f1f1f1;\n",
       "        }#T_51388_row1_col2,#T_51388_row3_col2{\n",
       "            background-color:  #b3c3de;\n",
       "            color:  #000000;\n",
       "        }#T_51388_row2_col1{\n",
       "            background-color:  #2484ba;\n",
       "            color:  #000000;\n",
       "        }#T_51388_row3_col1{\n",
       "            background-color:  #84b0d3;\n",
       "            color:  #000000;\n",
       "        }#T_51388_row4_col1{\n",
       "            background-color:  #9ebad9;\n",
       "            color:  #000000;\n",
       "        }#T_51388_row4_col2{\n",
       "            background-color:  #79abd0;\n",
       "            color:  #000000;\n",
       "        }#T_51388_row5_col1{\n",
       "            background-color:  #f5eff6;\n",
       "            color:  #000000;\n",
       "        }#T_51388_row5_col2,#T_51388_row6_col2,#T_51388_row7_col1{\n",
       "            background-color:  #fef6fa;\n",
       "            color:  #000000;\n",
       "        }#T_51388_row6_col1{\n",
       "            background-color:  #fcf4fa;\n",
       "            color:  #000000;\n",
       "        }#T_51388_row7_col2{\n",
       "            background-color:  #f7f0f7;\n",
       "            color:  #000000;\n",
       "        }#T_51388_row8_col1,#T_51388_row8_col2{\n",
       "            background-color:  #fff7fb;\n",
       "            color:  #000000;\n",
       "        }</style><table id=\"T_51388_\" ><thead>    <tr>        <th class=\"blank level0\" ></th>        <th class=\"col_heading level0 col0\" >hypothesis</th>        <th class=\"col_heading level0 col1\" >ice</th>        <th class=\"col_heading level0 col2\" >rice</th>    </tr></thead><tbody>\n",
       "                <tr>\n",
       "                        <th id=\"T_51388_level0_row0\" class=\"row_heading level0 row0\" >8</th>\n",
       "                        <td id=\"T_51388_row0_col0\" class=\"data row0 col0\" >Запустить акцию, дающую скидку на товар в день рождения</td>\n",
       "                        <td id=\"T_51388_row0_col1\" class=\"data row0 col1\" >16.200000</td>\n",
       "                        <td id=\"T_51388_row0_col2\" class=\"data row0 col2\" >16.200000</td>\n",
       "            </tr>\n",
       "            <tr>\n",
       "                        <th id=\"T_51388_level0_row1\" class=\"row_heading level0 row1\" >0</th>\n",
       "                        <td id=\"T_51388_row1_col0\" class=\"data row1 col0\" >Добавить два новых канала привлечения трафика, что позволит привлекать на 30% больше пользователей</td>\n",
       "                        <td id=\"T_51388_row1_col1\" class=\"data row1 col1\" >13.333333</td>\n",
       "                        <td id=\"T_51388_row1_col2\" class=\"data row1 col2\" >40.000000</td>\n",
       "            </tr>\n",
       "            <tr>\n",
       "                        <th id=\"T_51388_level0_row2\" class=\"row_heading level0 row2\" >7</th>\n",
       "                        <td id=\"T_51388_row2_col0\" class=\"data row2 col0\" >Добавить форму подписки на все основные страницы, чтобы собрать базу клиентов для email-рассылок</td>\n",
       "                        <td id=\"T_51388_row2_col1\" class=\"data row2 col1\" >11.200000</td>\n",
       "                        <td id=\"T_51388_row2_col2\" class=\"data row2 col2\" >112.000000</td>\n",
       "            </tr>\n",
       "            <tr>\n",
       "                        <th id=\"T_51388_level0_row3\" class=\"row_heading level0 row3\" >6</th>\n",
       "                        <td id=\"T_51388_row3_col0\" class=\"data row3 col0\" >Показать на главной странице баннеры с актуальными акциями и распродажами, чтобы увеличить конверсию</td>\n",
       "                        <td id=\"T_51388_row3_col1\" class=\"data row3 col1\" >8.000000</td>\n",
       "                        <td id=\"T_51388_row3_col2\" class=\"data row3 col2\" >40.000000</td>\n",
       "            </tr>\n",
       "            <tr>\n",
       "                        <th id=\"T_51388_level0_row4\" class=\"row_heading level0 row4\" >2</th>\n",
       "                        <td id=\"T_51388_row4_col0\" class=\"data row4 col0\" >Добавить блоки рекомендаций товаров на сайт интернет магазина, чтобы повысить конверсию и средний чек заказа</td>\n",
       "                        <td id=\"T_51388_row4_col1\" class=\"data row4 col1\" >7.000000</td>\n",
       "                        <td id=\"T_51388_row4_col2\" class=\"data row4 col2\" >56.000000</td>\n",
       "            </tr>\n",
       "            <tr>\n",
       "                        <th id=\"T_51388_level0_row5\" class=\"row_heading level0 row5\" >1</th>\n",
       "                        <td id=\"T_51388_row5_col0\" class=\"data row5 col0\" >Запустить собственную службу доставки, что сократит срок доставки заказов</td>\n",
       "                        <td id=\"T_51388_row5_col1\" class=\"data row5 col1\" >2.000000</td>\n",
       "                        <td id=\"T_51388_row5_col2\" class=\"data row5 col2\" >4.000000</td>\n",
       "            </tr>\n",
       "            <tr>\n",
       "                        <th id=\"T_51388_level0_row6\" class=\"row_heading level0 row6\" >5</th>\n",
       "                        <td id=\"T_51388_row6_col0\" class=\"data row6 col0\" >Добавить страницу отзывов клиентов о магазине, что позволит увеличить количество заказов</td>\n",
       "                        <td id=\"T_51388_row6_col1\" class=\"data row6 col1\" >1.333333</td>\n",
       "                        <td id=\"T_51388_row6_col2\" class=\"data row6 col2\" >4.000000</td>\n",
       "            </tr>\n",
       "            <tr>\n",
       "                        <th id=\"T_51388_level0_row7\" class=\"row_heading level0 row7\" >3</th>\n",
       "                        <td id=\"T_51388_row7_col0\" class=\"data row7 col0\" >Изменить структура категорий, что увеличит конверсию, т.к. пользователи быстрее найдут нужный товар</td>\n",
       "                        <td id=\"T_51388_row7_col1\" class=\"data row7 col1\" >1.125000</td>\n",
       "                        <td id=\"T_51388_row7_col2\" class=\"data row7 col2\" >9.000000</td>\n",
       "            </tr>\n",
       "            <tr>\n",
       "                        <th id=\"T_51388_level0_row8\" class=\"row_heading level0 row8\" >4</th>\n",
       "                        <td id=\"T_51388_row8_col0\" class=\"data row8 col0\" >Изменить цвет фона главной страницы, чтобы увеличить вовлеченность пользователей</td>\n",
       "                        <td id=\"T_51388_row8_col1\" class=\"data row8 col1\" >1.000000</td>\n",
       "                        <td id=\"T_51388_row8_col2\" class=\"data row8 col2\" >3.000000</td>\n",
       "            </tr>\n",
       "    </tbody></table>"
      ],
      "text/plain": [
       "<pandas.io.formats.style.Styler at 0x7fc70673b3d0>"
      ]
     },
     "metadata": {},
     "output_type": "display_data"
    }
   ],
   "source": [
    "hypothesis['rice']=((hypothesis['reach']*hypothesis['impact']*hypothesis['confidence'])/hypothesis['efforts'])\n",
    "\n",
    "hypothesis=hypothesis[['hypothesis','ice', 'rice']].sort_values(by=['ice', 'rice'], ascending=[False,False]).style.background_gradient(axis=0)\n",
    "display(hypothesis)\n"
   ]
  },
  {
   "cell_type": "markdown",
   "metadata": {},
   "source": [
    "\n",
    "s.set_table_styles([  # create internal CSS classes\n",
    "    {'selector': '.true', 'props': 'background-color: #e6ffe6;'},\n",
    "    {'selector': '.false', 'props': 'background-color: #ffe6e6;'},\n",
    "], overwrite=False)\n",
    "cell_color = pd.DataFrame([['true ', 'false ', 'true ', 'false '],\n",
    "                           ['false ', 'true ', 'false ', 'true ']],\n",
    "                          index=hypothesis.index,\n",
    "                          columns=hypothesis.columns[1:3])\n",
    "s.set_td_classes(cell_color)"
   ]
  },
  {
   "cell_type": "markdown",
   "metadata": {},
   "source": [
    "При использовании способа **ICE** для приоретизации гипотез в топ 5 вошли гипотезы:\n",
    "- о предоставлении скидки в день рождение,\n",
    "- о добавлении новых каналов привлечения,\n",
    "- о добавлении формы подписки на все основне страницы,\n",
    "- о показе на главной странице баннеров с актуальными акциями и распродажами,\n",
    "- о добавлении рекомендаций на сайт интернет магазина.\n",
    "\n",
    "\n",
    "При использовании способа **RICE** в топ 5 вошли гипотезы:\n",
    "- о добавлении формы подписки на все основные страницы;\n",
    "- о добавлении блоков рекомендаций товаров на сайт;\n",
    "- о добавлении двух новых каналов привленчения трафика;\n",
    "- о показе на главное странице баннеров с актуальными акциями и распродажами;\n",
    "- о запуске акции, дающую скидку на товар в день рождения.\n",
    "\n",
    "\n"
   ]
  },
  {
   "cell_type": "markdown",
   "metadata": {},
   "source": [
    "### Вывод\n",
    "\n",
    "По количеству набранных очков при использовании способа ICE и RICE в топ 5 вошли одни и те же гипотезы.\n",
    "\n",
    "При использовании метода RICE в приоритете те гипотезы, которые охватывают большее количество пользователей."
   ]
  },
  {
   "cell_type": "markdown",
   "metadata": {},
   "source": [
    "## Шаг. Анализ A/B-теста.\n",
    "<a id=step_three></a>"
   ]
  },
  {
   "cell_type": "markdown",
   "metadata": {},
   "source": [
    "### Стабильность кумулятивных метрик.\n",
    "<a id=step_three_one></a>"
   ]
  },
  {
   "cell_type": "markdown",
   "metadata": {},
   "source": [
    "Создадим массив уникальных пар значений дат и групп теста методом drop_duplicates()."
   ]
  },
  {
   "cell_type": "code",
   "execution_count": 19,
   "metadata": {},
   "outputs": [],
   "source": [
    "datesGroups = orders[['date','group']].drop_duplicates()"
   ]
  },
  {
   "cell_type": "markdown",
   "metadata": {},
   "source": [
    "Соберём агрегированные кумулятивные по дням данные о заказах в несколько действий.\n",
    "Получим строки таблицы orders, дата которых меньше или равна дате элемента из datesGroups, а группа теста равна группе из datesGroups\n",
    "\n",
    "Агрегируем значения. Вычислим максимальную дату. Для группы тоже рассчитаем максимум, и хотя она будет определённой, сделаем это, чтобы столбец 'group' не пропал из итогового вывода. Найдём число уникальных ID заказов и пользователей. Подсчитаем сумму средних чеков:\n",
    ".agg({'date' : 'max', 'group' : 'max', 'transactionid' : 'nunique', 'visitorid' : 'nunique', 'revenue' : 'sum'}). Применим методы к каждой строке датафрейма: apply(axis=1) и отсортируем результаты по столбцам 'date' и 'group':"
   ]
  },
  {
   "cell_type": "code",
   "execution_count": 20,
   "metadata": {},
   "outputs": [],
   "source": [
    "ordersAggregated = datesGroups.apply(\n",
    "    lambda x: orders[\n",
    "        np.logical_and(\n",
    "            orders['date'] <= x['date'], orders['group'] == x['group']\n",
    "        )\n",
    "    ].agg(\n",
    "        {\n",
    "            'date': 'max',\n",
    "            'group': 'max',\n",
    "            'transactionid': 'nunique',\n",
    "            'visitorid': 'nunique',\n",
    "            'revenue': 'sum',\n",
    "        }\n",
    "    ),\n",
    "    axis=1,\n",
    ").sort_values(by=['date', 'group'])"
   ]
  },
  {
   "cell_type": "markdown",
   "metadata": {},
   "source": [
    "Этот код работает так, будто мы ежедневно считали результаты тестирования до выбранного дня включительно и сохраняли их в строках таблицы ordersAggregated.\n",
    "Аналогично получим агрегированные кумулятивные по дням данные о посетителях интернет-магазина:"
   ]
  },
  {
   "cell_type": "code",
   "execution_count": 21,
   "metadata": {},
   "outputs": [],
   "source": [
    "visitorsAggregated = datesGroups.apply(\n",
    "    lambda x: visitors[\n",
    "        np.logical_and(\n",
    "            visitors['date'] <= x['date'], visitors['group'] == x['group']\n",
    "        )\n",
    "    ].agg({'date': 'max', 'group': 'max', 'visitors': 'sum'}),\n",
    "    axis=1,\n",
    ").sort_values(by=['date', 'group'])\n"
   ]
  },
  {
   "cell_type": "code",
   "execution_count": 22,
   "metadata": {},
   "outputs": [
    {
     "name": "stdout",
     "output_type": "stream",
     "text": [
      "        date group  orders  buyers  revenue  visitors\n",
      "0 2019-08-01     A      23      19   142779       719\n",
      "1 2019-08-01     B      17      17    59758       713\n",
      "2 2019-08-02     A      42      36   234381      1338\n",
      "3 2019-08-02     B      40      39   221801      1294\n",
      "4 2019-08-03     A      66      60   346854      1845\n"
     ]
    }
   ],
   "source": [
    "# объединяем кумулятивные данные в одной таблице и присваиваем ее столбцам понятные названия\n",
    "cumulativeData = ordersAggregated.merge(visitorsAggregated, left_on=['date', 'group'], right_on=['date', 'group'])\n",
    "cumulativeData.columns = ['date', 'group', 'orders', 'buyers', 'revenue', 'visitors']\n",
    "\n",
    "print(cumulativeData.head(5)) "
   ]
  },
  {
   "cell_type": "markdown",
   "metadata": {},
   "source": [
    "Построим графики кумулятивной выручки по дням и группам A/B-тестирования:"
   ]
  },
  {
   "cell_type": "code",
   "execution_count": 23,
   "metadata": {},
   "outputs": [
    {
     "data": {
      "image/png": "[encoded data removed]",
      "text/plain": [
       "<Figure size 1080x360 with 1 Axes>"
      ]
     },
     "metadata": {
      "needs_background": "light"
     },
     "output_type": "display_data"
    }
   ],
   "source": [
    "# датафрейм с кумулятивным количеством заказов и кумулятивной выручкой по дням в группе А\n",
    "cumulativeRevenueA = cumulativeData[cumulativeData['group']=='A'][['date','revenue', 'orders']]\n",
    "\n",
    "# датафрейм с кумулятивным количеством заказов и кумулятивной выручкой по дням в группе B\n",
    "cumulativeRevenueB = cumulativeData[cumulativeData['group']=='B'][['date','revenue', 'orders']]\n",
    "\n",
    "\n",
    "# Строим график выручки группы А\n",
    "fig, ax = plt.subplots(figsize=(15, 5))\n",
    "plt.plot(cumulativeRevenueA['date'], cumulativeRevenueA['revenue'], label='A')\n",
    "\n",
    "# Строим график выручки группы B\n",
    "plt.plot(cumulativeRevenueB['date'], cumulativeRevenueB['revenue'],label='B')\n",
    "\n",
    "plt.legend() \n",
    "plt.title(\"График кумулятивной выручки по группам\") \n",
    "plt.xlabel(\"Дата\")\n",
    "plt.ylabel(\"Выручка, млн. руб.\")\n",
    "plt.show() \n",
    "\n"
   ]
  },
  {
   "cell_type": "markdown",
   "metadata": {},
   "source": [
    "Выручка почти равномерно увеличивается в течение всего теста. Хороший знак.\n",
    "Однако график выручки в группе B 17.08 резко растет. Это может сигнализировать о всплесках числа заказов, либо о появлении очень дорогих заказов в выборке. \n",
    "Построим графики среднего чека по группам — разделим кумулятивную выручку на кумулятивное число заказов:"
   ]
  },
  {
   "cell_type": "code",
   "execution_count": 24,
   "metadata": {},
   "outputs": [
    {
     "data": {
      "text/plain": [
       "<matplotlib.legend.Legend at 0x7fc704064e50>"
      ]
     },
     "execution_count": 24,
     "metadata": {},
     "output_type": "execute_result"
    },
    {
     "data": {
      "image/png": "[encoded data removed]",
      "text/plain": [
       "<Figure size 1080x360 with 1 Axes>"
      ]
     },
     "metadata": {
      "needs_background": "light"
     },
     "output_type": "display_data"
    }
   ],
   "source": [
    "fig, ax = plt.subplots(figsize=(15, 5))\n",
    "plt.plot(cumulativeRevenueA['date'], cumulativeRevenueA['revenue']/cumulativeRevenueA['orders'], label='A')\n",
    "plt.plot(cumulativeRevenueB['date'], cumulativeRevenueB['revenue']/cumulativeRevenueB['orders'], label='B')\n",
    "plt.title(\"График кумулятивного среднего чека по группам\") \n",
    "plt.xlabel(\"Дата\")\n",
    "plt.ylabel(\"Сумма среднего чека, руб.\")\n",
    "plt.legend()"
   ]
  },
  {
   "cell_type": "markdown",
   "metadata": {},
   "source": [
    "Средний чек тоже становится равномерным ближе к концу теста: установился для группы A и снижается для группы B. Возможно, в группу B во второй половине теста попали крупные заказы (резкий всплеск на графике). Тогда ей нужно больше данных, чтобы прийти к реальному среднему чеку и установиться на его уровне.\n",
    "Построим график относительного различия для среднего чека. Добавим горизонтальную ось методом axhline():"
   ]
  },
  {
   "cell_type": "code",
   "execution_count": 25,
   "metadata": {},
   "outputs": [
    {
     "data": {
      "text/plain": [
       "Text(0.5, 1.0, 'График относительного изменения кумулятивного среднего чека группы B к группе A')"
      ]
     },
     "execution_count": 25,
     "metadata": {},
     "output_type": "execute_result"
    },
    {
     "data": {
      "image/png": "[encoded data removed]",
      "text/plain": [
       "<Figure size 1080x360 with 1 Axes>"
      ]
     },
     "metadata": {
      "needs_background": "light"
     },
     "output_type": "display_data"
    }
   ],
   "source": [
    "# собираем данные в одном датафрейме\n",
    "mergedCumulativeRevenue = cumulativeRevenueA.merge(cumulativeRevenueB, left_on='date', right_on='date', how='left', suffixes=['A', 'B'])\n",
    "\n",
    "# cтроим отношение средних чеков\n",
    "fig, ax = plt.subplots(figsize=(15, 5))\n",
    "plt.plot(mergedCumulativeRevenue['date'], (mergedCumulativeRevenue['revenueB']/mergedCumulativeRevenue['ordersB'])/(mergedCumulativeRevenue['revenueA']/mergedCumulativeRevenue['ordersA'])-1)\n",
    "\n",
    "# добавляем ось X\n",
    "plt.axhline(y=0, color='black', linestyle='--') \n",
    "plt.xlabel(\"Дата\")\n",
    "plt.ylabel(\"Относительное изменение\")\n",
    "plt.title(\"График относительного изменения кумулятивного среднего чека группы B к группе A\")\n"
   ]
  },
  {
   "cell_type": "markdown",
   "metadata": {},
   "source": [
    "В нескольких точках график различия между сегментами резко «скачет». Где-то уж точно спрятались крупные заказы и выбросы! Найдём их позже."
   ]
  },
  {
   "cell_type": "markdown",
   "metadata": {},
   "source": [
    "Аналогично проанализируем график кумулятивной конверсии. Зададим масштаб осей методом plt.axis(). Передадим ему минимальное и максимальное значения оси x; минимальное и максимальное значения оси y — [\"2019-08-01\", '2019-09-01', 0, 0.015]:"
   ]
  },
  {
   "cell_type": "code",
   "execution_count": 26,
   "metadata": {},
   "outputs": [
    {
     "data": {
      "text/plain": [
       "Text(0.5, 1.0, 'График кумулятивной конверсии по группам')"
      ]
     },
     "execution_count": 26,
     "metadata": {},
     "output_type": "execute_result"
    },
    {
     "data": {
      "image/png": "[encoded data removed]",
      "text/plain": [
       "<Figure size 1080x360 with 1 Axes>"
      ]
     },
     "metadata": {
      "needs_background": "light"
     },
     "output_type": "display_data"
    }
   ],
   "source": [
    "# считаем кумулятивную конверсию\n",
    "cumulativeData['conversion'] = cumulativeData['orders']/cumulativeData['visitors']\n",
    "\n",
    "# отделяем данные по группе A\n",
    "cumulativeDataA = cumulativeData[cumulativeData['group']=='A']\n",
    "\n",
    "# отделяем данные по группе B\n",
    "cumulativeDataB = cumulativeData[cumulativeData['group']=='B']\n",
    "\n",
    "# строим графики\n",
    "fig, ax = plt.subplots(figsize=(15, 5))\n",
    "plt.plot(cumulativeDataA['date'], cumulativeDataA['conversion'], label='A')\n",
    "plt.plot(cumulativeDataB['date'], cumulativeDataB['conversion'], label='B')\n",
    "plt.legend()\n",
    "plt.xlabel(\"Дата\")\n",
    "plt.ylabel(\"Относительное изменение\")\n",
    "plt.title(\"График кумулятивной конверсии по группам\")"
   ]
  },
  {
   "cell_type": "markdown",
   "metadata": {},
   "source": [
    "Симметричный график получился! Группы колебались около одного значения, но затем конверсия группы В вырвалась вперёд и зафиксировалась, а конверсия группы А просела и также зафиксировалась."
   ]
  },
  {
   "cell_type": "markdown",
   "metadata": {},
   "source": [
    "Построим график относительного различия кумулятивных конверсий:"
   ]
  },
  {
   "cell_type": "code",
   "execution_count": 27,
   "metadata": {
    "scrolled": true
   },
   "outputs": [
    {
     "data": {
      "text/plain": [
       "Text(0, 0.5, 'Относительное изменение')"
      ]
     },
     "execution_count": 27,
     "metadata": {},
     "output_type": "execute_result"
    },
    {
     "data": {
      "image/png": "[encoded data removed]",
      "text/plain": [
       "<Figure size 1080x360 with 1 Axes>"
      ]
     },
     "metadata": {
      "needs_background": "light"
     },
     "output_type": "display_data"
    }
   ],
   "source": [
    "mergedCumulativeConversions = cumulativeDataA[['date','conversion']].merge(cumulativeDataB[['date','conversion']], left_on='date', right_on='date', how='left', suffixes=['A', 'B'])\n",
    "\n",
    "fig, ax = plt.subplots(figsize=(15, 5))\n",
    "plt.plot(mergedCumulativeConversions['date'], mergedCumulativeConversions['conversionB']/mergedCumulativeConversions['conversionA']-1, label=\"Относительный прирост конверсии группы B относительно группы A\")\n",
    "plt.legend()\n",
    "\n",
    "plt.axhline(y=0, color='black', linestyle='--')\n",
    "plt.axhline(y=-0.1, color='grey', linestyle='--')\n",
    "plt.title(\"График относительного различия кумулятивных конверсий по группам\")\n",
    "plt.xlabel(\"Дата\")\n",
    "plt.ylabel(\"Относительное изменение\")\n"
   ]
  },
  {
   "cell_type": "markdown",
   "metadata": {},
   "source": [
    "В начале теста группа B значительно проигрывала группе A, затем вырвалась вперёд. Потом её конверсия снова падала, но теперь постепенно растёт.\n",
    "В целом отношение конверсии ещё не установилось, и сейчас делать какие-либо выводы по тесту нельзя. Впрочем, сперва стоит проанализировать аномалии, возможно, они изменят картину."
   ]
  },
  {
   "cell_type": "markdown",
   "metadata": {},
   "source": [
    "#### Вывод\n",
    "\n",
    "В данном разделе были изучены показатели следующих кумулятивных метрик:\n",
    "- выручки\n",
    "- среднего чека\n",
    "- относительное изменение среднего чека группы В к группе А\n",
    "- конверсии\n",
    "- относительного изменения конверсии группы В к группе А\n",
    "\n",
    "На первом графике мы наблюдаем резкий прирост выручки по группе В, что может свидетельствовать о повыении выручки или увеличению среднего чека по группе. Второй и третий графики укрепляют первое предположение о том,что повышение выручки по группе В связано с увеличением среднего чека. На четвертом и пятом графике мы видим,что конверсия по группе В значительно выше показателей конверсии по группе А. Для более точной картины нам следует исключить аномалии и выбросы."
   ]
  },
  {
   "cell_type": "markdown",
   "metadata": {},
   "source": [
    "### Анализ выбросов и всплесков: крайние значения данных.\n",
    "<a id=step_three_two></a>"
   ]
  },
  {
   "cell_type": "markdown",
   "metadata": {},
   "source": [
    "Построим точечный график количества заказов по пользователям. \n",
    "Для этого найдем уникальных пользователей и их количество заказов путем группировки таблицы."
   ]
  },
  {
   "cell_type": "code",
   "execution_count": 28,
   "metadata": {},
   "outputs": [
    {
     "name": "stdout",
     "output_type": "stream",
     "text": [
      "         userid  orders\n",
      "908  3967698036       3\n",
      "55    249864742       3\n",
      "478  2108163459       3\n",
      "687  2988190573       3\n",
      "890  3908431265       3\n",
      "138   611059232       3\n",
      "632  2742574263       3\n",
      "157   678354126       2\n",
      "323  1404560065       2\n",
      "452  1985475298       2\n"
     ]
    }
   ],
   "source": [
    "ordersByUsers = (\n",
    "    orders.groupby('visitorid', as_index=False)\n",
    "    .agg({'transactionid': pd.Series.nunique})\n",
    ")\n",
    "\n",
    "ordersByUsers.columns = ['userid', 'orders']\n",
    "\n",
    "print(ordersByUsers.sort_values(by='orders', ascending=False).head(10)) \n",
    "\n"
   ]
  },
  {
   "cell_type": "markdown",
   "metadata": {},
   "source": [
    "Построим точечную диагармму количества заказов на одного пользователя"
   ]
  },
  {
   "cell_type": "code",
   "execution_count": 29,
   "metadata": {},
   "outputs": [
    {
     "data": {
      "text/plain": [
       "Text(0, 0.5, 'Количество заказов')"
      ]
     },
     "execution_count": 29,
     "metadata": {},
     "output_type": "execute_result"
    },
    {
     "data": {
      "image/png": "[encoded data removed]",
      "text/plain": [
       "<Figure size 504x360 with 1 Axes>"
      ]
     },
     "metadata": {
      "needs_background": "light"
     },
     "output_type": "display_data"
    }
   ],
   "source": [
    "x_values = pd.Series(range(0,len(ordersByUsers)))\n",
    "\n",
    "fig, ax = plt.subplots(figsize=(7, 5))\n",
    "plt.scatter(x_values, ordersByUsers['orders']) \n",
    "plt.title(\"Точечная диаграмма количества заказов на одного пользователя\")\n",
    "plt.xlabel(\"Количество пользователей\")\n",
    "plt.ylabel(\"Количество заказов\")"
   ]
  },
  {
   "cell_type": "markdown",
   "metadata": {},
   "source": [
    "Большинство пользователей с 2-3 заказами. Их точная доля не ясна — непонятно, считать их аномалиями или нет.\n",
    "Посчитаем выборочные перцентили количества заказов на одного пользователя:"
   ]
  },
  {
   "cell_type": "code",
   "execution_count": 30,
   "metadata": {},
   "outputs": [
    {
     "name": "stdout",
     "output_type": "stream",
     "text": [
      "[1. 2.]\n"
     ]
    }
   ],
   "source": [
    "print(np.percentile(ordersByUsers['orders'], [95, 99]))"
   ]
  },
  {
   "cell_type": "markdown",
   "metadata": {},
   "source": [
    "Не более 5% пользователей оформляли больше чем 2 заказа.\n",
    "Установим нижнюю границу по количеству заказов на одного пользователя в пределах 2 заказов."
   ]
  },
  {
   "cell_type": "markdown",
   "metadata": {},
   "source": [
    "Построим точечный график стоимостей заказов."
   ]
  },
  {
   "cell_type": "code",
   "execution_count": 31,
   "metadata": {},
   "outputs": [
    {
     "data": {
      "text/plain": [
       "Text(0, 0.5, 'Сумма заказа, руб.')"
      ]
     },
     "execution_count": 31,
     "metadata": {},
     "output_type": "execute_result"
    },
    {
     "data": {
      "image/png": "[encoded data removed]",
      "text/plain": [
       "<Figure size 1080x360 with 1 Axes>"
      ]
     },
     "metadata": {
      "needs_background": "light"
     },
     "output_type": "display_data"
    }
   ],
   "source": [
    "x_values = pd.Series(range(0,len(orders['revenue'])))\n",
    "fig, ax = plt.subplots(figsize=(15, 5))\n",
    "plt.scatter(x_values, orders['revenue']) \n",
    "plt.axis([0, 1200, 0, 125000])\n",
    "plt.xlabel(\"Количество пользователей\")\n",
    "plt.ylabel(\"Сумма заказа, руб.\")"
   ]
  },
  {
   "cell_type": "markdown",
   "metadata": {},
   "source": [
    "Всё, как предполагали: есть немного дорогих заказов. По графику можно выбрать границу аномальных заказов от 40 000 рублей. Однако принято отсеивать от 1% до 5% наблюдений с крайними значениями. Для этого посчитаем 95-й и 99-й перцентили стоимости заказов."
   ]
  },
  {
   "cell_type": "code",
   "execution_count": 32,
   "metadata": {},
   "outputs": [
    {
     "name": "stdout",
     "output_type": "stream",
     "text": [
      "[26785. 53904.]\n"
     ]
    }
   ],
   "source": [
    "print(np.percentile(orders['revenue'], [95, 99]))"
   ]
  },
  {
   "cell_type": "markdown",
   "metadata": {},
   "source": [
    "Не более 5% заказов стоимостью дороже 28000 руб.,примем значение в 28000 как нижнюю границу стоимости заказа."
   ]
  },
  {
   "cell_type": "markdown",
   "metadata": {},
   "source": [
    "**Вывод**\n",
    "\n",
    "При изучении точечных графиков и перцентилей по сумме заказа и количеству заказов были определены следующие границы для определения аномальных значений:\n",
    "- количество заказов 2 шт.;\n",
    "- сумма заказа 28 000 руб.\n"
   ]
  },
  {
   "cell_type": "markdown",
   "metadata": {},
   "source": [
    "### Анализ A/B-теста шаг за шагом.\n",
    "<a id=step_three_three></a>\n",
    "\n"
   ]
  },
  {
   "cell_type": "markdown",
   "metadata": {},
   "source": [
    "#### Определение статистически значимых различий между группами по «сырым» данным.\n",
    "<a id=step_three_three_one></a>"
   ]
  },
  {
   "cell_type": "markdown",
   "metadata": {},
   "source": [
    "Посчитаем статистическую значимость различий в конверсии между группами по «сырым» данным"
   ]
  },
  {
   "cell_type": "code",
   "execution_count": 33,
   "metadata": {},
   "outputs": [
    {
     "name": "stdout",
     "output_type": "stream",
     "text": [
      "        date  ordersPerDateA  revenuePerDateA  ordersPerDateB  \\\n",
      "0 2019-08-01              23           142779              17   \n",
      "1 2019-08-02              19            91602              23   \n",
      "2 2019-08-03              24           112473              14   \n",
      "3 2019-08-04              11            41176              14   \n",
      "4 2019-08-05              22            86383              21   \n",
      "\n",
      "   revenuePerDateB  ordersCummulativeA  revenueCummulativeA  \\\n",
      "0            59758                  23               142779   \n",
      "1           162043                  42               234381   \n",
      "2            67049                  66               346854   \n",
      "3            96890                  77               388030   \n",
      "4            89908                  99               474413   \n",
      "\n",
      "   ordersCummulativeB  revenueCummulativeB  visitorsPerDateA  \\\n",
      "0                  17                59758               719   \n",
      "1                  40               221801               619   \n",
      "2                  54               288850               507   \n",
      "3                  68               385740               717   \n",
      "4                  89               475648               756   \n",
      "\n",
      "   visitorsPerDateB  visitorsCummulativeA  visitorsCummulativeB  \n",
      "0               713                   719                   713  \n",
      "1               581                  1338                  1294  \n",
      "2               509                  1845                  1803  \n",
      "3               770                  2562                  2573  \n",
      "4               707                  3318                  3280  \n"
     ]
    }
   ],
   "source": [
    "visitorsADaily = visitors[visitors['group'] == 'A'][['date', 'visitors']]\n",
    "visitorsADaily.columns = ['date', 'visitorsPerDateA']\n",
    "\n",
    "visitorsACummulative = visitorsADaily.apply(\n",
    "    lambda x: visitorsADaily[visitorsADaily['date'] <= x['date']].agg(\n",
    "        {'date': 'max', 'visitorsPerDateA': 'sum'}\n",
    "    ),\n",
    "    axis=1,\n",
    ")\n",
    "visitorsACummulative.columns = ['date', 'visitorsCummulativeA']\n",
    "\n",
    "visitorsBDaily = visitors[visitors['group'] == 'B'][['date', 'visitors']]\n",
    "visitorsBDaily.columns = ['date', 'visitorsPerDateB']\n",
    "\n",
    "visitorsBCummulative = visitorsBDaily.apply(\n",
    "    lambda x: visitorsBDaily[visitorsBDaily['date'] <= x['date']].agg(\n",
    "        {'date': 'max', 'visitorsPerDateB': 'sum'}\n",
    "    ),\n",
    "    axis=1,\n",
    ")\n",
    "visitorsBCummulative.columns = ['date', 'visitorsCummulativeB']\n",
    "\n",
    "ordersADaily = (\n",
    "    orders[orders['group'] == 'A'][['date', 'transactionid', 'visitorid', 'revenue']]\n",
    "    .groupby('date', as_index=False)\n",
    "    .agg({'transactionid': pd.Series.nunique, 'revenue': 'sum'})\n",
    ")\n",
    "ordersADaily.columns = ['date', 'ordersPerDateA', 'revenuePerDateA']\n",
    "\n",
    "ordersACummulative = ordersADaily.apply(\n",
    "    lambda x: ordersADaily[ordersADaily['date'] <= x['date']].agg(\n",
    "        {'date': 'max', 'ordersPerDateA': 'sum', 'revenuePerDateA': 'sum'}\n",
    "    ),\n",
    "    axis=1,\n",
    ").sort_values(by=['date'])\n",
    "ordersACummulative.columns = [\n",
    "    'date',\n",
    "    'ordersCummulativeA',\n",
    "    'revenueCummulativeA',\n",
    "]\n",
    "\n",
    "ordersBDaily = (\n",
    "    orders[orders['group'] == 'B'][['date', 'transactionid', 'visitorid', 'revenue']]\n",
    "    .groupby('date', as_index=False)\n",
    "    .agg({'transactionid': pd.Series.nunique, 'revenue': 'sum'})\n",
    ")\n",
    "ordersBDaily.columns = ['date', 'ordersPerDateB', 'revenuePerDateB']\n",
    "\n",
    "ordersBCummulative = ordersBDaily.apply(\n",
    "    lambda x: ordersBDaily[ordersBDaily['date'] <= x['date']].agg(\n",
    "        {'date': 'max', 'ordersPerDateB': 'sum', 'revenuePerDateB': 'sum'}\n",
    "    ),\n",
    "    axis=1,\n",
    ").sort_values(by=['date'])\n",
    "ordersBCummulative.columns = [\n",
    "    'date',\n",
    "    'ordersCummulativeB',\n",
    "    'revenueCummulativeB',\n",
    "]\n",
    "\n",
    "data = (\n",
    "    ordersADaily.merge(\n",
    "        ordersBDaily, left_on='date', right_on='date', how='left'\n",
    "    )\n",
    "    .merge(ordersACummulative, left_on='date', right_on='date', how='left')\n",
    "    .merge(ordersBCummulative, left_on='date', right_on='date', how='left')\n",
    "    .merge(visitorsADaily, left_on='date', right_on='date', how='left')\n",
    "    .merge(visitorsBDaily, left_on='date', right_on='date', how='left')\n",
    "    .merge(visitorsACummulative, left_on='date', right_on='date', how='left')\n",
    "    .merge(visitorsBCummulative, left_on='date', right_on='date', how='left')\n",
    ")\n",
    "\n",
    "print(data.head(5)) "
   ]
  },
  {
   "cell_type": "markdown",
   "metadata": {},
   "source": [
    "Уточним названия столбцов данных:\n",
    "\n",
    "- date — дата;\n",
    "- ordersPerDateA — количество заказов в выбранную дату в группе A;\n",
    "- revenuePerDateA — суммарная выручка в выбранную дату в группе A;\n",
    "- ordersPerDateB — количество заказов в выбранную дату в группе B;\n",
    "- revenuePerDateB — суммарная выручка в выбранную дату в группе B;\n",
    "- ordersCummulativeA — суммарное число заказов до выбранной даты включительно в группе A;\n",
    "- revenueCummulativeA — суммарная выручка до выбранной даты включительно в группе A;\n",
    "- ordersCummulativeB — суммарное количество заказов до выбранной даты включительно в группе B;\n",
    "- revenueCummulativeB — суммарная выручка до выбранной даты включительно в группе B;\n",
    "- visitorsPerDateA — количество пользователей в выбранную дату в группе A;\n",
    "- visitorsPerDateB — количество пользователей в выбранную дату в группе B;\n",
    "- visitorsCummulativeA — количество пользователей до выбранной даты включительно в группе A;\n",
    "- visitorsCummulativeB — количество пользователей до выбранной даты включительно в группе B.\n",
    "\n",
    "Посчитаем статистическую значимость различия в конверсии между группами.\n",
    "Создадим переменные ordersByUsersA и ordersByUsersB со столбцами **['transactionid', 'visitorid']**. В них для пользователей, которые заказывали хотя бы 1 раз, укажем число совершённых заказов."
   ]
  },
  {
   "cell_type": "code",
   "execution_count": 34,
   "metadata": {},
   "outputs": [],
   "source": [
    "ordersByUsersA = (\n",
    "    orders[orders['group'] == 'A']\n",
    "    .groupby('visitorid', as_index=False)\n",
    "    .agg({'transactionid': pd.Series.nunique})\n",
    ")\n",
    "ordersByUsersA.columns = ['visitorid', 'transactionid']\n",
    "\n",
    "ordersByUsersB = (\n",
    "    orders[orders['group'] == 'B']\n",
    "    .groupby('visitorid', as_index=False)\n",
    "    .agg({'transactionid': pd.Series.nunique})\n",
    ")\n",
    "ordersByUsersB.columns = ['visitorid', 'transactionid'] "
   ]
  },
  {
   "cell_type": "markdown",
   "metadata": {},
   "source": [
    "Объявим переменные sampleA и sampleB, в которых пользователям из разных групп будет соответствовать количество заказов. Тем, кто ничего не заказал, будут соответствовать нули. Это нужно, чтобы подготовить выборки к проверке критерием Манна-Уитни."
   ]
  },
  {
   "cell_type": "code",
   "execution_count": 35,
   "metadata": {},
   "outputs": [],
   "source": [
    "sampleA = pd.concat([ordersByUsersA['transactionid'],pd.Series(0, index=np.arange(data['visitorsPerDateA'].sum() - len(ordersByUsersA['transactionid'])), name='orders')],axis=0)\n",
    "\n",
    "sampleB = pd.concat([ordersByUsersB['transactionid'],pd.Series(0, index=np.arange(data['visitorsPerDateB'].sum() - len(ordersByUsersB['transactionid'])), name='orders')],axis=0) \n"
   ]
  },
  {
   "cell_type": "markdown",
   "metadata": {},
   "source": [
    "\n",
    "Проверим гипотезы:\n",
    "- H0 - Статистически значимых различий в конверсии между группами по \"сырым данным\" нет.\n",
    "- H1 - Статистически значимые различия в конверсии между группами по \"сырым данным\" есть."
   ]
  },
  {
   "cell_type": "code",
   "execution_count": 36,
   "metadata": {},
   "outputs": [
    {
     "name": "stdout",
     "output_type": "stream",
     "text": [
      "p-значение:0.011\n",
      "Отвергаем нулевую гипотезу\n"
     ]
    }
   ],
   "source": [
    "alpha = 0.05 # критический уровень статистической значимости\n",
    "            # можно указать .05 или 0.05\n",
    "\n",
    "results = stats.mannwhitneyu(sampleA, sampleB,alternative=\"two-sided\")[1]\n",
    "\n",
    "print(\"p-значение:{0:.3f}\".format(results))\n",
    "\n",
    "if results < alpha:\n",
    "    print(\"Отвергаем нулевую гипотезу\")\n",
    "else:\n",
    "    print(\"Не получилось отвергнуть нулевую гипотезу\") "
   ]
  },
  {
   "cell_type": "markdown",
   "metadata": {},
   "source": [
    "Выведем относительный прирост конверсии группы B: конверсия группы B / конверсия группы A - 1. Округлим до трёх знаков после запятой."
   ]
  },
  {
   "cell_type": "code",
   "execution_count": 37,
   "metadata": {},
   "outputs": [
    {
     "name": "stdout",
     "output_type": "stream",
     "text": [
      "Относительный прирост конверсии группы B = 0.160\n"
     ]
    }
   ],
   "source": [
    "print(\"Относительный прирост конверсии группы B = {0:.3f}\".format(sampleB.mean() / sampleA.mean() - 1))"
   ]
  },
  {
   "cell_type": "markdown",
   "metadata": {},
   "source": [
    "Нулевую гипотезу о том,что статистически значимых различий в конверсии между группами нет, не отвергаем,так как p-value больше 0,05.\n",
    "Относительный прирост конверсии группы В составил 13,8%"
   ]
  },
  {
   "cell_type": "markdown",
   "metadata": {},
   "source": [
    "Проверим гипотезы:\n",
    "- H0 - Статистически значимых различий в значении среднего чека по \"сырым данным\" между группами нет.\n",
    "- H1 - Статистически значимые различия в значении среднего чека по \"сырым данным\" между группами есть."
   ]
  },
  {
   "cell_type": "code",
   "execution_count": 38,
   "metadata": {},
   "outputs": [
    {
     "name": "stdout",
     "output_type": "stream",
     "text": [
      "p-значение:0.829\n",
      "Не получилось отвергнуть нулевую гипотезу\n"
     ]
    }
   ],
   "source": [
    "results = stats.mannwhitneyu(orders[orders['group']=='A']['revenue'], orders[orders['group']=='B']['revenue'],alternative=\"two-sided\")[1]\n",
    "\n",
    "print(\"p-значение:{0:.3f}\".format(results))\n",
    "\n",
    "if results < alpha:\n",
    "    print(\"Отвергаем нулевую гипотезу\")\n",
    "else:\n",
    "    print(\"Не получилось отвергнуть нулевую гипотезу\") "
   ]
  },
  {
   "cell_type": "code",
   "execution_count": 39,
   "metadata": {},
   "outputs": [
    {
     "name": "stdout",
     "output_type": "stream",
     "text": [
      "Относительный прирост среднего чека группы В = 0.287\n"
     ]
    }
   ],
   "source": [
    "#найдём относительные различия в среднем чеке между группами:\n",
    "print('Относительный прирост среднего чека группы В = {0:.3f}'.format(orders[orders['group']=='B']['revenue'].mean()/orders[orders['group']=='A']['revenue'].mean()-1)) "
   ]
  },
  {
   "cell_type": "markdown",
   "metadata": {},
   "source": [
    "Средний чек группы В больше среднего чека группы А на 26%. При этом p-value больше 5%,в связи с этим нулевую гипотезу о том,что статистически значимых различий в показателях среднего чека между группами нет не отвергаем."
   ]
  },
  {
   "cell_type": "markdown",
   "metadata": {},
   "source": [
    "**Вывод**\n",
    "\n",
    "\n",
    "Проверка \"сырых\" данных методом Манна-Уитни не опровергла нулевую гипотезу о том,что статистически значимых различий в конверсии и показателе среднего чека между группами нет.\n",
    "\n",
    "При этом относительный прирост конверсии группы В больше группы А на 13,8%.\n",
    "Относительный показатель среднего чека группы В больше на 26%."
   ]
  },
  {
   "cell_type": "markdown",
   "metadata": {},
   "source": [
    "#### Определение статистически значимых различий между группами по «очищенным» данным.\n",
    "<a id=step_three_three_two></a>\n"
   ]
  },
  {
   "cell_type": "markdown",
   "metadata": {},
   "source": [
    "Примем за аномальных пользователей тех, кто совершил от 2 заказов или совершил заказ  на 28 000 рублей или дороже.\n",
    "Так мы уберём 5% пользователей с наибольшим числом заказов и от 1% до 5% пользователей с дорогими заказами.\n"
   ]
  },
  {
   "cell_type": "code",
   "execution_count": 40,
   "metadata": {},
   "outputs": [
    {
     "name": "stdout",
     "output_type": "stream",
     "text": [
      "1099    148427295\n",
      "928     204675465\n",
      "33      249864742\n",
      "684     358944393\n",
      "36      366673373\n",
      "Name: visitorid, dtype: int64\n",
      "(83,)\n"
     ]
    }
   ],
   "source": [
    "##Сделаем срезы пользователей с числом заказов больше 1 — usersWithManyOrders и пользователей,\n",
    "##совершивших заказы дороже 27 999 — usersWithExpensiveOrders. Объединим их в таблице abnormalUsers.\n",
    "\n",
    "\n",
    "usersWithManyOrders = pd.concat(\n",
    "    [\n",
    "        ordersByUsersA[ordersByUsersA['transactionid'] > 1]['visitorid'],\n",
    "        ordersByUsersB[ordersByUsersB['transactionid'] > 1]['visitorid'],\n",
    "    ],\n",
    "    axis=0,\n",
    ")\n",
    "usersWithExpensiveOrders = orders[orders['revenue'] >= 28000]['visitorid']\n",
    "abnormalUsers = (\n",
    "    pd.concat([usersWithManyOrders, usersWithExpensiveOrders], axis=0)\n",
    "    .drop_duplicates()\n",
    "    .sort_values()\n",
    ")\n",
    "print(abnormalUsers.head(5))\n",
    "print(abnormalUsers.shape) "
   ]
  },
  {
   "cell_type": "markdown",
   "metadata": {},
   "source": [
    "Всего 111 аномальных пользователей.\n",
    "Узнаем, как их действия повлияли на результаты теста. Посчитаем статистическую значимость различий в конверсии между группами теста по очищенным данным. "
   ]
  },
  {
   "cell_type": "code",
   "execution_count": 41,
   "metadata": {},
   "outputs": [],
   "source": [
    "sampleAFiltered = pd.concat(\n",
    "    [\n",
    "        ordersByUsersA[\n",
    "            np.logical_not(ordersByUsersA['visitorid'].isin(abnormalUsers))\n",
    "        ]['transactionid'],\n",
    "        pd.Series(\n",
    "            0,\n",
    "            index=np.arange(\n",
    "                data['visitorsPerDateA'].sum() - len(ordersByUsersA['transactionid'])\n",
    "            ),\n",
    "            name='transactionid',\n",
    "        ),\n",
    "    ],\n",
    "    axis=0,\n",
    ")\n",
    "\n",
    "sampleBFiltered = pd.concat(\n",
    "    [\n",
    "        ordersByUsersB[\n",
    "            np.logical_not(ordersByUsersB['visitorid'].isin(abnormalUsers))\n",
    "        ]['transactionid'],\n",
    "        pd.Series(\n",
    "            0,\n",
    "            index=np.arange(\n",
    "                data['visitorsPerDateB'].sum() - len(ordersByUsersB['transactionid'])\n",
    "            ),\n",
    "            name='transactionid',\n",
    "        ),\n",
    "    ],\n",
    "    axis=0,\n",
    ") "
   ]
  },
  {
   "cell_type": "markdown",
   "metadata": {},
   "source": [
    "Применим статистический критерий Манна-Уитни к полученным выборкам"
   ]
  },
  {
   "cell_type": "markdown",
   "metadata": {},
   "source": [
    "\n",
    "Проверим гипотезы:\n",
    "- H0 - Статистически значимых различий в конверсии между группами по \"очищенным данным\" нет.\n",
    "- H1 - Статистически значимые различия в конверсии между группами по \"очищенным данным\" есть."
   ]
  },
  {
   "cell_type": "code",
   "execution_count": 42,
   "metadata": {},
   "outputs": [
    {
     "name": "stdout",
     "output_type": "stream",
     "text": [
      "p-значение:0.012\n",
      "Отвергаем нулевую гипотезу\n"
     ]
    }
   ],
   "source": [
    "results = stats.mannwhitneyu(sampleAFiltered, sampleBFiltered,alternative=\"two-sided\")[1]\n",
    "\n",
    "print(\"p-значение:{0:.3f}\".format(results))\n",
    "\n",
    "if results < alpha:\n",
    "    print(\"Отвергаем нулевую гипотезу\")\n",
    "else:\n",
    "    print(\"Не получилось отвергнуть нулевую гипотезу\") "
   ]
  },
  {
   "cell_type": "code",
   "execution_count": 43,
   "metadata": {},
   "outputs": [
    {
     "name": "stdout",
     "output_type": "stream",
     "text": [
      "Относительный прирост конверсии группы В = 0.181\n"
     ]
    }
   ],
   "source": [
    "print('Относительный прирост конверсии группы В = {0:.3f}'.format(sampleBFiltered.mean()/sampleAFiltered.mean()-1)) "
   ]
  },
  {
   "cell_type": "markdown",
   "metadata": {},
   "source": [
    "Нулевая гипотеза о точ,что статистически значимых различий в конверсии между группами нет, отвергнута с p-value = 0.016\n",
    "Относительный прирост группы В увеличился до 16,8%. Проверим как изменятся показатели по среднему чеку."
   ]
  },
  {
   "cell_type": "markdown",
   "metadata": {},
   "source": [
    "Проверим гипотезы:\n",
    "- H0 - Статистически значимых различий в значении среднего чека между группами по \"очищенным данным\" нет.\n",
    "- H1 - Статистически значимые различия в значении среднего чека между группами по \"очищенным данным\" есть."
   ]
  },
  {
   "cell_type": "code",
   "execution_count": 44,
   "metadata": {},
   "outputs": [
    {
     "name": "stdout",
     "output_type": "stream",
     "text": [
      "p-значение:0.851\n",
      "Не получилось отвергнуть нулевую гипотезу\n"
     ]
    }
   ],
   "source": [
    "results = (\n",
    "    stats.mannwhitneyu(\n",
    "            orders[\n",
    "                np.logical_and(\n",
    "                    orders['group'] == 'A',\n",
    "                    np.logical_not(orders['visitorid'].isin(abnormalUsers)),\n",
    "                )\n",
    "            ]['revenue'],\n",
    "            orders[\n",
    "                np.logical_and(\n",
    "                    orders['group'] == 'B',\n",
    "                    np.logical_not(orders['visitorid'].isin(abnormalUsers)),\n",
    "                )\n",
    "            ]['revenue'],alternative=\"two-sided\"\n",
    "        )[1]\n",
    "    )\n",
    "\n",
    "\n",
    "print(\"p-значение:{0:.3f}\".format(results))\n",
    "\n",
    "if results < alpha:\n",
    "    print(\"Отвергаем нулевую гипотезу\")\n",
    "else:\n",
    "    print(\"Не получилось отвергнуть нулевую гипотезу\") "
   ]
  },
  {
   "cell_type": "code",
   "execution_count": 45,
   "metadata": {},
   "outputs": [
    {
     "name": "stdout",
     "output_type": "stream",
     "text": [
      "Относительный прирост среднего чека группы В = -0.006\n"
     ]
    }
   ],
   "source": [
    "print(\n",
    "    \"Относительный прирост среднего чека группы В = {0:.3f}\".format(\n",
    "        orders[\n",
    "            np.logical_and(\n",
    "                orders['group'] == 'B',\n",
    "                np.logical_not(orders['visitorid'].isin(abnormalUsers)),\n",
    "            )\n",
    "        ]['revenue'].mean()\n",
    "        / orders[\n",
    "            np.logical_and(\n",
    "                orders['group'] == 'A',\n",
    "                np.logical_not(orders['visitorid'].isin(abnormalUsers)),\n",
    "            )\n",
    "        ]['revenue'].mean()\n",
    "        - 1\n",
    "    )\n",
    ") "
   ]
  },
  {
   "cell_type": "markdown",
   "metadata": {},
   "source": [
    "Нулевая гипотеза о том,что статистических различий по среднему чеку групп нет,не была отвергнута, а также сильно изменился относительный прирост среднего чека по группе В."
   ]
  },
  {
   "cell_type": "markdown",
   "metadata": {},
   "source": [
    "**Вывод**\n",
    "\n",
    "По очищенным данным была отвергнута гипотеза о том,что статистически значимых различий в конверсии между группами нет.\n",
    "Не удалось отвергнуть гипотезу о наличии различий в среднем чеке.\n",
    "\n",
    "Относительный прирост конверсии по группе В составил 16,8%.\n",
    "Относительный прирост среднего чека по группе В составил -0,01%\n"
   ]
  },
  {
   "cell_type": "markdown",
   "metadata": {},
   "source": [
    "## Общий вывод.\n",
    "<a id=conclusion_id></a>\n",
    "\n",
    "\n",
    "Первоначально были изучен перечень предоставленных гипотез с помощью фреймворка **ICE и RICE**.\n",
    "\n",
    "При использовании способа ICE для приоретизации гипотез в топ 5 вошли гипотезы:\n",
    "\n",
    "- предоставлении скидки в день рождение,\n",
    "- добавлении новых каналов привлечения,\n",
    "- добавлении формы подписки на все основне страницы,\n",
    "- показе на главной странице баннеров с актуальными акциями и распродажами,\n",
    "- добавлении рекомендаций на сайт интернет магазина.\n",
    "\n",
    "При использовании способа RICE в топ 5 вошли гипотезы:\n",
    "\n",
    "- добавлении формы подписки на все основные страницы;\n",
    "- добавлении блоков рекомендаций товаров на сайт;\n",
    "- добавлении двух новых каналов привленчения трафика;\n",
    "- показе на главное странице баннеров с актуальными акциями и распродажами;\n",
    "- запуске акции, дающую скидку на товар в день рождения.\n",
    "\n",
    "По итогам применения фреймворков в топ 5 приоритетных были поставлены одни и те же гипотезы,но с различной последовательностью, так как при применении фреймворка RICE учитывается охват количества пользователей,которых затронут изменения.\n",
    "\n",
    "\n",
    "В рамках проведения А/В тестирования были изучены следующие показатели кумулятивных метрик:\n",
    "\n",
    "- выручки\n",
    "- среднего чека\n",
    "- относительного изменения среднего чека группы В к группе А\n",
    "- конверсии\n",
    "- относительного изменения конверсии группы В к группе А\n",
    "\n",
    "При изучении кумулятивных метрик наблюдается явное преимущество группы В по показателям **выручки,среднего чека,конверсии.**\n",
    "\n",
    "Резкое увеличение показателей может быть вызвано как увеличением выручки пользователей группы В,так и крупными заказами. Для определения природы данных изменений был проведен более подробный анализ данных.\n",
    "\n",
    "При изучении точечных графиков и перцентилей по сумме заказа и количеству заказов были определены следующие границы для определения аномальных значений:\n",
    "- количество заказов 2 шт.;\n",
    "- сумма заказа 28 000 руб.\n",
    "\n",
    "Далее были определены статистически значимые различия между группами по данным с учетом аномальных значений и без.\n",
    "\n",
    "**Имеющиеся факты**:\n",
    "- Нет статистически значимого различия по конверсии между группами по «сырым», но есть значимое различие по данным после фильтрации аномалий;\n",
    "- Нет статистически значимого различия по среднему чеку между группами ни по «сырым», ни по данным после фильтрации аномалий;\n",
    "- График различия конверсии между группами сообщает, что результаты группы B лучше группы A и есть значительная тенденция к улучшению:\n"
   ]
  },
  {
   "cell_type": "code",
   "execution_count": 46,
   "metadata": {},
   "outputs": [
    {
     "data": {
      "text/plain": [
       "Text(0, 0.5, 'Относительное различие')"
      ]
     },
     "execution_count": 46,
     "metadata": {},
     "output_type": "execute_result"
    },
    {
     "data": {
      "image/png": "[encoded data removed]",
      "text/plain": [
       "<Figure size 1080x360 with 1 Axes>"
      ]
     },
     "metadata": {
      "needs_background": "light"
     },
     "output_type": "display_data"
    }
   ],
   "source": [
    "fig, ax = plt.subplots(figsize=(15, 5))\n",
    "plt.plot(mergedCumulativeConversions['date'], mergedCumulativeConversions['conversionB']/mergedCumulativeConversions['conversionA']-1, label=\"Относительный прирост конверсии группы B относительно группы A\")\n",
    "plt.legend()\n",
    "\n",
    "plt.axhline(y=0, color='black', linestyle='--')\n",
    "plt.axhline(y=-0.1, color='grey', linestyle='--')\n",
    "plt.title(\"График относительного различия кумулятивных конверсий по группам\")\n",
    "plt.xlabel(\"Дата\")\n",
    "plt.ylabel(\"Относительное различие\")\n"
   ]
  },
  {
   "cell_type": "markdown",
   "metadata": {},
   "source": [
    "График различия среднего чека сообщает о том, что результаты группы B резко повысились между 17 и 21 августа,но далее стоимость среднего чека начала снижаться."
   ]
  },
  {
   "cell_type": "code",
   "execution_count": 47,
   "metadata": {},
   "outputs": [
    {
     "data": {
      "text/plain": [
       "Text(0, 0.5, 'Относительное различие')"
      ]
     },
     "execution_count": 47,
     "metadata": {},
     "output_type": "execute_result"
    },
    {
     "data": {
      "image/png": "[encoded data removed]",
      "text/plain": [
       "<Figure size 1080x360 with 1 Axes>"
      ]
     },
     "metadata": {
      "needs_background": "light"
     },
     "output_type": "display_data"
    }
   ],
   "source": [
    "# cтроим отношение средних чеков\n",
    "fig, ax = plt.subplots(figsize=(15, 5))\n",
    "plt.plot(mergedCumulativeRevenue['date'], (mergedCumulativeRevenue['revenueB']/mergedCumulativeRevenue['ordersB'])/(mergedCumulativeRevenue['revenueA']/mergedCumulativeRevenue['ordersA'])-1)\n",
    "\n",
    "# добавляем ось X\n",
    "plt.axhline(y=0, color='black', linestyle='--') \n",
    "plt.title(\"График относительного изменения кумулятивного среднего чека группы B к группе A\")\n",
    "plt.xlabel(\"Дата\")\n",
    "plt.ylabel(\"Относительное различие\")"
   ]
  },
  {
   "cell_type": "markdown",
   "metadata": {},
   "source": [
    "**По результам проведенного А/В тестирования требуется остановить тест и признать его успешным.\n",
    "При незначительном ухудшении средний стоимости чека на 0.01%,мы наблюдаем значительный прирост конверсии группы В на 16,8%.**"
   ]
  }
 ],
 "metadata": {
  "ExecuteTimeLog": [
   {
    "duration": 1123,
    "start_time": "2022-03-15T18:28:52.240Z"
   },
   {
    "duration": 39,
    "start_time": "2022-03-15T18:29:33.202Z"
   },
   {
    "duration": 3,
    "start_time": "2022-03-15T18:30:02.143Z"
   },
   {
    "duration": 31,
    "start_time": "2022-03-15T18:30:28.434Z"
   },
   {
    "duration": 3,
    "start_time": "2022-03-15T18:31:44.708Z"
   },
   {
    "duration": 28,
    "start_time": "2022-03-15T18:31:47.806Z"
   },
   {
    "duration": 3,
    "start_time": "2022-03-15T18:32:04.277Z"
   },
   {
    "duration": 31,
    "start_time": "2022-03-15T18:32:07.746Z"
   },
   {
    "duration": 4,
    "start_time": "2022-03-15T18:35:12.955Z"
   },
   {
    "duration": 25,
    "start_time": "2022-03-15T18:35:15.705Z"
   },
   {
    "duration": 231,
    "start_time": "2022-03-15T18:47:51.206Z"
   },
   {
    "duration": 4,
    "start_time": "2022-03-15T18:48:01.740Z"
   },
   {
    "duration": 159,
    "start_time": "2022-03-15T18:48:15.058Z"
   },
   {
    "duration": 39,
    "start_time": "2022-03-15T19:01:21.146Z"
   },
   {
    "duration": 4,
    "start_time": "2022-03-15T19:07:56.147Z"
   },
   {
    "duration": 3,
    "start_time": "2022-03-15T19:08:04.168Z"
   },
   {
    "duration": 4,
    "start_time": "2022-03-15T19:09:20.845Z"
   },
   {
    "duration": 1105,
    "start_time": "2022-03-15T19:09:28.263Z"
   },
   {
    "duration": 38,
    "start_time": "2022-03-15T19:09:29.370Z"
   },
   {
    "duration": 3,
    "start_time": "2022-03-15T19:09:29.410Z"
   },
   {
    "duration": 34,
    "start_time": "2022-03-15T19:09:29.415Z"
   },
   {
    "duration": 4,
    "start_time": "2022-03-15T19:09:29.450Z"
   },
   {
    "duration": 2,
    "start_time": "2022-03-15T19:09:51.330Z"
   },
   {
    "duration": 28,
    "start_time": "2022-03-15T19:09:52.683Z"
   },
   {
    "duration": 2,
    "start_time": "2022-03-15T19:10:08.227Z"
   },
   {
    "duration": 3,
    "start_time": "2022-03-15T19:10:15.069Z"
   },
   {
    "duration": 27,
    "start_time": "2022-03-15T19:10:35.289Z"
   },
   {
    "duration": 3,
    "start_time": "2022-03-15T19:11:00.340Z"
   },
   {
    "duration": 3,
    "start_time": "2022-03-15T19:11:11.528Z"
   },
   {
    "duration": 33,
    "start_time": "2022-03-15T19:11:14.869Z"
   },
   {
    "duration": 30,
    "start_time": "2022-03-15T19:12:55.384Z"
   },
   {
    "duration": 21,
    "start_time": "2022-03-15T19:14:08.160Z"
   },
   {
    "duration": 3,
    "start_time": "2022-03-15T19:28:49.475Z"
   },
   {
    "duration": 3,
    "start_time": "2022-03-15T19:29:31.819Z"
   },
   {
    "duration": 29,
    "start_time": "2022-03-15T19:29:34.410Z"
   },
   {
    "duration": 43,
    "start_time": "2022-03-15T19:32:52.864Z"
   },
   {
    "duration": 4,
    "start_time": "2022-03-15T19:33:21.477Z"
   },
   {
    "duration": 677,
    "start_time": "2022-03-15T19:34:00.230Z"
   },
   {
    "duration": 5,
    "start_time": "2022-03-15T19:34:34.546Z"
   },
   {
    "duration": 557,
    "start_time": "2022-03-15T19:34:40.962Z"
   },
   {
    "duration": 43,
    "start_time": "2022-03-15T19:36:39.442Z"
   },
   {
    "duration": 13,
    "start_time": "2022-03-15T19:36:48.819Z"
   },
   {
    "duration": 32,
    "start_time": "2022-03-15T19:36:55.504Z"
   },
   {
    "duration": 26,
    "start_time": "2022-03-15T19:38:03.955Z"
   },
   {
    "duration": 5,
    "start_time": "2022-03-15T19:38:32.645Z"
   },
   {
    "duration": 31,
    "start_time": "2022-03-15T19:44:09.270Z"
   },
   {
    "duration": 121,
    "start_time": "2022-03-15T19:57:33.911Z"
   },
   {
    "duration": 132,
    "start_time": "2022-03-15T19:57:44.094Z"
   },
   {
    "duration": 11,
    "start_time": "2022-03-15T19:57:54.574Z"
   },
   {
    "duration": 3,
    "start_time": "2022-03-15T19:58:32.102Z"
   },
   {
    "duration": 34,
    "start_time": "2022-03-15T19:58:34.192Z"
   },
   {
    "duration": 47,
    "start_time": "2022-03-15T19:59:50.968Z"
   },
   {
    "duration": 9,
    "start_time": "2022-03-15T20:02:18.331Z"
   },
   {
    "duration": 136,
    "start_time": "2022-03-15T20:03:45.375Z"
   },
   {
    "duration": 4,
    "start_time": "2022-03-15T20:04:08.621Z"
   },
   {
    "duration": 4,
    "start_time": "2022-03-15T20:04:46.869Z"
   },
   {
    "duration": 3,
    "start_time": "2022-03-15T20:06:40.481Z"
   },
   {
    "duration": 37,
    "start_time": "2022-03-15T20:06:44.451Z"
   },
   {
    "duration": 1184,
    "start_time": "2022-03-15T20:07:06.443Z"
   },
   {
    "duration": 39,
    "start_time": "2022-03-15T20:07:07.629Z"
   },
   {
    "duration": 3,
    "start_time": "2022-03-15T20:07:07.671Z"
   },
   {
    "duration": 45,
    "start_time": "2022-03-15T20:07:07.677Z"
   },
   {
    "duration": 4,
    "start_time": "2022-03-15T20:07:07.724Z"
   },
   {
    "duration": 3124,
    "start_time": "2022-03-15T20:07:07.730Z"
   },
   {
    "duration": -5,
    "start_time": "2022-03-15T20:07:10.862Z"
   },
   {
    "duration": -12,
    "start_time": "2022-03-15T20:07:10.870Z"
   },
   {
    "duration": -16,
    "start_time": "2022-03-15T20:07:10.876Z"
   },
   {
    "duration": -20,
    "start_time": "2022-03-15T20:07:10.881Z"
   },
   {
    "duration": -25,
    "start_time": "2022-03-15T20:07:10.888Z"
   },
   {
    "duration": -31,
    "start_time": "2022-03-15T20:07:10.895Z"
   },
   {
    "duration": -36,
    "start_time": "2022-03-15T20:07:10.902Z"
   },
   {
    "duration": -41,
    "start_time": "2022-03-15T20:07:10.908Z"
   },
   {
    "duration": -46,
    "start_time": "2022-03-15T20:07:10.915Z"
   },
   {
    "duration": -50,
    "start_time": "2022-03-15T20:07:10.920Z"
   },
   {
    "duration": -53,
    "start_time": "2022-03-15T20:07:10.925Z"
   },
   {
    "duration": -57,
    "start_time": "2022-03-15T20:07:10.930Z"
   },
   {
    "duration": 3,
    "start_time": "2022-03-15T20:07:47.547Z"
   },
   {
    "duration": 1182,
    "start_time": "2022-03-15T20:07:55.641Z"
   },
   {
    "duration": 38,
    "start_time": "2022-03-15T20:07:56.825Z"
   },
   {
    "duration": 11,
    "start_time": "2022-03-15T20:07:56.865Z"
   },
   {
    "duration": 38,
    "start_time": "2022-03-15T20:07:56.878Z"
   },
   {
    "duration": 5,
    "start_time": "2022-03-15T20:07:56.918Z"
   },
   {
    "duration": 31,
    "start_time": "2022-03-15T20:07:56.924Z"
   },
   {
    "duration": 15,
    "start_time": "2022-03-15T20:07:56.957Z"
   },
   {
    "duration": 41,
    "start_time": "2022-03-15T20:07:56.975Z"
   },
   {
    "duration": 42,
    "start_time": "2022-03-15T20:07:57.017Z"
   },
   {
    "duration": 4,
    "start_time": "2022-03-15T20:07:57.061Z"
   },
   {
    "duration": 36,
    "start_time": "2022-03-15T20:07:57.067Z"
   },
   {
    "duration": 46,
    "start_time": "2022-03-15T20:07:57.105Z"
   },
   {
    "duration": 39,
    "start_time": "2022-03-15T20:07:57.153Z"
   },
   {
    "duration": 37,
    "start_time": "2022-03-15T20:07:57.194Z"
   },
   {
    "duration": 35,
    "start_time": "2022-03-15T20:07:57.198Z"
   },
   {
    "duration": 29,
    "start_time": "2022-03-15T20:07:57.205Z"
   },
   {
    "duration": 25,
    "start_time": "2022-03-15T20:07:57.210Z"
   },
   {
    "duration": 1129,
    "start_time": "2022-03-15T20:08:21.543Z"
   },
   {
    "duration": 43,
    "start_time": "2022-03-15T20:08:22.674Z"
   },
   {
    "duration": 7,
    "start_time": "2022-03-15T20:08:22.719Z"
   },
   {
    "duration": 45,
    "start_time": "2022-03-15T20:08:22.728Z"
   },
   {
    "duration": 3,
    "start_time": "2022-03-15T20:08:22.774Z"
   },
   {
    "duration": 17,
    "start_time": "2022-03-15T20:08:22.779Z"
   },
   {
    "duration": 10,
    "start_time": "2022-03-15T20:08:22.798Z"
   },
   {
    "duration": 30,
    "start_time": "2022-03-15T20:08:22.810Z"
   },
   {
    "duration": 30,
    "start_time": "2022-03-15T20:08:22.842Z"
   },
   {
    "duration": 3,
    "start_time": "2022-03-15T20:08:22.873Z"
   },
   {
    "duration": 17,
    "start_time": "2022-03-15T20:08:22.877Z"
   },
   {
    "duration": 55,
    "start_time": "2022-03-15T20:08:22.896Z"
   },
   {
    "duration": 22,
    "start_time": "2022-03-15T20:08:22.952Z"
   },
   {
    "duration": 14,
    "start_time": "2022-03-15T20:08:22.976Z"
   },
   {
    "duration": 35,
    "start_time": "2022-03-15T20:08:22.992Z"
   },
   {
    "duration": 23,
    "start_time": "2022-03-15T20:08:23.029Z"
   },
   {
    "duration": 3,
    "start_time": "2022-03-15T20:08:59.525Z"
   },
   {
    "duration": 41,
    "start_time": "2022-03-15T20:09:02.069Z"
   },
   {
    "duration": 3,
    "start_time": "2022-03-15T20:09:12.323Z"
   },
   {
    "duration": 36,
    "start_time": "2022-03-15T20:09:15.874Z"
   },
   {
    "duration": 250,
    "start_time": "2022-03-16T18:04:39.892Z"
   },
   {
    "duration": 245,
    "start_time": "2022-03-16T18:04:48.056Z"
   },
   {
    "duration": 1766,
    "start_time": "2022-03-16T18:05:12.770Z"
   },
   {
    "duration": 40,
    "start_time": "2022-03-16T18:05:14.540Z"
   },
   {
    "duration": 5,
    "start_time": "2022-03-16T18:05:14.583Z"
   },
   {
    "duration": 97,
    "start_time": "2022-03-16T18:05:14.592Z"
   },
   {
    "duration": 7,
    "start_time": "2022-03-16T18:05:14.692Z"
   },
   {
    "duration": 6,
    "start_time": "2022-03-16T18:05:14.702Z"
   },
   {
    "duration": 10,
    "start_time": "2022-03-16T18:05:14.711Z"
   },
   {
    "duration": 104,
    "start_time": "2022-03-16T18:05:14.727Z"
   },
   {
    "duration": 75,
    "start_time": "2022-03-16T18:05:14.835Z"
   },
   {
    "duration": 4,
    "start_time": "2022-03-16T18:05:14.912Z"
   },
   {
    "duration": 24,
    "start_time": "2022-03-16T18:05:14.918Z"
   },
   {
    "duration": 77,
    "start_time": "2022-03-16T18:05:14.944Z"
   },
   {
    "duration": 31,
    "start_time": "2022-03-16T18:05:15.023Z"
   },
   {
    "duration": 6,
    "start_time": "2022-03-16T18:05:15.089Z"
   },
   {
    "duration": 17,
    "start_time": "2022-03-16T18:05:15.097Z"
   },
   {
    "duration": 12,
    "start_time": "2022-03-16T18:05:15.117Z"
   },
   {
    "duration": 12,
    "start_time": "2022-03-16T18:05:15.133Z"
   },
   {
    "duration": 6199,
    "start_time": "2022-03-16T18:16:07.127Z"
   },
   {
    "duration": 319,
    "start_time": "2022-03-16T18:17:50.629Z"
   },
   {
    "duration": 295,
    "start_time": "2022-03-16T18:20:00.792Z"
   },
   {
    "duration": 848,
    "start_time": "2022-03-16T18:25:11.456Z"
   },
   {
    "duration": 14,
    "start_time": "2022-03-16T18:25:34.719Z"
   },
   {
    "duration": 16,
    "start_time": "2022-03-16T18:27:03.990Z"
   },
   {
    "duration": 14,
    "start_time": "2022-03-16T18:27:40.889Z"
   },
   {
    "duration": 15,
    "start_time": "2022-03-16T18:28:57.798Z"
   },
   {
    "duration": 388,
    "start_time": "2022-03-16T18:29:41.625Z"
   },
   {
    "duration": 602,
    "start_time": "2022-03-16T18:31:36.224Z"
   },
   {
    "duration": 615,
    "start_time": "2022-03-16T18:32:13.237Z"
   },
   {
    "duration": 471,
    "start_time": "2022-03-16T18:37:25.334Z"
   },
   {
    "duration": 387,
    "start_time": "2022-03-16T18:37:51.982Z"
   },
   {
    "duration": 447,
    "start_time": "2022-03-16T18:38:53.027Z"
   },
   {
    "duration": 424,
    "start_time": "2022-03-16T18:38:59.251Z"
   },
   {
    "duration": 376,
    "start_time": "2022-03-16T18:39:05.996Z"
   },
   {
    "duration": 324,
    "start_time": "2022-03-16T18:39:25.839Z"
   },
   {
    "duration": 567,
    "start_time": "2022-03-16T18:40:08.326Z"
   },
   {
    "duration": 338,
    "start_time": "2022-03-16T18:40:17.858Z"
   },
   {
    "duration": 354,
    "start_time": "2022-03-16T18:40:31.793Z"
   },
   {
    "duration": 257,
    "start_time": "2022-03-16T18:41:11.195Z"
   },
   {
    "duration": 1586,
    "start_time": "2022-03-16T18:41:23.185Z"
   },
   {
    "duration": 40,
    "start_time": "2022-03-16T18:41:24.774Z"
   },
   {
    "duration": 4,
    "start_time": "2022-03-16T18:41:24.817Z"
   },
   {
    "duration": 55,
    "start_time": "2022-03-16T18:41:24.824Z"
   },
   {
    "duration": 5,
    "start_time": "2022-03-16T18:41:24.886Z"
   },
   {
    "duration": 7,
    "start_time": "2022-03-16T18:41:24.893Z"
   },
   {
    "duration": 7,
    "start_time": "2022-03-16T18:41:24.903Z"
   },
   {
    "duration": 87,
    "start_time": "2022-03-16T18:41:24.916Z"
   },
   {
    "duration": 48,
    "start_time": "2022-03-16T18:41:25.005Z"
   },
   {
    "duration": 5,
    "start_time": "2022-03-16T18:41:25.055Z"
   },
   {
    "duration": 27,
    "start_time": "2022-03-16T18:41:25.089Z"
   },
   {
    "duration": 68,
    "start_time": "2022-03-16T18:41:25.119Z"
   },
   {
    "duration": 36,
    "start_time": "2022-03-16T18:41:25.190Z"
   },
   {
    "duration": 7,
    "start_time": "2022-03-16T18:41:25.229Z"
   },
   {
    "duration": 58,
    "start_time": "2022-03-16T18:41:25.239Z"
   },
   {
    "duration": 13,
    "start_time": "2022-03-16T18:41:25.300Z"
   },
   {
    "duration": 10,
    "start_time": "2022-03-16T18:41:25.316Z"
   },
   {
    "duration": 369,
    "start_time": "2022-03-16T18:41:25.329Z"
   },
   {
    "duration": 282,
    "start_time": "2022-03-16T18:41:25.700Z"
   },
   {
    "duration": 16,
    "start_time": "2022-03-16T18:41:25.986Z"
   },
   {
    "duration": 356,
    "start_time": "2022-03-16T18:41:26.005Z"
   },
   {
    "duration": 430,
    "start_time": "2022-03-16T18:43:55.780Z"
   },
   {
    "duration": 316,
    "start_time": "2022-03-16T18:44:06.321Z"
   },
   {
    "duration": 863,
    "start_time": "2022-03-16T18:45:42.191Z"
   },
   {
    "duration": 641,
    "start_time": "2022-03-16T18:46:01.246Z"
   },
   {
    "duration": 451,
    "start_time": "2022-03-16T18:46:14.821Z"
   },
   {
    "duration": 490,
    "start_time": "2022-03-16T18:46:36.244Z"
   },
   {
    "duration": 794,
    "start_time": "2022-03-16T18:48:32.893Z"
   },
   {
    "duration": 421,
    "start_time": "2022-03-16T18:48:46.321Z"
   },
   {
    "duration": 355,
    "start_time": "2022-03-16T18:52:34.069Z"
   },
   {
    "duration": 725,
    "start_time": "2022-03-16T18:52:56.715Z"
   },
   {
    "duration": 451,
    "start_time": "2022-03-16T18:53:52.793Z"
   },
   {
    "duration": 414,
    "start_time": "2022-03-16T18:57:58.211Z"
   },
   {
    "duration": 553,
    "start_time": "2022-03-16T18:58:12.648Z"
   },
   {
    "duration": 549,
    "start_time": "2022-03-16T18:59:33.424Z"
   },
   {
    "duration": 70,
    "start_time": "2022-03-16T19:03:49.856Z"
   },
   {
    "duration": 364,
    "start_time": "2022-03-16T19:04:39.295Z"
   },
   {
    "duration": 506,
    "start_time": "2022-03-16T19:04:51.217Z"
   },
   {
    "duration": 487,
    "start_time": "2022-03-16T19:05:13.153Z"
   },
   {
    "duration": 368,
    "start_time": "2022-03-16T19:05:47.583Z"
   },
   {
    "duration": 389,
    "start_time": "2022-03-16T19:05:54.179Z"
   },
   {
    "duration": 452,
    "start_time": "2022-03-16T19:06:10.391Z"
   },
   {
    "duration": 591,
    "start_time": "2022-03-16T19:07:15.658Z"
   },
   {
    "duration": 636,
    "start_time": "2022-03-16T19:10:46.183Z"
   },
   {
    "duration": 253,
    "start_time": "2022-03-16T19:34:58.803Z"
   },
   {
    "duration": 195,
    "start_time": "2022-03-16T19:35:33.620Z"
   },
   {
    "duration": 487,
    "start_time": "2022-03-16T19:37:44.163Z"
   },
   {
    "duration": 558,
    "start_time": "2022-03-16T19:38:37.462Z"
   },
   {
    "duration": 501,
    "start_time": "2022-03-16T19:38:46.169Z"
   },
   {
    "duration": 455,
    "start_time": "2022-03-16T19:38:52.079Z"
   },
   {
    "duration": 7,
    "start_time": "2022-03-16T19:41:42.361Z"
   },
   {
    "duration": 6,
    "start_time": "2022-03-16T19:41:50.572Z"
   },
   {
    "duration": 6,
    "start_time": "2022-03-16T19:44:31.665Z"
   },
   {
    "duration": 6,
    "start_time": "2022-03-16T19:44:42.191Z"
   },
   {
    "duration": 72,
    "start_time": "2022-03-16T19:47:37.095Z"
   },
   {
    "duration": 242,
    "start_time": "2022-03-16T19:47:46.976Z"
   },
   {
    "duration": 6,
    "start_time": "2022-03-16T19:48:16.107Z"
   },
   {
    "duration": 219,
    "start_time": "2022-03-16T19:50:34.803Z"
   },
   {
    "duration": 460,
    "start_time": "2022-03-16T19:50:52.365Z"
   },
   {
    "duration": 509,
    "start_time": "2022-03-16T19:51:25.031Z"
   },
   {
    "duration": 632,
    "start_time": "2022-03-16T19:52:27.514Z"
   },
   {
    "duration": 588,
    "start_time": "2022-03-16T19:52:43.870Z"
   },
   {
    "duration": 4800,
    "start_time": "2022-03-16T19:55:46.355Z"
   },
   {
    "duration": 6,
    "start_time": "2022-03-16T19:56:36.881Z"
   },
   {
    "duration": 1410,
    "start_time": "2022-03-17T15:43:00.858Z"
   },
   {
    "duration": 42,
    "start_time": "2022-03-17T15:43:02.270Z"
   },
   {
    "duration": 3,
    "start_time": "2022-03-17T15:43:02.314Z"
   },
   {
    "duration": 72,
    "start_time": "2022-03-17T15:43:02.319Z"
   },
   {
    "duration": 4,
    "start_time": "2022-03-17T15:43:02.393Z"
   },
   {
    "duration": 8,
    "start_time": "2022-03-17T15:43:02.399Z"
   },
   {
    "duration": 9,
    "start_time": "2022-03-17T15:43:02.409Z"
   },
   {
    "duration": 39,
    "start_time": "2022-03-17T15:43:02.420Z"
   },
   {
    "duration": 33,
    "start_time": "2022-03-17T15:43:02.462Z"
   },
   {
    "duration": 3,
    "start_time": "2022-03-17T15:43:02.498Z"
   },
   {
    "duration": 41,
    "start_time": "2022-03-17T15:43:02.503Z"
   },
   {
    "duration": 37,
    "start_time": "2022-03-17T15:43:02.546Z"
   },
   {
    "duration": 42,
    "start_time": "2022-03-17T15:43:02.584Z"
   },
   {
    "duration": 11,
    "start_time": "2022-03-17T15:43:02.628Z"
   },
   {
    "duration": 13,
    "start_time": "2022-03-17T15:43:02.641Z"
   },
   {
    "duration": 15,
    "start_time": "2022-03-17T15:43:02.656Z"
   },
   {
    "duration": 13,
    "start_time": "2022-03-17T15:43:02.673Z"
   },
   {
    "duration": 181,
    "start_time": "2022-03-17T15:43:02.688Z"
   },
   {
    "duration": 130,
    "start_time": "2022-03-17T15:43:02.871Z"
   },
   {
    "duration": 12,
    "start_time": "2022-03-17T15:43:03.003Z"
   },
   {
    "duration": 294,
    "start_time": "2022-03-17T15:43:03.017Z"
   },
   {
    "duration": 213,
    "start_time": "2022-03-17T15:43:03.313Z"
   },
   {
    "duration": 374,
    "start_time": "2022-03-17T15:43:03.528Z"
   },
   {
    "duration": 321,
    "start_time": "2022-03-17T15:43:03.904Z"
   },
   {
    "duration": 0,
    "start_time": "2022-03-17T15:43:04.227Z"
   },
   {
    "duration": 0,
    "start_time": "2022-03-17T15:43:04.228Z"
   },
   {
    "duration": 0,
    "start_time": "2022-03-17T15:43:04.230Z"
   },
   {
    "duration": 0,
    "start_time": "2022-03-17T15:43:04.231Z"
   },
   {
    "duration": 0,
    "start_time": "2022-03-17T15:43:04.238Z"
   },
   {
    "duration": 0,
    "start_time": "2022-03-17T15:43:04.239Z"
   },
   {
    "duration": 1114,
    "start_time": "2022-03-17T15:43:15.057Z"
   },
   {
    "duration": 36,
    "start_time": "2022-03-17T15:43:16.173Z"
   },
   {
    "duration": 4,
    "start_time": "2022-03-17T15:43:16.211Z"
   },
   {
    "duration": 38,
    "start_time": "2022-03-17T15:43:16.218Z"
   },
   {
    "duration": 4,
    "start_time": "2022-03-17T15:43:16.257Z"
   },
   {
    "duration": 8,
    "start_time": "2022-03-17T15:43:16.262Z"
   },
   {
    "duration": 11,
    "start_time": "2022-03-17T15:43:16.271Z"
   },
   {
    "duration": 37,
    "start_time": "2022-03-17T15:43:16.283Z"
   },
   {
    "duration": 30,
    "start_time": "2022-03-17T15:43:16.338Z"
   },
   {
    "duration": 5,
    "start_time": "2022-03-17T15:43:16.370Z"
   },
   {
    "duration": 15,
    "start_time": "2022-03-17T15:43:16.376Z"
   },
   {
    "duration": 58,
    "start_time": "2022-03-17T15:43:16.393Z"
   },
   {
    "duration": 21,
    "start_time": "2022-03-17T15:43:16.453Z"
   },
   {
    "duration": 4,
    "start_time": "2022-03-17T15:43:16.475Z"
   },
   {
    "duration": 12,
    "start_time": "2022-03-17T15:43:16.481Z"
   },
   {
    "duration": 8,
    "start_time": "2022-03-17T15:43:16.495Z"
   },
   {
    "duration": 38,
    "start_time": "2022-03-17T15:43:16.505Z"
   },
   {
    "duration": 186,
    "start_time": "2022-03-17T15:43:16.545Z"
   },
   {
    "duration": 128,
    "start_time": "2022-03-17T15:43:16.733Z"
   },
   {
    "duration": 11,
    "start_time": "2022-03-17T15:43:16.862Z"
   },
   {
    "duration": 300,
    "start_time": "2022-03-17T15:43:16.875Z"
   },
   {
    "duration": 208,
    "start_time": "2022-03-17T15:43:17.176Z"
   },
   {
    "duration": 322,
    "start_time": "2022-03-17T15:43:17.386Z"
   },
   {
    "duration": 326,
    "start_time": "2022-03-17T15:43:17.711Z"
   },
   {
    "duration": 0,
    "start_time": "2022-03-17T15:43:18.039Z"
   },
   {
    "duration": 0,
    "start_time": "2022-03-17T15:43:18.040Z"
   },
   {
    "duration": 0,
    "start_time": "2022-03-17T15:43:18.041Z"
   },
   {
    "duration": 0,
    "start_time": "2022-03-17T15:43:18.042Z"
   },
   {
    "duration": 0,
    "start_time": "2022-03-17T15:43:18.044Z"
   },
   {
    "duration": 0,
    "start_time": "2022-03-17T15:43:18.045Z"
   },
   {
    "duration": 2378,
    "start_time": "2022-03-17T18:12:50.626Z"
   },
   {
    "duration": 47,
    "start_time": "2022-03-17T18:12:53.007Z"
   },
   {
    "duration": 5,
    "start_time": "2022-03-17T18:12:53.056Z"
   },
   {
    "duration": 72,
    "start_time": "2022-03-17T18:12:53.064Z"
   },
   {
    "duration": 5,
    "start_time": "2022-03-17T18:12:53.139Z"
   },
   {
    "duration": 14,
    "start_time": "2022-03-17T18:12:53.146Z"
   },
   {
    "duration": 28,
    "start_time": "2022-03-17T18:12:53.163Z"
   },
   {
    "duration": 58,
    "start_time": "2022-03-17T18:12:53.193Z"
   },
   {
    "duration": 62,
    "start_time": "2022-03-17T18:12:53.254Z"
   },
   {
    "duration": 4,
    "start_time": "2022-03-17T18:12:53.319Z"
   },
   {
    "duration": 53,
    "start_time": "2022-03-17T18:12:53.325Z"
   },
   {
    "duration": 71,
    "start_time": "2022-03-17T18:12:53.385Z"
   },
   {
    "duration": 54,
    "start_time": "2022-03-17T18:12:53.459Z"
   },
   {
    "duration": 6,
    "start_time": "2022-03-17T18:12:53.518Z"
   },
   {
    "duration": 19,
    "start_time": "2022-03-17T18:12:53.527Z"
   },
   {
    "duration": 44,
    "start_time": "2022-03-17T18:12:53.548Z"
   },
   {
    "duration": 29,
    "start_time": "2022-03-17T18:12:53.594Z"
   },
   {
    "duration": 298,
    "start_time": "2022-03-17T18:12:53.625Z"
   },
   {
    "duration": 226,
    "start_time": "2022-03-17T18:12:53.925Z"
   },
   {
    "duration": 32,
    "start_time": "2022-03-17T18:12:54.153Z"
   },
   {
    "duration": 607,
    "start_time": "2022-03-17T18:12:54.188Z"
   },
   {
    "duration": 360,
    "start_time": "2022-03-17T18:12:54.799Z"
   },
   {
    "duration": 505,
    "start_time": "2022-03-17T18:12:55.161Z"
   },
   {
    "duration": 519,
    "start_time": "2022-03-17T18:12:55.668Z"
   },
   {
    "duration": 0,
    "start_time": "2022-03-17T18:12:56.190Z"
   },
   {
    "duration": 0,
    "start_time": "2022-03-17T18:12:56.192Z"
   },
   {
    "duration": 0,
    "start_time": "2022-03-17T18:12:56.193Z"
   },
   {
    "duration": 0,
    "start_time": "2022-03-17T18:12:56.195Z"
   },
   {
    "duration": 0,
    "start_time": "2022-03-17T18:12:56.197Z"
   },
   {
    "duration": 0,
    "start_time": "2022-03-17T18:12:56.198Z"
   },
   {
    "duration": 373,
    "start_time": "2022-03-17T18:13:15.488Z"
   },
   {
    "duration": 374,
    "start_time": "2022-03-17T18:14:10.362Z"
   },
   {
    "duration": 374,
    "start_time": "2022-03-17T18:15:02.903Z"
   },
   {
    "duration": 441,
    "start_time": "2022-03-17T18:15:45.973Z"
   },
   {
    "duration": 412,
    "start_time": "2022-03-17T18:15:49.975Z"
   },
   {
    "duration": 7,
    "start_time": "2022-03-17T18:15:55.965Z"
   },
   {
    "duration": 63,
    "start_time": "2022-03-17T18:15:55.976Z"
   },
   {
    "duration": 4,
    "start_time": "2022-03-17T18:15:56.041Z"
   },
   {
    "duration": 61,
    "start_time": "2022-03-17T18:15:56.049Z"
   },
   {
    "duration": 5,
    "start_time": "2022-03-17T18:15:56.112Z"
   },
   {
    "duration": 17,
    "start_time": "2022-03-17T18:15:56.119Z"
   },
   {
    "duration": 13,
    "start_time": "2022-03-17T18:15:56.138Z"
   },
   {
    "duration": 67,
    "start_time": "2022-03-17T18:15:56.153Z"
   },
   {
    "duration": 71,
    "start_time": "2022-03-17T18:15:56.224Z"
   },
   {
    "duration": 5,
    "start_time": "2022-03-17T18:15:56.297Z"
   },
   {
    "duration": 22,
    "start_time": "2022-03-17T18:15:56.305Z"
   },
   {
    "duration": 78,
    "start_time": "2022-03-17T18:15:56.329Z"
   },
   {
    "duration": 35,
    "start_time": "2022-03-17T18:15:56.410Z"
   },
   {
    "duration": 37,
    "start_time": "2022-03-17T18:15:56.447Z"
   },
   {
    "duration": 18,
    "start_time": "2022-03-17T18:15:56.487Z"
   },
   {
    "duration": 16,
    "start_time": "2022-03-17T18:15:56.508Z"
   },
   {
    "duration": 15,
    "start_time": "2022-03-17T18:15:56.526Z"
   },
   {
    "duration": 421,
    "start_time": "2022-03-17T18:15:56.543Z"
   },
   {
    "duration": 228,
    "start_time": "2022-03-17T18:15:56.967Z"
   },
   {
    "duration": 15,
    "start_time": "2022-03-17T18:15:57.197Z"
   },
   {
    "duration": 370,
    "start_time": "2022-03-17T18:15:57.216Z"
   },
   {
    "duration": 472,
    "start_time": "2022-03-17T18:15:57.588Z"
   },
   {
    "duration": 481,
    "start_time": "2022-03-17T18:15:58.062Z"
   },
   {
    "duration": 479,
    "start_time": "2022-03-17T18:15:58.547Z"
   },
   {
    "duration": 510,
    "start_time": "2022-03-17T18:15:59.029Z"
   },
   {
    "duration": 305,
    "start_time": "2022-03-17T18:15:59.541Z"
   },
   {
    "duration": 299,
    "start_time": "2022-03-17T18:15:59.849Z"
   },
   {
    "duration": 7,
    "start_time": "2022-03-17T18:16:00.151Z"
   },
   {
    "duration": 362,
    "start_time": "2022-03-17T18:16:00.160Z"
   },
   {
    "duration": 6,
    "start_time": "2022-03-17T18:16:00.525Z"
   },
   {
    "duration": 189,
    "start_time": "2022-03-17T18:26:18.354Z"
   },
   {
    "duration": 183,
    "start_time": "2022-03-17T18:28:28.501Z"
   },
   {
    "duration": 214,
    "start_time": "2022-03-17T18:36:13.619Z"
   },
   {
    "duration": 192,
    "start_time": "2022-03-17T18:36:30.693Z"
   },
   {
    "duration": 191,
    "start_time": "2022-03-17T18:36:49.825Z"
   },
   {
    "duration": 282,
    "start_time": "2022-03-17T18:37:14.058Z"
   },
   {
    "duration": 394,
    "start_time": "2022-03-17T18:37:27.736Z"
   },
   {
    "duration": 53,
    "start_time": "2022-03-18T17:38:34.474Z"
   },
   {
    "duration": 8,
    "start_time": "2022-03-18T17:38:44.713Z"
   },
   {
    "duration": 1771,
    "start_time": "2022-03-18T17:39:33.335Z"
   },
   {
    "duration": 39,
    "start_time": "2022-03-18T17:39:35.109Z"
   },
   {
    "duration": 4,
    "start_time": "2022-03-18T17:39:35.150Z"
   },
   {
    "duration": 56,
    "start_time": "2022-03-18T17:39:35.156Z"
   },
   {
    "duration": 5,
    "start_time": "2022-03-18T17:39:35.215Z"
   },
   {
    "duration": 9,
    "start_time": "2022-03-18T17:39:35.223Z"
   },
   {
    "duration": 9,
    "start_time": "2022-03-18T17:39:35.233Z"
   },
   {
    "duration": 72,
    "start_time": "2022-03-18T17:39:35.244Z"
   },
   {
    "duration": 42,
    "start_time": "2022-03-18T17:39:35.319Z"
   },
   {
    "duration": 4,
    "start_time": "2022-03-18T17:39:35.364Z"
   },
   {
    "duration": 14,
    "start_time": "2022-03-18T17:39:35.402Z"
   },
   {
    "duration": 44,
    "start_time": "2022-03-18T17:39:35.420Z"
   },
   {
    "duration": 48,
    "start_time": "2022-03-18T17:39:35.466Z"
   },
   {
    "duration": 5,
    "start_time": "2022-03-18T17:39:35.518Z"
   },
   {
    "duration": 19,
    "start_time": "2022-03-18T17:39:35.524Z"
   },
   {
    "duration": 15,
    "start_time": "2022-03-18T17:39:35.545Z"
   },
   {
    "duration": 42,
    "start_time": "2022-03-18T17:39:35.563Z"
   },
   {
    "duration": 225,
    "start_time": "2022-03-18T17:39:35.608Z"
   },
   {
    "duration": 223,
    "start_time": "2022-03-18T17:39:35.835Z"
   },
   {
    "duration": 16,
    "start_time": "2022-03-18T17:39:36.061Z"
   },
   {
    "duration": 337,
    "start_time": "2022-03-18T17:39:36.079Z"
   },
   {
    "duration": 233,
    "start_time": "2022-03-18T17:39:36.418Z"
   },
   {
    "duration": 504,
    "start_time": "2022-03-18T17:39:36.653Z"
   },
   {
    "duration": 386,
    "start_time": "2022-03-18T17:39:37.159Z"
   },
   {
    "duration": 505,
    "start_time": "2022-03-18T17:39:37.548Z"
   },
   {
    "duration": 156,
    "start_time": "2022-03-18T17:39:38.055Z"
   },
   {
    "duration": 157,
    "start_time": "2022-03-18T17:39:38.213Z"
   },
   {
    "duration": 5,
    "start_time": "2022-03-18T17:39:38.372Z"
   },
   {
    "duration": 248,
    "start_time": "2022-03-18T17:39:38.379Z"
   },
   {
    "duration": 5,
    "start_time": "2022-03-18T17:39:38.629Z"
   },
   {
    "duration": 357,
    "start_time": "2022-03-18T17:39:38.636Z"
   },
   {
    "duration": 181,
    "start_time": "2022-03-18T17:39:39.000Z"
   },
   {
    "duration": 46,
    "start_time": "2022-03-19T04:42:45.134Z"
   },
   {
    "duration": 1221,
    "start_time": "2022-03-19T04:42:53.072Z"
   },
   {
    "duration": 48,
    "start_time": "2022-03-19T04:42:54.295Z"
   },
   {
    "duration": 4,
    "start_time": "2022-03-19T04:42:54.345Z"
   },
   {
    "duration": 41,
    "start_time": "2022-03-19T04:42:54.350Z"
   },
   {
    "duration": 4,
    "start_time": "2022-03-19T04:42:54.393Z"
   },
   {
    "duration": 6,
    "start_time": "2022-03-19T04:42:54.398Z"
   },
   {
    "duration": 5,
    "start_time": "2022-03-19T04:42:54.406Z"
   },
   {
    "duration": 41,
    "start_time": "2022-03-19T04:42:54.412Z"
   },
   {
    "duration": 27,
    "start_time": "2022-03-19T04:42:54.455Z"
   },
   {
    "duration": 3,
    "start_time": "2022-03-19T04:42:54.484Z"
   },
   {
    "duration": 15,
    "start_time": "2022-03-19T04:42:54.488Z"
   },
   {
    "duration": 56,
    "start_time": "2022-03-19T04:42:54.504Z"
   },
   {
    "duration": 20,
    "start_time": "2022-03-19T04:42:54.562Z"
   },
   {
    "duration": 4,
    "start_time": "2022-03-19T04:42:54.585Z"
   },
   {
    "duration": 11,
    "start_time": "2022-03-19T04:42:54.591Z"
   },
   {
    "duration": 34,
    "start_time": "2022-03-19T04:42:54.604Z"
   },
   {
    "duration": 5,
    "start_time": "2022-03-19T04:42:54.640Z"
   },
   {
    "duration": 173,
    "start_time": "2022-03-19T04:42:54.647Z"
   },
   {
    "duration": 129,
    "start_time": "2022-03-19T04:42:54.822Z"
   },
   {
    "duration": 9,
    "start_time": "2022-03-19T04:42:54.952Z"
   },
   {
    "duration": 282,
    "start_time": "2022-03-19T04:42:54.963Z"
   },
   {
    "duration": 201,
    "start_time": "2022-03-19T04:42:55.246Z"
   },
   {
    "duration": 326,
    "start_time": "2022-03-19T04:42:55.449Z"
   },
   {
    "duration": 201,
    "start_time": "2022-03-19T04:42:55.777Z"
   },
   {
    "duration": 296,
    "start_time": "2022-03-19T04:42:55.979Z"
   },
   {
    "duration": 124,
    "start_time": "2022-03-19T04:42:56.276Z"
   },
   {
    "duration": 123,
    "start_time": "2022-03-19T04:42:56.402Z"
   },
   {
    "duration": 12,
    "start_time": "2022-03-19T04:42:56.527Z"
   },
   {
    "duration": 137,
    "start_time": "2022-03-19T04:42:56.541Z"
   },
   {
    "duration": 4,
    "start_time": "2022-03-19T04:42:56.679Z"
   },
   {
    "duration": 299,
    "start_time": "2022-03-19T04:42:56.685Z"
   },
   {
    "duration": 129,
    "start_time": "2022-03-19T04:42:56.985Z"
   },
   {
    "duration": 8,
    "start_time": "2022-03-19T04:42:57.116Z"
   },
   {
    "duration": 7,
    "start_time": "2022-03-19T04:43:21.657Z"
   },
   {
    "duration": 7,
    "start_time": "2022-03-19T04:43:29.417Z"
   },
   {
    "duration": 9,
    "start_time": "2022-03-19T04:43:36.364Z"
   },
   {
    "duration": 95,
    "start_time": "2022-03-19T04:44:00.966Z"
   },
   {
    "duration": 6,
    "start_time": "2022-03-19T04:47:41.880Z"
   },
   {
    "duration": 4,
    "start_time": "2022-03-19T04:51:45.769Z"
   },
   {
    "duration": 6,
    "start_time": "2022-03-19T04:52:12.482Z"
   },
   {
    "duration": 8,
    "start_time": "2022-03-19T04:52:52.439Z"
   },
   {
    "duration": 76,
    "start_time": "2022-03-19T04:53:28.176Z"
   },
   {
    "duration": 8,
    "start_time": "2022-03-19T04:53:33.245Z"
   },
   {
    "duration": 6,
    "start_time": "2022-03-19T04:53:40.271Z"
   },
   {
    "duration": 5,
    "start_time": "2022-03-19T04:53:51.941Z"
   },
   {
    "duration": 5,
    "start_time": "2022-03-19T04:53:55.465Z"
   },
   {
    "duration": 82,
    "start_time": "2022-03-19T04:55:34.731Z"
   },
   {
    "duration": 10,
    "start_time": "2022-03-19T04:55:40.834Z"
   },
   {
    "duration": 148,
    "start_time": "2022-03-19T05:03:08.652Z"
   },
   {
    "duration": 20,
    "start_time": "2022-03-19T05:04:28.368Z"
   },
   {
    "duration": 21,
    "start_time": "2022-03-19T05:07:52.877Z"
   },
   {
    "duration": 19,
    "start_time": "2022-03-19T05:08:24.700Z"
   },
   {
    "duration": 10,
    "start_time": "2022-03-19T05:13:36.185Z"
   },
   {
    "duration": 10,
    "start_time": "2022-03-19T05:14:59.450Z"
   },
   {
    "duration": 10,
    "start_time": "2022-03-19T05:16:29.635Z"
   },
   {
    "duration": 83,
    "start_time": "2022-03-19T05:38:27.703Z"
   },
   {
    "duration": 83,
    "start_time": "2022-03-19T05:39:42.535Z"
   },
   {
    "duration": 75,
    "start_time": "2022-03-19T05:40:49.797Z"
   },
   {
    "duration": 84,
    "start_time": "2022-03-19T05:41:01.293Z"
   },
   {
    "duration": 79,
    "start_time": "2022-03-19T05:41:41.275Z"
   },
   {
    "duration": 10,
    "start_time": "2022-03-19T05:52:07.853Z"
   },
   {
    "duration": 9,
    "start_time": "2022-03-19T05:52:39.720Z"
   },
   {
    "duration": 9,
    "start_time": "2022-03-19T05:53:44.776Z"
   },
   {
    "duration": 9,
    "start_time": "2022-03-19T05:53:48.745Z"
   },
   {
    "duration": 9,
    "start_time": "2022-03-19T05:55:31.763Z"
   },
   {
    "duration": 10,
    "start_time": "2022-03-19T05:57:13.533Z"
   },
   {
    "duration": 20,
    "start_time": "2022-03-19T05:57:18.590Z"
   },
   {
    "duration": 13,
    "start_time": "2022-03-19T05:57:31.816Z"
   },
   {
    "duration": 20,
    "start_time": "2022-03-19T05:57:39.503Z"
   },
   {
    "duration": 20,
    "start_time": "2022-03-19T05:58:08.511Z"
   },
   {
    "duration": 1471,
    "start_time": "2022-03-19T06:03:13.479Z"
   },
   {
    "duration": 13,
    "start_time": "2022-03-19T06:04:08.991Z"
   },
   {
    "duration": 16,
    "start_time": "2022-03-19T06:04:36.246Z"
   },
   {
    "duration": 13,
    "start_time": "2022-03-19T06:05:00.619Z"
   },
   {
    "duration": 18,
    "start_time": "2022-03-19T06:12:53.294Z"
   },
   {
    "duration": 87,
    "start_time": "2022-03-19T06:13:22.175Z"
   },
   {
    "duration": 1735,
    "start_time": "2022-03-19T09:59:54.090Z"
   },
   {
    "duration": 46,
    "start_time": "2022-03-19T09:59:55.828Z"
   },
   {
    "duration": 5,
    "start_time": "2022-03-19T09:59:55.877Z"
   },
   {
    "duration": 85,
    "start_time": "2022-03-19T09:59:55.887Z"
   },
   {
    "duration": 7,
    "start_time": "2022-03-19T09:59:55.975Z"
   },
   {
    "duration": 5,
    "start_time": "2022-03-19T09:59:55.985Z"
   },
   {
    "duration": 6,
    "start_time": "2022-03-19T09:59:55.992Z"
   },
   {
    "duration": 107,
    "start_time": "2022-03-19T09:59:56.001Z"
   },
   {
    "duration": 83,
    "start_time": "2022-03-19T09:59:56.111Z"
   },
   {
    "duration": 5,
    "start_time": "2022-03-19T09:59:56.198Z"
   },
   {
    "duration": 21,
    "start_time": "2022-03-19T09:59:56.205Z"
   },
   {
    "duration": 82,
    "start_time": "2022-03-19T09:59:56.229Z"
   },
   {
    "duration": 68,
    "start_time": "2022-03-19T09:59:56.313Z"
   },
   {
    "duration": 6,
    "start_time": "2022-03-19T09:59:56.383Z"
   },
   {
    "duration": 15,
    "start_time": "2022-03-19T09:59:56.391Z"
   },
   {
    "duration": 12,
    "start_time": "2022-03-19T09:59:56.409Z"
   },
   {
    "duration": 49,
    "start_time": "2022-03-19T09:59:56.423Z"
   },
   {
    "duration": 307,
    "start_time": "2022-03-19T09:59:56.475Z"
   },
   {
    "duration": 222,
    "start_time": "2022-03-19T09:59:56.784Z"
   },
   {
    "duration": 14,
    "start_time": "2022-03-19T09:59:57.009Z"
   },
   {
    "duration": 490,
    "start_time": "2022-03-19T09:59:57.026Z"
   },
   {
    "duration": 343,
    "start_time": "2022-03-19T09:59:57.518Z"
   },
   {
    "duration": 468,
    "start_time": "2022-03-19T09:59:57.867Z"
   },
   {
    "duration": 367,
    "start_time": "2022-03-19T09:59:58.337Z"
   },
   {
    "duration": 509,
    "start_time": "2022-03-19T09:59:58.707Z"
   },
   {
    "duration": 293,
    "start_time": "2022-03-19T09:59:59.219Z"
   },
   {
    "duration": 228,
    "start_time": "2022-03-19T09:59:59.514Z"
   },
   {
    "duration": 22,
    "start_time": "2022-03-19T09:59:59.747Z"
   },
   {
    "duration": 341,
    "start_time": "2022-03-19T09:59:59.771Z"
   },
   {
    "duration": 6,
    "start_time": "2022-03-19T10:00:00.114Z"
   },
   {
    "duration": 468,
    "start_time": "2022-03-19T10:00:00.122Z"
   },
   {
    "duration": 288,
    "start_time": "2022-03-19T10:00:00.592Z"
   },
   {
    "duration": 9,
    "start_time": "2022-03-19T10:00:00.882Z"
   },
   {
    "duration": 41,
    "start_time": "2022-03-19T10:00:00.894Z"
   },
   {
    "duration": 30,
    "start_time": "2022-03-19T10:00:00.938Z"
   },
   {
    "duration": 14,
    "start_time": "2022-03-19T10:00:00.970Z"
   },
   {
    "duration": 27,
    "start_time": "2022-03-19T10:00:00.987Z"
   },
   {
    "duration": 62,
    "start_time": "2022-03-19T10:00:01.016Z"
   },
   {
    "duration": 21,
    "start_time": "2022-03-19T10:00:01.080Z"
   },
   {
    "duration": 1954,
    "start_time": "2022-03-19T10:00:01.104Z"
   },
   {
    "duration": 1684,
    "start_time": "2022-03-19T10:00:38.059Z"
   },
   {
    "duration": 252,
    "start_time": "2022-03-19T10:03:04.461Z"
   },
   {
    "duration": 333,
    "start_time": "2022-03-19T10:03:10.770Z"
   },
   {
    "duration": 259,
    "start_time": "2022-03-19T10:03:32.363Z"
   },
   {
    "duration": 113,
    "start_time": "2022-03-19T10:03:55.579Z"
   },
   {
    "duration": 188,
    "start_time": "2022-03-19T10:04:02.371Z"
   },
   {
    "duration": 1820,
    "start_time": "2022-03-19T10:04:14.997Z"
   },
   {
    "duration": 6,
    "start_time": "2022-03-19T10:16:03.717Z"
   },
   {
    "duration": 117,
    "start_time": "2022-03-19T10:18:14.503Z"
   },
   {
    "duration": 120,
    "start_time": "2022-03-19T10:18:32.084Z"
   },
   {
    "duration": 109,
    "start_time": "2022-03-19T10:19:15.896Z"
   },
   {
    "duration": 125,
    "start_time": "2022-03-19T10:19:31.359Z"
   },
   {
    "duration": 115,
    "start_time": "2022-03-19T10:19:37.925Z"
   },
   {
    "duration": 27,
    "start_time": "2022-03-19T10:19:49.362Z"
   },
   {
    "duration": 510,
    "start_time": "2022-03-19T10:25:02.827Z"
   },
   {
    "duration": 432,
    "start_time": "2022-03-19T10:25:09.587Z"
   },
   {
    "duration": 389,
    "start_time": "2022-03-19T10:26:32.192Z"
   },
   {
    "duration": 425,
    "start_time": "2022-03-19T10:26:38.373Z"
   },
   {
    "duration": 211,
    "start_time": "2022-03-19T10:27:29.428Z"
   },
   {
    "duration": 246,
    "start_time": "2022-03-19T10:27:46.792Z"
   },
   {
    "duration": 449,
    "start_time": "2022-03-19T10:28:01.182Z"
   },
   {
    "duration": 14,
    "start_time": "2022-03-19T10:29:06.907Z"
   },
   {
    "duration": 110,
    "start_time": "2022-03-19T10:29:52.856Z"
   },
   {
    "duration": 1571,
    "start_time": "2022-03-19T10:47:20.854Z"
   },
   {
    "duration": 47,
    "start_time": "2022-03-19T10:47:22.428Z"
   },
   {
    "duration": 5,
    "start_time": "2022-03-19T10:47:22.477Z"
   },
   {
    "duration": 53,
    "start_time": "2022-03-19T10:47:22.484Z"
   },
   {
    "duration": 31,
    "start_time": "2022-03-19T10:47:22.540Z"
   },
   {
    "duration": 5,
    "start_time": "2022-03-19T10:47:22.573Z"
   },
   {
    "duration": 8,
    "start_time": "2022-03-19T10:47:22.580Z"
   },
   {
    "duration": 97,
    "start_time": "2022-03-19T10:47:22.589Z"
   },
   {
    "duration": 82,
    "start_time": "2022-03-19T10:47:22.690Z"
   },
   {
    "duration": 4,
    "start_time": "2022-03-19T10:47:22.775Z"
   },
   {
    "duration": 21,
    "start_time": "2022-03-19T10:47:22.781Z"
   },
   {
    "duration": 82,
    "start_time": "2022-03-19T10:47:22.805Z"
   },
   {
    "duration": 79,
    "start_time": "2022-03-19T10:47:22.889Z"
   },
   {
    "duration": 6,
    "start_time": "2022-03-19T10:47:22.973Z"
   },
   {
    "duration": 14,
    "start_time": "2022-03-19T10:47:22.982Z"
   },
   {
    "duration": 11,
    "start_time": "2022-03-19T10:47:22.999Z"
   },
   {
    "duration": 56,
    "start_time": "2022-03-19T10:47:23.012Z"
   },
   {
    "duration": 286,
    "start_time": "2022-03-19T10:47:23.070Z"
   },
   {
    "duration": 237,
    "start_time": "2022-03-19T10:47:23.359Z"
   },
   {
    "duration": 17,
    "start_time": "2022-03-19T10:47:23.599Z"
   },
   {
    "duration": 489,
    "start_time": "2022-03-19T10:47:23.618Z"
   },
   {
    "duration": 335,
    "start_time": "2022-03-19T10:47:24.109Z"
   },
   {
    "duration": 456,
    "start_time": "2022-03-19T10:47:24.446Z"
   },
   {
    "duration": 374,
    "start_time": "2022-03-19T10:47:24.905Z"
   },
   {
    "duration": 453,
    "start_time": "2022-03-19T10:47:25.281Z"
   },
   {
    "duration": 349,
    "start_time": "2022-03-19T10:47:25.737Z"
   },
   {
    "duration": 230,
    "start_time": "2022-03-19T10:47:26.089Z"
   },
   {
    "duration": 6,
    "start_time": "2022-03-19T10:47:26.322Z"
   },
   {
    "duration": 275,
    "start_time": "2022-03-19T10:47:26.331Z"
   },
   {
    "duration": 7,
    "start_time": "2022-03-19T10:47:26.609Z"
   },
   {
    "duration": 474,
    "start_time": "2022-03-19T10:47:26.619Z"
   },
   {
    "duration": 318,
    "start_time": "2022-03-19T10:47:27.096Z"
   },
   {
    "duration": 12,
    "start_time": "2022-03-19T10:47:27.417Z"
   },
   {
    "duration": 64,
    "start_time": "2022-03-19T10:47:27.431Z"
   },
   {
    "duration": 19,
    "start_time": "2022-03-19T10:47:27.498Z"
   },
   {
    "duration": 49,
    "start_time": "2022-03-19T10:47:27.520Z"
   },
   {
    "duration": 14,
    "start_time": "2022-03-19T10:47:27.571Z"
   },
   {
    "duration": 32,
    "start_time": "2022-03-19T10:47:27.588Z"
   },
   {
    "duration": 59,
    "start_time": "2022-03-19T10:47:27.623Z"
   },
   {
    "duration": 436,
    "start_time": "2022-03-19T10:47:27.685Z"
   },
   {
    "duration": 464,
    "start_time": "2022-03-19T10:47:28.126Z"
   },
   {
    "duration": 6,
    "start_time": "2022-03-19T10:53:13.223Z"
   },
   {
    "duration": 48,
    "start_time": "2022-03-19T10:53:13.231Z"
   },
   {
    "duration": 4,
    "start_time": "2022-03-19T10:53:13.281Z"
   },
   {
    "duration": 83,
    "start_time": "2022-03-19T10:53:13.288Z"
   },
   {
    "duration": 5,
    "start_time": "2022-03-19T10:53:13.373Z"
   },
   {
    "duration": 5,
    "start_time": "2022-03-19T10:53:13.381Z"
   },
   {
    "duration": 8,
    "start_time": "2022-03-19T10:53:13.388Z"
   },
   {
    "duration": 93,
    "start_time": "2022-03-19T10:53:13.398Z"
   },
   {
    "duration": 77,
    "start_time": "2022-03-19T10:53:13.496Z"
   },
   {
    "duration": 5,
    "start_time": "2022-03-19T10:53:13.575Z"
   },
   {
    "duration": 21,
    "start_time": "2022-03-19T10:53:13.582Z"
   },
   {
    "duration": 86,
    "start_time": "2022-03-19T10:53:13.605Z"
   },
   {
    "duration": 35,
    "start_time": "2022-03-19T10:53:13.693Z"
   },
   {
    "duration": 39,
    "start_time": "2022-03-19T10:53:13.730Z"
   },
   {
    "duration": 13,
    "start_time": "2022-03-19T10:53:13.772Z"
   },
   {
    "duration": 13,
    "start_time": "2022-03-19T10:53:13.787Z"
   },
   {
    "duration": 10,
    "start_time": "2022-03-19T10:53:13.802Z"
   },
   {
    "duration": 320,
    "start_time": "2022-03-19T10:53:13.814Z"
   },
   {
    "duration": 219,
    "start_time": "2022-03-19T10:53:14.136Z"
   },
   {
    "duration": 15,
    "start_time": "2022-03-19T10:53:14.368Z"
   },
   {
    "duration": 340,
    "start_time": "2022-03-19T10:53:14.385Z"
   },
   {
    "duration": 409,
    "start_time": "2022-03-19T10:53:14.727Z"
   },
   {
    "duration": 456,
    "start_time": "2022-03-19T10:53:15.138Z"
   },
   {
    "duration": 369,
    "start_time": "2022-03-19T10:53:15.599Z"
   },
   {
    "duration": 466,
    "start_time": "2022-03-19T10:53:15.971Z"
   },
   {
    "duration": 264,
    "start_time": "2022-03-19T10:53:16.439Z"
   },
   {
    "duration": 225,
    "start_time": "2022-03-19T10:53:16.705Z"
   },
   {
    "duration": 6,
    "start_time": "2022-03-19T10:53:16.932Z"
   },
   {
    "duration": 367,
    "start_time": "2022-03-19T10:53:16.940Z"
   },
   {
    "duration": 6,
    "start_time": "2022-03-19T10:53:17.309Z"
   },
   {
    "duration": 411,
    "start_time": "2022-03-19T10:53:17.317Z"
   },
   {
    "duration": 353,
    "start_time": "2022-03-19T10:53:17.731Z"
   },
   {
    "duration": 11,
    "start_time": "2022-03-19T10:53:18.086Z"
   },
   {
    "duration": 31,
    "start_time": "2022-03-19T10:53:18.099Z"
   },
   {
    "duration": 48,
    "start_time": "2022-03-19T10:53:18.132Z"
   },
   {
    "duration": 15,
    "start_time": "2022-03-19T10:53:18.183Z"
   },
   {
    "duration": 13,
    "start_time": "2022-03-19T10:53:18.201Z"
   },
   {
    "duration": 75,
    "start_time": "2022-03-19T10:53:18.217Z"
   },
   {
    "duration": 25,
    "start_time": "2022-03-19T10:53:18.294Z"
   },
   {
    "duration": 501,
    "start_time": "2022-03-19T10:53:18.322Z"
   },
   {
    "duration": 470,
    "start_time": "2022-03-19T10:53:18.825Z"
   },
   {
    "duration": 1573,
    "start_time": "2022-03-19T15:53:00.622Z"
   },
   {
    "duration": 56,
    "start_time": "2022-03-19T15:53:02.198Z"
   },
   {
    "duration": 5,
    "start_time": "2022-03-19T15:53:02.257Z"
   },
   {
    "duration": 55,
    "start_time": "2022-03-19T15:53:02.264Z"
   },
   {
    "duration": 5,
    "start_time": "2022-03-19T15:53:02.322Z"
   },
   {
    "duration": 8,
    "start_time": "2022-03-19T15:53:02.329Z"
   },
   {
    "duration": 7,
    "start_time": "2022-03-19T15:53:02.339Z"
   },
   {
    "duration": 79,
    "start_time": "2022-03-19T15:53:02.348Z"
   },
   {
    "duration": 69,
    "start_time": "2022-03-19T15:53:02.429Z"
   },
   {
    "duration": 4,
    "start_time": "2022-03-19T15:53:02.500Z"
   },
   {
    "duration": 33,
    "start_time": "2022-03-19T15:53:02.506Z"
   },
   {
    "duration": 61,
    "start_time": "2022-03-19T15:53:02.542Z"
   },
   {
    "duration": 34,
    "start_time": "2022-03-19T15:53:02.605Z"
   },
   {
    "duration": 6,
    "start_time": "2022-03-19T15:53:02.684Z"
   },
   {
    "duration": 24,
    "start_time": "2022-03-19T15:53:02.693Z"
   },
   {
    "duration": 17,
    "start_time": "2022-03-19T15:53:02.719Z"
   },
   {
    "duration": 11,
    "start_time": "2022-03-19T15:53:02.739Z"
   },
   {
    "duration": 301,
    "start_time": "2022-03-19T15:53:02.753Z"
   },
   {
    "duration": 222,
    "start_time": "2022-03-19T15:53:03.057Z"
   },
   {
    "duration": 16,
    "start_time": "2022-03-19T15:53:03.281Z"
   },
   {
    "duration": 588,
    "start_time": "2022-03-19T15:53:03.300Z"
   },
   {
    "duration": 362,
    "start_time": "2022-03-19T15:53:03.890Z"
   },
   {
    "duration": 477,
    "start_time": "2022-03-19T15:53:04.254Z"
   },
   {
    "duration": 379,
    "start_time": "2022-03-19T15:53:04.734Z"
   },
   {
    "duration": 499,
    "start_time": "2022-03-19T15:53:05.115Z"
   },
   {
    "duration": 282,
    "start_time": "2022-03-19T15:53:05.617Z"
   },
   {
    "duration": 233,
    "start_time": "2022-03-19T15:53:05.901Z"
   },
   {
    "duration": 5,
    "start_time": "2022-03-19T15:53:06.137Z"
   },
   {
    "duration": 287,
    "start_time": "2022-03-19T15:53:06.145Z"
   },
   {
    "duration": 8,
    "start_time": "2022-03-19T15:53:06.434Z"
   },
   {
    "duration": 477,
    "start_time": "2022-03-19T15:53:06.445Z"
   },
   {
    "duration": 289,
    "start_time": "2022-03-19T15:53:06.924Z"
   },
   {
    "duration": 9,
    "start_time": "2022-03-19T15:53:07.215Z"
   },
   {
    "duration": 34,
    "start_time": "2022-03-19T15:53:07.227Z"
   },
   {
    "duration": 31,
    "start_time": "2022-03-19T15:53:07.263Z"
   },
   {
    "duration": 15,
    "start_time": "2022-03-19T15:53:07.297Z"
   },
   {
    "duration": 17,
    "start_time": "2022-03-19T15:53:07.314Z"
   },
   {
    "duration": 63,
    "start_time": "2022-03-19T15:53:07.333Z"
   },
   {
    "duration": 21,
    "start_time": "2022-03-19T15:53:07.398Z"
   },
   {
    "duration": 447,
    "start_time": "2022-03-19T15:53:07.421Z"
   },
   {
    "duration": 445,
    "start_time": "2022-03-19T15:53:07.874Z"
   },
   {
    "duration": 1537,
    "start_time": "2022-03-19T15:55:50.774Z"
   },
   {
    "duration": 46,
    "start_time": "2022-03-19T15:55:52.314Z"
   },
   {
    "duration": 5,
    "start_time": "2022-03-19T15:55:52.363Z"
   },
   {
    "duration": 60,
    "start_time": "2022-03-19T15:55:52.370Z"
   },
   {
    "duration": 5,
    "start_time": "2022-03-19T15:55:52.434Z"
   },
   {
    "duration": 6,
    "start_time": "2022-03-19T15:55:52.443Z"
   },
   {
    "duration": 32,
    "start_time": "2022-03-19T15:55:52.452Z"
   },
   {
    "duration": 48,
    "start_time": "2022-03-19T15:55:52.486Z"
   },
   {
    "duration": 72,
    "start_time": "2022-03-19T15:55:52.536Z"
   },
   {
    "duration": 5,
    "start_time": "2022-03-19T15:55:52.611Z"
   },
   {
    "duration": 26,
    "start_time": "2022-03-19T15:55:52.619Z"
   },
   {
    "duration": 83,
    "start_time": "2022-03-19T15:55:52.647Z"
   },
   {
    "duration": 64,
    "start_time": "2022-03-19T15:55:52.733Z"
   },
   {
    "duration": 6,
    "start_time": "2022-03-19T15:55:52.801Z"
   },
   {
    "duration": 14,
    "start_time": "2022-03-19T15:55:52.810Z"
   },
   {
    "duration": 12,
    "start_time": "2022-03-19T15:55:52.827Z"
   },
   {
    "duration": 9,
    "start_time": "2022-03-19T15:55:52.885Z"
   },
   {
    "duration": 298,
    "start_time": "2022-03-19T15:55:52.896Z"
   },
   {
    "duration": 234,
    "start_time": "2022-03-19T15:55:53.196Z"
   },
   {
    "duration": 14,
    "start_time": "2022-03-19T15:55:53.432Z"
   },
   {
    "duration": 600,
    "start_time": "2022-03-19T15:55:53.447Z"
   },
   {
    "duration": 381,
    "start_time": "2022-03-19T15:55:54.049Z"
   },
   {
    "duration": 474,
    "start_time": "2022-03-19T15:55:54.432Z"
   },
   {
    "duration": 395,
    "start_time": "2022-03-19T15:55:54.908Z"
   },
   {
    "duration": 451,
    "start_time": "2022-03-19T15:55:55.307Z"
   },
   {
    "duration": 287,
    "start_time": "2022-03-19T15:55:55.761Z"
   },
   {
    "duration": 241,
    "start_time": "2022-03-19T15:55:56.051Z"
   },
   {
    "duration": 7,
    "start_time": "2022-03-19T15:55:56.295Z"
   },
   {
    "duration": 282,
    "start_time": "2022-03-19T15:55:56.305Z"
   },
   {
    "duration": 6,
    "start_time": "2022-03-19T15:55:56.589Z"
   },
   {
    "duration": 513,
    "start_time": "2022-03-19T15:55:56.597Z"
   },
   {
    "duration": 303,
    "start_time": "2022-03-19T15:55:57.113Z"
   },
   {
    "duration": 9,
    "start_time": "2022-03-19T15:55:57.419Z"
   },
   {
    "duration": 61,
    "start_time": "2022-03-19T15:55:57.430Z"
   },
   {
    "duration": 21,
    "start_time": "2022-03-19T15:55:57.494Z"
   },
   {
    "duration": 31,
    "start_time": "2022-03-19T15:55:57.517Z"
   },
   {
    "duration": 38,
    "start_time": "2022-03-19T15:55:57.550Z"
   },
   {
    "duration": 58,
    "start_time": "2022-03-19T15:55:57.590Z"
   },
   {
    "duration": 27,
    "start_time": "2022-03-19T15:55:57.650Z"
   },
   {
    "duration": 474,
    "start_time": "2022-03-19T15:55:57.679Z"
   },
   {
    "duration": 453,
    "start_time": "2022-03-19T15:55:58.158Z"
   },
   {
    "duration": 75,
    "start_time": "2022-03-20T09:15:39.302Z"
   },
   {
    "duration": 1865,
    "start_time": "2022-03-20T09:15:45.641Z"
   },
   {
    "duration": 48,
    "start_time": "2022-03-20T09:15:47.509Z"
   },
   {
    "duration": 5,
    "start_time": "2022-03-20T09:15:47.559Z"
   },
   {
    "duration": 58,
    "start_time": "2022-03-20T09:15:47.569Z"
   },
   {
    "duration": 6,
    "start_time": "2022-03-20T09:15:47.629Z"
   },
   {
    "duration": 6,
    "start_time": "2022-03-20T09:15:47.637Z"
   },
   {
    "duration": 43,
    "start_time": "2022-03-20T09:15:47.646Z"
   },
   {
    "duration": 72,
    "start_time": "2022-03-20T09:15:47.692Z"
   },
   {
    "duration": 58,
    "start_time": "2022-03-20T09:15:47.785Z"
   },
   {
    "duration": 4,
    "start_time": "2022-03-20T09:15:47.847Z"
   },
   {
    "duration": 47,
    "start_time": "2022-03-20T09:15:47.853Z"
   },
   {
    "duration": 58,
    "start_time": "2022-03-20T09:15:47.902Z"
   },
   {
    "duration": 60,
    "start_time": "2022-03-20T09:15:47.962Z"
   },
   {
    "duration": 6,
    "start_time": "2022-03-20T09:15:48.025Z"
   },
   {
    "duration": 20,
    "start_time": "2022-03-20T09:15:48.033Z"
   },
   {
    "duration": 47,
    "start_time": "2022-03-20T09:15:48.056Z"
   },
   {
    "duration": 12,
    "start_time": "2022-03-20T09:15:48.105Z"
   },
   {
    "duration": 11,
    "start_time": "2022-03-20T09:15:48.119Z"
   },
   {
    "duration": 317,
    "start_time": "2022-03-20T09:15:48.132Z"
   },
   {
    "duration": 263,
    "start_time": "2022-03-20T09:15:48.452Z"
   },
   {
    "duration": 16,
    "start_time": "2022-03-20T09:15:48.718Z"
   },
   {
    "duration": 503,
    "start_time": "2022-03-20T09:15:48.737Z"
   },
   {
    "duration": 348,
    "start_time": "2022-03-20T09:15:49.242Z"
   },
   {
    "duration": 481,
    "start_time": "2022-03-20T09:15:49.592Z"
   },
   {
    "duration": 387,
    "start_time": "2022-03-20T09:15:50.075Z"
   },
   {
    "duration": 496,
    "start_time": "2022-03-20T09:15:50.465Z"
   },
   {
    "duration": 289,
    "start_time": "2022-03-20T09:15:50.963Z"
   },
   {
    "duration": 237,
    "start_time": "2022-03-20T09:15:51.257Z"
   },
   {
    "duration": 6,
    "start_time": "2022-03-20T09:15:51.497Z"
   },
   {
    "duration": 278,
    "start_time": "2022-03-20T09:15:51.505Z"
   },
   {
    "duration": 6,
    "start_time": "2022-03-20T09:15:51.786Z"
   },
   {
    "duration": 480,
    "start_time": "2022-03-20T09:15:51.795Z"
   },
   {
    "duration": 289,
    "start_time": "2022-03-20T09:15:52.277Z"
   },
   {
    "duration": 22,
    "start_time": "2022-03-20T09:15:52.568Z"
   },
   {
    "duration": 31,
    "start_time": "2022-03-20T09:15:52.592Z"
   },
   {
    "duration": 15,
    "start_time": "2022-03-20T09:15:52.625Z"
   },
   {
    "duration": 44,
    "start_time": "2022-03-20T09:15:52.642Z"
   },
   {
    "duration": 15,
    "start_time": "2022-03-20T09:15:52.688Z"
   },
   {
    "duration": 34,
    "start_time": "2022-03-20T09:15:52.705Z"
   },
   {
    "duration": 45,
    "start_time": "2022-03-20T09:15:52.741Z"
   },
   {
    "duration": 482,
    "start_time": "2022-03-20T09:15:52.788Z"
   },
   {
    "duration": 457,
    "start_time": "2022-03-20T09:15:53.272Z"
   },
   {
    "duration": 12,
    "start_time": "2022-03-20T09:17:41.274Z"
   },
   {
    "duration": 5,
    "start_time": "2022-03-20T09:19:55.678Z"
   },
   {
    "duration": 129,
    "start_time": "2022-03-20T09:20:20.137Z"
   },
   {
    "duration": 140,
    "start_time": "2022-03-20T09:20:23.644Z"
   },
   {
    "duration": 287,
    "start_time": "2022-03-20T09:24:15.019Z"
   },
   {
    "duration": 299,
    "start_time": "2022-03-20T09:24:58.936Z"
   },
   {
    "duration": 289,
    "start_time": "2022-03-20T09:25:11.419Z"
   },
   {
    "duration": 579,
    "start_time": "2022-03-20T09:25:32.208Z"
   },
   {
    "duration": 882,
    "start_time": "2022-03-20T09:26:21.882Z"
   },
   {
    "duration": 613,
    "start_time": "2022-03-20T09:26:50.272Z"
   },
   {
    "duration": 891,
    "start_time": "2022-03-20T09:27:16.732Z"
   },
   {
    "duration": 592,
    "start_time": "2022-03-20T09:34:01.625Z"
   },
   {
    "duration": 128,
    "start_time": "2022-03-20T09:34:51.500Z"
   },
   {
    "duration": 127,
    "start_time": "2022-03-20T09:35:09.414Z"
   },
   {
    "duration": 21,
    "start_time": "2022-03-20T09:35:18.792Z"
   },
   {
    "duration": 17,
    "start_time": "2022-03-20T09:35:48.251Z"
   },
   {
    "duration": 21,
    "start_time": "2022-03-20T09:35:57.832Z"
   },
   {
    "duration": 18,
    "start_time": "2022-03-20T09:36:16.485Z"
   },
   {
    "duration": 1560,
    "start_time": "2022-03-20T09:36:42.475Z"
   },
   {
    "duration": 48,
    "start_time": "2022-03-20T09:36:44.038Z"
   },
   {
    "duration": 5,
    "start_time": "2022-03-20T09:36:44.088Z"
   },
   {
    "duration": 58,
    "start_time": "2022-03-20T09:36:44.096Z"
   },
   {
    "duration": 28,
    "start_time": "2022-03-20T09:36:44.157Z"
   },
   {
    "duration": 4,
    "start_time": "2022-03-20T09:36:44.187Z"
   },
   {
    "duration": 14,
    "start_time": "2022-03-20T09:36:44.193Z"
   },
   {
    "duration": 78,
    "start_time": "2022-03-20T09:36:44.209Z"
   },
   {
    "duration": 51,
    "start_time": "2022-03-20T09:36:44.289Z"
   },
   {
    "duration": 40,
    "start_time": "2022-03-20T09:36:44.345Z"
   },
   {
    "duration": 27,
    "start_time": "2022-03-20T09:36:44.387Z"
   },
   {
    "duration": 68,
    "start_time": "2022-03-20T09:36:44.416Z"
   },
   {
    "duration": 33,
    "start_time": "2022-03-20T09:36:44.486Z"
   },
   {
    "duration": 7,
    "start_time": "2022-03-20T09:36:44.521Z"
   },
   {
    "duration": 638,
    "start_time": "2022-03-20T09:36:44.530Z"
   },
   {
    "duration": 12,
    "start_time": "2022-03-20T09:36:45.183Z"
   },
   {
    "duration": 48,
    "start_time": "2022-03-20T09:36:45.198Z"
   },
   {
    "duration": 21,
    "start_time": "2022-03-20T09:36:45.248Z"
   },
   {
    "duration": 302,
    "start_time": "2022-03-20T09:36:45.271Z"
   },
   {
    "duration": 230,
    "start_time": "2022-03-20T09:36:45.575Z"
   },
   {
    "duration": 15,
    "start_time": "2022-03-20T09:36:45.807Z"
   },
   {
    "duration": 537,
    "start_time": "2022-03-20T09:36:45.825Z"
   },
   {
    "duration": 370,
    "start_time": "2022-03-20T09:36:46.365Z"
   },
   {
    "duration": 499,
    "start_time": "2022-03-20T09:36:46.737Z"
   },
   {
    "duration": 475,
    "start_time": "2022-03-20T09:36:47.238Z"
   },
   {
    "duration": 518,
    "start_time": "2022-03-20T09:36:47.716Z"
   },
   {
    "duration": 300,
    "start_time": "2022-03-20T09:36:48.236Z"
   },
   {
    "duration": 231,
    "start_time": "2022-03-20T09:36:48.541Z"
   },
   {
    "duration": 13,
    "start_time": "2022-03-20T09:36:48.774Z"
   },
   {
    "duration": 280,
    "start_time": "2022-03-20T09:36:48.790Z"
   },
   {
    "duration": 14,
    "start_time": "2022-03-20T09:36:49.072Z"
   },
   {
    "duration": 495,
    "start_time": "2022-03-20T09:36:49.089Z"
   },
   {
    "duration": 319,
    "start_time": "2022-03-20T09:36:49.586Z"
   },
   {
    "duration": 10,
    "start_time": "2022-03-20T09:36:49.907Z"
   },
   {
    "duration": 34,
    "start_time": "2022-03-20T09:36:49.920Z"
   },
   {
    "duration": 35,
    "start_time": "2022-03-20T09:36:49.956Z"
   },
   {
    "duration": 14,
    "start_time": "2022-03-20T09:36:49.994Z"
   },
   {
    "duration": 17,
    "start_time": "2022-03-20T09:36:50.010Z"
   },
   {
    "duration": 56,
    "start_time": "2022-03-20T09:36:50.030Z"
   },
   {
    "duration": 21,
    "start_time": "2022-03-20T09:36:50.088Z"
   },
   {
    "duration": 502,
    "start_time": "2022-03-20T09:36:50.111Z"
   },
   {
    "duration": 440,
    "start_time": "2022-03-20T09:36:50.615Z"
   },
   {
    "duration": 594,
    "start_time": "2022-03-20T09:37:05.867Z"
   },
   {
    "duration": 147,
    "start_time": "2022-03-20T09:37:10.574Z"
   },
   {
    "duration": 20,
    "start_time": "2022-03-20T09:37:21.834Z"
   },
   {
    "duration": 18,
    "start_time": "2022-03-20T09:37:40.890Z"
   },
   {
    "duration": 18,
    "start_time": "2022-03-20T09:38:04.608Z"
   },
   {
    "duration": 1468,
    "start_time": "2022-03-20T09:38:14.228Z"
   },
   {
    "duration": 41,
    "start_time": "2022-03-20T09:38:15.699Z"
   },
   {
    "duration": 4,
    "start_time": "2022-03-20T09:38:15.743Z"
   },
   {
    "duration": 66,
    "start_time": "2022-03-20T09:38:15.749Z"
   },
   {
    "duration": 5,
    "start_time": "2022-03-20T09:38:15.818Z"
   },
   {
    "duration": 8,
    "start_time": "2022-03-20T09:38:15.826Z"
   },
   {
    "duration": 8,
    "start_time": "2022-03-20T09:38:15.836Z"
   },
   {
    "duration": 74,
    "start_time": "2022-03-20T09:38:15.846Z"
   },
   {
    "duration": 74,
    "start_time": "2022-03-20T09:38:15.922Z"
   },
   {
    "duration": 5,
    "start_time": "2022-03-20T09:38:15.998Z"
   },
   {
    "duration": 22,
    "start_time": "2022-03-20T09:38:16.004Z"
   },
   {
    "duration": 78,
    "start_time": "2022-03-20T09:38:16.028Z"
   },
   {
    "duration": 33,
    "start_time": "2022-03-20T09:38:16.108Z"
   },
   {
    "duration": 38,
    "start_time": "2022-03-20T09:38:16.146Z"
   },
   {
    "duration": 601,
    "start_time": "2022-03-20T09:38:16.186Z"
   },
   {
    "duration": 12,
    "start_time": "2022-03-20T09:38:16.789Z"
   },
   {
    "duration": 12,
    "start_time": "2022-03-20T09:38:16.803Z"
   },
   {
    "duration": 179,
    "start_time": "2022-03-20T09:38:16.818Z"
   },
   {
    "duration": 0,
    "start_time": "2022-03-20T09:38:17.000Z"
   },
   {
    "duration": 0,
    "start_time": "2022-03-20T09:38:17.001Z"
   },
   {
    "duration": 0,
    "start_time": "2022-03-20T09:38:17.002Z"
   },
   {
    "duration": 0,
    "start_time": "2022-03-20T09:38:17.004Z"
   },
   {
    "duration": 0,
    "start_time": "2022-03-20T09:38:17.005Z"
   },
   {
    "duration": 0,
    "start_time": "2022-03-20T09:38:17.006Z"
   },
   {
    "duration": 0,
    "start_time": "2022-03-20T09:38:17.008Z"
   },
   {
    "duration": 0,
    "start_time": "2022-03-20T09:38:17.009Z"
   },
   {
    "duration": 0,
    "start_time": "2022-03-20T09:38:17.010Z"
   },
   {
    "duration": 0,
    "start_time": "2022-03-20T09:38:17.012Z"
   },
   {
    "duration": 0,
    "start_time": "2022-03-20T09:38:17.013Z"
   },
   {
    "duration": 0,
    "start_time": "2022-03-20T09:38:17.014Z"
   },
   {
    "duration": 0,
    "start_time": "2022-03-20T09:38:17.015Z"
   },
   {
    "duration": 0,
    "start_time": "2022-03-20T09:38:17.017Z"
   },
   {
    "duration": 0,
    "start_time": "2022-03-20T09:38:17.018Z"
   },
   {
    "duration": 0,
    "start_time": "2022-03-20T09:38:17.020Z"
   },
   {
    "duration": 0,
    "start_time": "2022-03-20T09:38:17.021Z"
   },
   {
    "duration": 0,
    "start_time": "2022-03-20T09:38:17.023Z"
   },
   {
    "duration": 0,
    "start_time": "2022-03-20T09:38:17.024Z"
   },
   {
    "duration": 0,
    "start_time": "2022-03-20T09:38:17.026Z"
   },
   {
    "duration": 0,
    "start_time": "2022-03-20T09:38:17.027Z"
   },
   {
    "duration": 0,
    "start_time": "2022-03-20T09:38:17.028Z"
   },
   {
    "duration": 0,
    "start_time": "2022-03-20T09:38:17.030Z"
   },
   {
    "duration": 0,
    "start_time": "2022-03-20T09:38:17.031Z"
   },
   {
    "duration": 1512,
    "start_time": "2022-03-20T09:41:09.603Z"
   },
   {
    "duration": 46,
    "start_time": "2022-03-20T09:41:11.118Z"
   },
   {
    "duration": 4,
    "start_time": "2022-03-20T09:41:11.167Z"
   },
   {
    "duration": 63,
    "start_time": "2022-03-20T09:41:11.174Z"
   },
   {
    "duration": 6,
    "start_time": "2022-03-20T09:41:11.239Z"
   },
   {
    "duration": 6,
    "start_time": "2022-03-20T09:41:11.247Z"
   },
   {
    "duration": 29,
    "start_time": "2022-03-20T09:41:11.255Z"
   },
   {
    "duration": 50,
    "start_time": "2022-03-20T09:41:11.287Z"
   },
   {
    "duration": 75,
    "start_time": "2022-03-20T09:41:11.339Z"
   },
   {
    "duration": 5,
    "start_time": "2022-03-20T09:41:11.418Z"
   },
   {
    "duration": 26,
    "start_time": "2022-03-20T09:41:11.425Z"
   },
   {
    "duration": 78,
    "start_time": "2022-03-20T09:41:11.453Z"
   },
   {
    "duration": 55,
    "start_time": "2022-03-20T09:41:11.533Z"
   },
   {
    "duration": 7,
    "start_time": "2022-03-20T09:41:11.590Z"
   },
   {
    "duration": 710,
    "start_time": "2022-03-20T09:41:11.599Z"
   },
   {
    "duration": 0,
    "start_time": "2022-03-20T09:41:12.312Z"
   },
   {
    "duration": 0,
    "start_time": "2022-03-20T09:41:12.314Z"
   },
   {
    "duration": 0,
    "start_time": "2022-03-20T09:41:12.315Z"
   },
   {
    "duration": 0,
    "start_time": "2022-03-20T09:41:12.317Z"
   },
   {
    "duration": 0,
    "start_time": "2022-03-20T09:41:12.318Z"
   },
   {
    "duration": 0,
    "start_time": "2022-03-20T09:41:12.320Z"
   },
   {
    "duration": 0,
    "start_time": "2022-03-20T09:41:12.321Z"
   },
   {
    "duration": 0,
    "start_time": "2022-03-20T09:41:12.323Z"
   },
   {
    "duration": 0,
    "start_time": "2022-03-20T09:41:12.324Z"
   },
   {
    "duration": 0,
    "start_time": "2022-03-20T09:41:12.326Z"
   },
   {
    "duration": 0,
    "start_time": "2022-03-20T09:41:12.327Z"
   },
   {
    "duration": 0,
    "start_time": "2022-03-20T09:41:12.329Z"
   },
   {
    "duration": 0,
    "start_time": "2022-03-20T09:41:12.330Z"
   },
   {
    "duration": 0,
    "start_time": "2022-03-20T09:41:12.332Z"
   },
   {
    "duration": 0,
    "start_time": "2022-03-20T09:41:12.333Z"
   },
   {
    "duration": 0,
    "start_time": "2022-03-20T09:41:12.335Z"
   },
   {
    "duration": 0,
    "start_time": "2022-03-20T09:41:12.336Z"
   },
   {
    "duration": 0,
    "start_time": "2022-03-20T09:41:12.338Z"
   },
   {
    "duration": 0,
    "start_time": "2022-03-20T09:41:12.340Z"
   },
   {
    "duration": 0,
    "start_time": "2022-03-20T09:41:12.342Z"
   },
   {
    "duration": 0,
    "start_time": "2022-03-20T09:41:12.343Z"
   },
   {
    "duration": 0,
    "start_time": "2022-03-20T09:41:12.345Z"
   },
   {
    "duration": 0,
    "start_time": "2022-03-20T09:41:12.347Z"
   },
   {
    "duration": 0,
    "start_time": "2022-03-20T09:41:12.384Z"
   },
   {
    "duration": 0,
    "start_time": "2022-03-20T09:41:12.385Z"
   },
   {
    "duration": 0,
    "start_time": "2022-03-20T09:41:12.387Z"
   },
   {
    "duration": 0,
    "start_time": "2022-03-20T09:41:12.391Z"
   },
   {
    "duration": 631,
    "start_time": "2022-03-20T09:42:34.592Z"
   },
   {
    "duration": 2438,
    "start_time": "2022-03-20T09:45:13.017Z"
   },
   {
    "duration": 2425,
    "start_time": "2022-03-20T09:45:30.866Z"
   },
   {
    "duration": 2598,
    "start_time": "2022-03-20T09:46:14.815Z"
   },
   {
    "duration": 1510,
    "start_time": "2022-03-20T09:46:28.297Z"
   },
   {
    "duration": 42,
    "start_time": "2022-03-20T09:46:29.809Z"
   },
   {
    "duration": 4,
    "start_time": "2022-03-20T09:46:29.853Z"
   },
   {
    "duration": 58,
    "start_time": "2022-03-20T09:46:29.860Z"
   },
   {
    "duration": 7,
    "start_time": "2022-03-20T09:46:29.921Z"
   },
   {
    "duration": 8,
    "start_time": "2022-03-20T09:46:29.930Z"
   },
   {
    "duration": 15,
    "start_time": "2022-03-20T09:46:29.941Z"
   },
   {
    "duration": 68,
    "start_time": "2022-03-20T09:46:29.958Z"
   },
   {
    "duration": 72,
    "start_time": "2022-03-20T09:46:30.028Z"
   },
   {
    "duration": 4,
    "start_time": "2022-03-20T09:46:30.103Z"
   },
   {
    "duration": 24,
    "start_time": "2022-03-20T09:46:30.110Z"
   },
   {
    "duration": 79,
    "start_time": "2022-03-20T09:46:30.137Z"
   },
   {
    "duration": 69,
    "start_time": "2022-03-20T09:46:30.218Z"
   },
   {
    "duration": 6,
    "start_time": "2022-03-20T09:46:30.291Z"
   },
   {
    "duration": 3087,
    "start_time": "2022-03-20T09:46:30.300Z"
   },
   {
    "duration": 0,
    "start_time": "2022-03-20T09:46:33.390Z"
   },
   {
    "duration": 0,
    "start_time": "2022-03-20T09:46:33.391Z"
   },
   {
    "duration": 0,
    "start_time": "2022-03-20T09:46:33.393Z"
   },
   {
    "duration": 0,
    "start_time": "2022-03-20T09:46:33.395Z"
   },
   {
    "duration": 0,
    "start_time": "2022-03-20T09:46:33.396Z"
   },
   {
    "duration": 0,
    "start_time": "2022-03-20T09:46:33.398Z"
   },
   {
    "duration": 0,
    "start_time": "2022-03-20T09:46:33.400Z"
   },
   {
    "duration": 0,
    "start_time": "2022-03-20T09:46:33.401Z"
   },
   {
    "duration": 0,
    "start_time": "2022-03-20T09:46:33.403Z"
   },
   {
    "duration": 0,
    "start_time": "2022-03-20T09:46:33.405Z"
   },
   {
    "duration": 0,
    "start_time": "2022-03-20T09:46:33.406Z"
   },
   {
    "duration": 0,
    "start_time": "2022-03-20T09:46:33.409Z"
   },
   {
    "duration": 0,
    "start_time": "2022-03-20T09:46:33.411Z"
   },
   {
    "duration": 0,
    "start_time": "2022-03-20T09:46:33.412Z"
   },
   {
    "duration": 0,
    "start_time": "2022-03-20T09:46:33.414Z"
   },
   {
    "duration": 0,
    "start_time": "2022-03-20T09:46:33.416Z"
   },
   {
    "duration": 0,
    "start_time": "2022-03-20T09:46:33.417Z"
   },
   {
    "duration": 0,
    "start_time": "2022-03-20T09:46:33.419Z"
   },
   {
    "duration": 0,
    "start_time": "2022-03-20T09:46:33.420Z"
   },
   {
    "duration": 0,
    "start_time": "2022-03-20T09:46:33.422Z"
   },
   {
    "duration": 0,
    "start_time": "2022-03-20T09:46:33.425Z"
   },
   {
    "duration": 0,
    "start_time": "2022-03-20T09:46:33.484Z"
   },
   {
    "duration": 0,
    "start_time": "2022-03-20T09:46:33.486Z"
   },
   {
    "duration": 0,
    "start_time": "2022-03-20T09:46:33.487Z"
   },
   {
    "duration": 0,
    "start_time": "2022-03-20T09:46:33.489Z"
   },
   {
    "duration": 0,
    "start_time": "2022-03-20T09:46:33.491Z"
   },
   {
    "duration": 0,
    "start_time": "2022-03-20T09:46:33.493Z"
   },
   {
    "duration": 594,
    "start_time": "2022-03-20T09:47:04.302Z"
   },
   {
    "duration": 613,
    "start_time": "2022-03-20T09:47:35.714Z"
   },
   {
    "duration": 657,
    "start_time": "2022-03-20T09:47:42.764Z"
   },
   {
    "duration": 582,
    "start_time": "2022-03-20T09:47:51.211Z"
   },
   {
    "duration": 20,
    "start_time": "2022-03-20T09:48:02.146Z"
   },
   {
    "duration": 20,
    "start_time": "2022-03-20T09:48:24.396Z"
   },
   {
    "duration": 23,
    "start_time": "2022-03-20T09:48:33.115Z"
   },
   {
    "duration": 1581,
    "start_time": "2022-03-20T09:48:38.839Z"
   },
   {
    "duration": 49,
    "start_time": "2022-03-20T09:48:40.424Z"
   },
   {
    "duration": 6,
    "start_time": "2022-03-20T09:48:40.475Z"
   },
   {
    "duration": 75,
    "start_time": "2022-03-20T09:48:40.485Z"
   },
   {
    "duration": 24,
    "start_time": "2022-03-20T09:48:40.562Z"
   },
   {
    "duration": 15,
    "start_time": "2022-03-20T09:48:40.588Z"
   },
   {
    "duration": 27,
    "start_time": "2022-03-20T09:48:40.605Z"
   },
   {
    "duration": 56,
    "start_time": "2022-03-20T09:48:40.635Z"
   },
   {
    "duration": 47,
    "start_time": "2022-03-20T09:48:40.694Z"
   },
   {
    "duration": 39,
    "start_time": "2022-03-20T09:48:40.745Z"
   },
   {
    "duration": 21,
    "start_time": "2022-03-20T09:48:40.786Z"
   },
   {
    "duration": 57,
    "start_time": "2022-03-20T09:48:40.809Z"
   },
   {
    "duration": 37,
    "start_time": "2022-03-20T09:48:40.885Z"
   },
   {
    "duration": 7,
    "start_time": "2022-03-20T09:48:40.924Z"
   },
   {
    "duration": 626,
    "start_time": "2022-03-20T09:48:40.934Z"
   },
   {
    "duration": 25,
    "start_time": "2022-03-20T09:48:41.563Z"
   },
   {
    "duration": 14,
    "start_time": "2022-03-20T09:48:41.590Z"
   },
   {
    "duration": 15,
    "start_time": "2022-03-20T09:48:41.606Z"
   },
   {
    "duration": 308,
    "start_time": "2022-03-20T09:48:41.623Z"
   },
   {
    "duration": 231,
    "start_time": "2022-03-20T09:48:41.933Z"
   },
   {
    "duration": 17,
    "start_time": "2022-03-20T09:48:42.183Z"
   },
   {
    "duration": 495,
    "start_time": "2022-03-20T09:48:42.202Z"
   },
   {
    "duration": 344,
    "start_time": "2022-03-20T09:48:42.699Z"
   },
   {
    "duration": 468,
    "start_time": "2022-03-20T09:48:43.045Z"
   },
   {
    "duration": 388,
    "start_time": "2022-03-20T09:48:43.515Z"
   },
   {
    "duration": 460,
    "start_time": "2022-03-20T09:48:43.905Z"
   },
   {
    "duration": 352,
    "start_time": "2022-03-20T09:48:44.367Z"
   },
   {
    "duration": 228,
    "start_time": "2022-03-20T09:48:44.726Z"
   },
   {
    "duration": 7,
    "start_time": "2022-03-20T09:48:44.956Z"
   },
   {
    "duration": 264,
    "start_time": "2022-03-20T09:48:44.984Z"
   },
   {
    "duration": 6,
    "start_time": "2022-03-20T09:48:45.250Z"
   },
   {
    "duration": 487,
    "start_time": "2022-03-20T09:48:45.258Z"
   },
   {
    "duration": 309,
    "start_time": "2022-03-20T09:48:45.748Z"
   },
   {
    "duration": 11,
    "start_time": "2022-03-20T09:48:46.059Z"
   },
   {
    "duration": 31,
    "start_time": "2022-03-20T09:48:46.084Z"
   },
   {
    "duration": 18,
    "start_time": "2022-03-20T09:48:46.117Z"
   },
   {
    "duration": 53,
    "start_time": "2022-03-20T09:48:46.137Z"
   },
   {
    "duration": 16,
    "start_time": "2022-03-20T09:48:46.193Z"
   },
   {
    "duration": 29,
    "start_time": "2022-03-20T09:48:46.212Z"
   },
   {
    "duration": 52,
    "start_time": "2022-03-20T09:48:46.243Z"
   },
   {
    "duration": 455,
    "start_time": "2022-03-20T09:48:46.297Z"
   },
   {
    "duration": 458,
    "start_time": "2022-03-20T09:48:46.754Z"
   },
   {
    "duration": 578,
    "start_time": "2022-03-20T09:49:08.026Z"
   },
   {
    "duration": 576,
    "start_time": "2022-03-20T09:49:26.630Z"
   },
   {
    "duration": 942,
    "start_time": "2022-03-20T09:49:47.895Z"
   },
   {
    "duration": 623,
    "start_time": "2022-03-20T09:50:31.709Z"
   },
   {
    "duration": 628,
    "start_time": "2022-03-20T09:50:42.832Z"
   },
   {
    "duration": 120,
    "start_time": "2022-03-20T09:50:52.217Z"
   },
   {
    "duration": 150,
    "start_time": "2022-03-20T09:57:04.443Z"
   },
   {
    "duration": 126,
    "start_time": "2022-03-20T09:57:12.299Z"
   },
   {
    "duration": 247,
    "start_time": "2022-03-20T09:57:24.094Z"
   },
   {
    "duration": 57,
    "start_time": "2022-03-20T09:58:44.807Z"
   },
   {
    "duration": 21,
    "start_time": "2022-03-20T09:58:58.356Z"
   },
   {
    "duration": 19,
    "start_time": "2022-03-20T09:59:03.594Z"
   },
   {
    "duration": 1491,
    "start_time": "2022-03-20T09:59:13.407Z"
   },
   {
    "duration": 40,
    "start_time": "2022-03-20T09:59:14.901Z"
   },
   {
    "duration": 5,
    "start_time": "2022-03-20T09:59:14.944Z"
   },
   {
    "duration": 76,
    "start_time": "2022-03-20T09:59:14.952Z"
   },
   {
    "duration": 5,
    "start_time": "2022-03-20T09:59:15.030Z"
   },
   {
    "duration": 26,
    "start_time": "2022-03-20T09:59:15.037Z"
   },
   {
    "duration": 22,
    "start_time": "2022-03-20T09:59:15.065Z"
   },
   {
    "duration": 92,
    "start_time": "2022-03-20T09:59:15.090Z"
   },
   {
    "duration": 50,
    "start_time": "2022-03-20T09:59:15.184Z"
   },
   {
    "duration": 5,
    "start_time": "2022-03-20T09:59:15.237Z"
   },
   {
    "duration": 50,
    "start_time": "2022-03-20T09:59:15.244Z"
   },
   {
    "duration": 48,
    "start_time": "2022-03-20T09:59:15.296Z"
   },
   {
    "duration": 65,
    "start_time": "2022-03-20T09:59:15.346Z"
   },
   {
    "duration": 6,
    "start_time": "2022-03-20T09:59:15.413Z"
   },
   {
    "duration": 627,
    "start_time": "2022-03-20T09:59:15.421Z"
   },
   {
    "duration": 147,
    "start_time": "2022-03-20T10:00:00.697Z"
   },
   {
    "duration": 7,
    "start_time": "2022-03-20T10:00:10.845Z"
   },
   {
    "duration": 52,
    "start_time": "2022-03-20T10:00:10.855Z"
   },
   {
    "duration": 5,
    "start_time": "2022-03-20T10:00:10.910Z"
   },
   {
    "duration": 58,
    "start_time": "2022-03-20T10:00:10.917Z"
   },
   {
    "duration": 7,
    "start_time": "2022-03-20T10:00:10.978Z"
   },
   {
    "duration": 7,
    "start_time": "2022-03-20T10:00:10.987Z"
   },
   {
    "duration": 9,
    "start_time": "2022-03-20T10:00:10.996Z"
   },
   {
    "duration": 80,
    "start_time": "2022-03-20T10:00:11.008Z"
   },
   {
    "duration": 46,
    "start_time": "2022-03-20T10:00:11.090Z"
   },
   {
    "duration": 5,
    "start_time": "2022-03-20T10:00:11.138Z"
   },
   {
    "duration": 50,
    "start_time": "2022-03-20T10:00:11.145Z"
   },
   {
    "duration": 52,
    "start_time": "2022-03-20T10:00:11.198Z"
   },
   {
    "duration": 61,
    "start_time": "2022-03-20T10:00:11.253Z"
   },
   {
    "duration": 6,
    "start_time": "2022-03-20T10:00:11.316Z"
   },
   {
    "duration": 670,
    "start_time": "2022-03-20T10:00:11.324Z"
   },
   {
    "duration": 650,
    "start_time": "2022-03-20T10:09:00.959Z"
   },
   {
    "duration": 598,
    "start_time": "2022-03-20T10:09:24.620Z"
   },
   {
    "duration": 6,
    "start_time": "2022-03-20T10:09:45.587Z"
   },
   {
    "duration": 53,
    "start_time": "2022-03-20T10:09:45.596Z"
   },
   {
    "duration": 5,
    "start_time": "2022-03-20T10:09:45.651Z"
   },
   {
    "duration": 74,
    "start_time": "2022-03-20T10:09:45.659Z"
   },
   {
    "duration": 6,
    "start_time": "2022-03-20T10:09:45.736Z"
   },
   {
    "duration": 7,
    "start_time": "2022-03-20T10:09:45.745Z"
   },
   {
    "duration": 30,
    "start_time": "2022-03-20T10:09:45.754Z"
   },
   {
    "duration": 52,
    "start_time": "2022-03-20T10:09:45.788Z"
   },
   {
    "duration": 82,
    "start_time": "2022-03-20T10:09:45.845Z"
   },
   {
    "duration": 4,
    "start_time": "2022-03-20T10:09:45.930Z"
   },
   {
    "duration": 30,
    "start_time": "2022-03-20T10:09:45.936Z"
   },
   {
    "duration": 62,
    "start_time": "2022-03-20T10:09:45.968Z"
   },
   {
    "duration": 68,
    "start_time": "2022-03-20T10:09:46.033Z"
   },
   {
    "duration": 6,
    "start_time": "2022-03-20T10:09:46.103Z"
   },
   {
    "duration": 759,
    "start_time": "2022-03-20T10:09:46.112Z"
   },
   {
    "duration": 1563,
    "start_time": "2022-03-20T10:12:25.475Z"
   },
   {
    "duration": 42,
    "start_time": "2022-03-20T10:12:27.041Z"
   },
   {
    "duration": 4,
    "start_time": "2022-03-20T10:12:27.085Z"
   },
   {
    "duration": 65,
    "start_time": "2022-03-20T10:12:27.091Z"
   },
   {
    "duration": 6,
    "start_time": "2022-03-20T10:12:27.183Z"
   },
   {
    "duration": 14,
    "start_time": "2022-03-20T10:12:27.191Z"
   },
   {
    "duration": 9,
    "start_time": "2022-03-20T10:12:27.208Z"
   },
   {
    "duration": 69,
    "start_time": "2022-03-20T10:12:27.219Z"
   },
   {
    "duration": 47,
    "start_time": "2022-03-20T10:12:27.290Z"
   },
   {
    "duration": 5,
    "start_time": "2022-03-20T10:12:27.339Z"
   },
   {
    "duration": 57,
    "start_time": "2022-03-20T10:12:27.346Z"
   },
   {
    "duration": 51,
    "start_time": "2022-03-20T10:12:27.405Z"
   },
   {
    "duration": 59,
    "start_time": "2022-03-20T10:12:27.458Z"
   },
   {
    "duration": 6,
    "start_time": "2022-03-20T10:12:27.520Z"
   },
   {
    "duration": 593,
    "start_time": "2022-03-20T10:12:36.963Z"
   },
   {
    "duration": 582,
    "start_time": "2022-03-20T10:12:56.780Z"
   },
   {
    "duration": 574,
    "start_time": "2022-03-20T10:13:38.288Z"
   },
   {
    "duration": 596,
    "start_time": "2022-03-20T10:14:27.361Z"
   },
   {
    "duration": 715,
    "start_time": "2022-03-20T10:15:09.132Z"
   },
   {
    "duration": 578,
    "start_time": "2022-03-20T10:15:14.642Z"
   },
   {
    "duration": 808,
    "start_time": "2022-03-20T10:15:24.056Z"
   },
   {
    "duration": 276,
    "start_time": "2022-03-20T10:15:42.429Z"
   },
   {
    "duration": 6,
    "start_time": "2022-03-20T10:15:46.367Z"
   },
   {
    "duration": 45,
    "start_time": "2022-03-20T10:15:46.376Z"
   },
   {
    "duration": 5,
    "start_time": "2022-03-20T10:15:46.423Z"
   },
   {
    "duration": 54,
    "start_time": "2022-03-20T10:15:46.431Z"
   },
   {
    "duration": 6,
    "start_time": "2022-03-20T10:15:46.487Z"
   },
   {
    "duration": 7,
    "start_time": "2022-03-20T10:15:46.496Z"
   },
   {
    "duration": 10,
    "start_time": "2022-03-20T10:15:46.505Z"
   },
   {
    "duration": 78,
    "start_time": "2022-03-20T10:15:46.517Z"
   },
   {
    "duration": 49,
    "start_time": "2022-03-20T10:15:46.598Z"
   },
   {
    "duration": 35,
    "start_time": "2022-03-20T10:15:46.649Z"
   },
   {
    "duration": 20,
    "start_time": "2022-03-20T10:15:46.688Z"
   },
   {
    "duration": 82,
    "start_time": "2022-03-20T10:15:46.711Z"
   },
   {
    "duration": 37,
    "start_time": "2022-03-20T10:15:46.795Z"
   },
   {
    "duration": 7,
    "start_time": "2022-03-20T10:15:46.835Z"
   },
   {
    "duration": 620,
    "start_time": "2022-03-20T10:15:46.883Z"
   },
   {
    "duration": 289,
    "start_time": "2022-03-20T10:15:47.505Z"
   },
   {
    "duration": 23,
    "start_time": "2022-03-20T10:39:41.975Z"
   },
   {
    "duration": 20,
    "start_time": "2022-03-20T10:40:07.073Z"
   },
   {
    "duration": 20,
    "start_time": "2022-03-20T10:40:18.600Z"
   },
   {
    "duration": 1508,
    "start_time": "2022-03-20T10:41:06.805Z"
   },
   {
    "duration": 42,
    "start_time": "2022-03-20T10:41:08.315Z"
   },
   {
    "duration": 5,
    "start_time": "2022-03-20T10:41:08.359Z"
   },
   {
    "duration": 65,
    "start_time": "2022-03-20T10:41:08.366Z"
   },
   {
    "duration": 6,
    "start_time": "2022-03-20T10:41:08.434Z"
   },
   {
    "duration": 6,
    "start_time": "2022-03-20T10:41:08.442Z"
   },
   {
    "duration": 34,
    "start_time": "2022-03-20T10:41:08.450Z"
   },
   {
    "duration": 54,
    "start_time": "2022-03-20T10:41:08.486Z"
   },
   {
    "duration": 70,
    "start_time": "2022-03-20T10:41:08.542Z"
   },
   {
    "duration": 5,
    "start_time": "2022-03-20T10:41:08.614Z"
   },
   {
    "duration": 71,
    "start_time": "2022-03-20T10:41:08.621Z"
   },
   {
    "duration": 79,
    "start_time": "2022-03-20T10:41:08.694Z"
   },
   {
    "duration": 35,
    "start_time": "2022-03-20T10:41:08.776Z"
   },
   {
    "duration": 6,
    "start_time": "2022-03-20T10:41:08.814Z"
   },
   {
    "duration": 636,
    "start_time": "2022-03-20T10:41:08.822Z"
   },
   {
    "duration": 275,
    "start_time": "2022-03-20T10:41:09.460Z"
   },
   {
    "duration": 13,
    "start_time": "2022-03-20T10:41:09.737Z"
   },
   {
    "duration": 15,
    "start_time": "2022-03-20T10:41:12.628Z"
   },
   {
    "duration": 2425,
    "start_time": "2022-03-20T10:41:42.497Z"
   },
   {
    "duration": 14,
    "start_time": "2022-03-20T10:42:28.785Z"
   },
   {
    "duration": 28,
    "start_time": "2022-03-20T10:42:44.584Z"
   },
   {
    "duration": 15,
    "start_time": "2022-03-20T10:43:59.000Z"
   },
   {
    "duration": 158,
    "start_time": "2022-03-20T10:55:20.679Z"
   },
   {
    "duration": 118,
    "start_time": "2022-03-20T10:55:28.884Z"
   },
   {
    "duration": 15,
    "start_time": "2022-03-20T10:55:49.818Z"
   },
   {
    "duration": 259,
    "start_time": "2022-03-20T10:56:09.880Z"
   },
   {
    "duration": 362,
    "start_time": "2022-03-20T10:56:16.542Z"
   },
   {
    "duration": 17,
    "start_time": "2022-03-20T11:05:02.617Z"
   },
   {
    "duration": 98,
    "start_time": "2022-03-20T11:05:34.933Z"
   },
   {
    "duration": 27,
    "start_time": "2022-03-20T11:05:51.932Z"
   },
   {
    "duration": 19,
    "start_time": "2022-03-20T11:07:34.419Z"
   },
   {
    "duration": 14,
    "start_time": "2022-03-20T11:08:35.855Z"
   },
   {
    "duration": 222,
    "start_time": "2022-03-20T11:15:33.661Z"
   },
   {
    "duration": 1519,
    "start_time": "2022-03-20T11:15:45.328Z"
   },
   {
    "duration": 43,
    "start_time": "2022-03-20T11:15:46.850Z"
   },
   {
    "duration": 5,
    "start_time": "2022-03-20T11:15:46.895Z"
   },
   {
    "duration": 61,
    "start_time": "2022-03-20T11:15:46.902Z"
   },
   {
    "duration": 18,
    "start_time": "2022-03-20T11:15:46.966Z"
   },
   {
    "duration": 4,
    "start_time": "2022-03-20T11:15:46.986Z"
   },
   {
    "duration": 11,
    "start_time": "2022-03-20T11:15:46.992Z"
   },
   {
    "duration": 65,
    "start_time": "2022-03-20T11:15:47.005Z"
   },
   {
    "duration": 49,
    "start_time": "2022-03-20T11:15:47.085Z"
   },
   {
    "duration": 6,
    "start_time": "2022-03-20T11:15:47.136Z"
   },
   {
    "duration": 55,
    "start_time": "2022-03-20T11:15:47.144Z"
   },
   {
    "duration": 59,
    "start_time": "2022-03-20T11:15:47.201Z"
   },
   {
    "duration": 36,
    "start_time": "2022-03-20T11:15:47.285Z"
   },
   {
    "duration": 6,
    "start_time": "2022-03-20T11:15:47.329Z"
   },
   {
    "duration": 647,
    "start_time": "2022-03-20T11:15:47.337Z"
   },
   {
    "duration": 283,
    "start_time": "2022-03-20T11:15:47.987Z"
   },
   {
    "duration": 17,
    "start_time": "2022-03-20T11:15:48.272Z"
   },
   {
    "duration": 21,
    "start_time": "2022-03-20T11:15:48.291Z"
   },
   {
    "duration": 160,
    "start_time": "2022-03-20T11:15:48.314Z"
   },
   {
    "duration": 1,
    "start_time": "2022-03-20T11:15:48.476Z"
   },
   {
    "duration": 0,
    "start_time": "2022-03-20T11:15:48.478Z"
   },
   {
    "duration": 0,
    "start_time": "2022-03-20T11:15:48.485Z"
   },
   {
    "duration": 0,
    "start_time": "2022-03-20T11:15:48.486Z"
   },
   {
    "duration": 0,
    "start_time": "2022-03-20T11:15:48.488Z"
   },
   {
    "duration": 0,
    "start_time": "2022-03-20T11:15:48.489Z"
   },
   {
    "duration": 0,
    "start_time": "2022-03-20T11:15:48.491Z"
   },
   {
    "duration": 0,
    "start_time": "2022-03-20T11:15:48.493Z"
   },
   {
    "duration": 0,
    "start_time": "2022-03-20T11:15:48.495Z"
   },
   {
    "duration": 0,
    "start_time": "2022-03-20T11:15:48.496Z"
   },
   {
    "duration": 0,
    "start_time": "2022-03-20T11:15:48.498Z"
   },
   {
    "duration": 0,
    "start_time": "2022-03-20T11:15:48.499Z"
   },
   {
    "duration": 0,
    "start_time": "2022-03-20T11:15:48.501Z"
   },
   {
    "duration": 0,
    "start_time": "2022-03-20T11:15:48.504Z"
   },
   {
    "duration": 0,
    "start_time": "2022-03-20T11:15:48.507Z"
   },
   {
    "duration": 0,
    "start_time": "2022-03-20T11:15:48.509Z"
   },
   {
    "duration": 0,
    "start_time": "2022-03-20T11:15:48.511Z"
   },
   {
    "duration": 0,
    "start_time": "2022-03-20T11:15:48.513Z"
   },
   {
    "duration": 0,
    "start_time": "2022-03-20T11:15:48.515Z"
   },
   {
    "duration": 0,
    "start_time": "2022-03-20T11:15:48.516Z"
   },
   {
    "duration": 0,
    "start_time": "2022-03-20T11:15:48.518Z"
   },
   {
    "duration": 0,
    "start_time": "2022-03-20T11:15:48.519Z"
   },
   {
    "duration": 0,
    "start_time": "2022-03-20T11:15:48.521Z"
   },
   {
    "duration": 0,
    "start_time": "2022-03-20T11:15:48.522Z"
   },
   {
    "duration": 0,
    "start_time": "2022-03-20T11:15:48.585Z"
   },
   {
    "duration": 7,
    "start_time": "2022-03-20T11:16:01.152Z"
   },
   {
    "duration": 70,
    "start_time": "2022-03-20T11:16:01.162Z"
   },
   {
    "duration": 4,
    "start_time": "2022-03-20T11:16:01.235Z"
   },
   {
    "duration": 96,
    "start_time": "2022-03-20T11:16:01.242Z"
   },
   {
    "duration": 5,
    "start_time": "2022-03-20T11:16:01.341Z"
   },
   {
    "duration": 21,
    "start_time": "2022-03-20T11:16:01.349Z"
   },
   {
    "duration": 28,
    "start_time": "2022-03-20T11:16:01.384Z"
   },
   {
    "duration": 90,
    "start_time": "2022-03-20T11:16:01.415Z"
   },
   {
    "duration": 74,
    "start_time": "2022-03-20T11:16:01.510Z"
   },
   {
    "duration": 6,
    "start_time": "2022-03-20T11:16:01.587Z"
   },
   {
    "duration": 36,
    "start_time": "2022-03-20T11:16:01.595Z"
   },
   {
    "duration": 77,
    "start_time": "2022-03-20T11:16:01.634Z"
   },
   {
    "duration": 36,
    "start_time": "2022-03-20T11:16:01.714Z"
   },
   {
    "duration": 6,
    "start_time": "2022-03-20T11:16:01.783Z"
   },
   {
    "duration": 639,
    "start_time": "2022-03-20T11:16:01.792Z"
   },
   {
    "duration": 284,
    "start_time": "2022-03-20T11:16:02.433Z"
   },
   {
    "duration": 11,
    "start_time": "2022-03-20T11:16:02.720Z"
   },
   {
    "duration": 26,
    "start_time": "2022-03-20T11:16:02.733Z"
   },
   {
    "duration": 32,
    "start_time": "2022-03-20T11:16:02.761Z"
   },
   {
    "duration": 0,
    "start_time": "2022-03-20T11:16:02.797Z"
   },
   {
    "duration": 0,
    "start_time": "2022-03-20T11:16:02.799Z"
   },
   {
    "duration": 0,
    "start_time": "2022-03-20T11:16:02.801Z"
   },
   {
    "duration": 0,
    "start_time": "2022-03-20T11:16:02.803Z"
   },
   {
    "duration": 0,
    "start_time": "2022-03-20T11:16:02.806Z"
   },
   {
    "duration": 0,
    "start_time": "2022-03-20T11:16:02.808Z"
   },
   {
    "duration": 1,
    "start_time": "2022-03-20T11:16:02.810Z"
   },
   {
    "duration": 0,
    "start_time": "2022-03-20T11:16:02.812Z"
   },
   {
    "duration": 0,
    "start_time": "2022-03-20T11:16:02.814Z"
   },
   {
    "duration": 0,
    "start_time": "2022-03-20T11:16:02.816Z"
   },
   {
    "duration": 0,
    "start_time": "2022-03-20T11:16:02.819Z"
   },
   {
    "duration": 0,
    "start_time": "2022-03-20T11:16:02.821Z"
   },
   {
    "duration": 0,
    "start_time": "2022-03-20T11:16:02.823Z"
   },
   {
    "duration": 0,
    "start_time": "2022-03-20T11:16:02.884Z"
   },
   {
    "duration": 0,
    "start_time": "2022-03-20T11:16:02.886Z"
   },
   {
    "duration": 0,
    "start_time": "2022-03-20T11:16:02.887Z"
   },
   {
    "duration": 0,
    "start_time": "2022-03-20T11:16:02.888Z"
   },
   {
    "duration": 0,
    "start_time": "2022-03-20T11:16:02.889Z"
   },
   {
    "duration": 0,
    "start_time": "2022-03-20T11:16:02.891Z"
   },
   {
    "duration": 0,
    "start_time": "2022-03-20T11:16:02.892Z"
   },
   {
    "duration": 0,
    "start_time": "2022-03-20T11:16:02.894Z"
   },
   {
    "duration": 0,
    "start_time": "2022-03-20T11:16:02.896Z"
   },
   {
    "duration": 0,
    "start_time": "2022-03-20T11:16:02.897Z"
   },
   {
    "duration": 0,
    "start_time": "2022-03-20T11:16:02.899Z"
   },
   {
    "duration": 0,
    "start_time": "2022-03-20T11:16:02.900Z"
   },
   {
    "duration": 7,
    "start_time": "2022-03-20T11:17:15.307Z"
   },
   {
    "duration": 42,
    "start_time": "2022-03-20T11:17:15.318Z"
   },
   {
    "duration": 5,
    "start_time": "2022-03-20T11:17:15.362Z"
   },
   {
    "duration": 49,
    "start_time": "2022-03-20T11:17:15.369Z"
   },
   {
    "duration": 6,
    "start_time": "2022-03-20T11:17:15.420Z"
   },
   {
    "duration": 6,
    "start_time": "2022-03-20T11:17:15.429Z"
   },
   {
    "duration": 8,
    "start_time": "2022-03-20T11:17:15.437Z"
   },
   {
    "duration": 78,
    "start_time": "2022-03-20T11:17:15.448Z"
   },
   {
    "duration": 83,
    "start_time": "2022-03-20T11:17:15.530Z"
   },
   {
    "duration": 4,
    "start_time": "2022-03-20T11:17:15.615Z"
   },
   {
    "duration": 26,
    "start_time": "2022-03-20T11:17:15.621Z"
   },
   {
    "duration": 71,
    "start_time": "2022-03-20T11:17:15.649Z"
   },
   {
    "duration": 63,
    "start_time": "2022-03-20T11:17:15.723Z"
   },
   {
    "duration": 6,
    "start_time": "2022-03-20T11:17:15.789Z"
   },
   {
    "duration": 693,
    "start_time": "2022-03-20T11:17:15.797Z"
   },
   {
    "duration": 288,
    "start_time": "2022-03-20T11:17:16.492Z"
   },
   {
    "duration": 11,
    "start_time": "2022-03-20T11:17:16.783Z"
   },
   {
    "duration": 26,
    "start_time": "2022-03-20T11:17:16.796Z"
   },
   {
    "duration": 8,
    "start_time": "2022-03-20T11:17:16.824Z"
   },
   {
    "duration": 311,
    "start_time": "2022-03-20T11:17:16.834Z"
   },
   {
    "duration": 236,
    "start_time": "2022-03-20T11:17:17.147Z"
   },
   {
    "duration": 15,
    "start_time": "2022-03-20T11:17:17.386Z"
   },
   {
    "duration": 474,
    "start_time": "2022-03-20T11:17:17.403Z"
   },
   {
    "duration": 372,
    "start_time": "2022-03-20T11:17:17.882Z"
   },
   {
    "duration": 492,
    "start_time": "2022-03-20T11:17:18.257Z"
   },
   {
    "duration": 357,
    "start_time": "2022-03-20T11:17:18.752Z"
   },
   {
    "duration": 448,
    "start_time": "2022-03-20T11:17:19.113Z"
   },
   {
    "duration": 274,
    "start_time": "2022-03-20T11:17:19.564Z"
   },
   {
    "duration": 264,
    "start_time": "2022-03-20T11:17:19.841Z"
   },
   {
    "duration": 8,
    "start_time": "2022-03-20T11:17:20.108Z"
   },
   {
    "duration": 361,
    "start_time": "2022-03-20T11:17:20.118Z"
   },
   {
    "duration": 6,
    "start_time": "2022-03-20T11:17:20.484Z"
   },
   {
    "duration": 414,
    "start_time": "2022-03-20T11:17:20.493Z"
   },
   {
    "duration": 310,
    "start_time": "2022-03-20T11:17:20.909Z"
   },
   {
    "duration": 10,
    "start_time": "2022-03-20T11:17:21.221Z"
   },
   {
    "duration": 42,
    "start_time": "2022-03-20T11:17:21.233Z"
   },
   {
    "duration": 16,
    "start_time": "2022-03-20T11:17:21.285Z"
   },
   {
    "duration": 14,
    "start_time": "2022-03-20T11:17:21.303Z"
   },
   {
    "duration": 21,
    "start_time": "2022-03-20T11:17:21.321Z"
   },
   {
    "duration": 61,
    "start_time": "2022-03-20T11:17:21.344Z"
   },
   {
    "duration": 21,
    "start_time": "2022-03-20T11:17:21.408Z"
   },
   {
    "duration": 510,
    "start_time": "2022-03-20T11:17:21.432Z"
   },
   {
    "duration": 452,
    "start_time": "2022-03-20T11:17:21.945Z"
   },
   {
    "duration": 402,
    "start_time": "2022-03-20T11:18:38.946Z"
   },
   {
    "duration": 351,
    "start_time": "2022-03-20T11:19:16.286Z"
   },
   {
    "duration": 363,
    "start_time": "2022-03-20T11:19:29.838Z"
   },
   {
    "duration": 364,
    "start_time": "2022-03-20T11:19:58.679Z"
   },
   {
    "duration": 346,
    "start_time": "2022-03-20T11:20:07.254Z"
   },
   {
    "duration": 331,
    "start_time": "2022-03-20T11:20:55.591Z"
   },
   {
    "duration": 345,
    "start_time": "2022-03-20T11:21:13.460Z"
   },
   {
    "duration": 347,
    "start_time": "2022-03-20T11:21:19.537Z"
   },
   {
    "duration": 515,
    "start_time": "2022-03-20T11:22:15.704Z"
   },
   {
    "duration": 491,
    "start_time": "2022-03-20T11:22:43.540Z"
   },
   {
    "duration": 244,
    "start_time": "2022-03-20T11:23:18.798Z"
   },
   {
    "duration": 268,
    "start_time": "2022-03-20T11:23:35.046Z"
   },
   {
    "duration": 262,
    "start_time": "2022-03-20T11:23:43.035Z"
   },
   {
    "duration": 122,
    "start_time": "2022-03-20T11:24:32.711Z"
   },
   {
    "duration": 29,
    "start_time": "2022-03-20T11:31:00.784Z"
   },
   {
    "duration": 48,
    "start_time": "2022-03-20T11:31:36.304Z"
   },
   {
    "duration": 158,
    "start_time": "2022-03-20T11:31:51.542Z"
   },
   {
    "duration": 30,
    "start_time": "2022-03-20T11:31:56.010Z"
   },
   {
    "duration": 6,
    "start_time": "2022-03-20T11:32:19.940Z"
   },
   {
    "duration": 32,
    "start_time": "2022-03-20T11:35:20.525Z"
   },
   {
    "duration": 86,
    "start_time": "2022-03-20T15:13:50.568Z"
   },
   {
    "duration": 77,
    "start_time": "2022-03-20T15:15:22.258Z"
   },
   {
    "duration": 45,
    "start_time": "2022-03-20T15:15:48.832Z"
   },
   {
    "duration": 1339,
    "start_time": "2022-03-20T15:16:09.443Z"
   },
   {
    "duration": 43,
    "start_time": "2022-03-20T15:16:10.784Z"
   },
   {
    "duration": 3,
    "start_time": "2022-03-20T15:16:10.829Z"
   },
   {
    "duration": 41,
    "start_time": "2022-03-20T15:16:10.834Z"
   },
   {
    "duration": 4,
    "start_time": "2022-03-20T15:16:10.877Z"
   },
   {
    "duration": 4,
    "start_time": "2022-03-20T15:16:10.883Z"
   },
   {
    "duration": 5,
    "start_time": "2022-03-20T15:16:10.889Z"
   },
   {
    "duration": 45,
    "start_time": "2022-03-20T15:16:10.896Z"
   },
   {
    "duration": 30,
    "start_time": "2022-03-20T15:16:10.942Z"
   },
   {
    "duration": 3,
    "start_time": "2022-03-20T15:16:10.974Z"
   },
   {
    "duration": 16,
    "start_time": "2022-03-20T15:16:10.978Z"
   },
   {
    "duration": 70,
    "start_time": "2022-03-20T15:16:10.996Z"
   },
   {
    "duration": 22,
    "start_time": "2022-03-20T15:16:11.068Z"
   },
   {
    "duration": 3,
    "start_time": "2022-03-20T15:16:11.093Z"
   },
   {
    "duration": 323,
    "start_time": "2022-03-20T15:16:11.098Z"
   },
   {
    "duration": 152,
    "start_time": "2022-03-20T15:16:11.423Z"
   },
   {
    "duration": 8,
    "start_time": "2022-03-20T15:16:11.577Z"
   },
   {
    "duration": 18,
    "start_time": "2022-03-20T15:16:11.586Z"
   },
   {
    "duration": 7,
    "start_time": "2022-03-20T15:16:11.606Z"
   },
   {
    "duration": 171,
    "start_time": "2022-03-20T15:16:11.615Z"
   },
   {
    "duration": 120,
    "start_time": "2022-03-20T15:16:11.788Z"
   },
   {
    "duration": 10,
    "start_time": "2022-03-20T15:16:11.910Z"
   },
   {
    "duration": 290,
    "start_time": "2022-03-20T15:16:11.937Z"
   },
   {
    "duration": 231,
    "start_time": "2022-03-20T15:16:12.229Z"
   },
   {
    "duration": 331,
    "start_time": "2022-03-20T15:16:12.462Z"
   },
   {
    "duration": 215,
    "start_time": "2022-03-20T15:16:12.794Z"
   },
   {
    "duration": 352,
    "start_time": "2022-03-20T15:16:13.011Z"
   },
   {
    "duration": 124,
    "start_time": "2022-03-20T15:16:13.364Z"
   },
   {
    "duration": 174,
    "start_time": "2022-03-20T15:16:13.490Z"
   },
   {
    "duration": 4,
    "start_time": "2022-03-20T15:16:13.666Z"
   },
   {
    "duration": 157,
    "start_time": "2022-03-20T15:16:13.672Z"
   },
   {
    "duration": 8,
    "start_time": "2022-03-20T15:16:13.831Z"
   },
   {
    "duration": 308,
    "start_time": "2022-03-20T15:16:13.840Z"
   },
   {
    "duration": 133,
    "start_time": "2022-03-20T15:16:14.150Z"
   },
   {
    "duration": 6,
    "start_time": "2022-03-20T15:16:14.285Z"
   },
   {
    "duration": 22,
    "start_time": "2022-03-20T15:16:14.292Z"
   },
   {
    "duration": 3,
    "start_time": "2022-03-20T15:16:14.316Z"
   },
   {
    "duration": 9,
    "start_time": "2022-03-20T15:16:14.337Z"
   },
   {
    "duration": 85,
    "start_time": "2022-03-20T15:16:14.348Z"
   },
   {
    "duration": 0,
    "start_time": "2022-03-20T15:16:14.435Z"
   },
   {
    "duration": 0,
    "start_time": "2022-03-20T15:16:14.436Z"
   },
   {
    "duration": 0,
    "start_time": "2022-03-20T15:16:14.437Z"
   },
   {
    "duration": 0,
    "start_time": "2022-03-20T15:16:14.439Z"
   },
   {
    "duration": 0,
    "start_time": "2022-03-20T15:16:14.440Z"
   },
   {
    "duration": 0,
    "start_time": "2022-03-20T15:16:14.441Z"
   },
   {
    "duration": 7,
    "start_time": "2022-03-20T15:16:44.000Z"
   },
   {
    "duration": 22,
    "start_time": "2022-03-20T15:18:05.005Z"
   },
   {
    "duration": 94,
    "start_time": "2022-03-20T15:18:52.208Z"
   },
   {
    "duration": 1143,
    "start_time": "2022-03-20T15:20:02.900Z"
   },
   {
    "duration": 37,
    "start_time": "2022-03-20T15:20:04.045Z"
   },
   {
    "duration": 3,
    "start_time": "2022-03-20T15:20:04.084Z"
   },
   {
    "duration": 41,
    "start_time": "2022-03-20T15:20:04.089Z"
   },
   {
    "duration": 4,
    "start_time": "2022-03-20T15:20:04.132Z"
   },
   {
    "duration": 3,
    "start_time": "2022-03-20T15:20:04.138Z"
   },
   {
    "duration": 5,
    "start_time": "2022-03-20T15:20:04.143Z"
   },
   {
    "duration": 32,
    "start_time": "2022-03-20T15:20:04.150Z"
   },
   {
    "duration": 28,
    "start_time": "2022-03-20T15:20:04.183Z"
   },
   {
    "duration": 26,
    "start_time": "2022-03-20T15:20:04.212Z"
   },
   {
    "duration": 12,
    "start_time": "2022-03-20T15:20:04.239Z"
   },
   {
    "duration": 32,
    "start_time": "2022-03-20T15:20:04.253Z"
   },
   {
    "duration": 22,
    "start_time": "2022-03-20T15:20:04.287Z"
   },
   {
    "duration": 5,
    "start_time": "2022-03-20T15:20:04.339Z"
   },
   {
    "duration": 293,
    "start_time": "2022-03-20T15:20:04.345Z"
   },
   {
    "duration": 136,
    "start_time": "2022-03-20T15:20:04.640Z"
   },
   {
    "duration": 9,
    "start_time": "2022-03-20T15:20:04.778Z"
   },
   {
    "duration": 29,
    "start_time": "2022-03-20T15:20:04.789Z"
   },
   {
    "duration": 10,
    "start_time": "2022-03-20T15:20:04.820Z"
   },
   {
    "duration": 168,
    "start_time": "2022-03-20T15:20:04.831Z"
   },
   {
    "duration": 120,
    "start_time": "2022-03-20T15:20:05.001Z"
   },
   {
    "duration": 15,
    "start_time": "2022-03-20T15:20:05.123Z"
   },
   {
    "duration": 288,
    "start_time": "2022-03-20T15:20:05.141Z"
   },
   {
    "duration": 220,
    "start_time": "2022-03-20T15:20:05.431Z"
   },
   {
    "duration": 309,
    "start_time": "2022-03-20T15:20:05.653Z"
   },
   {
    "duration": 234,
    "start_time": "2022-03-20T15:20:05.964Z"
   },
   {
    "duration": 370,
    "start_time": "2022-03-20T15:20:06.200Z"
   },
   {
    "duration": 124,
    "start_time": "2022-03-20T15:20:06.572Z"
   },
   {
    "duration": 158,
    "start_time": "2022-03-20T15:20:06.698Z"
   },
   {
    "duration": 4,
    "start_time": "2022-03-20T15:20:06.858Z"
   },
   {
    "duration": 175,
    "start_time": "2022-03-20T15:20:06.864Z"
   },
   {
    "duration": 4,
    "start_time": "2022-03-20T15:20:07.041Z"
   },
   {
    "duration": 309,
    "start_time": "2022-03-20T15:20:07.047Z"
   },
   {
    "duration": 150,
    "start_time": "2022-03-20T15:20:07.357Z"
   },
   {
    "duration": 6,
    "start_time": "2022-03-20T15:20:07.509Z"
   },
   {
    "duration": 37,
    "start_time": "2022-03-20T15:20:07.517Z"
   },
   {
    "duration": 4,
    "start_time": "2022-03-20T15:20:07.556Z"
   },
   {
    "duration": 9,
    "start_time": "2022-03-20T15:20:07.562Z"
   },
   {
    "duration": 11,
    "start_time": "2022-03-20T15:20:07.573Z"
   },
   {
    "duration": 12,
    "start_time": "2022-03-20T15:20:07.585Z"
   },
   {
    "duration": 8,
    "start_time": "2022-03-20T15:20:07.600Z"
   },
   {
    "duration": 137,
    "start_time": "2022-03-20T15:20:07.610Z"
   },
   {
    "duration": 1,
    "start_time": "2022-03-20T15:20:07.749Z"
   },
   {
    "duration": 0,
    "start_time": "2022-03-20T15:20:07.751Z"
   },
   {
    "duration": 0,
    "start_time": "2022-03-20T15:20:07.752Z"
   },
   {
    "duration": 0,
    "start_time": "2022-03-20T15:20:07.753Z"
   },
   {
    "duration": 26,
    "start_time": "2022-03-20T15:20:40.524Z"
   },
   {
    "duration": 27,
    "start_time": "2022-03-20T15:20:52.048Z"
   },
   {
    "duration": 76,
    "start_time": "2022-03-20T15:21:28.291Z"
   },
   {
    "duration": 25,
    "start_time": "2022-03-20T15:21:46.801Z"
   },
   {
    "duration": 28,
    "start_time": "2022-03-20T15:22:01.834Z"
   },
   {
    "duration": 21,
    "start_time": "2022-03-20T15:22:19.260Z"
   },
   {
    "duration": 4,
    "start_time": "2022-03-20T15:22:26.980Z"
   },
   {
    "duration": 19,
    "start_time": "2022-03-20T15:22:43.891Z"
   },
   {
    "duration": 11,
    "start_time": "2022-03-20T15:24:33.842Z"
   },
   {
    "duration": 8,
    "start_time": "2022-03-20T15:24:45.359Z"
   },
   {
    "duration": 74,
    "start_time": "2022-03-20T15:26:41.826Z"
   },
   {
    "duration": 121,
    "start_time": "2022-03-20T15:28:08.645Z"
   },
   {
    "duration": 1078,
    "start_time": "2022-03-20T15:28:36.980Z"
   },
   {
    "duration": 37,
    "start_time": "2022-03-20T15:28:38.060Z"
   },
   {
    "duration": 3,
    "start_time": "2022-03-20T15:28:38.099Z"
   },
   {
    "duration": 42,
    "start_time": "2022-03-20T15:28:38.104Z"
   },
   {
    "duration": 4,
    "start_time": "2022-03-20T15:28:38.148Z"
   },
   {
    "duration": 5,
    "start_time": "2022-03-20T15:28:38.154Z"
   },
   {
    "duration": 6,
    "start_time": "2022-03-20T15:28:38.160Z"
   },
   {
    "duration": 33,
    "start_time": "2022-03-20T15:28:38.167Z"
   },
   {
    "duration": 49,
    "start_time": "2022-03-20T15:28:38.202Z"
   },
   {
    "duration": 3,
    "start_time": "2022-03-20T15:28:38.253Z"
   },
   {
    "duration": 14,
    "start_time": "2022-03-20T15:28:38.258Z"
   },
   {
    "duration": 32,
    "start_time": "2022-03-20T15:28:38.274Z"
   },
   {
    "duration": 50,
    "start_time": "2022-03-20T15:28:38.308Z"
   },
   {
    "duration": 4,
    "start_time": "2022-03-20T15:28:38.361Z"
   },
   {
    "duration": 306,
    "start_time": "2022-03-20T15:28:38.366Z"
   },
   {
    "duration": 129,
    "start_time": "2022-03-20T15:28:38.674Z"
   },
   {
    "duration": 8,
    "start_time": "2022-03-20T15:28:38.804Z"
   },
   {
    "duration": 24,
    "start_time": "2022-03-20T15:28:38.814Z"
   },
   {
    "duration": 5,
    "start_time": "2022-03-20T15:28:38.840Z"
   },
   {
    "duration": 166,
    "start_time": "2022-03-20T15:28:38.846Z"
   },
   {
    "duration": 133,
    "start_time": "2022-03-20T15:28:39.014Z"
   },
   {
    "duration": 8,
    "start_time": "2022-03-20T15:28:39.149Z"
   },
   {
    "duration": 280,
    "start_time": "2022-03-20T15:28:39.159Z"
   },
   {
    "duration": 217,
    "start_time": "2022-03-20T15:28:39.441Z"
   },
   {
    "duration": 296,
    "start_time": "2022-03-20T15:28:39.660Z"
   },
   {
    "duration": 219,
    "start_time": "2022-03-20T15:28:39.957Z"
   },
   {
    "duration": 305,
    "start_time": "2022-03-20T15:28:40.177Z"
   },
   {
    "duration": 125,
    "start_time": "2022-03-20T15:28:40.484Z"
   },
   {
    "duration": 163,
    "start_time": "2022-03-20T15:28:40.611Z"
   },
   {
    "duration": 4,
    "start_time": "2022-03-20T15:28:40.775Z"
   },
   {
    "duration": 166,
    "start_time": "2022-03-20T15:28:40.781Z"
   },
   {
    "duration": 4,
    "start_time": "2022-03-20T15:28:40.949Z"
   },
   {
    "duration": 317,
    "start_time": "2022-03-20T15:28:40.954Z"
   },
   {
    "duration": 119,
    "start_time": "2022-03-20T15:28:41.273Z"
   },
   {
    "duration": 6,
    "start_time": "2022-03-20T15:28:41.393Z"
   },
   {
    "duration": 21,
    "start_time": "2022-03-20T15:28:41.400Z"
   },
   {
    "duration": 18,
    "start_time": "2022-03-20T15:28:41.423Z"
   },
   {
    "duration": 11,
    "start_time": "2022-03-20T15:28:41.442Z"
   },
   {
    "duration": 8,
    "start_time": "2022-03-20T15:28:41.454Z"
   },
   {
    "duration": 9,
    "start_time": "2022-03-20T15:28:41.463Z"
   },
   {
    "duration": 9,
    "start_time": "2022-03-20T15:28:41.475Z"
   },
   {
    "duration": 24,
    "start_time": "2022-03-20T15:28:41.485Z"
   },
   {
    "duration": 4,
    "start_time": "2022-03-20T15:28:41.538Z"
   },
   {
    "duration": 14,
    "start_time": "2022-03-20T15:28:41.543Z"
   },
   {
    "duration": 8,
    "start_time": "2022-03-20T15:28:41.559Z"
   },
   {
    "duration": 306,
    "start_time": "2022-03-20T15:28:41.569Z"
   },
   {
    "duration": 272,
    "start_time": "2022-03-20T15:28:41.876Z"
   },
   {
    "duration": 165,
    "start_time": "2022-03-20T15:29:51.414Z"
   },
   {
    "duration": 351,
    "start_time": "2022-03-20T15:30:18.218Z"
   },
   {
    "duration": 339,
    "start_time": "2022-03-20T15:30:22.619Z"
   },
   {
    "duration": 279,
    "start_time": "2022-03-20T15:30:28.968Z"
   },
   {
    "duration": 1380,
    "start_time": "2022-03-20T17:30:47.855Z"
   },
   {
    "duration": 38,
    "start_time": "2022-03-20T17:30:49.237Z"
   },
   {
    "duration": 3,
    "start_time": "2022-03-20T17:30:49.277Z"
   },
   {
    "duration": 54,
    "start_time": "2022-03-20T17:30:49.282Z"
   },
   {
    "duration": 4,
    "start_time": "2022-03-20T17:30:49.337Z"
   },
   {
    "duration": 18,
    "start_time": "2022-03-20T17:30:49.342Z"
   },
   {
    "duration": 20,
    "start_time": "2022-03-20T17:30:49.362Z"
   },
   {
    "duration": 41,
    "start_time": "2022-03-20T17:30:49.384Z"
   },
   {
    "duration": 29,
    "start_time": "2022-03-20T17:30:49.427Z"
   },
   {
    "duration": 3,
    "start_time": "2022-03-20T17:30:49.459Z"
   },
   {
    "duration": 18,
    "start_time": "2022-03-20T17:30:49.463Z"
   },
   {
    "duration": 55,
    "start_time": "2022-03-20T17:30:49.483Z"
   },
   {
    "duration": 23,
    "start_time": "2022-03-20T17:30:49.540Z"
   },
   {
    "duration": 4,
    "start_time": "2022-03-20T17:30:49.565Z"
   },
   {
    "duration": 329,
    "start_time": "2022-03-20T17:30:49.571Z"
   },
   {
    "duration": 144,
    "start_time": "2022-03-20T17:30:49.901Z"
   },
   {
    "duration": 9,
    "start_time": "2022-03-20T17:30:50.047Z"
   },
   {
    "duration": 16,
    "start_time": "2022-03-20T17:30:50.058Z"
   },
   {
    "duration": 9,
    "start_time": "2022-03-20T17:30:50.076Z"
   },
   {
    "duration": 188,
    "start_time": "2022-03-20T17:30:50.087Z"
   },
   {
    "duration": 130,
    "start_time": "2022-03-20T17:30:50.277Z"
   },
   {
    "duration": 11,
    "start_time": "2022-03-20T17:30:50.408Z"
   },
   {
    "duration": 298,
    "start_time": "2022-03-20T17:30:50.421Z"
   },
   {
    "duration": 219,
    "start_time": "2022-03-20T17:30:50.721Z"
   },
   {
    "duration": 349,
    "start_time": "2022-03-20T17:30:50.942Z"
   },
   {
    "duration": 234,
    "start_time": "2022-03-20T17:30:51.293Z"
   },
   {
    "duration": 346,
    "start_time": "2022-03-20T17:30:51.529Z"
   },
   {
    "duration": 130,
    "start_time": "2022-03-20T17:30:51.878Z"
   },
   {
    "duration": 180,
    "start_time": "2022-03-20T17:30:52.010Z"
   },
   {
    "duration": 5,
    "start_time": "2022-03-20T17:30:52.193Z"
   },
   {
    "duration": 178,
    "start_time": "2022-03-20T17:30:52.199Z"
   },
   {
    "duration": 4,
    "start_time": "2022-03-20T17:30:52.379Z"
   },
   {
    "duration": 319,
    "start_time": "2022-03-20T17:30:52.385Z"
   },
   {
    "duration": 134,
    "start_time": "2022-03-20T17:30:52.706Z"
   },
   {
    "duration": 7,
    "start_time": "2022-03-20T17:30:52.841Z"
   },
   {
    "duration": 24,
    "start_time": "2022-03-20T17:30:52.849Z"
   },
   {
    "duration": 5,
    "start_time": "2022-03-20T17:30:52.874Z"
   },
   {
    "duration": 17,
    "start_time": "2022-03-20T17:30:52.882Z"
   },
   {
    "duration": 9,
    "start_time": "2022-03-20T17:30:52.902Z"
   },
   {
    "duration": 14,
    "start_time": "2022-03-20T17:30:52.938Z"
   },
   {
    "duration": 8,
    "start_time": "2022-03-20T17:30:52.954Z"
   },
   {
    "duration": 27,
    "start_time": "2022-03-20T17:30:52.963Z"
   },
   {
    "duration": 6,
    "start_time": "2022-03-20T17:30:52.991Z"
   },
   {
    "duration": 29,
    "start_time": "2022-03-20T17:30:52.999Z"
   },
   {
    "duration": 20,
    "start_time": "2022-03-20T17:30:53.030Z"
   },
   {
    "duration": 325,
    "start_time": "2022-03-20T17:30:53.052Z"
   },
   {
    "duration": 281,
    "start_time": "2022-03-20T17:30:53.379Z"
   },
   {
    "duration": 79,
    "start_time": "2022-03-21T19:07:34.556Z"
   },
   {
    "duration": 2439,
    "start_time": "2022-03-21T19:07:42.231Z"
   },
   {
    "duration": 48,
    "start_time": "2022-03-21T19:07:44.673Z"
   },
   {
    "duration": 6,
    "start_time": "2022-03-21T19:07:44.724Z"
   },
   {
    "duration": 83,
    "start_time": "2022-03-21T19:07:44.735Z"
   },
   {
    "duration": 6,
    "start_time": "2022-03-21T19:07:44.822Z"
   },
   {
    "duration": 6,
    "start_time": "2022-03-21T19:07:44.830Z"
   },
   {
    "duration": 38,
    "start_time": "2022-03-21T19:07:44.838Z"
   },
   {
    "duration": 50,
    "start_time": "2022-03-21T19:07:44.879Z"
   },
   {
    "duration": 72,
    "start_time": "2022-03-21T19:07:44.931Z"
   },
   {
    "duration": 4,
    "start_time": "2022-03-21T19:07:45.007Z"
   },
   {
    "duration": 22,
    "start_time": "2022-03-21T19:07:45.013Z"
   },
   {
    "duration": 62,
    "start_time": "2022-03-21T19:07:45.073Z"
   },
   {
    "duration": 64,
    "start_time": "2022-03-21T19:07:45.138Z"
   },
   {
    "duration": 7,
    "start_time": "2022-03-21T19:07:45.204Z"
   },
   {
    "duration": 661,
    "start_time": "2022-03-21T19:07:45.213Z"
   },
   {
    "duration": 304,
    "start_time": "2022-03-21T19:07:45.876Z"
   },
   {
    "duration": 14,
    "start_time": "2022-03-21T19:07:46.183Z"
   },
   {
    "duration": 204,
    "start_time": "2022-03-21T19:07:46.199Z"
   },
   {
    "duration": 2158,
    "start_time": "2022-03-21T19:07:50.479Z"
   },
   {
    "duration": 2098,
    "start_time": "2022-03-21T19:08:38.911Z"
   },
   {
    "duration": 173,
    "start_time": "2022-03-21T19:09:09.815Z"
   },
   {
    "duration": 114,
    "start_time": "2022-03-21T19:09:22.978Z"
   },
   {
    "duration": 113,
    "start_time": "2022-03-21T19:10:40.841Z"
   },
   {
    "duration": 119,
    "start_time": "2022-03-21T19:11:03.923Z"
   },
   {
    "duration": 2262,
    "start_time": "2022-03-21T19:14:42.119Z"
   },
   {
    "duration": 2344,
    "start_time": "2022-03-21T19:15:49.636Z"
   },
   {
    "duration": 7,
    "start_time": "2022-03-21T19:16:03.159Z"
   },
   {
    "duration": 46,
    "start_time": "2022-03-21T19:16:03.169Z"
   },
   {
    "duration": 6,
    "start_time": "2022-03-21T19:16:03.218Z"
   },
   {
    "duration": 59,
    "start_time": "2022-03-21T19:16:03.227Z"
   },
   {
    "duration": 5,
    "start_time": "2022-03-21T19:16:03.288Z"
   },
   {
    "duration": 7,
    "start_time": "2022-03-21T19:16:03.296Z"
   },
   {
    "duration": 6,
    "start_time": "2022-03-21T19:16:03.305Z"
   },
   {
    "duration": 95,
    "start_time": "2022-03-21T19:16:03.314Z"
   },
   {
    "duration": 83,
    "start_time": "2022-03-21T19:16:03.414Z"
   },
   {
    "duration": 5,
    "start_time": "2022-03-21T19:16:03.499Z"
   },
   {
    "duration": 26,
    "start_time": "2022-03-21T19:16:03.506Z"
   },
   {
    "duration": 83,
    "start_time": "2022-03-21T19:16:03.535Z"
   },
   {
    "duration": 75,
    "start_time": "2022-03-21T19:16:03.621Z"
   },
   {
    "duration": 8,
    "start_time": "2022-03-21T19:16:03.698Z"
   },
   {
    "duration": 777,
    "start_time": "2022-03-21T19:16:03.709Z"
   },
   {
    "duration": 293,
    "start_time": "2022-03-21T19:16:04.489Z"
   },
   {
    "duration": 13,
    "start_time": "2022-03-21T19:16:04.785Z"
   },
   {
    "duration": 157,
    "start_time": "2022-03-21T19:16:04.801Z"
   },
   {
    "duration": 17,
    "start_time": "2022-03-21T19:16:04.960Z"
   },
   {
    "duration": 307,
    "start_time": "2022-03-21T19:16:04.979Z"
   },
   {
    "duration": 233,
    "start_time": "2022-03-21T19:16:05.288Z"
   },
   {
    "duration": 16,
    "start_time": "2022-03-21T19:16:05.524Z"
   },
   {
    "duration": 532,
    "start_time": "2022-03-21T19:16:05.542Z"
   },
   {
    "duration": 382,
    "start_time": "2022-03-21T19:16:06.079Z"
   },
   {
    "duration": 508,
    "start_time": "2022-03-21T19:16:06.474Z"
   },
   {
    "duration": 375,
    "start_time": "2022-03-21T19:16:06.985Z"
   },
   {
    "duration": 471,
    "start_time": "2022-03-21T19:16:07.363Z"
   },
   {
    "duration": 254,
    "start_time": "2022-03-21T19:16:07.836Z"
   },
   {
    "duration": 280,
    "start_time": "2022-03-21T19:16:08.093Z"
   },
   {
    "duration": 6,
    "start_time": "2022-03-21T19:16:08.376Z"
   },
   {
    "duration": 376,
    "start_time": "2022-03-21T19:16:08.384Z"
   },
   {
    "duration": 15,
    "start_time": "2022-03-21T19:16:08.762Z"
   },
   {
    "duration": 395,
    "start_time": "2022-03-21T19:16:08.779Z"
   },
   {
    "duration": 318,
    "start_time": "2022-03-21T19:16:09.176Z"
   },
   {
    "duration": 8,
    "start_time": "2022-03-21T19:16:09.496Z"
   },
   {
    "duration": 34,
    "start_time": "2022-03-21T19:16:09.506Z"
   },
   {
    "duration": 5,
    "start_time": "2022-03-21T19:16:09.542Z"
   },
   {
    "duration": 34,
    "start_time": "2022-03-21T19:16:09.549Z"
   },
   {
    "duration": 33,
    "start_time": "2022-03-21T19:16:09.586Z"
   },
   {
    "duration": 35,
    "start_time": "2022-03-21T19:16:09.622Z"
   },
   {
    "duration": 30,
    "start_time": "2022-03-21T19:16:09.659Z"
   },
   {
    "duration": 45,
    "start_time": "2022-03-21T19:16:09.691Z"
   },
   {
    "duration": 6,
    "start_time": "2022-03-21T19:16:09.738Z"
   },
   {
    "duration": 23,
    "start_time": "2022-03-21T19:16:09.746Z"
   },
   {
    "duration": 20,
    "start_time": "2022-03-21T19:16:09.771Z"
   },
   {
    "duration": 453,
    "start_time": "2022-03-21T19:16:09.794Z"
   },
   {
    "duration": 459,
    "start_time": "2022-03-21T19:16:10.250Z"
   },
   {
    "duration": 15,
    "start_time": "2022-03-21T19:17:17.329Z"
   },
   {
    "duration": 14,
    "start_time": "2022-03-21T19:17:41.840Z"
   },
   {
    "duration": 1475,
    "start_time": "2022-03-21T19:19:26.392Z"
   },
   {
    "duration": 45,
    "start_time": "2022-03-21T19:19:27.870Z"
   },
   {
    "duration": 5,
    "start_time": "2022-03-21T19:19:27.917Z"
   },
   {
    "duration": 57,
    "start_time": "2022-03-21T19:19:27.924Z"
   },
   {
    "duration": 6,
    "start_time": "2022-03-21T19:19:27.984Z"
   },
   {
    "duration": 13,
    "start_time": "2022-03-21T19:19:27.992Z"
   },
   {
    "duration": 14,
    "start_time": "2022-03-21T19:19:28.007Z"
   },
   {
    "duration": 64,
    "start_time": "2022-03-21T19:19:28.024Z"
   },
   {
    "duration": 47,
    "start_time": "2022-03-21T19:19:28.090Z"
   },
   {
    "duration": 5,
    "start_time": "2022-03-21T19:19:28.139Z"
   },
   {
    "duration": 21,
    "start_time": "2022-03-21T19:19:28.174Z"
   },
   {
    "duration": 48,
    "start_time": "2022-03-21T19:19:28.197Z"
   },
   {
    "duration": 34,
    "start_time": "2022-03-21T19:19:28.275Z"
   },
   {
    "duration": 6,
    "start_time": "2022-03-21T19:19:28.314Z"
   },
   {
    "duration": 641,
    "start_time": "2022-03-21T19:19:28.322Z"
   },
   {
    "duration": 296,
    "start_time": "2022-03-21T19:19:28.965Z"
   },
   {
    "duration": 20,
    "start_time": "2022-03-21T19:19:29.263Z"
   },
   {
    "duration": 151,
    "start_time": "2022-03-21T19:19:29.286Z"
   },
   {
    "duration": 8,
    "start_time": "2022-03-21T19:19:29.439Z"
   },
   {
    "duration": 336,
    "start_time": "2022-03-21T19:19:29.449Z"
   },
   {
    "duration": 255,
    "start_time": "2022-03-21T19:19:29.788Z"
   },
   {
    "duration": 29,
    "start_time": "2022-03-21T19:19:30.045Z"
   },
   {
    "duration": 496,
    "start_time": "2022-03-21T19:19:30.077Z"
   },
   {
    "duration": 363,
    "start_time": "2022-03-21T19:19:30.576Z"
   },
   {
    "duration": 461,
    "start_time": "2022-03-21T19:19:30.942Z"
   },
   {
    "duration": 390,
    "start_time": "2022-03-21T19:19:31.406Z"
   },
   {
    "duration": 461,
    "start_time": "2022-03-21T19:19:31.799Z"
   },
   {
    "duration": 294,
    "start_time": "2022-03-21T19:19:32.263Z"
   },
   {
    "duration": 272,
    "start_time": "2022-03-21T19:19:32.560Z"
   },
   {
    "duration": 6,
    "start_time": "2022-03-21T19:19:32.836Z"
   },
   {
    "duration": 378,
    "start_time": "2022-03-21T19:19:32.845Z"
   },
   {
    "duration": 6,
    "start_time": "2022-03-21T19:19:33.225Z"
   },
   {
    "duration": 398,
    "start_time": "2022-03-21T19:19:33.233Z"
   },
   {
    "duration": 285,
    "start_time": "2022-03-21T19:19:33.633Z"
   },
   {
    "duration": 9,
    "start_time": "2022-03-21T19:19:33.920Z"
   },
   {
    "duration": 51,
    "start_time": "2022-03-21T19:19:33.931Z"
   },
   {
    "duration": 5,
    "start_time": "2022-03-21T19:19:33.984Z"
   },
   {
    "duration": 11,
    "start_time": "2022-03-21T19:19:33.991Z"
   },
   {
    "duration": 10,
    "start_time": "2022-03-21T19:19:34.004Z"
   },
   {
    "duration": 16,
    "start_time": "2022-03-21T19:19:34.016Z"
   },
   {
    "duration": 12,
    "start_time": "2022-03-21T19:19:34.078Z"
   },
   {
    "duration": 34,
    "start_time": "2022-03-21T19:19:34.092Z"
   },
   {
    "duration": 5,
    "start_time": "2022-03-21T19:19:34.128Z"
   },
   {
    "duration": 45,
    "start_time": "2022-03-21T19:19:34.136Z"
   },
   {
    "duration": 13,
    "start_time": "2022-03-21T19:19:34.184Z"
   },
   {
    "duration": 473,
    "start_time": "2022-03-21T19:19:34.200Z"
   },
   {
    "duration": 462,
    "start_time": "2022-03-21T19:19:34.676Z"
   }
  ],
  "kernelspec": {
   "display_name": "Python 3 (ipykernel)",
   "language": "python",
   "name": "python3"
  },
  "language_info": {
   "codemirror_mode": {
    "name": "ipython",
    "version": 3
   },
   "file_extension": ".py",
   "mimetype": "text/x-python",
   "name": "python",
   "nbconvert_exporter": "python",
   "pygments_lexer": "ipython3",
   "version": "3.9.5"
  },
  "toc": {
   "base_numbering": 1,
   "nav_menu": {},
   "number_sections": true,
   "sideBar": true,
   "skip_h1_title": true,
   "title_cell": "Table of Contents",
   "title_sidebar": "Contents",
   "toc_cell": false,
   "toc_position": {},
   "toc_section_display": true,
   "toc_window_display": false
  }
 },
 "nbformat": 4,
 "nbformat_minor": 2
}
