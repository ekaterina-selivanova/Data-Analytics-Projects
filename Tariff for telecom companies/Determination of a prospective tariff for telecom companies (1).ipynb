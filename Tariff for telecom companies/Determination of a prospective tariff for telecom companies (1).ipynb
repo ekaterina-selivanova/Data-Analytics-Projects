{
 "cells": [
  {
   "cell_type": "markdown",
   "metadata": {},
   "source": [
    "# Определение перспективного тарифа для телеком-компании\n",
    "\n",
    "**Цель исследования** - проанализировать поведение Клиентов на основании предоставленной выборки и опеределить какой тариф приносит больше денег компании \"Мегалайн\". Проверить гипотезы о том,что:\n",
    "- средняя выручка пользователей тарифов «Ультра» и «Смарт» различаются;\n",
    "- средняя выручка пользователей из Москвы отличается от выручки пользователей из других регионов.\n",
    "\n",
    "**Ход исследования** - информацию о данных 500 пользователей мы получили от представителей Компании \"Мегалайн\".\n",
    "О качестве данных ничего не известно,поэтому перед началом исследования следует провести обзор данных на предмет ошибок и их влияния на результат исследования. Затем, на этапе предобработки следует скорректировать ошибки, которые являются критическими. Далее провести анализ показателей, требующихся для исследования и расчитать недостающие и добавить их в общую таблицу.\n",
    "\n",
    "Требуется провести анализ следующих параметров:\n",
    "- количество сделанных звонков и израсходованных минут разговора по месяцам;\n",
    "- количество отправленных сообщений по месяцам;\n",
    "- объем израсходованного интернет-трафика по месяцам;\n",
    "- помесячную выручку с каждого пользователя.\n",
    "\n",
    "Описание тарифов:\n",
    "\n",
    "**Тариф «Смарт»**\n",
    "- Ежемесячная плата: 550 рублей.\n",
    "- Включено 500 минут разговора, 50 сообщений и 15 Гб интернет-трафика\n",
    "- Стоимость услуг сверх тарифного пакета: \n",
    "1. минута разговора: 3 рубля («Мегалайн» всегда округляет вверх значения минут и мегабайтов. Если пользователь проговорил всего 1 секунду, в тарифе засчитывается целая минута);\n",
    "2. сообщение: 3 рубля;\n",
    "3. 1 Гб интернет-трафика: 200 рублей.\n",
    "\n",
    "**Тариф «Ультра»**\n",
    "- Ежемесячная плата: 1950 рублей\n",
    "- Включено 3000 минут разговора, 1000 сообщений и 30 Гб интернет-трафика\n",
    "- Стоимость услуг сверх тарифного пакета:\n",
    "1. минута разговора: 1 рубль;\n",
    "2. сообщение: 1 рубль;\n",
    "3. 1 Гб интернет-трафика: 150 рублей.\n",
    "\n",
    "**Примечание:**\n",
    "«Мегалайн» всегда округляет секунды до минут, а мегабайты — до гигабайт. Каждый звонок округляется отдельно: даже если он длился всего 1 секунду, будет засчитан как 1 минута.\n",
    "Для веб-трафика отдельные сессии не считаются. Вместо этого общая сумма за месяц округляется в бо́льшую сторону. Если абонент использует 1025 мегабайт в этом месяце, с него возьмут плату за 2 гигабайта.\n",
    "\n",
    "Этапы исследования:\n",
    "1. [Изучение данных из файла](#general_id)\n",
    "2. [Предобработка данных](#preprocessing_id)\n",
    "    2.1.[Замена типа данных](#preprocessing_one_id)\n",
    "    2.2.[Проверка допустимых значений](#preprocessing_two_id)\n",
    "    2.3.[Категоризация и группировка данных](#preprocessing_three_id)\n",
    "    2.4.[Объединение,расчеты и добавление результатов в таблицу](#preprocessing_four_id)\n",
    "    2.5.[Проверка допустимых значений после выполнения группировки](#preprocessing_five_id)\n",
    "3. [Исследовательский анализ данных](#analysis_id)\n",
    "4. [Общий вывод](#conclusion_id)\n"
   ]
  },
  {
   "cell_type": "markdown",
   "metadata": {},
   "source": [
    "## Изучение данных из файла\n",
    "<a id=general_id></a>"
   ]
  },
  {
   "cell_type": "code",
   "execution_count": 1,
   "metadata": {},
   "outputs": [],
   "source": [
    "import pandas as pd\n",
    "from pymystem3 import Mystem\n",
    "import matplotlib.pyplot as plt\n",
    "from nltk.stem import SnowballStemmer\n",
    "russian_stemmer = SnowballStemmer('russian')\n",
    "pd.set_option('display.float_format', '{:,.2f}'.format)\n",
    "import seaborn as sns\n",
    "import numpy as np\n",
    "import plotly\n",
    "import plotly.express as px\n",
    "from scipy.stats import norm\n",
    "from scipy import stats as st"
   ]
  },
  {
   "cell_type": "code",
   "execution_count": 2,
   "metadata": {},
   "outputs": [],
   "source": [
    "users = pd.read_csv('/datasets/users.csv')\n",
    "calls = pd.read_csv('/datasets/calls.csv')\n",
    "internet = pd.read_csv('/datasets/internet.csv',index_col=0)\n",
    "messages = pd.read_csv('/datasets/messages.csv')\n",
    "tariffs = pd.read_csv('/datasets/tariffs.csv')"
   ]
  },
  {
   "cell_type": "markdown",
   "metadata": {},
   "source": [
    "Создадим функцию research для изучения данных в таблице."
   ]
  },
  {
   "cell_type": "code",
   "execution_count": 3,
   "metadata": {},
   "outputs": [],
   "source": [
    "def research (data):\n",
    "    data.info(memory_usage='deep')\n",
    "    display(data.head())\n",
    "    display(data.describe())\n",
    "    print('Количество дубликатов',data.duplicated().sum())"
   ]
  },
  {
   "cell_type": "markdown",
   "metadata": {},
   "source": [
    "Изучим таблицу users"
   ]
  },
  {
   "cell_type": "code",
   "execution_count": 4,
   "metadata": {},
   "outputs": [
    {
     "name": "stdout",
     "output_type": "stream",
     "text": [
      "<class 'pandas.core.frame.DataFrame'>\n",
      "RangeIndex: 500 entries, 0 to 499\n",
      "Data columns (total 8 columns):\n",
      "user_id       500 non-null int64\n",
      "age           500 non-null int64\n",
      "churn_date    38 non-null object\n",
      "city          500 non-null object\n",
      "first_name    500 non-null object\n",
      "last_name     500 non-null object\n",
      "reg_date      500 non-null object\n",
      "tariff        500 non-null object\n",
      "dtypes: int64(2), object(6)\n",
      "memory usage: 229.6 KB\n"
     ]
    },
    {
     "data": {
      "text/html": [
       "<div>\n",
       "<style scoped>\n",
       "    .dataframe tbody tr th:only-of-type {\n",
       "        vertical-align: middle;\n",
       "    }\n",
       "\n",
       "    .dataframe tbody tr th {\n",
       "        vertical-align: top;\n",
       "    }\n",
       "\n",
       "    .dataframe thead th {\n",
       "        text-align: right;\n",
       "    }\n",
       "</style>\n",
       "<table border=\"1\" class=\"dataframe\">\n",
       "  <thead>\n",
       "    <tr style=\"text-align: right;\">\n",
       "      <th></th>\n",
       "      <th>user_id</th>\n",
       "      <th>age</th>\n",
       "      <th>churn_date</th>\n",
       "      <th>city</th>\n",
       "      <th>first_name</th>\n",
       "      <th>last_name</th>\n",
       "      <th>reg_date</th>\n",
       "      <th>tariff</th>\n",
       "    </tr>\n",
       "  </thead>\n",
       "  <tbody>\n",
       "    <tr>\n",
       "      <td>0</td>\n",
       "      <td>1000</td>\n",
       "      <td>52</td>\n",
       "      <td>NaN</td>\n",
       "      <td>Краснодар</td>\n",
       "      <td>Рафаил</td>\n",
       "      <td>Верещагин</td>\n",
       "      <td>2018-05-25</td>\n",
       "      <td>ultra</td>\n",
       "    </tr>\n",
       "    <tr>\n",
       "      <td>1</td>\n",
       "      <td>1001</td>\n",
       "      <td>41</td>\n",
       "      <td>NaN</td>\n",
       "      <td>Москва</td>\n",
       "      <td>Иван</td>\n",
       "      <td>Ежов</td>\n",
       "      <td>2018-11-01</td>\n",
       "      <td>smart</td>\n",
       "    </tr>\n",
       "    <tr>\n",
       "      <td>2</td>\n",
       "      <td>1002</td>\n",
       "      <td>59</td>\n",
       "      <td>NaN</td>\n",
       "      <td>Стерлитамак</td>\n",
       "      <td>Евгений</td>\n",
       "      <td>Абрамович</td>\n",
       "      <td>2018-06-17</td>\n",
       "      <td>smart</td>\n",
       "    </tr>\n",
       "    <tr>\n",
       "      <td>3</td>\n",
       "      <td>1003</td>\n",
       "      <td>23</td>\n",
       "      <td>NaN</td>\n",
       "      <td>Москва</td>\n",
       "      <td>Белла</td>\n",
       "      <td>Белякова</td>\n",
       "      <td>2018-08-17</td>\n",
       "      <td>ultra</td>\n",
       "    </tr>\n",
       "    <tr>\n",
       "      <td>4</td>\n",
       "      <td>1004</td>\n",
       "      <td>68</td>\n",
       "      <td>NaN</td>\n",
       "      <td>Новокузнецк</td>\n",
       "      <td>Татьяна</td>\n",
       "      <td>Авдеенко</td>\n",
       "      <td>2018-05-14</td>\n",
       "      <td>ultra</td>\n",
       "    </tr>\n",
       "  </tbody>\n",
       "</table>\n",
       "</div>"
      ],
      "text/plain": [
       "   user_id  age churn_date         city first_name  last_name    reg_date  \\\n",
       "0     1000   52        NaN    Краснодар     Рафаил  Верещагин  2018-05-25   \n",
       "1     1001   41        NaN       Москва       Иван       Ежов  2018-11-01   \n",
       "2     1002   59        NaN  Стерлитамак    Евгений  Абрамович  2018-06-17   \n",
       "3     1003   23        NaN       Москва      Белла   Белякова  2018-08-17   \n",
       "4     1004   68        NaN  Новокузнецк    Татьяна   Авдеенко  2018-05-14   \n",
       "\n",
       "  tariff  \n",
       "0  ultra  \n",
       "1  smart  \n",
       "2  smart  \n",
       "3  ultra  \n",
       "4  ultra  "
      ]
     },
     "metadata": {},
     "output_type": "display_data"
    },
    {
     "data": {
      "text/html": [
       "<div>\n",
       "<style scoped>\n",
       "    .dataframe tbody tr th:only-of-type {\n",
       "        vertical-align: middle;\n",
       "    }\n",
       "\n",
       "    .dataframe tbody tr th {\n",
       "        vertical-align: top;\n",
       "    }\n",
       "\n",
       "    .dataframe thead th {\n",
       "        text-align: right;\n",
       "    }\n",
       "</style>\n",
       "<table border=\"1\" class=\"dataframe\">\n",
       "  <thead>\n",
       "    <tr style=\"text-align: right;\">\n",
       "      <th></th>\n",
       "      <th>user_id</th>\n",
       "      <th>age</th>\n",
       "    </tr>\n",
       "  </thead>\n",
       "  <tbody>\n",
       "    <tr>\n",
       "      <td>count</td>\n",
       "      <td>500.00</td>\n",
       "      <td>500.00</td>\n",
       "    </tr>\n",
       "    <tr>\n",
       "      <td>mean</td>\n",
       "      <td>1,249.50</td>\n",
       "      <td>46.59</td>\n",
       "    </tr>\n",
       "    <tr>\n",
       "      <td>std</td>\n",
       "      <td>144.48</td>\n",
       "      <td>16.67</td>\n",
       "    </tr>\n",
       "    <tr>\n",
       "      <td>min</td>\n",
       "      <td>1,000.00</td>\n",
       "      <td>18.00</td>\n",
       "    </tr>\n",
       "    <tr>\n",
       "      <td>25%</td>\n",
       "      <td>1,124.75</td>\n",
       "      <td>32.00</td>\n",
       "    </tr>\n",
       "    <tr>\n",
       "      <td>50%</td>\n",
       "      <td>1,249.50</td>\n",
       "      <td>46.00</td>\n",
       "    </tr>\n",
       "    <tr>\n",
       "      <td>75%</td>\n",
       "      <td>1,374.25</td>\n",
       "      <td>62.00</td>\n",
       "    </tr>\n",
       "    <tr>\n",
       "      <td>max</td>\n",
       "      <td>1,499.00</td>\n",
       "      <td>75.00</td>\n",
       "    </tr>\n",
       "  </tbody>\n",
       "</table>\n",
       "</div>"
      ],
      "text/plain": [
       "       user_id    age\n",
       "count   500.00 500.00\n",
       "mean  1,249.50  46.59\n",
       "std     144.48  16.67\n",
       "min   1,000.00  18.00\n",
       "25%   1,124.75  32.00\n",
       "50%   1,249.50  46.00\n",
       "75%   1,374.25  62.00\n",
       "max   1,499.00  75.00"
      ]
     },
     "metadata": {},
     "output_type": "display_data"
    },
    {
     "name": "stdout",
     "output_type": "stream",
     "text": [
      "Количество дубликатов 0\n"
     ]
    }
   ],
   "source": [
    "research(users)"
   ]
  },
  {
   "cell_type": "markdown",
   "metadata": {},
   "source": [
    "В таблице **users** отражена информация о пользователях:\n",
    "\n",
    "- `user_id` — уникальный идентификатор пользователя\n",
    "- `first_name` — имя пользователя\n",
    "- `last_name` — фамилия пользователя\n",
    "- `age` — возраст пользователя (годы)\n",
    "- `reg_date` — дата подключения тарифа (день, месяц, год)\n",
    "- `churn_date` — дата прекращения пользования тарифом (если значение пропущено, то тариф ещё действовал на момент выгрузки данных)\n",
    "- `city` — город проживания пользователя\n",
    "- `tarif` — название тарифного плана\n",
    "\n",
    "Исходя из цели исследования нам потребуются колонки: `user_id`,`city`,`tarif`.\n",
    "\n",
    "Наименование колонок указано верно, есть пропущенные значения в колонке `churn_date`, но они свидетельствуют о том,что пользователь еще является Клиентом Компании. Из 500 пользователей,указанных в выборке 38 расторгли договора на оказание услуг связи.\n",
    "Средний возраст клиента - 46 лет.\n",
    "Дубликатов не обнаружено, столбцы: `churn_date`,`reg_date` не будут использоваться при проведении анализа, поэтому не будем менять тип данных на тип даты."
   ]
  },
  {
   "cell_type": "markdown",
   "metadata": {},
   "source": [
    "Изучим таблицу calls"
   ]
  },
  {
   "cell_type": "code",
   "execution_count": 5,
   "metadata": {},
   "outputs": [
    {
     "name": "stdout",
     "output_type": "stream",
     "text": [
      "<class 'pandas.core.frame.DataFrame'>\n",
      "RangeIndex: 202607 entries, 0 to 202606\n",
      "Data columns (total 4 columns):\n",
      "id           202607 non-null object\n",
      "call_date    202607 non-null object\n",
      "duration     202607 non-null float64\n",
      "user_id      202607 non-null int64\n",
      "dtypes: float64(1), int64(1), object(2)\n",
      "memory usage: 28.6 MB\n"
     ]
    },
    {
     "data": {
      "text/html": [
       "<div>\n",
       "<style scoped>\n",
       "    .dataframe tbody tr th:only-of-type {\n",
       "        vertical-align: middle;\n",
       "    }\n",
       "\n",
       "    .dataframe tbody tr th {\n",
       "        vertical-align: top;\n",
       "    }\n",
       "\n",
       "    .dataframe thead th {\n",
       "        text-align: right;\n",
       "    }\n",
       "</style>\n",
       "<table border=\"1\" class=\"dataframe\">\n",
       "  <thead>\n",
       "    <tr style=\"text-align: right;\">\n",
       "      <th></th>\n",
       "      <th>id</th>\n",
       "      <th>call_date</th>\n",
       "      <th>duration</th>\n",
       "      <th>user_id</th>\n",
       "    </tr>\n",
       "  </thead>\n",
       "  <tbody>\n",
       "    <tr>\n",
       "      <td>0</td>\n",
       "      <td>1000_0</td>\n",
       "      <td>2018-07-25</td>\n",
       "      <td>0.00</td>\n",
       "      <td>1000</td>\n",
       "    </tr>\n",
       "    <tr>\n",
       "      <td>1</td>\n",
       "      <td>1000_1</td>\n",
       "      <td>2018-08-17</td>\n",
       "      <td>0.00</td>\n",
       "      <td>1000</td>\n",
       "    </tr>\n",
       "    <tr>\n",
       "      <td>2</td>\n",
       "      <td>1000_2</td>\n",
       "      <td>2018-06-11</td>\n",
       "      <td>2.85</td>\n",
       "      <td>1000</td>\n",
       "    </tr>\n",
       "    <tr>\n",
       "      <td>3</td>\n",
       "      <td>1000_3</td>\n",
       "      <td>2018-09-21</td>\n",
       "      <td>13.80</td>\n",
       "      <td>1000</td>\n",
       "    </tr>\n",
       "    <tr>\n",
       "      <td>4</td>\n",
       "      <td>1000_4</td>\n",
       "      <td>2018-12-15</td>\n",
       "      <td>5.18</td>\n",
       "      <td>1000</td>\n",
       "    </tr>\n",
       "  </tbody>\n",
       "</table>\n",
       "</div>"
      ],
      "text/plain": [
       "       id   call_date  duration  user_id\n",
       "0  1000_0  2018-07-25      0.00     1000\n",
       "1  1000_1  2018-08-17      0.00     1000\n",
       "2  1000_2  2018-06-11      2.85     1000\n",
       "3  1000_3  2018-09-21     13.80     1000\n",
       "4  1000_4  2018-12-15      5.18     1000"
      ]
     },
     "metadata": {},
     "output_type": "display_data"
    },
    {
     "data": {
      "text/html": [
       "<div>\n",
       "<style scoped>\n",
       "    .dataframe tbody tr th:only-of-type {\n",
       "        vertical-align: middle;\n",
       "    }\n",
       "\n",
       "    .dataframe tbody tr th {\n",
       "        vertical-align: top;\n",
       "    }\n",
       "\n",
       "    .dataframe thead th {\n",
       "        text-align: right;\n",
       "    }\n",
       "</style>\n",
       "<table border=\"1\" class=\"dataframe\">\n",
       "  <thead>\n",
       "    <tr style=\"text-align: right;\">\n",
       "      <th></th>\n",
       "      <th>duration</th>\n",
       "      <th>user_id</th>\n",
       "    </tr>\n",
       "  </thead>\n",
       "  <tbody>\n",
       "    <tr>\n",
       "      <td>count</td>\n",
       "      <td>202,607.00</td>\n",
       "      <td>202,607.00</td>\n",
       "    </tr>\n",
       "    <tr>\n",
       "      <td>mean</td>\n",
       "      <td>6.76</td>\n",
       "      <td>1,253.94</td>\n",
       "    </tr>\n",
       "    <tr>\n",
       "      <td>std</td>\n",
       "      <td>5.84</td>\n",
       "      <td>144.72</td>\n",
       "    </tr>\n",
       "    <tr>\n",
       "      <td>min</td>\n",
       "      <td>0.00</td>\n",
       "      <td>1,000.00</td>\n",
       "    </tr>\n",
       "    <tr>\n",
       "      <td>25%</td>\n",
       "      <td>1.30</td>\n",
       "      <td>1,126.00</td>\n",
       "    </tr>\n",
       "    <tr>\n",
       "      <td>50%</td>\n",
       "      <td>6.00</td>\n",
       "      <td>1,260.00</td>\n",
       "    </tr>\n",
       "    <tr>\n",
       "      <td>75%</td>\n",
       "      <td>10.70</td>\n",
       "      <td>1,379.00</td>\n",
       "    </tr>\n",
       "    <tr>\n",
       "      <td>max</td>\n",
       "      <td>38.00</td>\n",
       "      <td>1,499.00</td>\n",
       "    </tr>\n",
       "  </tbody>\n",
       "</table>\n",
       "</div>"
      ],
      "text/plain": [
       "        duration    user_id\n",
       "count 202,607.00 202,607.00\n",
       "mean        6.76   1,253.94\n",
       "std         5.84     144.72\n",
       "min         0.00   1,000.00\n",
       "25%         1.30   1,126.00\n",
       "50%         6.00   1,260.00\n",
       "75%        10.70   1,379.00\n",
       "max        38.00   1,499.00"
      ]
     },
     "metadata": {},
     "output_type": "display_data"
    },
    {
     "name": "stdout",
     "output_type": "stream",
     "text": [
      "Количество дубликатов 0\n"
     ]
    }
   ],
   "source": [
    "research(calls)"
   ]
  },
  {
   "cell_type": "markdown",
   "metadata": {},
   "source": [
    "В таблица **calls** отражена информация о звонках:\n",
    "- `id`— уникальный номер звонка\n",
    "- `call_date` — дата звонка\n",
    "- `duration` — длительность звонка в минутах\n",
    "- `user_id` — идентификатор пользователя, сделавшего звонок\n",
    "\n",
    "В рамках проведения исследования нам потребуются все колонки таблицы calls.\n",
    "\n",
    "Наименование колонок указано верно, пропущенные значения отсутствуют, дубликаты отсутствуют, типы данных укзааны верно во всех ячейка кроме `call_date` (требуется перевести в формат даты).\n",
    "\n",
    "Так как оператор округляет количество минут в большую сторону на этапе предобработки данных следует выполнить округление значений в колонке duration."
   ]
  },
  {
   "cell_type": "markdown",
   "metadata": {},
   "source": [
    "Изучим таблицу internet"
   ]
  },
  {
   "cell_type": "code",
   "execution_count": 6,
   "metadata": {},
   "outputs": [
    {
     "name": "stdout",
     "output_type": "stream",
     "text": [
      "<class 'pandas.core.frame.DataFrame'>\n",
      "Int64Index: 149396 entries, 0 to 149395\n",
      "Data columns (total 4 columns):\n",
      "id              149396 non-null object\n",
      "mb_used         149396 non-null float64\n",
      "session_date    149396 non-null object\n",
      "user_id         149396 non-null int64\n",
      "dtypes: float64(1), int64(1), object(2)\n",
      "memory usage: 22.2 MB\n"
     ]
    },
    {
     "data": {
      "text/html": [
       "<div>\n",
       "<style scoped>\n",
       "    .dataframe tbody tr th:only-of-type {\n",
       "        vertical-align: middle;\n",
       "    }\n",
       "\n",
       "    .dataframe tbody tr th {\n",
       "        vertical-align: top;\n",
       "    }\n",
       "\n",
       "    .dataframe thead th {\n",
       "        text-align: right;\n",
       "    }\n",
       "</style>\n",
       "<table border=\"1\" class=\"dataframe\">\n",
       "  <thead>\n",
       "    <tr style=\"text-align: right;\">\n",
       "      <th></th>\n",
       "      <th>id</th>\n",
       "      <th>mb_used</th>\n",
       "      <th>session_date</th>\n",
       "      <th>user_id</th>\n",
       "    </tr>\n",
       "  </thead>\n",
       "  <tbody>\n",
       "    <tr>\n",
       "      <td>0</td>\n",
       "      <td>1000_0</td>\n",
       "      <td>112.95</td>\n",
       "      <td>2018-11-25</td>\n",
       "      <td>1000</td>\n",
       "    </tr>\n",
       "    <tr>\n",
       "      <td>1</td>\n",
       "      <td>1000_1</td>\n",
       "      <td>1,052.81</td>\n",
       "      <td>2018-09-07</td>\n",
       "      <td>1000</td>\n",
       "    </tr>\n",
       "    <tr>\n",
       "      <td>2</td>\n",
       "      <td>1000_2</td>\n",
       "      <td>1,197.26</td>\n",
       "      <td>2018-06-25</td>\n",
       "      <td>1000</td>\n",
       "    </tr>\n",
       "    <tr>\n",
       "      <td>3</td>\n",
       "      <td>1000_3</td>\n",
       "      <td>550.27</td>\n",
       "      <td>2018-08-22</td>\n",
       "      <td>1000</td>\n",
       "    </tr>\n",
       "    <tr>\n",
       "      <td>4</td>\n",
       "      <td>1000_4</td>\n",
       "      <td>302.56</td>\n",
       "      <td>2018-09-24</td>\n",
       "      <td>1000</td>\n",
       "    </tr>\n",
       "  </tbody>\n",
       "</table>\n",
       "</div>"
      ],
      "text/plain": [
       "       id  mb_used session_date  user_id\n",
       "0  1000_0   112.95   2018-11-25     1000\n",
       "1  1000_1 1,052.81   2018-09-07     1000\n",
       "2  1000_2 1,197.26   2018-06-25     1000\n",
       "3  1000_3   550.27   2018-08-22     1000\n",
       "4  1000_4   302.56   2018-09-24     1000"
      ]
     },
     "metadata": {},
     "output_type": "display_data"
    },
    {
     "data": {
      "text/html": [
       "<div>\n",
       "<style scoped>\n",
       "    .dataframe tbody tr th:only-of-type {\n",
       "        vertical-align: middle;\n",
       "    }\n",
       "\n",
       "    .dataframe tbody tr th {\n",
       "        vertical-align: top;\n",
       "    }\n",
       "\n",
       "    .dataframe thead th {\n",
       "        text-align: right;\n",
       "    }\n",
       "</style>\n",
       "<table border=\"1\" class=\"dataframe\">\n",
       "  <thead>\n",
       "    <tr style=\"text-align: right;\">\n",
       "      <th></th>\n",
       "      <th>mb_used</th>\n",
       "      <th>user_id</th>\n",
       "    </tr>\n",
       "  </thead>\n",
       "  <tbody>\n",
       "    <tr>\n",
       "      <td>count</td>\n",
       "      <td>149,396.00</td>\n",
       "      <td>149,396.00</td>\n",
       "    </tr>\n",
       "    <tr>\n",
       "      <td>mean</td>\n",
       "      <td>370.19</td>\n",
       "      <td>1,252.10</td>\n",
       "    </tr>\n",
       "    <tr>\n",
       "      <td>std</td>\n",
       "      <td>278.30</td>\n",
       "      <td>144.05</td>\n",
       "    </tr>\n",
       "    <tr>\n",
       "      <td>min</td>\n",
       "      <td>0.00</td>\n",
       "      <td>1,000.00</td>\n",
       "    </tr>\n",
       "    <tr>\n",
       "      <td>25%</td>\n",
       "      <td>138.19</td>\n",
       "      <td>1,130.00</td>\n",
       "    </tr>\n",
       "    <tr>\n",
       "      <td>50%</td>\n",
       "      <td>348.01</td>\n",
       "      <td>1,251.00</td>\n",
       "    </tr>\n",
       "    <tr>\n",
       "      <td>75%</td>\n",
       "      <td>559.55</td>\n",
       "      <td>1,380.00</td>\n",
       "    </tr>\n",
       "    <tr>\n",
       "      <td>max</td>\n",
       "      <td>1,724.83</td>\n",
       "      <td>1,499.00</td>\n",
       "    </tr>\n",
       "  </tbody>\n",
       "</table>\n",
       "</div>"
      ],
      "text/plain": [
       "         mb_used    user_id\n",
       "count 149,396.00 149,396.00\n",
       "mean      370.19   1,252.10\n",
       "std       278.30     144.05\n",
       "min         0.00   1,000.00\n",
       "25%       138.19   1,130.00\n",
       "50%       348.01   1,251.00\n",
       "75%       559.55   1,380.00\n",
       "max     1,724.83   1,499.00"
      ]
     },
     "metadata": {},
     "output_type": "display_data"
    },
    {
     "name": "stdout",
     "output_type": "stream",
     "text": [
      "Количество дубликатов 0\n"
     ]
    }
   ],
   "source": [
    "research(internet)"
   ]
  },
  {
   "cell_type": "markdown",
   "metadata": {},
   "source": [
    "В таблице **internet** отражена информация об интернет-сессиях:\n",
    "- `id` — уникальный номер сессии\n",
    "- `mb_used` — объём потраченного за сессию интернет-трафика (в мегабайтах)\n",
    "- `session_date` — дата интернет-сессии\n",
    "- `user_id` — идентификатор пользователя\n",
    "\n",
    "В рамках проведения исследования нам потребуются все колонки таблицы.\n",
    "\n",
    "Наименование колонок указано верно, пропущенные значения отсутствуют,дубликаты не найдены, тип данных указан верно во всех столбцах кроме `session_date`(требуется перевести в формат даты). Обнаружен неизвестный столбец `Unnamed:0`."
   ]
  },
  {
   "cell_type": "markdown",
   "metadata": {},
   "source": [
    "Изучим таблицу messages"
   ]
  },
  {
   "cell_type": "code",
   "execution_count": 7,
   "metadata": {},
   "outputs": [
    {
     "name": "stdout",
     "output_type": "stream",
     "text": [
      "<class 'pandas.core.frame.DataFrame'>\n",
      "RangeIndex: 123036 entries, 0 to 123035\n",
      "Data columns (total 3 columns):\n",
      "id              123036 non-null object\n",
      "message_date    123036 non-null object\n",
      "user_id         123036 non-null int64\n",
      "dtypes: int64(1), object(2)\n",
      "memory usage: 16.4 MB\n"
     ]
    },
    {
     "data": {
      "text/html": [
       "<div>\n",
       "<style scoped>\n",
       "    .dataframe tbody tr th:only-of-type {\n",
       "        vertical-align: middle;\n",
       "    }\n",
       "\n",
       "    .dataframe tbody tr th {\n",
       "        vertical-align: top;\n",
       "    }\n",
       "\n",
       "    .dataframe thead th {\n",
       "        text-align: right;\n",
       "    }\n",
       "</style>\n",
       "<table border=\"1\" class=\"dataframe\">\n",
       "  <thead>\n",
       "    <tr style=\"text-align: right;\">\n",
       "      <th></th>\n",
       "      <th>id</th>\n",
       "      <th>message_date</th>\n",
       "      <th>user_id</th>\n",
       "    </tr>\n",
       "  </thead>\n",
       "  <tbody>\n",
       "    <tr>\n",
       "      <td>0</td>\n",
       "      <td>1000_0</td>\n",
       "      <td>2018-06-27</td>\n",
       "      <td>1000</td>\n",
       "    </tr>\n",
       "    <tr>\n",
       "      <td>1</td>\n",
       "      <td>1000_1</td>\n",
       "      <td>2018-10-08</td>\n",
       "      <td>1000</td>\n",
       "    </tr>\n",
       "    <tr>\n",
       "      <td>2</td>\n",
       "      <td>1000_2</td>\n",
       "      <td>2018-08-04</td>\n",
       "      <td>1000</td>\n",
       "    </tr>\n",
       "    <tr>\n",
       "      <td>3</td>\n",
       "      <td>1000_3</td>\n",
       "      <td>2018-06-16</td>\n",
       "      <td>1000</td>\n",
       "    </tr>\n",
       "    <tr>\n",
       "      <td>4</td>\n",
       "      <td>1000_4</td>\n",
       "      <td>2018-12-05</td>\n",
       "      <td>1000</td>\n",
       "    </tr>\n",
       "  </tbody>\n",
       "</table>\n",
       "</div>"
      ],
      "text/plain": [
       "       id message_date  user_id\n",
       "0  1000_0   2018-06-27     1000\n",
       "1  1000_1   2018-10-08     1000\n",
       "2  1000_2   2018-08-04     1000\n",
       "3  1000_3   2018-06-16     1000\n",
       "4  1000_4   2018-12-05     1000"
      ]
     },
     "metadata": {},
     "output_type": "display_data"
    },
    {
     "data": {
      "text/html": [
       "<div>\n",
       "<style scoped>\n",
       "    .dataframe tbody tr th:only-of-type {\n",
       "        vertical-align: middle;\n",
       "    }\n",
       "\n",
       "    .dataframe tbody tr th {\n",
       "        vertical-align: top;\n",
       "    }\n",
       "\n",
       "    .dataframe thead th {\n",
       "        text-align: right;\n",
       "    }\n",
       "</style>\n",
       "<table border=\"1\" class=\"dataframe\">\n",
       "  <thead>\n",
       "    <tr style=\"text-align: right;\">\n",
       "      <th></th>\n",
       "      <th>user_id</th>\n",
       "    </tr>\n",
       "  </thead>\n",
       "  <tbody>\n",
       "    <tr>\n",
       "      <td>count</td>\n",
       "      <td>123,036.00</td>\n",
       "    </tr>\n",
       "    <tr>\n",
       "      <td>mean</td>\n",
       "      <td>1,256.99</td>\n",
       "    </tr>\n",
       "    <tr>\n",
       "      <td>std</td>\n",
       "      <td>143.52</td>\n",
       "    </tr>\n",
       "    <tr>\n",
       "      <td>min</td>\n",
       "      <td>1,000.00</td>\n",
       "    </tr>\n",
       "    <tr>\n",
       "      <td>25%</td>\n",
       "      <td>1,134.00</td>\n",
       "    </tr>\n",
       "    <tr>\n",
       "      <td>50%</td>\n",
       "      <td>1,271.00</td>\n",
       "    </tr>\n",
       "    <tr>\n",
       "      <td>75%</td>\n",
       "      <td>1,381.00</td>\n",
       "    </tr>\n",
       "    <tr>\n",
       "      <td>max</td>\n",
       "      <td>1,499.00</td>\n",
       "    </tr>\n",
       "  </tbody>\n",
       "</table>\n",
       "</div>"
      ],
      "text/plain": [
       "         user_id\n",
       "count 123,036.00\n",
       "mean    1,256.99\n",
       "std       143.52\n",
       "min     1,000.00\n",
       "25%     1,134.00\n",
       "50%     1,271.00\n",
       "75%     1,381.00\n",
       "max     1,499.00"
      ]
     },
     "metadata": {},
     "output_type": "display_data"
    },
    {
     "name": "stdout",
     "output_type": "stream",
     "text": [
      "Количество дубликатов 0\n"
     ]
    }
   ],
   "source": [
    "research(messages)"
   ]
  },
  {
   "cell_type": "markdown",
   "metadata": {},
   "source": [
    "В таблице messages отражена информация о сообщениях:\n",
    "- `id` — уникальный номер сообщения\n",
    "- `message_date` — дата сообщения\n",
    "- `user_id` — идентификатор пользователя, отправившего сообщение\n",
    "\n",
    "В рамках проведения исследования нам потребуются все колонки таблицы\n",
    "\n",
    "Пропущенные значения отсутствуют,наименование колонок указано верно,дубликатов не обнаружено требуется изменить тип данных в колонке message_date на формат даты."
   ]
  },
  {
   "cell_type": "markdown",
   "metadata": {},
   "source": [
    "Изучим таблицу tariffs"
   ]
  },
  {
   "cell_type": "code",
   "execution_count": 8,
   "metadata": {},
   "outputs": [
    {
     "name": "stdout",
     "output_type": "stream",
     "text": [
      "<class 'pandas.core.frame.DataFrame'>\n",
      "RangeIndex: 2 entries, 0 to 1\n",
      "Data columns (total 8 columns):\n",
      "messages_included        2 non-null int64\n",
      "mb_per_month_included    2 non-null int64\n",
      "minutes_included         2 non-null int64\n",
      "rub_monthly_fee          2 non-null int64\n",
      "rub_per_gb               2 non-null int64\n",
      "rub_per_message          2 non-null int64\n",
      "rub_per_minute           2 non-null int64\n",
      "tariff_name              2 non-null object\n",
      "dtypes: int64(7), object(1)\n",
      "memory usage: 364.0 bytes\n"
     ]
    },
    {
     "data": {
      "text/html": [
       "<div>\n",
       "<style scoped>\n",
       "    .dataframe tbody tr th:only-of-type {\n",
       "        vertical-align: middle;\n",
       "    }\n",
       "\n",
       "    .dataframe tbody tr th {\n",
       "        vertical-align: top;\n",
       "    }\n",
       "\n",
       "    .dataframe thead th {\n",
       "        text-align: right;\n",
       "    }\n",
       "</style>\n",
       "<table border=\"1\" class=\"dataframe\">\n",
       "  <thead>\n",
       "    <tr style=\"text-align: right;\">\n",
       "      <th></th>\n",
       "      <th>messages_included</th>\n",
       "      <th>mb_per_month_included</th>\n",
       "      <th>minutes_included</th>\n",
       "      <th>rub_monthly_fee</th>\n",
       "      <th>rub_per_gb</th>\n",
       "      <th>rub_per_message</th>\n",
       "      <th>rub_per_minute</th>\n",
       "      <th>tariff_name</th>\n",
       "    </tr>\n",
       "  </thead>\n",
       "  <tbody>\n",
       "    <tr>\n",
       "      <td>0</td>\n",
       "      <td>50</td>\n",
       "      <td>15360</td>\n",
       "      <td>500</td>\n",
       "      <td>550</td>\n",
       "      <td>200</td>\n",
       "      <td>3</td>\n",
       "      <td>3</td>\n",
       "      <td>smart</td>\n",
       "    </tr>\n",
       "    <tr>\n",
       "      <td>1</td>\n",
       "      <td>1000</td>\n",
       "      <td>30720</td>\n",
       "      <td>3000</td>\n",
       "      <td>1950</td>\n",
       "      <td>150</td>\n",
       "      <td>1</td>\n",
       "      <td>1</td>\n",
       "      <td>ultra</td>\n",
       "    </tr>\n",
       "  </tbody>\n",
       "</table>\n",
       "</div>"
      ],
      "text/plain": [
       "   messages_included  mb_per_month_included  minutes_included  \\\n",
       "0                 50                  15360               500   \n",
       "1               1000                  30720              3000   \n",
       "\n",
       "   rub_monthly_fee  rub_per_gb  rub_per_message  rub_per_minute tariff_name  \n",
       "0              550         200                3               3       smart  \n",
       "1             1950         150                1               1       ultra  "
      ]
     },
     "metadata": {},
     "output_type": "display_data"
    },
    {
     "data": {
      "text/html": [
       "<div>\n",
       "<style scoped>\n",
       "    .dataframe tbody tr th:only-of-type {\n",
       "        vertical-align: middle;\n",
       "    }\n",
       "\n",
       "    .dataframe tbody tr th {\n",
       "        vertical-align: top;\n",
       "    }\n",
       "\n",
       "    .dataframe thead th {\n",
       "        text-align: right;\n",
       "    }\n",
       "</style>\n",
       "<table border=\"1\" class=\"dataframe\">\n",
       "  <thead>\n",
       "    <tr style=\"text-align: right;\">\n",
       "      <th></th>\n",
       "      <th>messages_included</th>\n",
       "      <th>mb_per_month_included</th>\n",
       "      <th>minutes_included</th>\n",
       "      <th>rub_monthly_fee</th>\n",
       "      <th>rub_per_gb</th>\n",
       "      <th>rub_per_message</th>\n",
       "      <th>rub_per_minute</th>\n",
       "    </tr>\n",
       "  </thead>\n",
       "  <tbody>\n",
       "    <tr>\n",
       "      <td>count</td>\n",
       "      <td>2.00</td>\n",
       "      <td>2.00</td>\n",
       "      <td>2.00</td>\n",
       "      <td>2.00</td>\n",
       "      <td>2.00</td>\n",
       "      <td>2.00</td>\n",
       "      <td>2.00</td>\n",
       "    </tr>\n",
       "    <tr>\n",
       "      <td>mean</td>\n",
       "      <td>525.00</td>\n",
       "      <td>23,040.00</td>\n",
       "      <td>1,750.00</td>\n",
       "      <td>1,250.00</td>\n",
       "      <td>175.00</td>\n",
       "      <td>2.00</td>\n",
       "      <td>2.00</td>\n",
       "    </tr>\n",
       "    <tr>\n",
       "      <td>std</td>\n",
       "      <td>671.75</td>\n",
       "      <td>10,861.16</td>\n",
       "      <td>1,767.77</td>\n",
       "      <td>989.95</td>\n",
       "      <td>35.36</td>\n",
       "      <td>1.41</td>\n",
       "      <td>1.41</td>\n",
       "    </tr>\n",
       "    <tr>\n",
       "      <td>min</td>\n",
       "      <td>50.00</td>\n",
       "      <td>15,360.00</td>\n",
       "      <td>500.00</td>\n",
       "      <td>550.00</td>\n",
       "      <td>150.00</td>\n",
       "      <td>1.00</td>\n",
       "      <td>1.00</td>\n",
       "    </tr>\n",
       "    <tr>\n",
       "      <td>25%</td>\n",
       "      <td>287.50</td>\n",
       "      <td>19,200.00</td>\n",
       "      <td>1,125.00</td>\n",
       "      <td>900.00</td>\n",
       "      <td>162.50</td>\n",
       "      <td>1.50</td>\n",
       "      <td>1.50</td>\n",
       "    </tr>\n",
       "    <tr>\n",
       "      <td>50%</td>\n",
       "      <td>525.00</td>\n",
       "      <td>23,040.00</td>\n",
       "      <td>1,750.00</td>\n",
       "      <td>1,250.00</td>\n",
       "      <td>175.00</td>\n",
       "      <td>2.00</td>\n",
       "      <td>2.00</td>\n",
       "    </tr>\n",
       "    <tr>\n",
       "      <td>75%</td>\n",
       "      <td>762.50</td>\n",
       "      <td>26,880.00</td>\n",
       "      <td>2,375.00</td>\n",
       "      <td>1,600.00</td>\n",
       "      <td>187.50</td>\n",
       "      <td>2.50</td>\n",
       "      <td>2.50</td>\n",
       "    </tr>\n",
       "    <tr>\n",
       "      <td>max</td>\n",
       "      <td>1,000.00</td>\n",
       "      <td>30,720.00</td>\n",
       "      <td>3,000.00</td>\n",
       "      <td>1,950.00</td>\n",
       "      <td>200.00</td>\n",
       "      <td>3.00</td>\n",
       "      <td>3.00</td>\n",
       "    </tr>\n",
       "  </tbody>\n",
       "</table>\n",
       "</div>"
      ],
      "text/plain": [
       "       messages_included  mb_per_month_included  minutes_included  \\\n",
       "count               2.00                   2.00              2.00   \n",
       "mean              525.00              23,040.00          1,750.00   \n",
       "std               671.75              10,861.16          1,767.77   \n",
       "min                50.00              15,360.00            500.00   \n",
       "25%               287.50              19,200.00          1,125.00   \n",
       "50%               525.00              23,040.00          1,750.00   \n",
       "75%               762.50              26,880.00          2,375.00   \n",
       "max             1,000.00              30,720.00          3,000.00   \n",
       "\n",
       "       rub_monthly_fee  rub_per_gb  rub_per_message  rub_per_minute  \n",
       "count             2.00        2.00             2.00            2.00  \n",
       "mean          1,250.00      175.00             2.00            2.00  \n",
       "std             989.95       35.36             1.41            1.41  \n",
       "min             550.00      150.00             1.00            1.00  \n",
       "25%             900.00      162.50             1.50            1.50  \n",
       "50%           1,250.00      175.00             2.00            2.00  \n",
       "75%           1,600.00      187.50             2.50            2.50  \n",
       "max           1,950.00      200.00             3.00            3.00  "
      ]
     },
     "metadata": {},
     "output_type": "display_data"
    },
    {
     "name": "stdout",
     "output_type": "stream",
     "text": [
      "Количество дубликатов 0\n"
     ]
    }
   ],
   "source": [
    "research(tariffs)"
   ]
  },
  {
   "cell_type": "markdown",
   "metadata": {},
   "source": [
    "В таблице tariffs указана информация о тарифах:\n",
    "- `tariff_name` — название тарифа\n",
    "- `rub_monthly_fee` — ежемесячная абонентская плата в рублях\n",
    "- `minutes_included` — количество минут разговора в месяц, включённых в абонентскую плату\n",
    "- `messages_included` — количество сообщений в месяц, включённых в абонентскую плату\n",
    "- `mb_per_month_included` — объём интернет-трафика, включённого в абонентскую плату (в мегабайтах)\n",
    "- `rub_per_minute` — стоимость минуты разговора сверх тарифного пакета (например, если в тарифе 100 минут разговора в месяц, то со 101 минуты будет взиматься плата)\n",
    "- `rub_per_message` — стоимость отправки сообщения сверх тарифного пакета\n",
    "- `rub_per_gb` — стоимость дополнительного гигабайта интернет-трафика сверх тарифного пакета (1 гигабайт = 1024 мегабайта)\n",
    "\n",
    "В рамках проведения исследования нам потребуются все колонки таблицы.\n",
    "\n",
    "Наименование колонки tariff_name в таблице tariffs  отличается от колонки tariff в таблице users,в рамках исследования данные таблицы будут объеденены по тарифу, в связи с чем требуется привести наименования к единообразию.\n"
   ]
  },
  {
   "cell_type": "markdown",
   "metadata": {},
   "source": [
    "### Вывод"
   ]
  },
  {
   "cell_type": "markdown",
   "metadata": {},
   "source": [
    "При изучении таблицы выявлены столбцы,которые необходимо перевести в формат даты, а именно:\n",
    "- `call_date`;\n",
    "- `session_date`;\n",
    "- `message_date`;\n",
    "\n",
    "В исходных таблицах предоставлена выборка по 500 Клиентам Компании за 2018 год. Представлены таблицы с информацией о пользователях, где указана фамилия, имя, идентификатор пользователя, город, возраст, дата заключения договора и дата расторжени. Также представлены таблицы с информацией о произведенных расходах: количестве звонков и их длительности, количестве смс, расходе трафика и таблица с подробной информацией о тарифных планах,которые требуется исследовать (\"Смарт\" и \"Ультра\").\n",
    "Согласно цели исследования нам потребуются не все параметры таблиц. Предварительно можно утверждать,что данных для проведения анализа достаточно.\n",
    "На этапе изучения данных обнаружены допустипые нулевые значения в столбце churn_date и duration, таблица проверена на наличие дубликатов.\n",
    "\n",
    "Но перед началом исследования требуется выполнить предобработку данных: изменить типы данных,выполнить проверку допустимых значений, выполнить категоризации и только после этого провести исследование."
   ]
  },
  {
   "cell_type": "markdown",
   "metadata": {},
   "source": [
    "## Предобработка данных"
   ]
  },
  {
   "cell_type": "markdown",
   "metadata": {},
   "source": [
    "### Замена типа данных\n",
    "<a id=\"preprocessing_one_id\"></a>"
   ]
  },
  {
   "cell_type": "markdown",
   "metadata": {},
   "source": [
    "Выполним замену типа данных в колонках с датами,которые потребуются для исследования, на формат даты."
   ]
  },
  {
   "cell_type": "code",
   "execution_count": 9,
   "metadata": {},
   "outputs": [],
   "source": [
    "calls['call_date'] = pd.to_datetime(calls['call_date'], format='%Y-%m-%dT%H:%M:%S')\n",
    "internet['session_date'] = pd.to_datetime(internet['session_date'], format='%Y-%m-%dT%H:%M:%S')\n",
    "messages['message_date'] = pd.to_datetime(messages['message_date'], format='%Y-%m-%dT%H:%M:%S')"
   ]
  },
  {
   "cell_type": "markdown",
   "metadata": {},
   "source": [
    "Создадим функцию optimize, которая позволяет экономить наше сетевое пространство."
   ]
  },
  {
   "cell_type": "code",
   "execution_count": 10,
   "metadata": {},
   "outputs": [],
   "source": [
    "def optimize(data):\n",
    "    for dtype in ['int']:\n",
    "        selected_dtype = data.select_dtypes(include=[dtype])\n",
    "        selected_dtype_column = selected_dtype.columns\n",
    "        for i in selected_dtype_column:\n",
    "            data[i] = data[i].astype('int32')\n",
    "\n",
    "    for dtype in ['float']:\n",
    "        selected_dtype = data.select_dtypes(include=[dtype])\n",
    "        selected_dtype_column = selected_dtype.columns\n",
    "        for i in selected_dtype_column:\n",
    "            data[i] = data[i].astype('float32')\n",
    "\n",
    "    data.info(memory_usage='deep')"
   ]
  },
  {
   "cell_type": "markdown",
   "metadata": {},
   "source": [
    "Применим ее к нашим таблицам"
   ]
  },
  {
   "cell_type": "code",
   "execution_count": 11,
   "metadata": {},
   "outputs": [
    {
     "name": "stdout",
     "output_type": "stream",
     "text": [
      "<class 'pandas.core.frame.DataFrame'>\n",
      "RangeIndex: 500 entries, 0 to 499\n",
      "Data columns (total 8 columns):\n",
      "user_id       500 non-null int32\n",
      "age           500 non-null int32\n",
      "churn_date    38 non-null object\n",
      "city          500 non-null object\n",
      "first_name    500 non-null object\n",
      "last_name     500 non-null object\n",
      "reg_date      500 non-null object\n",
      "tariff        500 non-null object\n",
      "dtypes: int32(2), object(6)\n",
      "memory usage: 248.8 KB\n",
      "\n",
      "<class 'pandas.core.frame.DataFrame'>\n",
      "RangeIndex: 202607 entries, 0 to 202606\n",
      "Data columns (total 4 columns):\n",
      "id           202607 non-null object\n",
      "call_date    202607 non-null datetime64[ns]\n",
      "duration     202607 non-null float32\n",
      "user_id      202607 non-null int32\n",
      "dtypes: datetime64[ns](1), float32(1), int32(1), object(1)\n",
      "memory usage: 15.6 MB\n",
      "\n",
      "<class 'pandas.core.frame.DataFrame'>\n",
      "Int64Index: 149396 entries, 0 to 149395\n",
      "Data columns (total 4 columns):\n",
      "id              149396 non-null object\n",
      "mb_used         149396 non-null float32\n",
      "session_date    149396 non-null datetime64[ns]\n",
      "user_id         149396 non-null int32\n",
      "dtypes: datetime64[ns](1), float32(1), int32(1), object(1)\n",
      "memory usage: 12.6 MB\n",
      "\n",
      "<class 'pandas.core.frame.DataFrame'>\n",
      "RangeIndex: 123036 entries, 0 to 123035\n",
      "Data columns (total 3 columns):\n",
      "id              123036 non-null object\n",
      "message_date    123036 non-null datetime64[ns]\n",
      "user_id         123036 non-null int32\n",
      "dtypes: datetime64[ns](1), int32(1), object(1)\n",
      "memory usage: 9.0 MB\n",
      "\n",
      "<class 'pandas.core.frame.DataFrame'>\n",
      "RangeIndex: 2 entries, 0 to 1\n",
      "Data columns (total 8 columns):\n",
      "messages_included        2 non-null int32\n",
      "mb_per_month_included    2 non-null int32\n",
      "minutes_included         2 non-null int32\n",
      "rub_monthly_fee          2 non-null int32\n",
      "rub_per_gb               2 non-null int32\n",
      "rub_per_message          2 non-null int32\n",
      "rub_per_minute           2 non-null int32\n",
      "tariff_name              2 non-null object\n",
      "dtypes: int32(7), object(1)\n",
      "memory usage: 308.0 bytes\n"
     ]
    }
   ],
   "source": [
    "optimize(users)\n",
    "print()\n",
    "optimize(calls)\n",
    "print()\n",
    "optimize(internet)\n",
    "print()\n",
    "optimize(messages)\n",
    "print()\n",
    "optimize(tariffs)"
   ]
  },
  {
   "cell_type": "markdown",
   "metadata": {},
   "source": [
    "Округлим количество исходящих звонков в таблице calls и приведем к типу данных int"
   ]
  },
  {
   "cell_type": "code",
   "execution_count": 12,
   "metadata": {},
   "outputs": [
    {
     "data": {
      "text/html": [
       "<div>\n",
       "<style scoped>\n",
       "    .dataframe tbody tr th:only-of-type {\n",
       "        vertical-align: middle;\n",
       "    }\n",
       "\n",
       "    .dataframe tbody tr th {\n",
       "        vertical-align: top;\n",
       "    }\n",
       "\n",
       "    .dataframe thead th {\n",
       "        text-align: right;\n",
       "    }\n",
       "</style>\n",
       "<table border=\"1\" class=\"dataframe\">\n",
       "  <thead>\n",
       "    <tr style=\"text-align: right;\">\n",
       "      <th></th>\n",
       "      <th>id</th>\n",
       "      <th>call_date</th>\n",
       "      <th>duration</th>\n",
       "      <th>user_id</th>\n",
       "    </tr>\n",
       "  </thead>\n",
       "  <tbody>\n",
       "    <tr>\n",
       "      <td>0</td>\n",
       "      <td>1000_0</td>\n",
       "      <td>2018-07-25</td>\n",
       "      <td>0</td>\n",
       "      <td>1000</td>\n",
       "    </tr>\n",
       "    <tr>\n",
       "      <td>1</td>\n",
       "      <td>1000_1</td>\n",
       "      <td>2018-08-17</td>\n",
       "      <td>0</td>\n",
       "      <td>1000</td>\n",
       "    </tr>\n",
       "    <tr>\n",
       "      <td>2</td>\n",
       "      <td>1000_2</td>\n",
       "      <td>2018-06-11</td>\n",
       "      <td>3</td>\n",
       "      <td>1000</td>\n",
       "    </tr>\n",
       "    <tr>\n",
       "      <td>3</td>\n",
       "      <td>1000_3</td>\n",
       "      <td>2018-09-21</td>\n",
       "      <td>14</td>\n",
       "      <td>1000</td>\n",
       "    </tr>\n",
       "    <tr>\n",
       "      <td>4</td>\n",
       "      <td>1000_4</td>\n",
       "      <td>2018-12-15</td>\n",
       "      <td>6</td>\n",
       "      <td>1000</td>\n",
       "    </tr>\n",
       "    <tr>\n",
       "      <td>...</td>\n",
       "      <td>...</td>\n",
       "      <td>...</td>\n",
       "      <td>...</td>\n",
       "      <td>...</td>\n",
       "    </tr>\n",
       "    <tr>\n",
       "      <td>202602</td>\n",
       "      <td>1499_215</td>\n",
       "      <td>2018-12-26</td>\n",
       "      <td>1</td>\n",
       "      <td>1499</td>\n",
       "    </tr>\n",
       "    <tr>\n",
       "      <td>202603</td>\n",
       "      <td>1499_216</td>\n",
       "      <td>2018-10-18</td>\n",
       "      <td>19</td>\n",
       "      <td>1499</td>\n",
       "    </tr>\n",
       "    <tr>\n",
       "      <td>202604</td>\n",
       "      <td>1499_217</td>\n",
       "      <td>2018-11-10</td>\n",
       "      <td>11</td>\n",
       "      <td>1499</td>\n",
       "    </tr>\n",
       "    <tr>\n",
       "      <td>202605</td>\n",
       "      <td>1499_218</td>\n",
       "      <td>2018-10-06</td>\n",
       "      <td>5</td>\n",
       "      <td>1499</td>\n",
       "    </tr>\n",
       "    <tr>\n",
       "      <td>202606</td>\n",
       "      <td>1499_219</td>\n",
       "      <td>2018-12-14</td>\n",
       "      <td>20</td>\n",
       "      <td>1499</td>\n",
       "    </tr>\n",
       "  </tbody>\n",
       "</table>\n",
       "<p>202607 rows × 4 columns</p>\n",
       "</div>"
      ],
      "text/plain": [
       "              id  call_date  duration  user_id\n",
       "0         1000_0 2018-07-25         0     1000\n",
       "1         1000_1 2018-08-17         0     1000\n",
       "2         1000_2 2018-06-11         3     1000\n",
       "3         1000_3 2018-09-21        14     1000\n",
       "4         1000_4 2018-12-15         6     1000\n",
       "...          ...        ...       ...      ...\n",
       "202602  1499_215 2018-12-26         1     1499\n",
       "202603  1499_216 2018-10-18        19     1499\n",
       "202604  1499_217 2018-11-10        11     1499\n",
       "202605  1499_218 2018-10-06         5     1499\n",
       "202606  1499_219 2018-12-14        20     1499\n",
       "\n",
       "[202607 rows x 4 columns]"
      ]
     },
     "metadata": {},
     "output_type": "display_data"
    },
    {
     "name": "stdout",
     "output_type": "stream",
     "text": [
      "<class 'pandas.core.frame.DataFrame'>\n",
      "RangeIndex: 202607 entries, 0 to 202606\n",
      "Data columns (total 4 columns):\n",
      "id           202607 non-null object\n",
      "call_date    202607 non-null datetime64[ns]\n",
      "duration     202607 non-null int32\n",
      "user_id      202607 non-null int32\n",
      "dtypes: datetime64[ns](1), int32(2), object(1)\n",
      "memory usage: 4.6+ MB\n"
     ]
    },
    {
     "data": {
      "text/plain": [
       "None"
      ]
     },
     "metadata": {},
     "output_type": "display_data"
    }
   ],
   "source": [
    "calls['duration'] = np.ceil(calls['duration'].astype('float32'))\n",
    "calls['duration'] = calls['duration'].astype('int32')\n",
    "display(calls)\n",
    "display(calls.info())"
   ]
  },
  {
   "cell_type": "markdown",
   "metadata": {},
   "source": [
    "Оставим в таблице users только те солбцы, которые потребуются для проведения исследования."
   ]
  },
  {
   "cell_type": "code",
   "execution_count": 13,
   "metadata": {},
   "outputs": [
    {
     "data": {
      "text/html": [
       "<div>\n",
       "<style scoped>\n",
       "    .dataframe tbody tr th:only-of-type {\n",
       "        vertical-align: middle;\n",
       "    }\n",
       "\n",
       "    .dataframe tbody tr th {\n",
       "        vertical-align: top;\n",
       "    }\n",
       "\n",
       "    .dataframe thead th {\n",
       "        text-align: right;\n",
       "    }\n",
       "</style>\n",
       "<table border=\"1\" class=\"dataframe\">\n",
       "  <thead>\n",
       "    <tr style=\"text-align: right;\">\n",
       "      <th></th>\n",
       "      <th>user_id</th>\n",
       "      <th>city</th>\n",
       "      <th>tariff</th>\n",
       "    </tr>\n",
       "  </thead>\n",
       "  <tbody>\n",
       "    <tr>\n",
       "      <td>0</td>\n",
       "      <td>1000</td>\n",
       "      <td>Краснодар</td>\n",
       "      <td>ultra</td>\n",
       "    </tr>\n",
       "    <tr>\n",
       "      <td>1</td>\n",
       "      <td>1001</td>\n",
       "      <td>Москва</td>\n",
       "      <td>smart</td>\n",
       "    </tr>\n",
       "    <tr>\n",
       "      <td>2</td>\n",
       "      <td>1002</td>\n",
       "      <td>Стерлитамак</td>\n",
       "      <td>smart</td>\n",
       "    </tr>\n",
       "    <tr>\n",
       "      <td>3</td>\n",
       "      <td>1003</td>\n",
       "      <td>Москва</td>\n",
       "      <td>ultra</td>\n",
       "    </tr>\n",
       "    <tr>\n",
       "      <td>4</td>\n",
       "      <td>1004</td>\n",
       "      <td>Новокузнецк</td>\n",
       "      <td>ultra</td>\n",
       "    </tr>\n",
       "    <tr>\n",
       "      <td>...</td>\n",
       "      <td>...</td>\n",
       "      <td>...</td>\n",
       "      <td>...</td>\n",
       "    </tr>\n",
       "    <tr>\n",
       "      <td>495</td>\n",
       "      <td>1495</td>\n",
       "      <td>Иркутск</td>\n",
       "      <td>ultra</td>\n",
       "    </tr>\n",
       "    <tr>\n",
       "      <td>496</td>\n",
       "      <td>1496</td>\n",
       "      <td>Вологда</td>\n",
       "      <td>smart</td>\n",
       "    </tr>\n",
       "    <tr>\n",
       "      <td>497</td>\n",
       "      <td>1497</td>\n",
       "      <td>Челябинск</td>\n",
       "      <td>smart</td>\n",
       "    </tr>\n",
       "    <tr>\n",
       "      <td>498</td>\n",
       "      <td>1498</td>\n",
       "      <td>Владикавказ</td>\n",
       "      <td>smart</td>\n",
       "    </tr>\n",
       "    <tr>\n",
       "      <td>499</td>\n",
       "      <td>1499</td>\n",
       "      <td>Пермь</td>\n",
       "      <td>smart</td>\n",
       "    </tr>\n",
       "  </tbody>\n",
       "</table>\n",
       "<p>500 rows × 3 columns</p>\n",
       "</div>"
      ],
      "text/plain": [
       "     user_id         city tariff\n",
       "0       1000    Краснодар  ultra\n",
       "1       1001       Москва  smart\n",
       "2       1002  Стерлитамак  smart\n",
       "3       1003       Москва  ultra\n",
       "4       1004  Новокузнецк  ultra\n",
       "..       ...          ...    ...\n",
       "495     1495      Иркутск  ultra\n",
       "496     1496      Вологда  smart\n",
       "497     1497    Челябинск  smart\n",
       "498     1498  Владикавказ  smart\n",
       "499     1499        Пермь  smart\n",
       "\n",
       "[500 rows x 3 columns]"
      ]
     },
     "metadata": {},
     "output_type": "display_data"
    }
   ],
   "source": [
    "users = users.loc[:,['user_id','city','tariff']]\n",
    "display(users)"
   ]
  },
  {
   "cell_type": "markdown",
   "metadata": {},
   "source": [
    "Округлим количество трафика в таблице tariffs до гб,округление значений по таблице internet выполним после группировки значений по месяцам."
   ]
  },
  {
   "cell_type": "code",
   "execution_count": 14,
   "metadata": {},
   "outputs": [
    {
     "data": {
      "text/html": [
       "<div>\n",
       "<style scoped>\n",
       "    .dataframe tbody tr th:only-of-type {\n",
       "        vertical-align: middle;\n",
       "    }\n",
       "\n",
       "    .dataframe tbody tr th {\n",
       "        vertical-align: top;\n",
       "    }\n",
       "\n",
       "    .dataframe thead th {\n",
       "        text-align: right;\n",
       "    }\n",
       "</style>\n",
       "<table border=\"1\" class=\"dataframe\">\n",
       "  <thead>\n",
       "    <tr style=\"text-align: right;\">\n",
       "      <th></th>\n",
       "      <th>messages_included</th>\n",
       "      <th>mb_per_month_included</th>\n",
       "      <th>minutes_included</th>\n",
       "      <th>rub_monthly_fee</th>\n",
       "      <th>rub_per_gb</th>\n",
       "      <th>rub_per_message</th>\n",
       "      <th>rub_per_minute</th>\n",
       "      <th>tariff_name</th>\n",
       "    </tr>\n",
       "  </thead>\n",
       "  <tbody>\n",
       "    <tr>\n",
       "      <td>0</td>\n",
       "      <td>50</td>\n",
       "      <td>15.00</td>\n",
       "      <td>500</td>\n",
       "      <td>550</td>\n",
       "      <td>200</td>\n",
       "      <td>3</td>\n",
       "      <td>3</td>\n",
       "      <td>smart</td>\n",
       "    </tr>\n",
       "    <tr>\n",
       "      <td>1</td>\n",
       "      <td>1000</td>\n",
       "      <td>30.00</td>\n",
       "      <td>3000</td>\n",
       "      <td>1950</td>\n",
       "      <td>150</td>\n",
       "      <td>1</td>\n",
       "      <td>1</td>\n",
       "      <td>ultra</td>\n",
       "    </tr>\n",
       "  </tbody>\n",
       "</table>\n",
       "</div>"
      ],
      "text/plain": [
       "   messages_included  mb_per_month_included  minutes_included  \\\n",
       "0                 50                  15.00               500   \n",
       "1               1000                  30.00              3000   \n",
       "\n",
       "   rub_monthly_fee  rub_per_gb  rub_per_message  rub_per_minute tariff_name  \n",
       "0              550         200                3               3       smart  \n",
       "1             1950         150                1               1       ultra  "
      ]
     },
     "metadata": {},
     "output_type": "display_data"
    }
   ],
   "source": [
    "tariffs['mb_per_month_included'] = tariffs['mb_per_month_included']/1024\n",
    "     \n",
    "display(tariffs)"
   ]
  },
  {
   "cell_type": "markdown",
   "metadata": {},
   "source": [
    "Переименуем колонку tariff_name в таблице tariffs."
   ]
  },
  {
   "cell_type": "code",
   "execution_count": 15,
   "metadata": {},
   "outputs": [
    {
     "data": {
      "text/html": [
       "<div>\n",
       "<style scoped>\n",
       "    .dataframe tbody tr th:only-of-type {\n",
       "        vertical-align: middle;\n",
       "    }\n",
       "\n",
       "    .dataframe tbody tr th {\n",
       "        vertical-align: top;\n",
       "    }\n",
       "\n",
       "    .dataframe thead th {\n",
       "        text-align: right;\n",
       "    }\n",
       "</style>\n",
       "<table border=\"1\" class=\"dataframe\">\n",
       "  <thead>\n",
       "    <tr style=\"text-align: right;\">\n",
       "      <th></th>\n",
       "      <th>messages_included</th>\n",
       "      <th>mb_per_month_included</th>\n",
       "      <th>minutes_included</th>\n",
       "      <th>rub_monthly_fee</th>\n",
       "      <th>rub_per_gb</th>\n",
       "      <th>rub_per_message</th>\n",
       "      <th>rub_per_minute</th>\n",
       "      <th>tariff</th>\n",
       "    </tr>\n",
       "  </thead>\n",
       "  <tbody>\n",
       "    <tr>\n",
       "      <td>0</td>\n",
       "      <td>50</td>\n",
       "      <td>15.00</td>\n",
       "      <td>500</td>\n",
       "      <td>550</td>\n",
       "      <td>200</td>\n",
       "      <td>3</td>\n",
       "      <td>3</td>\n",
       "      <td>smart</td>\n",
       "    </tr>\n",
       "    <tr>\n",
       "      <td>1</td>\n",
       "      <td>1000</td>\n",
       "      <td>30.00</td>\n",
       "      <td>3000</td>\n",
       "      <td>1950</td>\n",
       "      <td>150</td>\n",
       "      <td>1</td>\n",
       "      <td>1</td>\n",
       "      <td>ultra</td>\n",
       "    </tr>\n",
       "  </tbody>\n",
       "</table>\n",
       "</div>"
      ],
      "text/plain": [
       "   messages_included  mb_per_month_included  minutes_included  \\\n",
       "0                 50                  15.00               500   \n",
       "1               1000                  30.00              3000   \n",
       "\n",
       "   rub_monthly_fee  rub_per_gb  rub_per_message  rub_per_minute tariff  \n",
       "0              550         200                3               3  smart  \n",
       "1             1950         150                1               1  ultra  "
      ]
     },
     "metadata": {},
     "output_type": "display_data"
    }
   ],
   "source": [
    "tariffs=tariffs.rename(columns={'tariff_name':'tariff'})\n",
    "display(tariffs) "
   ]
  },
  {
   "cell_type": "markdown",
   "metadata": {},
   "source": [
    "**Вывод**\n",
    "\n",
    "Для дальнейшей работы столбцы с информацией о датах были приведены к формату дат.\n",
    "Также была выполнена оптимизация используемой памяти путем изменения типа данных с 64 на 32.\n",
    "\n",
    "В таблице calls было выполнено округление значений по столбцу duration в большую сторону, так как по условиям тарифа 1 секунда разговора приравнивается к минуте.\n",
    "\n",
    "В таблице users оставлены данные,требуемые для проведения анализа.\n",
    "\n",
    "Расчет стоимости интернет трафика производится в ГБ, в связи с этим выполним округление в таблице tariffs по столбцу трафик.\n",
    "\n",
    "В таблице tariffs было выполнено переименование столбца tariff_name в tariff,для дальнейшего выполнения объединения таблиц users и tariffs.\n"
   ]
  },
  {
   "cell_type": "markdown",
   "metadata": {},
   "source": [
    "### Проверка допустимых значений\n",
    "<a id=\"preprocessing_two_id\"></a>"
   ]
  },
  {
   "cell_type": "markdown",
   "metadata": {},
   "source": [
    "Выполним проверку написания в наименовании городов в таблице users"
   ]
  },
  {
   "cell_type": "code",
   "execution_count": 16,
   "metadata": {},
   "outputs": [
    {
     "name": "stdout",
     "output_type": "stream",
     "text": [
      "Москва              99\n",
      "Санкт-Петербург     39\n",
      "Новосибирск         16\n",
      "Омск                14\n",
      "Казань              14\n",
      "Уфа                 12\n",
      "Набережные Челны    11\n",
      "Екатеринбург        11\n",
      "Ульяновск           11\n",
      "Краснодар           11\n",
      "Челябинск            9\n",
      "Самара               9\n",
      "Волгоград            8\n",
      "Нижний Новгород      8\n",
      "Пермь                8\n",
      "Новокузнецк          7\n",
      "Вологда              7\n",
      "Улан-Удэ             7\n",
      "Красноярск           7\n",
      "Ростов-на-Дону       6\n",
      "Воронеж              6\n",
      "Сочи                 6\n",
      "Тюмень               6\n",
      "Киров                6\n",
      "Иркутск              6\n",
      "Пенза                6\n",
      "Томск                6\n",
      "Балашиха             5\n",
      "Магнитогорск         5\n",
      "Владивосток          5\n",
      "Ставрополь           5\n",
      "Махачкала            5\n",
      "Рязань               4\n",
      "Мурманск             4\n",
      "Петрозаводск         4\n",
      "Кострома             4\n",
      "Саранск              4\n",
      "Новороссийск         4\n",
      "Чита                 4\n",
      "Хабаровск            4\n",
      "Name: city, dtype: int64\n",
      "Тольятти         4\n",
      "Калуга           4\n",
      "Астрахань        4\n",
      "Ярославль        3\n",
      "Саратов          3\n",
      "Череповец        3\n",
      "Чебоксары        3\n",
      "Владимир         3\n",
      "Якутск           3\n",
      "Севастополь      3\n",
      "Стерлитамак      3\n",
      "Брянск           3\n",
      "Нижний Тагил     3\n",
      "Курган           3\n",
      "Орёл             3\n",
      "Тверь            3\n",
      "Барнаул          3\n",
      "Сургут           2\n",
      "Тула             2\n",
      "Волжский         2\n",
      "Курск            2\n",
      "Грозный          2\n",
      "Смоленск         2\n",
      "Тамбов           2\n",
      "Калининград      2\n",
      "Владикавказ      2\n",
      "Липецк           2\n",
      "Оренбург         2\n",
      "Белгород         2\n",
      "Ижевск           2\n",
      "Кемерово         2\n",
      "Подольск         1\n",
      "Иваново          1\n",
      "Химки            1\n",
      "Нижневартовск    1\n",
      "Архангельск      1\n",
      "Name: city, dtype: int64\n"
     ]
    },
    {
     "data": {
      "text/plain": [
       "smart    351\n",
       "ultra    149\n",
       "Name: tariff, dtype: int64"
      ]
     },
     "execution_count": 16,
     "metadata": {},
     "output_type": "execute_result"
    }
   ],
   "source": [
    "print(users['city'].value_counts().head(40))\n",
    "print(users['city'].value_counts().tail(36))\n",
    "\n",
    "users['tariff'].value_counts()\n"
   ]
  },
  {
   "cell_type": "markdown",
   "metadata": {},
   "source": [
    "Наименования городов указаны верно, а также в таблице указано 2 варианта тарифов."
   ]
  },
  {
   "cell_type": "markdown",
   "metadata": {},
   "source": [
    " Проверим длительность звонков."
   ]
  },
  {
   "cell_type": "code",
   "execution_count": 17,
   "metadata": {},
   "outputs": [
    {
     "data": {
      "text/plain": [
       "count                  202607\n",
       "unique                    365\n",
       "top       2018-12-31 00:00:00\n",
       "freq                     1435\n",
       "first     2018-01-01 00:00:00\n",
       "last      2018-12-31 00:00:00\n",
       "Name: call_date, dtype: object"
      ]
     },
     "execution_count": 17,
     "metadata": {},
     "output_type": "execute_result"
    }
   ],
   "source": [
    "calls['call_date'].describe()"
   ]
  },
  {
   "cell_type": "markdown",
   "metadata": {},
   "source": [
    "Проверим значения дат в таблицах.\n"
   ]
  },
  {
   "cell_type": "code",
   "execution_count": 18,
   "metadata": {},
   "outputs": [
    {
     "data": {
      "text/plain": [
       "count                  202607\n",
       "unique                    365\n",
       "top       2018-12-31 00:00:00\n",
       "freq                     1435\n",
       "first     2018-01-01 00:00:00\n",
       "last      2018-12-31 00:00:00\n",
       "Name: call_date, dtype: object"
      ]
     },
     "execution_count": 18,
     "metadata": {},
     "output_type": "execute_result"
    }
   ],
   "source": [
    "calls['call_date'].describe()"
   ]
  },
  {
   "cell_type": "code",
   "execution_count": 19,
   "metadata": {},
   "outputs": [
    {
     "data": {
      "text/plain": [
       "count                  149396\n",
       "unique                    365\n",
       "top       2018-12-31 00:00:00\n",
       "freq                     1057\n",
       "first     2018-01-01 00:00:00\n",
       "last      2018-12-31 00:00:00\n",
       "Name: session_date, dtype: object"
      ]
     },
     "execution_count": 19,
     "metadata": {},
     "output_type": "execute_result"
    }
   ],
   "source": [
    "internet['session_date'].describe()"
   ]
  },
  {
   "cell_type": "code",
   "execution_count": 20,
   "metadata": {},
   "outputs": [
    {
     "data": {
      "text/plain": [
       "count                  123036\n",
       "unique                    364\n",
       "top       2018-12-31 00:00:00\n",
       "freq                      859\n",
       "first     2018-01-02 00:00:00\n",
       "last      2018-12-31 00:00:00\n",
       "Name: message_date, dtype: object"
      ]
     },
     "execution_count": 20,
     "metadata": {},
     "output_type": "execute_result"
    }
   ],
   "source": [
    "messages['message_date'].describe()"
   ]
  },
  {
   "cell_type": "code",
   "execution_count": 21,
   "metadata": {},
   "outputs": [
    {
     "data": {
      "text/plain": [
       "0.00      19598\n",
       "447.30        9\n",
       "335.91        9\n",
       "197.56        9\n",
       "461.19        8\n",
       "          ...  \n",
       "605.07        1\n",
       "666.20        1\n",
       "803.64        1\n",
       "342.36        1\n",
       "868.08        1\n",
       "Name: mb_used, Length: 70003, dtype: int64"
      ]
     },
     "execution_count": 21,
     "metadata": {},
     "output_type": "execute_result"
    }
   ],
   "source": [
    "internet['mb_used'].value_counts()"
   ]
  },
  {
   "cell_type": "code",
   "execution_count": 22,
   "metadata": {},
   "outputs": [
    {
     "name": "stdout",
     "output_type": "stream",
     "text": [
      "              id  mb_used session_date  user_id\n",
      "149297   1499_58     6.56   2018-09-28     1499\n",
      "149337   1499_98 1,138.32   2018-09-29     1499\n",
      "149351  1499_112   339.69   2018-09-29     1499\n",
      "149249   1499_10     0.00   2018-09-29     1499\n",
      "149374  1499_135   361.18   2018-09-30     1499\n",
      "149255   1499_16   513.05   2018-10-02     1499\n",
      "149298   1499_59   191.83   2018-10-02     1499\n",
      "149250   1499_11   597.76   2018-10-03     1499\n",
      "149260   1499_21   436.23   2018-10-03     1499\n",
      "149323   1499_84   164.42   2018-10-03     1499\n",
      "149391  1499_152   318.90   2018-10-03     1499\n",
      "149340  1499_101   881.51   2018-10-03     1499\n",
      "149262   1499_23     0.00   2018-10-04     1499\n",
      "149335   1499_96   257.39   2018-10-04     1499\n",
      "149334   1499_95   271.53   2018-10-05     1499\n",
      "149317   1499_78   805.98   2018-10-05     1499\n",
      "149282   1499_43   518.57   2018-10-05     1499\n",
      "149244    1499_5   227.09   2018-10-05     1499\n",
      "149345  1499_106     0.00   2018-10-05     1499\n",
      "149366  1499_127     0.00   2018-10-06     1499\n",
      "149330   1499_91   640.11   2018-10-09     1499\n",
      "149375  1499_136   436.76   2018-10-09     1499\n",
      "149329   1499_90   211.18   2018-10-09     1499\n",
      "149302   1499_63   178.50   2018-10-10     1499\n",
      "149277   1499_38   266.18   2018-10-10     1499\n",
      "149390  1499_151   752.72   2018-10-11     1499\n",
      "149382  1499_143   202.02   2018-10-11     1499\n",
      "149242    1499_3   109.86   2018-10-12     1499\n",
      "149333   1499_94     0.00   2018-10-13     1499\n",
      "149314   1499_75   585.05   2018-10-13     1499\n",
      "149326   1499_87   163.64   2018-10-13     1499\n",
      "149287   1499_48     0.00   2018-10-14     1499\n",
      "149354  1499_115     0.00   2018-10-15     1499\n",
      "149247    1499_8   239.80   2018-10-16     1499\n",
      "149274   1499_35   825.10   2018-10-17     1499\n",
      "149325   1499_86     0.00   2018-10-18     1499\n",
      "149347  1499_108   353.84   2018-10-19     1499\n",
      "149280   1499_41   249.20   2018-10-19     1499\n",
      "149343  1499_104     0.00   2018-10-19     1499\n",
      "149300   1499_61   824.15   2018-10-20     1499\n"
     ]
    }
   ],
   "source": [
    "#internet[internet['mb_used']==0]\n",
    "internet[internet['mb_used']==0]\n",
    "internet[internet['user_id']==1000]\n",
    "print(internet.sort_values(by='session_date').query('user_id ==1499').head(40))"
   ]
  },
  {
   "cell_type": "markdown",
   "metadata": {},
   "source": [
    "**Вывод**\n",
    "\n",
    "При изучении уникальных значений в таблице users в наименовании городов и тарифах ошибок не обнаружено.\n",
    "В колонках с информацией о датах указан 2018 год.\n",
    "\n",
    "Требуется изучить выбросы по длительности звонка, количеству используемого трафика и израсходованных смс после выполнения группировки по пользователям и месяцам.\n"
   ]
  },
  {
   "cell_type": "markdown",
   "metadata": {},
   "source": [
    "### Категоризация и группировка данных\n",
    "<a id=\"preprocessing_three_id\"></a>"
   ]
  },
  {
   "cell_type": "markdown",
   "metadata": {},
   "source": [
    "Исходя из условий тарифа пакет услуг предоставлется на месяц, в связи с этим требуется добавить категорию по месяцам.\n",
    "Чтобы выполнить проверку допустимых значений"
   ]
  },
  {
   "cell_type": "code",
   "execution_count": 23,
   "metadata": {},
   "outputs": [],
   "source": [
    "calls['month'] = calls['call_date'].dt.month\n",
    "internet['month'] = internet['session_date'].dt.month\n",
    "messages['month'] = messages['message_date'].dt.month"
   ]
  },
  {
   "cell_type": "markdown",
   "metadata": {},
   "source": [
    "Выполним группировку по месяцам во всех таблицах"
   ]
  },
  {
   "cell_type": "code",
   "execution_count": 24,
   "metadata": {},
   "outputs": [
    {
     "name": "stdout",
     "output_type": "stream",
     "text": [
      "      user_id  month  duration\n",
      "0        1000      5       159\n",
      "1        1000      6       172\n",
      "2        1000      7       340\n",
      "3        1000      8       408\n",
      "4        1000      9       466\n",
      "...       ...    ...       ...\n",
      "3169     1498     10       247\n",
      "3170     1499      9        70\n",
      "3171     1499     10       449\n",
      "3172     1499     11       612\n",
      "3173     1499     12       492\n",
      "\n",
      "[3174 rows x 3 columns]\n"
     ]
    }
   ],
   "source": [
    "calls_pivot = calls.groupby(['user_id','month'])['duration'].sum()\n",
    "calls_pivot = calls_pivot.reset_index(drop=False)\n",
    "print(calls_pivot)"
   ]
  },
  {
   "cell_type": "code",
   "execution_count": 25,
   "metadata": {},
   "outputs": [
    {
     "name": "stdout",
     "output_type": "stream",
     "text": [
      "      user_id  month   mb_used\n",
      "0        1000      5  2,253.49\n",
      "1        1000      6 23,233.77\n",
      "2        1000      7 14,003.64\n",
      "3        1000      8 14,055.93\n",
      "4        1000      9 14,568.91\n",
      "...       ...    ...       ...\n",
      "3198     1498     10 20,579.36\n",
      "3199     1499      9  1,845.75\n",
      "3200     1499     10 17,788.51\n",
      "3201     1499     11 17,963.31\n",
      "3202     1499     12 13,055.58\n",
      "\n",
      "[3203 rows x 3 columns]\n"
     ]
    }
   ],
   "source": [
    "internet_pivot = internet.groupby(['user_id','month'])['mb_used'].sum()\n",
    "internet_pivot = internet_pivot.reset_index(drop=False)\n",
    "print(internet_pivot)\n"
   ]
  },
  {
   "cell_type": "code",
   "execution_count": 26,
   "metadata": {},
   "outputs": [
    {
     "name": "stdout",
     "output_type": "stream",
     "text": [
      "      user_id  month  message_date\n",
      "0        1000      5            22\n",
      "1        1000      6            60\n",
      "2        1000      7            75\n",
      "3        1000      8            81\n",
      "4        1000      9            57\n",
      "...       ...    ...           ...\n",
      "2712     1498     10            42\n",
      "2713     1499      9            11\n",
      "2714     1499     10            48\n",
      "2715     1499     11            59\n",
      "2716     1499     12            66\n",
      "\n",
      "[2717 rows x 3 columns]\n"
     ]
    }
   ],
   "source": [
    "messages_pivot = messages.groupby(['user_id','month'])['message_date'].count()\n",
    "messages_pivot = messages_pivot.reset_index(drop=False)\n",
    "print(messages_pivot)\n"
   ]
  },
  {
   "cell_type": "markdown",
   "metadata": {},
   "source": [
    "**Вывод**\n",
    "\n",
    "Для проведения анализа были добавлены категории по месяцам и выполнена группировка по месяцам и пользователям."
   ]
  },
  {
   "cell_type": "markdown",
   "metadata": {},
   "source": [
    "### Объединение таблиц, расчеты и добавление данных в таблицу\n",
    "<a id=\"preprocessing_four_id\"></a>"
   ]
  },
  {
   "cell_type": "markdown",
   "metadata": {},
   "source": [
    "Объединим таблицы в одну."
   ]
  },
  {
   "cell_type": "code",
   "execution_count": 27,
   "metadata": {},
   "outputs": [
    {
     "name": "stdout",
     "output_type": "stream",
     "text": [
      "<class 'pandas.core.frame.DataFrame'>\n",
      "Int64Index: 3216 entries, 0 to 3215\n",
      "Data columns (total 14 columns):\n",
      "user_id                  3216 non-null int64\n",
      "month                    3214 non-null float64\n",
      "duration                 3174 non-null float64\n",
      "mb_used                  3203 non-null float32\n",
      "message_date             2717 non-null float64\n",
      "city                     3216 non-null object\n",
      "tariff                   3216 non-null object\n",
      "messages_included        3216 non-null int32\n",
      "mb_per_month_included    3216 non-null float64\n",
      "minutes_included         3216 non-null int32\n",
      "rub_monthly_fee          3216 non-null int32\n",
      "rub_per_gb               3216 non-null int32\n",
      "rub_per_message          3216 non-null int32\n",
      "rub_per_minute           3216 non-null int32\n",
      "dtypes: float32(1), float64(4), int32(6), int64(1), object(2)\n",
      "memory usage: 288.9+ KB\n"
     ]
    },
    {
     "data": {
      "text/plain": [
       "None"
      ]
     },
     "metadata": {},
     "output_type": "display_data"
    }
   ],
   "source": [
    "pivot = calls_pivot.merge(internet_pivot,on=['user_id','month'], how='outer')\n",
    "pivot = pivot.merge(messages_pivot,on=['user_id','month'], how='outer')\n",
    "pivot = pivot.merge(users,on=['user_id'], how='outer')\n",
    "pivot = pivot.merge(tariffs,on=['tariff'], how='outer')\n",
    "\n",
    "display(pivot.info())"
   ]
  },
  {
   "cell_type": "markdown",
   "metadata": {},
   "source": [
    "Приведем наименование колонок к единообразию и выполним округление по столбцу traffic в соответствии с условием тарифа."
   ]
  },
  {
   "cell_type": "code",
   "execution_count": 28,
   "metadata": {},
   "outputs": [
    {
     "name": "stdout",
     "output_type": "stream",
     "text": [
      "<class 'pandas.core.frame.DataFrame'>\n",
      "Int64Index: 3216 entries, 0 to 3215\n",
      "Data columns (total 14 columns):\n",
      "user_id                  3216 non-null int64\n",
      "month                    3214 non-null float64\n",
      "calls                    3174 non-null float64\n",
      "traffic                  3203 non-null float32\n",
      "message                  2717 non-null float64\n",
      "city                     3216 non-null object\n",
      "tariff                   3216 non-null object\n",
      "messages_included        3216 non-null int32\n",
      "mb_per_month_included    3216 non-null float64\n",
      "minutes_included         3216 non-null int32\n",
      "rub_monthly_fee          3216 non-null int32\n",
      "rub_per_gb               3216 non-null int32\n",
      "rub_per_message          3216 non-null int32\n",
      "rub_per_minute           3216 non-null int32\n",
      "dtypes: float32(1), float64(4), int32(6), int64(1), object(2)\n",
      "memory usage: 288.9+ KB\n"
     ]
    },
    {
     "data": {
      "text/plain": [
       "None"
      ]
     },
     "metadata": {},
     "output_type": "display_data"
    }
   ],
   "source": [
    "pivot=pivot.rename(columns={'duration':'calls','mb_used':'traffic','message_date':'message'})\n",
    "display(pivot.info())                  "
   ]
  },
  {
   "cell_type": "markdown",
   "metadata": {},
   "source": [
    "Заменим образовавшиеся пропуски после объединения на 0 в столбцах calls,traffic,message,месяцам.\n"
   ]
  },
  {
   "cell_type": "code",
   "execution_count": 29,
   "metadata": {},
   "outputs": [
    {
     "name": "stdout",
     "output_type": "stream",
     "text": [
      "<class 'pandas.core.frame.DataFrame'>\n",
      "Int64Index: 3216 entries, 0 to 3215\n",
      "Data columns (total 14 columns):\n",
      "user_id                  3216 non-null int64\n",
      "month                    3216 non-null float64\n",
      "calls                    3216 non-null float64\n",
      "traffic                  3216 non-null float32\n",
      "message                  3216 non-null float64\n",
      "city                     3216 non-null object\n",
      "tariff                   3216 non-null object\n",
      "messages_included        3216 non-null int32\n",
      "mb_per_month_included    3216 non-null float64\n",
      "minutes_included         3216 non-null int32\n",
      "rub_monthly_fee          3216 non-null int32\n",
      "rub_per_gb               3216 non-null int32\n",
      "rub_per_message          3216 non-null int32\n",
      "rub_per_minute           3216 non-null int32\n",
      "dtypes: float32(1), float64(4), int32(6), int64(1), object(2)\n",
      "memory usage: 288.9+ KB\n"
     ]
    },
    {
     "data": {
      "text/plain": [
       "None"
      ]
     },
     "metadata": {},
     "output_type": "display_data"
    }
   ],
   "source": [
    "pivot['calls']=pivot['calls'].fillna(0)\n",
    "pivot['traffic']=pivot['traffic'].fillna(0)\n",
    "pivot['message']=pivot['message'].fillna(0)\n",
    "pivot['month']=pivot['month'].fillna(0)\n",
    "display(pivot.info())  \n"
   ]
  },
  {
   "cell_type": "code",
   "execution_count": 30,
   "metadata": {},
   "outputs": [
    {
     "data": {
      "text/html": [
       "<div>\n",
       "<style scoped>\n",
       "    .dataframe tbody tr th:only-of-type {\n",
       "        vertical-align: middle;\n",
       "    }\n",
       "\n",
       "    .dataframe tbody tr th {\n",
       "        vertical-align: top;\n",
       "    }\n",
       "\n",
       "    .dataframe thead th {\n",
       "        text-align: right;\n",
       "    }\n",
       "</style>\n",
       "<table border=\"1\" class=\"dataframe\">\n",
       "  <thead>\n",
       "    <tr style=\"text-align: right;\">\n",
       "      <th></th>\n",
       "      <th>user_id</th>\n",
       "      <th>month</th>\n",
       "      <th>calls</th>\n",
       "      <th>traffic</th>\n",
       "      <th>message</th>\n",
       "      <th>city</th>\n",
       "      <th>tariff</th>\n",
       "      <th>messages_included</th>\n",
       "      <th>mb_per_month_included</th>\n",
       "      <th>minutes_included</th>\n",
       "      <th>rub_monthly_fee</th>\n",
       "      <th>rub_per_gb</th>\n",
       "      <th>rub_per_message</th>\n",
       "      <th>rub_per_minute</th>\n",
       "    </tr>\n",
       "  </thead>\n",
       "  <tbody>\n",
       "    <tr>\n",
       "      <td>0</td>\n",
       "      <td>1000</td>\n",
       "      <td>5.00</td>\n",
       "      <td>159.00</td>\n",
       "      <td>3.00</td>\n",
       "      <td>22.00</td>\n",
       "      <td>Краснодар</td>\n",
       "      <td>ultra</td>\n",
       "      <td>1000</td>\n",
       "      <td>30.00</td>\n",
       "      <td>3000</td>\n",
       "      <td>1950</td>\n",
       "      <td>150</td>\n",
       "      <td>1</td>\n",
       "      <td>1</td>\n",
       "    </tr>\n",
       "    <tr>\n",
       "      <td>1</td>\n",
       "      <td>1000</td>\n",
       "      <td>6.00</td>\n",
       "      <td>172.00</td>\n",
       "      <td>23.00</td>\n",
       "      <td>60.00</td>\n",
       "      <td>Краснодар</td>\n",
       "      <td>ultra</td>\n",
       "      <td>1000</td>\n",
       "      <td>30.00</td>\n",
       "      <td>3000</td>\n",
       "      <td>1950</td>\n",
       "      <td>150</td>\n",
       "      <td>1</td>\n",
       "      <td>1</td>\n",
       "    </tr>\n",
       "    <tr>\n",
       "      <td>2</td>\n",
       "      <td>1000</td>\n",
       "      <td>7.00</td>\n",
       "      <td>340.00</td>\n",
       "      <td>14.00</td>\n",
       "      <td>75.00</td>\n",
       "      <td>Краснодар</td>\n",
       "      <td>ultra</td>\n",
       "      <td>1000</td>\n",
       "      <td>30.00</td>\n",
       "      <td>3000</td>\n",
       "      <td>1950</td>\n",
       "      <td>150</td>\n",
       "      <td>1</td>\n",
       "      <td>1</td>\n",
       "    </tr>\n",
       "    <tr>\n",
       "      <td>3</td>\n",
       "      <td>1000</td>\n",
       "      <td>8.00</td>\n",
       "      <td>408.00</td>\n",
       "      <td>14.00</td>\n",
       "      <td>81.00</td>\n",
       "      <td>Краснодар</td>\n",
       "      <td>ultra</td>\n",
       "      <td>1000</td>\n",
       "      <td>30.00</td>\n",
       "      <td>3000</td>\n",
       "      <td>1950</td>\n",
       "      <td>150</td>\n",
       "      <td>1</td>\n",
       "      <td>1</td>\n",
       "    </tr>\n",
       "    <tr>\n",
       "      <td>4</td>\n",
       "      <td>1000</td>\n",
       "      <td>9.00</td>\n",
       "      <td>466.00</td>\n",
       "      <td>15.00</td>\n",
       "      <td>57.00</td>\n",
       "      <td>Краснодар</td>\n",
       "      <td>ultra</td>\n",
       "      <td>1000</td>\n",
       "      <td>30.00</td>\n",
       "      <td>3000</td>\n",
       "      <td>1950</td>\n",
       "      <td>150</td>\n",
       "      <td>1</td>\n",
       "      <td>1</td>\n",
       "    </tr>\n",
       "    <tr>\n",
       "      <td>...</td>\n",
       "      <td>...</td>\n",
       "      <td>...</td>\n",
       "      <td>...</td>\n",
       "      <td>...</td>\n",
       "      <td>...</td>\n",
       "      <td>...</td>\n",
       "      <td>...</td>\n",
       "      <td>...</td>\n",
       "      <td>...</td>\n",
       "      <td>...</td>\n",
       "      <td>...</td>\n",
       "      <td>...</td>\n",
       "      <td>...</td>\n",
       "      <td>...</td>\n",
       "    </tr>\n",
       "    <tr>\n",
       "      <td>3211</td>\n",
       "      <td>1489</td>\n",
       "      <td>9.00</td>\n",
       "      <td>0.00</td>\n",
       "      <td>17.00</td>\n",
       "      <td>32.00</td>\n",
       "      <td>Санкт-Петербург</td>\n",
       "      <td>smart</td>\n",
       "      <td>50</td>\n",
       "      <td>15.00</td>\n",
       "      <td>500</td>\n",
       "      <td>550</td>\n",
       "      <td>200</td>\n",
       "      <td>3</td>\n",
       "      <td>3</td>\n",
       "    </tr>\n",
       "    <tr>\n",
       "      <td>3212</td>\n",
       "      <td>1489</td>\n",
       "      <td>10.00</td>\n",
       "      <td>0.00</td>\n",
       "      <td>20.00</td>\n",
       "      <td>21.00</td>\n",
       "      <td>Санкт-Петербург</td>\n",
       "      <td>smart</td>\n",
       "      <td>50</td>\n",
       "      <td>15.00</td>\n",
       "      <td>500</td>\n",
       "      <td>550</td>\n",
       "      <td>200</td>\n",
       "      <td>3</td>\n",
       "      <td>3</td>\n",
       "    </tr>\n",
       "    <tr>\n",
       "      <td>3213</td>\n",
       "      <td>1489</td>\n",
       "      <td>11.00</td>\n",
       "      <td>0.00</td>\n",
       "      <td>18.00</td>\n",
       "      <td>20.00</td>\n",
       "      <td>Санкт-Петербург</td>\n",
       "      <td>smart</td>\n",
       "      <td>50</td>\n",
       "      <td>15.00</td>\n",
       "      <td>500</td>\n",
       "      <td>550</td>\n",
       "      <td>200</td>\n",
       "      <td>3</td>\n",
       "      <td>3</td>\n",
       "    </tr>\n",
       "    <tr>\n",
       "      <td>3214</td>\n",
       "      <td>1489</td>\n",
       "      <td>12.00</td>\n",
       "      <td>0.00</td>\n",
       "      <td>17.00</td>\n",
       "      <td>35.00</td>\n",
       "      <td>Санкт-Петербург</td>\n",
       "      <td>smart</td>\n",
       "      <td>50</td>\n",
       "      <td>15.00</td>\n",
       "      <td>500</td>\n",
       "      <td>550</td>\n",
       "      <td>200</td>\n",
       "      <td>3</td>\n",
       "      <td>3</td>\n",
       "    </tr>\n",
       "    <tr>\n",
       "      <td>3215</td>\n",
       "      <td>1371</td>\n",
       "      <td>0.00</td>\n",
       "      <td>0.00</td>\n",
       "      <td>0.00</td>\n",
       "      <td>0.00</td>\n",
       "      <td>Омск</td>\n",
       "      <td>smart</td>\n",
       "      <td>50</td>\n",
       "      <td>15.00</td>\n",
       "      <td>500</td>\n",
       "      <td>550</td>\n",
       "      <td>200</td>\n",
       "      <td>3</td>\n",
       "      <td>3</td>\n",
       "    </tr>\n",
       "  </tbody>\n",
       "</table>\n",
       "<p>3216 rows × 14 columns</p>\n",
       "</div>"
      ],
      "text/plain": [
       "      user_id  month  calls  traffic  message             city tariff  \\\n",
       "0        1000   5.00 159.00     3.00    22.00        Краснодар  ultra   \n",
       "1        1000   6.00 172.00    23.00    60.00        Краснодар  ultra   \n",
       "2        1000   7.00 340.00    14.00    75.00        Краснодар  ultra   \n",
       "3        1000   8.00 408.00    14.00    81.00        Краснодар  ultra   \n",
       "4        1000   9.00 466.00    15.00    57.00        Краснодар  ultra   \n",
       "...       ...    ...    ...      ...      ...              ...    ...   \n",
       "3211     1489   9.00   0.00    17.00    32.00  Санкт-Петербург  smart   \n",
       "3212     1489  10.00   0.00    20.00    21.00  Санкт-Петербург  smart   \n",
       "3213     1489  11.00   0.00    18.00    20.00  Санкт-Петербург  smart   \n",
       "3214     1489  12.00   0.00    17.00    35.00  Санкт-Петербург  smart   \n",
       "3215     1371   0.00   0.00     0.00     0.00             Омск  smart   \n",
       "\n",
       "      messages_included  mb_per_month_included  minutes_included  \\\n",
       "0                  1000                  30.00              3000   \n",
       "1                  1000                  30.00              3000   \n",
       "2                  1000                  30.00              3000   \n",
       "3                  1000                  30.00              3000   \n",
       "4                  1000                  30.00              3000   \n",
       "...                 ...                    ...               ...   \n",
       "3211                 50                  15.00               500   \n",
       "3212                 50                  15.00               500   \n",
       "3213                 50                  15.00               500   \n",
       "3214                 50                  15.00               500   \n",
       "3215                 50                  15.00               500   \n",
       "\n",
       "      rub_monthly_fee  rub_per_gb  rub_per_message  rub_per_minute  \n",
       "0                1950         150                1               1  \n",
       "1                1950         150                1               1  \n",
       "2                1950         150                1               1  \n",
       "3                1950         150                1               1  \n",
       "4                1950         150                1               1  \n",
       "...               ...         ...              ...             ...  \n",
       "3211              550         200                3               3  \n",
       "3212              550         200                3               3  \n",
       "3213              550         200                3               3  \n",
       "3214              550         200                3               3  \n",
       "3215              550         200                3               3  \n",
       "\n",
       "[3216 rows x 14 columns]"
      ]
     },
     "metadata": {},
     "output_type": "display_data"
    }
   ],
   "source": [
    "pivot['traffic'] = pivot['traffic']/1024\n",
    "pivot['traffic']  = np.ceil(pivot['traffic'].astype('float32')) \n",
    "display(pivot)"
   ]
  },
  {
   "cell_type": "code",
   "execution_count": 31,
   "metadata": {},
   "outputs": [
    {
     "name": "stdout",
     "output_type": "stream",
     "text": [
      "<class 'pandas.core.frame.DataFrame'>\n",
      "Int64Index: 3216 entries, 0 to 3215\n",
      "Data columns (total 14 columns):\n",
      "user_id                  3216 non-null int64\n",
      "month                    3216 non-null float64\n",
      "calls                    3216 non-null float64\n",
      "traffic                  3216 non-null float32\n",
      "message                  3216 non-null float64\n",
      "city                     3216 non-null object\n",
      "tariff                   3216 non-null object\n",
      "messages_included        3216 non-null int32\n",
      "mb_per_month_included    3216 non-null float64\n",
      "minutes_included         3216 non-null int32\n",
      "rub_monthly_fee          3216 non-null int32\n",
      "rub_per_gb               3216 non-null int32\n",
      "rub_per_message          3216 non-null int32\n",
      "rub_per_minute           3216 non-null int32\n",
      "dtypes: float32(1), float64(4), int32(6), int64(1), object(2)\n",
      "memory usage: 288.9+ KB\n"
     ]
    }
   ],
   "source": [
    "pivot.info()"
   ]
  },
  {
   "cell_type": "markdown",
   "metadata": {},
   "source": [
    "Создадим дополнительные колонки с количеством расходов сверх тарифа."
   ]
  },
  {
   "cell_type": "code",
   "execution_count": 32,
   "metadata": {},
   "outputs": [
    {
     "name": "stdout",
     "output_type": "stream",
     "text": [
      "       user_id    month    calls  traffic  message  messages_included  \\\n",
      "count 3,216.00 3,216.00 3,216.00 3,216.00 3,216.00           3,216.00   \n",
      "mean  1,251.59     8.31   450.96    17.29    38.26             341.26   \n",
      "std     144.65     2.91   242.10     7.41    36.15             438.09   \n",
      "min   1,000.00     0.00     0.00     0.00     0.00              50.00   \n",
      "25%   1,125.00     6.00   282.00    13.00     9.00              50.00   \n",
      "50%   1,253.00     9.00   443.00    17.00    30.00              50.00   \n",
      "75%   1,378.25    11.00   589.00    21.00    57.00           1,000.00   \n",
      "max   1,499.00    12.00 1,673.00    49.00   224.00           1,000.00   \n",
      "\n",
      "       mb_per_month_included  minutes_included  rub_monthly_fee  rub_per_gb  \\\n",
      "count               3,216.00          3,216.00         3,216.00    3,216.00   \n",
      "mean                   19.60          1,266.48           979.23      184.67   \n",
      "std                     6.92          1,152.88           645.61       23.06   \n",
      "min                    15.00            500.00           550.00      150.00   \n",
      "25%                    15.00            500.00           550.00      150.00   \n",
      "50%                    15.00            500.00           550.00      200.00   \n",
      "75%                    30.00          3,000.00         1,950.00      200.00   \n",
      "max                    30.00          3,000.00         1,950.00      200.00   \n",
      "\n",
      "       rub_per_message  rub_per_minute  calls_over  traffic_over  message_over  \n",
      "count         3,216.00        3,216.00    3,216.00      3,216.00      3,216.00  \n",
      "mean              2.39            2.39       28.84          2.32          4.02  \n",
      "std               0.92            0.92       73.06          3.51         11.51  \n",
      "min               1.00            1.00        0.00          0.00          0.00  \n",
      "25%               1.00            1.00        0.00          0.00          0.00  \n",
      "50%               3.00            3.00        0.00          0.00          0.00  \n",
      "75%               3.00            3.00        0.00          4.00          0.00  \n",
      "max               3.00            3.00      935.00         23.00         93.00  \n"
     ]
    }
   ],
   "source": [
    "pivot['calls_over'] = pivot['calls']-pivot['minutes_included']\n",
    "pivot['traffic_over'] = pivot['traffic']-pivot['mb_per_month_included']\n",
    "pivot['message_over'] = pivot['message']-pivot['messages_included']\n",
    "\n",
    "for i in pivot['calls_over']:\n",
    "    if i<0:\n",
    "        pivot['calls_over']=pivot['calls_over'].replace(i,0)\n",
    "\n",
    "for i in pivot['traffic_over']:\n",
    "    if i<0:\n",
    "        pivot['traffic_over']=pivot['traffic_over'].replace(i,0)\n",
    "        \n",
    "for i in pivot['message_over']:\n",
    "    if i<0:\n",
    "        pivot['message_over']=pivot['message_over'].replace(i,0)\n",
    "        \n",
    "        \n",
    "\n",
    "print(pivot.describe())"
   ]
  },
  {
   "cell_type": "markdown",
   "metadata": {},
   "source": [
    "Рассчитаем выручку по каждому клиенту."
   ]
  },
  {
   "cell_type": "code",
   "execution_count": 33,
   "metadata": {},
   "outputs": [
    {
     "data": {
      "text/html": [
       "<div>\n",
       "<style scoped>\n",
       "    .dataframe tbody tr th:only-of-type {\n",
       "        vertical-align: middle;\n",
       "    }\n",
       "\n",
       "    .dataframe tbody tr th {\n",
       "        vertical-align: top;\n",
       "    }\n",
       "\n",
       "    .dataframe thead th {\n",
       "        text-align: right;\n",
       "    }\n",
       "</style>\n",
       "<table border=\"1\" class=\"dataframe\">\n",
       "  <thead>\n",
       "    <tr style=\"text-align: right;\">\n",
       "      <th></th>\n",
       "      <th>user_id</th>\n",
       "      <th>month</th>\n",
       "      <th>calls</th>\n",
       "      <th>traffic</th>\n",
       "      <th>message</th>\n",
       "      <th>messages_included</th>\n",
       "      <th>mb_per_month_included</th>\n",
       "      <th>minutes_included</th>\n",
       "      <th>rub_monthly_fee</th>\n",
       "      <th>rub_per_gb</th>\n",
       "      <th>rub_per_message</th>\n",
       "      <th>rub_per_minute</th>\n",
       "      <th>calls_over</th>\n",
       "      <th>traffic_over</th>\n",
       "      <th>message_over</th>\n",
       "      <th>revenue</th>\n",
       "    </tr>\n",
       "  </thead>\n",
       "  <tbody>\n",
       "    <tr>\n",
       "      <td>count</td>\n",
       "      <td>3,216.00</td>\n",
       "      <td>3,216.00</td>\n",
       "      <td>3,216.00</td>\n",
       "      <td>3,216.00</td>\n",
       "      <td>3,216.00</td>\n",
       "      <td>3,216.00</td>\n",
       "      <td>3,216.00</td>\n",
       "      <td>3,216.00</td>\n",
       "      <td>3,216.00</td>\n",
       "      <td>3,216.00</td>\n",
       "      <td>3,216.00</td>\n",
       "      <td>3,216.00</td>\n",
       "      <td>3,216.00</td>\n",
       "      <td>3,216.00</td>\n",
       "      <td>3,216.00</td>\n",
       "      <td>3,216.00</td>\n",
       "    </tr>\n",
       "    <tr>\n",
       "      <td>mean</td>\n",
       "      <td>1,251.59</td>\n",
       "      <td>8.31</td>\n",
       "      <td>450.96</td>\n",
       "      <td>17.29</td>\n",
       "      <td>38.26</td>\n",
       "      <td>341.26</td>\n",
       "      <td>19.60</td>\n",
       "      <td>1,266.48</td>\n",
       "      <td>979.23</td>\n",
       "      <td>184.67</td>\n",
       "      <td>2.39</td>\n",
       "      <td>2.39</td>\n",
       "      <td>28.84</td>\n",
       "      <td>2.32</td>\n",
       "      <td>4.02</td>\n",
       "      <td>1,528.90</td>\n",
       "    </tr>\n",
       "    <tr>\n",
       "      <td>std</td>\n",
       "      <td>144.65</td>\n",
       "      <td>2.91</td>\n",
       "      <td>242.10</td>\n",
       "      <td>7.41</td>\n",
       "      <td>36.15</td>\n",
       "      <td>438.09</td>\n",
       "      <td>6.92</td>\n",
       "      <td>1,152.88</td>\n",
       "      <td>645.61</td>\n",
       "      <td>23.06</td>\n",
       "      <td>0.92</td>\n",
       "      <td>0.92</td>\n",
       "      <td>73.06</td>\n",
       "      <td>3.51</td>\n",
       "      <td>11.51</td>\n",
       "      <td>798.22</td>\n",
       "    </tr>\n",
       "    <tr>\n",
       "      <td>min</td>\n",
       "      <td>1,000.00</td>\n",
       "      <td>0.00</td>\n",
       "      <td>0.00</td>\n",
       "      <td>0.00</td>\n",
       "      <td>0.00</td>\n",
       "      <td>50.00</td>\n",
       "      <td>15.00</td>\n",
       "      <td>500.00</td>\n",
       "      <td>550.00</td>\n",
       "      <td>150.00</td>\n",
       "      <td>1.00</td>\n",
       "      <td>1.00</td>\n",
       "      <td>0.00</td>\n",
       "      <td>0.00</td>\n",
       "      <td>0.00</td>\n",
       "      <td>550.00</td>\n",
       "    </tr>\n",
       "    <tr>\n",
       "      <td>25%</td>\n",
       "      <td>1,125.00</td>\n",
       "      <td>6.00</td>\n",
       "      <td>282.00</td>\n",
       "      <td>13.00</td>\n",
       "      <td>9.00</td>\n",
       "      <td>50.00</td>\n",
       "      <td>15.00</td>\n",
       "      <td>500.00</td>\n",
       "      <td>550.00</td>\n",
       "      <td>150.00</td>\n",
       "      <td>1.00</td>\n",
       "      <td>1.00</td>\n",
       "      <td>0.00</td>\n",
       "      <td>0.00</td>\n",
       "      <td>0.00</td>\n",
       "      <td>750.00</td>\n",
       "    </tr>\n",
       "    <tr>\n",
       "      <td>50%</td>\n",
       "      <td>1,253.00</td>\n",
       "      <td>9.00</td>\n",
       "      <td>443.00</td>\n",
       "      <td>17.00</td>\n",
       "      <td>30.00</td>\n",
       "      <td>50.00</td>\n",
       "      <td>15.00</td>\n",
       "      <td>500.00</td>\n",
       "      <td>550.00</td>\n",
       "      <td>200.00</td>\n",
       "      <td>3.00</td>\n",
       "      <td>3.00</td>\n",
       "      <td>0.00</td>\n",
       "      <td>0.00</td>\n",
       "      <td>0.00</td>\n",
       "      <td>1,653.50</td>\n",
       "    </tr>\n",
       "    <tr>\n",
       "      <td>75%</td>\n",
       "      <td>1,378.25</td>\n",
       "      <td>11.00</td>\n",
       "      <td>589.00</td>\n",
       "      <td>21.00</td>\n",
       "      <td>57.00</td>\n",
       "      <td>1,000.00</td>\n",
       "      <td>30.00</td>\n",
       "      <td>3,000.00</td>\n",
       "      <td>1,950.00</td>\n",
       "      <td>200.00</td>\n",
       "      <td>3.00</td>\n",
       "      <td>3.00</td>\n",
       "      <td>0.00</td>\n",
       "      <td>4.00</td>\n",
       "      <td>0.00</td>\n",
       "      <td>1,950.00</td>\n",
       "    </tr>\n",
       "    <tr>\n",
       "      <td>max</td>\n",
       "      <td>1,499.00</td>\n",
       "      <td>12.00</td>\n",
       "      <td>1,673.00</td>\n",
       "      <td>49.00</td>\n",
       "      <td>224.00</td>\n",
       "      <td>1,000.00</td>\n",
       "      <td>30.00</td>\n",
       "      <td>3,000.00</td>\n",
       "      <td>1,950.00</td>\n",
       "      <td>200.00</td>\n",
       "      <td>3.00</td>\n",
       "      <td>3.00</td>\n",
       "      <td>935.00</td>\n",
       "      <td>23.00</td>\n",
       "      <td>93.00</td>\n",
       "      <td>6,770.00</td>\n",
       "    </tr>\n",
       "  </tbody>\n",
       "</table>\n",
       "</div>"
      ],
      "text/plain": [
       "       user_id    month    calls  traffic  message  messages_included  \\\n",
       "count 3,216.00 3,216.00 3,216.00 3,216.00 3,216.00           3,216.00   \n",
       "mean  1,251.59     8.31   450.96    17.29    38.26             341.26   \n",
       "std     144.65     2.91   242.10     7.41    36.15             438.09   \n",
       "min   1,000.00     0.00     0.00     0.00     0.00              50.00   \n",
       "25%   1,125.00     6.00   282.00    13.00     9.00              50.00   \n",
       "50%   1,253.00     9.00   443.00    17.00    30.00              50.00   \n",
       "75%   1,378.25    11.00   589.00    21.00    57.00           1,000.00   \n",
       "max   1,499.00    12.00 1,673.00    49.00   224.00           1,000.00   \n",
       "\n",
       "       mb_per_month_included  minutes_included  rub_monthly_fee  rub_per_gb  \\\n",
       "count               3,216.00          3,216.00         3,216.00    3,216.00   \n",
       "mean                   19.60          1,266.48           979.23      184.67   \n",
       "std                     6.92          1,152.88           645.61       23.06   \n",
       "min                    15.00            500.00           550.00      150.00   \n",
       "25%                    15.00            500.00           550.00      150.00   \n",
       "50%                    15.00            500.00           550.00      200.00   \n",
       "75%                    30.00          3,000.00         1,950.00      200.00   \n",
       "max                    30.00          3,000.00         1,950.00      200.00   \n",
       "\n",
       "       rub_per_message  rub_per_minute  calls_over  traffic_over  \\\n",
       "count         3,216.00        3,216.00    3,216.00      3,216.00   \n",
       "mean              2.39            2.39       28.84          2.32   \n",
       "std               0.92            0.92       73.06          3.51   \n",
       "min               1.00            1.00        0.00          0.00   \n",
       "25%               1.00            1.00        0.00          0.00   \n",
       "50%               3.00            3.00        0.00          0.00   \n",
       "75%               3.00            3.00        0.00          4.00   \n",
       "max               3.00            3.00      935.00         23.00   \n",
       "\n",
       "       message_over  revenue  \n",
       "count      3,216.00 3,216.00  \n",
       "mean           4.02 1,528.90  \n",
       "std           11.51   798.22  \n",
       "min            0.00   550.00  \n",
       "25%            0.00   750.00  \n",
       "50%            0.00 1,653.50  \n",
       "75%            0.00 1,950.00  \n",
       "max           93.00 6,770.00  "
      ]
     },
     "metadata": {},
     "output_type": "display_data"
    }
   ],
   "source": [
    "pivot['revenue'] = pivot['rub_monthly_fee'] + pivot['calls_over']*pivot['rub_per_minute'] + pivot['message_over']*pivot['rub_per_message']+pivot['traffic_over']*pivot['rub_per_gb']\n",
    "\n",
    "display(pivot.describe())"
   ]
  },
  {
   "cell_type": "markdown",
   "metadata": {},
   "source": [
    "**Вывод**\n",
    "\n",
    "Для проведения анализа было выполнено объединение исходных таблиц, так как после объединения образовались пропуски они были заменены на 0.\n",
    "Далее в таблицу были добавлены дополнительные столбцы calls_over, traffic_over, message_over с информацией о превышении тарифа для выполнения расчета по столбцу с рассчитанной выручкой revenue."
   ]
  },
  {
   "cell_type": "markdown",
   "metadata": {},
   "source": [
    "### Проверка допустимых значений после выполнения группировки\n",
    "<a id=\"preprocessing_five_id\"></a>"
   ]
  },
  {
   "cell_type": "markdown",
   "metadata": {},
   "source": [
    "Выполним проверку допустимых значений по количеству израсходованных звонков, трафика, сообщений."
   ]
  },
  {
   "cell_type": "code",
   "execution_count": 34,
   "metadata": {},
   "outputs": [
    {
     "data": {
      "text/plain": [
       "count   3,216.00\n",
       "mean      450.96\n",
       "std       242.10\n",
       "min         0.00\n",
       "25%       282.00\n",
       "50%       443.00\n",
       "75%       589.00\n",
       "max     1,673.00\n",
       "Name: calls, dtype: float64"
      ]
     },
     "execution_count": 34,
     "metadata": {},
     "output_type": "execute_result"
    },
    {
     "data": {
      "image/png": "[encoded data removed]",
      "text/plain": [
       "<Figure size 360x360 with 1 Axes>"
      ]
     },
     "metadata": {
      "needs_background": "light"
     },
     "output_type": "display_data"
    }
   ],
   "source": [
    "pivot.boxplot(column='calls',figsize=(5,5))\n",
    "plt.ylim(0, 1200)\n",
    "plt.title(\"Количество звонков, мин.\")\n",
    "pivot['calls'].describe()"
   ]
  },
  {
   "cell_type": "markdown",
   "metadata": {},
   "source": [
    "Исходя из распределения по звонкам можно сделать вывод,что количество звонков свыше 1020 являются выбросами."
   ]
  },
  {
   "cell_type": "code",
   "execution_count": 35,
   "metadata": {},
   "outputs": [
    {
     "data": {
      "text/plain": [
       "count   3,216.00\n",
       "mean       17.29\n",
       "std         7.41\n",
       "min         0.00\n",
       "25%        13.00\n",
       "50%        17.00\n",
       "75%        21.00\n",
       "max        49.00\n",
       "Name: traffic, dtype: float64"
      ]
     },
     "execution_count": 35,
     "metadata": {},
     "output_type": "execute_result"
    },
    {
     "data": {
      "image/png": "[encoded data removed]",
      "text/plain": [
       "<Figure size 360x360 with 1 Axes>"
      ]
     },
     "metadata": {
      "needs_background": "light"
     },
     "output_type": "display_data"
    }
   ],
   "source": [
    "pivot.boxplot(column='traffic',figsize=(5,5))\n",
    "plt.ylim(0, 40)\n",
    "plt.title(\"Количество израсходованного трафика,гб\")\n",
    "pivot['traffic'].describe()"
   ]
  },
  {
   "cell_type": "markdown",
   "metadata": {},
   "source": [
    "Исходя из распределения можно отнести расходы по трафику свыше 33 гб к выбросам."
   ]
  },
  {
   "cell_type": "code",
   "execution_count": 36,
   "metadata": {},
   "outputs": [
    {
     "data": {
      "text/plain": [
       "count   3,216.00\n",
       "mean       38.26\n",
       "std        36.15\n",
       "min         0.00\n",
       "25%         9.00\n",
       "50%        30.00\n",
       "75%        57.00\n",
       "max       224.00\n",
       "Name: message, dtype: float64"
      ]
     },
     "execution_count": 36,
     "metadata": {},
     "output_type": "execute_result"
    },
    {
     "data": {
      "image/png": "[encoded data removed]",
      "text/plain": [
       "<Figure size 360x360 with 1 Axes>"
      ]
     },
     "metadata": {
      "needs_background": "light"
     },
     "output_type": "display_data"
    }
   ],
   "source": [
    "pivot.boxplot(column='message',figsize=(5,5))\n",
    "plt.ylim(0, 150)\n",
    "plt.title(\"Количество ихрасходованных смс, шт.\")\n",
    "pivot['message'].describe()"
   ]
  },
  {
   "cell_type": "markdown",
   "metadata": {},
   "source": [
    "Отправка пользователем свыше 130 сообщений - это скорее исключение."
   ]
  },
  {
   "cell_type": "code",
   "execution_count": 37,
   "metadata": {},
   "outputs": [
    {
     "data": {
      "text/plain": [
       "count   3,216.00\n",
       "mean    1,528.90\n",
       "std       798.22\n",
       "min       550.00\n",
       "25%       750.00\n",
       "50%     1,653.50\n",
       "75%     1,950.00\n",
       "max     6,770.00\n",
       "Name: revenue, dtype: float64"
      ]
     },
     "execution_count": 37,
     "metadata": {},
     "output_type": "execute_result"
    },
    {
     "data": {
      "image/png": "[encoded data removed]",
      "text/plain": [
       "<Figure size 360x360 with 1 Axes>"
      ]
     },
     "metadata": {
      "needs_background": "light"
     },
     "output_type": "display_data"
    }
   ],
   "source": [
    "pivot.boxplot(column='revenue',figsize=(5,5))\n",
    "plt.ylim(0, 4000)\n",
    "plt.title(\"Выручка, руб.\")\n",
    "pivot['revenue'].describe()"
   ]
  },
  {
   "cell_type": "markdown",
   "metadata": {},
   "source": [
    "Основная часть выручки по тарифам лежит в границах примерно до 3750 руб."
   ]
  },
  {
   "cell_type": "markdown",
   "metadata": {},
   "source": [
    "Добавим функцию по удалению выбросов."
   ]
  },
  {
   "cell_type": "code",
   "execution_count": 38,
   "metadata": {},
   "outputs": [],
   "source": [
    "def emissions(data, field):\n",
    "    #функция для отбора выбросов с помощью межквартильного размаха\n",
    "    before_size = len(data[field])\n",
    "    q1, q3 = data[field].quantile(0.25), data[field].quantile(0.75)\n",
    "    iqr = q3-q1\n",
    "    data = data.query(f'@q1 - 1.5*@iqr < {field} and @q3 + 1.5*@iqr > {field}')\n",
    "    after_size = len(data[field])\n",
    "    percent_part = (before_size - after_size)/before_size\n",
    "    print(q1-1.5*iqr,q3+1.5*iqr)\n",
    "    print(f'Удалено выбросов: {before_size - after_size} ({percent_part:.1%})')"
   ]
  },
  {
   "cell_type": "code",
   "execution_count": 39,
   "metadata": {},
   "outputs": [
    {
     "name": "stdout",
     "output_type": "stream",
     "text": [
      "-178.5 1049.5\n",
      "Удалено выбросов: 63 (2.0%)\n"
     ]
    }
   ],
   "source": [
    "emissions(pivot, 'calls')"
   ]
  },
  {
   "cell_type": "code",
   "execution_count": 40,
   "metadata": {},
   "outputs": [
    {
     "name": "stdout",
     "output_type": "stream",
     "text": [
      "1.0 33.0\n",
      "Удалено выбросов: 150 (4.7%)\n"
     ]
    }
   ],
   "source": [
    "emissions(pivot, 'traffic')"
   ]
  },
  {
   "cell_type": "code",
   "execution_count": 41,
   "metadata": {},
   "outputs": [
    {
     "name": "stdout",
     "output_type": "stream",
     "text": [
      "-63.0 129.0\n",
      "Удалено выбросов: 95 (3.0%)\n"
     ]
    }
   ],
   "source": [
    "emissions(pivot, 'message')"
   ]
  },
  {
   "cell_type": "code",
   "execution_count": 42,
   "metadata": {},
   "outputs": [
    {
     "name": "stdout",
     "output_type": "stream",
     "text": [
      "-1050.0 3750.0\n",
      "Удалено выбросов: 46 (1.4%)\n"
     ]
    }
   ],
   "source": [
    "emissions(pivot, 'revenue')"
   ]
  },
  {
   "cell_type": "markdown",
   "metadata": {},
   "source": [
    "**Вывод**\n",
    "\n",
    "На этапе повторной проверки допущенных значений после проведения группировки из таблицы были удалены выбросы по следующим колонкам:\n",
    "- `calls` удалены значения свыше 1049.5 мин., что составило 2% от всех значений; \n",
    "- `traffic` удалены значения свыше 33 гб, что составило 4.7% от всех значений; \n",
    "- `message` удалены значения свыше 95 шт., что составило 3% от всех значений; \n",
    "- `revenue` удалены значения свыше 3750 руб., что составило 1,4% от всех значений.\n"
   ]
  },
  {
   "cell_type": "markdown",
   "metadata": {},
   "source": [
    "## Исследовательский анализ данных\n",
    "<a id=\"analysis_id\"></a>"
   ]
  },
  {
   "cell_type": "markdown",
   "metadata": {},
   "source": [
    "Исходя из цели исследования требуется проанализировать поведение Клиентов на основании предоставленной выборки и опеределить какой тариф приносит больше денег компании \"Мегалайн\".\n",
    "\n",
    "Проверим гипотезы о том,что:\n",
    "- средняя выручка пользователей тарифов «Ультра» и «Смарт» различаются;\n",
    "- средняя выручка пользователей из Москвы отличается от выручки пользователей из других регионов.\n",
    "\n",
    "Опишем поведение клиентов оператора, исходя из выборки.\n",
    "Сколько минут разговора, сколько сообщений и какой объём интернет-трафика требуется пользователям каждого тарифа в месяц?\n",
    "Посчитаем среднее количество, дисперсию и стандартное отклонение.\n",
    "Построим гистограммы.\n",
    "Опишем распределения."
   ]
  },
  {
   "cell_type": "code",
   "execution_count": 43,
   "metadata": {
    "scrolled": true
   },
   "outputs": [
    {
     "data": {
      "text/html": [
       "<div>\n",
       "<style scoped>\n",
       "    .dataframe tbody tr th:only-of-type {\n",
       "        vertical-align: middle;\n",
       "    }\n",
       "\n",
       "    .dataframe tbody tr th {\n",
       "        vertical-align: top;\n",
       "    }\n",
       "\n",
       "    .dataframe thead th {\n",
       "        text-align: right;\n",
       "    }\n",
       "</style>\n",
       "<table border=\"1\" class=\"dataframe\">\n",
       "  <thead>\n",
       "    <tr style=\"text-align: right;\">\n",
       "      <th></th>\n",
       "      <th>user_id</th>\n",
       "      <th>month</th>\n",
       "      <th>calls</th>\n",
       "      <th>traffic</th>\n",
       "      <th>message</th>\n",
       "      <th>messages_included</th>\n",
       "      <th>mb_per_month_included</th>\n",
       "      <th>minutes_included</th>\n",
       "      <th>rub_monthly_fee</th>\n",
       "      <th>rub_per_gb</th>\n",
       "      <th>rub_per_message</th>\n",
       "      <th>rub_per_minute</th>\n",
       "      <th>calls_over</th>\n",
       "      <th>traffic_over</th>\n",
       "      <th>message_over</th>\n",
       "      <th>revenue</th>\n",
       "    </tr>\n",
       "  </thead>\n",
       "  <tbody>\n",
       "    <tr>\n",
       "      <td>count</td>\n",
       "      <td>2,230.00</td>\n",
       "      <td>2,230.00</td>\n",
       "      <td>2,230.00</td>\n",
       "      <td>2,230.00</td>\n",
       "      <td>2,230.00</td>\n",
       "      <td>2,230.00</td>\n",
       "      <td>2,230.00</td>\n",
       "      <td>2,230.00</td>\n",
       "      <td>2,230.00</td>\n",
       "      <td>2,230.00</td>\n",
       "      <td>2,230.00</td>\n",
       "      <td>2,230.00</td>\n",
       "      <td>2,230.00</td>\n",
       "      <td>2,230.00</td>\n",
       "      <td>2,230.00</td>\n",
       "      <td>2,230.00</td>\n",
       "    </tr>\n",
       "    <tr>\n",
       "      <td>mean</td>\n",
       "      <td>1,246.56</td>\n",
       "      <td>8.34</td>\n",
       "      <td>417.75</td>\n",
       "      <td>16.32</td>\n",
       "      <td>33.37</td>\n",
       "      <td>50.00</td>\n",
       "      <td>15.00</td>\n",
       "      <td>500.00</td>\n",
       "      <td>550.00</td>\n",
       "      <td>200.00</td>\n",
       "      <td>3.00</td>\n",
       "      <td>3.00</td>\n",
       "      <td>41.59</td>\n",
       "      <td>2.99</td>\n",
       "      <td>5.80</td>\n",
       "      <td>1,289.64</td>\n",
       "    </tr>\n",
       "    <tr>\n",
       "      <td>std</td>\n",
       "      <td>146.11</td>\n",
       "      <td>2.93</td>\n",
       "      <td>190.48</td>\n",
       "      <td>5.76</td>\n",
       "      <td>28.23</td>\n",
       "      <td>0.00</td>\n",
       "      <td>0.00</td>\n",
       "      <td>0.00</td>\n",
       "      <td>0.00</td>\n",
       "      <td>0.00</td>\n",
       "      <td>0.00</td>\n",
       "      <td>0.00</td>\n",
       "      <td>84.66</td>\n",
       "      <td>3.68</td>\n",
       "      <td>13.44</td>\n",
       "      <td>818.37</td>\n",
       "    </tr>\n",
       "    <tr>\n",
       "      <td>min</td>\n",
       "      <td>1,001.00</td>\n",
       "      <td>0.00</td>\n",
       "      <td>0.00</td>\n",
       "      <td>0.00</td>\n",
       "      <td>0.00</td>\n",
       "      <td>50.00</td>\n",
       "      <td>15.00</td>\n",
       "      <td>500.00</td>\n",
       "      <td>550.00</td>\n",
       "      <td>200.00</td>\n",
       "      <td>3.00</td>\n",
       "      <td>3.00</td>\n",
       "      <td>0.00</td>\n",
       "      <td>0.00</td>\n",
       "      <td>0.00</td>\n",
       "      <td>550.00</td>\n",
       "    </tr>\n",
       "    <tr>\n",
       "      <td>25%</td>\n",
       "      <td>1,121.00</td>\n",
       "      <td>6.00</td>\n",
       "      <td>282.00</td>\n",
       "      <td>13.00</td>\n",
       "      <td>10.00</td>\n",
       "      <td>50.00</td>\n",
       "      <td>15.00</td>\n",
       "      <td>500.00</td>\n",
       "      <td>550.00</td>\n",
       "      <td>200.00</td>\n",
       "      <td>3.00</td>\n",
       "      <td>3.00</td>\n",
       "      <td>0.00</td>\n",
       "      <td>0.00</td>\n",
       "      <td>0.00</td>\n",
       "      <td>550.00</td>\n",
       "    </tr>\n",
       "    <tr>\n",
       "      <td>50%</td>\n",
       "      <td>1,240.00</td>\n",
       "      <td>9.00</td>\n",
       "      <td>421.50</td>\n",
       "      <td>17.00</td>\n",
       "      <td>28.00</td>\n",
       "      <td>50.00</td>\n",
       "      <td>15.00</td>\n",
       "      <td>500.00</td>\n",
       "      <td>550.00</td>\n",
       "      <td>200.00</td>\n",
       "      <td>3.00</td>\n",
       "      <td>3.00</td>\n",
       "      <td>0.00</td>\n",
       "      <td>2.00</td>\n",
       "      <td>0.00</td>\n",
       "      <td>1,021.00</td>\n",
       "    </tr>\n",
       "    <tr>\n",
       "      <td>75%</td>\n",
       "      <td>1,376.00</td>\n",
       "      <td>11.00</td>\n",
       "      <td>545.00</td>\n",
       "      <td>20.00</td>\n",
       "      <td>51.00</td>\n",
       "      <td>50.00</td>\n",
       "      <td>15.00</td>\n",
       "      <td>500.00</td>\n",
       "      <td>550.00</td>\n",
       "      <td>200.00</td>\n",
       "      <td>3.00</td>\n",
       "      <td>3.00</td>\n",
       "      <td>45.00</td>\n",
       "      <td>5.00</td>\n",
       "      <td>1.00</td>\n",
       "      <td>1,750.00</td>\n",
       "    </tr>\n",
       "    <tr>\n",
       "      <td>max</td>\n",
       "      <td>1,499.00</td>\n",
       "      <td>12.00</td>\n",
       "      <td>1,435.00</td>\n",
       "      <td>38.00</td>\n",
       "      <td>143.00</td>\n",
       "      <td>50.00</td>\n",
       "      <td>15.00</td>\n",
       "      <td>500.00</td>\n",
       "      <td>550.00</td>\n",
       "      <td>200.00</td>\n",
       "      <td>3.00</td>\n",
       "      <td>3.00</td>\n",
       "      <td>935.00</td>\n",
       "      <td>23.00</td>\n",
       "      <td>93.00</td>\n",
       "      <td>6,770.00</td>\n",
       "    </tr>\n",
       "  </tbody>\n",
       "</table>\n",
       "</div>"
      ],
      "text/plain": [
       "       user_id    month    calls  traffic  message  messages_included  \\\n",
       "count 2,230.00 2,230.00 2,230.00 2,230.00 2,230.00           2,230.00   \n",
       "mean  1,246.56     8.34   417.75    16.32    33.37              50.00   \n",
       "std     146.11     2.93   190.48     5.76    28.23               0.00   \n",
       "min   1,001.00     0.00     0.00     0.00     0.00              50.00   \n",
       "25%   1,121.00     6.00   282.00    13.00    10.00              50.00   \n",
       "50%   1,240.00     9.00   421.50    17.00    28.00              50.00   \n",
       "75%   1,376.00    11.00   545.00    20.00    51.00              50.00   \n",
       "max   1,499.00    12.00 1,435.00    38.00   143.00              50.00   \n",
       "\n",
       "       mb_per_month_included  minutes_included  rub_monthly_fee  rub_per_gb  \\\n",
       "count               2,230.00          2,230.00         2,230.00    2,230.00   \n",
       "mean                   15.00            500.00           550.00      200.00   \n",
       "std                     0.00              0.00             0.00        0.00   \n",
       "min                    15.00            500.00           550.00      200.00   \n",
       "25%                    15.00            500.00           550.00      200.00   \n",
       "50%                    15.00            500.00           550.00      200.00   \n",
       "75%                    15.00            500.00           550.00      200.00   \n",
       "max                    15.00            500.00           550.00      200.00   \n",
       "\n",
       "       rub_per_message  rub_per_minute  calls_over  traffic_over  \\\n",
       "count         2,230.00        2,230.00    2,230.00      2,230.00   \n",
       "mean              3.00            3.00       41.59          2.99   \n",
       "std               0.00            0.00       84.66          3.68   \n",
       "min               3.00            3.00        0.00          0.00   \n",
       "25%               3.00            3.00        0.00          0.00   \n",
       "50%               3.00            3.00        0.00          2.00   \n",
       "75%               3.00            3.00       45.00          5.00   \n",
       "max               3.00            3.00      935.00         23.00   \n",
       "\n",
       "       message_over  revenue  \n",
       "count      2,230.00 2,230.00  \n",
       "mean           5.80 1,289.64  \n",
       "std           13.44   818.37  \n",
       "min            0.00   550.00  \n",
       "25%            0.00   550.00  \n",
       "50%            0.00 1,021.00  \n",
       "75%            1.00 1,750.00  \n",
       "max           93.00 6,770.00  "
      ]
     },
     "execution_count": 43,
     "metadata": {},
     "output_type": "execute_result"
    }
   ],
   "source": [
    "pivot.query('tariff==\"smart\"').describe()"
   ]
  },
  {
   "cell_type": "markdown",
   "metadata": {},
   "source": [
    "Среднее значение для пользователя тарифа смарт:\n",
    "- `количество минут` 417.75;\n",
    "- `использовано трафика` 16.32;\n",
    "- `количество использованных смс` 33.37;\n",
    "- `количество использованных смс` 1289.64.\n"
   ]
  },
  {
   "cell_type": "code",
   "execution_count": 44,
   "metadata": {
    "scrolled": true
   },
   "outputs": [
    {
     "data": {
      "text/html": [
       "<div>\n",
       "<style scoped>\n",
       "    .dataframe tbody tr th:only-of-type {\n",
       "        vertical-align: middle;\n",
       "    }\n",
       "\n",
       "    .dataframe tbody tr th {\n",
       "        vertical-align: top;\n",
       "    }\n",
       "\n",
       "    .dataframe thead th {\n",
       "        text-align: right;\n",
       "    }\n",
       "</style>\n",
       "<table border=\"1\" class=\"dataframe\">\n",
       "  <thead>\n",
       "    <tr style=\"text-align: right;\">\n",
       "      <th></th>\n",
       "      <th>user_id</th>\n",
       "      <th>month</th>\n",
       "      <th>calls</th>\n",
       "      <th>traffic</th>\n",
       "      <th>message</th>\n",
       "      <th>messages_included</th>\n",
       "      <th>mb_per_month_included</th>\n",
       "      <th>minutes_included</th>\n",
       "      <th>rub_monthly_fee</th>\n",
       "      <th>rub_per_gb</th>\n",
       "      <th>rub_per_message</th>\n",
       "      <th>rub_per_minute</th>\n",
       "      <th>calls_over</th>\n",
       "      <th>traffic_over</th>\n",
       "      <th>message_over</th>\n",
       "      <th>revenue</th>\n",
       "    </tr>\n",
       "  </thead>\n",
       "  <tbody>\n",
       "    <tr>\n",
       "      <td>count</td>\n",
       "      <td>986.00</td>\n",
       "      <td>986.00</td>\n",
       "      <td>986.00</td>\n",
       "      <td>986.00</td>\n",
       "      <td>986.00</td>\n",
       "      <td>986.00</td>\n",
       "      <td>986.00</td>\n",
       "      <td>986.00</td>\n",
       "      <td>986.00</td>\n",
       "      <td>986.00</td>\n",
       "      <td>986.00</td>\n",
       "      <td>986.00</td>\n",
       "      <td>986.00</td>\n",
       "      <td>986.00</td>\n",
       "      <td>986.00</td>\n",
       "      <td>986.00</td>\n",
       "    </tr>\n",
       "    <tr>\n",
       "      <td>mean</td>\n",
       "      <td>1,262.96</td>\n",
       "      <td>8.24</td>\n",
       "      <td>526.09</td>\n",
       "      <td>19.47</td>\n",
       "      <td>49.31</td>\n",
       "      <td>1,000.00</td>\n",
       "      <td>30.00</td>\n",
       "      <td>3,000.00</td>\n",
       "      <td>1,950.00</td>\n",
       "      <td>150.00</td>\n",
       "      <td>1.00</td>\n",
       "      <td>1.00</td>\n",
       "      <td>0.00</td>\n",
       "      <td>0.80</td>\n",
       "      <td>0.00</td>\n",
       "      <td>2,070.03</td>\n",
       "    </tr>\n",
       "    <tr>\n",
       "      <td>std</td>\n",
       "      <td>140.69</td>\n",
       "      <td>2.88</td>\n",
       "      <td>317.89</td>\n",
       "      <td>9.87</td>\n",
       "      <td>47.81</td>\n",
       "      <td>0.00</td>\n",
       "      <td>0.00</td>\n",
       "      <td>0.00</td>\n",
       "      <td>0.00</td>\n",
       "      <td>0.00</td>\n",
       "      <td>0.00</td>\n",
       "      <td>0.00</td>\n",
       "      <td>0.00</td>\n",
       "      <td>2.51</td>\n",
       "      <td>0.00</td>\n",
       "      <td>376.02</td>\n",
       "    </tr>\n",
       "    <tr>\n",
       "      <td>min</td>\n",
       "      <td>1,000.00</td>\n",
       "      <td>0.00</td>\n",
       "      <td>0.00</td>\n",
       "      <td>0.00</td>\n",
       "      <td>0.00</td>\n",
       "      <td>1,000.00</td>\n",
       "      <td>30.00</td>\n",
       "      <td>3,000.00</td>\n",
       "      <td>1,950.00</td>\n",
       "      <td>150.00</td>\n",
       "      <td>1.00</td>\n",
       "      <td>1.00</td>\n",
       "      <td>0.00</td>\n",
       "      <td>0.00</td>\n",
       "      <td>0.00</td>\n",
       "      <td>1,950.00</td>\n",
       "    </tr>\n",
       "    <tr>\n",
       "      <td>25%</td>\n",
       "      <td>1,143.00</td>\n",
       "      <td>6.00</td>\n",
       "      <td>282.50</td>\n",
       "      <td>12.00</td>\n",
       "      <td>6.00</td>\n",
       "      <td>1,000.00</td>\n",
       "      <td>30.00</td>\n",
       "      <td>3,000.00</td>\n",
       "      <td>1,950.00</td>\n",
       "      <td>150.00</td>\n",
       "      <td>1.00</td>\n",
       "      <td>1.00</td>\n",
       "      <td>0.00</td>\n",
       "      <td>0.00</td>\n",
       "      <td>0.00</td>\n",
       "      <td>1,950.00</td>\n",
       "    </tr>\n",
       "    <tr>\n",
       "      <td>50%</td>\n",
       "      <td>1,277.00</td>\n",
       "      <td>9.00</td>\n",
       "      <td>518.00</td>\n",
       "      <td>19.00</td>\n",
       "      <td>38.00</td>\n",
       "      <td>1,000.00</td>\n",
       "      <td>30.00</td>\n",
       "      <td>3,000.00</td>\n",
       "      <td>1,950.00</td>\n",
       "      <td>150.00</td>\n",
       "      <td>1.00</td>\n",
       "      <td>1.00</td>\n",
       "      <td>0.00</td>\n",
       "      <td>0.00</td>\n",
       "      <td>0.00</td>\n",
       "      <td>1,950.00</td>\n",
       "    </tr>\n",
       "    <tr>\n",
       "      <td>75%</td>\n",
       "      <td>1,381.00</td>\n",
       "      <td>11.00</td>\n",
       "      <td>751.75</td>\n",
       "      <td>27.00</td>\n",
       "      <td>78.75</td>\n",
       "      <td>1,000.00</td>\n",
       "      <td>30.00</td>\n",
       "      <td>3,000.00</td>\n",
       "      <td>1,950.00</td>\n",
       "      <td>150.00</td>\n",
       "      <td>1.00</td>\n",
       "      <td>1.00</td>\n",
       "      <td>0.00</td>\n",
       "      <td>0.00</td>\n",
       "      <td>0.00</td>\n",
       "      <td>1,950.00</td>\n",
       "    </tr>\n",
       "    <tr>\n",
       "      <td>max</td>\n",
       "      <td>1,495.00</td>\n",
       "      <td>12.00</td>\n",
       "      <td>1,673.00</td>\n",
       "      <td>49.00</td>\n",
       "      <td>224.00</td>\n",
       "      <td>1,000.00</td>\n",
       "      <td>30.00</td>\n",
       "      <td>3,000.00</td>\n",
       "      <td>1,950.00</td>\n",
       "      <td>150.00</td>\n",
       "      <td>1.00</td>\n",
       "      <td>1.00</td>\n",
       "      <td>0.00</td>\n",
       "      <td>19.00</td>\n",
       "      <td>0.00</td>\n",
       "      <td>4,800.00</td>\n",
       "    </tr>\n",
       "  </tbody>\n",
       "</table>\n",
       "</div>"
      ],
      "text/plain": [
       "       user_id  month    calls  traffic  message  messages_included  \\\n",
       "count   986.00 986.00   986.00   986.00   986.00             986.00   \n",
       "mean  1,262.96   8.24   526.09    19.47    49.31           1,000.00   \n",
       "std     140.69   2.88   317.89     9.87    47.81               0.00   \n",
       "min   1,000.00   0.00     0.00     0.00     0.00           1,000.00   \n",
       "25%   1,143.00   6.00   282.50    12.00     6.00           1,000.00   \n",
       "50%   1,277.00   9.00   518.00    19.00    38.00           1,000.00   \n",
       "75%   1,381.00  11.00   751.75    27.00    78.75           1,000.00   \n",
       "max   1,495.00  12.00 1,673.00    49.00   224.00           1,000.00   \n",
       "\n",
       "       mb_per_month_included  minutes_included  rub_monthly_fee  rub_per_gb  \\\n",
       "count                 986.00            986.00           986.00      986.00   \n",
       "mean                   30.00          3,000.00         1,950.00      150.00   \n",
       "std                     0.00              0.00             0.00        0.00   \n",
       "min                    30.00          3,000.00         1,950.00      150.00   \n",
       "25%                    30.00          3,000.00         1,950.00      150.00   \n",
       "50%                    30.00          3,000.00         1,950.00      150.00   \n",
       "75%                    30.00          3,000.00         1,950.00      150.00   \n",
       "max                    30.00          3,000.00         1,950.00      150.00   \n",
       "\n",
       "       rub_per_message  rub_per_minute  calls_over  traffic_over  \\\n",
       "count           986.00          986.00      986.00        986.00   \n",
       "mean              1.00            1.00        0.00          0.80   \n",
       "std               0.00            0.00        0.00          2.51   \n",
       "min               1.00            1.00        0.00          0.00   \n",
       "25%               1.00            1.00        0.00          0.00   \n",
       "50%               1.00            1.00        0.00          0.00   \n",
       "75%               1.00            1.00        0.00          0.00   \n",
       "max               1.00            1.00        0.00         19.00   \n",
       "\n",
       "       message_over  revenue  \n",
       "count        986.00   986.00  \n",
       "mean           0.00 2,070.03  \n",
       "std            0.00   376.02  \n",
       "min            0.00 1,950.00  \n",
       "25%            0.00 1,950.00  \n",
       "50%            0.00 1,950.00  \n",
       "75%            0.00 1,950.00  \n",
       "max            0.00 4,800.00  "
      ]
     },
     "execution_count": 44,
     "metadata": {},
     "output_type": "execute_result"
    }
   ],
   "source": [
    "pivot.query('tariff==\"ultra\"').describe()"
   ]
  },
  {
   "cell_type": "markdown",
   "metadata": {},
   "source": [
    "Среднее значение для пользователя тарифа ультра:\n",
    "- `количество минут` 526.09;\n",
    "- `использовано трафика` 19.47;\n",
    "- `количество использованных смс` 49.31;\n",
    "- `выручка` 2070,03.\n"
   ]
  },
  {
   "cell_type": "markdown",
   "metadata": {},
   "source": [
    "Посчитаем дисперсию,стандартное отклонение и среднее для количества звонков,использованного трафика и смс по каждому тарифу."
   ]
  },
  {
   "cell_type": "code",
   "execution_count": 45,
   "metadata": {},
   "outputs": [
    {
     "data": {
      "text/html": [
       "<div>\n",
       "<style scoped>\n",
       "    .dataframe tbody tr th:only-of-type {\n",
       "        vertical-align: middle;\n",
       "    }\n",
       "\n",
       "    .dataframe tbody tr th {\n",
       "        vertical-align: top;\n",
       "    }\n",
       "\n",
       "    .dataframe thead tr th {\n",
       "        text-align: left;\n",
       "    }\n",
       "\n",
       "    .dataframe thead tr:last-of-type th {\n",
       "        text-align: right;\n",
       "    }\n",
       "</style>\n",
       "<table border=\"1\" class=\"dataframe\">\n",
       "  <thead>\n",
       "    <tr>\n",
       "      <th></th>\n",
       "      <th colspan=\"4\" halign=\"left\">mean</th>\n",
       "      <th colspan=\"4\" halign=\"left\">var</th>\n",
       "      <th colspan=\"4\" halign=\"left\">std</th>\n",
       "      <th colspan=\"4\" halign=\"left\">median</th>\n",
       "    </tr>\n",
       "    <tr>\n",
       "      <th></th>\n",
       "      <th>calls</th>\n",
       "      <th>message</th>\n",
       "      <th>revenue</th>\n",
       "      <th>traffic</th>\n",
       "      <th>calls</th>\n",
       "      <th>message</th>\n",
       "      <th>revenue</th>\n",
       "      <th>traffic</th>\n",
       "      <th>calls</th>\n",
       "      <th>message</th>\n",
       "      <th>revenue</th>\n",
       "      <th>traffic</th>\n",
       "      <th>calls</th>\n",
       "      <th>message</th>\n",
       "      <th>revenue</th>\n",
       "      <th>traffic</th>\n",
       "    </tr>\n",
       "    <tr>\n",
       "      <th>tariff</th>\n",
       "      <th></th>\n",
       "      <th></th>\n",
       "      <th></th>\n",
       "      <th></th>\n",
       "      <th></th>\n",
       "      <th></th>\n",
       "      <th></th>\n",
       "      <th></th>\n",
       "      <th></th>\n",
       "      <th></th>\n",
       "      <th></th>\n",
       "      <th></th>\n",
       "      <th></th>\n",
       "      <th></th>\n",
       "      <th></th>\n",
       "      <th></th>\n",
       "    </tr>\n",
       "  </thead>\n",
       "  <tbody>\n",
       "    <tr>\n",
       "      <td>smart</td>\n",
       "      <td>417.75</td>\n",
       "      <td>33.37</td>\n",
       "      <td>1,289.64</td>\n",
       "      <td>16.32</td>\n",
       "      <td>36,281.39</td>\n",
       "      <td>796.96</td>\n",
       "      <td>669,730.76</td>\n",
       "      <td>33.13</td>\n",
       "      <td>190.48</td>\n",
       "      <td>28.23</td>\n",
       "      <td>818.37</td>\n",
       "      <td>5.76</td>\n",
       "      <td>421.50</td>\n",
       "      <td>28.00</td>\n",
       "      <td>1,021.00</td>\n",
       "      <td>17.00</td>\n",
       "    </tr>\n",
       "    <tr>\n",
       "      <td>ultra</td>\n",
       "      <td>526.09</td>\n",
       "      <td>49.31</td>\n",
       "      <td>2,070.03</td>\n",
       "      <td>19.47</td>\n",
       "      <td>101,052.49</td>\n",
       "      <td>2,285.42</td>\n",
       "      <td>141,387.71</td>\n",
       "      <td>97.38</td>\n",
       "      <td>317.89</td>\n",
       "      <td>47.81</td>\n",
       "      <td>376.02</td>\n",
       "      <td>9.87</td>\n",
       "      <td>518.00</td>\n",
       "      <td>38.00</td>\n",
       "      <td>1,950.00</td>\n",
       "      <td>19.00</td>\n",
       "    </tr>\n",
       "  </tbody>\n",
       "</table>\n",
       "</div>"
      ],
      "text/plain": [
       "         mean                                 var                              \\\n",
       "        calls message  revenue traffic      calls  message    revenue traffic   \n",
       "tariff                                                                          \n",
       "smart  417.75   33.37 1,289.64   16.32  36,281.39   796.96 669,730.76   33.13   \n",
       "ultra  526.09   49.31 2,070.03   19.47 101,052.49 2,285.42 141,387.71   97.38   \n",
       "\n",
       "          std                         median                           \n",
       "        calls message revenue traffic  calls message  revenue traffic  \n",
       "tariff                                                                 \n",
       "smart  190.48   28.23  818.37    5.76 421.50   28.00 1,021.00   17.00  \n",
       "ultra  317.89   47.81  376.02    9.87 518.00   38.00 1,950.00   19.00  "
      ]
     },
     "execution_count": 45,
     "metadata": {},
     "output_type": "execute_result"
    }
   ],
   "source": [
    "pivot.pivot_table(index='tariff',values=['calls','traffic','message','revenue'],aggfunc=['mean','var','std','median'])"
   ]
  },
  {
   "cell_type": "markdown",
   "metadata": {},
   "source": [
    "Построим график по умолчанию с оценкой плотности ядра и гистограммой с размером ячейки по количеству звонков."
   ]
  },
  {
   "cell_type": "code",
   "execution_count": 46,
   "metadata": {},
   "outputs": [
    {
     "data": {
      "text/plain": [
       "Text(0.5, 1.0, 'График с оценкой плотности ядра и гистограммой с размером ячейки по количеству звонков., мин.')"
      ]
     },
     "execution_count": 46,
     "metadata": {},
     "output_type": "execute_result"
    },
    {
     "data": {
      "image/png": "[encoded data removed]",
      "text/plain": [
       "<Figure size 432x288 with 1 Axes>"
      ]
     },
     "metadata": {
      "needs_background": "light"
     },
     "output_type": "display_data"
    }
   ],
   "source": [
    "bx = sns.distplot(pivot.query('tariff==\"smart\"')['calls'])\n",
    "ax = sns.distplot(pivot.query('tariff==\"ultra\"')['calls'])\n",
    "plt.ylabel(\"Оценка плотности ядра\")\n",
    "plt.xlabel(\"Количество звонков, мин.\")\n",
    "plt.title(\"График с оценкой плотности ядра и гистограммой с размером ячейки по количеству звонков., мин.\")\n",
    "\n"
   ]
  },
  {
   "cell_type": "code",
   "execution_count": 47,
   "metadata": {
    "scrolled": true
   },
   "outputs": [
    {
     "data": {
      "text/plain": [
       "Text(0.5, 1.0, 'Количество звонков по тарифу Smart, мин.')"
      ]
     },
     "execution_count": 47,
     "metadata": {},
     "output_type": "execute_result"
    },
    {
     "data": {
      "image/png": "[encoded data removed]",
      "text/plain": [
       "<Figure size 360x360 with 1 Axes>"
      ]
     },
     "metadata": {
      "needs_background": "light"
     },
     "output_type": "display_data"
    }
   ],
   "source": [
    "pivot.query('tariff==\"smart\"').boxplot(column='calls',figsize=(5,5))\n",
    "plt.ylim(0, 1000)\n",
    "plt.title(\"Количество звонков по тарифу Smart, мин.\")"
   ]
  },
  {
   "cell_type": "code",
   "execution_count": 48,
   "metadata": {},
   "outputs": [
    {
     "data": {
      "text/plain": [
       "Text(0.5, 1.0, 'Количество звонков по тарифу Ultra, мин.')"
      ]
     },
     "execution_count": 48,
     "metadata": {},
     "output_type": "execute_result"
    },
    {
     "data": {
      "image/png": "[encoded data removed]",
      "text/plain": [
       "<Figure size 360x360 with 1 Axes>"
      ]
     },
     "metadata": {
      "needs_background": "light"
     },
     "output_type": "display_data"
    }
   ],
   "source": [
    "pivot.query('tariff==\"ultra\"').boxplot(column='calls',figsize=(5,5))\n",
    "plt.ylim(0, 1000)\n",
    "plt.title(\"Количество звонков по тарифу Ultra, мин.\")"
   ]
  },
  {
   "cell_type": "markdown",
   "metadata": {},
   "source": [
    "Исходя из гистрограммы по количеству звонков мы наблюдаем распределение очень близкое к нормальному обоим тарифам. \n",
    "По тарифу **\"Смарт\"** большинство пользователей по количеству использованных минут укладываются в стандартный пакет (500 минут), но есть и те,кто тратят более 500 минут.\n",
    "По тарифу **\"Ультра\"** пользователи укладываются в стандартный пакет (3000 минут)"
   ]
  },
  {
   "cell_type": "markdown",
   "metadata": {},
   "source": [
    "Построим график по умолчанию с оценкой плотности ядра и гистограммой с размером ячейки  по количеству использованного трафика."
   ]
  },
  {
   "cell_type": "code",
   "execution_count": 49,
   "metadata": {},
   "outputs": [
    {
     "data": {
      "text/plain": [
       "Text(0.5, 1.0, 'График с оценкой плотности ядра и гистограммой с размером ячейки по израсходованному трафику, гб')"
      ]
     },
     "execution_count": 49,
     "metadata": {},
     "output_type": "execute_result"
    },
    {
     "data": {
      "image/png": "[encoded data removed]",
      "text/plain": [
       "<Figure size 432x288 with 1 Axes>"
      ]
     },
     "metadata": {
      "needs_background": "light"
     },
     "output_type": "display_data"
    }
   ],
   "source": [
    "bx = sns.distplot(pivot.query('tariff==\"smart\"')['traffic'],label='smart')\n",
    "ax = sns.distplot(pivot.query('tariff==\"ultra\"')['traffic'],label='ultra')\n",
    "plt.legend()\n",
    "plt.ylabel(\"Оценка плотности ядра\")\n",
    "plt.xlabel(\"Израсходованный трафик, гб\")\n",
    "plt.title(\"График с оценкой плотности ядра и гистограммой с размером ячейки по израсходованному трафику, гб\")\n"
   ]
  },
  {
   "cell_type": "code",
   "execution_count": 50,
   "metadata": {},
   "outputs": [
    {
     "data": {
      "text/plain": [
       "Text(0.5, 1.0, 'Количество израсходованного трафика по тарифу Smart, гб')"
      ]
     },
     "execution_count": 50,
     "metadata": {},
     "output_type": "execute_result"
    },
    {
     "data": {
      "image/png": "[encoded data removed]",
      "text/plain": [
       "<Figure size 360x360 with 1 Axes>"
      ]
     },
     "metadata": {
      "needs_background": "light"
     },
     "output_type": "display_data"
    }
   ],
   "source": [
    "pivot.query('tariff==\"smart\"').boxplot(column='traffic',figsize=(5,5))\n",
    "plt.ylim(0, 40)\n",
    "plt.title(\"Количество израсходованного трафика по тарифу Smart, гб\")"
   ]
  },
  {
   "cell_type": "code",
   "execution_count": 51,
   "metadata": {},
   "outputs": [
    {
     "data": {
      "text/plain": [
       "Text(0.5, 1.0, 'Количество израсходованного трафика по тарифу Ultra, гб')"
      ]
     },
     "execution_count": 51,
     "metadata": {},
     "output_type": "execute_result"
    },
    {
     "data": {
      "image/png": "[encoded data removed]",
      "text/plain": [
       "<Figure size 360x360 with 1 Axes>"
      ]
     },
     "metadata": {
      "needs_background": "light"
     },
     "output_type": "display_data"
    }
   ],
   "source": [
    "pivot.query('tariff==\"ultra\"').boxplot(column='traffic',figsize=(5,5))\n",
    "plt.ylim(0, 40)\n",
    "plt.title(\"Количество израсходованного трафика по тарифу Ultra, гб\")"
   ]
  },
  {
   "cell_type": "markdown",
   "metadata": {},
   "source": [
    "Исходя из гистрограммы по израсходованному трафику мы наблюдаем распределение близкое к нормальному по обоим тарифам. \n",
    "По тарифу Smart большая часть пользователь превышает расходы по пакету, расходуя около 17 гб.\n",
    "Пользователи по тарифу Ultra укладываются в стандартные пакеты."
   ]
  },
  {
   "cell_type": "markdown",
   "metadata": {},
   "source": [
    "Построим график по умолчанию с оценкой плотности ядра и гистограммой с размером ячейки  по количеству использованных смс."
   ]
  },
  {
   "cell_type": "code",
   "execution_count": 52,
   "metadata": {},
   "outputs": [
    {
     "data": {
      "text/plain": [
       "Text(0.5, 1.0, 'График с оценкой плотности ядра и гистограммой с размером ячейки по количеству использованных смс, шт.')"
      ]
     },
     "execution_count": 52,
     "metadata": {},
     "output_type": "execute_result"
    },
    {
     "data": {
      "image/png": "[encoded data removed]",
      "text/plain": [
       "<Figure size 432x288 with 1 Axes>"
      ]
     },
     "metadata": {
      "needs_background": "light"
     },
     "output_type": "display_data"
    }
   ],
   "source": [
    "bx = sns.distplot(pivot.query('tariff==\"smart\"')['message'],label='smart')\n",
    "ax = sns.distplot(pivot.query('tariff==\"ultra\"')['message'],label='ultra')\n",
    "plt.legend()\n",
    "plt.ylabel(\"Оценка плотности ядра\")\n",
    "plt.xlabel(\"Количество смс, шт.\")\n",
    "\n",
    "plt.title(\"График с оценкой плотности ядра и гистограммой с размером ячейки по количеству использованных смс, шт.\")\n",
    "\n",
    "\n"
   ]
  },
  {
   "cell_type": "code",
   "execution_count": 53,
   "metadata": {},
   "outputs": [
    {
     "data": {
      "text/plain": [
       "Text(0.5, 1.0, 'Нормальное распределение с помощью гистограммы и распределения по Гауссу с максимальной вероятностью по количеству использованных смс, шт.')"
      ]
     },
     "execution_count": 53,
     "metadata": {},
     "output_type": "execute_result"
    },
    {
     "data": {
      "image/png": "[encoded data removed]",
      "text/plain": [
       "<Figure size 432x288 with 1 Axes>"
      ]
     },
     "metadata": {
      "needs_background": "light"
     },
     "output_type": "display_data"
    }
   ],
   "source": [
    "ax = sns.distplot(pivot.query('tariff==\"smart\"')['message'], fit=norm, kde=False,label='smart')\n",
    "bx = sns.distplot(pivot.query('tariff==\"ultra\"')['message'], fit=norm, kde=False,label='ultra')\n",
    "plt.legend()\n",
    "plt.ylabel(\"Оценка плотности ядра\")\n",
    "plt.xlabel(\"Количество смс, мин.\")\n",
    "plt.title(\"Нормальное распределение с помощью гистограммы и распределения по Гауссу с максимальной вероятностью по количеству использованных смс, шт.\")\n"
   ]
  },
  {
   "cell_type": "code",
   "execution_count": 54,
   "metadata": {},
   "outputs": [
    {
     "data": {
      "text/plain": [
       "Text(0.5, 1.0, 'Количество израсходованных смс по тарифу Smart, шт.')"
      ]
     },
     "execution_count": 54,
     "metadata": {},
     "output_type": "execute_result"
    },
    {
     "data": {
      "image/png": "[encoded data removed]",
      "text/plain": [
       "<Figure size 360x360 with 1 Axes>"
      ]
     },
     "metadata": {
      "needs_background": "light"
     },
     "output_type": "display_data"
    }
   ],
   "source": [
    "pivot.query('tariff==\"smart\"').boxplot(column='message',figsize=(5,5))\n",
    "plt.ylim(0, 60)\n",
    "plt.title(\"Количество израсходованных смс по тарифу Smart, шт.\")"
   ]
  },
  {
   "cell_type": "code",
   "execution_count": 55,
   "metadata": {},
   "outputs": [
    {
     "data": {
      "text/plain": [
       "Text(0.5, 1.0, 'Количество израсходованных смс по тарифу Ultra, шт.')"
      ]
     },
     "execution_count": 55,
     "metadata": {},
     "output_type": "execute_result"
    },
    {
     "data": {
      "image/png": "[encoded data removed]",
      "text/plain": [
       "<Figure size 360x360 with 1 Axes>"
      ]
     },
     "metadata": {
      "needs_background": "light"
     },
     "output_type": "display_data"
    }
   ],
   "source": [
    "pivot.query('tariff==\"ultra\"').boxplot(column='message',figsize=(5,5))\n",
    "plt.ylim(0, 100)\n",
    "plt.title(\"Количество израсходованных смс по тарифу Ultra, шт.\")"
   ]
  },
  {
   "cell_type": "markdown",
   "metadata": {},
   "source": [
    "Исходя из гистрограммы по количеству израсходованных смс мы наблюдаем распределение скошенное влево.\n",
    "Это связано с тем,что отправка смс не сильно распространена. Практически все пользователи укладываются в рамках пакета.\n"
   ]
  },
  {
   "cell_type": "code",
   "execution_count": 56,
   "metadata": {},
   "outputs": [
    {
     "data": {
      "text/plain": [
       "Text(0.5, 0, 'Выручка, руб.')"
      ]
     },
     "execution_count": 56,
     "metadata": {},
     "output_type": "execute_result"
    },
    {
     "data": {
      "image/png": "[encoded data removed]",
      "text/plain": [
       "<Figure size 432x288 with 1 Axes>"
      ]
     },
     "metadata": {
      "needs_background": "light"
     },
     "output_type": "display_data"
    }
   ],
   "source": [
    "bx = sns.distplot(pivot.query('tariff==\"smart\"')['revenue'], label='smart')\n",
    "ax = sns.distplot(pivot.query('tariff==\"ultra\"')['revenue'],label='ultra')\n",
    "plt.legend()\n",
    "plt.title(\"График с оценкой плотности ядра и гистограммой с размером ячейки по выручке, руб.\")\n",
    "plt.ylabel(\"Оценка плотности ядра\")\n",
    "plt.xlabel(\"Выручка, руб.\")\n"
   ]
  },
  {
   "cell_type": "code",
   "execution_count": 57,
   "metadata": {},
   "outputs": [
    {
     "data": {
      "text/plain": [
       "Text(0.5, 0, 'Выручка, руб.')"
      ]
     },
     "execution_count": 57,
     "metadata": {},
     "output_type": "execute_result"
    },
    {
     "data": {
      "image/png": "[encoded data removed]",
      "text/plain": [
       "<Figure size 432x288 with 1 Axes>"
      ]
     },
     "metadata": {
      "needs_background": "light"
     },
     "output_type": "display_data"
    }
   ],
   "source": [
    "ax = sns.distplot(pivot.query('tariff==\"smart\"')['revenue'], fit=norm, kde=False,label='smart')\n",
    "bx = sns.distplot(pivot.query('tariff==\"ultra\"')['revenue'], fit=norm, kde=False,label='ultra')\n",
    "plt.legend()\n",
    "plt.title(\"Нормальное распределение с помощью гистограммы и распределения по Гауссу с максимальной вероятностью по выручке, руб.\")\n",
    "plt.ylabel(\"Оценка плотности ядра\")\n",
    "plt.xlabel(\"Выручка, руб.\")"
   ]
  },
  {
   "cell_type": "code",
   "execution_count": 58,
   "metadata": {},
   "outputs": [
    {
     "data": {
      "text/plain": [
       "Text(0.5, 1.0, 'Выручка по тарифу Smart, руб.')"
      ]
     },
     "execution_count": 58,
     "metadata": {},
     "output_type": "execute_result"
    },
    {
     "data": {
      "image/png": "[encoded data removed]",
      "text/plain": [
       "<Figure size 360x360 with 1 Axes>"
      ]
     },
     "metadata": {
      "needs_background": "light"
     },
     "output_type": "display_data"
    }
   ],
   "source": [
    "pivot.query('tariff==\"smart\"').boxplot(column='revenue',figsize=(5,5))\n",
    "plt.ylim(0, 3000)\n",
    "plt.title(\"Выручка по тарифу Smart, руб.\")"
   ]
  },
  {
   "cell_type": "code",
   "execution_count": 59,
   "metadata": {},
   "outputs": [
    {
     "data": {
      "text/plain": [
       "Text(0.5, 1.0, 'Выручка по тарифу Ultra, руб.')"
      ]
     },
     "execution_count": 59,
     "metadata": {},
     "output_type": "execute_result"
    },
    {
     "data": {
      "image/png": "[encoded data removed]",
      "text/plain": [
       "<Figure size 360x360 with 1 Axes>"
      ]
     },
     "metadata": {
      "needs_background": "light"
     },
     "output_type": "display_data"
    }
   ],
   "source": [
    "pivot.query('tariff==\"ultra\"').boxplot(column='revenue',figsize=(5,5))\n",
    "plt.ylim(0, 4000)\n",
    "plt.title(\"Выручка по тарифу Ultra, руб.\")"
   ]
  },
  {
   "cell_type": "markdown",
   "metadata": {},
   "source": [
    "График выручки по тарифу Smart скошен влево, так как основная часть пользователей укладывается в имеющейся пакет, несмотря на это медиана зафиксирована на 1,021 руб. это вызвано перерасходом по пакету остальных пользователей этого тарифа.\n",
    "По тарифу ультра мы наблюдаем четко устоявшуюся выручку, значение медианы 1,950.00, исходя из этого можно сделать вывод что большая часть пользователей тарифа Ultra укладывается в пакет услуг."
   ]
  },
  {
   "cell_type": "markdown",
   "metadata": {},
   "source": [
    "Выполним анализ выручки по каждому тарифу."
   ]
  },
  {
   "cell_type": "code",
   "execution_count": 60,
   "metadata": {},
   "outputs": [
    {
     "data": {
      "text/plain": [
       "Text(0.5, 0, 'Месяц')"
      ]
     },
     "execution_count": 60,
     "metadata": {},
     "output_type": "execute_result"
    },
    {
     "data": {
      "image/png": "[encoded data removed]",
      "text/plain": [
       "<Figure size 432x288 with 1 Axes>"
      ]
     },
     "metadata": {
      "needs_background": "light"
     },
     "output_type": "display_data"
    }
   ],
   "source": [
    "#sns.set_theme(style=\"whitegrid\")\n",
    "ax = sns.barplot(x=\"month\", y=\"revenue\", data=pivot.query('tariff==\"smart\"'))\n",
    "plt.title(\"Выручка по тарифу Smart по месяцам, руб.\")\n",
    "plt.ylabel(\"Выручка, руб.\")\n",
    "plt.xlabel(\"Месяц\")"
   ]
  },
  {
   "cell_type": "code",
   "execution_count": 61,
   "metadata": {},
   "outputs": [
    {
     "data": {
      "text/plain": [
       "Text(0.5, 0, 'Месяц')"
      ]
     },
     "execution_count": 61,
     "metadata": {},
     "output_type": "execute_result"
    },
    {
     "data": {
      "image/png": "[encoded data removed]",
      "text/plain": [
       "<Figure size 432x288 with 1 Axes>"
      ]
     },
     "metadata": {
      "needs_background": "light"
     },
     "output_type": "display_data"
    }
   ],
   "source": [
    "#sns.set_theme(style=\"whitegrid\")\n",
    "ax = sns.barplot(x=\"month\", y=\"revenue\", data=pivot.query('tariff==\"ultra\"'))\n",
    "plt.title(\"Выручка по тарифу Ultra по месяцам, руб.\")\n",
    "plt.ylabel(\"Выручка, руб.\")\n",
    "plt.xlabel(\"Месяц\")"
   ]
  },
  {
   "cell_type": "markdown",
   "metadata": {},
   "source": [
    "Если по тарифу Ultra мы можем наблюдать примерно стабильное распределения выручки, то по тарифу Smart выручка увеличивается к концу года. Это может быть вызвано увеличеним количества пользователей превышающих расходы по стандартному пакету услуг или увеличением расходов."
   ]
  },
  {
   "cell_type": "markdown",
   "metadata": {},
   "source": [
    "Проверим гипотезу о том,что значения средней выручки пользователей тарифов «Ультра» и «Смарт» равны между собой.\n",
    "Альтернативная гипотеза звучить так: \"Средние значения выручки пользователей тарифов \"Ультра\" и \"Смарт\" не равны между собой.\" "
   ]
  },
  {
   "cell_type": "code",
   "execution_count": 62,
   "metadata": {},
   "outputs": [
    {
     "name": "stdout",
     "output_type": "stream",
     "text": [
      "p-значение:  1.927011394420941e-250\n",
      "Отвергаем нулевую гипотезу\n"
     ]
    }
   ],
   "source": [
    "results = st.ttest_ind( pivot.query('tariff==\"ultra\"')['revenue'],\n",
    "pivot.query('tariff==\"smart\"')['revenue'],equal_var=False)\n",
    "alpha=0.05\n",
    "print('p-значение: ', results.pvalue)\n",
    "if results.pvalue < alpha:\n",
    "    print(\"Отвергаем нулевую гипотезу\")\n",
    "else:\n",
    "    print(\"Не получилось отвергнуть нулевую гипотезу\") "
   ]
  },
  {
   "cell_type": "markdown",
   "metadata": {},
   "source": [
    "Гипотеза о том,что значения средней выручки пользователей тарифа «Ультра» и «Смарт» равны между собой отвергнута. Следовательно можно предположить,что средние значения выручки пользователей тарифа «Ультра» и «Смарт» равны между собой.\n"
   ]
  },
  {
   "cell_type": "markdown",
   "metadata": {},
   "source": [
    "Выполним проверку гипотезы о том,что средняя выручка пользователей из Москвы равна средней выручке пользователей из других регионов.\n",
    "Альтернативная гипотеза звучит так: \"Средняя выручка пользователей из Москвы не равна средней выручке пользователей из других регионов\"\n",
    "Перед проверкой гипотезы проверим есть ли разница дисперсий 2 выборок."
   ]
  },
  {
   "cell_type": "code",
   "execution_count": 63,
   "metadata": {},
   "outputs": [
    {
     "data": {
      "text/html": [
       "<div>\n",
       "<style scoped>\n",
       "    .dataframe tbody tr th:only-of-type {\n",
       "        vertical-align: middle;\n",
       "    }\n",
       "\n",
       "    .dataframe tbody tr th {\n",
       "        vertical-align: top;\n",
       "    }\n",
       "\n",
       "    .dataframe thead tr th {\n",
       "        text-align: left;\n",
       "    }\n",
       "\n",
       "    .dataframe thead tr:last-of-type th {\n",
       "        text-align: right;\n",
       "    }\n",
       "</style>\n",
       "<table border=\"1\" class=\"dataframe\">\n",
       "  <thead>\n",
       "    <tr>\n",
       "      <th></th>\n",
       "      <th>mean</th>\n",
       "      <th>var</th>\n",
       "      <th>std</th>\n",
       "      <th>median</th>\n",
       "    </tr>\n",
       "    <tr>\n",
       "      <th></th>\n",
       "      <th>revenue</th>\n",
       "      <th>revenue</th>\n",
       "      <th>revenue</th>\n",
       "      <th>revenue</th>\n",
       "    </tr>\n",
       "    <tr>\n",
       "      <th>city</th>\n",
       "      <th></th>\n",
       "      <th></th>\n",
       "      <th></th>\n",
       "      <th></th>\n",
       "    </tr>\n",
       "  </thead>\n",
       "  <tbody>\n",
       "    <tr>\n",
       "      <td>Москва</td>\n",
       "      <td>1,546.71</td>\n",
       "      <td>565,636.47</td>\n",
       "      <td>752.09</td>\n",
       "      <td>1,750.00</td>\n",
       "    </tr>\n",
       "  </tbody>\n",
       "</table>\n",
       "</div>"
      ],
      "text/plain": [
       "           mean        var     std   median\n",
       "        revenue    revenue revenue  revenue\n",
       "city                                       \n",
       "Москва 1,546.71 565,636.47  752.09 1,750.00"
      ]
     },
     "execution_count": 63,
     "metadata": {},
     "output_type": "execute_result"
    }
   ],
   "source": [
    "pivot.query('city==\"Москва\"').pivot_table(index='city',values='revenue',aggfunc=['mean','var','std','median'])\n"
   ]
  },
  {
   "cell_type": "code",
   "execution_count": 64,
   "metadata": {},
   "outputs": [
    {
     "data": {
      "text/plain": [
       "1524.7251439539348"
      ]
     },
     "execution_count": 64,
     "metadata": {},
     "output_type": "execute_result"
    }
   ],
   "source": [
    "pivot.query('city!=\"Москва\"')['revenue'].var()\n",
    "pivot.query('city!=\"Москва\"')['revenue'].mean()"
   ]
  },
  {
   "cell_type": "code",
   "execution_count": 65,
   "metadata": {},
   "outputs": [
    {
     "name": "stdout",
     "output_type": "stream",
     "text": [
      "p-значение:  0.5216952110000278\n",
      "Не получилось отвергнуть нулевую гипотезу\n"
     ]
    }
   ],
   "source": [
    "results = st.ttest_ind( pivot.query('city==\"Москва\"')['revenue'],\n",
    "pivot.query('city!=\"Москва\"')['revenue'],equal_var=False)\n",
    "alpha=0.05\n",
    "print('p-значение: ', results.pvalue)\n",
    "if results.pvalue < alpha:\n",
    "    print(\"Отвергаем нулевую гипотезу\")\n",
    "else:\n",
    "    print(\"Не получилось отвергнуть нулевую гипотезу\") "
   ]
  },
  {
   "cell_type": "markdown",
   "metadata": {},
   "source": [
    "Гипотеза о том,что среднее значение выручки жителей Москвы и других регионов равна не была отвергнута."
   ]
  },
  {
   "cell_type": "markdown",
   "metadata": {},
   "source": [
    "**Вывод**\n",
    "\n",
    "`В рамках исследования были изучены показатели:`\n",
    "\n",
    "- количество сделанных звонков и израсходованных минут разговора по месяцам;\n",
    "- количество отправленных сообщений по месяцам;\n",
    "- объем израсходованного интернет-трафика по месяцам;\n",
    "- помесячную выручку с каждого пользователя.\n",
    "\n",
    "Среднее значение для пользователя тарифа смарт:\n",
    "- `количество минут` 417.75;\n",
    "- `использовано трафика` 16.32;\n",
    "- `количество использованных смс` 33.37;\n",
    "- `выручка` 1289.64.\n",
    "\n",
    "Среднее значение для пользователя тарифа ультра:\n",
    "- `количество минут` 526.09;\n",
    "- `использовано трафика` 19.47;\n",
    "- `количество использованных смс` 49.31;\n",
    "- `выручка` 2070,03.\n",
    "\n",
    "Помесячная выручка по пользователям по тарифу Ultra находится на уровне 2000 руб.\n",
    "Помесячная выручка по пользователям по тарифу Smart в начале года находится на уровне 700 руб. и увеличивается к концу года до уровня 1600 руб.\n",
    "\n",
    "Гипотеза о том что средняя выручка по тарифам Smart Ultra различается не была отвергнута (вероятность 1.-250)\n",
    "Гипотеза о том,что средняя выручка жителей Москвы и других городов различается была отвергнута с вероятностью равной 0.5216952110000278."
   ]
  },
  {
   "cell_type": "markdown",
   "metadata": {},
   "source": [
    "## Общий вывод\n",
    "<a id=\"conclusion_id\"></a>"
   ]
  },
  {
   "cell_type": "markdown",
   "metadata": {},
   "source": [
    "В результате исследования было изучено поведение пользователей 2 тарифов Компании \"Мегалайн\".\n",
    "\n",
    "Пользователи тарифа **Smart** по количеству звонков в большинстве случев укладываются в пакет минут в рамках тарифа (500 минут),часть пользователей превышает данный лимит проговаривая до 545 минут. По количеству использованного трафика основная часть пользователей превышает лимит в 15 гб и тратит около 17 гб, также около четверти пользователей превышает лимит до 20 гб.\n",
    "Несмотря на то,что большая часть пользователей укладывается в рамках тарифа и выручка по большей части пользователей зафиксирована на уровне 500 руб., средняя выручка составила 1289,64 руб. Выручка по пользователям,которые не укладываются в рамках пакета сильно влияет на значение средней выручки.\n",
    "Помесячное распределение средней выручки имеет явное повышение с начала года к декабрю, в январе зафиксирована на уровне 700 руб.,к декабрю она достигает уровня в 1600 руб. Это может быть связано с увеличением количества пользователей,которые не укладываются в рамках пакета или увеличением расходов.\n",
    "\n",
    "Пользователи тарифа **Ultra** в основном укладываются в рамках зафиксированных пакетов услуг, о чем и свидетельствует небольшое отклонение средней выручки всего на 120 руб., значение медианы по выручке в 1950 руб. свидетельствует о том,что большая часть пользователей все же укладывается в тариф.\n",
    "Помесячное распределение выручки по месяца не имеет явных отклоненеий и зафикирована на средней выручке в размере 2000 руб.\n",
    "\n",
    "Для Компании \"Мегалайн\" **выгоднее продвигать продажи по тарифу Ultra**, так как средняя выручка по данному тарифу значительно выше,чем по тарифу Smart на **780 руб.**\n",
    "\n",
    "В рамках исседования были выполнены проверки 2 гипотез:\n",
    "- `Гипотеза о том,что средняя выручка пользователей тарифов «Ультра» и «Смарт» различается.`\n",
    "При проверке двух генеральных совокупностей гипотеза о различии средней выручки не была отвергнута, следовательно можно предположить,что средняя выручка данных тарифов различна.\n",
    "-`Гипотеза о разности среднего значения выручки жителей Москвы и других городов.`\n",
    "При проверке двух генеральных совокупностей гипотеза о различии средней выручки пользователей в городе Москве и в других городах отвергнута, так как вероятность их равенства равна 0.5216952110000278. Следовательно можно сделать вывод,что уровень расходов пользователей на услуги связи не имеет существенного значения. \n"
   ]
  }
 ],
 "metadata": {
  "ExecuteTimeLog": [
   {
    "duration": 1790,
    "start_time": "2022-01-09T09:12:46.541Z"
   },
   {
    "duration": 517,
    "start_time": "2022-01-09T09:16:24.114Z"
   },
   {
    "duration": 593,
    "start_time": "2022-01-09T10:53:03.574Z"
   },
   {
    "duration": 602,
    "start_time": "2022-01-09T10:53:33.358Z"
   },
   {
    "duration": 529,
    "start_time": "2022-01-09T10:54:47.964Z"
   },
   {
    "duration": 4,
    "start_time": "2022-01-09T10:59:34.855Z"
   },
   {
    "duration": 172,
    "start_time": "2022-01-09T10:59:56.434Z"
   },
   {
    "duration": 4,
    "start_time": "2022-01-09T11:00:31.968Z"
   },
   {
    "duration": 6,
    "start_time": "2022-01-09T11:00:39.285Z"
   },
   {
    "duration": 5,
    "start_time": "2022-01-09T11:01:08.888Z"
   },
   {
    "duration": 199,
    "start_time": "2022-01-09T11:01:14.960Z"
   },
   {
    "duration": 4,
    "start_time": "2022-01-09T11:01:42.501Z"
   },
   {
    "duration": 208,
    "start_time": "2022-01-09T11:02:51.942Z"
   },
   {
    "duration": 5,
    "start_time": "2022-01-09T11:04:36.930Z"
   },
   {
    "duration": 204,
    "start_time": "2022-01-09T11:04:40.438Z"
   },
   {
    "duration": 4,
    "start_time": "2022-01-09T11:04:55.211Z"
   },
   {
    "duration": 244,
    "start_time": "2022-01-09T11:04:58.522Z"
   },
   {
    "duration": 4,
    "start_time": "2022-01-09T11:05:28.578Z"
   },
   {
    "duration": 237,
    "start_time": "2022-01-09T11:05:36.514Z"
   },
   {
    "duration": 182,
    "start_time": "2022-01-09T11:09:19.575Z"
   },
   {
    "duration": 50,
    "start_time": "2022-01-09T11:19:18.184Z"
   },
   {
    "duration": 691,
    "start_time": "2022-01-09T11:24:53.880Z"
   },
   {
    "duration": 42,
    "start_time": "2022-01-09T11:25:02.259Z"
   },
   {
    "duration": 40,
    "start_time": "2022-01-09T11:25:16.748Z"
   },
   {
    "duration": 425,
    "start_time": "2022-01-09T11:29:45.025Z"
   },
   {
    "duration": 109,
    "start_time": "2022-01-09T11:29:51.897Z"
   },
   {
    "duration": 54,
    "start_time": "2022-01-09T11:33:00.868Z"
   },
   {
    "duration": 188,
    "start_time": "2022-01-09T15:55:24.882Z"
   },
   {
    "duration": 349,
    "start_time": "2022-01-09T16:02:02.422Z"
   },
   {
    "duration": 36,
    "start_time": "2022-01-09T16:02:19.139Z"
   },
   {
    "duration": 99,
    "start_time": "2022-01-09T16:04:55.766Z"
   },
   {
    "duration": 8,
    "start_time": "2022-01-09T16:05:13.134Z"
   },
   {
    "duration": 471,
    "start_time": "2022-01-09T16:07:29.912Z"
   },
   {
    "duration": 430,
    "start_time": "2022-01-09T16:08:03.691Z"
   },
   {
    "duration": 5,
    "start_time": "2022-01-09T16:09:04.559Z"
   },
   {
    "duration": 42,
    "start_time": "2022-01-09T16:09:06.489Z"
   },
   {
    "duration": 1723,
    "start_time": "2022-01-09T16:09:19.368Z"
   },
   {
    "duration": 536,
    "start_time": "2022-01-09T16:09:21.094Z"
   },
   {
    "duration": 6,
    "start_time": "2022-01-09T16:09:21.634Z"
   },
   {
    "duration": 65,
    "start_time": "2022-01-09T16:09:21.643Z"
   },
   {
    "duration": 612,
    "start_time": "2022-01-09T16:09:21.711Z"
   },
   {
    "duration": 420,
    "start_time": "2022-01-09T16:09:22.326Z"
   },
   {
    "duration": 307,
    "start_time": "2022-01-09T16:09:22.749Z"
   },
   {
    "duration": 75,
    "start_time": "2022-01-09T16:09:23.059Z"
   },
   {
    "duration": 106,
    "start_time": "2022-01-09T16:09:23.139Z"
   },
   {
    "duration": 6,
    "start_time": "2022-01-09T16:09:23.247Z"
   },
   {
    "duration": 485,
    "start_time": "2022-01-09T16:09:23.255Z"
   },
   {
    "duration": 208,
    "start_time": "2022-01-09T16:23:47.285Z"
   },
   {
    "duration": 304,
    "start_time": "2022-01-09T16:24:51.671Z"
   },
   {
    "duration": 208,
    "start_time": "2022-01-09T16:25:21.468Z"
   },
   {
    "duration": 212,
    "start_time": "2022-01-09T16:25:41.031Z"
   },
   {
    "duration": 211,
    "start_time": "2022-01-09T16:26:02.176Z"
   },
   {
    "duration": 211,
    "start_time": "2022-01-09T16:26:37.961Z"
   },
   {
    "duration": 230,
    "start_time": "2022-01-09T16:27:27.352Z"
   },
   {
    "duration": 694,
    "start_time": "2022-01-09T16:28:01.297Z"
   },
   {
    "duration": 90,
    "start_time": "2022-01-09T16:28:31.750Z"
   },
   {
    "duration": 602,
    "start_time": "2022-01-09T16:28:39.663Z"
   },
   {
    "duration": 491,
    "start_time": "2022-01-09T16:29:07.451Z"
   },
   {
    "duration": 496,
    "start_time": "2022-01-09T16:29:24.384Z"
   },
   {
    "duration": 562,
    "start_time": "2022-01-09T16:29:43.461Z"
   },
   {
    "duration": 647,
    "start_time": "2022-01-09T16:30:39.993Z"
   },
   {
    "duration": 516,
    "start_time": "2022-01-09T16:30:53.072Z"
   },
   {
    "duration": 606,
    "start_time": "2022-01-09T16:31:43.355Z"
   },
   {
    "duration": 112,
    "start_time": "2022-01-09T16:31:46.962Z"
   },
   {
    "duration": 471,
    "start_time": "2022-01-09T16:31:50.600Z"
   },
   {
    "duration": 345,
    "start_time": "2022-01-09T16:32:09.396Z"
   },
   {
    "duration": 327,
    "start_time": "2022-01-09T16:32:44.769Z"
   },
   {
    "duration": 214,
    "start_time": "2022-01-09T16:33:15.305Z"
   },
   {
    "duration": 206,
    "start_time": "2022-01-09T16:33:24.916Z"
   },
   {
    "duration": 332,
    "start_time": "2022-01-09T16:33:32.279Z"
   },
   {
    "duration": 235,
    "start_time": "2022-01-09T16:33:51.566Z"
   },
   {
    "duration": 206,
    "start_time": "2022-01-09T16:34:09.559Z"
   },
   {
    "duration": 223,
    "start_time": "2022-01-09T16:34:37.418Z"
   },
   {
    "duration": 566,
    "start_time": "2022-01-09T16:36:40.136Z"
   },
   {
    "duration": 474,
    "start_time": "2022-01-09T16:37:07.608Z"
   },
   {
    "duration": 212,
    "start_time": "2022-01-09T16:37:20.682Z"
   },
   {
    "duration": 321,
    "start_time": "2022-01-09T16:37:36.536Z"
   },
   {
    "duration": 247,
    "start_time": "2022-01-09T16:38:07.927Z"
   },
   {
    "duration": 212,
    "start_time": "2022-01-09T16:40:12.626Z"
   },
   {
    "duration": 321,
    "start_time": "2022-01-09T16:40:27.836Z"
   },
   {
    "duration": 221,
    "start_time": "2022-01-09T16:40:34.104Z"
   },
   {
    "duration": 519,
    "start_time": "2022-01-09T16:44:06.863Z"
   },
   {
    "duration": 230,
    "start_time": "2022-01-09T16:44:39.800Z"
   },
   {
    "duration": 220,
    "start_time": "2022-01-09T16:47:37.066Z"
   },
   {
    "duration": 14,
    "start_time": "2022-01-09T16:47:58.949Z"
   },
   {
    "duration": 2209,
    "start_time": "2022-01-10T17:45:24.465Z"
   },
   {
    "duration": 766,
    "start_time": "2022-01-10T17:45:26.678Z"
   },
   {
    "duration": 5,
    "start_time": "2022-01-10T17:45:27.448Z"
   },
   {
    "duration": 371,
    "start_time": "2022-01-10T17:45:27.456Z"
   },
   {
    "duration": 932,
    "start_time": "2022-01-10T17:45:27.830Z"
   },
   {
    "duration": 424,
    "start_time": "2022-01-10T17:45:28.764Z"
   },
   {
    "duration": 439,
    "start_time": "2022-01-10T17:45:29.190Z"
   },
   {
    "duration": 89,
    "start_time": "2022-01-10T17:45:29.632Z"
   },
   {
    "duration": 258,
    "start_time": "2022-01-10T17:45:29.725Z"
   },
   {
    "duration": 107,
    "start_time": "2022-01-10T17:45:29.986Z"
   },
   {
    "duration": 741,
    "start_time": "2022-01-10T17:45:30.096Z"
   },
   {
    "duration": 29,
    "start_time": "2022-01-10T17:45:30.840Z"
   },
   {
    "duration": 1313,
    "start_time": "2022-01-11T05:41:00.268Z"
   },
   {
    "duration": 399,
    "start_time": "2022-01-11T05:41:01.583Z"
   },
   {
    "duration": 3,
    "start_time": "2022-01-11T05:41:01.984Z"
   },
   {
    "duration": 38,
    "start_time": "2022-01-11T05:41:01.989Z"
   },
   {
    "duration": 335,
    "start_time": "2022-01-11T05:41:02.029Z"
   },
   {
    "duration": 242,
    "start_time": "2022-01-11T05:41:02.366Z"
   },
   {
    "duration": 189,
    "start_time": "2022-01-11T05:41:02.610Z"
   },
   {
    "duration": 34,
    "start_time": "2022-01-11T05:41:02.801Z"
   },
   {
    "duration": 85,
    "start_time": "2022-01-11T05:41:02.837Z"
   },
   {
    "duration": 4,
    "start_time": "2022-01-11T05:41:02.924Z"
   },
   {
    "duration": 285,
    "start_time": "2022-01-11T05:41:02.929Z"
   },
   {
    "duration": 10,
    "start_time": "2022-01-11T05:41:03.215Z"
   },
   {
    "duration": 134,
    "start_time": "2022-01-11T05:43:31.626Z"
   },
   {
    "duration": 219,
    "start_time": "2022-01-11T05:43:45.826Z"
   },
   {
    "duration": 132,
    "start_time": "2022-01-11T05:44:14.234Z"
   },
   {
    "duration": 160,
    "start_time": "2022-01-11T05:45:52.308Z"
   },
   {
    "duration": 146,
    "start_time": "2022-01-11T05:50:27.047Z"
   },
   {
    "duration": 214,
    "start_time": "2022-01-11T05:50:37.482Z"
   },
   {
    "duration": 143,
    "start_time": "2022-01-11T05:51:54.512Z"
   },
   {
    "duration": 145,
    "start_time": "2022-01-11T05:52:06.277Z"
   },
   {
    "duration": 362,
    "start_time": "2022-01-11T06:03:01.656Z"
   },
   {
    "duration": 4,
    "start_time": "2022-01-11T06:03:07.241Z"
   },
   {
    "duration": 33,
    "start_time": "2022-01-11T06:03:09.961Z"
   },
   {
    "duration": 4,
    "start_time": "2022-01-11T16:18:55.955Z"
   },
   {
    "duration": 285,
    "start_time": "2022-01-11T16:19:11.421Z"
   },
   {
    "duration": 215,
    "start_time": "2022-01-11T16:19:48.435Z"
   },
   {
    "duration": 225,
    "start_time": "2022-01-11T16:22:24.368Z"
   },
   {
    "duration": 214,
    "start_time": "2022-01-11T16:24:12.366Z"
   },
   {
    "duration": 4,
    "start_time": "2022-01-11T16:25:07.316Z"
   },
   {
    "duration": 5,
    "start_time": "2022-01-11T16:25:16.218Z"
   },
   {
    "duration": 7,
    "start_time": "2022-01-11T16:26:16.240Z"
   },
   {
    "duration": 6,
    "start_time": "2022-01-11T16:27:06.037Z"
   },
   {
    "duration": 476,
    "start_time": "2022-01-11T16:33:14.660Z"
   },
   {
    "duration": 12,
    "start_time": "2022-01-11T16:33:35.008Z"
   },
   {
    "duration": 10,
    "start_time": "2022-01-11T16:35:38.210Z"
   },
   {
    "duration": 5571,
    "start_time": "2022-01-11T16:36:57.785Z"
   },
   {
    "duration": 21,
    "start_time": "2022-01-11T16:37:11.802Z"
   },
   {
    "duration": 12,
    "start_time": "2022-01-11T16:37:26.882Z"
   },
   {
    "duration": 11,
    "start_time": "2022-01-11T16:37:34.993Z"
   },
   {
    "duration": 11,
    "start_time": "2022-01-11T16:37:45.922Z"
   },
   {
    "duration": 23,
    "start_time": "2022-01-11T16:43:56.254Z"
   },
   {
    "duration": 52,
    "start_time": "2022-01-11T16:46:37.157Z"
   },
   {
    "duration": 58,
    "start_time": "2022-01-11T16:46:48.279Z"
   },
   {
    "duration": 52,
    "start_time": "2022-01-11T16:47:51.610Z"
   },
   {
    "duration": 3,
    "start_time": "2022-01-11T16:49:10.165Z"
   },
   {
    "duration": 213,
    "start_time": "2022-01-11T16:49:17.245Z"
   },
   {
    "duration": 208,
    "start_time": "2022-01-11T16:49:28.510Z"
   },
   {
    "duration": 221,
    "start_time": "2022-01-11T16:50:18.501Z"
   },
   {
    "duration": 75,
    "start_time": "2022-01-11T16:50:30.082Z"
   },
   {
    "duration": 242,
    "start_time": "2022-01-11T16:50:33.322Z"
   },
   {
    "duration": 233,
    "start_time": "2022-01-11T16:51:07.208Z"
   },
   {
    "duration": 4,
    "start_time": "2022-01-11T16:51:43.275Z"
   },
   {
    "duration": 1370,
    "start_time": "2022-01-11T16:52:05.349Z"
   },
   {
    "duration": 408,
    "start_time": "2022-01-11T16:52:06.721Z"
   },
   {
    "duration": 3,
    "start_time": "2022-01-11T16:52:07.131Z"
   },
   {
    "duration": 35,
    "start_time": "2022-01-11T16:52:07.136Z"
   },
   {
    "duration": 349,
    "start_time": "2022-01-11T16:52:07.172Z"
   },
   {
    "duration": 349,
    "start_time": "2022-01-11T16:52:07.523Z"
   },
   {
    "duration": 189,
    "start_time": "2022-01-11T16:52:07.874Z"
   },
   {
    "duration": 35,
    "start_time": "2022-01-11T16:52:08.066Z"
   },
   {
    "duration": 83,
    "start_time": "2022-01-11T16:52:08.103Z"
   },
   {
    "duration": 4,
    "start_time": "2022-01-11T16:52:08.188Z"
   },
   {
    "duration": 294,
    "start_time": "2022-01-11T16:52:08.193Z"
   },
   {
    "duration": 4,
    "start_time": "2022-01-11T16:52:08.490Z"
   },
   {
    "duration": 20,
    "start_time": "2022-01-11T16:52:08.496Z"
   },
   {
    "duration": 26,
    "start_time": "2022-01-11T16:52:08.518Z"
   },
   {
    "duration": 17,
    "start_time": "2022-01-11T16:52:08.546Z"
   },
   {
    "duration": 13,
    "start_time": "2022-01-11T16:52:08.564Z"
   },
   {
    "duration": 22,
    "start_time": "2022-01-11T16:52:08.578Z"
   },
   {
    "duration": 55,
    "start_time": "2022-01-11T16:52:08.602Z"
   },
   {
    "duration": 7,
    "start_time": "2022-01-11T16:52:08.659Z"
   },
   {
    "duration": 172,
    "start_time": "2022-01-11T16:52:08.668Z"
   },
   {
    "duration": 235,
    "start_time": "2022-01-11T16:52:08.841Z"
   },
   {
    "duration": 4,
    "start_time": "2022-01-11T16:52:09.078Z"
   },
   {
    "duration": 50,
    "start_time": "2022-01-11T16:52:09.085Z"
   },
   {
    "duration": 4,
    "start_time": "2022-01-11T16:52:42.314Z"
   },
   {
    "duration": 4,
    "start_time": "2022-01-11T16:52:51.047Z"
   },
   {
    "duration": 407,
    "start_time": "2022-01-11T16:52:52.877Z"
   },
   {
    "duration": 1282,
    "start_time": "2022-01-11T16:52:59.311Z"
   },
   {
    "duration": 399,
    "start_time": "2022-01-11T16:53:00.595Z"
   },
   {
    "duration": 3,
    "start_time": "2022-01-11T16:53:00.996Z"
   },
   {
    "duration": 60,
    "start_time": "2022-01-11T16:53:01.001Z"
   },
   {
    "duration": 341,
    "start_time": "2022-01-11T16:53:01.063Z"
   },
   {
    "duration": 260,
    "start_time": "2022-01-11T16:53:01.406Z"
   },
   {
    "duration": 203,
    "start_time": "2022-01-11T16:53:01.668Z"
   },
   {
    "duration": 38,
    "start_time": "2022-01-11T16:53:01.874Z"
   },
   {
    "duration": 94,
    "start_time": "2022-01-11T16:53:01.914Z"
   },
   {
    "duration": 4,
    "start_time": "2022-01-11T16:53:02.010Z"
   },
   {
    "duration": 315,
    "start_time": "2022-01-11T16:53:02.016Z"
   },
   {
    "duration": 5,
    "start_time": "2022-01-11T16:53:02.332Z"
   },
   {
    "duration": 28,
    "start_time": "2022-01-11T16:53:02.339Z"
   },
   {
    "duration": 11,
    "start_time": "2022-01-11T16:53:02.369Z"
   },
   {
    "duration": 10,
    "start_time": "2022-01-11T16:53:02.381Z"
   },
   {
    "duration": 9,
    "start_time": "2022-01-11T16:53:02.393Z"
   },
   {
    "duration": 8,
    "start_time": "2022-01-11T16:53:02.404Z"
   },
   {
    "duration": 83,
    "start_time": "2022-01-11T16:53:02.414Z"
   },
   {
    "duration": 7,
    "start_time": "2022-01-11T16:53:02.499Z"
   },
   {
    "duration": 172,
    "start_time": "2022-01-11T16:53:02.508Z"
   },
   {
    "duration": 232,
    "start_time": "2022-01-11T16:53:02.682Z"
   },
   {
    "duration": 4,
    "start_time": "2022-01-11T16:53:02.916Z"
   },
   {
    "duration": 44,
    "start_time": "2022-01-11T16:53:02.923Z"
   },
   {
    "duration": 3,
    "start_time": "2022-01-11T16:54:41.173Z"
   },
   {
    "duration": 318,
    "start_time": "2022-01-11T16:54:46.130Z"
   },
   {
    "duration": 1403,
    "start_time": "2022-01-11T16:55:47.657Z"
   },
   {
    "duration": 449,
    "start_time": "2022-01-11T16:55:49.062Z"
   },
   {
    "duration": 2,
    "start_time": "2022-01-11T16:55:49.513Z"
   },
   {
    "duration": 35,
    "start_time": "2022-01-11T16:55:49.517Z"
   },
   {
    "duration": 338,
    "start_time": "2022-01-11T16:55:49.553Z"
   },
   {
    "duration": 241,
    "start_time": "2022-01-11T16:55:49.893Z"
   },
   {
    "duration": 184,
    "start_time": "2022-01-11T16:55:50.136Z"
   },
   {
    "duration": 54,
    "start_time": "2022-01-11T16:55:50.322Z"
   },
   {
    "duration": 64,
    "start_time": "2022-01-11T16:55:50.379Z"
   },
   {
    "duration": 17,
    "start_time": "2022-01-11T16:55:50.445Z"
   },
   {
    "duration": 307,
    "start_time": "2022-01-11T16:55:50.464Z"
   },
   {
    "duration": 5,
    "start_time": "2022-01-11T16:55:50.774Z"
   },
   {
    "duration": 48,
    "start_time": "2022-01-11T16:55:50.781Z"
   },
   {
    "duration": 15,
    "start_time": "2022-01-11T16:55:50.831Z"
   },
   {
    "duration": 11,
    "start_time": "2022-01-11T16:55:50.847Z"
   },
   {
    "duration": 10,
    "start_time": "2022-01-11T16:55:50.861Z"
   },
   {
    "duration": 10,
    "start_time": "2022-01-11T16:55:50.873Z"
   },
   {
    "duration": 50,
    "start_time": "2022-01-11T16:55:50.885Z"
   },
   {
    "duration": 31,
    "start_time": "2022-01-11T16:55:50.937Z"
   },
   {
    "duration": 171,
    "start_time": "2022-01-11T16:55:50.970Z"
   },
   {
    "duration": 234,
    "start_time": "2022-01-11T16:55:51.143Z"
   },
   {
    "duration": 4,
    "start_time": "2022-01-11T16:55:51.379Z"
   },
   {
    "duration": 54,
    "start_time": "2022-01-11T16:55:51.385Z"
   },
   {
    "duration": 636,
    "start_time": "2022-01-11T16:56:41.525Z"
   },
   {
    "duration": 425,
    "start_time": "2022-01-11T16:56:53.043Z"
   },
   {
    "duration": 219,
    "start_time": "2022-01-11T16:57:23.129Z"
   },
   {
    "duration": 4951,
    "start_time": "2022-01-11T16:57:40.765Z"
   },
   {
    "duration": 215,
    "start_time": "2022-01-11T16:58:12.431Z"
   },
   {
    "duration": 220,
    "start_time": "2022-01-11T16:58:18.218Z"
   },
   {
    "duration": 220,
    "start_time": "2022-01-11T16:58:31.745Z"
   },
   {
    "duration": 294,
    "start_time": "2022-01-11T16:59:02.952Z"
   },
   {
    "duration": 1273,
    "start_time": "2022-01-11T16:59:09.917Z"
   },
   {
    "duration": 400,
    "start_time": "2022-01-11T16:59:11.192Z"
   },
   {
    "duration": 3,
    "start_time": "2022-01-11T16:59:11.594Z"
   },
   {
    "duration": 41,
    "start_time": "2022-01-11T16:59:11.599Z"
   },
   {
    "duration": 348,
    "start_time": "2022-01-11T16:59:11.641Z"
   },
   {
    "duration": 241,
    "start_time": "2022-01-11T16:59:11.991Z"
   },
   {
    "duration": 180,
    "start_time": "2022-01-11T16:59:12.234Z"
   },
   {
    "duration": 51,
    "start_time": "2022-01-11T16:59:12.416Z"
   },
   {
    "duration": 64,
    "start_time": "2022-01-11T16:59:12.470Z"
   },
   {
    "duration": 4,
    "start_time": "2022-01-11T16:59:12.536Z"
   },
   {
    "duration": 293,
    "start_time": "2022-01-11T16:59:12.542Z"
   },
   {
    "duration": 5,
    "start_time": "2022-01-11T16:59:12.837Z"
   },
   {
    "duration": 46,
    "start_time": "2022-01-11T16:59:12.843Z"
   },
   {
    "duration": 27,
    "start_time": "2022-01-11T16:59:12.891Z"
   },
   {
    "duration": 29,
    "start_time": "2022-01-11T16:59:12.920Z"
   },
   {
    "duration": 9,
    "start_time": "2022-01-11T16:59:12.950Z"
   },
   {
    "duration": 14,
    "start_time": "2022-01-11T16:59:12.961Z"
   },
   {
    "duration": 77,
    "start_time": "2022-01-11T16:59:12.977Z"
   },
   {
    "duration": 23,
    "start_time": "2022-01-11T16:59:13.056Z"
   },
   {
    "duration": 164,
    "start_time": "2022-01-11T16:59:13.081Z"
   },
   {
    "duration": 244,
    "start_time": "2022-01-11T16:59:13.246Z"
   },
   {
    "duration": 4,
    "start_time": "2022-01-11T16:59:13.491Z"
   },
   {
    "duration": 45,
    "start_time": "2022-01-11T16:59:13.498Z"
   },
   {
    "duration": 31,
    "start_time": "2022-01-11T17:00:15.412Z"
   },
   {
    "duration": 32,
    "start_time": "2022-01-11T17:07:57.237Z"
   },
   {
    "duration": 4,
    "start_time": "2022-01-11T17:10:00.979Z"
   },
   {
    "duration": 4,
    "start_time": "2022-01-11T17:10:53.067Z"
   },
   {
    "duration": 251,
    "start_time": "2022-01-11T17:13:21.400Z"
   },
   {
    "duration": 1369,
    "start_time": "2022-01-11T17:13:38.728Z"
   },
   {
    "duration": 409,
    "start_time": "2022-01-11T17:13:40.100Z"
   },
   {
    "duration": 3,
    "start_time": "2022-01-11T17:13:40.511Z"
   },
   {
    "duration": 35,
    "start_time": "2022-01-11T17:13:40.516Z"
   },
   {
    "duration": 326,
    "start_time": "2022-01-11T17:13:40.553Z"
   },
   {
    "duration": 244,
    "start_time": "2022-01-11T17:13:40.881Z"
   },
   {
    "duration": 179,
    "start_time": "2022-01-11T17:13:41.127Z"
   },
   {
    "duration": 32,
    "start_time": "2022-01-11T17:13:41.308Z"
   },
   {
    "duration": 82,
    "start_time": "2022-01-11T17:13:41.342Z"
   },
   {
    "duration": 4,
    "start_time": "2022-01-11T17:13:41.427Z"
   },
   {
    "duration": 297,
    "start_time": "2022-01-11T17:13:41.433Z"
   },
   {
    "duration": 5,
    "start_time": "2022-01-11T17:13:41.732Z"
   },
   {
    "duration": 30,
    "start_time": "2022-01-11T17:13:41.738Z"
   },
   {
    "duration": 11,
    "start_time": "2022-01-11T17:13:41.770Z"
   },
   {
    "duration": 9,
    "start_time": "2022-01-11T17:13:41.783Z"
   },
   {
    "duration": 11,
    "start_time": "2022-01-11T17:13:41.794Z"
   },
   {
    "duration": 11,
    "start_time": "2022-01-11T17:13:41.808Z"
   },
   {
    "duration": 91,
    "start_time": "2022-01-11T17:13:41.821Z"
   },
   {
    "duration": 352,
    "start_time": "2022-01-11T17:13:41.914Z"
   },
   {
    "duration": 41,
    "start_time": "2022-01-11T17:13:42.227Z"
   },
   {
    "duration": 39,
    "start_time": "2022-01-11T17:13:42.230Z"
   },
   {
    "duration": 30,
    "start_time": "2022-01-11T17:13:42.240Z"
   },
   {
    "duration": 27,
    "start_time": "2022-01-11T17:13:42.244Z"
   },
   {
    "duration": 266,
    "start_time": "2022-01-11T17:18:00.032Z"
   },
   {
    "duration": 208,
    "start_time": "2022-01-11T17:19:20.586Z"
   },
   {
    "duration": 46,
    "start_time": "2022-01-11T17:19:27.011Z"
   },
   {
    "duration": 44,
    "start_time": "2022-01-11T17:22:56.228Z"
   },
   {
    "duration": 45,
    "start_time": "2022-01-11T17:23:20.182Z"
   },
   {
    "duration": 42,
    "start_time": "2022-01-11T17:26:38.079Z"
   },
   {
    "duration": 240,
    "start_time": "2022-01-11T17:26:49.243Z"
   },
   {
    "duration": 221,
    "start_time": "2022-01-11T17:29:37.828Z"
   },
   {
    "duration": 1383,
    "start_time": "2022-01-11T17:29:44.906Z"
   },
   {
    "duration": 430,
    "start_time": "2022-01-11T17:29:46.292Z"
   },
   {
    "duration": 4,
    "start_time": "2022-01-11T17:29:46.725Z"
   },
   {
    "duration": 52,
    "start_time": "2022-01-11T17:29:46.731Z"
   },
   {
    "duration": 347,
    "start_time": "2022-01-11T17:29:46.785Z"
   },
   {
    "duration": 256,
    "start_time": "2022-01-11T17:29:47.134Z"
   },
   {
    "duration": 203,
    "start_time": "2022-01-11T17:29:47.392Z"
   },
   {
    "duration": 40,
    "start_time": "2022-01-11T17:29:47.597Z"
   },
   {
    "duration": 82,
    "start_time": "2022-01-11T17:29:47.640Z"
   },
   {
    "duration": 4,
    "start_time": "2022-01-11T17:29:47.724Z"
   },
   {
    "duration": 300,
    "start_time": "2022-01-11T17:29:47.730Z"
   },
   {
    "duration": 5,
    "start_time": "2022-01-11T17:29:48.032Z"
   },
   {
    "duration": 40,
    "start_time": "2022-01-11T17:29:48.038Z"
   },
   {
    "duration": 24,
    "start_time": "2022-01-11T17:29:48.080Z"
   },
   {
    "duration": 26,
    "start_time": "2022-01-11T17:29:48.106Z"
   },
   {
    "duration": 22,
    "start_time": "2022-01-11T17:29:48.133Z"
   },
   {
    "duration": 14,
    "start_time": "2022-01-11T17:29:48.157Z"
   },
   {
    "duration": 67,
    "start_time": "2022-01-11T17:29:48.173Z"
   },
   {
    "duration": 554,
    "start_time": "2022-01-11T17:29:48.242Z"
   },
   {
    "duration": -583,
    "start_time": "2022-01-11T17:29:49.381Z"
   },
   {
    "duration": -586,
    "start_time": "2022-01-11T17:29:49.385Z"
   },
   {
    "duration": -587,
    "start_time": "2022-01-11T17:29:49.388Z"
   },
   {
    "duration": -596,
    "start_time": "2022-01-11T17:29:49.398Z"
   },
   {
    "duration": 34,
    "start_time": "2022-01-11T17:31:13.273Z"
   },
   {
    "duration": 495,
    "start_time": "2022-01-11T17:31:55.110Z"
   },
   {
    "duration": 72,
    "start_time": "2022-01-11T17:31:58.399Z"
   },
   {
    "duration": 32,
    "start_time": "2022-01-11T17:32:02.766Z"
   },
   {
    "duration": 241,
    "start_time": "2022-01-11T17:33:07.074Z"
   },
   {
    "duration": 30,
    "start_time": "2022-01-11T17:33:16.271Z"
   },
   {
    "duration": 33,
    "start_time": "2022-01-11T17:33:30.868Z"
   },
   {
    "duration": 22,
    "start_time": "2022-01-11T17:34:34.090Z"
   },
   {
    "duration": 31,
    "start_time": "2022-01-11T17:34:46.940Z"
   },
   {
    "duration": 41,
    "start_time": "2022-01-11T17:39:21.613Z"
   },
   {
    "duration": 27,
    "start_time": "2022-01-11T17:42:50.490Z"
   },
   {
    "duration": 1378,
    "start_time": "2022-01-12T05:49:34.750Z"
   },
   {
    "duration": 394,
    "start_time": "2022-01-12T05:49:36.130Z"
   },
   {
    "duration": 4,
    "start_time": "2022-01-12T05:49:36.527Z"
   },
   {
    "duration": 45,
    "start_time": "2022-01-12T05:49:36.533Z"
   },
   {
    "duration": 331,
    "start_time": "2022-01-12T05:49:36.580Z"
   },
   {
    "duration": 267,
    "start_time": "2022-01-12T05:49:36.913Z"
   },
   {
    "duration": 191,
    "start_time": "2022-01-12T05:49:37.182Z"
   },
   {
    "duration": 35,
    "start_time": "2022-01-12T05:49:37.376Z"
   },
   {
    "duration": 81,
    "start_time": "2022-01-12T05:49:37.413Z"
   },
   {
    "duration": 5,
    "start_time": "2022-01-12T05:49:37.495Z"
   },
   {
    "duration": 287,
    "start_time": "2022-01-12T05:49:37.501Z"
   },
   {
    "duration": 5,
    "start_time": "2022-01-12T05:49:37.791Z"
   },
   {
    "duration": 28,
    "start_time": "2022-01-12T05:49:37.798Z"
   },
   {
    "duration": 35,
    "start_time": "2022-01-12T05:49:37.827Z"
   },
   {
    "duration": 18,
    "start_time": "2022-01-12T05:49:37.863Z"
   },
   {
    "duration": 24,
    "start_time": "2022-01-12T05:49:37.882Z"
   },
   {
    "duration": 32,
    "start_time": "2022-01-12T05:49:37.908Z"
   },
   {
    "duration": 52,
    "start_time": "2022-01-12T05:49:37.942Z"
   },
   {
    "duration": 28,
    "start_time": "2022-01-12T05:49:37.996Z"
   },
   {
    "duration": 186,
    "start_time": "2022-01-12T05:49:38.026Z"
   },
   {
    "duration": 231,
    "start_time": "2022-01-12T05:49:38.214Z"
   },
   {
    "duration": 4,
    "start_time": "2022-01-12T05:49:38.447Z"
   },
   {
    "duration": 39,
    "start_time": "2022-01-12T05:49:38.462Z"
   },
   {
    "duration": 23,
    "start_time": "2022-01-12T05:54:18.517Z"
   },
   {
    "duration": 24,
    "start_time": "2022-01-12T05:54:27.495Z"
   },
   {
    "duration": 18,
    "start_time": "2022-01-12T05:54:34.779Z"
   },
   {
    "duration": 14,
    "start_time": "2022-01-12T05:56:24.100Z"
   },
   {
    "duration": 623,
    "start_time": "2022-01-12T06:01:11.214Z"
   },
   {
    "duration": 6,
    "start_time": "2022-01-12T06:01:20.342Z"
   },
   {
    "duration": 7,
    "start_time": "2022-01-12T06:01:29.606Z"
   },
   {
    "duration": 227,
    "start_time": "2022-01-12T06:04:26.225Z"
   },
   {
    "duration": 334,
    "start_time": "2022-01-12T06:04:38.990Z"
   },
   {
    "duration": 446,
    "start_time": "2022-01-12T06:05:24.353Z"
   },
   {
    "duration": 340,
    "start_time": "2022-01-12T06:05:34.253Z"
   },
   {
    "duration": 396,
    "start_time": "2022-01-12T06:05:37.965Z"
   },
   {
    "duration": 295,
    "start_time": "2022-01-12T06:08:49.002Z"
   },
   {
    "duration": 542,
    "start_time": "2022-01-12T06:09:03.562Z"
   },
   {
    "duration": 1856,
    "start_time": "2022-01-12T06:09:14.356Z"
   },
   {
    "duration": 554,
    "start_time": "2022-01-12T06:09:16.215Z"
   },
   {
    "duration": 4,
    "start_time": "2022-01-12T06:09:16.772Z"
   },
   {
    "duration": 42,
    "start_time": "2022-01-12T06:09:16.779Z"
   },
   {
    "duration": 346,
    "start_time": "2022-01-12T06:09:16.823Z"
   },
   {
    "duration": 251,
    "start_time": "2022-01-12T06:09:17.172Z"
   },
   {
    "duration": 197,
    "start_time": "2022-01-12T06:09:17.425Z"
   },
   {
    "duration": 61,
    "start_time": "2022-01-12T06:09:17.624Z"
   },
   {
    "duration": 88,
    "start_time": "2022-01-12T06:09:17.689Z"
   },
   {
    "duration": 5,
    "start_time": "2022-01-12T06:09:17.779Z"
   },
   {
    "duration": 298,
    "start_time": "2022-01-12T06:09:17.786Z"
   },
   {
    "duration": 4,
    "start_time": "2022-01-12T06:09:18.086Z"
   },
   {
    "duration": 12,
    "start_time": "2022-01-12T06:09:18.092Z"
   },
   {
    "duration": 14,
    "start_time": "2022-01-12T06:09:18.106Z"
   },
   {
    "duration": 41,
    "start_time": "2022-01-12T06:09:18.121Z"
   },
   {
    "duration": 10,
    "start_time": "2022-01-12T06:09:18.164Z"
   },
   {
    "duration": 9,
    "start_time": "2022-01-12T06:09:18.175Z"
   },
   {
    "duration": 85,
    "start_time": "2022-01-12T06:09:18.186Z"
   },
   {
    "duration": 29,
    "start_time": "2022-01-12T06:09:18.273Z"
   },
   {
    "duration": 25,
    "start_time": "2022-01-12T06:09:18.304Z"
   },
   {
    "duration": 645,
    "start_time": "2022-01-12T06:09:18.331Z"
   },
   {
    "duration": 107,
    "start_time": "2022-01-12T06:09:18.872Z"
   },
   {
    "duration": 104,
    "start_time": "2022-01-12T06:09:18.876Z"
   },
   {
    "duration": 102,
    "start_time": "2022-01-12T06:09:18.880Z"
   },
   {
    "duration": 100,
    "start_time": "2022-01-12T06:09:18.884Z"
   },
   {
    "duration": 98,
    "start_time": "2022-01-12T06:09:18.887Z"
   },
   {
    "duration": 236,
    "start_time": "2022-01-12T06:09:33.389Z"
   },
   {
    "duration": 10,
    "start_time": "2022-01-12T06:09:45.644Z"
   },
   {
    "duration": 256,
    "start_time": "2022-01-12T06:10:07.877Z"
   },
   {
    "duration": 10,
    "start_time": "2022-01-12T06:10:57.020Z"
   },
   {
    "duration": 216,
    "start_time": "2022-01-12T06:11:07.154Z"
   },
   {
    "duration": 1954,
    "start_time": "2022-01-12T06:11:49.747Z"
   },
   {
    "duration": 247,
    "start_time": "2022-01-12T06:12:35.947Z"
   },
   {
    "duration": 5,
    "start_time": "2022-01-12T06:12:56.678Z"
   },
   {
    "duration": 5,
    "start_time": "2022-01-12T06:13:07.776Z"
   },
   {
    "duration": 7,
    "start_time": "2022-01-12T06:13:32.646Z"
   },
   {
    "duration": 9,
    "start_time": "2022-01-12T06:13:43.066Z"
   },
   {
    "duration": 219,
    "start_time": "2022-01-12T06:14:49.707Z"
   },
   {
    "duration": 8,
    "start_time": "2022-01-12T06:15:08.166Z"
   },
   {
    "duration": 9,
    "start_time": "2022-01-12T06:15:40.369Z"
   },
   {
    "duration": 222,
    "start_time": "2022-01-12T06:15:44.187Z"
   },
   {
    "duration": 9,
    "start_time": "2022-01-12T06:16:20.848Z"
   },
   {
    "duration": 9,
    "start_time": "2022-01-12T06:16:22.568Z"
   },
   {
    "duration": 12,
    "start_time": "2022-01-12T06:16:27.866Z"
   },
   {
    "duration": 252,
    "start_time": "2022-01-12T06:19:07.749Z"
   },
   {
    "duration": 219,
    "start_time": "2022-01-12T06:19:18.392Z"
   },
   {
    "duration": 232,
    "start_time": "2022-01-12T06:19:48.690Z"
   },
   {
    "duration": 217,
    "start_time": "2022-01-12T06:19:58.404Z"
   },
   {
    "duration": 240,
    "start_time": "2022-01-12T06:20:28.041Z"
   },
   {
    "duration": 29,
    "start_time": "2022-01-12T06:21:59.412Z"
   },
   {
    "duration": 20,
    "start_time": "2022-01-12T06:22:25.893Z"
   },
   {
    "duration": 23,
    "start_time": "2022-01-12T06:22:50.588Z"
   },
   {
    "duration": 1335,
    "start_time": "2022-01-12T06:23:10.559Z"
   },
   {
    "duration": 409,
    "start_time": "2022-01-12T06:23:11.896Z"
   },
   {
    "duration": 3,
    "start_time": "2022-01-12T06:23:12.308Z"
   },
   {
    "duration": 36,
    "start_time": "2022-01-12T06:23:12.313Z"
   },
   {
    "duration": 322,
    "start_time": "2022-01-12T06:23:12.351Z"
   },
   {
    "duration": 242,
    "start_time": "2022-01-12T06:23:12.675Z"
   },
   {
    "duration": 190,
    "start_time": "2022-01-12T06:23:12.919Z"
   },
   {
    "duration": 52,
    "start_time": "2022-01-12T06:23:13.112Z"
   },
   {
    "duration": 65,
    "start_time": "2022-01-12T06:23:13.168Z"
   },
   {
    "duration": 5,
    "start_time": "2022-01-12T06:23:13.235Z"
   },
   {
    "duration": 294,
    "start_time": "2022-01-12T06:23:13.242Z"
   },
   {
    "duration": 5,
    "start_time": "2022-01-12T06:23:13.539Z"
   },
   {
    "duration": 10,
    "start_time": "2022-01-12T06:23:13.560Z"
   },
   {
    "duration": 14,
    "start_time": "2022-01-12T06:23:13.572Z"
   },
   {
    "duration": 12,
    "start_time": "2022-01-12T06:23:13.588Z"
   },
   {
    "duration": 11,
    "start_time": "2022-01-12T06:23:13.602Z"
   },
   {
    "duration": 48,
    "start_time": "2022-01-12T06:23:13.614Z"
   },
   {
    "duration": 51,
    "start_time": "2022-01-12T06:23:13.664Z"
   },
   {
    "duration": 21,
    "start_time": "2022-01-12T06:23:13.717Z"
   },
   {
    "duration": 39,
    "start_time": "2022-01-12T06:23:13.740Z"
   },
   {
    "duration": 13,
    "start_time": "2022-01-12T06:23:13.780Z"
   },
   {
    "duration": 23,
    "start_time": "2022-01-12T06:23:13.794Z"
   },
   {
    "duration": 191,
    "start_time": "2022-01-12T06:23:13.819Z"
   },
   {
    "duration": 223,
    "start_time": "2022-01-12T06:23:14.011Z"
   },
   {
    "duration": 4,
    "start_time": "2022-01-12T06:23:14.236Z"
   },
   {
    "duration": 48,
    "start_time": "2022-01-12T06:23:14.241Z"
   },
   {
    "duration": 318,
    "start_time": "2022-01-12T06:24:23.500Z"
   },
   {
    "duration": 249,
    "start_time": "2022-01-12T06:24:32.270Z"
   },
   {
    "duration": 299,
    "start_time": "2022-01-12T06:25:47.719Z"
   },
   {
    "duration": 869,
    "start_time": "2022-01-12T06:26:16.865Z"
   },
   {
    "duration": 293,
    "start_time": "2022-01-12T06:26:27.390Z"
   },
   {
    "duration": 21,
    "start_time": "2022-01-12T06:31:21.100Z"
   },
   {
    "duration": 154,
    "start_time": "2022-01-12T06:32:02.302Z"
   },
   {
    "duration": 24,
    "start_time": "2022-01-12T06:32:07.407Z"
   },
   {
    "duration": 146,
    "start_time": "2022-01-12T06:32:23.341Z"
   },
   {
    "duration": 273,
    "start_time": "2022-01-12T06:32:28.350Z"
   },
   {
    "duration": 271,
    "start_time": "2022-01-12T06:32:37.196Z"
   },
   {
    "duration": 240,
    "start_time": "2022-01-12T06:35:59.221Z"
   },
   {
    "duration": 207,
    "start_time": "2022-01-12T06:36:28.731Z"
   },
   {
    "duration": 216,
    "start_time": "2022-01-12T06:36:42.401Z"
   },
   {
    "duration": 16,
    "start_time": "2022-01-12T06:37:09.393Z"
   },
   {
    "duration": 221,
    "start_time": "2022-01-12T06:37:24.396Z"
   },
   {
    "duration": 237,
    "start_time": "2022-01-12T06:37:30.527Z"
   },
   {
    "duration": 16,
    "start_time": "2022-01-12T06:37:37.680Z"
   },
   {
    "duration": 1296,
    "start_time": "2022-01-12T06:38:17.179Z"
   },
   {
    "duration": 397,
    "start_time": "2022-01-12T06:38:18.477Z"
   },
   {
    "duration": 3,
    "start_time": "2022-01-12T06:38:18.876Z"
   },
   {
    "duration": 35,
    "start_time": "2022-01-12T06:38:18.881Z"
   },
   {
    "duration": 317,
    "start_time": "2022-01-12T06:38:18.918Z"
   },
   {
    "duration": 243,
    "start_time": "2022-01-12T06:38:19.237Z"
   },
   {
    "duration": 186,
    "start_time": "2022-01-12T06:38:19.481Z"
   },
   {
    "duration": 35,
    "start_time": "2022-01-12T06:38:19.669Z"
   },
   {
    "duration": 90,
    "start_time": "2022-01-12T06:38:19.707Z"
   },
   {
    "duration": 4,
    "start_time": "2022-01-12T06:38:19.799Z"
   },
   {
    "duration": 288,
    "start_time": "2022-01-12T06:38:19.805Z"
   },
   {
    "duration": 4,
    "start_time": "2022-01-12T06:38:20.095Z"
   },
   {
    "duration": 16,
    "start_time": "2022-01-12T06:38:20.101Z"
   },
   {
    "duration": 23,
    "start_time": "2022-01-12T06:38:20.118Z"
   },
   {
    "duration": 21,
    "start_time": "2022-01-12T06:38:20.142Z"
   },
   {
    "duration": 12,
    "start_time": "2022-01-12T06:38:20.165Z"
   },
   {
    "duration": 19,
    "start_time": "2022-01-12T06:38:20.178Z"
   },
   {
    "duration": 51,
    "start_time": "2022-01-12T06:38:20.198Z"
   },
   {
    "duration": 27,
    "start_time": "2022-01-12T06:38:20.251Z"
   },
   {
    "duration": 18,
    "start_time": "2022-01-12T06:38:20.279Z"
   },
   {
    "duration": 9,
    "start_time": "2022-01-12T06:38:20.299Z"
   },
   {
    "duration": 29,
    "start_time": "2022-01-12T06:38:20.310Z"
   },
   {
    "duration": 166,
    "start_time": "2022-01-12T06:38:20.341Z"
   },
   {
    "duration": 237,
    "start_time": "2022-01-12T06:38:20.509Z"
   },
   {
    "duration": 4,
    "start_time": "2022-01-12T06:38:20.748Z"
   },
   {
    "duration": 32,
    "start_time": "2022-01-12T06:38:20.761Z"
   },
   {
    "duration": 14,
    "start_time": "2022-01-12T06:40:31.254Z"
   },
   {
    "duration": 15,
    "start_time": "2022-01-12T06:40:37.801Z"
   },
   {
    "duration": 342,
    "start_time": "2022-01-12T06:40:48.530Z"
   },
   {
    "duration": 217,
    "start_time": "2022-01-12T06:40:56.134Z"
   },
   {
    "duration": 234,
    "start_time": "2022-01-12T06:41:02.218Z"
   },
   {
    "duration": 220,
    "start_time": "2022-01-12T06:41:07.227Z"
   },
   {
    "duration": 226,
    "start_time": "2022-01-12T06:41:09.611Z"
   },
   {
    "duration": 246,
    "start_time": "2022-01-12T06:41:15.142Z"
   },
   {
    "duration": 249,
    "start_time": "2022-01-12T06:44:26.259Z"
   },
   {
    "duration": 246,
    "start_time": "2022-01-12T06:45:07.076Z"
   },
   {
    "duration": 300,
    "start_time": "2022-01-12T06:49:49.669Z"
   },
   {
    "duration": 221,
    "start_time": "2022-01-12T06:50:19.041Z"
   },
   {
    "duration": 302,
    "start_time": "2022-01-12T06:50:40.500Z"
   },
   {
    "duration": 219,
    "start_time": "2022-01-12T06:51:50.546Z"
   },
   {
    "duration": 1385,
    "start_time": "2022-01-12T15:05:15.501Z"
   },
   {
    "duration": 417,
    "start_time": "2022-01-12T15:05:16.889Z"
   },
   {
    "duration": 3,
    "start_time": "2022-01-12T15:05:17.308Z"
   },
   {
    "duration": 94,
    "start_time": "2022-01-12T15:05:17.313Z"
   },
   {
    "duration": 324,
    "start_time": "2022-01-12T15:05:17.408Z"
   },
   {
    "duration": 253,
    "start_time": "2022-01-12T15:05:17.734Z"
   },
   {
    "duration": 195,
    "start_time": "2022-01-12T15:05:17.989Z"
   },
   {
    "duration": 37,
    "start_time": "2022-01-12T15:05:18.186Z"
   },
   {
    "duration": 85,
    "start_time": "2022-01-12T15:05:18.226Z"
   },
   {
    "duration": 4,
    "start_time": "2022-01-12T15:05:18.313Z"
   },
   {
    "duration": 294,
    "start_time": "2022-01-12T15:05:18.318Z"
   },
   {
    "duration": 5,
    "start_time": "2022-01-12T15:05:18.613Z"
   },
   {
    "duration": 20,
    "start_time": "2022-01-12T15:05:18.620Z"
   },
   {
    "duration": 49,
    "start_time": "2022-01-12T15:05:18.642Z"
   },
   {
    "duration": 24,
    "start_time": "2022-01-12T15:05:18.693Z"
   },
   {
    "duration": 28,
    "start_time": "2022-01-12T15:05:18.718Z"
   },
   {
    "duration": 28,
    "start_time": "2022-01-12T15:05:18.748Z"
   },
   {
    "duration": 66,
    "start_time": "2022-01-12T15:05:18.778Z"
   },
   {
    "duration": 23,
    "start_time": "2022-01-12T15:05:18.846Z"
   },
   {
    "duration": 364,
    "start_time": "2022-01-12T15:05:18.871Z"
   },
   {
    "duration": 133,
    "start_time": "2022-01-12T15:05:19.104Z"
   },
   {
    "duration": 47,
    "start_time": "2022-01-12T15:05:19.192Z"
   },
   {
    "duration": 44,
    "start_time": "2022-01-12T15:05:19.196Z"
   },
   {
    "duration": 42,
    "start_time": "2022-01-12T15:05:19.199Z"
   },
   {
    "duration": 33,
    "start_time": "2022-01-12T15:05:19.209Z"
   },
   {
    "duration": 30,
    "start_time": "2022-01-12T15:05:19.213Z"
   },
   {
    "duration": 22,
    "start_time": "2022-01-12T15:05:19.222Z"
   },
   {
    "duration": 83,
    "start_time": "2022-01-12T15:05:46.950Z"
   },
   {
    "duration": 21,
    "start_time": "2022-01-12T15:05:50.875Z"
   },
   {
    "duration": 12,
    "start_time": "2022-01-12T15:06:00.406Z"
   },
   {
    "duration": 14,
    "start_time": "2022-01-12T15:06:24.244Z"
   },
   {
    "duration": 204,
    "start_time": "2022-01-12T15:06:42.207Z"
   },
   {
    "duration": 217,
    "start_time": "2022-01-12T15:10:17.507Z"
   },
   {
    "duration": 31,
    "start_time": "2022-01-12T15:11:31.112Z"
   },
   {
    "duration": 23,
    "start_time": "2022-01-12T15:12:06.965Z"
   },
   {
    "duration": 17,
    "start_time": "2022-01-12T15:12:27.526Z"
   },
   {
    "duration": 10,
    "start_time": "2022-01-12T15:12:33.660Z"
   },
   {
    "duration": 13,
    "start_time": "2022-01-12T15:12:43.437Z"
   },
   {
    "duration": 1317,
    "start_time": "2022-01-12T16:38:35.876Z"
   },
   {
    "duration": 429,
    "start_time": "2022-01-12T16:38:37.195Z"
   },
   {
    "duration": 3,
    "start_time": "2022-01-12T16:38:37.626Z"
   },
   {
    "duration": 38,
    "start_time": "2022-01-12T16:38:37.632Z"
   },
   {
    "duration": 326,
    "start_time": "2022-01-12T16:38:37.672Z"
   },
   {
    "duration": 240,
    "start_time": "2022-01-12T16:38:38.000Z"
   },
   {
    "duration": 184,
    "start_time": "2022-01-12T16:38:38.241Z"
   },
   {
    "duration": 35,
    "start_time": "2022-01-12T16:38:38.427Z"
   },
   {
    "duration": 83,
    "start_time": "2022-01-12T16:38:38.464Z"
   },
   {
    "duration": 3,
    "start_time": "2022-01-12T16:38:38.549Z"
   },
   {
    "duration": 277,
    "start_time": "2022-01-12T16:38:38.554Z"
   },
   {
    "duration": 4,
    "start_time": "2022-01-12T16:38:38.833Z"
   },
   {
    "duration": 9,
    "start_time": "2022-01-12T16:38:38.839Z"
   },
   {
    "duration": 11,
    "start_time": "2022-01-12T16:38:38.850Z"
   },
   {
    "duration": 34,
    "start_time": "2022-01-12T16:38:38.862Z"
   },
   {
    "duration": 9,
    "start_time": "2022-01-12T16:38:38.897Z"
   },
   {
    "duration": 7,
    "start_time": "2022-01-12T16:38:38.908Z"
   },
   {
    "duration": 48,
    "start_time": "2022-01-12T16:38:38.917Z"
   },
   {
    "duration": 43,
    "start_time": "2022-01-12T16:38:38.966Z"
   },
   {
    "duration": 19,
    "start_time": "2022-01-12T16:38:39.011Z"
   },
   {
    "duration": 14,
    "start_time": "2022-01-12T16:38:39.032Z"
   },
   {
    "duration": 11,
    "start_time": "2022-01-12T16:38:39.048Z"
   },
   {
    "duration": 319,
    "start_time": "2022-01-12T16:38:39.061Z"
   },
   {
    "duration": 245,
    "start_time": "2022-01-12T16:38:39.137Z"
   },
   {
    "duration": 243,
    "start_time": "2022-01-12T16:38:39.141Z"
   },
   {
    "duration": 240,
    "start_time": "2022-01-12T16:38:39.145Z"
   },
   {
    "duration": 237,
    "start_time": "2022-01-12T16:38:39.149Z"
   },
   {
    "duration": 140,
    "start_time": "2022-01-12T16:48:46.013Z"
   },
   {
    "duration": 16,
    "start_time": "2022-01-12T16:48:58.374Z"
   },
   {
    "duration": 20,
    "start_time": "2022-01-12T16:49:10.964Z"
   },
   {
    "duration": 20,
    "start_time": "2022-01-12T16:50:49.079Z"
   },
   {
    "duration": 23,
    "start_time": "2022-01-12T16:51:30.386Z"
   },
   {
    "duration": 51,
    "start_time": "2022-01-12T16:52:03.772Z"
   },
   {
    "duration": 144,
    "start_time": "2022-01-12T16:52:10.515Z"
   },
   {
    "duration": 156,
    "start_time": "2022-01-12T16:52:15.816Z"
   },
   {
    "duration": 154,
    "start_time": "2022-01-12T16:52:40.235Z"
   },
   {
    "duration": 3687,
    "start_time": "2022-01-12T16:52:59.249Z"
   },
   {
    "duration": 22,
    "start_time": "2022-01-12T16:55:00.784Z"
   },
   {
    "duration": 1242,
    "start_time": "2022-01-12T16:55:10.155Z"
   },
   {
    "duration": 400,
    "start_time": "2022-01-12T16:55:11.399Z"
   },
   {
    "duration": 3,
    "start_time": "2022-01-12T16:55:11.801Z"
   },
   {
    "duration": 41,
    "start_time": "2022-01-12T16:55:11.806Z"
   },
   {
    "duration": 342,
    "start_time": "2022-01-12T16:55:11.849Z"
   },
   {
    "duration": 231,
    "start_time": "2022-01-12T16:55:12.193Z"
   },
   {
    "duration": 175,
    "start_time": "2022-01-12T16:55:12.426Z"
   },
   {
    "duration": 33,
    "start_time": "2022-01-12T16:55:12.603Z"
   },
   {
    "duration": 81,
    "start_time": "2022-01-12T16:55:12.639Z"
   },
   {
    "duration": 4,
    "start_time": "2022-01-12T16:55:12.723Z"
   },
   {
    "duration": 272,
    "start_time": "2022-01-12T16:55:12.729Z"
   },
   {
    "duration": 6,
    "start_time": "2022-01-12T16:55:13.003Z"
   },
   {
    "duration": 11,
    "start_time": "2022-01-12T16:55:13.011Z"
   },
   {
    "duration": 11,
    "start_time": "2022-01-12T16:55:13.024Z"
   },
   {
    "duration": 8,
    "start_time": "2022-01-12T16:55:13.037Z"
   },
   {
    "duration": 47,
    "start_time": "2022-01-12T16:55:13.047Z"
   },
   {
    "duration": 9,
    "start_time": "2022-01-12T16:55:13.096Z"
   },
   {
    "duration": 50,
    "start_time": "2022-01-12T16:55:13.107Z"
   },
   {
    "duration": 42,
    "start_time": "2022-01-12T16:55:13.159Z"
   },
   {
    "duration": 21,
    "start_time": "2022-01-12T16:55:13.202Z"
   },
   {
    "duration": 16,
    "start_time": "2022-01-12T16:55:13.224Z"
   },
   {
    "duration": 22,
    "start_time": "2022-01-12T16:55:13.242Z"
   },
   {
    "duration": 292,
    "start_time": "2022-01-12T16:55:13.291Z"
   },
   {
    "duration": 9,
    "start_time": "2022-01-12T16:55:13.576Z"
   },
   {
    "duration": 7,
    "start_time": "2022-01-12T16:55:13.579Z"
   },
   {
    "duration": 4,
    "start_time": "2022-01-12T16:55:13.583Z"
   },
   {
    "duration": 2,
    "start_time": "2022-01-12T16:55:13.586Z"
   },
   {
    "duration": 3157,
    "start_time": "2022-01-12T16:59:37.819Z"
   },
   {
    "duration": 890,
    "start_time": "2022-01-12T17:00:38.980Z"
   },
   {
    "duration": 969,
    "start_time": "2022-01-12T17:01:13.144Z"
   },
   {
    "duration": 3487,
    "start_time": "2022-01-12T17:01:37.660Z"
   },
   {
    "duration": 145,
    "start_time": "2022-01-12T17:02:51.530Z"
   },
   {
    "duration": 145,
    "start_time": "2022-01-12T17:03:03.110Z"
   },
   {
    "duration": 144,
    "start_time": "2022-01-12T17:03:39.793Z"
   },
   {
    "duration": 154,
    "start_time": "2022-01-12T17:03:44.715Z"
   },
   {
    "duration": 150,
    "start_time": "2022-01-12T17:03:47.527Z"
   },
   {
    "duration": 43,
    "start_time": "2022-01-12T17:04:15.743Z"
   },
   {
    "duration": 6,
    "start_time": "2022-01-12T17:04:20.369Z"
   },
   {
    "duration": 1728,
    "start_time": "2022-01-12T17:04:33.815Z"
   },
   {
    "duration": 3424,
    "start_time": "2022-01-12T17:04:40.284Z"
   },
   {
    "duration": 935,
    "start_time": "2022-01-12T17:05:00.902Z"
   },
   {
    "duration": 5,
    "start_time": "2022-01-12T17:05:29.764Z"
   },
   {
    "duration": 58,
    "start_time": "2022-01-12T17:05:44.987Z"
   },
   {
    "duration": 53,
    "start_time": "2022-01-12T17:05:51.617Z"
   },
   {
    "duration": 5,
    "start_time": "2022-01-12T17:05:55.877Z"
   },
   {
    "duration": 1776,
    "start_time": "2022-01-12T17:06:11.985Z"
   },
   {
    "duration": 156,
    "start_time": "2022-01-12T17:10:39.047Z"
   },
   {
    "duration": 143,
    "start_time": "2022-01-12T17:10:45.310Z"
   },
   {
    "duration": 182,
    "start_time": "2022-01-12T17:11:58.883Z"
   },
   {
    "duration": 150,
    "start_time": "2022-01-12T17:15:09.400Z"
   },
   {
    "duration": 150,
    "start_time": "2022-01-12T17:15:16.496Z"
   },
   {
    "duration": 151,
    "start_time": "2022-01-12T17:17:06.500Z"
   },
   {
    "duration": 147,
    "start_time": "2022-01-12T17:17:10.034Z"
   },
   {
    "duration": 166,
    "start_time": "2022-01-12T17:17:14.155Z"
   },
   {
    "duration": 156,
    "start_time": "2022-01-12T17:17:25.633Z"
   },
   {
    "duration": 80,
    "start_time": "2022-01-12T17:26:21.201Z"
   },
   {
    "duration": 43,
    "start_time": "2022-01-12T17:26:40.231Z"
   },
   {
    "duration": 64,
    "start_time": "2022-01-12T17:26:44.927Z"
   },
   {
    "duration": 49,
    "start_time": "2022-01-12T17:26:55.955Z"
   },
   {
    "duration": 45,
    "start_time": "2022-01-12T17:27:04.706Z"
   },
   {
    "duration": 44,
    "start_time": "2022-01-12T17:27:26.103Z"
   },
   {
    "duration": 42,
    "start_time": "2022-01-12T17:27:30.830Z"
   },
   {
    "duration": 45,
    "start_time": "2022-01-12T17:28:47.614Z"
   },
   {
    "duration": 48,
    "start_time": "2022-01-12T17:28:52.121Z"
   },
   {
    "duration": 42,
    "start_time": "2022-01-12T17:28:55.645Z"
   },
   {
    "duration": 47,
    "start_time": "2022-01-12T17:29:44.301Z"
   },
   {
    "duration": 52,
    "start_time": "2022-01-12T17:29:48.538Z"
   },
   {
    "duration": 47,
    "start_time": "2022-01-12T17:29:53.018Z"
   },
   {
    "duration": 43,
    "start_time": "2022-01-12T17:30:08.432Z"
   },
   {
    "duration": 8,
    "start_time": "2022-01-12T17:30:47.818Z"
   },
   {
    "duration": 7,
    "start_time": "2022-01-12T17:30:58.494Z"
   },
   {
    "duration": 20,
    "start_time": "2022-01-12T17:43:52.933Z"
   },
   {
    "duration": 21,
    "start_time": "2022-01-12T17:49:54.319Z"
   },
   {
    "duration": 20,
    "start_time": "2022-01-12T17:50:01.445Z"
   },
   {
    "duration": 21,
    "start_time": "2022-01-12T17:58:31.862Z"
   },
   {
    "duration": 31,
    "start_time": "2022-01-12T17:58:47.976Z"
   },
   {
    "duration": 20,
    "start_time": "2022-01-12T17:59:34.963Z"
   },
   {
    "duration": 148,
    "start_time": "2022-01-12T17:59:52.247Z"
   },
   {
    "duration": 18,
    "start_time": "2022-01-12T17:59:59.766Z"
   },
   {
    "duration": 19,
    "start_time": "2022-01-12T18:00:14.675Z"
   },
   {
    "duration": 20,
    "start_time": "2022-01-12T18:00:55.762Z"
   },
   {
    "duration": 20,
    "start_time": "2022-01-12T18:37:39.809Z"
   },
   {
    "duration": 26,
    "start_time": "2022-01-12T18:41:28.016Z"
   },
   {
    "duration": 43,
    "start_time": "2022-01-12T18:41:41.519Z"
   },
   {
    "duration": 134,
    "start_time": "2022-01-12T18:42:02.530Z"
   },
   {
    "duration": 15,
    "start_time": "2022-01-12T18:42:16.153Z"
   },
   {
    "duration": 3140,
    "start_time": "2022-01-12T18:59:54.042Z"
   },
   {
    "duration": 5,
    "start_time": "2022-01-12T19:00:09.969Z"
   },
   {
    "duration": 14,
    "start_time": "2022-01-12T19:00:33.054Z"
   },
   {
    "duration": 14,
    "start_time": "2022-01-12T19:01:22.865Z"
   },
   {
    "duration": 136,
    "start_time": "2022-01-12T19:02:28.761Z"
   },
   {
    "duration": 15,
    "start_time": "2022-01-12T19:02:50.301Z"
   },
   {
    "duration": 14,
    "start_time": "2022-01-12T19:03:03.745Z"
   },
   {
    "duration": 1208,
    "start_time": "2022-01-12T19:03:17.001Z"
   },
   {
    "duration": 409,
    "start_time": "2022-01-12T19:03:18.211Z"
   },
   {
    "duration": 4,
    "start_time": "2022-01-12T19:03:18.622Z"
   },
   {
    "duration": 37,
    "start_time": "2022-01-12T19:03:18.627Z"
   },
   {
    "duration": 315,
    "start_time": "2022-01-12T19:03:18.666Z"
   },
   {
    "duration": 236,
    "start_time": "2022-01-12T19:03:18.982Z"
   },
   {
    "duration": 188,
    "start_time": "2022-01-12T19:03:19.220Z"
   },
   {
    "duration": 34,
    "start_time": "2022-01-12T19:03:19.412Z"
   },
   {
    "duration": 86,
    "start_time": "2022-01-12T19:03:19.448Z"
   },
   {
    "duration": 4,
    "start_time": "2022-01-12T19:03:19.536Z"
   },
   {
    "duration": 279,
    "start_time": "2022-01-12T19:03:19.542Z"
   },
   {
    "duration": 5,
    "start_time": "2022-01-12T19:03:19.823Z"
   },
   {
    "duration": 19,
    "start_time": "2022-01-12T19:03:19.830Z"
   },
   {
    "duration": 37,
    "start_time": "2022-01-12T19:03:19.851Z"
   },
   {
    "duration": 36,
    "start_time": "2022-01-12T19:03:19.889Z"
   },
   {
    "duration": 11,
    "start_time": "2022-01-12T19:03:19.927Z"
   },
   {
    "duration": 16,
    "start_time": "2022-01-12T19:03:19.939Z"
   },
   {
    "duration": 14,
    "start_time": "2022-01-12T19:03:19.957Z"
   },
   {
    "duration": 52,
    "start_time": "2022-01-12T19:03:19.973Z"
   },
   {
    "duration": 25,
    "start_time": "2022-01-12T19:03:20.027Z"
   },
   {
    "duration": 38,
    "start_time": "2022-01-12T19:03:20.055Z"
   },
   {
    "duration": 19,
    "start_time": "2022-01-12T19:03:20.095Z"
   },
   {
    "duration": 28,
    "start_time": "2022-01-12T19:03:20.118Z"
   },
   {
    "duration": 43,
    "start_time": "2022-01-12T19:03:20.148Z"
   },
   {
    "duration": 15,
    "start_time": "2022-01-12T19:03:20.193Z"
   },
   {
    "duration": 249,
    "start_time": "2022-01-12T19:03:20.210Z"
   },
   {
    "duration": 67,
    "start_time": "2022-01-12T19:03:20.395Z"
   },
   {
    "duration": 49,
    "start_time": "2022-01-12T19:03:20.415Z"
   },
   {
    "duration": 46,
    "start_time": "2022-01-12T19:03:20.419Z"
   },
   {
    "duration": 44,
    "start_time": "2022-01-12T19:03:20.423Z"
   },
   {
    "duration": 14,
    "start_time": "2022-01-12T19:04:01.826Z"
   },
   {
    "duration": 14,
    "start_time": "2022-01-12T19:04:19.261Z"
   },
   {
    "duration": 1176,
    "start_time": "2022-01-12T19:07:24.732Z"
   },
   {
    "duration": 400,
    "start_time": "2022-01-12T19:07:25.910Z"
   },
   {
    "duration": 3,
    "start_time": "2022-01-12T19:07:26.312Z"
   },
   {
    "duration": 45,
    "start_time": "2022-01-12T19:07:26.317Z"
   },
   {
    "duration": 315,
    "start_time": "2022-01-12T19:07:26.364Z"
   },
   {
    "duration": 255,
    "start_time": "2022-01-12T19:07:26.681Z"
   },
   {
    "duration": 177,
    "start_time": "2022-01-12T19:07:26.938Z"
   },
   {
    "duration": 33,
    "start_time": "2022-01-12T19:07:27.118Z"
   },
   {
    "duration": 78,
    "start_time": "2022-01-12T19:07:27.153Z"
   },
   {
    "duration": 4,
    "start_time": "2022-01-12T19:07:27.233Z"
   },
   {
    "duration": 288,
    "start_time": "2022-01-12T19:07:27.239Z"
   },
   {
    "duration": 5,
    "start_time": "2022-01-12T19:07:27.529Z"
   },
   {
    "duration": 8,
    "start_time": "2022-01-12T19:07:27.535Z"
   },
   {
    "duration": 13,
    "start_time": "2022-01-12T19:07:27.544Z"
   },
   {
    "duration": 34,
    "start_time": "2022-01-12T19:07:27.559Z"
   },
   {
    "duration": 13,
    "start_time": "2022-01-12T19:07:27.595Z"
   },
   {
    "duration": 12,
    "start_time": "2022-01-12T19:07:27.609Z"
   },
   {
    "duration": 10,
    "start_time": "2022-01-12T19:07:27.622Z"
   },
   {
    "duration": 77,
    "start_time": "2022-01-12T19:07:27.633Z"
   },
   {
    "duration": 22,
    "start_time": "2022-01-12T19:07:27.712Z"
   },
   {
    "duration": 18,
    "start_time": "2022-01-12T19:07:27.736Z"
   },
   {
    "duration": 13,
    "start_time": "2022-01-12T19:07:27.755Z"
   },
   {
    "duration": 25,
    "start_time": "2022-01-12T19:07:27.792Z"
   },
   {
    "duration": 12,
    "start_time": "2022-01-12T19:07:27.819Z"
   },
   {
    "duration": 248,
    "start_time": "2022-01-12T19:07:27.833Z"
   },
   {
    "duration": -47,
    "start_time": "2022-01-12T19:07:28.130Z"
   },
   {
    "duration": -49,
    "start_time": "2022-01-12T19:07:28.133Z"
   },
   {
    "duration": -52,
    "start_time": "2022-01-12T19:07:28.137Z"
   },
   {
    "duration": -55,
    "start_time": "2022-01-12T19:07:28.141Z"
   },
   {
    "duration": -58,
    "start_time": "2022-01-12T19:07:28.145Z"
   },
   {
    "duration": 142,
    "start_time": "2022-01-12T19:09:33.570Z"
   },
   {
    "duration": 1098,
    "start_time": "2022-01-12T19:10:06.344Z"
   },
   {
    "duration": 9,
    "start_time": "2022-01-12T19:12:11.813Z"
   },
   {
    "duration": 1233,
    "start_time": "2022-01-12T19:12:26.777Z"
   },
   {
    "duration": 392,
    "start_time": "2022-01-12T19:12:28.012Z"
   },
   {
    "duration": 3,
    "start_time": "2022-01-12T19:12:28.406Z"
   },
   {
    "duration": 32,
    "start_time": "2022-01-12T19:12:28.411Z"
   },
   {
    "duration": 326,
    "start_time": "2022-01-12T19:12:28.445Z"
   },
   {
    "duration": 238,
    "start_time": "2022-01-12T19:12:28.772Z"
   },
   {
    "duration": 181,
    "start_time": "2022-01-12T19:12:29.011Z"
   },
   {
    "duration": 33,
    "start_time": "2022-01-12T19:12:29.194Z"
   },
   {
    "duration": 82,
    "start_time": "2022-01-12T19:12:29.230Z"
   },
   {
    "duration": 4,
    "start_time": "2022-01-12T19:12:29.314Z"
   },
   {
    "duration": 279,
    "start_time": "2022-01-12T19:12:29.320Z"
   },
   {
    "duration": 4,
    "start_time": "2022-01-12T19:12:29.601Z"
   },
   {
    "duration": 7,
    "start_time": "2022-01-12T19:12:29.607Z"
   },
   {
    "duration": 10,
    "start_time": "2022-01-12T19:12:29.616Z"
   },
   {
    "duration": 10,
    "start_time": "2022-01-12T19:12:29.627Z"
   },
   {
    "duration": 9,
    "start_time": "2022-01-12T19:12:29.638Z"
   },
   {
    "duration": 45,
    "start_time": "2022-01-12T19:12:29.649Z"
   },
   {
    "duration": 9,
    "start_time": "2022-01-12T19:12:29.696Z"
   },
   {
    "duration": 49,
    "start_time": "2022-01-12T19:12:29.706Z"
   },
   {
    "duration": 42,
    "start_time": "2022-01-12T19:12:29.756Z"
   },
   {
    "duration": 18,
    "start_time": "2022-01-12T19:12:29.800Z"
   },
   {
    "duration": 13,
    "start_time": "2022-01-12T19:12:29.820Z"
   },
   {
    "duration": 24,
    "start_time": "2022-01-12T19:12:29.835Z"
   },
   {
    "duration": 36,
    "start_time": "2022-01-12T19:12:29.861Z"
   },
   {
    "duration": 9,
    "start_time": "2022-01-12T19:12:29.899Z"
   },
   {
    "duration": 252,
    "start_time": "2022-01-12T19:12:29.909Z"
   },
   {
    "duration": 75,
    "start_time": "2022-01-12T19:12:30.090Z"
   },
   {
    "duration": 74,
    "start_time": "2022-01-12T19:12:30.093Z"
   },
   {
    "duration": 71,
    "start_time": "2022-01-12T19:12:30.097Z"
   },
   {
    "duration": 70,
    "start_time": "2022-01-12T19:12:30.100Z"
   },
   {
    "duration": 10,
    "start_time": "2022-01-12T19:12:45.248Z"
   },
   {
    "duration": 14,
    "start_time": "2022-01-12T19:13:03.848Z"
   },
   {
    "duration": 13,
    "start_time": "2022-01-12T19:13:36.557Z"
   },
   {
    "duration": 15,
    "start_time": "2022-01-12T19:13:48.156Z"
   },
   {
    "duration": 1307,
    "start_time": "2022-01-12T19:13:56.393Z"
   },
   {
    "duration": 415,
    "start_time": "2022-01-12T19:13:57.702Z"
   },
   {
    "duration": 3,
    "start_time": "2022-01-12T19:13:58.119Z"
   },
   {
    "duration": 36,
    "start_time": "2022-01-12T19:13:58.124Z"
   },
   {
    "duration": 329,
    "start_time": "2022-01-12T19:13:58.162Z"
   },
   {
    "duration": 247,
    "start_time": "2022-01-12T19:13:58.493Z"
   },
   {
    "duration": 182,
    "start_time": "2022-01-12T19:13:58.742Z"
   },
   {
    "duration": 34,
    "start_time": "2022-01-12T19:13:58.926Z"
   },
   {
    "duration": 85,
    "start_time": "2022-01-12T19:13:58.963Z"
   },
   {
    "duration": 3,
    "start_time": "2022-01-12T19:13:59.051Z"
   },
   {
    "duration": 276,
    "start_time": "2022-01-12T19:13:59.056Z"
   },
   {
    "duration": 4,
    "start_time": "2022-01-12T19:13:59.334Z"
   },
   {
    "duration": 11,
    "start_time": "2022-01-12T19:13:59.340Z"
   },
   {
    "duration": 13,
    "start_time": "2022-01-12T19:13:59.352Z"
   },
   {
    "duration": 31,
    "start_time": "2022-01-12T19:13:59.366Z"
   },
   {
    "duration": 10,
    "start_time": "2022-01-12T19:13:59.399Z"
   },
   {
    "duration": 9,
    "start_time": "2022-01-12T19:13:59.411Z"
   },
   {
    "duration": 9,
    "start_time": "2022-01-12T19:13:59.421Z"
   },
   {
    "duration": 82,
    "start_time": "2022-01-12T19:13:59.432Z"
   },
   {
    "duration": 24,
    "start_time": "2022-01-12T19:13:59.516Z"
   },
   {
    "duration": 18,
    "start_time": "2022-01-12T19:13:59.542Z"
   },
   {
    "duration": 37,
    "start_time": "2022-01-12T19:13:59.562Z"
   },
   {
    "duration": 24,
    "start_time": "2022-01-12T19:13:59.601Z"
   },
   {
    "duration": 15,
    "start_time": "2022-01-12T19:13:59.627Z"
   },
   {
    "duration": 15,
    "start_time": "2022-01-12T19:13:59.643Z"
   },
   {
    "duration": 275,
    "start_time": "2022-01-12T19:13:59.660Z"
   },
   {
    "duration": 43,
    "start_time": "2022-01-12T19:13:59.894Z"
   },
   {
    "duration": 41,
    "start_time": "2022-01-12T19:13:59.897Z"
   },
   {
    "duration": 38,
    "start_time": "2022-01-12T19:13:59.901Z"
   },
   {
    "duration": 36,
    "start_time": "2022-01-12T19:13:59.905Z"
   },
   {
    "duration": 1278,
    "start_time": "2022-01-12T19:15:28.510Z"
   },
   {
    "duration": 403,
    "start_time": "2022-01-12T19:15:29.791Z"
   },
   {
    "duration": 3,
    "start_time": "2022-01-12T19:15:30.196Z"
   },
   {
    "duration": 40,
    "start_time": "2022-01-12T19:15:30.201Z"
   },
   {
    "duration": 337,
    "start_time": "2022-01-12T19:15:30.243Z"
   },
   {
    "duration": 244,
    "start_time": "2022-01-12T19:15:30.582Z"
   },
   {
    "duration": 190,
    "start_time": "2022-01-12T19:15:30.828Z"
   },
   {
    "duration": 38,
    "start_time": "2022-01-12T19:15:31.019Z"
   },
   {
    "duration": 93,
    "start_time": "2022-01-12T19:15:31.059Z"
   },
   {
    "duration": 4,
    "start_time": "2022-01-12T19:15:31.154Z"
   },
   {
    "duration": 293,
    "start_time": "2022-01-12T19:15:31.159Z"
   },
   {
    "duration": 23,
    "start_time": "2022-01-12T19:15:31.453Z"
   },
   {
    "duration": 8,
    "start_time": "2022-01-12T19:15:31.492Z"
   },
   {
    "duration": 16,
    "start_time": "2022-01-12T19:15:31.502Z"
   },
   {
    "duration": 12,
    "start_time": "2022-01-12T19:15:31.519Z"
   },
   {
    "duration": 11,
    "start_time": "2022-01-12T19:15:31.533Z"
   },
   {
    "duration": 10,
    "start_time": "2022-01-12T19:15:31.545Z"
   },
   {
    "duration": 10,
    "start_time": "2022-01-12T19:15:31.592Z"
   },
   {
    "duration": 52,
    "start_time": "2022-01-12T19:15:31.604Z"
   },
   {
    "duration": 40,
    "start_time": "2022-01-12T19:15:31.658Z"
   },
   {
    "duration": 20,
    "start_time": "2022-01-12T19:15:31.700Z"
   },
   {
    "duration": 14,
    "start_time": "2022-01-12T19:15:31.722Z"
   },
   {
    "duration": 55,
    "start_time": "2022-01-12T19:15:31.738Z"
   },
   {
    "duration": 14,
    "start_time": "2022-01-12T19:15:31.795Z"
   },
   {
    "duration": 13,
    "start_time": "2022-01-12T19:15:31.810Z"
   },
   {
    "duration": 243,
    "start_time": "2022-01-12T19:15:31.825Z"
   },
   {
    "duration": 88,
    "start_time": "2022-01-12T19:15:31.982Z"
   },
   {
    "duration": 86,
    "start_time": "2022-01-12T19:15:31.986Z"
   },
   {
    "duration": 82,
    "start_time": "2022-01-12T19:15:31.991Z"
   },
   {
    "duration": 79,
    "start_time": "2022-01-12T19:15:31.995Z"
   },
   {
    "duration": 1239,
    "start_time": "2022-01-13T05:59:44.100Z"
   },
   {
    "duration": 391,
    "start_time": "2022-01-13T05:59:45.341Z"
   },
   {
    "duration": 3,
    "start_time": "2022-01-13T05:59:45.735Z"
   },
   {
    "duration": 37,
    "start_time": "2022-01-13T05:59:45.740Z"
   },
   {
    "duration": 401,
    "start_time": "2022-01-13T05:59:45.779Z"
   },
   {
    "duration": 260,
    "start_time": "2022-01-13T05:59:46.182Z"
   },
   {
    "duration": 190,
    "start_time": "2022-01-13T05:59:46.444Z"
   },
   {
    "duration": 33,
    "start_time": "2022-01-13T05:59:46.641Z"
   },
   {
    "duration": 80,
    "start_time": "2022-01-13T05:59:46.676Z"
   },
   {
    "duration": 3,
    "start_time": "2022-01-13T05:59:46.758Z"
   },
   {
    "duration": 256,
    "start_time": "2022-01-13T05:59:46.763Z"
   },
   {
    "duration": 30,
    "start_time": "2022-01-13T05:59:47.021Z"
   },
   {
    "duration": 6,
    "start_time": "2022-01-13T05:59:47.053Z"
   },
   {
    "duration": 11,
    "start_time": "2022-01-13T05:59:47.061Z"
   },
   {
    "duration": 14,
    "start_time": "2022-01-13T05:59:47.074Z"
   },
   {
    "duration": 11,
    "start_time": "2022-01-13T05:59:47.090Z"
   },
   {
    "duration": 43,
    "start_time": "2022-01-13T05:59:47.103Z"
   },
   {
    "duration": 8,
    "start_time": "2022-01-13T05:59:47.148Z"
   },
   {
    "duration": 46,
    "start_time": "2022-01-13T05:59:47.158Z"
   },
   {
    "duration": 45,
    "start_time": "2022-01-13T05:59:47.206Z"
   },
   {
    "duration": 18,
    "start_time": "2022-01-13T05:59:47.252Z"
   },
   {
    "duration": 12,
    "start_time": "2022-01-13T05:59:47.271Z"
   },
   {
    "duration": 23,
    "start_time": "2022-01-13T05:59:47.285Z"
   },
   {
    "duration": 37,
    "start_time": "2022-01-13T05:59:47.310Z"
   },
   {
    "duration": 15,
    "start_time": "2022-01-13T05:59:47.349Z"
   },
   {
    "duration": 557,
    "start_time": "2022-01-13T05:59:47.366Z"
   },
   {
    "duration": 31,
    "start_time": "2022-01-13T05:59:47.894Z"
   },
   {
    "duration": 28,
    "start_time": "2022-01-13T05:59:47.899Z"
   },
   {
    "duration": 26,
    "start_time": "2022-01-13T05:59:47.902Z"
   },
   {
    "duration": 22,
    "start_time": "2022-01-13T05:59:47.907Z"
   },
   {
    "duration": 4,
    "start_time": "2022-01-13T06:00:01.668Z"
   },
   {
    "duration": 421,
    "start_time": "2022-01-13T06:00:01.674Z"
   },
   {
    "duration": 4,
    "start_time": "2022-01-13T06:00:02.098Z"
   },
   {
    "duration": 55,
    "start_time": "2022-01-13T06:00:02.103Z"
   },
   {
    "duration": 315,
    "start_time": "2022-01-13T06:00:02.160Z"
   },
   {
    "duration": 235,
    "start_time": "2022-01-13T06:00:02.477Z"
   },
   {
    "duration": 173,
    "start_time": "2022-01-13T06:00:02.714Z"
   },
   {
    "duration": 53,
    "start_time": "2022-01-13T06:00:02.889Z"
   },
   {
    "duration": 63,
    "start_time": "2022-01-13T06:00:02.944Z"
   },
   {
    "duration": 4,
    "start_time": "2022-01-13T06:00:03.009Z"
   },
   {
    "duration": 284,
    "start_time": "2022-01-13T06:00:03.014Z"
   },
   {
    "duration": 18,
    "start_time": "2022-01-13T06:00:03.300Z"
   },
   {
    "duration": 24,
    "start_time": "2022-01-13T06:00:03.320Z"
   },
   {
    "duration": 18,
    "start_time": "2022-01-13T06:00:03.346Z"
   },
   {
    "duration": 13,
    "start_time": "2022-01-13T06:00:03.366Z"
   },
   {
    "duration": 12,
    "start_time": "2022-01-13T06:00:03.381Z"
   },
   {
    "duration": 16,
    "start_time": "2022-01-13T06:00:03.395Z"
   },
   {
    "duration": 10,
    "start_time": "2022-01-13T06:00:03.413Z"
   },
   {
    "duration": 63,
    "start_time": "2022-01-13T06:00:03.426Z"
   },
   {
    "duration": 21,
    "start_time": "2022-01-13T06:00:03.491Z"
   },
   {
    "duration": 41,
    "start_time": "2022-01-13T06:00:03.513Z"
   },
   {
    "duration": 16,
    "start_time": "2022-01-13T06:00:03.556Z"
   },
   {
    "duration": 26,
    "start_time": "2022-01-13T06:00:03.574Z"
   },
   {
    "duration": 12,
    "start_time": "2022-01-13T06:00:03.602Z"
   },
   {
    "duration": 14,
    "start_time": "2022-01-13T06:00:03.641Z"
   },
   {
    "duration": 401,
    "start_time": "2022-01-13T06:00:03.657Z"
   },
   {
    "duration": 35,
    "start_time": "2022-01-13T06:00:04.025Z"
   },
   {
    "duration": 31,
    "start_time": "2022-01-13T06:00:04.030Z"
   },
   {
    "duration": 29,
    "start_time": "2022-01-13T06:00:04.033Z"
   },
   {
    "duration": 26,
    "start_time": "2022-01-13T06:00:04.037Z"
   },
   {
    "duration": 210,
    "start_time": "2022-01-13T06:01:10.160Z"
   },
   {
    "duration": 1299,
    "start_time": "2022-01-13T06:01:47.523Z"
   },
   {
    "duration": 388,
    "start_time": "2022-01-13T06:01:48.823Z"
   },
   {
    "duration": 3,
    "start_time": "2022-01-13T06:01:49.212Z"
   },
   {
    "duration": 48,
    "start_time": "2022-01-13T06:01:49.217Z"
   },
   {
    "duration": 309,
    "start_time": "2022-01-13T06:01:49.266Z"
   },
   {
    "duration": 225,
    "start_time": "2022-01-13T06:01:49.576Z"
   },
   {
    "duration": 165,
    "start_time": "2022-01-13T06:01:49.802Z"
   },
   {
    "duration": 30,
    "start_time": "2022-01-13T06:01:49.970Z"
   },
   {
    "duration": 80,
    "start_time": "2022-01-13T06:01:50.002Z"
   },
   {
    "duration": 4,
    "start_time": "2022-01-13T06:01:50.083Z"
   },
   {
    "duration": 256,
    "start_time": "2022-01-13T06:01:50.089Z"
   },
   {
    "duration": 16,
    "start_time": "2022-01-13T06:01:50.346Z"
   },
   {
    "duration": 6,
    "start_time": "2022-01-13T06:01:50.363Z"
   },
   {
    "duration": 15,
    "start_time": "2022-01-13T06:01:50.370Z"
   },
   {
    "duration": 10,
    "start_time": "2022-01-13T06:01:50.387Z"
   },
   {
    "duration": 43,
    "start_time": "2022-01-13T06:01:50.399Z"
   },
   {
    "duration": 8,
    "start_time": "2022-01-13T06:01:50.444Z"
   },
   {
    "duration": 7,
    "start_time": "2022-01-13T06:01:50.454Z"
   },
   {
    "duration": 43,
    "start_time": "2022-01-13T06:01:50.463Z"
   },
   {
    "duration": 42,
    "start_time": "2022-01-13T06:01:50.508Z"
   },
   {
    "duration": 17,
    "start_time": "2022-01-13T06:01:50.552Z"
   },
   {
    "duration": 14,
    "start_time": "2022-01-13T06:01:50.571Z"
   },
   {
    "duration": 23,
    "start_time": "2022-01-13T06:01:50.587Z"
   },
   {
    "duration": 37,
    "start_time": "2022-01-13T06:01:50.611Z"
   },
   {
    "duration": 15,
    "start_time": "2022-01-13T06:01:50.649Z"
   },
   {
    "duration": 306,
    "start_time": "2022-01-13T06:01:50.665Z"
   },
   {
    "duration": 51,
    "start_time": "2022-01-13T06:01:50.921Z"
   },
   {
    "duration": 48,
    "start_time": "2022-01-13T06:01:50.925Z"
   },
   {
    "duration": 45,
    "start_time": "2022-01-13T06:01:50.929Z"
   },
   {
    "duration": 42,
    "start_time": "2022-01-13T06:01:50.933Z"
   },
   {
    "duration": 70,
    "start_time": "2022-01-13T06:03:22.653Z"
   },
   {
    "duration": 25,
    "start_time": "2022-01-13T06:03:25.505Z"
   },
   {
    "duration": 203,
    "start_time": "2022-01-13T06:17:41.821Z"
   },
   {
    "duration": 218,
    "start_time": "2022-01-13T06:17:45.378Z"
   },
   {
    "duration": 1160,
    "start_time": "2022-01-13T06:18:45.573Z"
   },
   {
    "duration": 372,
    "start_time": "2022-01-13T06:18:46.735Z"
   },
   {
    "duration": 3,
    "start_time": "2022-01-13T06:18:47.109Z"
   },
   {
    "duration": 47,
    "start_time": "2022-01-13T06:18:47.113Z"
   },
   {
    "duration": 341,
    "start_time": "2022-01-13T06:18:47.161Z"
   },
   {
    "duration": 227,
    "start_time": "2022-01-13T06:18:47.504Z"
   },
   {
    "duration": 165,
    "start_time": "2022-01-13T06:18:47.741Z"
   },
   {
    "duration": 46,
    "start_time": "2022-01-13T06:18:47.908Z"
   },
   {
    "duration": 57,
    "start_time": "2022-01-13T06:18:47.957Z"
   },
   {
    "duration": 3,
    "start_time": "2022-01-13T06:18:48.016Z"
   },
   {
    "duration": 282,
    "start_time": "2022-01-13T06:18:48.021Z"
   },
   {
    "duration": 37,
    "start_time": "2022-01-13T06:18:48.305Z"
   },
   {
    "duration": 6,
    "start_time": "2022-01-13T06:18:48.344Z"
   },
   {
    "duration": 12,
    "start_time": "2022-01-13T06:18:48.352Z"
   },
   {
    "duration": 11,
    "start_time": "2022-01-13T06:18:48.366Z"
   },
   {
    "duration": 10,
    "start_time": "2022-01-13T06:18:48.378Z"
   },
   {
    "duration": 9,
    "start_time": "2022-01-13T06:18:48.390Z"
   },
   {
    "duration": 48,
    "start_time": "2022-01-13T06:18:48.401Z"
   },
   {
    "duration": 45,
    "start_time": "2022-01-13T06:18:48.451Z"
   },
   {
    "duration": 43,
    "start_time": "2022-01-13T06:18:48.498Z"
   },
   {
    "duration": 19,
    "start_time": "2022-01-13T06:18:48.544Z"
   },
   {
    "duration": 14,
    "start_time": "2022-01-13T06:18:48.564Z"
   },
   {
    "duration": 25,
    "start_time": "2022-01-13T06:18:48.580Z"
   },
   {
    "duration": 42,
    "start_time": "2022-01-13T06:18:48.607Z"
   },
   {
    "duration": 15,
    "start_time": "2022-01-13T06:18:48.650Z"
   },
   {
    "duration": 296,
    "start_time": "2022-01-13T06:18:48.667Z"
   },
   {
    "duration": -84,
    "start_time": "2022-01-13T06:18:49.050Z"
   },
   {
    "duration": -92,
    "start_time": "2022-01-13T06:18:49.060Z"
   },
   {
    "duration": -94,
    "start_time": "2022-01-13T06:18:49.063Z"
   },
   {
    "duration": -96,
    "start_time": "2022-01-13T06:18:49.067Z"
   },
   {
    "duration": 23,
    "start_time": "2022-01-13T06:38:18.167Z"
   },
   {
    "duration": 26,
    "start_time": "2022-01-13T06:42:52.121Z"
   },
   {
    "duration": 12,
    "start_time": "2022-01-13T06:44:39.842Z"
   },
   {
    "duration": 1243,
    "start_time": "2022-01-13T06:45:04.693Z"
   },
   {
    "duration": 376,
    "start_time": "2022-01-13T06:45:05.938Z"
   },
   {
    "duration": 3,
    "start_time": "2022-01-13T06:45:06.316Z"
   },
   {
    "duration": 36,
    "start_time": "2022-01-13T06:45:06.320Z"
   },
   {
    "duration": 309,
    "start_time": "2022-01-13T06:45:06.358Z"
   },
   {
    "duration": 219,
    "start_time": "2022-01-13T06:45:06.669Z"
   },
   {
    "duration": 166,
    "start_time": "2022-01-13T06:45:06.889Z"
   },
   {
    "duration": 41,
    "start_time": "2022-01-13T06:45:07.056Z"
   },
   {
    "duration": 110,
    "start_time": "2022-01-13T06:45:07.101Z"
   },
   {
    "duration": 5,
    "start_time": "2022-01-13T06:45:07.213Z"
   },
   {
    "duration": 271,
    "start_time": "2022-01-13T06:45:07.220Z"
   },
   {
    "duration": 24,
    "start_time": "2022-01-13T06:45:07.493Z"
   },
   {
    "duration": 23,
    "start_time": "2022-01-13T06:45:07.518Z"
   },
   {
    "duration": 10,
    "start_time": "2022-01-13T06:45:07.543Z"
   },
   {
    "duration": 12,
    "start_time": "2022-01-13T06:45:07.554Z"
   },
   {
    "duration": 9,
    "start_time": "2022-01-13T06:45:07.568Z"
   },
   {
    "duration": 9,
    "start_time": "2022-01-13T06:45:07.578Z"
   },
   {
    "duration": 8,
    "start_time": "2022-01-13T06:45:07.588Z"
   },
   {
    "duration": 91,
    "start_time": "2022-01-13T06:45:07.598Z"
   },
   {
    "duration": 24,
    "start_time": "2022-01-13T06:45:07.691Z"
   },
   {
    "duration": 34,
    "start_time": "2022-01-13T06:45:07.717Z"
   },
   {
    "duration": 16,
    "start_time": "2022-01-13T06:45:07.753Z"
   },
   {
    "duration": 26,
    "start_time": "2022-01-13T06:45:07.771Z"
   },
   {
    "duration": 13,
    "start_time": "2022-01-13T06:45:07.798Z"
   },
   {
    "duration": 38,
    "start_time": "2022-01-13T06:45:07.812Z"
   },
   {
    "duration": 314,
    "start_time": "2022-01-13T06:45:07.852Z"
   },
   {
    "duration": 124,
    "start_time": "2022-01-13T06:45:08.044Z"
   },
   {
    "duration": 121,
    "start_time": "2022-01-13T06:45:08.048Z"
   },
   {
    "duration": 119,
    "start_time": "2022-01-13T06:45:08.052Z"
   },
   {
    "duration": 116,
    "start_time": "2022-01-13T06:45:08.056Z"
   },
   {
    "duration": 14,
    "start_time": "2022-01-13T06:45:52.529Z"
   },
   {
    "duration": 15,
    "start_time": "2022-01-13T06:46:05.472Z"
   },
   {
    "duration": 10,
    "start_time": "2022-01-13T06:46:26.776Z"
   },
   {
    "duration": 1285,
    "start_time": "2022-01-13T06:47:32.159Z"
   },
   {
    "duration": 401,
    "start_time": "2022-01-13T06:47:33.446Z"
   },
   {
    "duration": 3,
    "start_time": "2022-01-13T06:47:33.849Z"
   },
   {
    "duration": 82,
    "start_time": "2022-01-13T06:47:33.854Z"
   },
   {
    "duration": 313,
    "start_time": "2022-01-13T06:47:33.938Z"
   },
   {
    "duration": 241,
    "start_time": "2022-01-13T06:47:34.253Z"
   },
   {
    "duration": 177,
    "start_time": "2022-01-13T06:47:34.496Z"
   },
   {
    "duration": 34,
    "start_time": "2022-01-13T06:47:34.675Z"
   },
   {
    "duration": 95,
    "start_time": "2022-01-13T06:47:34.712Z"
   },
   {
    "duration": 4,
    "start_time": "2022-01-13T06:47:34.809Z"
   },
   {
    "duration": 310,
    "start_time": "2022-01-13T06:47:34.814Z"
   },
   {
    "duration": 24,
    "start_time": "2022-01-13T06:47:35.141Z"
   },
   {
    "duration": 30,
    "start_time": "2022-01-13T06:47:35.166Z"
   },
   {
    "duration": 58,
    "start_time": "2022-01-13T06:47:35.198Z"
   },
   {
    "duration": 41,
    "start_time": "2022-01-13T06:47:35.257Z"
   },
   {
    "duration": 54,
    "start_time": "2022-01-13T06:47:35.299Z"
   },
   {
    "duration": 36,
    "start_time": "2022-01-13T06:47:35.354Z"
   },
   {
    "duration": 64,
    "start_time": "2022-01-13T06:47:35.391Z"
   },
   {
    "duration": 68,
    "start_time": "2022-01-13T06:47:35.456Z"
   },
   {
    "duration": 22,
    "start_time": "2022-01-13T06:47:35.525Z"
   },
   {
    "duration": 52,
    "start_time": "2022-01-13T06:47:35.549Z"
   },
   {
    "duration": 61,
    "start_time": "2022-01-13T06:47:35.603Z"
   },
   {
    "duration": 90,
    "start_time": "2022-01-13T06:47:35.667Z"
   },
   {
    "duration": 41,
    "start_time": "2022-01-13T06:47:35.759Z"
   },
   {
    "duration": 74,
    "start_time": "2022-01-13T06:47:35.801Z"
   },
   {
    "duration": 367,
    "start_time": "2022-01-13T06:47:35.876Z"
   },
   {
    "duration": 29,
    "start_time": "2022-01-13T06:47:36.216Z"
   },
   {
    "duration": 26,
    "start_time": "2022-01-13T06:47:36.219Z"
   },
   {
    "duration": 23,
    "start_time": "2022-01-13T06:47:36.223Z"
   },
   {
    "duration": 20,
    "start_time": "2022-01-13T06:47:36.227Z"
   },
   {
    "duration": 13,
    "start_time": "2022-01-13T06:47:56.122Z"
   },
   {
    "duration": 12,
    "start_time": "2022-01-13T06:48:11.307Z"
   },
   {
    "duration": 1219,
    "start_time": "2022-01-13T06:48:28.509Z"
   },
   {
    "duration": 384,
    "start_time": "2022-01-13T06:48:29.730Z"
   },
   {
    "duration": 3,
    "start_time": "2022-01-13T06:48:30.116Z"
   },
   {
    "duration": 34,
    "start_time": "2022-01-13T06:48:30.121Z"
   },
   {
    "duration": 305,
    "start_time": "2022-01-13T06:48:30.157Z"
   },
   {
    "duration": 225,
    "start_time": "2022-01-13T06:48:30.464Z"
   },
   {
    "duration": 172,
    "start_time": "2022-01-13T06:48:30.691Z"
   },
   {
    "duration": 33,
    "start_time": "2022-01-13T06:48:30.865Z"
   },
   {
    "duration": 77,
    "start_time": "2022-01-13T06:48:30.901Z"
   },
   {
    "duration": 3,
    "start_time": "2022-01-13T06:48:30.981Z"
   },
   {
    "duration": 259,
    "start_time": "2022-01-13T06:48:30.986Z"
   },
   {
    "duration": 24,
    "start_time": "2022-01-13T06:48:31.246Z"
   },
   {
    "duration": 6,
    "start_time": "2022-01-13T06:48:31.271Z"
   },
   {
    "duration": 27,
    "start_time": "2022-01-13T06:48:31.279Z"
   },
   {
    "duration": 27,
    "start_time": "2022-01-13T06:48:31.308Z"
   },
   {
    "duration": 13,
    "start_time": "2022-01-13T06:48:31.336Z"
   },
   {
    "duration": 12,
    "start_time": "2022-01-13T06:48:31.351Z"
   },
   {
    "duration": 12,
    "start_time": "2022-01-13T06:48:31.364Z"
   },
   {
    "duration": 51,
    "start_time": "2022-01-13T06:48:31.378Z"
   },
   {
    "duration": 22,
    "start_time": "2022-01-13T06:48:31.431Z"
   },
   {
    "duration": 19,
    "start_time": "2022-01-13T06:48:31.454Z"
   },
   {
    "duration": 17,
    "start_time": "2022-01-13T06:48:31.475Z"
   },
   {
    "duration": 49,
    "start_time": "2022-01-13T06:48:31.494Z"
   },
   {
    "duration": 14,
    "start_time": "2022-01-13T06:48:31.544Z"
   },
   {
    "duration": 18,
    "start_time": "2022-01-13T06:48:31.560Z"
   },
   {
    "duration": 297,
    "start_time": "2022-01-13T06:48:31.580Z"
   },
   {
    "duration": -8,
    "start_time": "2022-01-13T06:48:31.888Z"
   },
   {
    "duration": -15,
    "start_time": "2022-01-13T06:48:31.897Z"
   },
   {
    "duration": -21,
    "start_time": "2022-01-13T06:48:31.904Z"
   },
   {
    "duration": -31,
    "start_time": "2022-01-13T06:48:31.915Z"
   },
   {
    "duration": 21,
    "start_time": "2022-01-13T06:49:06.159Z"
   },
   {
    "duration": 476,
    "start_time": "2022-01-13T06:49:36.291Z"
   },
   {
    "duration": 16,
    "start_time": "2022-01-13T06:50:17.750Z"
   },
   {
    "duration": 21,
    "start_time": "2022-01-13T06:50:37.159Z"
   },
   {
    "duration": 1277,
    "start_time": "2022-01-13T15:29:45.565Z"
   },
   {
    "duration": 405,
    "start_time": "2022-01-13T15:29:46.845Z"
   },
   {
    "duration": 4,
    "start_time": "2022-01-13T15:29:47.252Z"
   },
   {
    "duration": 34,
    "start_time": "2022-01-13T15:29:47.258Z"
   },
   {
    "duration": 326,
    "start_time": "2022-01-13T15:29:47.294Z"
   },
   {
    "duration": 250,
    "start_time": "2022-01-13T15:29:47.622Z"
   },
   {
    "duration": 172,
    "start_time": "2022-01-13T15:29:47.874Z"
   },
   {
    "duration": 37,
    "start_time": "2022-01-13T15:29:48.050Z"
   },
   {
    "duration": 89,
    "start_time": "2022-01-13T15:29:48.091Z"
   },
   {
    "duration": 5,
    "start_time": "2022-01-13T15:29:48.182Z"
   },
   {
    "duration": 289,
    "start_time": "2022-01-13T15:29:48.189Z"
   },
   {
    "duration": 26,
    "start_time": "2022-01-13T15:29:48.480Z"
   },
   {
    "duration": 6,
    "start_time": "2022-01-13T15:29:48.508Z"
   },
   {
    "duration": 36,
    "start_time": "2022-01-13T15:29:48.516Z"
   },
   {
    "duration": 17,
    "start_time": "2022-01-13T15:29:48.553Z"
   },
   {
    "duration": 9,
    "start_time": "2022-01-13T15:29:48.571Z"
   },
   {
    "duration": 8,
    "start_time": "2022-01-13T15:29:48.581Z"
   },
   {
    "duration": 8,
    "start_time": "2022-01-13T15:29:48.591Z"
   },
   {
    "duration": 77,
    "start_time": "2022-01-13T15:29:48.600Z"
   },
   {
    "duration": 21,
    "start_time": "2022-01-13T15:29:48.679Z"
   },
   {
    "duration": 26,
    "start_time": "2022-01-13T15:29:48.701Z"
   },
   {
    "duration": 26,
    "start_time": "2022-01-13T15:29:48.729Z"
   },
   {
    "duration": 41,
    "start_time": "2022-01-13T15:29:48.757Z"
   },
   {
    "duration": 19,
    "start_time": "2022-01-13T15:29:48.800Z"
   },
   {
    "duration": 44,
    "start_time": "2022-01-13T15:29:48.820Z"
   },
   {
    "duration": 428,
    "start_time": "2022-01-13T15:29:48.865Z"
   },
   {
    "duration": 124,
    "start_time": "2022-01-13T15:29:49.171Z"
   },
   {
    "duration": 122,
    "start_time": "2022-01-13T15:29:49.175Z"
   },
   {
    "duration": 119,
    "start_time": "2022-01-13T15:29:49.179Z"
   },
   {
    "duration": 117,
    "start_time": "2022-01-13T15:29:49.182Z"
   },
   {
    "duration": 211,
    "start_time": "2022-01-13T15:50:32.492Z"
   },
   {
    "duration": 11,
    "start_time": "2022-01-13T15:52:59.225Z"
   },
   {
    "duration": 224,
    "start_time": "2022-01-13T15:54:55.731Z"
   },
   {
    "duration": 1349,
    "start_time": "2022-01-13T15:57:09.624Z"
   },
   {
    "duration": 429,
    "start_time": "2022-01-13T15:57:10.975Z"
   },
   {
    "duration": 4,
    "start_time": "2022-01-13T15:57:11.406Z"
   },
   {
    "duration": 39,
    "start_time": "2022-01-13T15:57:11.412Z"
   },
   {
    "duration": 342,
    "start_time": "2022-01-13T15:57:11.452Z"
   },
   {
    "duration": 235,
    "start_time": "2022-01-13T15:57:11.795Z"
   },
   {
    "duration": 186,
    "start_time": "2022-01-13T15:57:12.041Z"
   },
   {
    "duration": 37,
    "start_time": "2022-01-13T15:57:12.241Z"
   },
   {
    "duration": 87,
    "start_time": "2022-01-13T15:57:12.281Z"
   },
   {
    "duration": 4,
    "start_time": "2022-01-13T15:57:12.370Z"
   },
   {
    "duration": 285,
    "start_time": "2022-01-13T15:57:12.376Z"
   },
   {
    "duration": 27,
    "start_time": "2022-01-13T15:57:12.663Z"
   },
   {
    "duration": 7,
    "start_time": "2022-01-13T15:57:12.692Z"
   },
   {
    "duration": 40,
    "start_time": "2022-01-13T15:57:12.701Z"
   },
   {
    "duration": 12,
    "start_time": "2022-01-13T15:57:12.743Z"
   },
   {
    "duration": 10,
    "start_time": "2022-01-13T15:57:12.757Z"
   },
   {
    "duration": 10,
    "start_time": "2022-01-13T15:57:12.769Z"
   },
   {
    "duration": 9,
    "start_time": "2022-01-13T15:57:12.781Z"
   },
   {
    "duration": 82,
    "start_time": "2022-01-13T15:57:12.792Z"
   },
   {
    "duration": 26,
    "start_time": "2022-01-13T15:57:12.876Z"
   },
   {
    "duration": 37,
    "start_time": "2022-01-13T15:57:12.904Z"
   },
   {
    "duration": 19,
    "start_time": "2022-01-13T15:57:12.943Z"
   },
   {
    "duration": 28,
    "start_time": "2022-01-13T15:57:12.965Z"
   },
   {
    "duration": 15,
    "start_time": "2022-01-13T15:57:12.995Z"
   },
   {
    "duration": 20,
    "start_time": "2022-01-13T15:57:13.042Z"
   },
   {
    "duration": 12,
    "start_time": "2022-01-13T15:57:13.064Z"
   },
   {
    "duration": 1312,
    "start_time": "2022-01-13T15:58:50.451Z"
   },
   {
    "duration": 424,
    "start_time": "2022-01-13T15:58:51.765Z"
   },
   {
    "duration": 3,
    "start_time": "2022-01-13T15:58:52.192Z"
   },
   {
    "duration": 35,
    "start_time": "2022-01-13T15:58:52.197Z"
   },
   {
    "duration": 328,
    "start_time": "2022-01-13T15:58:52.233Z"
   },
   {
    "duration": 243,
    "start_time": "2022-01-13T15:58:52.562Z"
   },
   {
    "duration": 202,
    "start_time": "2022-01-13T15:58:52.806Z"
   },
   {
    "duration": 51,
    "start_time": "2022-01-13T15:58:53.010Z"
   },
   {
    "duration": 76,
    "start_time": "2022-01-13T15:58:53.065Z"
   },
   {
    "duration": 4,
    "start_time": "2022-01-13T15:58:53.144Z"
   },
   {
    "duration": 273,
    "start_time": "2022-01-13T15:58:53.150Z"
   },
   {
    "duration": 34,
    "start_time": "2022-01-13T15:58:53.424Z"
   },
   {
    "duration": 7,
    "start_time": "2022-01-13T15:58:53.460Z"
   },
   {
    "duration": 16,
    "start_time": "2022-01-13T15:58:53.468Z"
   },
   {
    "duration": 24,
    "start_time": "2022-01-13T15:58:53.485Z"
   },
   {
    "duration": 13,
    "start_time": "2022-01-13T15:58:53.511Z"
   },
   {
    "duration": 24,
    "start_time": "2022-01-13T15:58:53.526Z"
   },
   {
    "duration": 8,
    "start_time": "2022-01-13T15:58:53.552Z"
   },
   {
    "duration": 48,
    "start_time": "2022-01-13T15:58:53.562Z"
   },
   {
    "duration": 48,
    "start_time": "2022-01-13T15:58:53.612Z"
   },
   {
    "duration": 21,
    "start_time": "2022-01-13T15:58:53.662Z"
   },
   {
    "duration": 17,
    "start_time": "2022-01-13T15:58:53.685Z"
   },
   {
    "duration": 52,
    "start_time": "2022-01-13T15:58:53.704Z"
   },
   {
    "duration": 15,
    "start_time": "2022-01-13T15:58:53.758Z"
   },
   {
    "duration": 19,
    "start_time": "2022-01-13T15:58:53.775Z"
   },
   {
    "duration": 10,
    "start_time": "2022-01-13T15:58:53.796Z"
   },
   {
    "duration": 72,
    "start_time": "2022-01-13T16:02:01.024Z"
   },
   {
    "duration": 9,
    "start_time": "2022-01-13T16:02:01.089Z"
   },
   {
    "duration": 6,
    "start_time": "2022-01-13T16:02:01.093Z"
   },
   {
    "duration": 3,
    "start_time": "2022-01-13T16:02:01.097Z"
   },
   {
    "duration": -1,
    "start_time": "2022-01-13T16:02:01.102Z"
   },
   {
    "duration": -4,
    "start_time": "2022-01-13T16:02:01.106Z"
   },
   {
    "duration": -5,
    "start_time": "2022-01-13T16:02:01.110Z"
   },
   {
    "duration": -9,
    "start_time": "2022-01-13T16:02:01.114Z"
   },
   {
    "duration": 1792,
    "start_time": "2022-01-13T16:09:14.821Z"
   },
   {
    "duration": 416,
    "start_time": "2022-01-13T16:09:16.615Z"
   },
   {
    "duration": 3,
    "start_time": "2022-01-13T16:09:17.033Z"
   },
   {
    "duration": 35,
    "start_time": "2022-01-13T16:09:17.038Z"
   },
   {
    "duration": 397,
    "start_time": "2022-01-13T16:09:17.075Z"
   },
   {
    "duration": 247,
    "start_time": "2022-01-13T16:09:17.473Z"
   },
   {
    "duration": 180,
    "start_time": "2022-01-13T16:09:17.722Z"
   },
   {
    "duration": 55,
    "start_time": "2022-01-13T16:09:17.904Z"
   },
   {
    "duration": 62,
    "start_time": "2022-01-13T16:09:17.962Z"
   },
   {
    "duration": 18,
    "start_time": "2022-01-13T16:09:18.026Z"
   },
   {
    "duration": 268,
    "start_time": "2022-01-13T16:09:18.046Z"
   },
   {
    "duration": 38,
    "start_time": "2022-01-13T16:09:18.316Z"
   },
   {
    "duration": 7,
    "start_time": "2022-01-13T16:09:18.356Z"
   },
   {
    "duration": 25,
    "start_time": "2022-01-13T16:09:18.365Z"
   },
   {
    "duration": 22,
    "start_time": "2022-01-13T16:09:18.392Z"
   },
   {
    "duration": 13,
    "start_time": "2022-01-13T16:09:18.416Z"
   },
   {
    "duration": 19,
    "start_time": "2022-01-13T16:09:18.431Z"
   },
   {
    "duration": 10,
    "start_time": "2022-01-13T16:09:18.452Z"
   },
   {
    "duration": 50,
    "start_time": "2022-01-13T16:09:18.463Z"
   },
   {
    "duration": 45,
    "start_time": "2022-01-13T16:09:18.515Z"
   },
   {
    "duration": 19,
    "start_time": "2022-01-13T16:09:18.561Z"
   },
   {
    "duration": 16,
    "start_time": "2022-01-13T16:09:18.582Z"
   },
   {
    "duration": 50,
    "start_time": "2022-01-13T16:09:18.599Z"
   },
   {
    "duration": 13,
    "start_time": "2022-01-13T16:09:18.650Z"
   },
   {
    "duration": 17,
    "start_time": "2022-01-13T16:09:18.665Z"
   },
   {
    "duration": 8,
    "start_time": "2022-01-13T16:09:18.684Z"
   },
   {
    "duration": 9,
    "start_time": "2022-01-13T16:09:18.696Z"
   },
   {
    "duration": 617896,
    "start_time": "2022-01-13T16:09:18.706Z"
   },
   {
    "duration": 59,
    "start_time": "2022-01-13T16:19:36.604Z"
   },
   {
    "duration": -129,
    "start_time": "2022-01-13T16:19:36.794Z"
   },
   {
    "duration": -132,
    "start_time": "2022-01-13T16:19:36.798Z"
   },
   {
    "duration": -135,
    "start_time": "2022-01-13T16:19:36.802Z"
   },
   {
    "duration": -137,
    "start_time": "2022-01-13T16:19:36.805Z"
   },
   {
    "duration": -145,
    "start_time": "2022-01-13T16:19:36.814Z"
   },
   {
    "duration": 363,
    "start_time": "2022-01-13T16:39:02.746Z"
   },
   {
    "duration": 8,
    "start_time": "2022-01-13T16:39:14.265Z"
   },
   {
    "duration": 222,
    "start_time": "2022-01-13T16:42:45.993Z"
   },
   {
    "duration": 25,
    "start_time": "2022-01-13T16:43:44.324Z"
   },
   {
    "duration": 9,
    "start_time": "2022-01-13T16:49:14.660Z"
   },
   {
    "duration": 1335,
    "start_time": "2022-01-15T10:03:39.460Z"
   },
   {
    "duration": 409,
    "start_time": "2022-01-15T10:03:40.797Z"
   },
   {
    "duration": 3,
    "start_time": "2022-01-15T10:03:41.208Z"
   },
   {
    "duration": 59,
    "start_time": "2022-01-15T10:03:41.212Z"
   },
   {
    "duration": 315,
    "start_time": "2022-01-15T10:03:41.273Z"
   },
   {
    "duration": 238,
    "start_time": "2022-01-15T10:03:41.590Z"
   },
   {
    "duration": 182,
    "start_time": "2022-01-15T10:03:41.830Z"
   },
   {
    "duration": 50,
    "start_time": "2022-01-15T10:03:42.014Z"
   },
   {
    "duration": 65,
    "start_time": "2022-01-15T10:03:42.066Z"
   },
   {
    "duration": 4,
    "start_time": "2022-01-15T10:03:42.132Z"
   },
   {
    "duration": 280,
    "start_time": "2022-01-15T10:03:42.138Z"
   },
   {
    "duration": 24,
    "start_time": "2022-01-15T10:03:42.420Z"
   },
   {
    "duration": 19,
    "start_time": "2022-01-15T10:03:42.446Z"
   },
   {
    "duration": 31,
    "start_time": "2022-01-15T10:03:42.467Z"
   },
   {
    "duration": 36,
    "start_time": "2022-01-15T10:03:42.500Z"
   },
   {
    "duration": 32,
    "start_time": "2022-01-15T10:03:42.537Z"
   },
   {
    "duration": 36,
    "start_time": "2022-01-15T10:03:42.571Z"
   },
   {
    "duration": 32,
    "start_time": "2022-01-15T10:03:42.608Z"
   },
   {
    "duration": 36,
    "start_time": "2022-01-15T10:03:42.642Z"
   },
   {
    "duration": 29,
    "start_time": "2022-01-15T10:03:42.679Z"
   },
   {
    "duration": 65,
    "start_time": "2022-01-15T10:03:42.709Z"
   },
   {
    "duration": 22,
    "start_time": "2022-01-15T10:03:42.775Z"
   },
   {
    "duration": 30,
    "start_time": "2022-01-15T10:03:42.800Z"
   },
   {
    "duration": 34,
    "start_time": "2022-01-15T10:03:42.832Z"
   },
   {
    "duration": 36,
    "start_time": "2022-01-15T10:03:42.867Z"
   },
   {
    "duration": 22,
    "start_time": "2022-01-15T10:03:42.905Z"
   },
   {
    "duration": 39,
    "start_time": "2022-01-15T10:03:42.929Z"
   },
   {
    "duration": 31,
    "start_time": "2022-01-15T10:03:42.970Z"
   },
   {
    "duration": 40,
    "start_time": "2022-01-15T10:03:43.003Z"
   },
   {
    "duration": 1329,
    "start_time": "2022-01-15T10:06:31.305Z"
   },
   {
    "duration": 395,
    "start_time": "2022-01-15T10:06:32.636Z"
   },
   {
    "duration": 3,
    "start_time": "2022-01-15T10:06:33.033Z"
   },
   {
    "duration": 50,
    "start_time": "2022-01-15T10:06:33.039Z"
   },
   {
    "duration": 339,
    "start_time": "2022-01-15T10:06:33.091Z"
   },
   {
    "duration": 244,
    "start_time": "2022-01-15T10:06:33.432Z"
   },
   {
    "duration": 188,
    "start_time": "2022-01-15T10:06:33.679Z"
   },
   {
    "duration": 33,
    "start_time": "2022-01-15T10:06:33.870Z"
   },
   {
    "duration": 84,
    "start_time": "2022-01-15T10:06:33.905Z"
   },
   {
    "duration": 4,
    "start_time": "2022-01-15T10:06:33.991Z"
   },
   {
    "duration": 289,
    "start_time": "2022-01-15T10:06:33.997Z"
   },
   {
    "duration": 27,
    "start_time": "2022-01-15T10:06:34.287Z"
   },
   {
    "duration": 7,
    "start_time": "2022-01-15T10:06:34.316Z"
   },
   {
    "duration": 36,
    "start_time": "2022-01-15T10:06:34.324Z"
   },
   {
    "duration": 8,
    "start_time": "2022-01-15T10:06:34.362Z"
   },
   {
    "duration": 16,
    "start_time": "2022-01-15T10:06:34.372Z"
   },
   {
    "duration": 10,
    "start_time": "2022-01-15T10:06:34.390Z"
   },
   {
    "duration": 10,
    "start_time": "2022-01-15T10:06:34.401Z"
   },
   {
    "duration": 9,
    "start_time": "2022-01-15T10:06:34.412Z"
   },
   {
    "duration": 39,
    "start_time": "2022-01-15T10:06:34.423Z"
   },
   {
    "duration": 48,
    "start_time": "2022-01-15T10:06:34.463Z"
   },
   {
    "duration": 21,
    "start_time": "2022-01-15T10:06:34.513Z"
   },
   {
    "duration": 34,
    "start_time": "2022-01-15T10:06:34.537Z"
   },
   {
    "duration": 14,
    "start_time": "2022-01-15T10:06:34.573Z"
   },
   {
    "duration": 33,
    "start_time": "2022-01-15T10:06:34.588Z"
   },
   {
    "duration": 42,
    "start_time": "2022-01-15T10:06:34.622Z"
   },
   {
    "duration": 19,
    "start_time": "2022-01-15T10:06:34.666Z"
   },
   {
    "duration": 14,
    "start_time": "2022-01-15T10:06:34.687Z"
   },
   {
    "duration": 9,
    "start_time": "2022-01-15T10:06:34.703Z"
   },
   {
    "duration": 278743,
    "start_time": "2022-01-15T10:06:34.713Z"
   },
   {
    "duration": 89,
    "start_time": "2022-01-15T10:11:13.369Z"
   },
   {
    "duration": 85,
    "start_time": "2022-01-15T10:11:13.374Z"
   },
   {
    "duration": 82,
    "start_time": "2022-01-15T10:11:13.378Z"
   },
   {
    "duration": 78,
    "start_time": "2022-01-15T10:11:13.383Z"
   },
   {
    "duration": 75,
    "start_time": "2022-01-15T10:11:13.387Z"
   },
   {
    "duration": 71,
    "start_time": "2022-01-15T10:11:13.392Z"
   },
   {
    "duration": 70,
    "start_time": "2022-01-15T10:11:13.397Z"
   },
   {
    "duration": 1299,
    "start_time": "2022-01-15T10:11:25.090Z"
   },
   {
    "duration": 389,
    "start_time": "2022-01-15T10:11:26.391Z"
   },
   {
    "duration": 3,
    "start_time": "2022-01-15T10:11:26.782Z"
   },
   {
    "duration": 58,
    "start_time": "2022-01-15T10:11:26.787Z"
   },
   {
    "duration": 326,
    "start_time": "2022-01-15T10:11:26.847Z"
   },
   {
    "duration": 242,
    "start_time": "2022-01-15T10:11:27.175Z"
   },
   {
    "duration": 183,
    "start_time": "2022-01-15T10:11:27.419Z"
   },
   {
    "duration": 37,
    "start_time": "2022-01-15T10:11:27.604Z"
   },
   {
    "duration": 79,
    "start_time": "2022-01-15T10:11:27.644Z"
   },
   {
    "duration": 6,
    "start_time": "2022-01-15T10:11:27.725Z"
   },
   {
    "duration": 294,
    "start_time": "2022-01-15T10:11:27.732Z"
   },
   {
    "duration": 37,
    "start_time": "2022-01-15T10:11:28.028Z"
   },
   {
    "duration": 6,
    "start_time": "2022-01-15T10:11:28.067Z"
   },
   {
    "duration": 25,
    "start_time": "2022-01-15T10:11:28.075Z"
   },
   {
    "duration": 12,
    "start_time": "2022-01-15T10:11:28.102Z"
   },
   {
    "duration": 32,
    "start_time": "2022-01-15T10:11:28.116Z"
   },
   {
    "duration": 20,
    "start_time": "2022-01-15T10:11:28.149Z"
   },
   {
    "duration": 18,
    "start_time": "2022-01-15T10:11:28.170Z"
   },
   {
    "duration": 22,
    "start_time": "2022-01-15T10:11:28.189Z"
   },
   {
    "duration": 22,
    "start_time": "2022-01-15T10:11:28.213Z"
   },
   {
    "duration": 52,
    "start_time": "2022-01-15T10:11:28.236Z"
   },
   {
    "duration": 22,
    "start_time": "2022-01-15T10:11:28.290Z"
   },
   {
    "duration": 19,
    "start_time": "2022-01-15T10:11:28.314Z"
   },
   {
    "duration": 34,
    "start_time": "2022-01-15T10:11:28.335Z"
   },
   {
    "duration": 43,
    "start_time": "2022-01-15T10:11:28.371Z"
   },
   {
    "duration": 17,
    "start_time": "2022-01-15T10:11:28.416Z"
   },
   {
    "duration": 36,
    "start_time": "2022-01-15T10:11:28.436Z"
   },
   {
    "duration": 6,
    "start_time": "2022-01-15T10:11:28.474Z"
   },
   {
    "duration": 75,
    "start_time": "2022-01-15T10:11:28.482Z"
   },
   {
    "duration": 112,
    "start_time": "2022-01-15T10:11:28.447Z"
   },
   {
    "duration": 110,
    "start_time": "2022-01-15T10:11:28.450Z"
   },
   {
    "duration": 107,
    "start_time": "2022-01-15T10:11:28.453Z"
   },
   {
    "duration": 107,
    "start_time": "2022-01-15T10:11:28.455Z"
   },
   {
    "duration": 104,
    "start_time": "2022-01-15T10:11:28.458Z"
   },
   {
    "duration": 103,
    "start_time": "2022-01-15T10:11:28.460Z"
   },
   {
    "duration": 102,
    "start_time": "2022-01-15T10:11:28.462Z"
   },
   {
    "duration": 100,
    "start_time": "2022-01-15T10:11:28.465Z"
   },
   {
    "duration": 99,
    "start_time": "2022-01-15T10:11:28.467Z"
   },
   {
    "duration": 392,
    "start_time": "2022-01-15T10:18:01.555Z"
   },
   {
    "duration": 327,
    "start_time": "2022-01-15T10:19:12.595Z"
   },
   {
    "duration": 559,
    "start_time": "2022-01-15T10:19:38.076Z"
   },
   {
    "duration": 70,
    "start_time": "2022-01-15T10:19:54.811Z"
   },
   {
    "duration": 561,
    "start_time": "2022-01-15T10:20:15.395Z"
   },
   {
    "duration": 218,
    "start_time": "2022-01-15T10:23:32.057Z"
   },
   {
    "duration": 70,
    "start_time": "2022-01-15T10:29:24.022Z"
   },
   {
    "duration": 239,
    "start_time": "2022-01-15T10:29:43.371Z"
   },
   {
    "duration": 239,
    "start_time": "2022-01-15T10:32:02.680Z"
   },
   {
    "duration": 248,
    "start_time": "2022-01-15T10:33:29.922Z"
   },
   {
    "duration": 232,
    "start_time": "2022-01-15T10:35:10.779Z"
   },
   {
    "duration": 11,
    "start_time": "2022-01-15T10:35:51.511Z"
   },
   {
    "duration": 41,
    "start_time": "2022-01-15T10:39:04.879Z"
   },
   {
    "duration": 213,
    "start_time": "2022-01-15T10:44:06.247Z"
   },
   {
    "duration": 218,
    "start_time": "2022-01-15T10:44:41.835Z"
   },
   {
    "duration": 206,
    "start_time": "2022-01-15T10:46:27.656Z"
   },
   {
    "duration": 77,
    "start_time": "2022-01-15T10:47:11.618Z"
   },
   {
    "duration": 315,
    "start_time": "2022-01-15T10:47:17.804Z"
   },
   {
    "duration": 5,
    "start_time": "2022-01-15T10:49:01.426Z"
   },
   {
    "duration": 243,
    "start_time": "2022-01-15T10:50:56.765Z"
   },
   {
    "duration": 9,
    "start_time": "2022-01-15T10:52:44.733Z"
   },
   {
    "duration": 24,
    "start_time": "2022-01-15T10:53:05.065Z"
   },
   {
    "duration": 48,
    "start_time": "2022-01-15T10:53:40.253Z"
   },
   {
    "duration": 1318,
    "start_time": "2022-01-15T10:55:57.458Z"
   },
   {
    "duration": 416,
    "start_time": "2022-01-15T10:55:58.778Z"
   },
   {
    "duration": 3,
    "start_time": "2022-01-15T10:55:59.197Z"
   },
   {
    "duration": 42,
    "start_time": "2022-01-15T10:55:59.203Z"
   },
   {
    "duration": 356,
    "start_time": "2022-01-15T10:55:59.248Z"
   },
   {
    "duration": 277,
    "start_time": "2022-01-15T10:55:59.606Z"
   },
   {
    "duration": 230,
    "start_time": "2022-01-15T10:55:59.885Z"
   },
   {
    "duration": 47,
    "start_time": "2022-01-15T10:56:00.118Z"
   },
   {
    "duration": 71,
    "start_time": "2022-01-15T10:56:00.167Z"
   },
   {
    "duration": 21,
    "start_time": "2022-01-15T10:56:00.240Z"
   },
   {
    "duration": 314,
    "start_time": "2022-01-15T10:56:00.263Z"
   },
   {
    "duration": 26,
    "start_time": "2022-01-15T10:56:00.579Z"
   },
   {
    "duration": 17,
    "start_time": "2022-01-15T10:56:00.607Z"
   },
   {
    "duration": 48,
    "start_time": "2022-01-15T10:56:00.626Z"
   },
   {
    "duration": 12,
    "start_time": "2022-01-15T10:56:00.675Z"
   },
   {
    "duration": 38,
    "start_time": "2022-01-15T10:56:00.688Z"
   },
   {
    "duration": 32,
    "start_time": "2022-01-15T10:56:00.727Z"
   },
   {
    "duration": 35,
    "start_time": "2022-01-15T10:56:00.761Z"
   },
   {
    "duration": 25,
    "start_time": "2022-01-15T10:56:00.798Z"
   },
   {
    "duration": 34,
    "start_time": "2022-01-15T10:56:00.824Z"
   },
   {
    "duration": 63,
    "start_time": "2022-01-15T10:56:00.860Z"
   },
   {
    "duration": 25,
    "start_time": "2022-01-15T10:56:00.925Z"
   },
   {
    "duration": 26,
    "start_time": "2022-01-15T10:56:00.954Z"
   },
   {
    "duration": 37,
    "start_time": "2022-01-15T10:56:00.983Z"
   },
   {
    "duration": 39,
    "start_time": "2022-01-15T10:56:01.022Z"
   },
   {
    "duration": 18,
    "start_time": "2022-01-15T10:56:01.062Z"
   },
   {
    "duration": 44,
    "start_time": "2022-01-15T10:56:01.082Z"
   },
   {
    "duration": 28,
    "start_time": "2022-01-15T10:56:01.128Z"
   },
   {
    "duration": 72,
    "start_time": "2022-01-15T10:56:01.157Z"
   },
   {
    "duration": 19,
    "start_time": "2022-01-15T10:56:01.231Z"
   },
   {
    "duration": 41,
    "start_time": "2022-01-15T10:56:01.252Z"
   },
   {
    "duration": 650568,
    "start_time": "2022-01-15T10:56:01.295Z"
   },
   {
    "duration": 63,
    "start_time": "2022-01-15T11:06:51.865Z"
   },
   {
    "duration": 72,
    "start_time": "2022-01-15T11:06:51.858Z"
   },
   {
    "duration": 69,
    "start_time": "2022-01-15T11:06:51.862Z"
   },
   {
    "duration": 66,
    "start_time": "2022-01-15T11:06:51.866Z"
   },
   {
    "duration": 64,
    "start_time": "2022-01-15T11:06:51.869Z"
   },
   {
    "duration": 61,
    "start_time": "2022-01-15T11:06:51.873Z"
   },
   {
    "duration": 59,
    "start_time": "2022-01-15T11:06:51.878Z"
   },
   {
    "duration": 324,
    "start_time": "2022-01-15T11:08:58.467Z"
   },
   {
    "duration": 338,
    "start_time": "2022-01-15T11:09:11.815Z"
   },
   {
    "duration": 346,
    "start_time": "2022-01-15T11:09:27.154Z"
   },
   {
    "duration": 27,
    "start_time": "2022-01-15T11:10:13.327Z"
   },
   {
    "duration": 12,
    "start_time": "2022-01-15T11:10:43.116Z"
   },
   {
    "duration": 344,
    "start_time": "2022-01-15T11:12:59.491Z"
   },
   {
    "duration": 5,
    "start_time": "2022-01-15T11:16:14.439Z"
   },
   {
    "duration": 10,
    "start_time": "2022-01-15T11:16:26.859Z"
   },
   {
    "duration": 211,
    "start_time": "2022-01-15T11:17:40.924Z"
   },
   {
    "duration": 6,
    "start_time": "2022-01-15T11:17:46.571Z"
   },
   {
    "duration": 181,
    "start_time": "2022-01-15T11:18:01.400Z"
   },
   {
    "duration": 274,
    "start_time": "2022-01-15T11:18:09.536Z"
   },
   {
    "duration": 541,
    "start_time": "2022-01-15T11:18:13.886Z"
   },
   {
    "duration": 218,
    "start_time": "2022-01-15T11:18:19.411Z"
   },
   {
    "duration": 67,
    "start_time": "2022-01-15T11:18:29.279Z"
   },
   {
    "duration": 200,
    "start_time": "2022-01-15T11:18:33.451Z"
   },
   {
    "duration": 6,
    "start_time": "2022-01-15T11:18:41.970Z"
   },
   {
    "duration": 9,
    "start_time": "2022-01-15T11:19:11.089Z"
   },
   {
    "duration": 253,
    "start_time": "2022-01-15T11:30:04.222Z"
   },
   {
    "duration": 219,
    "start_time": "2022-01-15T11:30:12.087Z"
   },
   {
    "duration": 75,
    "start_time": "2022-01-15T11:30:15.592Z"
   },
   {
    "duration": 11,
    "start_time": "2022-01-15T11:30:18.867Z"
   },
   {
    "duration": 12,
    "start_time": "2022-01-15T11:31:01.213Z"
   },
   {
    "duration": 18,
    "start_time": "2022-01-15T11:31:46.990Z"
   },
   {
    "duration": 338,
    "start_time": "2022-01-15T11:31:57.568Z"
   },
   {
    "duration": 396,
    "start_time": "2022-01-15T11:33:25.224Z"
   },
   {
    "duration": 414,
    "start_time": "2022-01-15T11:34:34.987Z"
   },
   {
    "duration": 6,
    "start_time": "2022-01-15T11:40:46.367Z"
   },
   {
    "duration": 46,
    "start_time": "2022-01-15T11:41:20.546Z"
   },
   {
    "duration": 107,
    "start_time": "2022-01-15T11:58:49.277Z"
   },
   {
    "duration": 4,
    "start_time": "2022-01-15T11:58:53.875Z"
   },
   {
    "duration": 5,
    "start_time": "2022-01-15T12:00:06.143Z"
   },
   {
    "duration": 13,
    "start_time": "2022-01-15T12:00:36.193Z"
   },
   {
    "duration": 5406,
    "start_time": "2022-01-15T12:01:20.423Z"
   },
   {
    "duration": 5443,
    "start_time": "2022-01-15T12:01:44.332Z"
   },
   {
    "duration": 5964,
    "start_time": "2022-01-15T12:02:01.188Z"
   },
   {
    "duration": 571,
    "start_time": "2022-01-15T12:12:44.024Z"
   },
   {
    "duration": 349,
    "start_time": "2022-01-15T12:12:48.942Z"
   },
   {
    "duration": 376,
    "start_time": "2022-01-15T12:13:00.664Z"
   },
   {
    "duration": 137,
    "start_time": "2022-01-15T12:13:14.129Z"
   },
   {
    "duration": 139,
    "start_time": "2022-01-15T12:13:26.068Z"
   },
   {
    "duration": 129,
    "start_time": "2022-01-15T12:13:40.013Z"
   },
   {
    "duration": 136,
    "start_time": "2022-01-15T12:13:49.888Z"
   },
   {
    "duration": 135,
    "start_time": "2022-01-15T12:13:59.494Z"
   },
   {
    "duration": 132,
    "start_time": "2022-01-15T12:14:07.191Z"
   },
   {
    "duration": 1114,
    "start_time": "2022-01-15T12:17:11.093Z"
   },
   {
    "duration": 207,
    "start_time": "2022-01-15T12:17:24.492Z"
   },
   {
    "duration": 212,
    "start_time": "2022-01-15T12:17:36.438Z"
   },
   {
    "duration": 220,
    "start_time": "2022-01-15T12:17:48.157Z"
   },
   {
    "duration": 215,
    "start_time": "2022-01-15T12:17:53.330Z"
   },
   {
    "duration": 205,
    "start_time": "2022-01-15T12:17:58.621Z"
   },
   {
    "duration": 204,
    "start_time": "2022-01-15T12:18:08.858Z"
   },
   {
    "duration": 324,
    "start_time": "2022-01-15T12:20:16.536Z"
   },
   {
    "duration": 223,
    "start_time": "2022-01-15T12:20:23.939Z"
   },
   {
    "duration": 219,
    "start_time": "2022-01-15T12:20:32.815Z"
   },
   {
    "duration": 214,
    "start_time": "2022-01-15T12:20:42.148Z"
   },
   {
    "duration": 219,
    "start_time": "2022-01-15T12:20:51.620Z"
   },
   {
    "duration": 224,
    "start_time": "2022-01-15T12:21:02.250Z"
   },
   {
    "duration": 215,
    "start_time": "2022-01-15T12:21:09.130Z"
   },
   {
    "duration": 228,
    "start_time": "2022-01-15T12:21:30.169Z"
   },
   {
    "duration": 220,
    "start_time": "2022-01-15T12:21:41.109Z"
   },
   {
    "duration": 213,
    "start_time": "2022-01-15T12:23:07.368Z"
   },
   {
    "duration": 218,
    "start_time": "2022-01-15T12:23:13.824Z"
   },
   {
    "duration": 322,
    "start_time": "2022-01-15T12:23:23.088Z"
   },
   {
    "duration": 221,
    "start_time": "2022-01-15T12:23:31.330Z"
   },
   {
    "duration": 209,
    "start_time": "2022-01-15T12:23:39.735Z"
   },
   {
    "duration": 4,
    "start_time": "2022-01-15T12:27:12.952Z"
   },
   {
    "duration": 1986,
    "start_time": "2022-01-15T12:27:43.683Z"
   },
   {
    "duration": 12,
    "start_time": "2022-01-15T12:28:04.803Z"
   },
   {
    "duration": 12,
    "start_time": "2022-01-15T12:28:42.977Z"
   },
   {
    "duration": 10,
    "start_time": "2022-01-15T12:28:59.822Z"
   },
   {
    "duration": 447,
    "start_time": "2022-01-15T12:30:31.251Z"
   },
   {
    "duration": 216,
    "start_time": "2022-01-15T12:30:54.916Z"
   },
   {
    "duration": 223,
    "start_time": "2022-01-15T12:31:01.696Z"
   },
   {
    "duration": 216,
    "start_time": "2022-01-15T12:31:06.186Z"
   },
   {
    "duration": 74,
    "start_time": "2022-01-15T12:31:59.968Z"
   },
   {
    "duration": 10,
    "start_time": "2022-01-15T12:32:18.970Z"
   },
   {
    "duration": 236,
    "start_time": "2022-01-15T12:39:51.437Z"
   },
   {
    "duration": 494,
    "start_time": "2022-01-15T12:40:02.341Z"
   },
   {
    "duration": 1514,
    "start_time": "2022-01-15T12:40:55.536Z"
   },
   {
    "duration": 412,
    "start_time": "2022-01-15T12:40:57.052Z"
   },
   {
    "duration": 3,
    "start_time": "2022-01-15T12:40:57.466Z"
   },
   {
    "duration": 40,
    "start_time": "2022-01-15T12:40:57.471Z"
   },
   {
    "duration": 356,
    "start_time": "2022-01-15T12:40:57.513Z"
   },
   {
    "duration": 249,
    "start_time": "2022-01-15T12:40:57.871Z"
   },
   {
    "duration": 183,
    "start_time": "2022-01-15T12:40:58.122Z"
   },
   {
    "duration": 58,
    "start_time": "2022-01-15T12:40:58.308Z"
   },
   {
    "duration": 65,
    "start_time": "2022-01-15T12:40:58.369Z"
   },
   {
    "duration": 25,
    "start_time": "2022-01-15T12:40:58.436Z"
   },
   {
    "duration": 289,
    "start_time": "2022-01-15T12:40:58.463Z"
   },
   {
    "duration": 33,
    "start_time": "2022-01-15T12:40:58.754Z"
   },
   {
    "duration": 8,
    "start_time": "2022-01-15T12:40:58.789Z"
   },
   {
    "duration": 18,
    "start_time": "2022-01-15T12:40:58.799Z"
   },
   {
    "duration": 8,
    "start_time": "2022-01-15T12:40:58.819Z"
   },
   {
    "duration": 38,
    "start_time": "2022-01-15T12:40:58.829Z"
   },
   {
    "duration": 12,
    "start_time": "2022-01-15T12:40:58.869Z"
   },
   {
    "duration": 10,
    "start_time": "2022-01-15T12:40:58.883Z"
   },
   {
    "duration": 11,
    "start_time": "2022-01-15T12:40:58.894Z"
   },
   {
    "duration": 9,
    "start_time": "2022-01-15T12:40:58.906Z"
   },
   {
    "duration": 87,
    "start_time": "2022-01-15T12:40:58.916Z"
   },
   {
    "duration": 23,
    "start_time": "2022-01-15T12:40:59.005Z"
   },
   {
    "duration": 33,
    "start_time": "2022-01-15T12:40:59.030Z"
   },
   {
    "duration": 16,
    "start_time": "2022-01-15T12:40:59.065Z"
   },
   {
    "duration": 25,
    "start_time": "2022-01-15T12:40:59.083Z"
   },
   {
    "duration": 9,
    "start_time": "2022-01-15T12:40:59.111Z"
   },
   {
    "duration": 40,
    "start_time": "2022-01-15T12:40:59.122Z"
   },
   {
    "duration": 20,
    "start_time": "2022-01-15T12:40:59.163Z"
   },
   {
    "duration": 7,
    "start_time": "2022-01-15T12:40:59.185Z"
   },
   {
    "duration": 503,
    "start_time": "2022-01-15T12:40:59.194Z"
   },
   {
    "duration": 48,
    "start_time": "2022-01-15T12:40:59.699Z"
   },
   {
    "duration": 225,
    "start_time": "2022-01-15T12:40:59.761Z"
   },
   {
    "duration": 323,
    "start_time": "2022-01-15T12:40:59.988Z"
   },
   {
    "duration": 249,
    "start_time": "2022-01-15T12:41:00.313Z"
   },
   {
    "duration": 240,
    "start_time": "2022-01-15T12:41:00.564Z"
   },
   {
    "duration": 4,
    "start_time": "2022-01-15T12:41:00.806Z"
   },
   {
    "duration": 19,
    "start_time": "2022-01-15T12:41:00.811Z"
   },
   {
    "duration": 11,
    "start_time": "2022-01-15T12:41:00.832Z"
   },
   {
    "duration": 11,
    "start_time": "2022-01-15T12:41:00.860Z"
   },
   {
    "duration": 9,
    "start_time": "2022-01-15T12:41:00.873Z"
   },
   {
    "duration": 22002,
    "start_time": "2022-01-15T12:41:00.884Z"
   },
   {
    "duration": 6841,
    "start_time": "2022-01-15T12:41:22.888Z"
   },
   {
    "duration": 85,
    "start_time": "2022-01-15T12:42:43.089Z"
   },
   {
    "duration": 86,
    "start_time": "2022-01-15T12:43:01.702Z"
   },
   {
    "duration": 81,
    "start_time": "2022-01-15T12:43:07.339Z"
   },
   {
    "duration": 15,
    "start_time": "2022-01-15T12:43:20.049Z"
   },
   {
    "duration": 227,
    "start_time": "2022-01-15T12:56:38.198Z"
   },
   {
    "duration": 212,
    "start_time": "2022-01-15T12:56:54.313Z"
   },
   {
    "duration": 23,
    "start_time": "2022-01-15T12:56:58.205Z"
   },
   {
    "duration": 238,
    "start_time": "2022-01-15T12:57:47.538Z"
   },
   {
    "duration": 413,
    "start_time": "2022-01-15T13:00:14.451Z"
   },
   {
    "duration": 516,
    "start_time": "2022-01-15T13:00:45.679Z"
   },
   {
    "duration": 70,
    "start_time": "2022-01-15T13:01:31.465Z"
   },
   {
    "duration": 464,
    "start_time": "2022-01-15T13:01:34.990Z"
   },
   {
    "duration": 367,
    "start_time": "2022-01-15T13:02:05.628Z"
   },
   {
    "duration": 534,
    "start_time": "2022-01-15T13:02:42.102Z"
   },
   {
    "duration": 587,
    "start_time": "2022-01-15T13:02:50.473Z"
   },
   {
    "duration": 514,
    "start_time": "2022-01-15T13:03:06.780Z"
   },
   {
    "duration": 255,
    "start_time": "2022-01-15T13:03:30.569Z"
   },
   {
    "duration": 1590,
    "start_time": "2022-01-15T13:05:24.757Z"
   },
   {
    "duration": 19,
    "start_time": "2022-01-15T13:07:07.336Z"
   },
   {
    "duration": 72,
    "start_time": "2022-01-15T13:08:13.857Z"
   },
   {
    "duration": 72,
    "start_time": "2022-01-15T13:08:42.409Z"
   },
   {
    "duration": 24,
    "start_time": "2022-01-15T13:08:45.271Z"
   },
   {
    "duration": 20,
    "start_time": "2022-01-15T13:09:01.308Z"
   },
   {
    "duration": 238,
    "start_time": "2022-01-15T13:09:05.675Z"
   },
   {
    "duration": 184,
    "start_time": "2022-01-15T13:09:20.975Z"
   },
   {
    "duration": 197,
    "start_time": "2022-01-15T13:09:51.518Z"
   },
   {
    "duration": 249,
    "start_time": "2022-01-15T13:10:40.792Z"
   },
   {
    "duration": 5622,
    "start_time": "2022-01-15T13:11:16.673Z"
   },
   {
    "duration": 222,
    "start_time": "2022-01-15T13:11:32.422Z"
   },
   {
    "duration": 48,
    "start_time": "2022-01-15T13:18:25.338Z"
   },
   {
    "duration": 8,
    "start_time": "2022-01-15T13:24:47.825Z"
   },
   {
    "duration": 1251,
    "start_time": "2022-01-16T09:13:30.655Z"
   },
   {
    "duration": 405,
    "start_time": "2022-01-16T09:13:31.908Z"
   },
   {
    "duration": 2,
    "start_time": "2022-01-16T09:13:32.315Z"
   },
   {
    "duration": 32,
    "start_time": "2022-01-16T09:13:32.319Z"
   },
   {
    "duration": 297,
    "start_time": "2022-01-16T09:13:32.352Z"
   },
   {
    "duration": 225,
    "start_time": "2022-01-16T09:13:32.650Z"
   },
   {
    "duration": 168,
    "start_time": "2022-01-16T09:13:32.877Z"
   },
   {
    "duration": 32,
    "start_time": "2022-01-16T09:13:33.047Z"
   },
   {
    "duration": 76,
    "start_time": "2022-01-16T09:13:33.082Z"
   },
   {
    "duration": 3,
    "start_time": "2022-01-16T09:13:33.161Z"
   },
   {
    "duration": 248,
    "start_time": "2022-01-16T09:13:33.166Z"
   },
   {
    "duration": 27,
    "start_time": "2022-01-16T09:13:33.415Z"
   },
   {
    "duration": 6,
    "start_time": "2022-01-16T09:13:33.443Z"
   },
   {
    "duration": 13,
    "start_time": "2022-01-16T09:13:33.451Z"
   },
   {
    "duration": 11,
    "start_time": "2022-01-16T09:13:33.466Z"
   },
   {
    "duration": 11,
    "start_time": "2022-01-16T09:13:33.478Z"
   },
   {
    "duration": 9,
    "start_time": "2022-01-16T09:13:33.491Z"
   },
   {
    "duration": 34,
    "start_time": "2022-01-16T09:13:33.502Z"
   },
   {
    "duration": 8,
    "start_time": "2022-01-16T09:13:33.538Z"
   },
   {
    "duration": 7,
    "start_time": "2022-01-16T09:13:33.548Z"
   },
   {
    "duration": 44,
    "start_time": "2022-01-16T09:13:33.557Z"
   },
   {
    "duration": 22,
    "start_time": "2022-01-16T09:13:33.627Z"
   },
   {
    "duration": 17,
    "start_time": "2022-01-16T09:13:33.650Z"
   },
   {
    "duration": 14,
    "start_time": "2022-01-16T09:13:33.669Z"
   },
   {
    "duration": 47,
    "start_time": "2022-01-16T09:13:33.685Z"
   },
   {
    "duration": 8,
    "start_time": "2022-01-16T09:13:33.733Z"
   },
   {
    "duration": 10,
    "start_time": "2022-01-16T09:13:33.744Z"
   },
   {
    "duration": 15,
    "start_time": "2022-01-16T09:13:33.756Z"
   },
   {
    "duration": 6,
    "start_time": "2022-01-16T09:13:33.773Z"
   },
   {
    "duration": 557,
    "start_time": "2022-01-16T09:13:33.780Z"
   },
   {
    "duration": 41,
    "start_time": "2022-01-16T09:13:34.338Z"
   },
   {
    "duration": 211,
    "start_time": "2022-01-16T09:13:34.380Z"
   },
   {
    "duration": 263,
    "start_time": "2022-01-16T09:13:34.593Z"
   },
   {
    "duration": 209,
    "start_time": "2022-01-16T09:13:34.857Z"
   },
   {
    "duration": 205,
    "start_time": "2022-01-16T09:13:35.068Z"
   },
   {
    "duration": 4,
    "start_time": "2022-01-16T09:13:35.275Z"
   },
   {
    "duration": 17,
    "start_time": "2022-01-16T09:13:35.281Z"
   },
   {
    "duration": 10,
    "start_time": "2022-01-16T09:13:35.299Z"
   },
   {
    "duration": 20,
    "start_time": "2022-01-16T09:13:35.311Z"
   },
   {
    "duration": 9,
    "start_time": "2022-01-16T09:13:35.332Z"
   },
   {
    "duration": 42,
    "start_time": "2022-01-16T09:13:35.342Z"
   },
   {
    "duration": 68,
    "start_time": "2022-01-16T09:13:35.386Z"
   },
   {
    "duration": 8,
    "start_time": "2022-01-16T09:13:35.456Z"
   },
   {
    "duration": 177,
    "start_time": "2022-01-16T09:13:35.465Z"
   },
   {
    "duration": 7019,
    "start_time": "2022-01-16T09:13:35.644Z"
   },
   {
    "duration": 315,
    "start_time": "2022-01-16T09:16:26.809Z"
   },
   {
    "duration": 1573,
    "start_time": "2022-01-16T09:29:55.327Z"
   },
   {
    "duration": 387,
    "start_time": "2022-01-16T09:29:56.902Z"
   },
   {
    "duration": 3,
    "start_time": "2022-01-16T09:29:57.293Z"
   },
   {
    "duration": 32,
    "start_time": "2022-01-16T09:29:57.297Z"
   },
   {
    "duration": 280,
    "start_time": "2022-01-16T09:29:57.331Z"
   },
   {
    "duration": 215,
    "start_time": "2022-01-16T09:29:57.613Z"
   },
   {
    "duration": 160,
    "start_time": "2022-01-16T09:29:57.829Z"
   },
   {
    "duration": 51,
    "start_time": "2022-01-16T09:29:57.993Z"
   },
   {
    "duration": 57,
    "start_time": "2022-01-16T09:29:58.047Z"
   },
   {
    "duration": 4,
    "start_time": "2022-01-16T09:29:58.106Z"
   },
   {
    "duration": 254,
    "start_time": "2022-01-16T09:29:58.128Z"
   },
   {
    "duration": 24,
    "start_time": "2022-01-16T09:29:58.383Z"
   },
   {
    "duration": 22,
    "start_time": "2022-01-16T09:29:58.408Z"
   },
   {
    "duration": 14,
    "start_time": "2022-01-16T09:29:58.432Z"
   },
   {
    "duration": 14,
    "start_time": "2022-01-16T09:29:58.447Z"
   },
   {
    "duration": 10,
    "start_time": "2022-01-16T09:29:58.463Z"
   },
   {
    "duration": 9,
    "start_time": "2022-01-16T09:29:58.475Z"
   },
   {
    "duration": 8,
    "start_time": "2022-01-16T09:29:58.486Z"
   },
   {
    "duration": 32,
    "start_time": "2022-01-16T09:29:58.496Z"
   },
   {
    "duration": 8,
    "start_time": "2022-01-16T09:29:58.529Z"
   },
   {
    "duration": 44,
    "start_time": "2022-01-16T09:29:58.539Z"
   },
   {
    "duration": 21,
    "start_time": "2022-01-16T09:29:58.585Z"
   },
   {
    "duration": 18,
    "start_time": "2022-01-16T09:29:58.627Z"
   },
   {
    "duration": 12,
    "start_time": "2022-01-16T09:29:58.647Z"
   },
   {
    "duration": 23,
    "start_time": "2022-01-16T09:29:58.661Z"
   },
   {
    "duration": 9,
    "start_time": "2022-01-16T09:29:58.687Z"
   },
   {
    "duration": 10,
    "start_time": "2022-01-16T09:29:58.728Z"
   },
   {
    "duration": 20,
    "start_time": "2022-01-16T09:29:58.740Z"
   },
   {
    "duration": 12,
    "start_time": "2022-01-16T09:29:58.761Z"
   },
   {
    "duration": 507,
    "start_time": "2022-01-16T09:29:58.775Z"
   },
   {
    "duration": 45,
    "start_time": "2022-01-16T09:29:59.283Z"
   },
   {
    "duration": 205,
    "start_time": "2022-01-16T09:29:59.330Z"
   },
   {
    "duration": 282,
    "start_time": "2022-01-16T09:29:59.536Z"
   },
   {
    "duration": 212,
    "start_time": "2022-01-16T09:29:59.819Z"
   },
   {
    "duration": 213,
    "start_time": "2022-01-16T09:30:00.032Z"
   },
   {
    "duration": 5,
    "start_time": "2022-01-16T09:30:00.246Z"
   },
   {
    "duration": 15,
    "start_time": "2022-01-16T09:30:00.253Z"
   },
   {
    "duration": 21,
    "start_time": "2022-01-16T09:30:00.271Z"
   },
   {
    "duration": 23,
    "start_time": "2022-01-16T09:30:00.294Z"
   },
   {
    "duration": 12,
    "start_time": "2022-01-16T09:30:00.319Z"
   },
   {
    "duration": 55,
    "start_time": "2022-01-16T09:30:00.333Z"
   },
   {
    "duration": 43,
    "start_time": "2022-01-16T09:30:00.390Z"
   },
   {
    "duration": 8,
    "start_time": "2022-01-16T09:30:00.435Z"
   },
   {
    "duration": 423,
    "start_time": "2022-01-16T09:30:00.445Z"
   },
   {
    "duration": 70,
    "start_time": "2022-01-16T09:30:00.800Z"
   },
   {
    "duration": 37,
    "start_time": "2022-01-16T09:32:03.242Z"
   },
   {
    "duration": 1565,
    "start_time": "2022-01-16T09:32:14.145Z"
   },
   {
    "duration": 378,
    "start_time": "2022-01-16T09:32:15.712Z"
   },
   {
    "duration": 2,
    "start_time": "2022-01-16T09:32:16.092Z"
   },
   {
    "duration": 29,
    "start_time": "2022-01-16T09:32:16.096Z"
   },
   {
    "duration": 275,
    "start_time": "2022-01-16T09:32:16.127Z"
   },
   {
    "duration": 205,
    "start_time": "2022-01-16T09:32:16.404Z"
   },
   {
    "duration": 164,
    "start_time": "2022-01-16T09:32:16.610Z"
   },
   {
    "duration": 31,
    "start_time": "2022-01-16T09:32:16.775Z"
   },
   {
    "duration": 72,
    "start_time": "2022-01-16T09:32:16.808Z"
   },
   {
    "duration": 4,
    "start_time": "2022-01-16T09:32:16.881Z"
   },
   {
    "duration": 262,
    "start_time": "2022-01-16T09:32:16.886Z"
   },
   {
    "duration": 24,
    "start_time": "2022-01-16T09:32:17.150Z"
   },
   {
    "duration": 6,
    "start_time": "2022-01-16T09:32:17.175Z"
   },
   {
    "duration": 27,
    "start_time": "2022-01-16T09:32:17.183Z"
   },
   {
    "duration": 18,
    "start_time": "2022-01-16T09:32:17.212Z"
   },
   {
    "duration": 10,
    "start_time": "2022-01-16T09:32:17.231Z"
   },
   {
    "duration": 14,
    "start_time": "2022-01-16T09:32:17.243Z"
   },
   {
    "duration": 8,
    "start_time": "2022-01-16T09:32:17.259Z"
   },
   {
    "duration": 8,
    "start_time": "2022-01-16T09:32:17.268Z"
   },
   {
    "duration": 7,
    "start_time": "2022-01-16T09:32:17.278Z"
   },
   {
    "duration": 73,
    "start_time": "2022-01-16T09:32:17.286Z"
   },
   {
    "duration": 21,
    "start_time": "2022-01-16T09:32:17.360Z"
   },
   {
    "duration": 17,
    "start_time": "2022-01-16T09:32:17.383Z"
   },
   {
    "duration": 34,
    "start_time": "2022-01-16T09:32:17.401Z"
   },
   {
    "duration": 23,
    "start_time": "2022-01-16T09:32:17.436Z"
   },
   {
    "duration": 7,
    "start_time": "2022-01-16T09:32:17.460Z"
   },
   {
    "duration": 9,
    "start_time": "2022-01-16T09:32:17.471Z"
   },
   {
    "duration": 45,
    "start_time": "2022-01-16T09:32:17.482Z"
   },
   {
    "duration": 6,
    "start_time": "2022-01-16T09:32:17.529Z"
   },
   {
    "duration": 431,
    "start_time": "2022-01-16T09:32:17.537Z"
   },
   {
    "duration": 44,
    "start_time": "2022-01-16T09:32:17.970Z"
   },
   {
    "duration": 226,
    "start_time": "2022-01-16T09:32:18.015Z"
   },
   {
    "duration": 279,
    "start_time": "2022-01-16T09:32:18.243Z"
   },
   {
    "duration": 208,
    "start_time": "2022-01-16T09:32:18.524Z"
   },
   {
    "duration": 208,
    "start_time": "2022-01-16T09:32:18.734Z"
   },
   {
    "duration": 3,
    "start_time": "2022-01-16T09:32:18.944Z"
   },
   {
    "duration": 12,
    "start_time": "2022-01-16T09:32:18.949Z"
   },
   {
    "duration": 7,
    "start_time": "2022-01-16T09:32:18.962Z"
   },
   {
    "duration": 7,
    "start_time": "2022-01-16T09:32:18.970Z"
   },
   {
    "duration": 16,
    "start_time": "2022-01-16T09:32:18.978Z"
   },
   {
    "duration": 56,
    "start_time": "2022-01-16T09:32:18.996Z"
   },
   {
    "duration": 41,
    "start_time": "2022-01-16T09:32:19.053Z"
   },
   {
    "duration": 8,
    "start_time": "2022-01-16T09:32:19.096Z"
   },
   {
    "duration": 454,
    "start_time": "2022-01-16T09:32:19.106Z"
   },
   {
    "duration": 40,
    "start_time": "2022-01-16T09:32:19.521Z"
   },
   {
    "duration": 16,
    "start_time": "2022-01-16T09:32:52.594Z"
   },
   {
    "duration": 15,
    "start_time": "2022-01-16T09:33:09.295Z"
   },
   {
    "duration": 317,
    "start_time": "2022-01-16T09:34:29.179Z"
   },
   {
    "duration": 271,
    "start_time": "2022-01-16T09:34:35.397Z"
   },
   {
    "duration": 21,
    "start_time": "2022-01-16T09:34:55.318Z"
   },
   {
    "duration": 159,
    "start_time": "2022-01-16T09:35:11.204Z"
   },
   {
    "duration": 415,
    "start_time": "2022-01-16T09:35:40.321Z"
   },
   {
    "duration": 173,
    "start_time": "2022-01-16T09:35:55.986Z"
   },
   {
    "duration": 139,
    "start_time": "2022-01-16T09:36:00.118Z"
   },
   {
    "duration": 295,
    "start_time": "2022-01-16T09:37:49.822Z"
   },
   {
    "duration": 359,
    "start_time": "2022-01-16T09:38:07.513Z"
   },
   {
    "duration": 161,
    "start_time": "2022-01-16T09:38:29.179Z"
   },
   {
    "duration": 271,
    "start_time": "2022-01-16T09:38:42.890Z"
   },
   {
    "duration": 167,
    "start_time": "2022-01-16T09:38:50.750Z"
   },
   {
    "duration": 178,
    "start_time": "2022-01-16T09:39:36.415Z"
   },
   {
    "duration": 185,
    "start_time": "2022-01-16T09:40:16.657Z"
   },
   {
    "duration": 185,
    "start_time": "2022-01-16T09:40:38.155Z"
   },
   {
    "duration": 265,
    "start_time": "2022-01-16T09:41:00.493Z"
   },
   {
    "duration": 182,
    "start_time": "2022-01-16T09:41:53.358Z"
   },
   {
    "duration": 244,
    "start_time": "2022-01-16T09:42:39.563Z"
   },
   {
    "duration": 287,
    "start_time": "2022-01-16T09:51:40.036Z"
   },
   {
    "duration": 294,
    "start_time": "2022-01-16T09:52:09.049Z"
   },
   {
    "duration": 288,
    "start_time": "2022-01-16T09:52:23.953Z"
   },
   {
    "duration": 386,
    "start_time": "2022-01-16T09:52:38.933Z"
   },
   {
    "duration": 5,
    "start_time": "2022-01-16T09:53:20.958Z"
   },
   {
    "duration": 23,
    "start_time": "2022-01-16T09:56:53.244Z"
   },
   {
    "duration": 26,
    "start_time": "2022-01-16T09:57:43.646Z"
   },
   {
    "duration": 165,
    "start_time": "2022-01-16T10:11:08.260Z"
   },
   {
    "duration": 189,
    "start_time": "2022-01-16T10:11:35.710Z"
   },
   {
    "duration": 173,
    "start_time": "2022-01-16T10:12:53.608Z"
   },
   {
    "duration": 100,
    "start_time": "2022-01-16T10:13:31.070Z"
   },
   {
    "duration": 186,
    "start_time": "2022-01-16T10:14:05.822Z"
   },
   {
    "duration": 103,
    "start_time": "2022-01-16T10:15:04.010Z"
   },
   {
    "duration": 162,
    "start_time": "2022-01-16T10:15:08.025Z"
   },
   {
    "duration": 159,
    "start_time": "2022-01-16T10:15:26.282Z"
   },
   {
    "duration": 548,
    "start_time": "2022-01-16T10:15:53.482Z"
   },
   {
    "duration": 156,
    "start_time": "2022-01-16T10:16:03.810Z"
   },
   {
    "duration": 154,
    "start_time": "2022-01-16T10:16:10.830Z"
   },
   {
    "duration": 256,
    "start_time": "2022-01-16T10:16:32.108Z"
   },
   {
    "duration": 4,
    "start_time": "2022-01-16T10:19:37.213Z"
   },
   {
    "duration": 3,
    "start_time": "2022-01-16T10:19:39.752Z"
   },
   {
    "duration": 691,
    "start_time": "2022-01-16T10:25:24.020Z"
   },
   {
    "duration": 645,
    "start_time": "2022-01-16T10:25:45.911Z"
   },
   {
    "duration": 309,
    "start_time": "2022-01-16T10:28:48.306Z"
   },
   {
    "duration": 283,
    "start_time": "2022-01-16T10:29:00.875Z"
   },
   {
    "duration": 495,
    "start_time": "2022-01-16T10:30:16.258Z"
   },
   {
    "duration": 475,
    "start_time": "2022-01-16T10:30:27.479Z"
   },
   {
    "duration": 3650,
    "start_time": "2022-01-16T10:31:40.006Z"
   },
   {
    "duration": 2780,
    "start_time": "2022-01-16T10:32:07.624Z"
   },
   {
    "duration": 256,
    "start_time": "2022-01-16T10:35:00.181Z"
   },
   {
    "duration": 271,
    "start_time": "2022-01-16T10:35:32.070Z"
   },
   {
    "duration": 247,
    "start_time": "2022-01-16T10:36:18.767Z"
   },
   {
    "duration": 249,
    "start_time": "2022-01-16T10:39:47.402Z"
   },
   {
    "duration": 253,
    "start_time": "2022-01-16T10:40:05.814Z"
   },
   {
    "duration": 410,
    "start_time": "2022-01-16T10:40:28.917Z"
   },
   {
    "duration": 307,
    "start_time": "2022-01-16T10:41:06.873Z"
   },
   {
    "duration": 355,
    "start_time": "2022-01-16T10:41:19.154Z"
   },
   {
    "duration": 250,
    "start_time": "2022-01-16T10:47:23.377Z"
   },
   {
    "duration": 92,
    "start_time": "2022-01-16T10:48:17.794Z"
   },
   {
    "duration": 4,
    "start_time": "2022-01-16T10:48:37.357Z"
   },
   {
    "duration": 327,
    "start_time": "2022-01-16T10:49:38.365Z"
   },
   {
    "duration": 322,
    "start_time": "2022-01-16T10:52:23.468Z"
   },
   {
    "duration": 365,
    "start_time": "2022-01-16T10:52:55.616Z"
   },
   {
    "duration": 407,
    "start_time": "2022-01-16T10:53:29.730Z"
   },
   {
    "duration": 302,
    "start_time": "2022-01-16T10:53:54.397Z"
   },
   {
    "duration": 319,
    "start_time": "2022-01-16T10:53:59.286Z"
   },
   {
    "duration": 6967,
    "start_time": "2022-01-16T10:54:54.141Z"
   },
   {
    "duration": 304,
    "start_time": "2022-01-16T10:55:03.560Z"
   },
   {
    "duration": 300,
    "start_time": "2022-01-16T10:55:51.568Z"
   },
   {
    "duration": 353,
    "start_time": "2022-01-16T10:56:47.693Z"
   },
   {
    "duration": 335,
    "start_time": "2022-01-16T10:57:20.612Z"
   },
   {
    "duration": 311,
    "start_time": "2022-01-16T10:59:50.395Z"
   },
   {
    "duration": 330,
    "start_time": "2022-01-16T10:59:59.700Z"
   },
   {
    "duration": 85,
    "start_time": "2022-01-16T11:00:21.168Z"
   },
   {
    "duration": 333,
    "start_time": "2022-01-16T11:00:25.604Z"
   },
   {
    "duration": 326,
    "start_time": "2022-01-16T11:00:31.241Z"
   },
   {
    "duration": 341,
    "start_time": "2022-01-16T11:00:35.854Z"
   },
   {
    "duration": 305,
    "start_time": "2022-01-16T11:01:22.167Z"
   },
   {
    "duration": 324,
    "start_time": "2022-01-16T11:01:37.863Z"
   },
   {
    "duration": 333,
    "start_time": "2022-01-16T11:01:43.349Z"
   },
   {
    "duration": 354,
    "start_time": "2022-01-16T11:03:44.742Z"
   },
   {
    "duration": 359,
    "start_time": "2022-01-16T11:03:57.763Z"
   },
   {
    "duration": 472,
    "start_time": "2022-01-16T11:04:16.915Z"
   },
   {
    "duration": 374,
    "start_time": "2022-01-16T11:04:23.843Z"
   },
   {
    "duration": 976,
    "start_time": "2022-01-16T11:04:47.681Z"
   },
   {
    "duration": 363,
    "start_time": "2022-01-16T11:06:38.690Z"
   },
   {
    "duration": 360,
    "start_time": "2022-01-16T11:06:52.401Z"
   },
   {
    "duration": 1753,
    "start_time": "2022-01-16T11:08:36.623Z"
   },
   {
    "duration": 393,
    "start_time": "2022-01-16T11:08:38.378Z"
   },
   {
    "duration": 4,
    "start_time": "2022-01-16T11:08:38.773Z"
   },
   {
    "duration": 31,
    "start_time": "2022-01-16T11:08:38.779Z"
   },
   {
    "duration": 292,
    "start_time": "2022-01-16T11:08:38.811Z"
   },
   {
    "duration": 222,
    "start_time": "2022-01-16T11:08:39.105Z"
   },
   {
    "duration": 155,
    "start_time": "2022-01-16T11:08:39.329Z"
   },
   {
    "duration": 52,
    "start_time": "2022-01-16T11:08:39.486Z"
   },
   {
    "duration": 56,
    "start_time": "2022-01-16T11:08:39.540Z"
   },
   {
    "duration": 3,
    "start_time": "2022-01-16T11:08:39.598Z"
   },
   {
    "duration": 260,
    "start_time": "2022-01-16T11:08:39.603Z"
   },
   {
    "duration": 22,
    "start_time": "2022-01-16T11:08:39.865Z"
   },
   {
    "duration": 7,
    "start_time": "2022-01-16T11:08:39.888Z"
   },
   {
    "duration": 34,
    "start_time": "2022-01-16T11:08:39.896Z"
   },
   {
    "duration": 8,
    "start_time": "2022-01-16T11:08:39.932Z"
   },
   {
    "duration": 10,
    "start_time": "2022-01-16T11:08:39.941Z"
   },
   {
    "duration": 9,
    "start_time": "2022-01-16T11:08:39.953Z"
   },
   {
    "duration": 8,
    "start_time": "2022-01-16T11:08:39.964Z"
   },
   {
    "duration": 8,
    "start_time": "2022-01-16T11:08:39.974Z"
   },
   {
    "duration": 8,
    "start_time": "2022-01-16T11:08:39.983Z"
   },
   {
    "duration": 78,
    "start_time": "2022-01-16T11:08:39.992Z"
   },
   {
    "duration": 21,
    "start_time": "2022-01-16T11:08:40.072Z"
   },
   {
    "duration": 34,
    "start_time": "2022-01-16T11:08:40.096Z"
   },
   {
    "duration": 15,
    "start_time": "2022-01-16T11:08:40.132Z"
   },
   {
    "duration": 23,
    "start_time": "2022-01-16T11:08:40.148Z"
   },
   {
    "duration": 8,
    "start_time": "2022-01-16T11:08:40.172Z"
   },
   {
    "duration": 10,
    "start_time": "2022-01-16T11:08:40.182Z"
   },
   {
    "duration": 44,
    "start_time": "2022-01-16T11:08:40.193Z"
   },
   {
    "duration": 6,
    "start_time": "2022-01-16T11:08:40.239Z"
   },
   {
    "duration": 486,
    "start_time": "2022-01-16T11:08:40.247Z"
   },
   {
    "duration": 50,
    "start_time": "2022-01-16T11:08:40.735Z"
   },
   {
    "duration": 213,
    "start_time": "2022-01-16T11:08:40.787Z"
   },
   {
    "duration": 272,
    "start_time": "2022-01-16T11:08:41.001Z"
   },
   {
    "duration": 214,
    "start_time": "2022-01-16T11:08:41.274Z"
   },
   {
    "duration": 212,
    "start_time": "2022-01-16T11:08:41.490Z"
   },
   {
    "duration": 4,
    "start_time": "2022-01-16T11:08:41.704Z"
   },
   {
    "duration": 21,
    "start_time": "2022-01-16T11:08:41.710Z"
   },
   {
    "duration": 9,
    "start_time": "2022-01-16T11:08:41.732Z"
   },
   {
    "duration": 9,
    "start_time": "2022-01-16T11:08:41.743Z"
   },
   {
    "duration": 9,
    "start_time": "2022-01-16T11:08:41.753Z"
   },
   {
    "duration": 73,
    "start_time": "2022-01-16T11:08:41.763Z"
   },
   {
    "duration": 43,
    "start_time": "2022-01-16T11:08:41.838Z"
   },
   {
    "duration": 47,
    "start_time": "2022-01-16T11:08:41.882Z"
   },
   {
    "duration": 279,
    "start_time": "2022-01-16T11:08:41.931Z"
   },
   {
    "duration": 235,
    "start_time": "2022-01-16T11:08:42.212Z"
   },
   {
    "duration": 318,
    "start_time": "2022-01-16T11:08:42.449Z"
   },
   {
    "duration": 302,
    "start_time": "2022-01-16T11:08:42.768Z"
   },
   {
    "duration": 366,
    "start_time": "2022-01-16T11:08:43.072Z"
   },
   {
    "duration": 432,
    "start_time": "2022-01-16T11:08:43.439Z"
   },
   {
    "duration": 311,
    "start_time": "2022-01-16T11:08:43.873Z"
   },
   {
    "duration": 6945,
    "start_time": "2022-01-16T11:08:44.186Z"
   },
   {
    "duration": 382,
    "start_time": "2022-01-16T11:11:01.637Z"
   },
   {
    "duration": 265,
    "start_time": "2022-01-16T11:11:07.248Z"
   },
   {
    "duration": 439,
    "start_time": "2022-01-16T11:11:12.110Z"
   },
   {
    "duration": 955,
    "start_time": "2022-01-16T11:11:22.734Z"
   },
   {
    "duration": 287,
    "start_time": "2022-01-16T11:11:29.188Z"
   },
   {
    "duration": 321,
    "start_time": "2022-01-16T11:12:07.123Z"
   },
   {
    "duration": 28,
    "start_time": "2022-01-16T11:12:48.630Z"
   },
   {
    "duration": 35,
    "start_time": "2022-01-16T11:17:54.165Z"
   },
   {
    "duration": 271,
    "start_time": "2022-01-16T13:55:30.691Z"
   },
   {
    "duration": 368,
    "start_time": "2022-01-16T13:55:46.311Z"
   },
   {
    "duration": 267,
    "start_time": "2022-01-16T13:56:03.430Z"
   },
   {
    "duration": 265,
    "start_time": "2022-01-16T13:57:22.474Z"
   },
   {
    "duration": 256,
    "start_time": "2022-01-16T13:57:35.303Z"
   },
   {
    "duration": 273,
    "start_time": "2022-01-16T13:57:42.032Z"
   },
   {
    "duration": 254,
    "start_time": "2022-01-16T13:57:56.431Z"
   },
   {
    "duration": 284,
    "start_time": "2022-01-16T13:58:10.553Z"
   },
   {
    "duration": 251,
    "start_time": "2022-01-16T13:58:36.410Z"
   },
   {
    "duration": 118,
    "start_time": "2022-01-16T13:59:19.542Z"
   },
   {
    "duration": 337,
    "start_time": "2022-01-16T14:00:30.634Z"
   },
   {
    "duration": 185,
    "start_time": "2022-01-16T14:00:38.812Z"
   },
   {
    "duration": 205,
    "start_time": "2022-01-16T14:01:07.359Z"
   },
   {
    "duration": 205,
    "start_time": "2022-01-16T14:01:27.513Z"
   },
   {
    "duration": 193,
    "start_time": "2022-01-16T14:01:42.212Z"
   },
   {
    "duration": 123,
    "start_time": "2022-01-16T14:01:48.544Z"
   },
   {
    "duration": 122,
    "start_time": "2022-01-16T14:02:22.220Z"
   },
   {
    "duration": 123,
    "start_time": "2022-01-16T14:02:28.303Z"
   },
   {
    "duration": 122,
    "start_time": "2022-01-16T14:02:34.091Z"
   },
   {
    "duration": 123,
    "start_time": "2022-01-16T14:03:41.600Z"
   },
   {
    "duration": 129,
    "start_time": "2022-01-16T14:04:05.099Z"
   },
   {
    "duration": 137,
    "start_time": "2022-01-16T14:04:10.861Z"
   },
   {
    "duration": 138,
    "start_time": "2022-01-16T14:06:42.058Z"
   },
   {
    "duration": 135,
    "start_time": "2022-01-16T14:08:30.364Z"
   },
   {
    "duration": 122,
    "start_time": "2022-01-16T14:08:35.193Z"
   },
   {
    "duration": 123,
    "start_time": "2022-01-16T14:08:39.278Z"
   },
   {
    "duration": 132,
    "start_time": "2022-01-16T14:09:24.613Z"
   },
   {
    "duration": 130,
    "start_time": "2022-01-16T14:09:31.229Z"
   },
   {
    "duration": 123,
    "start_time": "2022-01-16T14:09:34.786Z"
   },
   {
    "duration": 309,
    "start_time": "2022-01-16T14:15:49.157Z"
   },
   {
    "duration": 305,
    "start_time": "2022-01-16T14:16:43.773Z"
   },
   {
    "duration": 304,
    "start_time": "2022-01-16T14:16:53.206Z"
   },
   {
    "duration": 415,
    "start_time": "2022-01-16T14:18:01.017Z"
   },
   {
    "duration": 280,
    "start_time": "2022-01-16T14:18:15.742Z"
   },
   {
    "duration": 280,
    "start_time": "2022-01-16T14:19:20.702Z"
   },
   {
    "duration": 309,
    "start_time": "2022-01-16T14:19:28.515Z"
   },
   {
    "duration": 313,
    "start_time": "2022-01-16T14:19:40.169Z"
   },
   {
    "duration": 336,
    "start_time": "2022-01-16T14:19:47.835Z"
   },
   {
    "duration": 336,
    "start_time": "2022-01-16T14:20:29.616Z"
   },
   {
    "duration": 304,
    "start_time": "2022-01-16T14:21:42.188Z"
   },
   {
    "duration": 123,
    "start_time": "2022-01-16T14:22:24.648Z"
   },
   {
    "duration": 129,
    "start_time": "2022-01-16T14:22:29.802Z"
   },
   {
    "duration": 132,
    "start_time": "2022-01-16T14:23:20.839Z"
   },
   {
    "duration": 122,
    "start_time": "2022-01-16T14:23:26.314Z"
   },
   {
    "duration": 130,
    "start_time": "2022-01-16T14:23:32.407Z"
   },
   {
    "duration": 132,
    "start_time": "2022-01-16T14:24:04.208Z"
   },
   {
    "duration": 139,
    "start_time": "2022-01-16T14:24:11.715Z"
   },
   {
    "duration": 134,
    "start_time": "2022-01-16T14:24:23.894Z"
   },
   {
    "duration": 5,
    "start_time": "2022-01-16T14:39:11.883Z"
   },
   {
    "duration": 9,
    "start_time": "2022-01-16T14:40:11.665Z"
   },
   {
    "duration": 9,
    "start_time": "2022-01-16T14:41:01.158Z"
   },
   {
    "duration": 10,
    "start_time": "2022-01-16T14:43:20.182Z"
   },
   {
    "duration": 9,
    "start_time": "2022-01-16T14:46:14.491Z"
   },
   {
    "duration": 10,
    "start_time": "2022-01-16T14:46:20.172Z"
   },
   {
    "duration": 10,
    "start_time": "2022-01-16T14:46:37.164Z"
   },
   {
    "duration": 284,
    "start_time": "2022-01-16T14:50:52.096Z"
   },
   {
    "duration": 195,
    "start_time": "2022-01-16T14:51:00.167Z"
   },
   {
    "duration": 9,
    "start_time": "2022-01-16T14:51:00.364Z"
   },
   {
    "duration": 28,
    "start_time": "2022-01-16T14:51:06.742Z"
   },
   {
    "duration": 58,
    "start_time": "2022-01-16T14:51:14.106Z"
   },
   {
    "duration": 322,
    "start_time": "2022-01-16T14:51:31.764Z"
   },
   {
    "duration": 37,
    "start_time": "2022-01-16T14:52:24.945Z"
   },
   {
    "duration": 26,
    "start_time": "2022-01-16T14:52:53.696Z"
   },
   {
    "duration": 27,
    "start_time": "2022-01-16T14:53:04.729Z"
   },
   {
    "duration": 7,
    "start_time": "2022-01-16T14:53:10.808Z"
   },
   {
    "duration": 9,
    "start_time": "2022-01-16T14:55:14.838Z"
   },
   {
    "duration": 297,
    "start_time": "2022-01-16T14:55:39.095Z"
   },
   {
    "duration": 9,
    "start_time": "2022-01-16T14:55:44.574Z"
   },
   {
    "duration": 94,
    "start_time": "2022-01-16T15:14:51.017Z"
   },
   {
    "duration": 98,
    "start_time": "2022-01-16T15:15:33.147Z"
   },
   {
    "duration": 946,
    "start_time": "2022-01-16T15:15:42.020Z"
   },
   {
    "duration": 1011,
    "start_time": "2022-01-16T15:16:46.996Z"
   },
   {
    "duration": 425,
    "start_time": "2022-01-16T15:16:58.696Z"
   },
   {
    "duration": 427,
    "start_time": "2022-01-16T15:17:15.404Z"
   },
   {
    "duration": 462,
    "start_time": "2022-01-16T15:17:59.455Z"
   },
   {
    "duration": 466,
    "start_time": "2022-01-16T15:18:36.910Z"
   },
   {
    "duration": 10,
    "start_time": "2022-01-16T15:26:15.129Z"
   },
   {
    "duration": 10,
    "start_time": "2022-01-16T15:26:46.261Z"
   },
   {
    "duration": 11,
    "start_time": "2022-01-16T15:26:55.590Z"
   },
   {
    "duration": 11,
    "start_time": "2022-01-16T15:27:32.507Z"
   },
   {
    "duration": 9,
    "start_time": "2022-01-16T15:28:24.346Z"
   },
   {
    "duration": 9,
    "start_time": "2022-01-16T15:29:58.923Z"
   },
   {
    "duration": 1529,
    "start_time": "2022-01-16T16:01:14.471Z"
   },
   {
    "duration": 374,
    "start_time": "2022-01-16T16:01:16.002Z"
   },
   {
    "duration": 3,
    "start_time": "2022-01-16T16:01:16.377Z"
   },
   {
    "duration": 29,
    "start_time": "2022-01-16T16:01:16.382Z"
   },
   {
    "duration": 284,
    "start_time": "2022-01-16T16:01:16.413Z"
   },
   {
    "duration": 206,
    "start_time": "2022-01-16T16:01:16.698Z"
   },
   {
    "duration": 164,
    "start_time": "2022-01-16T16:01:16.906Z"
   },
   {
    "duration": 55,
    "start_time": "2022-01-16T16:01:17.072Z"
   },
   {
    "duration": 58,
    "start_time": "2022-01-16T16:01:17.130Z"
   },
   {
    "duration": 4,
    "start_time": "2022-01-16T16:01:17.190Z"
   },
   {
    "duration": 258,
    "start_time": "2022-01-16T16:01:17.195Z"
   },
   {
    "duration": 23,
    "start_time": "2022-01-16T16:01:17.455Z"
   },
   {
    "duration": 6,
    "start_time": "2022-01-16T16:01:17.480Z"
   },
   {
    "duration": 11,
    "start_time": "2022-01-16T16:01:17.488Z"
   },
   {
    "duration": 29,
    "start_time": "2022-01-16T16:01:17.501Z"
   },
   {
    "duration": 10,
    "start_time": "2022-01-16T16:01:17.532Z"
   },
   {
    "duration": 13,
    "start_time": "2022-01-16T16:01:17.543Z"
   },
   {
    "duration": 8,
    "start_time": "2022-01-16T16:01:17.557Z"
   },
   {
    "duration": 7,
    "start_time": "2022-01-16T16:01:17.567Z"
   },
   {
    "duration": 8,
    "start_time": "2022-01-16T16:01:17.576Z"
   },
   {
    "duration": 77,
    "start_time": "2022-01-16T16:01:17.586Z"
   },
   {
    "duration": 23,
    "start_time": "2022-01-16T16:01:17.665Z"
   },
   {
    "duration": 18,
    "start_time": "2022-01-16T16:01:17.690Z"
   },
   {
    "duration": 16,
    "start_time": "2022-01-16T16:01:17.726Z"
   },
   {
    "duration": 24,
    "start_time": "2022-01-16T16:01:17.743Z"
   },
   {
    "duration": 9,
    "start_time": "2022-01-16T16:01:17.769Z"
   },
   {
    "duration": 10,
    "start_time": "2022-01-16T16:01:17.782Z"
   },
   {
    "duration": 19,
    "start_time": "2022-01-16T16:01:17.826Z"
   },
   {
    "duration": 8,
    "start_time": "2022-01-16T16:01:17.846Z"
   },
   {
    "duration": 464,
    "start_time": "2022-01-16T16:01:17.855Z"
   },
   {
    "duration": 46,
    "start_time": "2022-01-16T16:01:18.322Z"
   },
   {
    "duration": 213,
    "start_time": "2022-01-16T16:01:18.370Z"
   },
   {
    "duration": 289,
    "start_time": "2022-01-16T16:01:18.585Z"
   },
   {
    "duration": 212,
    "start_time": "2022-01-16T16:01:18.876Z"
   },
   {
    "duration": 214,
    "start_time": "2022-01-16T16:01:19.089Z"
   },
   {
    "duration": 3,
    "start_time": "2022-01-16T16:01:19.305Z"
   },
   {
    "duration": 18,
    "start_time": "2022-01-16T16:01:19.310Z"
   },
   {
    "duration": 7,
    "start_time": "2022-01-16T16:01:19.329Z"
   },
   {
    "duration": 7,
    "start_time": "2022-01-16T16:01:19.338Z"
   },
   {
    "duration": 7,
    "start_time": "2022-01-16T16:01:19.346Z"
   },
   {
    "duration": 43,
    "start_time": "2022-01-16T16:01:19.354Z"
   },
   {
    "duration": 67,
    "start_time": "2022-01-16T16:01:19.399Z"
   },
   {
    "duration": 33,
    "start_time": "2022-01-16T16:01:19.468Z"
   },
   {
    "duration": 284,
    "start_time": "2022-01-16T16:01:19.503Z"
   },
   {
    "duration": 141,
    "start_time": "2022-01-16T16:01:19.788Z"
   },
   {
    "duration": 143,
    "start_time": "2022-01-16T16:01:19.930Z"
   },
   {
    "duration": 308,
    "start_time": "2022-01-16T16:01:20.074Z"
   },
   {
    "duration": 145,
    "start_time": "2022-01-16T16:01:20.384Z"
   },
   {
    "duration": 141,
    "start_time": "2022-01-16T16:01:20.530Z"
   },
   {
    "duration": 318,
    "start_time": "2022-01-16T16:01:20.673Z"
   },
   {
    "duration": 284,
    "start_time": "2022-01-16T16:01:20.992Z"
   },
   {
    "duration": 134,
    "start_time": "2022-01-16T16:01:21.278Z"
   },
   {
    "duration": 227,
    "start_time": "2022-01-16T16:01:21.414Z"
   },
   {
    "duration": 344,
    "start_time": "2022-01-16T16:01:21.643Z"
   },
   {
    "duration": 330,
    "start_time": "2022-01-16T16:01:21.989Z"
   },
   {
    "duration": 131,
    "start_time": "2022-01-16T16:01:22.321Z"
   },
   {
    "duration": 140,
    "start_time": "2022-01-16T16:01:22.454Z"
   },
   {
    "duration": 459,
    "start_time": "2022-01-16T16:01:22.595Z"
   },
   {
    "duration": 440,
    "start_time": "2022-01-16T16:01:23.055Z"
   },
   {
    "duration": 9,
    "start_time": "2022-01-16T16:01:23.496Z"
   },
   {
    "duration": 41,
    "start_time": "2022-01-16T16:01:23.507Z"
   },
   {
    "duration": 8,
    "start_time": "2022-01-16T16:01:23.549Z"
   },
   {
    "duration": 8,
    "start_time": "2022-01-16T16:01:23.559Z"
   },
   {
    "duration": 136,
    "start_time": "2022-01-16T16:02:49.739Z"
   },
   {
    "duration": 140,
    "start_time": "2022-01-16T16:02:56.099Z"
   },
   {
    "duration": 138,
    "start_time": "2022-01-16T16:03:02.158Z"
   },
   {
    "duration": 176,
    "start_time": "2022-01-16T16:03:09.008Z"
   },
   {
    "duration": 2510,
    "start_time": "2022-01-19T12:59:58.942Z"
   },
   {
    "duration": 527,
    "start_time": "2022-01-19T13:00:01.455Z"
   },
   {
    "duration": 4,
    "start_time": "2022-01-19T13:00:01.986Z"
   },
   {
    "duration": 69,
    "start_time": "2022-01-19T13:00:01.993Z"
   },
   {
    "duration": 506,
    "start_time": "2022-01-19T13:00:02.064Z"
   },
   {
    "duration": 398,
    "start_time": "2022-01-19T13:00:02.573Z"
   },
   {
    "duration": 304,
    "start_time": "2022-01-19T13:00:02.974Z"
   },
   {
    "duration": 82,
    "start_time": "2022-01-19T13:00:03.280Z"
   },
   {
    "duration": 120,
    "start_time": "2022-01-19T13:00:03.365Z"
   },
   {
    "duration": 6,
    "start_time": "2022-01-19T13:00:03.488Z"
   },
   {
    "duration": 508,
    "start_time": "2022-01-19T13:00:03.498Z"
   },
   {
    "duration": 51,
    "start_time": "2022-01-19T13:00:04.008Z"
   },
   {
    "duration": 10,
    "start_time": "2022-01-19T13:00:04.061Z"
   },
   {
    "duration": 29,
    "start_time": "2022-01-19T13:00:04.073Z"
   },
   {
    "duration": 33,
    "start_time": "2022-01-19T13:00:04.104Z"
   },
   {
    "duration": 23,
    "start_time": "2022-01-19T13:00:04.140Z"
   },
   {
    "duration": 25,
    "start_time": "2022-01-19T13:00:04.166Z"
   },
   {
    "duration": 31,
    "start_time": "2022-01-19T13:00:04.194Z"
   },
   {
    "duration": 20,
    "start_time": "2022-01-19T13:00:04.227Z"
   },
   {
    "duration": 13,
    "start_time": "2022-01-19T13:00:04.250Z"
   },
   {
    "duration": 100,
    "start_time": "2022-01-19T13:00:04.266Z"
   },
   {
    "duration": 30,
    "start_time": "2022-01-19T13:00:04.368Z"
   },
   {
    "duration": 45,
    "start_time": "2022-01-19T13:00:04.400Z"
   },
   {
    "duration": 18,
    "start_time": "2022-01-19T13:00:04.448Z"
   },
   {
    "duration": 71,
    "start_time": "2022-01-19T13:00:04.468Z"
   },
   {
    "duration": 15,
    "start_time": "2022-01-19T13:00:04.542Z"
   },
   {
    "duration": 16,
    "start_time": "2022-01-19T13:00:04.563Z"
   },
   {
    "duration": 66,
    "start_time": "2022-01-19T13:00:04.583Z"
   },
   {
    "duration": 12,
    "start_time": "2022-01-19T13:00:04.652Z"
   },
   {
    "duration": 848,
    "start_time": "2022-01-19T13:00:04.667Z"
   },
   {
    "duration": 85,
    "start_time": "2022-01-19T13:00:05.518Z"
   },
   {
    "duration": 263,
    "start_time": "2022-01-19T13:00:05.607Z"
   },
   {
    "duration": 360,
    "start_time": "2022-01-19T13:00:05.872Z"
   },
   {
    "duration": 265,
    "start_time": "2022-01-19T13:00:06.235Z"
   },
   {
    "duration": 270,
    "start_time": "2022-01-19T13:00:06.502Z"
   },
   {
    "duration": 5,
    "start_time": "2022-01-19T13:00:06.775Z"
   },
   {
    "duration": 21,
    "start_time": "2022-01-19T13:00:06.783Z"
   },
   {
    "duration": 31,
    "start_time": "2022-01-19T13:00:06.807Z"
   },
   {
    "duration": 15,
    "start_time": "2022-01-19T13:00:06.844Z"
   },
   {
    "duration": 13,
    "start_time": "2022-01-19T13:00:06.861Z"
   },
   {
    "duration": 149,
    "start_time": "2022-01-19T13:00:06.876Z"
   },
   {
    "duration": 76,
    "start_time": "2022-01-19T13:00:07.028Z"
   },
   {
    "duration": 81,
    "start_time": "2022-01-19T13:00:07.107Z"
   },
   {
    "duration": 466,
    "start_time": "2022-01-19T13:00:07.191Z"
   },
   {
    "duration": 251,
    "start_time": "2022-01-19T13:00:07.659Z"
   },
   {
    "duration": 241,
    "start_time": "2022-01-19T13:00:07.913Z"
   },
   {
    "duration": 539,
    "start_time": "2022-01-19T13:00:08.157Z"
   },
   {
    "duration": 279,
    "start_time": "2022-01-19T13:00:08.698Z"
   },
   {
    "duration": 280,
    "start_time": "2022-01-19T13:00:08.980Z"
   },
   {
    "duration": 533,
    "start_time": "2022-01-19T13:00:09.262Z"
   },
   {
    "duration": 551,
    "start_time": "2022-01-19T13:00:09.797Z"
   },
   {
    "duration": 363,
    "start_time": "2022-01-19T13:00:10.351Z"
   },
   {
    "duration": 348,
    "start_time": "2022-01-19T13:00:10.729Z"
   },
   {
    "duration": 574,
    "start_time": "2022-01-19T13:00:11.080Z"
   },
   {
    "duration": 608,
    "start_time": "2022-01-19T13:00:11.657Z"
   },
   {
    "duration": 258,
    "start_time": "2022-01-19T13:00:12.267Z"
   },
   {
    "duration": 262,
    "start_time": "2022-01-19T13:00:12.528Z"
   },
   {
    "duration": 683,
    "start_time": "2022-01-19T13:00:12.793Z"
   },
   {
    "duration": -27,
    "start_time": "2022-01-19T13:00:13.506Z"
   },
   {
    "duration": -33,
    "start_time": "2022-01-19T13:00:13.514Z"
   },
   {
    "duration": -47,
    "start_time": "2022-01-19T13:00:13.531Z"
   },
   {
    "duration": -51,
    "start_time": "2022-01-19T13:00:13.537Z"
   },
   {
    "duration": -55,
    "start_time": "2022-01-19T13:00:13.543Z"
   },
   {
    "duration": 867,
    "start_time": "2022-01-19T13:00:26.649Z"
   },
   {
    "duration": 417,
    "start_time": "2022-01-19T13:00:28.028Z"
   },
   {
    "duration": 1166,
    "start_time": "2022-01-19T13:00:31.671Z"
   },
   {
    "duration": 18,
    "start_time": "2022-01-19T13:00:32.909Z"
   },
   {
    "duration": 56,
    "start_time": "2022-01-19T13:00:34.510Z"
   },
   {
    "duration": 15,
    "start_time": "2022-01-19T13:00:34.893Z"
   },
   {
    "duration": 16,
    "start_time": "2022-01-19T13:00:35.210Z"
   },
   {
    "duration": 60,
    "start_time": "2022-01-19T13:04:27.817Z"
   },
   {
    "duration": 176,
    "start_time": "2022-01-19T16:28:43.346Z"
   },
   {
    "duration": 412,
    "start_time": "2022-01-19T16:37:49.821Z"
   },
   {
    "duration": 2184,
    "start_time": "2022-01-19T16:37:59.103Z"
   },
   {
    "duration": 528,
    "start_time": "2022-01-19T16:38:01.289Z"
   },
   {
    "duration": 4,
    "start_time": "2022-01-19T16:38:01.820Z"
   },
   {
    "duration": 57,
    "start_time": "2022-01-19T16:38:01.827Z"
   },
   {
    "duration": 506,
    "start_time": "2022-01-19T16:38:01.887Z"
   },
   {
    "duration": 330,
    "start_time": "2022-01-19T16:38:02.396Z"
   },
   {
    "duration": 267,
    "start_time": "2022-01-19T16:38:02.728Z"
   },
   {
    "duration": 73,
    "start_time": "2022-01-19T16:38:03.000Z"
   },
   {
    "duration": 115,
    "start_time": "2022-01-19T16:38:03.077Z"
   },
   {
    "duration": 6,
    "start_time": "2022-01-19T16:38:03.195Z"
   },
   {
    "duration": 475,
    "start_time": "2022-01-19T16:38:03.203Z"
   },
   {
    "duration": 50,
    "start_time": "2022-01-19T16:38:03.681Z"
   },
   {
    "duration": 10,
    "start_time": "2022-01-19T16:38:03.733Z"
   },
   {
    "duration": 24,
    "start_time": "2022-01-19T16:38:03.745Z"
   },
   {
    "duration": 12,
    "start_time": "2022-01-19T16:38:03.772Z"
   },
   {
    "duration": 48,
    "start_time": "2022-01-19T16:38:03.787Z"
   },
   {
    "duration": 15,
    "start_time": "2022-01-19T16:38:03.838Z"
   },
   {
    "duration": 14,
    "start_time": "2022-01-19T16:38:03.855Z"
   },
   {
    "duration": 51,
    "start_time": "2022-01-19T16:38:03.872Z"
   },
   {
    "duration": 13,
    "start_time": "2022-01-19T16:38:03.925Z"
   },
   {
    "duration": 85,
    "start_time": "2022-01-19T16:38:03.940Z"
   },
   {
    "duration": 28,
    "start_time": "2022-01-19T16:38:04.028Z"
   },
   {
    "duration": 27,
    "start_time": "2022-01-19T16:38:04.062Z"
   },
   {
    "duration": 46,
    "start_time": "2022-01-19T16:38:04.093Z"
   },
   {
    "duration": 54,
    "start_time": "2022-01-19T16:38:04.141Z"
   },
   {
    "duration": 35,
    "start_time": "2022-01-19T16:38:04.198Z"
   },
   {
    "duration": 15,
    "start_time": "2022-01-19T16:38:04.236Z"
   },
   {
    "duration": 30,
    "start_time": "2022-01-19T16:38:04.253Z"
   },
   {
    "duration": 14,
    "start_time": "2022-01-19T16:38:04.324Z"
   },
   {
    "duration": 808,
    "start_time": "2022-01-19T16:38:04.340Z"
   },
   {
    "duration": 86,
    "start_time": "2022-01-19T16:38:05.150Z"
   },
   {
    "duration": 250,
    "start_time": "2022-01-19T16:38:05.238Z"
   },
   {
    "duration": 358,
    "start_time": "2022-01-19T16:38:05.492Z"
   },
   {
    "duration": 266,
    "start_time": "2022-01-19T16:38:05.853Z"
   },
   {
    "duration": 256,
    "start_time": "2022-01-19T16:38:06.124Z"
   },
   {
    "duration": 7,
    "start_time": "2022-01-19T16:38:06.383Z"
   },
   {
    "duration": 40,
    "start_time": "2022-01-19T16:38:06.393Z"
   },
   {
    "duration": 14,
    "start_time": "2022-01-19T16:38:06.436Z"
   },
   {
    "duration": 15,
    "start_time": "2022-01-19T16:38:06.453Z"
   },
   {
    "duration": 54,
    "start_time": "2022-01-19T16:38:06.471Z"
   },
   {
    "duration": 72,
    "start_time": "2022-01-19T16:38:06.528Z"
   },
   {
    "duration": 92,
    "start_time": "2022-01-19T16:38:06.603Z"
   },
   {
    "duration": 78,
    "start_time": "2022-01-19T16:38:06.697Z"
   },
   {
    "duration": 495,
    "start_time": "2022-01-19T16:38:06.777Z"
   },
   {
    "duration": 243,
    "start_time": "2022-01-19T16:38:07.275Z"
   },
   {
    "duration": 242,
    "start_time": "2022-01-19T16:38:07.523Z"
   },
   {
    "duration": 523,
    "start_time": "2022-01-19T16:38:07.768Z"
   },
   {
    "duration": 267,
    "start_time": "2022-01-19T16:38:08.293Z"
   },
   {
    "duration": 254,
    "start_time": "2022-01-19T16:38:08.563Z"
   },
   {
    "duration": 489,
    "start_time": "2022-01-19T16:38:08.820Z"
   },
   {
    "duration": 500,
    "start_time": "2022-01-19T16:38:09.311Z"
   },
   {
    "duration": 251,
    "start_time": "2022-01-19T16:38:09.814Z"
   },
   {
    "duration": 358,
    "start_time": "2022-01-19T16:38:10.069Z"
   },
   {
    "duration": 573,
    "start_time": "2022-01-19T16:38:10.430Z"
   },
   {
    "duration": 580,
    "start_time": "2022-01-19T16:38:11.006Z"
   },
   {
    "duration": 249,
    "start_time": "2022-01-19T16:38:11.589Z"
   },
   {
    "duration": 253,
    "start_time": "2022-01-19T16:38:11.841Z"
   },
   {
    "duration": 787,
    "start_time": "2022-01-19T16:38:12.097Z"
   },
   {
    "duration": 741,
    "start_time": "2022-01-19T16:38:12.888Z"
   },
   {
    "duration": 21,
    "start_time": "2022-01-19T16:38:13.632Z"
   },
   {
    "duration": 87,
    "start_time": "2022-01-19T16:38:13.656Z"
   },
   {
    "duration": 18,
    "start_time": "2022-01-19T16:38:13.746Z"
   },
   {
    "duration": 20,
    "start_time": "2022-01-19T16:38:13.767Z"
   },
   {
    "duration": 122,
    "start_time": "2022-01-19T16:39:31.617Z"
   },
   {
    "duration": 16,
    "start_time": "2022-01-19T17:08:51.325Z"
   },
   {
    "duration": 14,
    "start_time": "2022-01-19T17:17:10.077Z"
   },
   {
    "duration": 481,
    "start_time": "2022-01-19T17:18:22.269Z"
   },
   {
    "duration": 14,
    "start_time": "2022-01-19T17:18:47.758Z"
   },
   {
    "duration": 6,
    "start_time": "2022-01-19T17:18:54.387Z"
   },
   {
    "duration": 393,
    "start_time": "2022-01-19T17:19:05.809Z"
   },
   {
    "duration": 333,
    "start_time": "2022-01-19T17:19:13.220Z"
   },
   {
    "duration": 21,
    "start_time": "2022-01-19T17:20:20.290Z"
   },
   {
    "duration": 355,
    "start_time": "2022-01-19T17:21:47.045Z"
   },
   {
    "duration": 21,
    "start_time": "2022-01-19T17:22:07.938Z"
   },
   {
    "duration": 22,
    "start_time": "2022-01-19T17:49:19.813Z"
   },
   {
    "duration": 22,
    "start_time": "2022-01-19T17:50:02.995Z"
   },
   {
    "duration": 21,
    "start_time": "2022-01-19T17:50:36.344Z"
   },
   {
    "duration": 8,
    "start_time": "2022-01-19T17:52:38.888Z"
   },
   {
    "duration": 15,
    "start_time": "2022-01-19T17:53:02.201Z"
   },
   {
    "duration": 21,
    "start_time": "2022-01-19T17:56:32.794Z"
   },
   {
    "duration": 22,
    "start_time": "2022-01-19T17:57:12.942Z"
   },
   {
    "duration": 26,
    "start_time": "2022-01-19T18:03:49.594Z"
   },
   {
    "duration": 23,
    "start_time": "2022-01-19T18:04:03.597Z"
   },
   {
    "duration": 17,
    "start_time": "2022-01-19T18:04:13.206Z"
   },
   {
    "duration": 13,
    "start_time": "2022-01-19T18:04:23.335Z"
   },
   {
    "duration": 18,
    "start_time": "2022-01-19T18:04:35.536Z"
   },
   {
    "duration": 110,
    "start_time": "2022-01-19T18:05:56.506Z"
   },
   {
    "duration": 23,
    "start_time": "2022-01-19T18:06:09.371Z"
   },
   {
    "duration": 22,
    "start_time": "2022-01-19T18:06:28.098Z"
   },
   {
    "duration": 60,
    "start_time": "2022-01-19T18:07:20.680Z"
   },
   {
    "duration": 429,
    "start_time": "2022-01-19T18:27:13.571Z"
   },
   {
    "duration": 434,
    "start_time": "2022-01-19T18:31:24.492Z"
   },
   {
    "duration": 466,
    "start_time": "2022-01-19T18:31:42.788Z"
   },
   {
    "duration": 691,
    "start_time": "2022-01-19T18:32:51.635Z"
   },
   {
    "duration": 553,
    "start_time": "2022-01-19T18:33:40.116Z"
   },
   {
    "duration": 510,
    "start_time": "2022-01-19T18:34:04.469Z"
   },
   {
    "duration": 500,
    "start_time": "2022-01-19T18:34:27.026Z"
   },
   {
    "duration": 532,
    "start_time": "2022-01-19T18:34:53.307Z"
   },
   {
    "duration": 561,
    "start_time": "2022-01-19T18:35:08.474Z"
   },
   {
    "duration": 820,
    "start_time": "2022-01-19T18:35:36.481Z"
   },
   {
    "duration": 706,
    "start_time": "2022-01-19T18:35:49.166Z"
   },
   {
    "duration": 14,
    "start_time": "2022-01-19T18:36:29.877Z"
   },
   {
    "duration": 99,
    "start_time": "2022-01-19T18:42:25.789Z"
   },
   {
    "duration": 14,
    "start_time": "2022-01-19T18:46:05.837Z"
   },
   {
    "duration": 14,
    "start_time": "2022-01-19T18:47:02.067Z"
   },
   {
    "duration": 117,
    "start_time": "2022-01-19T18:47:31.917Z"
   },
   {
    "duration": 13,
    "start_time": "2022-01-19T18:49:53.381Z"
   },
   {
    "duration": 2102,
    "start_time": "2022-01-19T18:54:54.722Z"
   },
   {
    "duration": 513,
    "start_time": "2022-01-19T18:54:56.826Z"
   },
   {
    "duration": 5,
    "start_time": "2022-01-19T18:54:57.343Z"
   },
   {
    "duration": 60,
    "start_time": "2022-01-19T18:54:57.351Z"
   },
   {
    "duration": 455,
    "start_time": "2022-01-19T18:54:57.414Z"
   },
   {
    "duration": 333,
    "start_time": "2022-01-19T18:54:57.871Z"
   },
   {
    "duration": 290,
    "start_time": "2022-01-19T18:54:58.207Z"
   },
   {
    "duration": 66,
    "start_time": "2022-01-19T18:54:58.501Z"
   },
   {
    "duration": 108,
    "start_time": "2022-01-19T18:54:58.571Z"
   },
   {
    "duration": 6,
    "start_time": "2022-01-19T18:54:58.681Z"
   },
   {
    "duration": 435,
    "start_time": "2022-01-19T18:54:58.690Z"
   },
   {
    "duration": 36,
    "start_time": "2022-01-19T18:54:59.127Z"
   },
   {
    "duration": 14,
    "start_time": "2022-01-19T18:54:59.165Z"
   },
   {
    "duration": 50,
    "start_time": "2022-01-19T18:54:59.181Z"
   },
   {
    "duration": 12,
    "start_time": "2022-01-19T18:54:59.233Z"
   },
   {
    "duration": 15,
    "start_time": "2022-01-19T18:54:59.248Z"
   },
   {
    "duration": 15,
    "start_time": "2022-01-19T18:54:59.265Z"
   },
   {
    "duration": 45,
    "start_time": "2022-01-19T18:54:59.282Z"
   },
   {
    "duration": 12,
    "start_time": "2022-01-19T18:54:59.329Z"
   },
   {
    "duration": 12,
    "start_time": "2022-01-19T18:54:59.343Z"
   },
   {
    "duration": 23,
    "start_time": "2022-01-19T18:54:59.357Z"
   },
   {
    "duration": 739,
    "start_time": "2022-01-19T18:54:59.424Z"
   },
   {
    "duration": -52,
    "start_time": "2022-01-19T18:55:00.220Z"
   },
   {
    "duration": -61,
    "start_time": "2022-01-19T18:55:00.231Z"
   },
   {
    "duration": -64,
    "start_time": "2022-01-19T18:55:00.236Z"
   },
   {
    "duration": -72,
    "start_time": "2022-01-19T18:55:00.246Z"
   },
   {
    "duration": -76,
    "start_time": "2022-01-19T18:55:00.252Z"
   },
   {
    "duration": -83,
    "start_time": "2022-01-19T18:55:00.261Z"
   },
   {
    "duration": -87,
    "start_time": "2022-01-19T18:55:00.267Z"
   },
   {
    "duration": -96,
    "start_time": "2022-01-19T18:55:00.277Z"
   },
   {
    "duration": -99,
    "start_time": "2022-01-19T18:55:00.282Z"
   },
   {
    "duration": -103,
    "start_time": "2022-01-19T18:55:00.287Z"
   },
   {
    "duration": -114,
    "start_time": "2022-01-19T18:55:00.299Z"
   },
   {
    "duration": -116,
    "start_time": "2022-01-19T18:55:00.303Z"
   },
   {
    "duration": -1775,
    "start_time": "2022-01-19T18:55:01.998Z"
   },
   {
    "duration": -1779,
    "start_time": "2022-01-19T18:55:02.004Z"
   },
   {
    "duration": -1784,
    "start_time": "2022-01-19T18:55:02.012Z"
   },
   {
    "duration": -1790,
    "start_time": "2022-01-19T18:55:02.020Z"
   },
   {
    "duration": -1807,
    "start_time": "2022-01-19T18:55:02.039Z"
   },
   {
    "duration": -1812,
    "start_time": "2022-01-19T18:55:02.046Z"
   },
   {
    "duration": -1816,
    "start_time": "2022-01-19T18:55:02.053Z"
   },
   {
    "duration": -1821,
    "start_time": "2022-01-19T18:55:02.060Z"
   },
   {
    "duration": -1825,
    "start_time": "2022-01-19T18:55:02.066Z"
   },
   {
    "duration": -1827,
    "start_time": "2022-01-19T18:55:02.070Z"
   },
   {
    "duration": -1830,
    "start_time": "2022-01-19T18:55:02.075Z"
   },
   {
    "duration": -1833,
    "start_time": "2022-01-19T18:55:02.080Z"
   },
   {
    "duration": -1837,
    "start_time": "2022-01-19T18:55:02.086Z"
   },
   {
    "duration": -1848,
    "start_time": "2022-01-19T18:55:02.099Z"
   },
   {
    "duration": -1852,
    "start_time": "2022-01-19T18:55:02.105Z"
   },
   {
    "duration": -1854,
    "start_time": "2022-01-19T18:55:02.109Z"
   },
   {
    "duration": -1857,
    "start_time": "2022-01-19T18:55:02.114Z"
   },
   {
    "duration": -1859,
    "start_time": "2022-01-19T18:55:02.118Z"
   },
   {
    "duration": -1863,
    "start_time": "2022-01-19T18:55:02.124Z"
   },
   {
    "duration": -1806,
    "start_time": "2022-01-19T18:55:02.128Z"
   },
   {
    "duration": -1810,
    "start_time": "2022-01-19T18:55:02.134Z"
   },
   {
    "duration": -1816,
    "start_time": "2022-01-19T18:55:02.141Z"
   },
   {
    "duration": -1819,
    "start_time": "2022-01-19T18:55:02.146Z"
   },
   {
    "duration": -1822,
    "start_time": "2022-01-19T18:55:02.150Z"
   },
   {
    "duration": -1827,
    "start_time": "2022-01-19T18:55:02.156Z"
   },
   {
    "duration": -1830,
    "start_time": "2022-01-19T18:55:02.160Z"
   },
   {
    "duration": -1832,
    "start_time": "2022-01-19T18:55:02.164Z"
   },
   {
    "duration": -1836,
    "start_time": "2022-01-19T18:55:02.169Z"
   },
   {
    "duration": -1838,
    "start_time": "2022-01-19T18:55:02.173Z"
   },
   {
    "duration": -1841,
    "start_time": "2022-01-19T18:55:02.177Z"
   },
   {
    "duration": -1845,
    "start_time": "2022-01-19T18:55:02.183Z"
   },
   {
    "duration": 2100,
    "start_time": "2022-01-19T18:55:32.736Z"
   },
   {
    "duration": 504,
    "start_time": "2022-01-19T18:55:34.839Z"
   },
   {
    "duration": 4,
    "start_time": "2022-01-19T18:55:35.346Z"
   },
   {
    "duration": 55,
    "start_time": "2022-01-19T18:55:35.353Z"
   },
   {
    "duration": 526,
    "start_time": "2022-01-19T18:55:35.410Z"
   },
   {
    "duration": 356,
    "start_time": "2022-01-19T18:55:35.938Z"
   },
   {
    "duration": 297,
    "start_time": "2022-01-19T18:55:36.296Z"
   },
   {
    "duration": 81,
    "start_time": "2022-01-19T18:55:36.598Z"
   },
   {
    "duration": 112,
    "start_time": "2022-01-19T18:55:36.682Z"
   },
   {
    "duration": 7,
    "start_time": "2022-01-19T18:55:36.797Z"
   },
   {
    "duration": 659,
    "start_time": "2022-01-19T18:55:36.807Z"
   },
   {
    "duration": 71,
    "start_time": "2022-01-19T18:55:37.468Z"
   },
   {
    "duration": 17,
    "start_time": "2022-01-19T18:55:37.542Z"
   },
   {
    "duration": 20,
    "start_time": "2022-01-19T18:55:37.562Z"
   },
   {
    "duration": 41,
    "start_time": "2022-01-19T18:55:37.584Z"
   },
   {
    "duration": 19,
    "start_time": "2022-01-19T18:55:37.627Z"
   },
   {
    "duration": 19,
    "start_time": "2022-01-19T18:55:37.649Z"
   },
   {
    "duration": 14,
    "start_time": "2022-01-19T18:55:37.671Z"
   },
   {
    "duration": 49,
    "start_time": "2022-01-19T18:55:37.688Z"
   },
   {
    "duration": 16,
    "start_time": "2022-01-19T18:55:37.739Z"
   },
   {
    "duration": 28,
    "start_time": "2022-01-19T18:55:37.758Z"
   },
   {
    "duration": 974,
    "start_time": "2022-01-19T18:55:37.822Z"
   },
   {
    "duration": -13,
    "start_time": "2022-01-19T18:55:38.816Z"
   },
   {
    "duration": -16,
    "start_time": "2022-01-19T18:55:38.821Z"
   },
   {
    "duration": -17,
    "start_time": "2022-01-19T18:55:38.824Z"
   },
   {
    "duration": -20,
    "start_time": "2022-01-19T18:55:38.828Z"
   },
   {
    "duration": -23,
    "start_time": "2022-01-19T18:55:38.833Z"
   },
   {
    "duration": -27,
    "start_time": "2022-01-19T18:55:38.838Z"
   },
   {
    "duration": -29,
    "start_time": "2022-01-19T18:55:38.842Z"
   },
   {
    "duration": -32,
    "start_time": "2022-01-19T18:55:38.847Z"
   },
   {
    "duration": -34,
    "start_time": "2022-01-19T18:55:38.851Z"
   },
   {
    "duration": -36,
    "start_time": "2022-01-19T18:55:38.855Z"
   },
   {
    "duration": -39,
    "start_time": "2022-01-19T18:55:38.860Z"
   },
   {
    "duration": -42,
    "start_time": "2022-01-19T18:55:38.864Z"
   },
   {
    "duration": -44,
    "start_time": "2022-01-19T18:55:38.868Z"
   },
   {
    "duration": -47,
    "start_time": "2022-01-19T18:55:38.873Z"
   },
   {
    "duration": -49,
    "start_time": "2022-01-19T18:55:38.877Z"
   },
   {
    "duration": -52,
    "start_time": "2022-01-19T18:55:38.881Z"
   },
   {
    "duration": -54,
    "start_time": "2022-01-19T18:55:38.885Z"
   },
   {
    "duration": -58,
    "start_time": "2022-01-19T18:55:38.890Z"
   },
   {
    "duration": -60,
    "start_time": "2022-01-19T18:55:38.894Z"
   },
   {
    "duration": -62,
    "start_time": "2022-01-19T18:55:38.898Z"
   },
   {
    "duration": -64,
    "start_time": "2022-01-19T18:55:38.902Z"
   },
   {
    "duration": -67,
    "start_time": "2022-01-19T18:55:38.906Z"
   },
   {
    "duration": -77,
    "start_time": "2022-01-19T18:55:38.918Z"
   },
   {
    "duration": -81,
    "start_time": "2022-01-19T18:55:38.923Z"
   },
   {
    "duration": -82,
    "start_time": "2022-01-19T18:55:38.926Z"
   },
   {
    "duration": -86,
    "start_time": "2022-01-19T18:55:38.932Z"
   },
   {
    "duration": -89,
    "start_time": "2022-01-19T18:55:38.937Z"
   },
   {
    "duration": -92,
    "start_time": "2022-01-19T18:55:38.941Z"
   },
   {
    "duration": -94,
    "start_time": "2022-01-19T18:55:38.945Z"
   },
   {
    "duration": -96,
    "start_time": "2022-01-19T18:55:38.949Z"
   },
   {
    "duration": -99,
    "start_time": "2022-01-19T18:55:38.953Z"
   },
   {
    "duration": -101,
    "start_time": "2022-01-19T18:55:38.958Z"
   },
   {
    "duration": -103,
    "start_time": "2022-01-19T18:55:38.962Z"
   },
   {
    "duration": -106,
    "start_time": "2022-01-19T18:55:38.967Z"
   },
   {
    "duration": -108,
    "start_time": "2022-01-19T18:55:38.971Z"
   },
   {
    "duration": -52,
    "start_time": "2022-01-19T18:55:38.976Z"
   },
   {
    "duration": -54,
    "start_time": "2022-01-19T18:55:38.980Z"
   },
   {
    "duration": -57,
    "start_time": "2022-01-19T18:55:38.985Z"
   },
   {
    "duration": -59,
    "start_time": "2022-01-19T18:55:38.989Z"
   },
   {
    "duration": -62,
    "start_time": "2022-01-19T18:55:38.994Z"
   },
   {
    "duration": -62,
    "start_time": "2022-01-19T18:55:38.997Z"
   },
   {
    "duration": -65,
    "start_time": "2022-01-19T18:55:39.002Z"
   },
   {
    "duration": -67,
    "start_time": "2022-01-19T18:55:39.006Z"
   },
   {
    "duration": 402,
    "start_time": "2022-01-19T18:56:13.909Z"
   },
   {
    "duration": 57,
    "start_time": "2022-01-19T18:57:56.259Z"
   },
   {
    "duration": 50,
    "start_time": "2022-01-19T18:58:12.713Z"
   },
   {
    "duration": 7,
    "start_time": "2022-01-19T18:58:34.388Z"
   },
   {
    "duration": 593,
    "start_time": "2022-01-19T18:58:34.398Z"
   },
   {
    "duration": 5,
    "start_time": "2022-01-19T18:58:34.994Z"
   },
   {
    "duration": 55,
    "start_time": "2022-01-19T18:58:35.003Z"
   },
   {
    "duration": 558,
    "start_time": "2022-01-19T18:58:35.060Z"
   },
   {
    "duration": 378,
    "start_time": "2022-01-19T18:58:35.623Z"
   },
   {
    "duration": 303,
    "start_time": "2022-01-19T18:58:36.004Z"
   },
   {
    "duration": 53,
    "start_time": "2022-01-19T18:58:36.323Z"
   },
   {
    "duration": 153,
    "start_time": "2022-01-19T18:58:36.379Z"
   },
   {
    "duration": 7,
    "start_time": "2022-01-19T18:58:36.536Z"
   },
   {
    "duration": 592,
    "start_time": "2022-01-19T18:58:36.546Z"
   },
   {
    "duration": 60,
    "start_time": "2022-01-19T18:58:37.141Z"
   },
   {
    "duration": 34,
    "start_time": "2022-01-19T18:58:37.204Z"
   },
   {
    "duration": 16,
    "start_time": "2022-01-19T18:58:37.241Z"
   },
   {
    "duration": 17,
    "start_time": "2022-01-19T18:58:37.260Z"
   },
   {
    "duration": 58,
    "start_time": "2022-01-19T18:58:37.280Z"
   },
   {
    "duration": 15,
    "start_time": "2022-01-19T18:58:37.340Z"
   },
   {
    "duration": 15,
    "start_time": "2022-01-19T18:58:37.358Z"
   },
   {
    "duration": 51,
    "start_time": "2022-01-19T18:58:37.375Z"
   },
   {
    "duration": 15,
    "start_time": "2022-01-19T18:58:37.429Z"
   },
   {
    "duration": 23,
    "start_time": "2022-01-19T18:58:37.446Z"
   },
   {
    "duration": 97,
    "start_time": "2022-01-19T18:58:37.472Z"
   },
   {
    "duration": 78,
    "start_time": "2022-01-19T18:58:37.575Z"
   },
   {
    "duration": 28,
    "start_time": "2022-01-19T18:58:37.657Z"
   },
   {
    "duration": 41,
    "start_time": "2022-01-19T18:58:37.687Z"
   },
   {
    "duration": 19,
    "start_time": "2022-01-19T18:58:37.730Z"
   },
   {
    "duration": 39,
    "start_time": "2022-01-19T18:58:37.752Z"
   },
   {
    "duration": 43,
    "start_time": "2022-01-19T18:58:37.793Z"
   },
   {
    "duration": 22,
    "start_time": "2022-01-19T18:58:37.839Z"
   },
   {
    "duration": 62,
    "start_time": "2022-01-19T18:58:37.864Z"
   },
   {
    "duration": 12,
    "start_time": "2022-01-19T18:58:37.928Z"
   },
   {
    "duration": 769,
    "start_time": "2022-01-19T18:58:37.942Z"
   },
   {
    "duration": 76,
    "start_time": "2022-01-19T18:58:38.722Z"
   },
   {
    "duration": 353,
    "start_time": "2022-01-19T18:58:38.802Z"
   },
   {
    "duration": 247,
    "start_time": "2022-01-19T18:58:39.158Z"
   },
   {
    "duration": 247,
    "start_time": "2022-01-19T18:58:39.407Z"
   },
   {
    "duration": 249,
    "start_time": "2022-01-19T18:58:39.656Z"
   },
   {
    "duration": 15,
    "start_time": "2022-01-19T18:58:39.908Z"
   },
   {
    "duration": 18,
    "start_time": "2022-01-19T18:58:39.925Z"
   },
   {
    "duration": 12,
    "start_time": "2022-01-19T18:58:39.946Z"
   },
   {
    "duration": 17,
    "start_time": "2022-01-19T18:58:39.960Z"
   },
   {
    "duration": 12,
    "start_time": "2022-01-19T18:58:39.979Z"
   },
   {
    "duration": 72,
    "start_time": "2022-01-19T18:58:40.024Z"
   },
   {
    "duration": 87,
    "start_time": "2022-01-19T18:58:40.099Z"
   },
   {
    "duration": 75,
    "start_time": "2022-01-19T18:58:40.188Z"
   },
   {
    "duration": 464,
    "start_time": "2022-01-19T18:58:40.265Z"
   },
   {
    "duration": 241,
    "start_time": "2022-01-19T18:58:40.732Z"
   },
   {
    "duration": 242,
    "start_time": "2022-01-19T18:58:40.976Z"
   },
   {
    "duration": 542,
    "start_time": "2022-01-19T18:58:41.224Z"
   },
   {
    "duration": 259,
    "start_time": "2022-01-19T18:58:41.768Z"
   },
   {
    "duration": 250,
    "start_time": "2022-01-19T18:58:42.030Z"
   },
   {
    "duration": 497,
    "start_time": "2022-01-19T18:58:42.283Z"
   },
   {
    "duration": 576,
    "start_time": "2022-01-19T18:58:42.783Z"
   },
   {
    "duration": 350,
    "start_time": "2022-01-19T18:58:43.362Z"
   },
   {
    "duration": 224,
    "start_time": "2022-01-19T18:58:43.714Z"
   },
   {
    "duration": 551,
    "start_time": "2022-01-19T18:58:43.940Z"
   },
   {
    "duration": 630,
    "start_time": "2022-01-19T18:58:44.493Z"
   },
   {
    "duration": 243,
    "start_time": "2022-01-19T18:58:45.126Z"
   },
   {
    "duration": 258,
    "start_time": "2022-01-19T18:58:45.371Z"
   },
   {
    "duration": 828,
    "start_time": "2022-01-19T18:58:45.631Z"
   },
   {
    "duration": 804,
    "start_time": "2022-01-19T18:58:46.461Z"
   },
   {
    "duration": 15,
    "start_time": "2022-01-19T18:58:47.268Z"
   },
   {
    "duration": 65,
    "start_time": "2022-01-19T18:58:47.285Z"
   },
   {
    "duration": 13,
    "start_time": "2022-01-19T18:58:47.353Z"
   },
   {
    "duration": 15,
    "start_time": "2022-01-19T18:58:47.369Z"
   },
   {
    "duration": 58085,
    "start_time": "2022-01-20T06:56:16.712Z"
   },
   {
    "duration": 398,
    "start_time": "2022-01-20T06:57:14.799Z"
   },
   {
    "duration": 3,
    "start_time": "2022-01-20T06:57:15.201Z"
   },
   {
    "duration": 31,
    "start_time": "2022-01-20T06:57:15.205Z"
   },
   {
    "duration": 282,
    "start_time": "2022-01-20T06:57:15.237Z"
   },
   {
    "duration": 181,
    "start_time": "2022-01-20T06:57:15.520Z"
   },
   {
    "duration": 157,
    "start_time": "2022-01-20T06:57:15.703Z"
   },
   {
    "duration": 33,
    "start_time": "2022-01-20T06:57:15.862Z"
   },
   {
    "duration": 65,
    "start_time": "2022-01-20T06:57:15.896Z"
   },
   {
    "duration": 4,
    "start_time": "2022-01-20T06:57:15.962Z"
   },
   {
    "duration": 260,
    "start_time": "2022-01-20T06:57:15.967Z"
   },
   {
    "duration": 23,
    "start_time": "2022-01-20T06:57:16.228Z"
   },
   {
    "duration": 9,
    "start_time": "2022-01-20T06:57:16.252Z"
   },
   {
    "duration": 29,
    "start_time": "2022-01-20T06:57:16.262Z"
   },
   {
    "duration": 7,
    "start_time": "2022-01-20T06:57:16.292Z"
   },
   {
    "duration": 30,
    "start_time": "2022-01-20T06:57:16.300Z"
   },
   {
    "duration": 12,
    "start_time": "2022-01-20T06:57:16.331Z"
   },
   {
    "duration": 13,
    "start_time": "2022-01-20T06:57:16.345Z"
   },
   {
    "duration": 11,
    "start_time": "2022-01-20T06:57:16.360Z"
   },
   {
    "duration": 10,
    "start_time": "2022-01-20T06:57:16.428Z"
   },
   {
    "duration": 31,
    "start_time": "2022-01-20T06:57:16.440Z"
   },
   {
    "duration": 47,
    "start_time": "2022-01-20T06:57:16.475Z"
   },
   {
    "duration": 44,
    "start_time": "2022-01-20T06:57:16.524Z"
   },
   {
    "duration": 22,
    "start_time": "2022-01-20T06:57:16.569Z"
   },
   {
    "duration": 45,
    "start_time": "2022-01-20T06:57:16.593Z"
   },
   {
    "duration": 19,
    "start_time": "2022-01-20T06:57:16.640Z"
   },
   {
    "duration": 68,
    "start_time": "2022-01-20T06:57:16.660Z"
   },
   {
    "duration": 8,
    "start_time": "2022-01-20T06:57:16.730Z"
   },
   {
    "duration": 15,
    "start_time": "2022-01-20T06:57:16.739Z"
   },
   {
    "duration": 27,
    "start_time": "2022-01-20T06:57:16.755Z"
   },
   {
    "duration": 49,
    "start_time": "2022-01-20T06:57:16.783Z"
   },
   {
    "duration": 507,
    "start_time": "2022-01-20T06:57:16.834Z"
   },
   {
    "duration": 42,
    "start_time": "2022-01-20T06:57:17.342Z"
   },
   {
    "duration": 213,
    "start_time": "2022-01-20T06:57:17.386Z"
   },
   {
    "duration": 142,
    "start_time": "2022-01-20T06:57:17.601Z"
   },
   {
    "duration": 140,
    "start_time": "2022-01-20T06:57:17.744Z"
   },
   {
    "duration": 141,
    "start_time": "2022-01-20T06:57:17.886Z"
   },
   {
    "duration": 4,
    "start_time": "2022-01-20T06:57:18.028Z"
   },
   {
    "duration": 23,
    "start_time": "2022-01-20T06:57:18.033Z"
   },
   {
    "duration": 11,
    "start_time": "2022-01-20T06:57:18.057Z"
   },
   {
    "duration": 19,
    "start_time": "2022-01-20T06:57:18.069Z"
   },
   {
    "duration": 18,
    "start_time": "2022-01-20T06:57:18.089Z"
   },
   {
    "duration": 55,
    "start_time": "2022-01-20T06:57:18.109Z"
   },
   {
    "duration": 39,
    "start_time": "2022-01-20T06:57:18.165Z"
   },
   {
    "duration": 37,
    "start_time": "2022-01-20T06:57:18.206Z"
   },
   {
    "duration": 266,
    "start_time": "2022-01-20T06:57:18.244Z"
   },
   {
    "duration": 132,
    "start_time": "2022-01-20T06:57:18.512Z"
   },
   {
    "duration": 136,
    "start_time": "2022-01-20T06:57:18.645Z"
   },
   {
    "duration": 302,
    "start_time": "2022-01-20T06:57:18.783Z"
   },
   {
    "duration": 187,
    "start_time": "2022-01-20T06:57:19.087Z"
   },
   {
    "duration": 145,
    "start_time": "2022-01-20T06:57:19.276Z"
   },
   {
    "duration": 278,
    "start_time": "2022-01-20T06:57:19.423Z"
   },
   {
    "duration": 293,
    "start_time": "2022-01-20T06:57:19.702Z"
   },
   {
    "duration": 231,
    "start_time": "2022-01-20T06:57:19.997Z"
   },
   {
    "duration": 136,
    "start_time": "2022-01-20T06:57:20.230Z"
   },
   {
    "duration": 317,
    "start_time": "2022-01-20T06:57:20.368Z"
   },
   {
    "duration": 329,
    "start_time": "2022-01-20T06:57:20.687Z"
   },
   {
    "duration": 145,
    "start_time": "2022-01-20T06:57:21.018Z"
   },
   {
    "duration": 143,
    "start_time": "2022-01-20T06:57:21.165Z"
   },
   {
    "duration": 438,
    "start_time": "2022-01-20T06:57:21.310Z"
   },
   {
    "duration": 407,
    "start_time": "2022-01-20T06:57:21.749Z"
   },
   {
    "duration": 10,
    "start_time": "2022-01-20T06:57:22.157Z"
   },
   {
    "duration": 28,
    "start_time": "2022-01-20T06:57:22.169Z"
   },
   {
    "duration": 33,
    "start_time": "2022-01-20T06:57:22.198Z"
   },
   {
    "duration": 9,
    "start_time": "2022-01-20T06:57:22.232Z"
   }
  ],
  "kernelspec": {
   "display_name": "Python 3 (ipykernel)",
   "language": "python",
   "name": "python3"
  },
  "language_info": {
   "codemirror_mode": {
    "name": "ipython",
    "version": 3
   },
   "file_extension": ".py",
   "mimetype": "text/x-python",
   "name": "python",
   "nbconvert_exporter": "python",
   "pygments_lexer": "ipython3",
   "version": "3.9.5"
  },
  "toc": {
   "base_numbering": 1,
   "nav_menu": {},
   "number_sections": true,
   "sideBar": true,
   "skip_h1_title": true,
   "title_cell": "Table of Contents",
   "title_sidebar": "Contents",
   "toc_cell": false,
   "toc_position": {},
   "toc_section_display": true,
   "toc_window_display": false
  }
 },
 "nbformat": 4,
 "nbformat_minor": 2
}
