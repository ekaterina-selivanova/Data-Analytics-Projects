{
 "cells": [
  {
   "cell_type": "markdown",
   "metadata": {},
   "source": [
    "# Проведение анализа и подготовка плана действий по удержанию клиентов сети фитнес-центров \"Культурист-датасаентист.\"\n",
    "\n",
    "**Описание данных**\n",
    "\n",
    "«Культурист-датасаентист» предоставил сведения в csv-файлах. Заказчик подготовил данные, которые содержат данные на месяц до оттока и факт оттока на определённый месяц. Набор данных включает следующие поля:\n",
    "Данные клиента за предыдущий до проверки факта оттока месяц:\n",
    "- **gender** — пол;\n",
    "- **Near_Location** — проживание или работа в районе, где находится фитнес-центр;\n",
    "- **Partner** — сотрудник компании-партнёра клуба (сотрудничество с компаниями, чьи сотрудники могут получать скидки на абонемент — в таком случае фитнес-центр хранит информацию о работодателе клиента);\n",
    "- **Promo_friends** — факт первоначальной записи в рамках акции «приведи друга» (использовал промо-код от знакомого при оплате первого абонемента);\n",
    "- **Phone** — наличие контактного телефона;\n",
    "- **Age** — возраст;\n",
    "- **Lifetime** — время с момента первого обращения в фитнес-центр (в месяцах).\n",
    "Информация на основе журнала посещений, покупок и информация о текущем статусе абонемента клиента:\n",
    "- **Contract_period** — длительность текущего действующего абонемента (месяц, 6 месяцев, год);\n",
    "- **Month_to_end_contract** — срок до окончания текущего действующего абонемента (в месяцах);\n",
    "- **Group_visits** — факт посещения групповых занятий;\n",
    "- **Avg_class_frequency_total** — средняя частота посещений в неделю за все время с начала действия абонемента;\n",
    "- **Avg_class_frequency_current_month** — средняя частота посещений в неделю за предыдущий месяц;\n",
    "- **Avg_additional_charges_total** — суммарная выручка от других услуг фитнес-центра: кафе, спорттовары, косметический и массажный салон.\n",
    "- **Churn** — факт оттока в текущем месяце.\n",
    "\n",
    "\n",
    "**Цель исследования** - провести анализ и подготовить план действий по удержанию клиентов. \n",
    "А именно:\n",
    "научиться прогнозировать вероятность оттока (на уровне следующего месяца) для каждого клиента;\n",
    "сформировать типичные портреты клиентов: выделить несколько наиболее ярких групп и охарактеризовать их основные свойства;\n",
    "проанализировать основные признаки, наиболее сильно влияющие на отток;\n",
    "сформулировать основные выводы и разработать рекомендации по повышению качества работы с клиентами:\n",
    "1) выделить целевые группы клиентов;\n",
    "2) предложить меры по снижению оттока;\n",
    "3) определить другие особенности взаимодействия с клиентами.\n",
    "\n",
    "\n",
    "**Ход исследования** - заказчик подготовил датасет в формате csv в котором содержатся данные клиента за предыдущий до проверки факта оттока месяц и информацию на основе журнала посещений, покупок и сведения о текущем статусе абонемента клиента. О качестве данных ничего неизвестно, на первоначальном этапе следует провести предварительный анализ данных на предмет полноты данных, наличия отсутствующих признаков, а также изучить средние значения и распределение признаков для тех клиентов, кто ушел и тех,кто остался. Изучить матрицу корреляции признаков. После выполнения предобработки данных необходимо построить модели бинарной классификации клиентов с помощью логистической регрессии и случайным лесом, где целевой признак — факт оттока клиента в следующем месяце. Сравнить и определить какая модель показала себя лучше на основании метрик accuracy, precision и recall. Следующим шагом выполним кластеризацию клиентов, построим матрицу расстояний и визуализируем ее с помощью дендрограммы. Сформируем выводы на основе средний значений признаков и определим какие кластеры склонны к оттоку. Предложим рекомендации для улучшения стратегии удержания клиентов.\n",
    "\n",
    "Этапы исследования:\n",
    "- [Шаг 1. Загрузка данных.](#general_id)\n",
    "- [Шаг 2. Проведение исследовательского анализа данных (EDA).](#step_two)\n",
    "- [Шаг 3. Построение модели прогнозирования оттока клиентов.](#step_three)\n",
    "- [Шаг 4. Кластеризация.](#step_four)\n",
    "- [Общий вывод](#conclusion_id)\n",
    "\n"
   ]
  },
  {
   "cell_type": "markdown",
   "metadata": {},
   "source": [
    "### Шаг. Загрузка и выполнение предобработки данных.\n",
    "<a id=general_id></a>\n",
    "Загрузите данные\n",
    "Путь к файлу: /datasets/gym_churn.csv."
   ]
  },
  {
   "cell_type": "code",
   "execution_count": 1,
   "metadata": {},
   "outputs": [
    {
     "name": "stdout",
     "output_type": "stream",
     "text": [
      "Requirement already satisfied: plotly in /opt/conda/lib/python3.9/site-packages (5.4.0)\r\n",
      "Requirement already satisfied: six in /opt/conda/lib/python3.9/site-packages (from plotly) (1.16.0)\r\n",
      "Requirement already satisfied: tenacity>=6.2.0 in /opt/conda/lib/python3.9/site-packages (from plotly) (8.0.1)\r\n"
     ]
    }
   ],
   "source": [
    "import pandas as pd\n",
    "import seaborn as sns\n",
    "import numpy as np\n",
    "!pip install plotly\n",
    "from plotly import graph_objects as go\n",
    "import plotly.express as px \n",
    "from scipy import stats as st\n",
    "pd.set_option('display.float_format', '{:,.2f}'.format)\n",
    "import random\n",
    "from sklearn.model_selection import train_test_split\n",
    "from matplotlib import pyplot as plt\n",
    "%matplotlib inline\n",
    "from sklearn.preprocessing import StandardScaler\n",
    "from sklearn.linear_model import LogisticRegression\n",
    "from sklearn.ensemble import RandomForestClassifier\n",
    "from sklearn.metrics import accuracy_score, precision_score, recall_score\n",
    "from scipy.cluster.hierarchy import dendrogram, linkage \n",
    "from sklearn.cluster import KMeans\n",
    "import itertools"
   ]
  },
  {
   "cell_type": "code",
   "execution_count": 2,
   "metadata": {},
   "outputs": [],
   "source": [
    "#загружаем инфомрацию из лога приложения\n",
    "try:  \n",
    "    data = pd.read_csv('/datasets/gym_churn.csv')\n",
    "    \n",
    "except:\n",
    "    data = pd.read_csv('/datasets/gym_churn.csv')"
   ]
  },
  {
   "cell_type": "markdown",
   "metadata": {},
   "source": [
    "### Шаг. Проведение исследовательского анализа данных (EDA).\n",
    "<a id=step_two></a>"
   ]
  },
  {
   "cell_type": "markdown",
   "metadata": {},
   "source": [
    "Создадим функцию research для изучения данных в таблице."
   ]
  },
  {
   "cell_type": "code",
   "execution_count": 3,
   "metadata": {},
   "outputs": [],
   "source": [
    "def research (data):\n",
    "    data.info(memory_usage='deep')\n",
    "    display(data.head(11))\n",
    "    display(data.describe())\n",
    "    print('\\033[1m' + 'Количество дубликатов' + '\\033[1m',data.duplicated().sum())"
   ]
  },
  {
   "cell_type": "code",
   "execution_count": 4,
   "metadata": {},
   "outputs": [
    {
     "name": "stdout",
     "output_type": "stream",
     "text": [
      "<class 'pandas.core.frame.DataFrame'>\n",
      "RangeIndex: 4000 entries, 0 to 3999\n",
      "Data columns (total 14 columns):\n",
      " #   Column                             Non-Null Count  Dtype  \n",
      "---  ------                             --------------  -----  \n",
      " 0   gender                             4000 non-null   int64  \n",
      " 1   Near_Location                      4000 non-null   int64  \n",
      " 2   Partner                            4000 non-null   int64  \n",
      " 3   Promo_friends                      4000 non-null   int64  \n",
      " 4   Phone                              4000 non-null   int64  \n",
      " 5   Contract_period                    4000 non-null   int64  \n",
      " 6   Group_visits                       4000 non-null   int64  \n",
      " 7   Age                                4000 non-null   int64  \n",
      " 8   Avg_additional_charges_total       4000 non-null   float64\n",
      " 9   Month_to_end_contract              4000 non-null   float64\n",
      " 10  Lifetime                           4000 non-null   int64  \n",
      " 11  Avg_class_frequency_total          4000 non-null   float64\n",
      " 12  Avg_class_frequency_current_month  4000 non-null   float64\n",
      " 13  Churn                              4000 non-null   int64  \n",
      "dtypes: float64(4), int64(10)\n",
      "memory usage: 437.6 KB\n"
     ]
    },
    {
     "data": {
      "text/html": [
       "<div>\n",
       "<style scoped>\n",
       "    .dataframe tbody tr th:only-of-type {\n",
       "        vertical-align: middle;\n",
       "    }\n",
       "\n",
       "    .dataframe tbody tr th {\n",
       "        vertical-align: top;\n",
       "    }\n",
       "\n",
       "    .dataframe thead th {\n",
       "        text-align: right;\n",
       "    }\n",
       "</style>\n",
       "<table border=\"1\" class=\"dataframe\">\n",
       "  <thead>\n",
       "    <tr style=\"text-align: right;\">\n",
       "      <th></th>\n",
       "      <th>gender</th>\n",
       "      <th>Near_Location</th>\n",
       "      <th>Partner</th>\n",
       "      <th>Promo_friends</th>\n",
       "      <th>Phone</th>\n",
       "      <th>Contract_period</th>\n",
       "      <th>Group_visits</th>\n",
       "      <th>Age</th>\n",
       "      <th>Avg_additional_charges_total</th>\n",
       "      <th>Month_to_end_contract</th>\n",
       "      <th>Lifetime</th>\n",
       "      <th>Avg_class_frequency_total</th>\n",
       "      <th>Avg_class_frequency_current_month</th>\n",
       "      <th>Churn</th>\n",
       "    </tr>\n",
       "  </thead>\n",
       "  <tbody>\n",
       "    <tr>\n",
       "      <th>0</th>\n",
       "      <td>1</td>\n",
       "      <td>1</td>\n",
       "      <td>1</td>\n",
       "      <td>1</td>\n",
       "      <td>0</td>\n",
       "      <td>6</td>\n",
       "      <td>1</td>\n",
       "      <td>29</td>\n",
       "      <td>14.23</td>\n",
       "      <td>5.00</td>\n",
       "      <td>3</td>\n",
       "      <td>0.02</td>\n",
       "      <td>0.00</td>\n",
       "      <td>0</td>\n",
       "    </tr>\n",
       "    <tr>\n",
       "      <th>1</th>\n",
       "      <td>0</td>\n",
       "      <td>1</td>\n",
       "      <td>0</td>\n",
       "      <td>0</td>\n",
       "      <td>1</td>\n",
       "      <td>12</td>\n",
       "      <td>1</td>\n",
       "      <td>31</td>\n",
       "      <td>113.20</td>\n",
       "      <td>12.00</td>\n",
       "      <td>7</td>\n",
       "      <td>1.92</td>\n",
       "      <td>1.91</td>\n",
       "      <td>0</td>\n",
       "    </tr>\n",
       "    <tr>\n",
       "      <th>2</th>\n",
       "      <td>0</td>\n",
       "      <td>1</td>\n",
       "      <td>1</td>\n",
       "      <td>0</td>\n",
       "      <td>1</td>\n",
       "      <td>1</td>\n",
       "      <td>0</td>\n",
       "      <td>28</td>\n",
       "      <td>129.45</td>\n",
       "      <td>1.00</td>\n",
       "      <td>2</td>\n",
       "      <td>1.86</td>\n",
       "      <td>1.74</td>\n",
       "      <td>0</td>\n",
       "    </tr>\n",
       "    <tr>\n",
       "      <th>3</th>\n",
       "      <td>0</td>\n",
       "      <td>1</td>\n",
       "      <td>1</td>\n",
       "      <td>1</td>\n",
       "      <td>1</td>\n",
       "      <td>12</td>\n",
       "      <td>1</td>\n",
       "      <td>33</td>\n",
       "      <td>62.67</td>\n",
       "      <td>12.00</td>\n",
       "      <td>2</td>\n",
       "      <td>3.21</td>\n",
       "      <td>3.36</td>\n",
       "      <td>0</td>\n",
       "    </tr>\n",
       "    <tr>\n",
       "      <th>4</th>\n",
       "      <td>1</td>\n",
       "      <td>1</td>\n",
       "      <td>1</td>\n",
       "      <td>1</td>\n",
       "      <td>1</td>\n",
       "      <td>1</td>\n",
       "      <td>0</td>\n",
       "      <td>26</td>\n",
       "      <td>198.36</td>\n",
       "      <td>1.00</td>\n",
       "      <td>3</td>\n",
       "      <td>1.11</td>\n",
       "      <td>1.12</td>\n",
       "      <td>0</td>\n",
       "    </tr>\n",
       "    <tr>\n",
       "      <th>5</th>\n",
       "      <td>1</td>\n",
       "      <td>1</td>\n",
       "      <td>0</td>\n",
       "      <td>0</td>\n",
       "      <td>1</td>\n",
       "      <td>1</td>\n",
       "      <td>1</td>\n",
       "      <td>34</td>\n",
       "      <td>450.74</td>\n",
       "      <td>1.00</td>\n",
       "      <td>3</td>\n",
       "      <td>2.62</td>\n",
       "      <td>2.64</td>\n",
       "      <td>0</td>\n",
       "    </tr>\n",
       "    <tr>\n",
       "      <th>6</th>\n",
       "      <td>1</td>\n",
       "      <td>1</td>\n",
       "      <td>1</td>\n",
       "      <td>1</td>\n",
       "      <td>0</td>\n",
       "      <td>6</td>\n",
       "      <td>1</td>\n",
       "      <td>32</td>\n",
       "      <td>94.27</td>\n",
       "      <td>6.00</td>\n",
       "      <td>2</td>\n",
       "      <td>1.14</td>\n",
       "      <td>1.28</td>\n",
       "      <td>0</td>\n",
       "    </tr>\n",
       "    <tr>\n",
       "      <th>7</th>\n",
       "      <td>0</td>\n",
       "      <td>1</td>\n",
       "      <td>0</td>\n",
       "      <td>0</td>\n",
       "      <td>1</td>\n",
       "      <td>1</td>\n",
       "      <td>0</td>\n",
       "      <td>30</td>\n",
       "      <td>217.79</td>\n",
       "      <td>1.00</td>\n",
       "      <td>0</td>\n",
       "      <td>1.21</td>\n",
       "      <td>1.05</td>\n",
       "      <td>1</td>\n",
       "    </tr>\n",
       "    <tr>\n",
       "      <th>8</th>\n",
       "      <td>1</td>\n",
       "      <td>1</td>\n",
       "      <td>1</td>\n",
       "      <td>1</td>\n",
       "      <td>1</td>\n",
       "      <td>1</td>\n",
       "      <td>1</td>\n",
       "      <td>23</td>\n",
       "      <td>45.41</td>\n",
       "      <td>1.00</td>\n",
       "      <td>1</td>\n",
       "      <td>1.11</td>\n",
       "      <td>1.06</td>\n",
       "      <td>0</td>\n",
       "    </tr>\n",
       "    <tr>\n",
       "      <th>9</th>\n",
       "      <td>0</td>\n",
       "      <td>1</td>\n",
       "      <td>0</td>\n",
       "      <td>0</td>\n",
       "      <td>1</td>\n",
       "      <td>1</td>\n",
       "      <td>0</td>\n",
       "      <td>31</td>\n",
       "      <td>65.31</td>\n",
       "      <td>1.00</td>\n",
       "      <td>11</td>\n",
       "      <td>1.81</td>\n",
       "      <td>1.95</td>\n",
       "      <td>0</td>\n",
       "    </tr>\n",
       "    <tr>\n",
       "      <th>10</th>\n",
       "      <td>0</td>\n",
       "      <td>1</td>\n",
       "      <td>0</td>\n",
       "      <td>0</td>\n",
       "      <td>0</td>\n",
       "      <td>6</td>\n",
       "      <td>1</td>\n",
       "      <td>32</td>\n",
       "      <td>229.71</td>\n",
       "      <td>6.00</td>\n",
       "      <td>3</td>\n",
       "      <td>1.64</td>\n",
       "      <td>1.37</td>\n",
       "      <td>0</td>\n",
       "    </tr>\n",
       "  </tbody>\n",
       "</table>\n",
       "</div>"
      ],
      "text/plain": [
       "    gender  Near_Location  Partner  Promo_friends  Phone  Contract_period  \\\n",
       "0        1              1        1              1      0                6   \n",
       "1        0              1        0              0      1               12   \n",
       "2        0              1        1              0      1                1   \n",
       "3        0              1        1              1      1               12   \n",
       "4        1              1        1              1      1                1   \n",
       "5        1              1        0              0      1                1   \n",
       "6        1              1        1              1      0                6   \n",
       "7        0              1        0              0      1                1   \n",
       "8        1              1        1              1      1                1   \n",
       "9        0              1        0              0      1                1   \n",
       "10       0              1        0              0      0                6   \n",
       "\n",
       "    Group_visits  Age  Avg_additional_charges_total  Month_to_end_contract  \\\n",
       "0              1   29                         14.23                   5.00   \n",
       "1              1   31                        113.20                  12.00   \n",
       "2              0   28                        129.45                   1.00   \n",
       "3              1   33                         62.67                  12.00   \n",
       "4              0   26                        198.36                   1.00   \n",
       "5              1   34                        450.74                   1.00   \n",
       "6              1   32                         94.27                   6.00   \n",
       "7              0   30                        217.79                   1.00   \n",
       "8              1   23                         45.41                   1.00   \n",
       "9              0   31                         65.31                   1.00   \n",
       "10             1   32                        229.71                   6.00   \n",
       "\n",
       "    Lifetime  Avg_class_frequency_total  Avg_class_frequency_current_month  \\\n",
       "0          3                       0.02                               0.00   \n",
       "1          7                       1.92                               1.91   \n",
       "2          2                       1.86                               1.74   \n",
       "3          2                       3.21                               3.36   \n",
       "4          3                       1.11                               1.12   \n",
       "5          3                       2.62                               2.64   \n",
       "6          2                       1.14                               1.28   \n",
       "7          0                       1.21                               1.05   \n",
       "8          1                       1.11                               1.06   \n",
       "9         11                       1.81                               1.95   \n",
       "10         3                       1.64                               1.37   \n",
       "\n",
       "    Churn  \n",
       "0       0  \n",
       "1       0  \n",
       "2       0  \n",
       "3       0  \n",
       "4       0  \n",
       "5       0  \n",
       "6       0  \n",
       "7       1  \n",
       "8       0  \n",
       "9       0  \n",
       "10      0  "
      ]
     },
     "metadata": {},
     "output_type": "display_data"
    },
    {
     "data": {
      "text/html": [
       "<div>\n",
       "<style scoped>\n",
       "    .dataframe tbody tr th:only-of-type {\n",
       "        vertical-align: middle;\n",
       "    }\n",
       "\n",
       "    .dataframe tbody tr th {\n",
       "        vertical-align: top;\n",
       "    }\n",
       "\n",
       "    .dataframe thead th {\n",
       "        text-align: right;\n",
       "    }\n",
       "</style>\n",
       "<table border=\"1\" class=\"dataframe\">\n",
       "  <thead>\n",
       "    <tr style=\"text-align: right;\">\n",
       "      <th></th>\n",
       "      <th>gender</th>\n",
       "      <th>Near_Location</th>\n",
       "      <th>Partner</th>\n",
       "      <th>Promo_friends</th>\n",
       "      <th>Phone</th>\n",
       "      <th>Contract_period</th>\n",
       "      <th>Group_visits</th>\n",
       "      <th>Age</th>\n",
       "      <th>Avg_additional_charges_total</th>\n",
       "      <th>Month_to_end_contract</th>\n",
       "      <th>Lifetime</th>\n",
       "      <th>Avg_class_frequency_total</th>\n",
       "      <th>Avg_class_frequency_current_month</th>\n",
       "      <th>Churn</th>\n",
       "    </tr>\n",
       "  </thead>\n",
       "  <tbody>\n",
       "    <tr>\n",
       "      <th>count</th>\n",
       "      <td>4,000.00</td>\n",
       "      <td>4,000.00</td>\n",
       "      <td>4,000.00</td>\n",
       "      <td>4,000.00</td>\n",
       "      <td>4,000.00</td>\n",
       "      <td>4,000.00</td>\n",
       "      <td>4,000.00</td>\n",
       "      <td>4,000.00</td>\n",
       "      <td>4,000.00</td>\n",
       "      <td>4,000.00</td>\n",
       "      <td>4,000.00</td>\n",
       "      <td>4,000.00</td>\n",
       "      <td>4,000.00</td>\n",
       "      <td>4,000.00</td>\n",
       "    </tr>\n",
       "    <tr>\n",
       "      <th>mean</th>\n",
       "      <td>0.51</td>\n",
       "      <td>0.85</td>\n",
       "      <td>0.49</td>\n",
       "      <td>0.31</td>\n",
       "      <td>0.90</td>\n",
       "      <td>4.68</td>\n",
       "      <td>0.41</td>\n",
       "      <td>29.18</td>\n",
       "      <td>146.94</td>\n",
       "      <td>4.32</td>\n",
       "      <td>3.72</td>\n",
       "      <td>1.88</td>\n",
       "      <td>1.77</td>\n",
       "      <td>0.27</td>\n",
       "    </tr>\n",
       "    <tr>\n",
       "      <th>std</th>\n",
       "      <td>0.50</td>\n",
       "      <td>0.36</td>\n",
       "      <td>0.50</td>\n",
       "      <td>0.46</td>\n",
       "      <td>0.30</td>\n",
       "      <td>4.55</td>\n",
       "      <td>0.49</td>\n",
       "      <td>3.26</td>\n",
       "      <td>96.36</td>\n",
       "      <td>4.19</td>\n",
       "      <td>3.75</td>\n",
       "      <td>0.97</td>\n",
       "      <td>1.05</td>\n",
       "      <td>0.44</td>\n",
       "    </tr>\n",
       "    <tr>\n",
       "      <th>min</th>\n",
       "      <td>0.00</td>\n",
       "      <td>0.00</td>\n",
       "      <td>0.00</td>\n",
       "      <td>0.00</td>\n",
       "      <td>0.00</td>\n",
       "      <td>1.00</td>\n",
       "      <td>0.00</td>\n",
       "      <td>18.00</td>\n",
       "      <td>0.15</td>\n",
       "      <td>1.00</td>\n",
       "      <td>0.00</td>\n",
       "      <td>0.00</td>\n",
       "      <td>0.00</td>\n",
       "      <td>0.00</td>\n",
       "    </tr>\n",
       "    <tr>\n",
       "      <th>25%</th>\n",
       "      <td>0.00</td>\n",
       "      <td>1.00</td>\n",
       "      <td>0.00</td>\n",
       "      <td>0.00</td>\n",
       "      <td>1.00</td>\n",
       "      <td>1.00</td>\n",
       "      <td>0.00</td>\n",
       "      <td>27.00</td>\n",
       "      <td>68.87</td>\n",
       "      <td>1.00</td>\n",
       "      <td>1.00</td>\n",
       "      <td>1.18</td>\n",
       "      <td>0.96</td>\n",
       "      <td>0.00</td>\n",
       "    </tr>\n",
       "    <tr>\n",
       "      <th>50%</th>\n",
       "      <td>1.00</td>\n",
       "      <td>1.00</td>\n",
       "      <td>0.00</td>\n",
       "      <td>0.00</td>\n",
       "      <td>1.00</td>\n",
       "      <td>1.00</td>\n",
       "      <td>0.00</td>\n",
       "      <td>29.00</td>\n",
       "      <td>136.22</td>\n",
       "      <td>1.00</td>\n",
       "      <td>3.00</td>\n",
       "      <td>1.83</td>\n",
       "      <td>1.72</td>\n",
       "      <td>0.00</td>\n",
       "    </tr>\n",
       "    <tr>\n",
       "      <th>75%</th>\n",
       "      <td>1.00</td>\n",
       "      <td>1.00</td>\n",
       "      <td>1.00</td>\n",
       "      <td>1.00</td>\n",
       "      <td>1.00</td>\n",
       "      <td>6.00</td>\n",
       "      <td>1.00</td>\n",
       "      <td>31.00</td>\n",
       "      <td>210.95</td>\n",
       "      <td>6.00</td>\n",
       "      <td>5.00</td>\n",
       "      <td>2.54</td>\n",
       "      <td>2.51</td>\n",
       "      <td>1.00</td>\n",
       "    </tr>\n",
       "    <tr>\n",
       "      <th>max</th>\n",
       "      <td>1.00</td>\n",
       "      <td>1.00</td>\n",
       "      <td>1.00</td>\n",
       "      <td>1.00</td>\n",
       "      <td>1.00</td>\n",
       "      <td>12.00</td>\n",
       "      <td>1.00</td>\n",
       "      <td>41.00</td>\n",
       "      <td>552.59</td>\n",
       "      <td>12.00</td>\n",
       "      <td>31.00</td>\n",
       "      <td>6.02</td>\n",
       "      <td>6.15</td>\n",
       "      <td>1.00</td>\n",
       "    </tr>\n",
       "  </tbody>\n",
       "</table>\n",
       "</div>"
      ],
      "text/plain": [
       "        gender  Near_Location  Partner  Promo_friends    Phone  \\\n",
       "count 4,000.00       4,000.00 4,000.00       4,000.00 4,000.00   \n",
       "mean      0.51           0.85     0.49           0.31     0.90   \n",
       "std       0.50           0.36     0.50           0.46     0.30   \n",
       "min       0.00           0.00     0.00           0.00     0.00   \n",
       "25%       0.00           1.00     0.00           0.00     1.00   \n",
       "50%       1.00           1.00     0.00           0.00     1.00   \n",
       "75%       1.00           1.00     1.00           1.00     1.00   \n",
       "max       1.00           1.00     1.00           1.00     1.00   \n",
       "\n",
       "       Contract_period  Group_visits      Age  Avg_additional_charges_total  \\\n",
       "count         4,000.00      4,000.00 4,000.00                      4,000.00   \n",
       "mean              4.68          0.41    29.18                        146.94   \n",
       "std               4.55          0.49     3.26                         96.36   \n",
       "min               1.00          0.00    18.00                          0.15   \n",
       "25%               1.00          0.00    27.00                         68.87   \n",
       "50%               1.00          0.00    29.00                        136.22   \n",
       "75%               6.00          1.00    31.00                        210.95   \n",
       "max              12.00          1.00    41.00                        552.59   \n",
       "\n",
       "       Month_to_end_contract  Lifetime  Avg_class_frequency_total  \\\n",
       "count               4,000.00  4,000.00                   4,000.00   \n",
       "mean                    4.32      3.72                       1.88   \n",
       "std                     4.19      3.75                       0.97   \n",
       "min                     1.00      0.00                       0.00   \n",
       "25%                     1.00      1.00                       1.18   \n",
       "50%                     1.00      3.00                       1.83   \n",
       "75%                     6.00      5.00                       2.54   \n",
       "max                    12.00     31.00                       6.02   \n",
       "\n",
       "       Avg_class_frequency_current_month    Churn  \n",
       "count                           4,000.00 4,000.00  \n",
       "mean                                1.77     0.27  \n",
       "std                                 1.05     0.44  \n",
       "min                                 0.00     0.00  \n",
       "25%                                 0.96     0.00  \n",
       "50%                                 1.72     0.00  \n",
       "75%                                 2.51     1.00  \n",
       "max                                 6.15     1.00  "
      ]
     },
     "metadata": {},
     "output_type": "display_data"
    },
    {
     "name": "stdout",
     "output_type": "stream",
     "text": [
      "\u001b[1mКоличество дубликатов\u001b[1m 0\n"
     ]
    }
   ],
   "source": [
    "research(data)"
   ]
  },
  {
   "cell_type": "markdown",
   "metadata": {},
   "source": [
    "Посмотрим на средние значения признаков в двух группах — тех, кто ушел в отток и тех, кто остался."
   ]
  },
  {
   "cell_type": "code",
   "execution_count": 5,
   "metadata": {},
   "outputs": [],
   "source": [
    "#приведем наименования столбцов к нижнему регистру\n",
    "data.columns = [x.lower() for x in data.columns]"
   ]
  },
  {
   "cell_type": "code",
   "execution_count": 6,
   "metadata": {
    "scrolled": true
   },
   "outputs": [
    {
     "data": {
      "text/html": [
       "<div>\n",
       "<style scoped>\n",
       "    .dataframe tbody tr th:only-of-type {\n",
       "        vertical-align: middle;\n",
       "    }\n",
       "\n",
       "    .dataframe tbody tr th {\n",
       "        vertical-align: top;\n",
       "    }\n",
       "\n",
       "    .dataframe thead th {\n",
       "        text-align: right;\n",
       "    }\n",
       "</style>\n",
       "<table border=\"1\" class=\"dataframe\">\n",
       "  <thead>\n",
       "    <tr style=\"text-align: right;\">\n",
       "      <th></th>\n",
       "      <th>gender</th>\n",
       "      <th>near_location</th>\n",
       "      <th>partner</th>\n",
       "      <th>promo_friends</th>\n",
       "      <th>phone</th>\n",
       "      <th>contract_period</th>\n",
       "      <th>group_visits</th>\n",
       "      <th>age</th>\n",
       "      <th>avg_additional_charges_total</th>\n",
       "      <th>month_to_end_contract</th>\n",
       "      <th>lifetime</th>\n",
       "      <th>avg_class_frequency_total</th>\n",
       "      <th>avg_class_frequency_current_month</th>\n",
       "    </tr>\n",
       "    <tr>\n",
       "      <th>churn</th>\n",
       "      <th></th>\n",
       "      <th></th>\n",
       "      <th></th>\n",
       "      <th></th>\n",
       "      <th></th>\n",
       "      <th></th>\n",
       "      <th></th>\n",
       "      <th></th>\n",
       "      <th></th>\n",
       "      <th></th>\n",
       "      <th></th>\n",
       "      <th></th>\n",
       "      <th></th>\n",
       "    </tr>\n",
       "  </thead>\n",
       "  <tbody>\n",
       "    <tr>\n",
       "      <th>0</th>\n",
       "      <td>0.51</td>\n",
       "      <td>0.87</td>\n",
       "      <td>0.53</td>\n",
       "      <td>0.35</td>\n",
       "      <td>0.90</td>\n",
       "      <td>5.75</td>\n",
       "      <td>0.46</td>\n",
       "      <td>29.98</td>\n",
       "      <td>158.45</td>\n",
       "      <td>5.28</td>\n",
       "      <td>4.71</td>\n",
       "      <td>2.02</td>\n",
       "      <td>2.03</td>\n",
       "    </tr>\n",
       "    <tr>\n",
       "      <th>1</th>\n",
       "      <td>0.51</td>\n",
       "      <td>0.77</td>\n",
       "      <td>0.36</td>\n",
       "      <td>0.18</td>\n",
       "      <td>0.90</td>\n",
       "      <td>1.73</td>\n",
       "      <td>0.27</td>\n",
       "      <td>26.99</td>\n",
       "      <td>115.08</td>\n",
       "      <td>1.66</td>\n",
       "      <td>0.99</td>\n",
       "      <td>1.47</td>\n",
       "      <td>1.04</td>\n",
       "    </tr>\n",
       "  </tbody>\n",
       "</table>\n",
       "</div>"
      ],
      "text/plain": [
       "       gender  near_location  partner  promo_friends  phone  contract_period  \\\n",
       "churn                                                                          \n",
       "0        0.51           0.87     0.53           0.35   0.90             5.75   \n",
       "1        0.51           0.77     0.36           0.18   0.90             1.73   \n",
       "\n",
       "       group_visits   age  avg_additional_charges_total  \\\n",
       "churn                                                     \n",
       "0              0.46 29.98                        158.45   \n",
       "1              0.27 26.99                        115.08   \n",
       "\n",
       "       month_to_end_contract  lifetime  avg_class_frequency_total  \\\n",
       "churn                                                               \n",
       "0                       5.28      4.71                       2.02   \n",
       "1                       1.66      0.99                       1.47   \n",
       "\n",
       "       avg_class_frequency_current_month  \n",
       "churn                                     \n",
       "0                                   2.03  \n",
       "1                                   1.04  "
      ]
     },
     "execution_count": 6,
     "metadata": {},
     "output_type": "execute_result"
    }
   ],
   "source": [
    "data.groupby('churn').mean()"
   ]
  },
  {
   "cell_type": "markdown",
   "metadata": {},
   "source": [
    "Средние значения по ушедшим Клиентам ниже чем среднее значения по оставшимся Клиентам по следующим признакам:\n",
    "\n",
    "- участник акции \"Приведи друга\";\n",
    "- длительность текущего действующего абонемента (месяц, 6 месяцев, год);\n",
    "- срок до окончания текущего действующего абонемента (в месяцах);\n",
    "- время с момента первого обращения в фитнес-центр (в месяцах). Информация на основе журнала посещений, покупок и информация о текущем статусе абонемента клиента;\n",
    "- средняя частота посещений в неделю за предыдущий месяц;\n",
    "- сотрудник Компании-партнера;\n",
    "- возраст;\n",
    "- средняя частота посещений в неделю за все время с начала действия абонемента;\n",
    "- суммарная выручка от других услуг фитнес-центр;\n",
    "- посещение групповых занятий;\n",
    "- проживание или работа в районе, где находится фитнес-центр.\n"
   ]
  },
  {
   "cell_type": "code",
   "execution_count": 7,
   "metadata": {},
   "outputs": [
    {
     "data": {
      "image/png": "[encoded data removed]",
      "text/plain": [
       "<Figure size 360x360 with 1 Axes>"
      ]
     },
     "metadata": {
      "needs_background": "light"
     },
     "output_type": "display_data"
    },
    {
     "data": {
      "image/png": "[encoded data removed]",
      "text/plain": [
       "<Figure size 360x360 with 1 Axes>"
      ]
     },
     "metadata": {
      "needs_background": "light"
     },
     "output_type": "display_data"
    },
    {
     "data": {
      "image/png": "[encoded data removed]",
      "text/plain": [
       "<Figure size 360x360 with 1 Axes>"
      ]
     },
     "metadata": {
      "needs_background": "light"
     },
     "output_type": "display_data"
    },
    {
     "data": {
      "image/png": "[encoded data removed]",
      "text/plain": [
       "<Figure size 360x360 with 1 Axes>"
      ]
     },
     "metadata": {
      "needs_background": "light"
     },
     "output_type": "display_data"
    },
    {
     "data": {
      "image/png": "[encoded data removed]",
      "text/plain": [
       "<Figure size 360x360 with 1 Axes>"
      ]
     },
     "metadata": {
      "needs_background": "light"
     },
     "output_type": "display_data"
    },
    {
     "data": {
      "image/png": "[encoded data removed]",
      "text/plain": [
       "<Figure size 360x360 with 1 Axes>"
      ]
     },
     "metadata": {
      "needs_background": "light"
     },
     "output_type": "display_data"
    },
    {
     "data": {
      "image/png": "[encoded data removed]",
      "text/plain": [
       "<Figure size 360x360 with 1 Axes>"
      ]
     },
     "metadata": {
      "needs_background": "light"
     },
     "output_type": "display_data"
    },
    {
     "data": {
      "image/png": "[encoded data removed]",
      "text/plain": [
       "<Figure size 360x360 with 1 Axes>"
      ]
     },
     "metadata": {
      "needs_background": "light"
     },
     "output_type": "display_data"
    },
    {
     "data": {
      "image/png": "[encoded data removed]",
      "text/plain": [
       "<Figure size 360x360 with 1 Axes>"
      ]
     },
     "metadata": {
      "needs_background": "light"
     },
     "output_type": "display_data"
    },
    {
     "data": {
      "image/png": "[encoded data removed]",
      "text/plain": [
       "<Figure size 360x360 with 1 Axes>"
      ]
     },
     "metadata": {
      "needs_background": "light"
     },
     "output_type": "display_data"
    },
    {
     "data": {
      "image/png": "[encoded data removed]",
      "text/plain": [
       "<Figure size 360x360 with 1 Axes>"
      ]
     },
     "metadata": {
      "needs_background": "light"
     },
     "output_type": "display_data"
    },
    {
     "data": {
      "image/png": "[encoded data removed]",
      "text/plain": [
       "<Figure size 360x360 with 1 Axes>"
      ]
     },
     "metadata": {
      "needs_background": "light"
     },
     "output_type": "display_data"
    },
    {
     "data": {
      "image/png": "[encoded data removed]",
      "text/plain": [
       "<Figure size 360x360 with 1 Axes>"
      ]
     },
     "metadata": {
      "needs_background": "light"
     },
     "output_type": "display_data"
    }
   ],
   "source": [
    "#Построим столбчатые гистограммы и распределения признаков для тех, кто ушёл (отток) и тех, кто остался (не попали в отток).\n",
    "for col in data.drop('churn',axis=1).columns:\n",
    "\n",
    "    plt.rcParams['figure.figsize']=5,5\n",
    "    sns.histplot(data, x=data[col], hue=data['churn'], multiple = 'stack')\n",
    "    plt.title('Distribution of features {}'.format(col))\n",
    "\n",
    "    plt.xlabel('stayed (0) or left (1)')\n",
    "\n",
    "    plt.show()\n"
   ]
  },
  {
   "cell_type": "markdown",
   "metadata": {},
   "source": [
    "Исходя из сформированной гистрограммы можно предположить,что на удержание Клиентов оказывают влияние такие признаки как:\n",
    "- сотрудник Компании-партнера;\n",
    "- участник акции \"Приведи друга\";\n",
    "- длительность текущего действующего абонемента (месяц, 6 месяцев, год);\n",
    "- посещение групповых занятий;\n",
    "- суммарная выручка от других услуг фитнес-центр;\n",
    "- срок до окончания текущего действующего абонемента (в месяцах);\n",
    "- время с момента первого обращения в фитнес-центр (в месяцах). Информация на основе журнала посещений, покупок и информация о текущем статусе абонемента клиента;\n",
    "- проживание или работа в районе, где находится фитнес-центр;\n",
    "- возраст;\n",
    "- средняя частота посещений в неделю за все время с начала действия абонемента;\n",
    "- средняя частота посещений в неделю за предыдущий месяц."
   ]
  },
  {
   "cell_type": "code",
   "execution_count": 8,
   "metadata": {},
   "outputs": [
    {
     "data": {
      "image/png": "[encoded data removed]",
      "text/plain": [
       "<Figure size 1080x1080 with 2 Axes>"
      ]
     },
     "metadata": {
      "needs_background": "light"
     },
     "output_type": "display_data"
    }
   ],
   "source": [
    "#построим и отрисуем матрицу корреляций\n",
    "cm = data.corr() #вычисляем матрицу корреляций\n",
    "\n",
    "plt.rcParams['figure.figsize']=15,15\n",
    "\n",
    "#нарисуем тепловую карту с подписями для матрицы корреляций\n",
    "sns.heatmap(cm, annot=True, square=True)\n",
    "\n",
    "\n",
    "plt.show()"
   ]
  },
  {
   "cell_type": "markdown",
   "metadata": {},
   "source": [
    "Матрица корреляций подтверждает наибольшую обратную зависимость оттока Клиентов по признакам:\n",
    "- время с момента первого обращения в фитнес-центр (в месяцах). Информация на основе журнала посещений, покупок и информация о текущем статусе абонемента клиента;\n",
    "- средняя частота посещений в неделю за предыдущий месяц;\n",
    "- возраст;\n",
    "- длительность текущего действующего абонемента (месяц, 6 месяцев, год);\n",
    "- срок до окончания текущего действующего абонемента (в месяцах);\n",
    "- средняя частота посещений в неделю за все время с начала действия абонемента;\n",
    "- суммарная выручка от других услуг фитнес-центр;\n",
    "- посещение групповых занятий;\n",
    "- сотрудник Компании-партнера;\n",
    "- участник акции \"Приведи друга\";\n",
    "- проживание или работа в районе, где находится фитнес-центр."
   ]
  },
  {
   "cell_type": "code",
   "execution_count": 9,
   "metadata": {},
   "outputs": [],
   "source": [
    "data=data.drop('month_to_end_contract',axis=1)"
   ]
  },
  {
   "cell_type": "markdown",
   "metadata": {},
   "source": [
    "#### Вывод"
   ]
  },
  {
   "cell_type": "markdown",
   "metadata": {},
   "source": [
    "При проведении исследовательского анализа данных (EDA) пропущенные значения не были обнаружены.\n",
    "В таблице задан числовой формат для признаков.\n",
    "Наименования колонок приведены к нижнему регистру.\n",
    "Таблица состоит из данных о 4000 Клиентах и 14 признаков Клиентов. \n",
    "\n",
    "При выполнении группировки таблицы по признаку оттока Клиентов и изучении средних значений признаков,гистрограммы, а также матрицы корреляции выявлена обратная зависимость оттока Клиентов от следующих признаков:\n",
    "\n",
    "- время с момента первого обращения в фитнес-центр (в месяцах). Информация на основе журнала посещений, покупок и информация о текущем статусе абонемента клиента;\n",
    "- средняя частота посещений в неделю за предыдущий месяц;\n",
    "- возраст;\n",
    "- длительность текущего действующего абонемента (месяц, 6 месяцев, год);\n",
    "- срок до окончания текущего действующего абонемента (в месяцах);\n",
    "- средняя частота посещений в неделю за все время с начала действия абонемента;\n",
    "- суммарная выручка от других услуг фитнес-центр;\n",
    "- посещение групповых занятий;\n",
    "- сотрудник Компании-партнера;\n",
    "- участник акции \"Приведи друга\";\n",
    "- проживание или работа в районе, где находится фитнес-центр.\n",
    "\n",
    "Чем меньше показатель признака,тем больше вероятность ухода Клиента.\n",
    "\n",
    "Наибольшее влияние (более 40%) на показатель оттока Клиентов влияют следующие признаки:\n",
    "- время с момента первого обращения в фитнес-центр (в месяцах). Информация на основе журнала посещений, покупок и информация о текущем статусе абонемента клиента;\n",
    "- средняя частота посещений в неделю за предыдущий месяц;\n",
    "- возраст;\n",
    "- длительность текущего действующего абонемента (месяц, 6 месяцев, год);\n",
    "- срок до окончания текущего действующего абонемента (в месяцах)."
   ]
  },
  {
   "cell_type": "markdown",
   "metadata": {},
   "source": [
    "### Шаг.  Построение модели прогнозирования оттока клиентов.\n",
    "<a id=step_three></a>"
   ]
  },
  {
   "cell_type": "code",
   "execution_count": 10,
   "metadata": {},
   "outputs": [
    {
     "name": "stdout",
     "output_type": "stream",
     "text": [
      "Планируемый отток: 192 человека, что составляет 24% от общего числа Клиентов.\n",
      "Accuracy: 0.92\n",
      "Precision: 0.85\n",
      "Recall: 0.83\n"
     ]
    }
   ],
   "source": [
    "#разделим наши данные на признаки (матрица X) и целевую переменную (y)\n",
    "X=data.drop('churn',axis=1)\n",
    "y=data['churn']\n",
    "\n",
    "#разделяем модель на обучающую и валидационную выборки\n",
    "X_train, X_test, y_train, y_test = train_test_split(X, y, test_size=0.2, random_state=0)\n",
    "\n",
    "# обучим StandartScaler на обучающей выборке\n",
    "scaler = StandardScaler()\n",
    "scaler.fit(X_train)\n",
    "\n",
    "# Преобразуем обучающий и валидационные наборы данных\n",
    "X_train_st = scaler.transform(X_train)\n",
    "X_test_st = scaler.transform(X_test)\n",
    "\n",
    "# зададим алгоритм для нашей модели\n",
    "model = LogisticRegression(solver='liblinear',random_state=0)\n",
    "# обучим модель\n",
    "model.fit(X_train_st, y_train)\n",
    "\n",
    "# воспользуемся уже обученной моделью, чтобы сделать прогнозы\n",
    "predictions = model.predict(X_test_st)\n",
    "probabilities = model.predict_proba(X_test_st)[:, 1]\n",
    "\n",
    "# округлим результаты до целого числа\n",
    "probabilities=[round(v,0) for v in probabilities]\n",
    "\n",
    "# выведем результаты\n",
    "print('Планируемый отток: {:.0f} человека, что составляет {:.0%} от общего числа Клиентов.'.format(sum(probabilities),sum(probabilities)/len(probabilities)))\n",
    "\n",
    "# выведем все изученные метрики для полученного прогноза\n",
    "print('Accuracy: {:.2f}'.format(accuracy_score(y_test, predictions)))\n",
    "print('Precision: {:.2f}'.format(precision_score(y_test, predictions)))\n",
    "print('Recall: {:.2f}'.format(recall_score(y_test, predictions)))\n",
    "\n"
   ]
  },
  {
   "cell_type": "code",
   "execution_count": 11,
   "metadata": {},
   "outputs": [
    {
     "name": "stdout",
     "output_type": "stream",
     "text": [
      "Планируемый отток: 193 человека, что составляет 24% от общего числа Клиентов.\n",
      "Accuracy: 0.91\n",
      "Precision: 0.83\n",
      "Recall: 0.81\n"
     ]
    }
   ],
   "source": [
    "# зададим алгоритм для нашей модели\n",
    "model = RandomForestClassifier(random_state=0)\n",
    "# обучим модель\n",
    "model.fit(X_train_st, y_train)\n",
    "\n",
    "# воспользуемся уже обученной моделью, чтобы сделать прогнозы\n",
    "probabilities = model.predict_proba(X_test_st)[:, 1]\n",
    "\n",
    "# бинарный прогноз\n",
    "predictions = model.predict(X_test_st)\n",
    "\n",
    "\n",
    "probabilities=[round(v,0) for v in probabilities]\n",
    "\n",
    "print('Планируемый отток: {:.0f} человека, что составляет {:.0%} от общего числа Клиентов.'.format(sum(probabilities),sum(probabilities)/len(probabilities)))\n",
    "\n",
    "\n",
    "# выведите все изученные метрики для полученного прогноза\n",
    "print('Accuracy: {:.2f}'.format(accuracy_score(y_test, predictions)))\n",
    "print('Precision: {:.2f}'.format(precision_score(y_test, predictions)))\n",
    "print('Recall: {:.2f}'.format(recall_score(y_test, predictions)))\n"
   ]
  },
  {
   "cell_type": "markdown",
   "metadata": {},
   "source": [
    "#### Вывод"
   ]
  },
  {
   "cell_type": "markdown",
   "metadata": {},
   "source": [
    "На основании модели бинарной классификации клиентов построенной с помощью логистической регрессии планируемый отток Клиентов на прогнозный месяц составил 192 человека, что составляет 24% от общего числа Клиентов, при построении модели  случайным лесом, отток Клиентов на прогнозный месяц составил 193 человека, что составляет 24% от общего числа Клиентов.\n",
    "\n",
    "Доля правильных ответов (accuracy) точнее на 0.01 при построении модели с помощью логистической регрессии."
   ]
  },
  {
   "cell_type": "markdown",
   "metadata": {},
   "source": [
    "### Шаг.  Кластеризация.\n",
    "<a id=step_four></a>"
   ]
  },
  {
   "cell_type": "markdown",
   "metadata": {},
   "source": [
    "Нарисуем дендограмму в Python."
   ]
  },
  {
   "cell_type": "code",
   "execution_count": 12,
   "metadata": {},
   "outputs": [],
   "source": [
    "#исключим столбец с признаком оттока клиентов\n",
    "X=data.drop('churn',axis=1)\n",
    "\n",
    "# обязательная стандартизация данных перед работой с алгоритмами\n",
    "sc = StandardScaler()\n",
    "X_sc = sc.fit_transform(X)\n",
    "\n",
    "#В переменной linked сохранена таблица «связок» между объектами. \n",
    "linked = linkage(X_sc, method = 'ward') "
   ]
  },
  {
   "cell_type": "code",
   "execution_count": 13,
   "metadata": {},
   "outputs": [
    {
     "data": {
      "image/png": "[encoded data removed]",
      "text/plain": [
       "<Figure size 1080x720 with 1 Axes>"
      ]
     },
     "metadata": {
      "needs_background": "light"
     },
     "output_type": "display_data"
    }
   ],
   "source": [
    "#визуализируем дендрограмму\n",
    "plt.figure(figsize=(15, 10))  \n",
    "dendrogram(linked, orientation='top')\n",
    "plt.title('Klasters')\n",
    "plt.show() "
   ]
  },
  {
   "cell_type": "markdown",
   "metadata": {},
   "source": [
    "Предложенное оптимальное число кластеров 5 — четыре разных цвета на графике."
   ]
  },
  {
   "cell_type": "markdown",
   "metadata": {},
   "source": [
    "Обучим модель кластеризации на основании алгоритма K-Means и спрогнозируем кластеры клиентов. Число кластеров примем n=5."
   ]
  },
  {
   "cell_type": "code",
   "execution_count": 14,
   "metadata": {
    "scrolled": true
   },
   "outputs": [
    {
     "data": {
      "text/html": [
       "<div>\n",
       "<style scoped>\n",
       "    .dataframe tbody tr th:only-of-type {\n",
       "        vertical-align: middle;\n",
       "    }\n",
       "\n",
       "    .dataframe tbody tr th {\n",
       "        vertical-align: top;\n",
       "    }\n",
       "\n",
       "    .dataframe thead th {\n",
       "        text-align: right;\n",
       "    }\n",
       "</style>\n",
       "<table border=\"1\" class=\"dataframe\">\n",
       "  <thead>\n",
       "    <tr style=\"text-align: right;\">\n",
       "      <th></th>\n",
       "      <th>gender</th>\n",
       "      <th>near_location</th>\n",
       "      <th>partner</th>\n",
       "      <th>promo_friends</th>\n",
       "      <th>phone</th>\n",
       "      <th>contract_period</th>\n",
       "      <th>group_visits</th>\n",
       "      <th>age</th>\n",
       "      <th>avg_additional_charges_total</th>\n",
       "      <th>lifetime</th>\n",
       "      <th>avg_class_frequency_total</th>\n",
       "      <th>avg_class_frequency_current_month</th>\n",
       "      <th>churn</th>\n",
       "    </tr>\n",
       "    <tr>\n",
       "      <th>cluster</th>\n",
       "      <th></th>\n",
       "      <th></th>\n",
       "      <th></th>\n",
       "      <th></th>\n",
       "      <th></th>\n",
       "      <th></th>\n",
       "      <th></th>\n",
       "      <th></th>\n",
       "      <th></th>\n",
       "      <th></th>\n",
       "      <th></th>\n",
       "      <th></th>\n",
       "      <th></th>\n",
       "    </tr>\n",
       "  </thead>\n",
       "  <tbody>\n",
       "    <tr>\n",
       "      <th>0</th>\n",
       "      <td>0.50</td>\n",
       "      <td>0.97</td>\n",
       "      <td>0.91</td>\n",
       "      <td>0.98</td>\n",
       "      <td>1.00</td>\n",
       "      <td>7.78</td>\n",
       "      <td>0.56</td>\n",
       "      <td>29.84</td>\n",
       "      <td>157.66</td>\n",
       "      <td>4.66</td>\n",
       "      <td>2.00</td>\n",
       "      <td>2.00</td>\n",
       "      <td>0.01</td>\n",
       "    </tr>\n",
       "    <tr>\n",
       "      <th>1</th>\n",
       "      <td>0.53</td>\n",
       "      <td>0.86</td>\n",
       "      <td>0.47</td>\n",
       "      <td>0.31</td>\n",
       "      <td>0.00</td>\n",
       "      <td>4.77</td>\n",
       "      <td>0.43</td>\n",
       "      <td>29.30</td>\n",
       "      <td>144.10</td>\n",
       "      <td>3.93</td>\n",
       "      <td>1.85</td>\n",
       "      <td>1.72</td>\n",
       "      <td>0.27</td>\n",
       "    </tr>\n",
       "    <tr>\n",
       "      <th>2</th>\n",
       "      <td>0.55</td>\n",
       "      <td>0.84</td>\n",
       "      <td>0.33</td>\n",
       "      <td>0.06</td>\n",
       "      <td>1.00</td>\n",
       "      <td>4.92</td>\n",
       "      <td>0.44</td>\n",
       "      <td>29.97</td>\n",
       "      <td>159.24</td>\n",
       "      <td>4.71</td>\n",
       "      <td>2.91</td>\n",
       "      <td>2.91</td>\n",
       "      <td>0.00</td>\n",
       "    </tr>\n",
       "    <tr>\n",
       "      <th>3</th>\n",
       "      <td>0.51</td>\n",
       "      <td>0.76</td>\n",
       "      <td>0.34</td>\n",
       "      <td>0.18</td>\n",
       "      <td>1.00</td>\n",
       "      <td>1.65</td>\n",
       "      <td>0.26</td>\n",
       "      <td>26.90</td>\n",
       "      <td>115.45</td>\n",
       "      <td>0.98</td>\n",
       "      <td>1.45</td>\n",
       "      <td>1.02</td>\n",
       "      <td>1.00</td>\n",
       "    </tr>\n",
       "    <tr>\n",
       "      <th>4</th>\n",
       "      <td>0.47</td>\n",
       "      <td>0.81</td>\n",
       "      <td>0.40</td>\n",
       "      <td>0.06</td>\n",
       "      <td>1.00</td>\n",
       "      <td>4.62</td>\n",
       "      <td>0.40</td>\n",
       "      <td>30.11</td>\n",
       "      <td>158.52</td>\n",
       "      <td>4.63</td>\n",
       "      <td>1.14</td>\n",
       "      <td>1.14</td>\n",
       "      <td>0.00</td>\n",
       "    </tr>\n",
       "  </tbody>\n",
       "</table>\n",
       "</div>"
      ],
      "text/plain": [
       "         gender  near_location  partner  promo_friends  phone  \\\n",
       "cluster                                                         \n",
       "0          0.50           0.97     0.91           0.98   1.00   \n",
       "1          0.53           0.86     0.47           0.31   0.00   \n",
       "2          0.55           0.84     0.33           0.06   1.00   \n",
       "3          0.51           0.76     0.34           0.18   1.00   \n",
       "4          0.47           0.81     0.40           0.06   1.00   \n",
       "\n",
       "         contract_period  group_visits   age  avg_additional_charges_total  \\\n",
       "cluster                                                                      \n",
       "0                   7.78          0.56 29.84                        157.66   \n",
       "1                   4.77          0.43 29.30                        144.10   \n",
       "2                   4.92          0.44 29.97                        159.24   \n",
       "3                   1.65          0.26 26.90                        115.45   \n",
       "4                   4.62          0.40 30.11                        158.52   \n",
       "\n",
       "         lifetime  avg_class_frequency_total  \\\n",
       "cluster                                        \n",
       "0            4.66                       2.00   \n",
       "1            3.93                       1.85   \n",
       "2            4.71                       2.91   \n",
       "3            0.98                       1.45   \n",
       "4            4.63                       1.14   \n",
       "\n",
       "         avg_class_frequency_current_month  churn  \n",
       "cluster                                            \n",
       "0                                     2.00   0.01  \n",
       "1                                     1.72   0.27  \n",
       "2                                     2.91   0.00  \n",
       "3                                     1.02   1.00  \n",
       "4                                     1.14   0.00  "
      ]
     },
     "metadata": {},
     "output_type": "display_data"
    }
   ],
   "source": [
    "# обязательная стандартизация данных перед работой с алгоритмами\n",
    "sc = StandardScaler()\n",
    "X_sc = sc.fit_transform(data)\n",
    "\n",
    "# задаём число кластеров, равное 5, и фиксируем значение random_state для воспроизводимости результата\n",
    "km = KMeans(n_clusters=5, random_state=0) \n",
    "\n",
    "# применяем алгоритм к данным и формируем вектор кластеров \n",
    "labels = km.fit_predict(X_sc) \n",
    "\n",
    "# сохраняем метки кластера в поле нашего датасета\n",
    "data['cluster'] = labels\n",
    "\n",
    "# выводим статистику по средним значениям наших признаков по кластеру\n",
    "clusters=data.groupby('cluster').mean()\n",
    "display(clusters)"
   ]
  },
  {
   "cell_type": "markdown",
   "metadata": {},
   "source": [
    "Исходя из полученных средних значений можно заметить,что в 1 и 3 кластер попали Клиенты с высокой вероятностью оттока. Остальные закономерности заметить сложнее, поэтому прибегнем к визуализации данных."
   ]
  },
  {
   "cell_type": "code",
   "execution_count": 15,
   "metadata": {},
   "outputs": [
    {
     "data": {
      "image/png": "[encoded data removed]",
      "text/plain": [
       "<Figure size 1440x360 with 1 Axes>"
      ]
     },
     "metadata": {
      "needs_background": "light"
     },
     "output_type": "display_data"
    },
    {
     "data": {
      "image/png": "[encoded data removed]",
      "text/plain": [
       "<Figure size 1440x360 with 1 Axes>"
      ]
     },
     "metadata": {
      "needs_background": "light"
     },
     "output_type": "display_data"
    },
    {
     "data": {
      "image/png": "[encoded data removed]",
      "text/plain": [
       "<Figure size 1440x360 with 1 Axes>"
      ]
     },
     "metadata": {
      "needs_background": "light"
     },
     "output_type": "display_data"
    },
    {
     "data": {
      "image/png": "[encoded data removed]",
      "text/plain": [
       "<Figure size 1440x360 with 1 Axes>"
      ]
     },
     "metadata": {
      "needs_background": "light"
     },
     "output_type": "display_data"
    },
    {
     "data": {
      "image/png": "[encoded data removed]",
      "text/plain": [
       "<Figure size 1440x360 with 1 Axes>"
      ]
     },
     "metadata": {
      "needs_background": "light"
     },
     "output_type": "display_data"
    },
    {
     "data": {
      "image/png": "[encoded data removed]",
      "text/plain": [
       "<Figure size 1440x360 with 1 Axes>"
      ]
     },
     "metadata": {
      "needs_background": "light"
     },
     "output_type": "display_data"
    },
    {
     "data": {
      "image/png": "[encoded data removed]",
      "text/plain": [
       "<Figure size 1440x360 with 1 Axes>"
      ]
     },
     "metadata": {
      "needs_background": "light"
     },
     "output_type": "display_data"
    },
    {
     "data": {
      "image/png": "[encoded data removed]",
      "text/plain": [
       "<Figure size 1440x360 with 1 Axes>"
      ]
     },
     "metadata": {
      "needs_background": "light"
     },
     "output_type": "display_data"
    },
    {
     "data": {
      "image/png": "[encoded data removed]",
      "text/plain": [
       "<Figure size 1440x360 with 1 Axes>"
      ]
     },
     "metadata": {
      "needs_background": "light"
     },
     "output_type": "display_data"
    },
    {
     "data": {
      "image/png": "[encoded data removed]",
      "text/plain": [
       "<Figure size 1440x360 with 1 Axes>"
      ]
     },
     "metadata": {
      "needs_background": "light"
     },
     "output_type": "display_data"
    },
    {
     "data": {
      "image/png": "[encoded data removed]",
      "text/plain": [
       "<Figure size 1440x360 with 1 Axes>"
      ]
     },
     "metadata": {
      "needs_background": "light"
     },
     "output_type": "display_data"
    },
    {
     "data": {
      "image/png": "[encoded data removed]",
      "text/plain": [
       "<Figure size 1440x360 with 1 Axes>"
      ]
     },
     "metadata": {
      "needs_background": "light"
     },
     "output_type": "display_data"
    },
    {
     "data": {
      "image/png": "[encoded data removed]",
      "text/plain": [
       "<Figure size 1440x360 with 1 Axes>"
      ]
     },
     "metadata": {
      "needs_background": "light"
     },
     "output_type": "display_data"
    }
   ],
   "source": [
    "\n",
    "for col in data.drop('cluster',axis=1).columns:\n",
    "\n",
    "    plt.rcParams['figure.figsize']=20,5\n",
    "    sns.histplot(data.drop('cluster',axis=1), x=data[col], hue=data['cluster'], multiple = 'stack')\n",
    "    plt.title('Distribution of features {}'.format(col))\n",
    "\n",
    "    plt.xlabel('cluster')\n",
    "\n",
    "    plt.show()"
   ]
  },
  {
   "cell_type": "markdown",
   "metadata": {},
   "source": [
    "По кластерам с наибольшей вероятностью оттока 1 и 3 низкие значения по признакам:\n",
    "    \n",
    "- участник акции \"Приведи друга\";\n",
    "- длительность текущего действующего абонемента (месяц, 6 месяцев, год);\n",
    "- время с момента первого обращения в фитнес-центр (в месяцах). Информация на основе журнала посещений, покупок и информация о текущем статусе абонемента клиента;\n",
    "- средняя частота посещений в неделю за предыдущий месяц;\n",
    "- сотрудник Компании-партнера;\n",
    "- средняя частота посещений в неделю за все время с начала действия абонемента;\n",
    "- суммарная выручка от других услуг фитнес-центр;\n",
    "- посещение групповых занятий;\n",
    "\n",
    "Явные различия между кластерами лишь в том, что к 3 кластеру относятся Клиенты,которые проживают в большей удаленности от фитнес-центра,а ко 1 кластеру относятся более молодые Клиенты с более низким лайфтаймом.\n",
    "\n",
    "К 0,2,4 кластеру относятся интересующие нас Клиенты.\n",
    "У Всех трех кластеров высокие показатели по признакам:\n",
    "- время с момента первого обращения в фитнес-центр (в месяцах). Информация на основе журнала посещений, покупок и информация о текущем статусе абонемента клиента;\n",
    "- суммарная выручка от других услуг фитнес-центр;\n",
    "- возраст;\n",
    "- проживание или работа в районе, где находится фитнес-центр.\n",
    "\n",
    "\n",
    "Клиенты 2 и 4 кластера заключают контракты на более короткий срок и меньше Клиентов, сотрудников наших партнеров, чем у Клиентов 0 кластера. А также, практически нет участников акции \"приведи друга\".\n",
    "\n",
    "Клиенты 4 кластера реже посещают фитнес-центр.\n",
    "\n",
    "А Клиенты 0 кластера имеют высокие показатели по всем признакам.\n"
   ]
  },
  {
   "cell_type": "markdown",
   "metadata": {},
   "source": []
  },
  {
   "cell_type": "code",
   "execution_count": 16,
   "metadata": {},
   "outputs": [
    {
     "data": {
      "text/plain": [
       "cluster\n",
       "4   0.00\n",
       "2   0.00\n",
       "0   0.01\n",
       "1   0.27\n",
       "3   1.00\n",
       "Name: churn, dtype: float64"
      ]
     },
     "metadata": {},
     "output_type": "display_data"
    }
   ],
   "source": [
    "#выведем долю оттока\n",
    "display(data.groupby('cluster').mean()['churn'].sort_values())"
   ]
  },
  {
   "cell_type": "markdown",
   "metadata": {},
   "source": [
    "Доля оттока подтверждает то,что к 0,2,4 кластерам относятся остающиеся Клиенты. В 3 кластере клиентов,покидающих фитнес-клуб большее, а во 1 кластере 27% уходящих Клиентов."
   ]
  },
  {
   "cell_type": "markdown",
   "metadata": {},
   "source": [
    "#### Вывод\n",
    "\n",
    "Исходя из результатов дендрограммы, при расчете модели кластеризации на основании алгоритма K-Means было спрогнозировано 5 кластеров Клиентов.\n",
    "\n",
    "В 1 кластере количество уходящих Клиентов составило около 27% , для них характерны низкие показатели по признакам:\n",
    "- участник акции \"Приведи друга\";\n",
    "- длительность текущего действующего абонемента (месяц, 6 месяцев, год);\n",
    "- срок до окончания текущего действующего абонемента (в месяцах);\n",
    "- время с момента первого обращения в фитнес-центр (в месяцах). Информация на основе журнала посещений, покупок и информация о текущем статусе абонемента клиента;\n",
    "- средняя частота посещений в неделю за предыдущий месяц;\n",
    "- сотрудник Компании-партнера;\n",
    "- средняя частота посещений в неделю за все время с начала действия абонемента;\n",
    "- суммарная выручка от других услуг фитнес-центр;\n",
    "- посещение групповых занятий;\n",
    "- **возраст.**\n",
    "\n",
    "В 3 кластере количество уходящих Клиентов составило около 100% , для них характерны низкие показатели по признакам:\n",
    "- **проживание или работа в районе, где находится фитнес-центр.**\n",
    "- участник акции \"Приведи друга\";\n",
    "- длительность текущего действующего абонемента (месяц, 6 месяцев, год);\n",
    "- срок до окончания текущего действующего абонемента (в месяцах);\n",
    "- время с момента первого обращения в фитнес-центр (в месяцах). Информация на основе журнала посещений, покупок и информация о текущем статусе абонемента клиента;\n",
    "- средняя частота посещений в неделю за предыдущий месяц;\n",
    "- сотрудник Компании-партнера;\n",
    "- средняя частота посещений в неделю за все время с начала действия абонемента;\n",
    "- суммарная выручка от других услуг фитнес-центр;\n",
    "- посещение групповых занятий;\n",
    "\n",
    "\n",
    "В 0,2,4 кластерах в основном те Клиенты,которые остаются.\n",
    "У Всех трех кластеров высокие показатели по признакам:\n",
    "- время с момента первого обращения в фитнес-центр (в месяцах). Информация на основе журнала посещений, покупок и информация о текущем статусе абонемента клиента;\n",
    "- суммарная выручка от других услуг фитнес-центр;\n",
    "- возраст;\n",
    "- проживание или работа в районе, где находится фитнес-центр.\n",
    "\n",
    "\n",
    "Клиенты 2,4 кластера заключили контракт на короткий срок, не являются сотрудниками компании-партнера и не участвуют в акции \"Приведи друга\".\n",
    "\n",
    "Клиенты 4 кластера реже посещают фитнес-центр.\n",
    "\n",
    "А Клиенты 0 кластера имеют высокие показатели по всем признакам.\n"
   ]
  },
  {
   "cell_type": "markdown",
   "metadata": {},
   "source": [
    "### Шаг.  Общий вывод.\n",
    "<a id=conclusion_id></a>"
   ]
  },
  {
   "cell_type": "markdown",
   "metadata": {},
   "source": [
    "На первоначальном этапе была выполнена предобработка данных,выгруженных из датасета Клиента в формате csv. Датасет содержал данные за предыдущий до проверки факта оттока месяц,а именно информацию на основе журнала посещений, покупок и сведения о текущем статусе абонемента клиента.\n",
    "\n",
    "При проведении исследовательского анализа данных (EDA) пропущенные значения не были обнаружены.\n",
    "Наименования колонок приведены к нижнему регистру.\n",
    "Таблица состоит из данных о 4000 Клиентах и 14 признаков Клиентов. \n",
    "\n",
    "При построении матрицы корреляции между признаками \"длительность текущего действующего абонемента (месяц, 6 месяцев, год)\" и \"срок до окончания текущего действующего абонемента (в месяцах)\" отмечена сильная взаимная корреляция, то есть наблюдается сильная линейная зависимость. Для исключения мультиколлинеарности, показатель \"срок до окончания текущего действующего абонемента (в месяцах)\" был исключен из таблицы.\n",
    "\n",
    "При выполнении группировки таблицы по признаку оттока Клиентов и изучении средних значений признаков,гистрограммы, а также матрицы корреляции выявлена наибольшая обратная зависимость оттока Клиентов(более 40%) от следующих признаков:\n",
    "\n",
    "- время с момента первого обращения в фитнес-центр (в месяцах). Информация на основе журнала посещений, покупок и информация о текущем статусе абонемента клиента;\n",
    "- средняя частота посещений в неделю за предыдущий месяц;\n",
    "- возраст;\n",
    "- длительность текущего действующего абонемента (месяц, 6 месяцев, год).\n",
    "\n",
    "На основании модели бинарной классификации клиентов построенной с помощью логистической регрессии планируемый отток Клиентов на прогнозный месяц составил 192 человека, что составляет 24% от общего числа Клиентов, при построении модели  случайным лесом, отток Клиентов на прогнозный месяц составил 193 человека, что составляет 24% от общего числа Клиентов.\n",
    "\n",
    "Доля правильных ответов (accuracy) точнее на 0.01 при построении модели с помощью логистической регрессии.\n",
    "\n",
    "При выполнении кластеризации данных наибольший отток Клиентов был замечен в 3 кластере (около 100%).\n",
    "По Клиентам данного кластера замечены низкие показатели по признакам:\n",
    "- участник акции \"Приведи друга\";\n",
    "- длительность текущего действующего абонемента (месяц, 6 месяцев, год);\n",
    "- время с момента первого обращения в фитнес-центр (в месяцах). Информация на основе журнала посещений, покупок и информация о текущем статусе абонемента клиента;\n",
    "- средняя частота посещений в неделю за предыдущий месяц;\n",
    "- сотрудник Компании-партнера;\n",
    "- средняя частота посещений в неделю за все время с начала действия абонемента;\n",
    "- суммарная выручка от других услуг фитнес-центр;\n",
    "- посещение групповых занятий;\n",
    "- **возраст.**\n",
    "\n",
    "По результатам исследования можно сделать вывод,что основной сегмент интересующих нас Клиентов.\n",
    "Проживает недалеко от фитнес - клуба, средний возраст около 30 лет, длительность абонемента более 8 месяцев,чаще они являются сотрудниками Компаний-партнеров и участниками акции \"Приведи друга\".\n",
    "\n",
    "Для увеличения портфеля Клиентов отделу маркетинга рекомендуется:\n",
    "- продолжить проведение акции \"Приведи друга\";\n",
    "- расширить список \"Компаний-партнеров\" и привлечь их сотрудников с помощью индивидуальных условий;\n",
    "- в рамках проведения рекламы в интернете отдать предпочтение пользователям,проживающим или работающим недалеко от фитнес-клуба в возрасте около 30 лет;\n",
    "- рассмотреть увеличение минимального срока заключения контракта;\n",
    "- для увеличения периода удержания Клиента, предложить пролонгацию контрактов на индивидуальных условиях для действующих Клиентов.\n",
    "- делать беплатные пробные групповые занятия, чтобы клиенты-одиночки смогли вливаться в жизнь фитнес-центра;  \n",
    "- поощрать клиентов, которые посещают фитнес 3 и более раз в неделю, различными скидками.\n",
    "\n",
    "\n",
    "\n"
   ]
  }
 ],
 "metadata": {
  "ExecuteTimeLog": [
   {
    "duration": 211,
    "start_time": "2022-05-04T19:00:15.149Z"
   },
   {
    "duration": 53,
    "start_time": "2022-05-04T19:02:35.665Z"
   },
   {
    "duration": 4434,
    "start_time": "2022-05-04T19:02:42.730Z"
   },
   {
    "duration": 18,
    "start_time": "2022-05-04T19:02:47.406Z"
   },
   {
    "duration": 4,
    "start_time": "2022-05-04T19:03:35.233Z"
   },
   {
    "duration": 37,
    "start_time": "2022-05-04T19:03:56.585Z"
   },
   {
    "duration": 17,
    "start_time": "2022-05-04T19:04:16.036Z"
   },
   {
    "duration": 64,
    "start_time": "2022-05-04T19:04:30.918Z"
   },
   {
    "duration": 4,
    "start_time": "2022-05-04T19:12:09.895Z"
   },
   {
    "duration": 80,
    "start_time": "2022-05-04T19:12:46.245Z"
   },
   {
    "duration": 15,
    "start_time": "2022-05-04T19:14:38.993Z"
   },
   {
    "duration": 2429,
    "start_time": "2022-05-04T19:21:10.128Z"
   },
   {
    "duration": 246,
    "start_time": "2022-05-05T09:36:28.998Z"
   },
   {
    "duration": 2231,
    "start_time": "2022-05-05T09:37:16.712Z"
   },
   {
    "duration": 2707,
    "start_time": "2022-05-05T09:38:22.914Z"
   },
   {
    "duration": 2241,
    "start_time": "2022-05-05T09:45:44.004Z"
   },
   {
    "duration": 2030,
    "start_time": "2022-05-05T09:45:52.394Z"
   },
   {
    "duration": 12,
    "start_time": "2022-05-05T09:48:43.104Z"
   },
   {
    "duration": 11,
    "start_time": "2022-05-05T09:48:52.363Z"
   },
   {
    "duration": 10,
    "start_time": "2022-05-05T09:48:55.284Z"
   },
   {
    "duration": 11,
    "start_time": "2022-05-05T09:49:26.486Z"
   },
   {
    "duration": 11,
    "start_time": "2022-05-05T09:49:33.498Z"
   },
   {
    "duration": 902,
    "start_time": "2022-05-05T09:50:20.044Z"
   },
   {
    "duration": 18,
    "start_time": "2022-05-05T09:52:00.700Z"
   },
   {
    "duration": 1359,
    "start_time": "2022-05-05T09:52:15.214Z"
   },
   {
    "duration": 2115,
    "start_time": "2022-05-05T09:52:40.916Z"
   },
   {
    "duration": 2051,
    "start_time": "2022-05-05T09:54:06.387Z"
   },
   {
    "duration": 1790,
    "start_time": "2022-05-05T09:54:20.012Z"
   },
   {
    "duration": 2308,
    "start_time": "2022-05-05T09:54:30.513Z"
   },
   {
    "duration": 1960,
    "start_time": "2022-05-05T09:54:35.397Z"
   },
   {
    "duration": 11,
    "start_time": "2022-05-05T09:58:01.878Z"
   },
   {
    "duration": 14,
    "start_time": "2022-05-05T09:58:23.439Z"
   },
   {
    "duration": 7178,
    "start_time": "2022-05-05T09:58:41.780Z"
   },
   {
    "duration": 913,
    "start_time": "2022-05-05T09:58:48.960Z"
   },
   {
    "duration": 11,
    "start_time": "2022-05-05T10:06:38.214Z"
   },
   {
    "duration": 14,
    "start_time": "2022-05-05T10:06:54.008Z"
   },
   {
    "duration": 11,
    "start_time": "2022-05-05T10:07:37.201Z"
   },
   {
    "duration": 8391,
    "start_time": "2022-05-05T10:07:49.102Z"
   },
   {
    "duration": 21,
    "start_time": "2022-05-05T10:07:57.496Z"
   },
   {
    "duration": 6,
    "start_time": "2022-05-05T10:07:57.518Z"
   },
   {
    "duration": 76,
    "start_time": "2022-05-05T10:07:57.526Z"
   },
   {
    "duration": 13,
    "start_time": "2022-05-05T10:07:57.604Z"
   },
   {
    "duration": 278,
    "start_time": "2022-05-05T10:07:57.618Z"
   },
   {
    "duration": 0,
    "start_time": "2022-05-05T10:07:57.898Z"
   },
   {
    "duration": 953,
    "start_time": "2022-05-05T10:08:09.515Z"
   },
   {
    "duration": 2193,
    "start_time": "2022-05-05T10:08:21.569Z"
   },
   {
    "duration": 12,
    "start_time": "2022-05-05T10:14:29.036Z"
   },
   {
    "duration": 11,
    "start_time": "2022-05-05T10:14:38.899Z"
   },
   {
    "duration": 19,
    "start_time": "2022-05-05T10:14:49.612Z"
   },
   {
    "duration": 91,
    "start_time": "2022-05-05T10:14:58.517Z"
   },
   {
    "duration": 364,
    "start_time": "2022-05-05T10:15:08.499Z"
   },
   {
    "duration": 3786,
    "start_time": "2022-05-05T10:15:27.309Z"
   },
   {
    "duration": 358,
    "start_time": "2022-05-05T10:15:59.705Z"
   },
   {
    "duration": 158,
    "start_time": "2022-05-05T10:16:14.804Z"
   },
   {
    "duration": 2386,
    "start_time": "2022-05-05T10:17:01.207Z"
   },
   {
    "duration": 2190,
    "start_time": "2022-05-05T10:21:40.388Z"
   },
   {
    "duration": 2278,
    "start_time": "2022-05-05T10:23:00.514Z"
   },
   {
    "duration": 2241,
    "start_time": "2022-05-05T10:23:13.828Z"
   },
   {
    "duration": 2170,
    "start_time": "2022-05-05T10:23:32.173Z"
   },
   {
    "duration": 2123,
    "start_time": "2022-05-05T10:23:47.408Z"
   },
   {
    "duration": 1878,
    "start_time": "2022-05-05T10:26:29.119Z"
   },
   {
    "duration": 203,
    "start_time": "2022-05-05T10:32:45.932Z"
   },
   {
    "duration": 1270,
    "start_time": "2022-05-05T10:33:11.379Z"
   },
   {
    "duration": 1236,
    "start_time": "2022-05-05T10:33:21.537Z"
   },
   {
    "duration": 1215,
    "start_time": "2022-05-05T10:33:29.106Z"
   },
   {
    "duration": 1282,
    "start_time": "2022-05-05T10:33:41.006Z"
   },
   {
    "duration": 77,
    "start_time": "2022-05-05T10:33:52.504Z"
   },
   {
    "duration": 1283,
    "start_time": "2022-05-05T10:34:01.005Z"
   },
   {
    "duration": 1802,
    "start_time": "2022-05-05T10:34:32.830Z"
   },
   {
    "duration": 1523,
    "start_time": "2022-05-05T10:34:42.630Z"
   },
   {
    "duration": 1670,
    "start_time": "2022-05-05T10:34:50.706Z"
   },
   {
    "duration": 1466,
    "start_time": "2022-05-05T10:35:26.012Z"
   },
   {
    "duration": 1581,
    "start_time": "2022-05-05T10:35:45.788Z"
   },
   {
    "duration": 1684,
    "start_time": "2022-05-05T10:35:58.631Z"
   },
   {
    "duration": 1728,
    "start_time": "2022-05-05T10:36:24.896Z"
   },
   {
    "duration": 1362,
    "start_time": "2022-05-05T10:41:20.186Z"
   },
   {
    "duration": 1422,
    "start_time": "2022-05-05T10:41:43.373Z"
   },
   {
    "duration": 1474,
    "start_time": "2022-05-05T10:41:51.514Z"
   },
   {
    "duration": 1438,
    "start_time": "2022-05-05T10:42:42.222Z"
   },
   {
    "duration": 1431,
    "start_time": "2022-05-05T10:42:59.739Z"
   },
   {
    "duration": 1391,
    "start_time": "2022-05-05T10:43:21.353Z"
   },
   {
    "duration": 1495,
    "start_time": "2022-05-05T10:43:37.225Z"
   },
   {
    "duration": 1310,
    "start_time": "2022-05-05T10:43:50.312Z"
   },
   {
    "duration": 1367,
    "start_time": "2022-05-05T10:44:01.716Z"
   },
   {
    "duration": 1586,
    "start_time": "2022-05-05T10:44:13.027Z"
   },
   {
    "duration": 1472,
    "start_time": "2022-05-05T10:44:53.766Z"
   },
   {
    "duration": 1378,
    "start_time": "2022-05-05T10:45:12.989Z"
   },
   {
    "duration": 1404,
    "start_time": "2022-05-05T10:45:26.450Z"
   },
   {
    "duration": 4,
    "start_time": "2022-05-05T11:14:38.645Z"
   },
   {
    "duration": 10,
    "start_time": "2022-05-05T11:14:53.375Z"
   },
   {
    "duration": 10,
    "start_time": "2022-05-05T11:14:59.359Z"
   },
   {
    "duration": 3,
    "start_time": "2022-05-05T11:15:26.733Z"
   },
   {
    "duration": 2041,
    "start_time": "2022-05-05T11:15:40.443Z"
   },
   {
    "duration": 1578,
    "start_time": "2022-05-05T11:15:45.165Z"
   },
   {
    "duration": 81,
    "start_time": "2022-05-05T12:10:57.678Z"
   },
   {
    "duration": 4,
    "start_time": "2022-05-05T13:09:28.733Z"
   },
   {
    "duration": 11,
    "start_time": "2022-05-05T13:11:22.292Z"
   },
   {
    "duration": 7201,
    "start_time": "2022-05-05T13:12:39.499Z"
   },
   {
    "duration": 38,
    "start_time": "2022-05-05T13:12:46.702Z"
   },
   {
    "duration": 3,
    "start_time": "2022-05-05T13:12:46.742Z"
   },
   {
    "duration": 67,
    "start_time": "2022-05-05T13:12:46.747Z"
   },
   {
    "duration": 3,
    "start_time": "2022-05-05T13:12:46.816Z"
   },
   {
    "duration": 130,
    "start_time": "2022-05-05T13:12:46.821Z"
   },
   {
    "duration": 0,
    "start_time": "2022-05-05T13:12:46.953Z"
   },
   {
    "duration": 0,
    "start_time": "2022-05-05T13:12:46.954Z"
   },
   {
    "duration": 0,
    "start_time": "2022-05-05T13:12:46.955Z"
   },
   {
    "duration": 4012,
    "start_time": "2022-05-05T13:13:04.711Z"
   },
   {
    "duration": 19,
    "start_time": "2022-05-05T13:13:08.726Z"
   },
   {
    "duration": 4,
    "start_time": "2022-05-05T13:13:08.747Z"
   },
   {
    "duration": 76,
    "start_time": "2022-05-05T13:13:08.752Z"
   },
   {
    "duration": 3,
    "start_time": "2022-05-05T13:13:08.830Z"
   },
   {
    "duration": 19,
    "start_time": "2022-05-05T13:13:08.834Z"
   },
   {
    "duration": 121,
    "start_time": "2022-05-05T13:13:08.874Z"
   },
   {
    "duration": 0,
    "start_time": "2022-05-05T13:13:08.996Z"
   },
   {
    "duration": 0,
    "start_time": "2022-05-05T13:13:08.998Z"
   },
   {
    "duration": 2275,
    "start_time": "2022-05-05T13:13:47.584Z"
   },
   {
    "duration": 3679,
    "start_time": "2022-05-05T13:13:52.408Z"
   },
   {
    "duration": 18,
    "start_time": "2022-05-05T13:13:56.090Z"
   },
   {
    "duration": 3,
    "start_time": "2022-05-05T13:13:56.110Z"
   },
   {
    "duration": 74,
    "start_time": "2022-05-05T13:13:56.114Z"
   },
   {
    "duration": 3,
    "start_time": "2022-05-05T13:13:56.190Z"
   },
   {
    "duration": 17,
    "start_time": "2022-05-05T13:13:56.194Z"
   },
   {
    "duration": 1982,
    "start_time": "2022-05-05T13:13:56.212Z"
   },
   {
    "duration": 1426,
    "start_time": "2022-05-05T13:13:58.196Z"
   },
   {
    "duration": 106,
    "start_time": "2022-05-05T13:13:59.624Z"
   },
   {
    "duration": 2068,
    "start_time": "2022-05-05T13:14:16.802Z"
   },
   {
    "duration": 18,
    "start_time": "2022-05-05T13:14:22.018Z"
   },
   {
    "duration": 16,
    "start_time": "2022-05-05T13:14:42.555Z"
   },
   {
    "duration": 25,
    "start_time": "2022-05-05T13:17:22.510Z"
   },
   {
    "duration": 6,
    "start_time": "2022-05-05T13:18:02.613Z"
   },
   {
    "duration": 2233,
    "start_time": "2022-05-05T13:18:08.582Z"
   },
   {
    "duration": 16,
    "start_time": "2022-05-05T13:18:12.186Z"
   },
   {
    "duration": 314,
    "start_time": "2022-05-05T13:20:43.169Z"
   },
   {
    "duration": 2228,
    "start_time": "2022-05-05T13:21:35.559Z"
   },
   {
    "duration": 157,
    "start_time": "2022-05-05T13:21:39.626Z"
   },
   {
    "duration": 38,
    "start_time": "2022-05-05T13:27:27.938Z"
   },
   {
    "duration": 2090,
    "start_time": "2022-05-05T13:28:03.288Z"
   },
   {
    "duration": 141,
    "start_time": "2022-05-05T13:28:09.338Z"
   },
   {
    "duration": 2072,
    "start_time": "2022-05-05T13:29:23.196Z"
   },
   {
    "duration": 210,
    "start_time": "2022-05-05T13:29:26.765Z"
   },
   {
    "duration": 3,
    "start_time": "2022-05-05T13:35:11.960Z"
   },
   {
    "duration": 19,
    "start_time": "2022-05-05T13:37:13.969Z"
   },
   {
    "duration": 15,
    "start_time": "2022-05-05T13:37:21.409Z"
   },
   {
    "duration": 23,
    "start_time": "2022-05-05T13:37:39.483Z"
   },
   {
    "duration": 4,
    "start_time": "2022-05-05T13:37:52.849Z"
   },
   {
    "duration": 150,
    "start_time": "2022-05-05T13:37:55.025Z"
   },
   {
    "duration": 981,
    "start_time": "2022-05-05T13:40:27.442Z"
   },
   {
    "duration": 4,
    "start_time": "2022-05-05T13:40:33.439Z"
   },
   {
    "duration": 69,
    "start_time": "2022-05-05T13:40:35.912Z"
   },
   {
    "duration": 10,
    "start_time": "2022-05-05T13:40:48.571Z"
   },
   {
    "duration": 17,
    "start_time": "2022-05-05T13:43:37.992Z"
   },
   {
    "duration": 2125,
    "start_time": "2022-05-05T13:47:02.285Z"
   },
   {
    "duration": 107,
    "start_time": "2022-05-05T13:52:55.777Z"
   },
   {
    "duration": 5955,
    "start_time": "2022-05-06T15:55:24.282Z"
   },
   {
    "duration": 40,
    "start_time": "2022-05-06T15:55:30.240Z"
   },
   {
    "duration": 5,
    "start_time": "2022-05-06T15:55:30.282Z"
   },
   {
    "duration": 106,
    "start_time": "2022-05-06T15:55:30.290Z"
   },
   {
    "duration": 4,
    "start_time": "2022-05-06T15:55:30.399Z"
   },
   {
    "duration": 33,
    "start_time": "2022-05-06T15:55:30.405Z"
   },
   {
    "duration": 3144,
    "start_time": "2022-05-06T15:55:30.440Z"
   },
   {
    "duration": 2084,
    "start_time": "2022-05-06T15:55:33.593Z"
   },
   {
    "duration": 220,
    "start_time": "2022-05-06T15:55:35.680Z"
   },
   {
    "duration": 61,
    "start_time": "2022-05-06T15:56:38.634Z"
   },
   {
    "duration": 1042,
    "start_time": "2022-05-06T16:05:10.717Z"
   },
   {
    "duration": 14,
    "start_time": "2022-05-06T16:13:16.025Z"
   },
   {
    "duration": 4768,
    "start_time": "2022-05-06T16:13:30.520Z"
   },
   {
    "duration": 802,
    "start_time": "2022-05-06T16:13:35.292Z"
   },
   {
    "duration": 61,
    "start_time": "2022-05-06T16:17:07.037Z"
   },
   {
    "duration": 484,
    "start_time": "2022-05-06T16:17:26.533Z"
   },
   {
    "duration": 486,
    "start_time": "2022-05-06T16:17:50.256Z"
   },
   {
    "duration": 210,
    "start_time": "2022-05-06T16:20:49.783Z"
   },
   {
    "duration": 76,
    "start_time": "2022-05-06T16:20:59.527Z"
   },
   {
    "duration": 186,
    "start_time": "2022-05-06T16:21:13.112Z"
   },
   {
    "duration": 226,
    "start_time": "2022-05-06T16:22:58.468Z"
   },
   {
    "duration": 118,
    "start_time": "2022-05-06T16:26:52.377Z"
   },
   {
    "duration": 185,
    "start_time": "2022-05-06T16:27:25.810Z"
   },
   {
    "duration": 111,
    "start_time": "2022-05-06T16:27:37.991Z"
   },
   {
    "duration": 50,
    "start_time": "2022-05-06T16:27:53.657Z"
   },
   {
    "duration": 180,
    "start_time": "2022-05-06T16:28:35.329Z"
   },
   {
    "duration": 58,
    "start_time": "2022-05-06T16:29:48.141Z"
   },
   {
    "duration": 61,
    "start_time": "2022-05-06T16:29:57.633Z"
   },
   {
    "duration": 69,
    "start_time": "2022-05-06T16:30:33.533Z"
   },
   {
    "duration": 202,
    "start_time": "2022-05-06T16:45:20.198Z"
   },
   {
    "duration": 81,
    "start_time": "2022-05-06T16:51:14.019Z"
   },
   {
    "duration": 81,
    "start_time": "2022-05-06T16:59:19.321Z"
   },
   {
    "duration": 63,
    "start_time": "2022-05-06T16:59:26.242Z"
   },
   {
    "duration": 4635,
    "start_time": "2022-05-07T19:09:30.463Z"
   },
   {
    "duration": 35,
    "start_time": "2022-05-07T19:09:35.101Z"
   },
   {
    "duration": 4,
    "start_time": "2022-05-07T19:09:35.138Z"
   },
   {
    "duration": 80,
    "start_time": "2022-05-07T19:09:35.145Z"
   },
   {
    "duration": 4,
    "start_time": "2022-05-07T19:09:35.239Z"
   },
   {
    "duration": 23,
    "start_time": "2022-05-07T19:09:35.245Z"
   },
   {
    "duration": 2265,
    "start_time": "2022-05-07T19:09:35.270Z"
   },
   {
    "duration": 1679,
    "start_time": "2022-05-07T19:09:37.539Z"
   },
   {
    "duration": 229,
    "start_time": "2022-05-07T19:09:39.220Z"
   },
   {
    "duration": 498,
    "start_time": "2022-05-07T19:09:39.455Z"
   },
   {
    "duration": 402,
    "start_time": "2022-05-07T19:09:39.954Z"
   },
   {
    "duration": 74,
    "start_time": "2022-05-08T08:04:07.404Z"
   },
   {
    "duration": 7702,
    "start_time": "2022-05-08T08:04:38.961Z"
   },
   {
    "duration": 22,
    "start_time": "2022-05-08T08:04:46.666Z"
   },
   {
    "duration": 4,
    "start_time": "2022-05-08T08:04:46.691Z"
   },
   {
    "duration": 116,
    "start_time": "2022-05-08T08:04:46.697Z"
   },
   {
    "duration": 4,
    "start_time": "2022-05-08T08:04:46.825Z"
   },
   {
    "duration": 23,
    "start_time": "2022-05-08T08:04:46.831Z"
   },
   {
    "duration": 3344,
    "start_time": "2022-05-08T08:04:46.856Z"
   },
   {
    "duration": 2253,
    "start_time": "2022-05-08T08:04:50.204Z"
   },
   {
    "duration": 275,
    "start_time": "2022-05-08T08:04:52.460Z"
   },
   {
    "duration": 553,
    "start_time": "2022-05-08T08:04:52.825Z"
   },
   {
    "duration": 497,
    "start_time": "2022-05-08T08:09:12.855Z"
   },
   {
    "duration": 186,
    "start_time": "2022-05-08T08:20:07.442Z"
   },
   {
    "duration": 263,
    "start_time": "2022-05-08T08:27:53.472Z"
   },
   {
    "duration": 178,
    "start_time": "2022-05-08T08:28:54.050Z"
   },
   {
    "duration": 284,
    "start_time": "2022-05-08T08:29:12.541Z"
   },
   {
    "duration": 166,
    "start_time": "2022-05-08T08:29:18.409Z"
   },
   {
    "duration": 255,
    "start_time": "2022-05-08T08:33:53.174Z"
   },
   {
    "duration": 72,
    "start_time": "2022-05-08T08:34:08.656Z"
   },
   {
    "duration": 529,
    "start_time": "2022-05-08T08:35:03.528Z"
   },
   {
    "duration": 57,
    "start_time": "2022-05-08T08:37:23.381Z"
   },
   {
    "duration": 839,
    "start_time": "2022-05-08T08:43:46.113Z"
   },
   {
    "duration": 642,
    "start_time": "2022-05-08T08:44:06.838Z"
   },
   {
    "duration": 518,
    "start_time": "2022-05-08T08:44:37.973Z"
   },
   {
    "duration": 749,
    "start_time": "2022-05-08T08:44:45.579Z"
   },
   {
    "duration": 5767,
    "start_time": "2022-05-08T08:45:04.392Z"
   },
   {
    "duration": 23,
    "start_time": "2022-05-08T08:45:10.162Z"
   },
   {
    "duration": 4,
    "start_time": "2022-05-08T08:45:10.188Z"
   },
   {
    "duration": 115,
    "start_time": "2022-05-08T08:45:10.194Z"
   },
   {
    "duration": 4,
    "start_time": "2022-05-08T08:45:10.325Z"
   },
   {
    "duration": 24,
    "start_time": "2022-05-08T08:45:10.332Z"
   },
   {
    "duration": 3694,
    "start_time": "2022-05-08T08:45:10.358Z"
   },
   {
    "duration": 2375,
    "start_time": "2022-05-08T08:45:14.054Z"
   },
   {
    "duration": 536,
    "start_time": "2022-05-08T08:45:16.433Z"
   },
   {
    "duration": 0,
    "start_time": "2022-05-08T08:45:16.972Z"
   },
   {
    "duration": 849,
    "start_time": "2022-05-08T08:45:31.884Z"
   },
   {
    "duration": 748,
    "start_time": "2022-05-08T08:45:48.014Z"
   },
   {
    "duration": 247,
    "start_time": "2022-05-08T08:47:11.581Z"
   },
   {
    "duration": 200,
    "start_time": "2022-05-08T08:47:16.425Z"
   },
   {
    "duration": 85,
    "start_time": "2022-05-08T08:47:36.765Z"
   },
   {
    "duration": 135,
    "start_time": "2022-05-08T08:47:45.439Z"
   },
   {
    "duration": 141,
    "start_time": "2022-05-08T08:47:50.292Z"
   },
   {
    "duration": 260,
    "start_time": "2022-05-08T08:48:01.491Z"
   },
   {
    "duration": 69,
    "start_time": "2022-05-08T08:49:25.764Z"
   },
   {
    "duration": 560,
    "start_time": "2022-05-08T08:49:45.981Z"
   },
   {
    "duration": 573,
    "start_time": "2022-05-08T08:49:55.138Z"
   },
   {
    "duration": 74,
    "start_time": "2022-05-08T08:50:02.658Z"
   },
   {
    "duration": 635,
    "start_time": "2022-05-08T08:50:08.750Z"
   },
   {
    "duration": 130,
    "start_time": "2022-05-08T08:50:21.907Z"
   },
   {
    "duration": 223,
    "start_time": "2022-05-08T08:51:27.100Z"
   },
   {
    "duration": 105,
    "start_time": "2022-05-08T08:51:34.121Z"
   },
   {
    "duration": 61,
    "start_time": "2022-05-08T08:52:14.591Z"
   },
   {
    "duration": 137,
    "start_time": "2022-05-08T08:52:33.188Z"
   },
   {
    "duration": 194,
    "start_time": "2022-05-08T08:52:51.639Z"
   },
   {
    "duration": 166,
    "start_time": "2022-05-08T08:53:06.864Z"
   },
   {
    "duration": 188,
    "start_time": "2022-05-08T08:53:28.545Z"
   },
   {
    "duration": 135,
    "start_time": "2022-05-08T08:53:38.998Z"
   },
   {
    "duration": 225,
    "start_time": "2022-05-08T08:53:46.711Z"
   },
   {
    "duration": 95,
    "start_time": "2022-05-08T08:53:56.837Z"
   },
   {
    "duration": 207,
    "start_time": "2022-05-08T08:54:05.926Z"
   },
   {
    "duration": 6499,
    "start_time": "2022-05-08T08:54:30.858Z"
   },
   {
    "duration": 31,
    "start_time": "2022-05-08T08:54:37.360Z"
   },
   {
    "duration": 5,
    "start_time": "2022-05-08T08:54:37.393Z"
   },
   {
    "duration": 112,
    "start_time": "2022-05-08T08:54:37.400Z"
   },
   {
    "duration": 4,
    "start_time": "2022-05-08T08:54:37.527Z"
   },
   {
    "duration": 32,
    "start_time": "2022-05-08T08:54:37.534Z"
   },
   {
    "duration": 3735,
    "start_time": "2022-05-08T08:54:37.568Z"
   },
   {
    "duration": 2227,
    "start_time": "2022-05-08T08:54:41.306Z"
   },
   {
    "duration": 292,
    "start_time": "2022-05-08T08:54:43.536Z"
   },
   {
    "duration": 636,
    "start_time": "2022-05-08T08:54:43.831Z"
   },
   {
    "duration": 3447,
    "start_time": "2022-05-08T09:25:00.156Z"
   },
   {
    "duration": 13,
    "start_time": "2022-05-08T09:36:46.246Z"
   },
   {
    "duration": 969,
    "start_time": "2022-05-08T09:37:00.320Z"
   },
   {
    "duration": 852,
    "start_time": "2022-05-08T09:37:45.359Z"
   },
   {
    "duration": 174430,
    "start_time": "2022-05-08T09:38:12.826Z"
   },
   {
    "duration": 1317,
    "start_time": "2022-05-08T09:51:25.368Z"
   },
   {
    "duration": 1340,
    "start_time": "2022-05-08T09:51:33.675Z"
   },
   {
    "duration": 160819,
    "start_time": "2022-05-08T09:54:18.131Z"
   },
   {
    "duration": 3479,
    "start_time": "2022-05-08T09:56:58.953Z"
   },
   {
    "duration": 1899,
    "start_time": "2022-05-08T09:57:02.435Z"
   },
   {
    "duration": 1896,
    "start_time": "2022-05-08T10:04:16.151Z"
   },
   {
    "duration": 176,
    "start_time": "2022-05-08T10:05:08.788Z"
   },
   {
    "duration": 3494,
    "start_time": "2022-05-08T10:05:38.016Z"
   },
   {
    "duration": 24,
    "start_time": "2022-05-08T10:05:42.333Z"
   },
   {
    "duration": 17,
    "start_time": "2022-05-08T10:06:08.689Z"
   },
   {
    "duration": 47723,
    "start_time": "2022-05-08T10:06:18.117Z"
   },
   {
    "duration": 1951,
    "start_time": "2022-05-08T10:11:40.482Z"
   },
   {
    "duration": 5916,
    "start_time": "2022-05-08T10:25:57.079Z"
   },
   {
    "duration": 28,
    "start_time": "2022-05-08T10:26:02.999Z"
   },
   {
    "duration": 5,
    "start_time": "2022-05-08T10:26:03.029Z"
   },
   {
    "duration": 122,
    "start_time": "2022-05-08T10:26:03.037Z"
   },
   {
    "duration": 4,
    "start_time": "2022-05-08T10:26:03.162Z"
   },
   {
    "duration": 30,
    "start_time": "2022-05-08T10:26:03.168Z"
   },
   {
    "duration": 3454,
    "start_time": "2022-05-08T10:26:03.200Z"
   },
   {
    "duration": 2453,
    "start_time": "2022-05-08T10:26:06.656Z"
   },
   {
    "duration": 218,
    "start_time": "2022-05-08T10:26:09.111Z"
   },
   {
    "duration": 633,
    "start_time": "2022-05-08T10:26:09.332Z"
   },
   {
    "duration": 857,
    "start_time": "2022-05-08T10:26:09.967Z"
   },
   {
    "duration": 13839,
    "start_time": "2022-05-08T10:26:19.545Z"
   },
   {
    "duration": 0,
    "start_time": "2022-05-08T10:26:33.387Z"
   },
   {
    "duration": 0,
    "start_time": "2022-05-08T10:26:33.389Z"
   },
   {
    "duration": 2019,
    "start_time": "2022-05-08T10:26:45.714Z"
   },
   {
    "duration": 2010,
    "start_time": "2022-05-08T10:26:47.736Z"
   },
   {
    "duration": 1975,
    "start_time": "2022-05-08T10:27:34.999Z"
   },
   {
    "duration": 127,
    "start_time": "2022-05-08T10:35:11.972Z"
   },
   {
    "duration": 62,
    "start_time": "2022-05-08T10:35:23.796Z"
   },
   {
    "duration": 143,
    "start_time": "2022-05-08T10:38:42.941Z"
   },
   {
    "duration": 3376,
    "start_time": "2022-05-08T10:39:12.673Z"
   },
   {
    "duration": 8343,
    "start_time": "2022-05-08T10:40:30.141Z"
   },
   {
    "duration": 7628,
    "start_time": "2022-05-08T10:42:26.312Z"
   },
   {
    "duration": 5399,
    "start_time": "2022-05-08T10:42:55.053Z"
   },
   {
    "duration": 6848,
    "start_time": "2022-05-08T10:43:08.580Z"
   },
   {
    "duration": 22,
    "start_time": "2022-05-08T10:43:15.431Z"
   },
   {
    "duration": 5,
    "start_time": "2022-05-08T10:43:15.455Z"
   },
   {
    "duration": 116,
    "start_time": "2022-05-08T10:43:15.463Z"
   },
   {
    "duration": 4,
    "start_time": "2022-05-08T10:43:15.581Z"
   },
   {
    "duration": 47,
    "start_time": "2022-05-08T10:43:15.588Z"
   },
   {
    "duration": 3304,
    "start_time": "2022-05-08T10:43:15.637Z"
   },
   {
    "duration": 2233,
    "start_time": "2022-05-08T10:43:18.944Z"
   },
   {
    "duration": 249,
    "start_time": "2022-05-08T10:43:21.181Z"
   },
   {
    "duration": 627,
    "start_time": "2022-05-08T10:43:21.435Z"
   },
   {
    "duration": 939,
    "start_time": "2022-05-08T10:43:22.064Z"
   },
   {
    "duration": 156222,
    "start_time": "2022-05-08T10:43:23.005Z"
   },
   {
    "duration": 2010,
    "start_time": "2022-05-08T10:45:59.229Z"
   },
   {
    "duration": 5894,
    "start_time": "2022-05-08T10:46:01.242Z"
   },
   {
    "duration": 11,
    "start_time": "2022-05-08T10:46:28.092Z"
   },
   {
    "duration": 180,
    "start_time": "2022-05-08T10:46:48.479Z"
   },
   {
    "duration": 19,
    "start_time": "2022-05-08T10:46:52.085Z"
   },
   {
    "duration": 18,
    "start_time": "2022-05-08T10:46:56.609Z"
   },
   {
    "duration": 12,
    "start_time": "2022-05-08T10:47:02.265Z"
   },
   {
    "duration": 6122,
    "start_time": "2022-05-08T11:57:12.086Z"
   },
   {
    "duration": 22,
    "start_time": "2022-05-08T11:57:18.211Z"
   },
   {
    "duration": 6,
    "start_time": "2022-05-08T11:57:18.236Z"
   },
   {
    "duration": 121,
    "start_time": "2022-05-08T11:57:18.246Z"
   },
   {
    "duration": 5,
    "start_time": "2022-05-08T11:57:18.369Z"
   },
   {
    "duration": 54,
    "start_time": "2022-05-08T11:57:18.376Z"
   },
   {
    "duration": 4086,
    "start_time": "2022-05-08T11:57:18.432Z"
   },
   {
    "duration": 2700,
    "start_time": "2022-05-08T11:57:22.525Z"
   },
   {
    "duration": 308,
    "start_time": "2022-05-08T11:57:25.229Z"
   },
   {
    "duration": 698,
    "start_time": "2022-05-08T11:57:25.541Z"
   },
   {
    "duration": 812,
    "start_time": "2022-05-08T11:57:33.795Z"
   },
   {
    "duration": 1669,
    "start_time": "2022-05-08T11:57:39.461Z"
   },
   {
    "duration": 2051,
    "start_time": "2022-05-08T11:57:47.097Z"
   },
   {
    "duration": 6735,
    "start_time": "2022-05-08T11:57:49.152Z"
   },
   {
    "duration": 12,
    "start_time": "2022-05-08T11:57:55.890Z"
   },
   {
    "duration": 11,
    "start_time": "2022-05-08T11:58:33.140Z"
   },
   {
    "duration": 5980,
    "start_time": "2022-05-08T11:58:55.756Z"
   },
   {
    "duration": 37,
    "start_time": "2022-05-08T11:59:01.740Z"
   },
   {
    "duration": 7,
    "start_time": "2022-05-08T11:59:01.781Z"
   },
   {
    "duration": 176,
    "start_time": "2022-05-08T11:59:01.792Z"
   },
   {
    "duration": 5,
    "start_time": "2022-05-08T11:59:01.972Z"
   },
   {
    "duration": 48,
    "start_time": "2022-05-08T11:59:01.979Z"
   },
   {
    "duration": 5581,
    "start_time": "2022-05-08T11:59:02.030Z"
   },
   {
    "duration": 3519,
    "start_time": "2022-05-08T11:59:07.614Z"
   },
   {
    "duration": 292,
    "start_time": "2022-05-08T11:59:11.136Z"
   },
   {
    "duration": 832,
    "start_time": "2022-05-08T11:59:11.431Z"
   },
   {
    "duration": 1321,
    "start_time": "2022-05-08T11:59:12.265Z"
   },
   {
    "duration": 175589,
    "start_time": "2022-05-08T11:59:13.589Z"
   },
   {
    "duration": 1958,
    "start_time": "2022-05-08T12:02:09.181Z"
   },
   {
    "duration": 7364,
    "start_time": "2022-05-08T12:02:11.143Z"
   },
   {
    "duration": 24,
    "start_time": "2022-05-08T12:02:18.510Z"
   },
   {
    "duration": 7216,
    "start_time": "2022-05-08T12:56:55.238Z"
   },
   {
    "duration": 27,
    "start_time": "2022-05-08T12:57:02.457Z"
   },
   {
    "duration": 6,
    "start_time": "2022-05-08T12:57:02.486Z"
   },
   {
    "duration": 116,
    "start_time": "2022-05-08T12:57:02.495Z"
   },
   {
    "duration": 9,
    "start_time": "2022-05-08T12:57:02.626Z"
   },
   {
    "duration": 35,
    "start_time": "2022-05-08T12:57:02.637Z"
   },
   {
    "duration": 3958,
    "start_time": "2022-05-08T12:57:02.674Z"
   },
   {
    "duration": 2308,
    "start_time": "2022-05-08T12:57:06.635Z"
   },
   {
    "duration": 279,
    "start_time": "2022-05-08T12:57:08.950Z"
   },
   {
    "duration": 643,
    "start_time": "2022-05-08T12:57:09.231Z"
   },
   {
    "duration": 903,
    "start_time": "2022-05-08T12:57:09.876Z"
   },
   {
    "duration": 170521,
    "start_time": "2022-05-08T12:57:10.782Z"
   },
   {
    "duration": 1826,
    "start_time": "2022-05-08T13:00:01.306Z"
   },
   {
    "duration": 5941,
    "start_time": "2022-05-08T13:00:03.138Z"
   },
   {
    "duration": 13,
    "start_time": "2022-05-08T13:00:09.081Z"
   },
   {
    "duration": 3876,
    "start_time": "2022-05-09T11:16:07.911Z"
   },
   {
    "duration": 17,
    "start_time": "2022-05-09T11:16:11.789Z"
   },
   {
    "duration": 4,
    "start_time": "2022-05-09T11:16:11.807Z"
   },
   {
    "duration": 68,
    "start_time": "2022-05-09T11:16:11.812Z"
   },
   {
    "duration": 3,
    "start_time": "2022-05-09T11:16:11.882Z"
   },
   {
    "duration": 15,
    "start_time": "2022-05-09T11:16:11.886Z"
   },
   {
    "duration": 1813,
    "start_time": "2022-05-09T11:16:11.902Z"
   },
   {
    "duration": 1342,
    "start_time": "2022-05-09T11:16:13.717Z"
   },
   {
    "duration": 190,
    "start_time": "2022-05-09T11:16:15.061Z"
   },
   {
    "duration": 433,
    "start_time": "2022-05-09T11:16:15.255Z"
   },
   {
    "duration": 603,
    "start_time": "2022-05-09T11:16:15.689Z"
   },
   {
    "duration": 96615,
    "start_time": "2022-05-09T11:16:16.294Z"
   },
   {
    "duration": 1440,
    "start_time": "2022-05-09T11:17:52.911Z"
   },
   {
    "duration": 2903,
    "start_time": "2022-05-09T11:17:54.352Z"
   },
   {
    "duration": 9,
    "start_time": "2022-05-09T11:17:57.257Z"
   },
   {
    "duration": 3627,
    "start_time": "2022-05-09T12:03:23.837Z"
   },
   {
    "duration": 16,
    "start_time": "2022-05-09T12:03:27.467Z"
   },
   {
    "duration": 3,
    "start_time": "2022-05-09T12:03:27.485Z"
   },
   {
    "duration": 69,
    "start_time": "2022-05-09T12:03:27.490Z"
   },
   {
    "duration": 3,
    "start_time": "2022-05-09T12:03:27.560Z"
   },
   {
    "duration": 14,
    "start_time": "2022-05-09T12:03:27.565Z"
   },
   {
    "duration": 1837,
    "start_time": "2022-05-09T12:03:27.581Z"
   },
   {
    "duration": 1342,
    "start_time": "2022-05-09T12:03:29.420Z"
   },
   {
    "duration": 187,
    "start_time": "2022-05-09T12:03:30.764Z"
   },
   {
    "duration": 427,
    "start_time": "2022-05-09T12:03:30.957Z"
   },
   {
    "duration": 526,
    "start_time": "2022-05-09T12:03:31.385Z"
   },
   {
    "duration": 92989,
    "start_time": "2022-05-09T12:03:31.913Z"
   },
   {
    "duration": 1449,
    "start_time": "2022-05-09T12:05:04.903Z"
   },
   {
    "duration": 2736,
    "start_time": "2022-05-09T12:05:06.354Z"
   },
   {
    "duration": 8,
    "start_time": "2022-05-09T12:05:09.091Z"
   },
   {
    "duration": 994,
    "start_time": "2022-05-09T12:05:50.865Z"
   },
   {
    "duration": 938,
    "start_time": "2022-05-09T12:05:54.721Z"
   },
   {
    "duration": 1195,
    "start_time": "2022-05-09T12:08:30.462Z"
   },
   {
    "duration": 1112,
    "start_time": "2022-05-09T12:09:20.839Z"
   },
   {
    "duration": 1219,
    "start_time": "2022-05-09T12:09:39.535Z"
   },
   {
    "duration": 996,
    "start_time": "2022-05-09T12:09:53.863Z"
   },
   {
    "duration": 962,
    "start_time": "2022-05-09T12:11:30.994Z"
   },
   {
    "duration": 2959,
    "start_time": "2022-05-09T12:11:32.298Z"
   },
   {
    "duration": 1048,
    "start_time": "2022-05-09T12:11:45.210Z"
   },
   {
    "duration": 2820,
    "start_time": "2022-05-09T12:11:46.260Z"
   },
   {
    "duration": 8,
    "start_time": "2022-05-09T12:11:49.081Z"
   },
   {
    "duration": 552,
    "start_time": "2022-05-09T12:12:21.347Z"
   },
   {
    "duration": 1082,
    "start_time": "2022-05-09T12:12:25.571Z"
   },
   {
    "duration": 2849,
    "start_time": "2022-05-09T12:12:26.740Z"
   },
   {
    "duration": 8,
    "start_time": "2022-05-09T12:12:29.591Z"
   },
   {
    "duration": 72,
    "start_time": "2022-05-11T17:15:14.902Z"
   },
   {
    "duration": 7932,
    "start_time": "2022-05-11T17:15:21.481Z"
   },
   {
    "duration": 115,
    "start_time": "2022-05-11T17:15:29.417Z"
   },
   {
    "duration": 6,
    "start_time": "2022-05-11T17:15:29.535Z"
   },
   {
    "duration": 155,
    "start_time": "2022-05-11T17:15:29.545Z"
   },
   {
    "duration": 9,
    "start_time": "2022-05-11T17:15:29.703Z"
   },
   {
    "duration": 26,
    "start_time": "2022-05-11T17:15:29.715Z"
   },
   {
    "duration": 3589,
    "start_time": "2022-05-11T17:15:29.744Z"
   },
   {
    "duration": 2522,
    "start_time": "2022-05-11T17:15:33.336Z"
   },
   {
    "duration": 148,
    "start_time": "2022-05-11T17:15:35.861Z"
   },
   {
    "duration": 631,
    "start_time": "2022-05-11T17:15:36.095Z"
   },
   {
    "duration": 748,
    "start_time": "2022-05-11T17:15:36.729Z"
   },
   {
    "duration": 198083,
    "start_time": "2022-05-11T17:15:37.479Z"
   },
   {
    "duration": 2043,
    "start_time": "2022-05-11T17:18:55.565Z"
   },
   {
    "duration": 5599,
    "start_time": "2022-05-11T17:18:57.612Z"
   },
   {
    "duration": 11,
    "start_time": "2022-05-11T17:19:03.214Z"
   },
   {
    "duration": 6,
    "start_time": "2022-05-11T17:30:47.558Z"
   },
   {
    "duration": 33,
    "start_time": "2022-05-11T17:30:58.973Z"
   },
   {
    "duration": 68,
    "start_time": "2022-05-11T17:35:52.944Z"
   },
   {
    "duration": 518,
    "start_time": "2022-05-11T17:35:54.790Z"
   },
   {
    "duration": 1831,
    "start_time": "2022-05-11T17:37:07.883Z"
   },
   {
    "duration": 2898,
    "start_time": "2022-05-11T17:38:37.589Z"
   },
   {
    "duration": 5643,
    "start_time": "2022-05-11T17:39:45.586Z"
   },
   {
    "duration": 3166,
    "start_time": "2022-05-11T17:40:22.023Z"
   },
   {
    "duration": 6357,
    "start_time": "2022-05-11T17:50:32.606Z"
   },
   {
    "duration": 111,
    "start_time": "2022-05-11T17:50:38.966Z"
   },
   {
    "duration": 5,
    "start_time": "2022-05-11T17:50:39.079Z"
   },
   {
    "duration": 142,
    "start_time": "2022-05-11T17:50:39.086Z"
   },
   {
    "duration": 5,
    "start_time": "2022-05-11T17:50:39.233Z"
   },
   {
    "duration": 32,
    "start_time": "2022-05-11T17:50:39.240Z"
   },
   {
    "duration": 2760,
    "start_time": "2022-05-11T17:50:39.274Z"
   },
   {
    "duration": 2301,
    "start_time": "2022-05-11T17:50:42.036Z"
   },
   {
    "duration": 5,
    "start_time": "2022-05-11T17:50:44.340Z"
   },
   {
    "duration": 58,
    "start_time": "2022-05-11T17:50:44.347Z"
   },
   {
    "duration": 724,
    "start_time": "2022-05-11T17:50:44.408Z"
   },
   {
    "duration": 927,
    "start_time": "2022-05-11T17:50:45.135Z"
   },
   {
    "duration": 171392,
    "start_time": "2022-05-11T17:50:46.065Z"
   },
   {
    "duration": 1860,
    "start_time": "2022-05-11T17:53:37.461Z"
   },
   {
    "duration": 2551,
    "start_time": "2022-05-11T17:53:39.323Z"
   },
   {
    "duration": 22,
    "start_time": "2022-05-11T17:53:41.876Z"
   },
   {
    "duration": 1262,
    "start_time": "2022-05-11T18:02:25.957Z"
   },
   {
    "duration": 1471,
    "start_time": "2022-05-11T18:02:39.840Z"
   },
   {
    "duration": 8408,
    "start_time": "2022-05-11T18:11:55.130Z"
   },
   {
    "duration": 134,
    "start_time": "2022-05-11T18:12:03.542Z"
   },
   {
    "duration": 6,
    "start_time": "2022-05-11T18:12:03.679Z"
   },
   {
    "duration": 161,
    "start_time": "2022-05-11T18:12:03.689Z"
   },
   {
    "duration": 5,
    "start_time": "2022-05-11T18:12:03.853Z"
   },
   {
    "duration": 38,
    "start_time": "2022-05-11T18:12:03.861Z"
   },
   {
    "duration": 2654,
    "start_time": "2022-05-11T18:12:03.901Z"
   },
   {
    "duration": 3037,
    "start_time": "2022-05-11T18:12:06.557Z"
   },
   {
    "duration": 5,
    "start_time": "2022-05-11T18:12:09.596Z"
   },
   {
    "duration": 190,
    "start_time": "2022-05-11T18:12:09.604Z"
   },
   {
    "duration": 513,
    "start_time": "2022-05-11T18:12:09.796Z"
   },
   {
    "duration": 773,
    "start_time": "2022-05-11T18:12:10.312Z"
   },
   {
    "duration": 178253,
    "start_time": "2022-05-11T18:12:11.087Z"
   },
   {
    "duration": 1796,
    "start_time": "2022-05-11T18:15:09.342Z"
   },
   {
    "duration": 3181,
    "start_time": "2022-05-11T18:15:11.140Z"
   },
   {
    "duration": 11,
    "start_time": "2022-05-11T18:15:14.323Z"
   },
   {
    "duration": 3425,
    "start_time": "2022-05-11T18:16:03.120Z"
   },
   {
    "duration": 2698,
    "start_time": "2022-05-11T18:17:07.505Z"
   },
   {
    "duration": 2633,
    "start_time": "2022-05-11T18:17:42.746Z"
   },
   {
    "duration": 3194,
    "start_time": "2022-05-11T18:18:06.177Z"
   },
   {
    "duration": 2983,
    "start_time": "2022-05-11T18:18:55.639Z"
   },
   {
    "duration": 3200,
    "start_time": "2022-05-11T18:19:12.183Z"
   },
   {
    "duration": 2972,
    "start_time": "2022-05-11T18:20:09.790Z"
   },
   {
    "duration": 521,
    "start_time": "2022-05-11T18:21:26.371Z"
   },
   {
    "duration": 209,
    "start_time": "2022-05-11T18:21:36.355Z"
   },
   {
    "duration": 207,
    "start_time": "2022-05-11T18:21:57.967Z"
   },
   {
    "duration": 330,
    "start_time": "2022-05-11T18:22:02.353Z"
   },
   {
    "duration": 210,
    "start_time": "2022-05-11T18:22:23.140Z"
   },
   {
    "duration": 2929,
    "start_time": "2022-05-11T18:22:31.543Z"
   },
   {
    "duration": 3223,
    "start_time": "2022-05-11T18:22:54.664Z"
   },
   {
    "duration": 195,
    "start_time": "2022-05-11T18:23:49.336Z"
   },
   {
    "duration": 2725,
    "start_time": "2022-05-11T18:23:55.744Z"
   },
   {
    "duration": 1675,
    "start_time": "2022-05-11T18:27:47.665Z"
   },
   {
    "duration": 1197,
    "start_time": "2022-05-11T18:28:26.214Z"
   },
   {
    "duration": 6220,
    "start_time": "2022-05-11T18:33:30.873Z"
   },
   {
    "duration": 27,
    "start_time": "2022-05-11T18:33:37.096Z"
   },
   {
    "duration": 4,
    "start_time": "2022-05-11T18:33:37.126Z"
   },
   {
    "duration": 106,
    "start_time": "2022-05-11T18:33:37.133Z"
   },
   {
    "duration": 4,
    "start_time": "2022-05-11T18:33:37.241Z"
   },
   {
    "duration": 22,
    "start_time": "2022-05-11T18:33:37.247Z"
   },
   {
    "duration": 3036,
    "start_time": "2022-05-11T18:33:37.293Z"
   },
   {
    "duration": 2253,
    "start_time": "2022-05-11T18:33:40.332Z"
   },
   {
    "duration": 5,
    "start_time": "2022-05-11T18:33:42.588Z"
   },
   {
    "duration": 106,
    "start_time": "2022-05-11T18:33:42.596Z"
   },
   {
    "duration": 617,
    "start_time": "2022-05-11T18:33:42.705Z"
   },
   {
    "duration": 1132,
    "start_time": "2022-05-11T18:33:43.325Z"
   },
   {
    "duration": 171852,
    "start_time": "2022-05-11T18:33:44.459Z"
   },
   {
    "duration": 1923,
    "start_time": "2022-05-11T18:36:36.314Z"
   },
   {
    "duration": 2794,
    "start_time": "2022-05-11T18:36:38.240Z"
   },
   {
    "duration": 11,
    "start_time": "2022-05-11T18:36:41.036Z"
   },
   {
    "duration": 5207,
    "start_time": "2022-05-12T13:15:23.089Z"
   },
   {
    "duration": 29,
    "start_time": "2022-05-12T13:15:28.298Z"
   },
   {
    "duration": 4,
    "start_time": "2022-05-12T13:15:28.329Z"
   },
   {
    "duration": 71,
    "start_time": "2022-05-12T13:15:28.335Z"
   },
   {
    "duration": 3,
    "start_time": "2022-05-12T13:15:28.408Z"
   },
   {
    "duration": 19,
    "start_time": "2022-05-12T13:15:28.413Z"
   },
   {
    "duration": 1782,
    "start_time": "2022-05-12T13:15:28.444Z"
   },
   {
    "duration": 1604,
    "start_time": "2022-05-12T13:15:30.227Z"
   },
   {
    "duration": 12,
    "start_time": "2022-05-12T13:15:31.833Z"
   },
   {
    "duration": 101,
    "start_time": "2022-05-12T13:15:31.847Z"
   },
   {
    "duration": 494,
    "start_time": "2022-05-12T13:15:31.951Z"
   },
   {
    "duration": 627,
    "start_time": "2022-05-12T13:15:32.447Z"
   },
   {
    "duration": 109635,
    "start_time": "2022-05-12T13:15:33.076Z"
   },
   {
    "duration": 1454,
    "start_time": "2022-05-12T13:17:22.714Z"
   },
   {
    "duration": 1600,
    "start_time": "2022-05-12T13:17:24.171Z"
   },
   {
    "duration": 8,
    "start_time": "2022-05-12T13:17:25.773Z"
   },
   {
    "duration": 119,
    "start_time": "2022-05-12T19:41:41.051Z"
   },
   {
    "duration": 8153,
    "start_time": "2022-05-12T19:41:47.555Z"
   },
   {
    "duration": 23,
    "start_time": "2022-05-12T19:41:55.712Z"
   },
   {
    "duration": 6,
    "start_time": "2022-05-12T19:41:55.740Z"
   },
   {
    "duration": 177,
    "start_time": "2022-05-12T19:41:55.750Z"
   },
   {
    "duration": 5,
    "start_time": "2022-05-12T19:41:55.930Z"
   },
   {
    "duration": 53,
    "start_time": "2022-05-12T19:41:55.939Z"
   },
   {
    "duration": 5889,
    "start_time": "2022-05-12T19:41:55.995Z"
   },
   {
    "duration": 2376,
    "start_time": "2022-05-12T19:42:01.887Z"
   },
   {
    "duration": 7,
    "start_time": "2022-05-12T19:42:04.266Z"
   },
   {
    "duration": 67,
    "start_time": "2022-05-12T19:42:04.279Z"
   },
   {
    "duration": 756,
    "start_time": "2022-05-12T19:42:04.348Z"
   },
   {
    "duration": 901,
    "start_time": "2022-05-12T19:42:05.107Z"
   },
   {
    "duration": 6688,
    "start_time": "2022-05-12T19:42:31.515Z"
   },
   {
    "duration": 25,
    "start_time": "2022-05-12T19:42:38.206Z"
   },
   {
    "duration": 9,
    "start_time": "2022-05-12T19:42:38.234Z"
   },
   {
    "duration": 144,
    "start_time": "2022-05-12T19:42:38.247Z"
   },
   {
    "duration": 6,
    "start_time": "2022-05-12T19:42:38.393Z"
   },
   {
    "duration": 29,
    "start_time": "2022-05-12T19:42:38.402Z"
   },
   {
    "duration": 7400,
    "start_time": "2022-05-12T19:43:36.811Z"
   },
   {
    "duration": 29,
    "start_time": "2022-05-12T19:43:44.214Z"
   },
   {
    "duration": 9,
    "start_time": "2022-05-12T19:43:44.246Z"
   },
   {
    "duration": 159,
    "start_time": "2022-05-12T19:43:44.260Z"
   },
   {
    "duration": 5,
    "start_time": "2022-05-12T19:43:44.422Z"
   },
   {
    "duration": 36,
    "start_time": "2022-05-12T19:43:44.431Z"
   },
   {
    "duration": 7777,
    "start_time": "2022-05-12T19:43:44.470Z"
   },
   {
    "duration": 6805,
    "start_time": "2022-05-12T19:50:39.589Z"
   },
   {
    "duration": 7762,
    "start_time": "2022-05-12T19:53:22.167Z"
   },
   {
    "duration": 542,
    "start_time": "2022-05-12T19:53:51.908Z"
   },
   {
    "duration": 7595,
    "start_time": "2022-05-12T19:54:06.901Z"
   },
   {
    "duration": 7566,
    "start_time": "2022-05-12T19:55:01.312Z"
   },
   {
    "duration": 326,
    "start_time": "2022-05-12T19:59:08.462Z"
   },
   {
    "duration": 3185,
    "start_time": "2022-05-12T19:59:20.651Z"
   },
   {
    "duration": 7041,
    "start_time": "2022-05-12T20:00:58.814Z"
   },
   {
    "duration": 91,
    "start_time": "2022-05-12T20:01:05.859Z"
   },
   {
    "duration": 5,
    "start_time": "2022-05-12T20:01:05.952Z"
   },
   {
    "duration": 156,
    "start_time": "2022-05-12T20:01:05.961Z"
   },
   {
    "duration": 8,
    "start_time": "2022-05-12T20:01:06.125Z"
   },
   {
    "duration": 25,
    "start_time": "2022-05-12T20:01:06.138Z"
   },
   {
    "duration": 4596,
    "start_time": "2022-05-15T07:29:49.555Z"
   },
   {
    "duration": 30,
    "start_time": "2022-05-15T07:29:54.153Z"
   },
   {
    "duration": 4,
    "start_time": "2022-05-15T07:29:54.185Z"
   },
   {
    "duration": 66,
    "start_time": "2022-05-15T07:29:54.191Z"
   },
   {
    "duration": 3,
    "start_time": "2022-05-15T07:29:54.258Z"
   },
   {
    "duration": 16,
    "start_time": "2022-05-15T07:29:54.262Z"
   },
   {
    "duration": 3821,
    "start_time": "2022-05-15T07:31:02.120Z"
   },
   {
    "duration": 18,
    "start_time": "2022-05-15T07:31:05.943Z"
   },
   {
    "duration": 3,
    "start_time": "2022-05-15T07:31:05.963Z"
   },
   {
    "duration": 80,
    "start_time": "2022-05-15T07:31:05.968Z"
   },
   {
    "duration": 3,
    "start_time": "2022-05-15T07:31:06.049Z"
   },
   {
    "duration": 15,
    "start_time": "2022-05-15T07:31:06.054Z"
   },
   {
    "duration": 81,
    "start_time": "2022-05-15T07:31:06.070Z"
   },
   {
    "duration": 0,
    "start_time": "2022-05-15T07:31:06.153Z"
   },
   {
    "duration": 0,
    "start_time": "2022-05-15T07:31:06.154Z"
   },
   {
    "duration": 0,
    "start_time": "2022-05-15T07:31:06.155Z"
   },
   {
    "duration": 0,
    "start_time": "2022-05-15T07:31:06.156Z"
   },
   {
    "duration": 0,
    "start_time": "2022-05-15T07:31:06.157Z"
   },
   {
    "duration": 0,
    "start_time": "2022-05-15T07:31:06.158Z"
   },
   {
    "duration": 0,
    "start_time": "2022-05-15T07:31:06.159Z"
   },
   {
    "duration": 0,
    "start_time": "2022-05-15T07:31:06.160Z"
   },
   {
    "duration": 0,
    "start_time": "2022-05-15T07:31:06.161Z"
   },
   {
    "duration": 0,
    "start_time": "2022-05-15T07:31:06.162Z"
   },
   {
    "duration": 3449,
    "start_time": "2022-05-15T07:31:19.945Z"
   },
   {
    "duration": 226409,
    "start_time": "2022-05-15T07:31:33.600Z"
   },
   {
    "duration": 3141,
    "start_time": "2022-05-15T07:38:53.828Z"
   },
   {
    "duration": 1756,
    "start_time": "2022-05-15T07:54:02.303Z"
   },
   {
    "duration": 1833,
    "start_time": "2022-05-15T07:54:19.397Z"
   },
   {
    "duration": 3737,
    "start_time": "2022-05-15T07:54:33.853Z"
   },
   {
    "duration": 22,
    "start_time": "2022-05-15T07:54:37.592Z"
   },
   {
    "duration": 3,
    "start_time": "2022-05-15T07:54:37.616Z"
   },
   {
    "duration": 72,
    "start_time": "2022-05-15T07:54:37.621Z"
   },
   {
    "duration": 12,
    "start_time": "2022-05-15T07:54:37.695Z"
   },
   {
    "duration": 13,
    "start_time": "2022-05-15T07:54:37.709Z"
   },
   {
    "duration": 3317,
    "start_time": "2022-05-15T07:54:37.724Z"
   },
   {
    "duration": 1522,
    "start_time": "2022-05-15T07:54:41.042Z"
   },
   {
    "duration": 4,
    "start_time": "2022-05-15T07:54:42.565Z"
   },
   {
    "duration": 38,
    "start_time": "2022-05-15T07:54:42.570Z"
   },
   {
    "duration": 578,
    "start_time": "2022-05-15T07:54:42.611Z"
   },
   {
    "duration": 584,
    "start_time": "2022-05-15T07:54:43.190Z"
   },
   {
    "duration": 112415,
    "start_time": "2022-05-15T07:54:43.777Z"
   },
   {
    "duration": 1734,
    "start_time": "2022-05-15T07:56:36.194Z"
   },
   {
    "duration": 450,
    "start_time": "2022-05-15T07:56:37.930Z"
   },
   {
    "duration": 0,
    "start_time": "2022-05-15T07:56:38.381Z"
   },
   {
    "duration": 0,
    "start_time": "2022-05-15T07:56:38.382Z"
   },
   {
    "duration": 5494,
    "start_time": "2022-05-15T07:58:53.475Z"
   },
   {
    "duration": 5589,
    "start_time": "2022-05-15T08:00:52.053Z"
   },
   {
    "duration": 5969,
    "start_time": "2022-05-15T08:01:02.248Z"
   },
   {
    "duration": 5607,
    "start_time": "2022-05-15T08:02:39.986Z"
   },
   {
    "duration": 5769,
    "start_time": "2022-05-15T08:02:52.057Z"
   },
   {
    "duration": 5798,
    "start_time": "2022-05-15T08:03:48.849Z"
   },
   {
    "duration": 59,
    "start_time": "2022-05-15T08:10:34.806Z"
   },
   {
    "duration": 63,
    "start_time": "2022-05-15T08:10:50.444Z"
   },
   {
    "duration": 5630,
    "start_time": "2022-05-15T08:10:52.738Z"
   },
   {
    "duration": 19,
    "start_time": "2022-05-15T08:12:27.270Z"
   },
   {
    "duration": 5559,
    "start_time": "2022-05-15T08:12:57.045Z"
   },
   {
    "duration": 5961,
    "start_time": "2022-05-15T08:13:07.301Z"
   },
   {
    "duration": 6599,
    "start_time": "2022-05-15T08:18:11.962Z"
   },
   {
    "duration": 5935,
    "start_time": "2022-05-15T08:18:35.895Z"
   },
   {
    "duration": 5628,
    "start_time": "2022-05-15T08:18:45.622Z"
   },
   {
    "duration": 5607,
    "start_time": "2022-05-15T08:18:52.781Z"
   },
   {
    "duration": 5668,
    "start_time": "2022-05-15T08:19:03.067Z"
   },
   {
    "duration": 5911,
    "start_time": "2022-05-15T08:19:13.228Z"
   },
   {
    "duration": 5570,
    "start_time": "2022-05-15T08:19:27.734Z"
   },
   {
    "duration": 6170,
    "start_time": "2022-05-15T08:20:13.662Z"
   },
   {
    "duration": 5788,
    "start_time": "2022-05-15T08:20:27.319Z"
   },
   {
    "duration": 10,
    "start_time": "2022-05-15T08:24:24.292Z"
   },
   {
    "duration": 5877,
    "start_time": "2022-05-15T08:27:34.818Z"
   },
   {
    "duration": 6066,
    "start_time": "2022-05-15T08:28:17.202Z"
   },
   {
    "duration": 6126,
    "start_time": "2022-05-15T09:03:12.278Z"
   },
   {
    "duration": 144,
    "start_time": "2022-05-15T09:04:52.104Z"
   },
   {
    "duration": 5778,
    "start_time": "2022-05-15T09:04:56.676Z"
   },
   {
    "duration": 5432,
    "start_time": "2022-05-15T09:22:22.776Z"
   },
   {
    "duration": 17,
    "start_time": "2022-05-15T09:22:28.210Z"
   },
   {
    "duration": 5,
    "start_time": "2022-05-15T09:22:28.228Z"
   },
   {
    "duration": 81,
    "start_time": "2022-05-15T09:22:28.235Z"
   },
   {
    "duration": 3,
    "start_time": "2022-05-15T09:22:28.318Z"
   },
   {
    "duration": 15,
    "start_time": "2022-05-15T09:22:28.322Z"
   },
   {
    "duration": 3536,
    "start_time": "2022-05-15T09:22:28.339Z"
   },
   {
    "duration": 1620,
    "start_time": "2022-05-15T09:22:31.876Z"
   },
   {
    "duration": 4,
    "start_time": "2022-05-15T09:22:33.497Z"
   },
   {
    "duration": 111,
    "start_time": "2022-05-15T09:22:33.504Z"
   },
   {
    "duration": 505,
    "start_time": "2022-05-15T09:22:33.617Z"
   },
   {
    "duration": 576,
    "start_time": "2022-05-15T09:22:34.124Z"
   },
   {
    "duration": 114917,
    "start_time": "2022-05-15T09:22:34.702Z"
   },
   {
    "duration": 1811,
    "start_time": "2022-05-15T09:24:29.620Z"
   },
   {
    "duration": 5831,
    "start_time": "2022-05-15T09:24:31.433Z"
   },
   {
    "duration": 8,
    "start_time": "2022-05-15T09:24:37.266Z"
   }
  ],
  "kernelspec": {
   "display_name": "Python 3 (ipykernel)",
   "language": "python",
   "name": "python3"
  },
  "language_info": {
   "codemirror_mode": {
    "name": "ipython",
    "version": 3
   },
   "file_extension": ".py",
   "mimetype": "text/x-python",
   "name": "python",
   "nbconvert_exporter": "python",
   "pygments_lexer": "ipython3",
   "version": "3.9.5"
  },
  "toc": {
   "base_numbering": 1,
   "nav_menu": {},
   "number_sections": true,
   "sideBar": true,
   "skip_h1_title": true,
   "title_cell": "Table of Contents",
   "title_sidebar": "Contents",
   "toc_cell": false,
   "toc_position": {},
   "toc_section_display": true,
   "toc_window_display": false
  }
 },
 "nbformat": 4,
 "nbformat_minor": 2
}
